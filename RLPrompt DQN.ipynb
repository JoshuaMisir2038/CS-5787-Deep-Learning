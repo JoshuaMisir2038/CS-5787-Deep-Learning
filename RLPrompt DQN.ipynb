{
 "cells": [
  {
   "cell_type": "code",
   "execution_count": 1,
   "metadata": {
    "colab": {
     "base_uri": "https://localhost:8080/"
    },
    "id": "UoDJ-uYIO6b3",
    "outputId": "4832a483-daba-458d-e285-87ac012566dc"
   },
   "outputs": [
    {
     "name": "stdout",
     "output_type": "stream",
     "text": [
      "Requirement already satisfied: transformers in /Library/Frameworks/Python.framework/Versions/3.9/lib/python3.9/site-packages (4.14.1)\n",
      "Requirement already satisfied: packaging>=20.0 in /Library/Frameworks/Python.framework/Versions/3.9/lib/python3.9/site-packages (from transformers) (22.0)\n",
      "Requirement already satisfied: numpy>=1.17 in /Library/Frameworks/Python.framework/Versions/3.9/lib/python3.9/site-packages (from transformers) (1.23.5)\n",
      "Requirement already satisfied: tokenizers<0.11,>=0.10.1 in /Library/Frameworks/Python.framework/Versions/3.9/lib/python3.9/site-packages (from transformers) (0.10.3)\n",
      "Requirement already satisfied: regex!=2019.12.17 in /Library/Frameworks/Python.framework/Versions/3.9/lib/python3.9/site-packages (from transformers) (2022.10.31)\n",
      "Requirement already satisfied: filelock in /Library/Frameworks/Python.framework/Versions/3.9/lib/python3.9/site-packages (from transformers) (3.8.2)\n",
      "Requirement already satisfied: huggingface-hub<1.0,>=0.1.0 in /Library/Frameworks/Python.framework/Versions/3.9/lib/python3.9/site-packages (from transformers) (0.11.1)\n",
      "Requirement already satisfied: pyyaml>=5.1 in /Library/Frameworks/Python.framework/Versions/3.9/lib/python3.9/site-packages (from transformers) (6.0)\n",
      "Requirement already satisfied: sacremoses in /Library/Frameworks/Python.framework/Versions/3.9/lib/python3.9/site-packages (from transformers) (0.0.53)\n",
      "Requirement already satisfied: requests in /Library/Frameworks/Python.framework/Versions/3.9/lib/python3.9/site-packages (from transformers) (2.28.1)\n",
      "Requirement already satisfied: tqdm>=4.27 in /Library/Frameworks/Python.framework/Versions/3.9/lib/python3.9/site-packages (from transformers) (4.64.1)\n",
      "Requirement already satisfied: typing-extensions>=3.7.4.3 in /Library/Frameworks/Python.framework/Versions/3.9/lib/python3.9/site-packages (from huggingface-hub<1.0,>=0.1.0->transformers) (4.4.0)\n",
      "Requirement already satisfied: charset-normalizer<3,>=2 in /Library/Frameworks/Python.framework/Versions/3.9/lib/python3.9/site-packages (from requests->transformers) (2.1.1)\n",
      "Requirement already satisfied: urllib3<1.27,>=1.21.1 in /Library/Frameworks/Python.framework/Versions/3.9/lib/python3.9/site-packages (from requests->transformers) (1.26.13)\n",
      "Requirement already satisfied: certifi>=2017.4.17 in /Library/Frameworks/Python.framework/Versions/3.9/lib/python3.9/site-packages (from requests->transformers) (2022.12.7)\n",
      "Requirement already satisfied: idna<4,>=2.5 in /Library/Frameworks/Python.framework/Versions/3.9/lib/python3.9/site-packages (from requests->transformers) (3.4)\n",
      "Requirement already satisfied: six in /Library/Frameworks/Python.framework/Versions/3.9/lib/python3.9/site-packages (from sacremoses->transformers) (1.16.0)\n",
      "Requirement already satisfied: click in /Library/Frameworks/Python.framework/Versions/3.9/lib/python3.9/site-packages (from sacremoses->transformers) (8.1.3)\n",
      "Requirement already satisfied: joblib in /Library/Frameworks/Python.framework/Versions/3.9/lib/python3.9/site-packages (from sacremoses->transformers) (1.2.0)\n",
      "\n",
      "\u001b[1m[\u001b[0m\u001b[34;49mnotice\u001b[0m\u001b[1;39;49m]\u001b[0m\u001b[39;49m A new release of pip is available: \u001b[0m\u001b[31;49m23.0.1\u001b[0m\u001b[39;49m -> \u001b[0m\u001b[32;49m23.1.2\u001b[0m\n",
      "\u001b[1m[\u001b[0m\u001b[34;49mnotice\u001b[0m\u001b[1;39;49m]\u001b[0m\u001b[39;49m To update, run: \u001b[0m\u001b[32;49mpip install --upgrade pip\u001b[0m\n",
      "Requirement already satisfied: datasets in /Library/Frameworks/Python.framework/Versions/3.9/lib/python3.9/site-packages (2.10.1)\n",
      "Requirement already satisfied: pyyaml>=5.1 in /Library/Frameworks/Python.framework/Versions/3.9/lib/python3.9/site-packages (from datasets) (6.0)\n",
      "Requirement already satisfied: packaging in /Library/Frameworks/Python.framework/Versions/3.9/lib/python3.9/site-packages (from datasets) (22.0)\n",
      "Requirement already satisfied: numpy>=1.17 in /Library/Frameworks/Python.framework/Versions/3.9/lib/python3.9/site-packages (from datasets) (1.23.5)\n",
      "Requirement already satisfied: fsspec[http]>=2021.11.1 in /Library/Frameworks/Python.framework/Versions/3.9/lib/python3.9/site-packages (from datasets) (2022.11.0)\n",
      "Requirement already satisfied: aiohttp in /Library/Frameworks/Python.framework/Versions/3.9/lib/python3.9/site-packages (from datasets) (3.8.3)\n",
      "Requirement already satisfied: huggingface-hub<1.0.0,>=0.2.0 in /Library/Frameworks/Python.framework/Versions/3.9/lib/python3.9/site-packages (from datasets) (0.11.1)\n",
      "Requirement already satisfied: xxhash in /Library/Frameworks/Python.framework/Versions/3.9/lib/python3.9/site-packages (from datasets) (3.2.0)\n",
      "Requirement already satisfied: responses<0.19 in /Library/Frameworks/Python.framework/Versions/3.9/lib/python3.9/site-packages (from datasets) (0.18.0)\n",
      "Requirement already satisfied: multiprocess in /Library/Frameworks/Python.framework/Versions/3.9/lib/python3.9/site-packages (from datasets) (0.70.14)\n",
      "Requirement already satisfied: pyarrow>=6.0.0 in /Library/Frameworks/Python.framework/Versions/3.9/lib/python3.9/site-packages (from datasets) (11.0.0)\n",
      "Requirement already satisfied: requests>=2.19.0 in /Library/Frameworks/Python.framework/Versions/3.9/lib/python3.9/site-packages (from datasets) (2.28.1)\n",
      "Requirement already satisfied: dill<0.3.7,>=0.3.0 in /Library/Frameworks/Python.framework/Versions/3.9/lib/python3.9/site-packages (from datasets) (0.3.6)\n",
      "Requirement already satisfied: tqdm>=4.62.1 in /Library/Frameworks/Python.framework/Versions/3.9/lib/python3.9/site-packages (from datasets) (4.64.1)\n",
      "Requirement already satisfied: pandas in /Library/Frameworks/Python.framework/Versions/3.9/lib/python3.9/site-packages (from datasets) (1.5.2)\n",
      "Requirement already satisfied: yarl<2.0,>=1.0 in /Library/Frameworks/Python.framework/Versions/3.9/lib/python3.9/site-packages (from aiohttp->datasets) (1.8.2)\n",
      "Requirement already satisfied: charset-normalizer<3.0,>=2.0 in /Library/Frameworks/Python.framework/Versions/3.9/lib/python3.9/site-packages (from aiohttp->datasets) (2.1.1)\n",
      "Requirement already satisfied: frozenlist>=1.1.1 in /Library/Frameworks/Python.framework/Versions/3.9/lib/python3.9/site-packages (from aiohttp->datasets) (1.3.3)\n",
      "Requirement already satisfied: attrs>=17.3.0 in /Library/Frameworks/Python.framework/Versions/3.9/lib/python3.9/site-packages (from aiohttp->datasets) (22.2.0)\n",
      "Requirement already satisfied: multidict<7.0,>=4.5 in /Library/Frameworks/Python.framework/Versions/3.9/lib/python3.9/site-packages (from aiohttp->datasets) (6.0.3)\n",
      "Requirement already satisfied: async-timeout<5.0,>=4.0.0a3 in /Library/Frameworks/Python.framework/Versions/3.9/lib/python3.9/site-packages (from aiohttp->datasets) (4.0.2)\n",
      "Requirement already satisfied: aiosignal>=1.1.2 in /Library/Frameworks/Python.framework/Versions/3.9/lib/python3.9/site-packages (from aiohttp->datasets) (1.3.1)\n",
      "Requirement already satisfied: filelock in /Library/Frameworks/Python.framework/Versions/3.9/lib/python3.9/site-packages (from huggingface-hub<1.0.0,>=0.2.0->datasets) (3.8.2)\n",
      "Requirement already satisfied: typing-extensions>=3.7.4.3 in /Library/Frameworks/Python.framework/Versions/3.9/lib/python3.9/site-packages (from huggingface-hub<1.0.0,>=0.2.0->datasets) (4.4.0)\n",
      "Requirement already satisfied: idna<4,>=2.5 in /Library/Frameworks/Python.framework/Versions/3.9/lib/python3.9/site-packages (from requests>=2.19.0->datasets) (3.4)\n",
      "Requirement already satisfied: certifi>=2017.4.17 in /Library/Frameworks/Python.framework/Versions/3.9/lib/python3.9/site-packages (from requests>=2.19.0->datasets) (2022.12.7)\n",
      "Requirement already satisfied: urllib3<1.27,>=1.21.1 in /Library/Frameworks/Python.framework/Versions/3.9/lib/python3.9/site-packages (from requests>=2.19.0->datasets) (1.26.13)\n",
      "Requirement already satisfied: python-dateutil>=2.8.1 in /Library/Frameworks/Python.framework/Versions/3.9/lib/python3.9/site-packages (from pandas->datasets) (2.8.2)\n",
      "Requirement already satisfied: pytz>=2020.1 in /Library/Frameworks/Python.framework/Versions/3.9/lib/python3.9/site-packages (from pandas->datasets) (2022.7)\n",
      "Requirement already satisfied: six>=1.5 in /Library/Frameworks/Python.framework/Versions/3.9/lib/python3.9/site-packages (from python-dateutil>=2.8.1->pandas->datasets) (1.16.0)\n",
      "\n",
      "\u001b[1m[\u001b[0m\u001b[34;49mnotice\u001b[0m\u001b[1;39;49m]\u001b[0m\u001b[39;49m A new release of pip is available: \u001b[0m\u001b[31;49m23.0.1\u001b[0m\u001b[39;49m -> \u001b[0m\u001b[32;49m23.1.2\u001b[0m\n",
      "\u001b[1m[\u001b[0m\u001b[34;49mnotice\u001b[0m\u001b[1;39;49m]\u001b[0m\u001b[39;49m To update, run: \u001b[0m\u001b[32;49mpip install --upgrade pip\u001b[0m\n"
     ]
    }
   ],
   "source": [
    "!pip install transformers\n",
    "!pip install datasets"
   ]
  },
  {
   "cell_type": "markdown",
   "metadata": {
    "id": "tysT1FOkaVv8"
   },
   "source": []
  },
  {
   "cell_type": "code",
   "execution_count": 1,
   "metadata": {
    "id": "uKZOIafaaV81"
   },
   "outputs": [],
   "source": [
    "import torch.nn as nn\n",
    "import torch\n",
    "from transformers import pipeline, set_seed\n",
    "from transformers import GPT2Tokenizer\n",
    "\n",
    "\n",
    "class MLP(nn.Module):\n",
    "    ## multi layer perceptron thats inserted into distilgpt2\n",
    "    ## function is simple, its 2 linear layers that take the output of the transformer in distilgpt2 and it learns to steer the text into making better prompts\n",
    "    ## however, we only want to update parameters for the 2 linear layers, not the rest, hence the requires grad being set to false\n",
    "    ## output of the lm_head in this case is our Q value\n",
    "    ## lm_head outputs 50k size tensors, and it's argmax is the token that it represents (aka which word to pick out of the 50k vocab size)\n",
    "    ## according to the paper, this 50k size tensor also represents Q value since it decides which word to pick for our prompt\n",
    "    ## our 2 linear layers get fed in states aka the previous prompts that we've generated\n",
    "    ## they learn the appropriate Q value that the lm_head should output for the action of picking a word based on current reward and discounted max future reward (aka the target)\n",
    "    def __init__(self):\n",
    "        super().__init__()\n",
    "        self.lm_pipeline = pipeline('text-generation', model='distilgpt2')\n",
    "        self.policy = nn.Sequential(\n",
    "            nn.Linear(768, 2048),\n",
    "            nn.ReLU(),\n",
    "            nn.Linear(2048, 768),\n",
    "            # nn.ReLU(),\n",
    "        )\n",
    "        def _init_weights(m):\n",
    "            if isinstance(m, nn.Linear):\n",
    "                nn.init.xavier_uniform_(m.weight, gain=0.0001)\n",
    "                m.bias.data.fill_(-0.0001)\n",
    "        self.policy.apply(_init_weights)\n",
    "        self.lm_pipeline.model.lm_head.requires_grad_(False)\n",
    "        self.lm_pipeline.model.transformer.requires_grad_(False)\n",
    "        self.lm_pipeline.model.lm_head = self.lm_pipeline.model.lm_head.to('mps')\n",
    "        self.lm_pipeline.model.transformer = self.lm_pipeline.model.transformer.to('mps')\n",
    "        self.tokenizer = GPT2Tokenizer.from_pretrained('distilgpt2', truncation_side = 'left')\n",
    "        self.tokenizer.pad_token = self.tokenizer.eos_token\n",
    "        self.lm_pipeline.model.train()\n",
    "    def forward(self, x):\n",
    "        # assert(x.shape[1] == 768)\n",
    "        # print(x.shape)\n",
    "        x = self.policy(x)\n",
    "        return self.lm_pipeline.model.lm_head(x)\n",
    "    def truncate(self, x):\n",
    "        arr1 = []\n",
    "        arr2 = []\n",
    "        for i in x:\n",
    "            token = self.tokenizer([i], return_tensors = 'pt')\n",
    "            inp = token['input_ids'][0,-3:]\n",
    "#             print(inp.shape)\n",
    "            \n",
    "            masks = token['attention_mask'][0,-3:]\n",
    "#             print(masks.shape)\n",
    "            arr1.append(inp)\n",
    "            arr2.append(masks)\n",
    "        return {'input_ids':torch.cat(arr1).reshape(len(x),-1), 'attention_mask': torch.cat(arr2).reshape(len(x),-1)}\n",
    "            \n",
    "    def get_lm_output(self, x):\n",
    "        with torch.no_grad():\n",
    "          input = self.truncate(x)\n",
    "          for key, value in zip(input.keys(), input.values()):\n",
    "            input[key] = value.to('mps')\n",
    "#             print(\"key value\", value.shape)\n",
    "          return self.lm_pipeline.model.transformer(**input, use_cache=True).last_hidden_state\n",
    "    def get_prompt(self, x):\n",
    "        # print(x.shape)\n",
    "        return  self.lm_pipeline.tokenizer.decode(x.softmax(-1).argmax(-1).reshape(1))\n",
    "    def get_prompt_greedy(self, x, epsilon):\n",
    "        # print(x.shape)\n",
    "        if torch.rand(1) < epsilon:\n",
    "            return  self.lm_pipeline.tokenizer.decode(torch.randint(0, x.shape[-1], (1,)))\n",
    "        return  self.lm_pipeline.tokenizer.decode(x.softmax(-1).argmax(-1).reshape(1))\n",
    "    def get_prompt_softmax_greedy(self, x):\n",
    "        # print(x.shape)\n",
    "        return  self.lm_pipeline.tokenizer.decode()\n",
    "    "
   ]
  },
  {
   "cell_type": "code",
   "execution_count": 2,
   "metadata": {
    "id": "NpGsnCcUaX2a"
   },
   "outputs": [],
   "source": [
    "from transformers import pipeline\n",
    "\n",
    "import torch\n",
    "\n",
    "\n",
    "class MLM():\n",
    "  ### Our masked LM model\n",
    "  ### no learning involved here, just try to get the reward for having it fill it with good vs bad\n",
    "  def __init__(self):\n",
    "   self.unmasker = pipeline('fill-mask', model='distilroberta-base')\n",
    "\n",
    "  def get_masked_word_class(self, input, prompt):\n",
    "    return self.unmasker(f'{input} {prompt} <mask>', targets = ['good', 'bad'])\n",
    "\n",
    "\n"
   ]
  },
  {
   "cell_type": "code",
   "execution_count": 15,
   "metadata": {
    "id": "p8XtdIkSadww"
   },
   "outputs": [],
   "source": [
    "\n",
    "import torch\n",
    "from tqdm import tqdm\n",
    "\n",
    "### we have states which represents words that we feed into the distilgpt to get better words/prompts\n",
    "### prompt at time t is a result of picking the action from the mlp that results in the highest reward\n",
    "### can be written as argmax(reward(MLP(states)), arg = prompt)\n",
    "### our loss/regression target is essentially reward+discount*max(Q(s_t+1, a'_t+1) for all a')\n",
    "### this technically isn't the softqlearner, and is generally unstable and produces sparse rewards and takes an extremely long time to train\n",
    "class QLearner():\n",
    "\n",
    "    def __init__(self):\n",
    "        self.mlm = MLM()\n",
    "        self.mlp = MLP().to('mps')\n",
    "        self.target = MLP().to('mps')\n",
    "#         self.target.load_state_dict(self.mlp.state_dict())\n",
    "        # torch.manual_seed(95)\n",
    "\n",
    "        self.last_state = 'this'\n",
    "        self.prompt_reward = [0]\n",
    "        self.max_reward = 0\n",
    "        self.optimizer = torch.optim.AdamW(self.mlp.parameters(), lr=1e-4)\n",
    "        self.accuracy = []\n",
    "        self.loss_ = []\n",
    "    def randomize(self, Q, epsilon): \n",
    "#         print(Q.shape)\n",
    "        r = torch.rand(1)\n",
    "        # print(Q.argmax(-1))\n",
    "        if r > epsilon:\n",
    "            index = torch.randint(0, Q.shape[-1], (1,))\n",
    "            m = 2*Q.max().item()\n",
    "            detached = Q.detach()\n",
    "            detached[:] = 0\n",
    "            detached[index] = m\n",
    "      # print(Q.argmax(-1))\n",
    "        return Q\n",
    "    # gets the actions for every state, and their Q values. actions in this case are the prompts\n",
    "    def get_actions_Q (self, last_state):\n",
    "        actions = []\n",
    "        Q = []\n",
    "        for i in range(5):\n",
    "          lm_output = self.mlp.get_lm_output([last_state]).to('mps') \n",
    "          Q_ = self.mlp(lm_output)\n",
    "          Q.append(Q_)\n",
    "          last_state = self.mlp.get_prompt(Q_)\n",
    "          actions.append(last_state)\n",
    "        if type(actions) == str:\n",
    "          actions = [actions]\n",
    "        return actions, torch.cat(Q), last_state\n",
    "\n",
    "    def get_actions_Q_target (self, last_state):\n",
    "        actions = []\n",
    "        Q = []\n",
    "        for i in range(5):\n",
    "          lm_output = self.target.get_lm_output([last_state]).to('mps') \n",
    "          Q_ = self.target(lm_output)\n",
    "          Q.append(Q_)\n",
    "          last_state = self.target.get_prompt(Q_)\n",
    "          actions.append(last_state)\n",
    "        if type(actions) == str:\n",
    "          actions = [actions]\n",
    "        return actions, torch.cat(Q), last_state\n",
    "\n",
    "\n",
    "    def get_actions_Q_input_specific (self, batch_input):\n",
    "        actions = []\n",
    "#         print(len(batch_input))\n",
    "        lm_output = self.mlp.get_lm_output(batch_input).to('mps') \n",
    "        Q_ = self.mlp(lm_output)\n",
    "#         print(Q_.shape)\n",
    "        Q_ = Q_[:,-1].reshape(Q_.shape[0], Q_.shape[-1]) #(16, 50k)\n",
    "        for i in range(Q_.shape[0]):\n",
    "          actions.append([self.mlp.get_prompt(Q_[i], .1)])\n",
    "        Q = [[self.randomize(Q_[i]).reshape(1, Q_.shape[-1])] for i in range(Q_.shape[0])]\n",
    "\n",
    "\n",
    "\n",
    "        for i in range(4):\n",
    "          lm_output = self.mlp.get_lm_output([ batch_input[j]+\"\".join(actions[j]) for j in range(len(actions))]).to('mps') \n",
    "          Q_ = self.mlp(lm_output)\n",
    "        \n",
    "          Q_ = Q_[:,-1].reshape(Q_.shape[0], Q_.shape[-1])\n",
    "          for j in range(Q_.shape[0]):\n",
    "            Q[j].append(self.randomize(Q_[j]).reshape(1, Q_.shape[-1]))\n",
    "          \n",
    "          for j in range(Q_.shape[0]):\n",
    "            actions[j].append(self.mlp.get_prompt(Q_[j]))\n",
    "        if type(actions) == str:\n",
    "          actions = [actions]\n",
    "        # print(Q)\n",
    "        # print(actions)\n",
    "        Q = [torch.cat(Q__).reshape(1,5,-1) for Q__ in Q]\n",
    "        # print(torch.cat(Q).shape)\n",
    "        return actions, torch.cat(Q)\n",
    "\n",
    "    def get_actions_Q_input_specific_target (self, batch_input):\n",
    "        actions = []\n",
    "\n",
    "        lm_output = self.target.get_lm_output(batch_input).to('mps') \n",
    "        Q_ = self.target(lm_output)\n",
    "        Q_ = Q_[:,-1].reshape(Q_.shape[0], Q_.shape[-1])\n",
    "        for i in range(Q_.shape[0]):\n",
    "          actions.append([self.mlp.get_prompt(Q_[i])])\n",
    "        Q = [[Q_[i].reshape(1, Q_.shape[-1])] for i in range(Q_.shape[0])]\n",
    "\n",
    "\n",
    "\n",
    "        for i in range(4):\n",
    "          lm_output = self.mlp.get_lm_output([batch_input[j]+\"\".join(actions[j]) for j in range(len(actions))]).to('mps') \n",
    "          Q_ = self.target(lm_output)\n",
    "          Q_ = Q_[:,-1].reshape(Q_.shape[0], Q_.shape[-1])\n",
    "          for j in range(Q_.shape[0]):\n",
    "            Q[j].append(Q_[j].reshape(1, Q_.shape[-1]))\n",
    "          \n",
    "          for j in range(Q_.shape[0]):\n",
    "            actions[j].append(self.mlp.get_prompt(Q_[j]))\n",
    "        if type(actions) == str:\n",
    "          actions = [actions]\n",
    "\n",
    "        Q = [torch.cat(Q__).reshape(1,5,-1) for Q__ in Q]\n",
    "        # for i in Q:\n",
    "        #   for j in i:\n",
    "        #     print(j.shape)\n",
    "        # print(torch.cat(Q).shape)\n",
    "        return actions, torch.cat(Q)\n",
    "\n",
    "    # to be updated but currently the reward is set to how many correct classifications can this model make\n",
    "    def get_reward(self, train_x, train_y, prompt):\n",
    "        reward = 0\n",
    "        count = 0\n",
    "        \n",
    "        for sentence, cls in zip(train_x, train_y):\n",
    "                word_cls = self.mlm.get_masked_word_class(sentence, prompt)\n",
    "#                 if (word_cls[0]['token_str'] == 'good' and cls == 1) or (word_cls[0]['token_str'] == 'bad' and cls == 0):\n",
    "#                     reward = \n",
    "#                 else:\n",
    "#                     incorrect +=1\n",
    "                if (word_cls[0]['token_str'] == 'good' and cls == 1) or (word_cls[0]['token_str'] == 'bad' and cls == 0):\n",
    "                    reward += word_cls[0]['score']- word_cls[1]['score']\n",
    "                else:\n",
    "                    reward += word_cls[1]['score']- word_cls[0]['score']\n",
    "                count +=1\n",
    "        return reward/count\n",
    "    def get_accuracy(self, train_x, train_y, prompt):\n",
    "        count = 0\n",
    "        accurate = 0\n",
    "        for sentence, cls in zip(train_x, train_y):\n",
    "                word_cls = self.mlm.get_masked_word_class(sentence, prompt)\n",
    "#                 if (word_cls[0]['token_str'] == 'good' and cls == 1) or (word_cls[0]['token_str'] == 'bad' and cls == 0):\n",
    "#                     reward = \n",
    "#                 else:\n",
    "#                     incorrect +=1\n",
    "                if (word_cls[0]['token_str'] == 'good' and cls == 1) or (word_cls[0]['token_str'] == 'bad' and cls == 0):\n",
    "                    reward = word_cls[0]['score']- word_cls[1]['score']\n",
    "                else:\n",
    "                    reward = word_cls[1]['score']- word_cls[0]['score']\n",
    "                count +=1\n",
    "                accurate = accurate + 1 if reward >0 else accurate\n",
    "        return accurate/count\n",
    "#     def get_rewards(self, train_x, train_y, prompts):\n",
    "#         correct, incorrect = 0, 0\n",
    "#         reward_ = dict()\n",
    "#         for sentence, cls in zip(train_x, train_y):\n",
    "#                 word_cls = self.mlm.get_masked_word_class(sentence, prompt)\n",
    "#                 if (word_cls[0]['token_str'] == 'good' and cls == 1) or (word_cls[0]['token_str'] == 'bad' and cls == 0):\n",
    "#                     correct +=1\n",
    "#                 else:\n",
    "#                     incorrect +=1\n",
    "#         return (correct)/(correct+incorrect)\n",
    "  \n",
    "    def loss(self, train_x, train_y):\n",
    "          # get actions and their corresponding Q values\n",
    "        # actions, Q, mlp_last_state = self.get_actions_Q(self.last_state)\n",
    "\n",
    "        actions, Q = self.get_actions_Q_input_specific(train_x)\n",
    "        # print(actions)\n",
    "        # print(Q.shape)\n",
    "        #find which action gives the highest reward\n",
    "        # high_reward =  self.get_reward(train_x, train_y, ' '.join(actions))\n",
    "#         print(Q.argmax(-1))\n",
    "#         print(Q.argmax(-1))\n",
    "        high_reward = torch.tensor([self.get_reward(train_x, train_y, ' '.join(action)) for action in actions]).to('mps')\n",
    "        accuracy = torch.tensor([self.get_accuracy(train_x, train_y, ' '.join(action)) for action in actions])\n",
    "        reward = high_reward*2-1\n",
    "        if reward.std() > 1e-3:\n",
    "            reward = (reward-reward.mean())/reward.std()\n",
    "        reward = (200**(reward>0))*(100**(reward<=0))*reward\n",
    "        print([' '.join(action) for action in actions])\n",
    "\n",
    "        # print(high_reward.shape)\n",
    "        # print(Q.shape)\n",
    "        # high_reward_index = high_reward.index(max(high_reward))\n",
    "        # action_ = actions[high_reward_index]\n",
    "        # print(f'reward: {high_reward[high_reward_index]}')\n",
    "\n",
    "        #figure out future Q_ value with highest reward\n",
    "        with torch.no_grad():\n",
    "          actions_, Q_, = self.get_actions_Q_input_specific_target(train_x)\n",
    "          # high_reward_ = torch.tensor(self.get_reward(train_x, train_y, x)).to('cuda')\n",
    "          # high_reward_index_ = high_reward_.index(max(high_reward_))\n",
    "          print([' '.join(action) for action in actions_])\n",
    "        # find loss between current Q and reward+.4*Q_future_highest_reward\n",
    "        # tbd make discount rate easily changeable\n",
    "\n",
    "        # self.last_state = mlp_last_state\n",
    "        return torch.nn.functional.mse_loss(\\\n",
    "            Q, \\\n",
    "            reward.reshape(-1,1,1)+\\\n",
    "            .2*Q_.detach()), accuracy\n",
    "        \n",
    "\n",
    "    def train(self, train_x, train_y, epochs):\n",
    "        \n",
    "        for i in tqdm(range(epochs)):\n",
    "            self.optimizer.zero_grad()\n",
    "            loss, reward = self.loss(train_x, train_y)\n",
    "            loss.backward()\n",
    "            self.optimizer.step()\n",
    "            self.accuracy.append(reward.mean().item())\n",
    "            self.loss_.append(loss.item())\n",
    "            if i %10==0:\n",
    "              target_weights = self.target.state_dict()\n",
    "              for key in target_weights:\n",
    "                target_weights[key] = self.mlp.state_dict()[key] \n",
    "              self.target.load_state_dict(target_weights)\n",
    "              print(f'{loss.item()} {reward.mean()}')"
   ]
  },
  {
   "cell_type": "code",
   "execution_count": 16,
   "metadata": {
    "colab": {
     "base_uri": "https://localhost:8080/",
     "height": 320
    },
    "id": "Q1_nsjuPanWA",
    "outputId": "97397c3e-626e-40cc-f6a4-956c5009a0d6"
   },
   "outputs": [],
   "source": [
    "ql = QLearner()"
   ]
  },
  {
   "cell_type": "code",
   "execution_count": 5,
   "metadata": {
    "colab": {
     "base_uri": "https://localhost:8080/",
     "height": 233,
     "referenced_widgets": [
      "f778bc870d664f239c4b51592ab29d17",
      "ddc061c13f55447d92c60205c7d6a022",
      "eff82525c7f14f12ad8702b9b77f0afe",
      "9eaff82b781747de89afd5b52e5336ed",
      "c50380450f9045c6abde0f92920e7aba",
      "9f7c0b4ffc224f439985fd909e1fc434",
      "18971f32b81548a2ac82ac3cb8249978",
      "c48c50df40d6446d8cac3f49504b11fb",
      "65175dd24553437e880b6129a1b4a3fa",
      "c74031fa9de3493ebea8aec05b3f8136",
      "5691c5ee0b754ba8927881dde8cfbf60",
      "00e54a1a8d8b40abb64b404580fa28ef",
      "df7d65f18a4e46498bd831a47f376a65",
      "957b1822ec8f4126a0fd20403a086c0b",
      "c3889b4e01604079b8a131ad12aa71c9",
      "2cbfe544fdd24d02b984239a0c2cf7a4",
      "d7ecad5ad5694612ac8b4a971a39d379",
      "45e474caac6f4d66980a513bfe0569ee",
      "2f43c85fcd2d41379fdb3dc3beeab32b",
      "5a94e01c5fe54cc68ee26d719d195a7f",
      "26377968ffa54dc88b768b3ed5478f82",
      "af97e3af4d7b43978a9ec1026aefbf27",
      "3cf3109f486d4299ae6d7968379eed7e",
      "c0add23963ba477ba76570a00b0c892f",
      "9222d5fa90dc4acea3498c93907a2e3c",
      "77126bb678ef4139adb54e858070900c",
      "c534c3affca843e281521d6fac39bc0f",
      "53fb9110d6b04f149b9838d8443da37f",
      "330d292ce02b424fb9bdbd30f2106fa3",
      "937f3691f0bd4fac9bd52fd2f0137761",
      "9c3aedd28c824291940aa93110575fe6",
      "277790909fa949a7a9eabe93fcccf09e",
      "e4fa211b1e4f46eda3ff58635b558dad",
      "beace656fac84c02bb1772ab1392937c",
      "4c042d9ebe0b4793b88cf793f47e48ef",
      "bcc89137e9eb4b1d97ce8347f242c9ce",
      "65ae61c4d3b643429b6992a16747a3b1",
      "b435bc71dc924568a581a0b0749ab095",
      "99190be38f7a48aea88c87223c3dfb94",
      "e10b636edf304427ab10069dd5608fe0",
      "798132d88d1b415cbbdb037e8675061c",
      "841026a94b934bd3839f11f1559d80e8",
      "b61eaec2a4344833af07d5dc8634d26f",
      "2b5cf1846f514516a42f9656f1a578c1",
      "46e5adfaa43043ab9eb64531692a77eb",
      "5649c4ed3ff14b80b81785f40e4ea502",
      "eda2469754804a629c86916e87b79415",
      "7c863690f8cc4785beb722ca8a3afd26",
      "f7893f8ee0ba4782bee45f95ee50d919",
      "1dd7f0c69d3b4cd98c2a1c549329e2de",
      "2a13138823294888bb4ab7f8795d9c6e",
      "c2e7667ad2b945f0b4a3dadbcd9cdd01",
      "efa9dd05e30642639327c9f4fe3226c0",
      "92e74c8c802b46ad8ba3570a27bbc0ac",
      "3c877718620a484085eb2f9af7f4947c",
      "d205197f873a4a15ae906c75e10a60e3",
      "f331c99c377946529ffe3d24f1ef6d33",
      "142a60ee02464f7bbab9bbefcb20c81b",
      "f73bc0ad7b3247e1989272c6a95a2b44",
      "e0a09098d5c5415fbf4739bf56054a44",
      "0d26b9e268404dbf9004ed59933ea52d",
      "098e517dbc444f6d805f9e2cca213a0a",
      "1a7b10f9585e4cbeab443cc5c0ef76cc",
      "db106230326c45108fd7fff6879b40d3",
      "d1efa0f96b724a67ad5e5223b332f9de",
      "f6afbfec315d494eb6030de507612ca7",
      "39b494ee60f846a3b80b99559680ad2a",
      "56d92d9158b4449ba8d18617a6976309",
      "bcc24579bb1543ada7540db59637cb28",
      "c2deca943d354a1c86780dbbc3a2c3ee",
      "cc623169bd9245dc9e79ab00e4d521c8",
      "f1bb9e2b1941419bac8eb23245d92931",
      "43466dc98ee542c1b048e628d5497b5e",
      "72da1811ca634935a05a88e436dd5f87",
      "50ae1c70f6f54e6981ab205089483ae4",
      "f24ad79777c84d02858fdabcc5636df7",
      "fe7f6f3a6868459e8cf1c8253f74cbe8",
      "82b95f4054324b7dadc53215daa0ce1e",
      "b8db3970c9914c549577e9f94d065735",
      "8add3a5c67724ad99868819fd9281e92",
      "0ac394222ae24018a41c22dbf742e419",
      "46af0c8368714d0787d31e7fd4f8b523",
      "5ae2460e9ead415890d85acee7d86211",
      "cbb51320d03d45b19efae27644ef2794",
      "7af3acdc1e6f42d8a56d31a4446529c3",
      "64a0ad1083d244e381bba95fd158abcb",
      "43e715f2454b4f9ca7c166c26f73e711",
      "142c504492d14afeace1423ea67ac870"
     ]
    },
    "id": "QAMe-JQvE0KB",
    "outputId": "b292281e-ce8c-46d9-d150-46a3427e4e6c"
   },
   "outputs": [
    {
     "name": "stderr",
     "output_type": "stream",
     "text": [
      "Found cached dataset sst2 (/Users/hariv/.cache/huggingface/datasets/sst2/default/2.0.0/9896208a8d85db057ac50c72282bcb8fe755accc671a57dd8059d4e130961ed5)\n"
     ]
    },
    {
     "data": {
      "application/vnd.jupyter.widget-view+json": {
       "model_id": "232ed12a0f394f3f82ced8ea00b2e452",
       "version_major": 2,
       "version_minor": 0
      },
      "text/plain": [
       "  0%|          | 0/3 [00:00<?, ?it/s]"
      ]
     },
     "metadata": {},
     "output_type": "display_data"
    }
   ],
   "source": [
    "from datasets import load_dataset\n",
    "\n",
    "dataset = load_dataset(\"sst2\")\n",
    "\n"
   ]
  },
  {
   "cell_type": "code",
   "execution_count": 6,
   "metadata": {
    "id": "WMitZ-GQGm-t"
   },
   "outputs": [],
   "source": [
    "train_df = dataset['train'].to_pandas()[['sentence', 'label']]\n",
    "train_df_0 = train_df[train_df['label'] == 0].iloc[0:8]\n",
    "train_df_1 = train_df[train_df['label'] == 1].iloc[0:8]\n",
    "train_x = list(train_df_0['sentence'])+list(train_df_1['sentence'])\n",
    "train_y = list(train_df_0['label'])+list(train_df_1['label'])"
   ]
  },
  {
   "cell_type": "code",
   "execution_count": 10,
   "metadata": {
    "colab": {
     "base_uri": "https://localhost:8080/",
     "height": 394
    },
    "id": "6mRz6CFFbVzV",
    "outputId": "d62f56e6-cf9e-47d4-df05-2fb0a32a3412"
   },
   "outputs": [
    {
     "name": "stderr",
     "output_type": "stream",
     "text": [
      "\r",
      "  0%|                                                                                                                                       | 0/2999 [00:00<?, ?it/s]"
     ]
    },
    {
     "name": "stdout",
     "output_type": "stream",
     "text": [
      "[', , , , ,', ' Ind , , , ,', ', , , , ,', ', , , , ,', ', , , , ,', ', , , , ,', ' um , , , ,', ', , , , ,', ', , , , ,', ', , , , ,', ', , , , ,', ', , , , ,', ' burner , , , ,', ', , , , ,', ', , , , ,', 'asuring , , , ,']\n",
      "[', , , , ,', ', , , , ,', ', , , , ,', ', , , , ,', ', , , , ,', ', , , , ,', ', , , , ,', ', , , , ,', ', , , , ,', ', , , , ,', ', , , , ,', ', , , , ,', ', , , , ,', ', , , , ,', ', , , , ,', ', , , , ,']\n"
     ]
    },
    {
     "name": "stderr",
     "output_type": "stream",
     "text": [
      "\r",
      "  0%|                                                                                                                            | 1/2999 [00:19<16:37:21, 19.96s/it]"
     ]
    },
    {
     "name": "stdout",
     "output_type": "stream",
     "text": [
      "125.16935729980469 0.5\n",
      "[', , , , ,', ', , , , ,', ', , , , ,', ', , , , ,', ', , , , ,', 'ptions , , , ,', ', , , , ,', ' installation , , , ,', ', , , , ,', ', , , , ,', ', , , , ,', ', , , , ,', ', , , , ,', ', , , , ,', ', , , , ,', ' outlandish , , , ,']\n",
      "[', , , , ,', ', , , , ,', ', , , , ,', ', , , , ,', ', , , , ,', ', , , , ,', ', , , , ,', ', , , , ,', ', , , , ,', ', , , , ,', ', , , , ,', ', , , , ,', ', , , , ,', ', , , , ,', ', , , , ,', ', , , , ,']\n"
     ]
    },
    {
     "name": "stderr",
     "output_type": "stream",
     "text": [
      "\r",
      "  0%|                                                                                                                            | 2/2999 [00:39<16:34:42, 19.91s/it]"
     ]
    },
    {
     "name": "stdout",
     "output_type": "stream",
     "text": [
      "[', , , , ,', ', , , , ,', ', , , , ,', ', , , , ,', ', , , , ,', ', , , , ,', ', , , , ,', ', , , , ,', ', , , , ,', ', , , , ,', ', , , , ,', ', , , , ,', ', , , , ,', ', , , , ,', ', , , , ,', ', , , , ,']\n",
      "[', , , , ,', ', , , , ,', ', , , , ,', ', , , , ,', ', , , , ,', ', , , , ,', ', , , , ,', ', , , , ,', ', , , , ,', ', , , , ,', ', , , , ,', ', , , , ,', ', , , , ,', ', , , , ,', ', , , , ,', ', , , , ,']\n"
     ]
    },
    {
     "name": "stderr",
     "output_type": "stream",
     "text": [
      "\r",
      "  0%|                                                                                                                            | 3/2999 [00:59<16:31:16, 19.85s/it]"
     ]
    },
    {
     "name": "stdout",
     "output_type": "stream",
     "text": [
      "[', , , , ,', '433 , , , ,', ', , , , ,', ', , , , ,', ', , , , ,', ', , , , ,', ', , , , ,', ', , , , ,', ', , , , ,', ', , , , ,', 'inventoryQuantity , , , ,', ', , , , ,', ', , , , ,', ', , , , ,', ', , , , ,', ', , , , ,']\n",
      "[', , , , ,', ', , , , ,', ', , , , ,', ', , , , ,', ', , , , ,', ', , , , ,', ', , , , ,', ', , , , ,', ', , , , ,', ', , , , ,', ', , , , ,', ', , , , ,', ', , , , ,', ', , , , ,', ', , , , ,', ', , , , ,']\n"
     ]
    },
    {
     "name": "stderr",
     "output_type": "stream",
     "text": [
      "\r",
      "  0%|▏                                                                                                                           | 4/2999 [01:19<16:29:04, 19.81s/it]"
     ]
    },
    {
     "name": "stdout",
     "output_type": "stream",
     "text": [
      "[', , , , ,', ', , , , ,', ', , , , ,', ', , , , ,', ' Libya , , , ,', ', , , , ,', ', , , , ,', ', , , , ,', ', , , , ,', ', , , , ,', ', , , , ,', ', , , , ,', ', , , , ,', ', , , , ,', ', , , , ,', ', , , , ,']\n",
      "[', , , , ,', ', , , , ,', ', , , , ,', ', , , , ,', ', , , , ,', ', , , , ,', ', , , , ,', ', , , , ,', ', , , , ,', ', , , , ,', ', , , , ,', ', , , , ,', ', , , , ,', ', , , , ,', ', , , , ,', ', , , , ,']\n"
     ]
    },
    {
     "name": "stderr",
     "output_type": "stream",
     "text": [
      "\r",
      "  0%|▏                                                                                                                           | 5/2999 [01:39<16:29:02, 19.82s/it]"
     ]
    },
    {
     "name": "stdout",
     "output_type": "stream",
     "text": [
      "[', , , , ,', ', , , , ,', ', , , , ,', ', , , , ,', ', , , , ,', ', , , , ,', ', , , , ,', 'asters , , , ,', 'visible , , , ,', ', , , , ,', ', , , , ,', ', , , , ,', ', , , , ,', ', , , , ,', ', , , , ,', ', , , , ,']\n",
      "[', , , , ,', ', , , , ,', ', , , , ,', ', , , , ,', ', , , , ,', ', , , , ,', ', , , , ,', ', , , , ,', ', , , , ,', ', , , , ,', ', , , , ,', ', , , , ,', ', , , , ,', ', , , , ,', ', , , , ,', ', , , , ,']\n"
     ]
    },
    {
     "name": "stderr",
     "output_type": "stream",
     "text": [
      "\r",
      "  0%|▏                                                                                                                           | 6/2999 [01:59<16:29:01, 19.83s/it]"
     ]
    },
    {
     "name": "stdout",
     "output_type": "stream",
     "text": [
      "[', , , , ,', ', , , , ,', ', , , , ,', ', , , , ,', ' Serving , , , ,', ', , , , ,', ', , , , ,', ' Festival , , , ,', ', , , , ,', ', , , , ,', ', , , , ,', ', , , , ,', ', , , , ,', ', , , , ,', ', , , , ,', ', , , , ,']\n",
      "[', , , , ,', ', , , , ,', ', , , , ,', ', , , , ,', ', , , , ,', ', , , , ,', ', , , , ,', ', , , , ,', ', , , , ,', ', , , , ,', ', , , , ,', ', , , , ,', ', , , , ,', ', , , , ,', ', , , , ,', ', , , , ,']\n"
     ]
    },
    {
     "name": "stderr",
     "output_type": "stream",
     "text": [
      "\r",
      "  0%|▎                                                                                                                           | 7/2999 [02:19<16:30:57, 19.87s/it]"
     ]
    },
    {
     "name": "stdout",
     "output_type": "stream",
     "text": [
      "[', , , , ,', ', , , , ,', ', , , , ,', ', , , , ,', ', , , , ,', ', , , , ,', ', , , , ,', ', , , , ,', ', , , , ,', ', , , , ,', ', , , , ,', ', , , , ,', ', , , , ,', ', , , , ,', ', , , , ,', 'esthesia , , , ,']\n",
      "[', , , , ,', ', , , , ,', ', , , , ,', ', , , , ,', ', , , , ,', ', , , , ,', ', , , , ,', ', , , , ,', ', , , , ,', ', , , , ,', ', , , , ,', ', , , , ,', ', , , , ,', ', , , , ,', ', , , , ,', ', , , , ,']\n"
     ]
    },
    {
     "name": "stderr",
     "output_type": "stream",
     "text": [
      "\r",
      "  0%|▎                                                                                                                           | 8/2999 [02:38<16:29:17, 19.85s/it]"
     ]
    },
    {
     "name": "stdout",
     "output_type": "stream",
     "text": [
      "[', , , , ,', ', , , , ,', ', , , , ,', ', , , , ,', ', , , , ,', ', , , , ,', ', , , , ,', ', , , , ,', ', , , , ,', ', , , , ,', ', , , , ,', ', , , , ,', ', , , , ,', ', , , , ,', ', , , , ,', ', , , , ,']\n",
      "[', , , , ,', ', , , , ,', ', , , , ,', ', , , , ,', ', , , , ,', ', , , , ,', ', , , , ,', ', , , , ,', ', , , , ,', ', , , , ,', ', , , , ,', ', , , , ,', ', , , , ,', ', , , , ,', ', , , , ,', ', , , , ,']\n"
     ]
    },
    {
     "name": "stderr",
     "output_type": "stream",
     "text": [
      "\r",
      "  0%|▎                                                                                                                           | 9/2999 [02:58<16:33:22, 19.93s/it]"
     ]
    },
    {
     "name": "stdout",
     "output_type": "stream",
     "text": [
      "[', , , , ,', ', , , , ,', ')] , , , ,', ', , , , ,', ', , , , ,', ', , , , ,', ', , , , ,', ', , , , ,', ', , , , ,', ', , , , ,', ', , , , ,', ', , , , ,', ', , , , ,', ', , , , ,', ', , , , ,', ', , , , ,']\n",
      "[', , , , ,', ', , , , ,', ', , , , ,', ', , , , ,', ', , , , ,', ', , , , ,', ', , , , ,', ', , , , ,', ', , , , ,', ', , , , ,', ', , , , ,', ', , , , ,', ', , , , ,', ', , , , ,', ', , , , ,', ', , , , ,']\n"
     ]
    },
    {
     "name": "stderr",
     "output_type": "stream",
     "text": [
      "\r",
      "  0%|▍                                                                                                                          | 10/2999 [03:18<16:33:56, 19.95s/it]"
     ]
    },
    {
     "name": "stdout",
     "output_type": "stream",
     "text": [
      "[', , , , ,', ', , , , ,', ', , , , ,', ', , , , ,', ', , , , ,', ', , , , ,', ', , , , ,', ', , , , ,', ', , , , ,', ', , , , ,', ' attacking , , , ,', ', , , , ,', ' condo , , , ,', ', , , , ,', ', , , , ,', ' processor , , , ,']\n",
      "[', , , , ,', ', , , , ,', ', , , , ,', ', , , , ,', ', , , , ,', ', , , , ,', ', , , , ,', ', , , , ,', ', , , , ,', ', , , , ,', ', , , , ,', ', , , , ,', ', , , , ,', ', , , , ,', ', , , , ,', ', , , , ,']\n"
     ]
    },
    {
     "name": "stderr",
     "output_type": "stream",
     "text": [
      "\r",
      "  0%|▍                                                                                                                          | 11/2999 [03:38<16:33:05, 19.94s/it]"
     ]
    },
    {
     "name": "stdout",
     "output_type": "stream",
     "text": [
      "75.50801086425781 0.5\n",
      "[', , , , ,', ', , , , ,', 'walk , , , ,', ' accelerating , , , ,', ', , , , ,', '583 , , , ,', ', , , , ,', ', , , , ,', ' Mother , , , ,', ', , , , ,', ', , , , ,', ', , , , ,', ', , , , ,', ' burnt , , , ,', ', , , , ,', ', , , , ,']\n",
      "[', , , , ,', ', , , , ,', ', , , , ,', ', , , , ,', ', , , , ,', ', , , , ,', ', , , , ,', ', , , , ,', ', , , , ,', ', , , , ,', ', , , , ,', ', , , , ,', ', , , , ,', ', , , , ,', ', , , , ,', ', , , , ,']\n"
     ]
    },
    {
     "name": "stderr",
     "output_type": "stream",
     "text": [
      "\r",
      "  0%|▍                                                                                                                          | 12/2999 [03:58<16:33:51, 19.96s/it]"
     ]
    },
    {
     "name": "stdout",
     "output_type": "stream",
     "text": [
      "[', , , , ,', ', , , , ,', ', , , , ,', ', , , , ,', ', , , , ,', ', , , , ,', ', , , , ,', ', , , , ,', ', , , , ,', ', , , , ,', ', , , , ,', ', , , , ,', ', , , , ,', ', , , , ,', ', , , , ,', ', , , , ,']\n",
      "[', , , , ,', ', , , , ,', ', , , , ,', ', , , , ,', ', , , , ,', ', , , , ,', ', , , , ,', ', , , , ,', ', , , , ,', ', , , , ,', ', , , , ,', ', , , , ,', ', , , , ,', ', , , , ,', ', , , , ,', ', , , , ,']\n"
     ]
    },
    {
     "name": "stderr",
     "output_type": "stream",
     "text": [
      "\r",
      "  0%|▌                                                                                                                          | 13/2999 [04:18<16:35:34, 20.01s/it]"
     ]
    },
    {
     "name": "stdout",
     "output_type": "stream",
     "text": [
      "[', , , , ,', ', , , , ,', ', , , , ,', ', , , , ,', ', , , , ,', ' counts , , , ,', ', , , , ,', ' propriet , , , ,', ', , , , ,', ', , , , ,', ', , , , ,', ', , , , ,', ', , , , ,', ', , , , ,', ', , , , ,', ', , , , ,']\n",
      "[', , , , ,', ', , , , ,', ', , , , ,', ', , , , ,', ', , , , ,', ', , , , ,', ', , , , ,', ', , , , ,', ', , , , ,', ', , , , ,', ', , , , ,', ', , , , ,', ', , , , ,', ', , , , ,', ', , , , ,', ', , , , ,']\n"
     ]
    },
    {
     "name": "stderr",
     "output_type": "stream",
     "text": [
      "\r",
      "  0%|▌                                                                                                                          | 14/2999 [04:38<16:33:58, 19.98s/it]"
     ]
    },
    {
     "name": "stdout",
     "output_type": "stream",
     "text": [
      "[' pecul , , , ,', ', , , , ,', ', , , , ,', ', , , , ,', ', , , , ,', ', , , , ,', ', , , , ,', ', , , , ,', ', , , , ,', ', , , , ,', ', , , , ,', ' IDF , , , ,', 'called , , , ,', ', , , , ,', ', , , , ,', ', , , , ,']\n",
      "[', , , , ,', ', , , , ,', ', , , , ,', ', , , , ,', ', , , , ,', ', , , , ,', ', , , , ,', ', , , , ,', ', , , , ,', ', , , , ,', ', , , , ,', ', , , , ,', ', , , , ,', ', , , , ,', ', , , , ,', ', , , , ,']\n"
     ]
    },
    {
     "name": "stderr",
     "output_type": "stream",
     "text": [
      "\r",
      "  1%|▌                                                                                                                          | 15/2999 [04:58<16:32:24, 19.95s/it]"
     ]
    },
    {
     "name": "stdout",
     "output_type": "stream",
     "text": [
      "[', , , , ,', ', , , , ,', ', , , , ,', ' algorithms , , , ,', ', , , , ,', ', , , , ,', ', , , , ,', ', , , , ,', ', , , , ,', ', , , , ,', ', , , , ,', ', , , , ,', ', , , , ,', ', , , , ,', ', , , , ,', ', , , , ,']\n",
      "[', , , , ,', ', , , , ,', ', , , , ,', ', , , , ,', ', , , , ,', ', , , , ,', ', , , , ,', ', , , , ,', ', , , , ,', ', , , , ,', ', , , , ,', ', , , , ,', ', , , , ,', ', , , , ,', ', , , , ,', ', , , , ,']\n"
     ]
    },
    {
     "name": "stderr",
     "output_type": "stream",
     "text": [
      "\r",
      "  1%|▋                                                                                                                          | 16/2999 [05:18<16:31:57, 19.95s/it]"
     ]
    },
    {
     "name": "stdout",
     "output_type": "stream",
     "text": [
      "[', , , , ,', ', , , , ,', ', , , , ,', ', , , , ,', ', , , , ,', ', , , , ,', ', , , , ,', ', , , , ,', ', , , , ,', ', , , , ,', ', , , , ,', ', , , , ,', ', , , , ,', ', , , , ,', ', , , , ,', ', , , , ,']\n",
      "[', , , , ,', ', , , , ,', ', , , , ,', ', , , , ,', ', , , , ,', ', , , , ,', ', , , , ,', ', , , , ,', ', , , , ,', ', , , , ,', ', , , , ,', ', , , , ,', ', , , , ,', ', , , , ,', ', , , , ,', ', , , , ,']\n"
     ]
    },
    {
     "name": "stderr",
     "output_type": "stream",
     "text": [
      "\r",
      "  1%|▋                                                                                                                          | 17/2999 [05:38<16:32:39, 19.97s/it]"
     ]
    },
    {
     "name": "stdout",
     "output_type": "stream",
     "text": [
      "[', , , , ,', ', , , , ,', ', , , , ,', ', , , , ,', ', , , , ,', ', , , , ,', ', , , , ,', ', , , , ,', ', , , , ,', ', , , , ,', ' Es , , , ,', ', , , , ,', ', , , , ,', ', , , , ,', ', , , , ,', ', , , , ,']\n",
      "[', , , , ,', ', , , , ,', ', , , , ,', ', , , , ,', ', , , , ,', ', , , , ,', ', , , , ,', ', , , , ,', ', , , , ,', ', , , , ,', ', , , , ,', ', , , , ,', ', , , , ,', ', , , , ,', ', , , , ,', ', , , , ,']\n"
     ]
    },
    {
     "name": "stderr",
     "output_type": "stream",
     "text": [
      "\r",
      "  1%|▋                                                                                                                          | 18/2999 [05:58<16:31:02, 19.95s/it]"
     ]
    },
    {
     "name": "stdout",
     "output_type": "stream",
     "text": [
      "[', , , , ,', ', , , , ,', ', , , , ,', ', , , , ,', ', , , , ,', ', , , , ,', ', , , , ,', ', , , , ,', ', , , , ,', ', , , , ,', ', , , , ,', ' illustrations , , , ,', ', , , , ,', ', , , , ,', ', , , , ,', ', , , , ,']\n",
      "[', , , , ,', ', , , , ,', ', , , , ,', ', , , , ,', ', , , , ,', ', , , , ,', ', , , , ,', ', , , , ,', ', , , , ,', ', , , , ,', ', , , , ,', ', , , , ,', ', , , , ,', ', , , , ,', ', , , , ,', ', , , , ,']\n"
     ]
    },
    {
     "name": "stderr",
     "output_type": "stream",
     "text": [
      "\r",
      "  1%|▊                                                                                                                          | 19/2999 [06:18<16:31:07, 19.96s/it]"
     ]
    },
    {
     "name": "stdout",
     "output_type": "stream",
     "text": [
      "[', , , , ,', ', , , , ,', ', , , , ,', ', , , , ,', ', , , , ,', ', , , , ,', ', , , , ,', ', , , , ,', ', , , , ,', ', , , , ,', ', , , , ,', 'aria , , , ,', ', , , , ,', 'itches , , , ,', ', , , , ,', ', , , , ,']\n",
      "[', , , , ,', ', , , , ,', ', , , , ,', ', , , , ,', ', , , , ,', ', , , , ,', ', , , , ,', ', , , , ,', ', , , , ,', ', , , , ,', ', , , , ,', ', , , , ,', ', , , , ,', ', , , , ,', ', , , , ,', ', , , , ,']\n"
     ]
    },
    {
     "name": "stderr",
     "output_type": "stream",
     "text": [
      "\r",
      "  1%|▊                                                                                                                          | 20/2999 [06:38<16:29:45, 19.93s/it]"
     ]
    },
    {
     "name": "stdout",
     "output_type": "stream",
     "text": [
      "[', , , , ,', ', , , , ,', ', , , , ,', ' immobil , , , ,', ', , , , ,', 'Was , , , ,', 'zig , , , ,', ', , , , ,', ' scra , , , ,', ', , , , ,', ', , , , ,', ', , , , ,', ', , , , ,', ', , , , ,', ', , , , ,', ', , , , ,']\n",
      "[', , , , ,', ', , , , ,', ', , , , ,', ', , , , ,', ', , , , ,', ', , , , ,', ', , , , ,', ', , , , ,', ', , , , ,', ', , , , ,', ', , , , ,', ', , , , ,', ', , , , ,', ', , , , ,', ', , , , ,', ', , , , ,']\n"
     ]
    },
    {
     "name": "stderr",
     "output_type": "stream",
     "text": [
      "\r",
      "  1%|▊                                                                                                                          | 21/2999 [06:58<16:28:18, 19.91s/it]"
     ]
    },
    {
     "name": "stdout",
     "output_type": "stream",
     "text": [
      "98.50723266601562 0.515625\n",
      "[' Smoking , , , ,', ', , , , ,', ', , , , ,', ', , , , ,', ', , , , ,', ', , , , ,', ', , , , ,', ', , , , ,', ', , , , ,', ', , , , ,', ', , , , ,', '06 , , , ,', ', , , , ,', ', , , , ,', ', , , , ,', ', , , , ,']\n",
      "[', , , , ,', ', , , , ,', ', , , , ,', ', , , , ,', ', , , , ,', ', , , , ,', ', , , , ,', ', , , , ,', ', , , , ,', ', , , , ,', ', , , , ,', ', , , , ,', ', , , , ,', ', , , , ,', ', , , , ,', ', , , , ,']\n"
     ]
    },
    {
     "name": "stderr",
     "output_type": "stream",
     "text": [
      "\r",
      "  1%|▉                                                                                                                          | 22/2999 [07:18<16:29:13, 19.94s/it]"
     ]
    },
    {
     "name": "stdout",
     "output_type": "stream",
     "text": [
      "[', , , , ,', ', , , , ,', ', , , , ,', ', , , , ,', ', , , , ,', ', , , , ,', ', , , , ,', ', , , , ,', ', , , , ,', ', , , , ,', ', , , , ,', ', , , , ,', ' Gary , , , ,', ', , , , ,', ', , , , ,', ', , , , ,']\n",
      "[', , , , ,', ', , , , ,', ', , , , ,', ', , , , ,', ', , , , ,', ', , , , ,', ', , , , ,', ', , , , ,', ', , , , ,', ', , , , ,', ', , , , ,', ', , , , ,', ', , , , ,', ', , , , ,', ', , , , ,', ', , , , ,']\n"
     ]
    },
    {
     "name": "stderr",
     "output_type": "stream",
     "text": [
      "\r",
      "  1%|▉                                                                                                                          | 23/2999 [07:38<16:31:07, 19.98s/it]"
     ]
    },
    {
     "name": "stdout",
     "output_type": "stream",
     "text": [
      "[', , , , ,', ', , , , ,', ', , , , ,', ', , , , ,', ', , , , ,', ', , , , ,', ', , , , ,', ', , , , ,', ', , , , ,', ', , , , ,', ', , , , ,', ', , , , ,', '� , , , ,', ', , , , ,', 'ohl , , , ,', ', , , , ,']\n",
      "[', , , , ,', ', , , , ,', ', , , , ,', ', , , , ,', ', , , , ,', ', , , , ,', ', , , , ,', ', , , , ,', ', , , , ,', ', , , , ,', ', , , , ,', ', , , , ,', ', , , , ,', ', , , , ,', ', , , , ,', ', , , , ,']\n"
     ]
    },
    {
     "name": "stderr",
     "output_type": "stream",
     "text": [
      "\r",
      "  1%|▉                                                                                                                          | 24/2999 [07:58<16:30:37, 19.98s/it]"
     ]
    },
    {
     "name": "stdout",
     "output_type": "stream",
     "text": [
      "[' Wicked , , , ,', ', , , , ,', ', , , , ,', ' youth , , , ,', ', , , , ,', ', , , , ,', ', , , , ,', ', , , , ,', ', , , , ,', ' spiders , , , ,', ' fly , , , ,', ', , , , ,', ' god , , , ,', ', , , , ,', ', , , , ,', ', , , , ,']\n",
      "[', , , , ,', ', , , , ,', ', , , , ,', ', , , , ,', ', , , , ,', ', , , , ,', ', , , , ,', ', , , , ,', ', , , , ,', ', , , , ,', ', , , , ,', ', , , , ,', ', , , , ,', ', , , , ,', ', , , , ,', ', , , , ,']\n"
     ]
    },
    {
     "name": "stderr",
     "output_type": "stream",
     "text": [
      "\r",
      "  1%|█                                                                                                                          | 25/2999 [08:18<16:29:45, 19.97s/it]"
     ]
    },
    {
     "name": "stdout",
     "output_type": "stream",
     "text": [
      "[', , , , ,', ', , , , ,', ', , , , ,', ', , , , ,', ', , , , ,', ', , , , ,', ', , , , ,', ', , , , ,', ', , , , ,', ', , , , ,', ', , , , ,', ', , , , ,', ', , , , ,', ', , , , ,', ', , , , ,', ', , , , ,']\n",
      "[', , , , ,', ', , , , ,', ', , , , ,', ', , , , ,', ', , , , ,', ', , , , ,', ', , , , ,', ', , , , ,', ', , , , ,', ', , , , ,', ', , , , ,', ', , , , ,', ', , , , ,', ', , , , ,', ', , , , ,', ', , , , ,']\n"
     ]
    },
    {
     "name": "stderr",
     "output_type": "stream",
     "text": [
      "\r",
      "  1%|█                                                                                                                          | 26/2999 [08:38<16:29:31, 19.97s/it]"
     ]
    },
    {
     "name": "stdout",
     "output_type": "stream",
     "text": [
      "[', , , , ,', ', , , , ,', ', , , , ,', ', , , , ,', ', , , , ,', ', , , , ,', ', , , , ,', ', , , , ,', ' rapp , , , ,', ' Bass , , , ,', ', , , , ,', ', , , , ,', ', , , , ,', ', , , , ,', ', , , , ,', ', , , , ,']\n",
      "[', , , , ,', ', , , , ,', ', , , , ,', ', , , , ,', ', , , , ,', ', , , , ,', ', , , , ,', ', , , , ,', ', , , , ,', ', , , , ,', ', , , , ,', ', , , , ,', ', , , , ,', ', , , , ,', ', , , , ,', ', , , , ,']\n"
     ]
    },
    {
     "name": "stderr",
     "output_type": "stream",
     "text": [
      "\r",
      "  1%|█                                                                                                                          | 27/2999 [08:58<16:28:43, 19.96s/it]"
     ]
    },
    {
     "name": "stdout",
     "output_type": "stream",
     "text": [
      "[', , , , ,', ', , , , ,', ', , , , ,', ', , , , ,', ', , , , ,', ', , , , ,', ', , , , ,', ', , , , ,', ', , , , ,', ', , , , ,', ', , , , ,', ', , , , ,', ', , , , ,', ', , , , ,', ', , , , ,', ', , , , ,']\n",
      "[', , , , ,', ', , , , ,', ', , , , ,', ', , , , ,', ', , , , ,', ', , , , ,', ', , , , ,', ', , , , ,', ', , , , ,', ', , , , ,', ', , , , ,', ', , , , ,', ', , , , ,', ', , , , ,', ', , , , ,', ', , , , ,']\n"
     ]
    },
    {
     "name": "stderr",
     "output_type": "stream",
     "text": [
      "\r",
      "  1%|█▏                                                                                                                         | 28/2999 [09:18<16:33:17, 20.06s/it]"
     ]
    },
    {
     "name": "stdout",
     "output_type": "stream",
     "text": [
      "[', , , , ,', ', , , , ,', ', , , , ,', ', , , , ,', ' jail , , , ,', ', , , , ,', ', , , , ,', ' Scala , , , ,', ', , , , ,', ', , , , ,', ', , , , ,', ', , , , ,', ', , , , ,', ', , , , ,', ', , , , ,', ', , , , ,']\n",
      "[', , , , ,', ', , , , ,', ', , , , ,', ', , , , ,', ', , , , ,', ', , , , ,', ', , , , ,', ', , , , ,', ', , , , ,', ', , , , ,', ', , , , ,', ', , , , ,', ', , , , ,', ', , , , ,', ', , , , ,', ', , , , ,']\n"
     ]
    },
    {
     "name": "stderr",
     "output_type": "stream",
     "text": [
      "\r",
      "  1%|█▏                                                                                                                         | 29/2999 [09:38<16:36:54, 20.14s/it]"
     ]
    },
    {
     "name": "stdout",
     "output_type": "stream",
     "text": [
      "[', , , , ,', ', , , , ,', ', , , , ,', ', , , , ,', ', , , , ,', ', , , , ,', ', , , , ,', ', , , , ,', ', , , , ,', ', , , , ,', ', , , , ,', ', , , , ,', ', , , , ,', ', , , , ,', ', , , , ,', ', , , , ,']\n",
      "[', , , , ,', ', , , , ,', ', , , , ,', ', , , , ,', ', , , , ,', ', , , , ,', ', , , , ,', ', , , , ,', ', , , , ,', ', , , , ,', ', , , , ,', ', , , , ,', ', , , , ,', ', , , , ,', ', , , , ,', ', , , , ,']\n"
     ]
    },
    {
     "name": "stderr",
     "output_type": "stream",
     "text": [
      "\r",
      "  1%|█▏                                                                                                                         | 30/2999 [09:58<16:33:35, 20.08s/it]"
     ]
    },
    {
     "name": "stdout",
     "output_type": "stream",
     "text": [
      "[', , , , ,', ', , , , ,', ', , , , ,', ' Mickey , , , ,', ', , , , ,', ', , , , ,', ', , , , ,', 'ruit , , , ,', ', , , , ,', ', , , , ,', ', , , , ,', ', , , , ,', ', , , , ,', ', , , , ,', ', , , , ,', ', , , , ,']\n",
      "[', , , , ,', ', , , , ,', ', , , , ,', ', , , , ,', ', , , , ,', ', , , , ,', ', , , , ,', ', , , , ,', ', , , , ,', ', , , , ,', ', , , , ,', ', , , , ,', ', , , , ,', ', , , , ,', ', , , , ,', ', , , , ,']\n"
     ]
    },
    {
     "name": "stderr",
     "output_type": "stream",
     "text": [
      "\r",
      "  1%|█▎                                                                                                                         | 31/2999 [10:18<16:32:56, 20.07s/it]"
     ]
    },
    {
     "name": "stdout",
     "output_type": "stream",
     "text": [
      "86.18046569824219 0.50390625\n",
      "[', , , , ,', ', , , , ,', ', , , , ,', ', , , , ,', ', , , , ,', ', , , , ,', ', , , , ,', ', , , , ,', ', , , , ,', ', , , , ,', ', , , , ,', ', , , , ,', ', , , , ,', ', , , , ,', ', , , , ,', ', , , , ,']\n",
      "[', , , , ,', ', , , , ,', ', , , , ,', ', , , , ,', ', , , , ,', ', , , , ,', ', , , , ,', ', , , , ,', ', , , , ,', ', , , , ,', ', , , , ,', ', , , , ,', ', , , , ,', ', , , , ,', ', , , , ,', ', , , , ,']\n"
     ]
    },
    {
     "name": "stderr",
     "output_type": "stream",
     "text": [
      "\r",
      "  1%|█▎                                                                                                                         | 32/2999 [10:38<16:30:57, 20.04s/it]"
     ]
    },
    {
     "name": "stdout",
     "output_type": "stream",
     "text": [
      "[', , , , ,', ', , , , ,', ', , , , ,', ', , , , ,', ' kosher , , , ,', ', , , , ,', ', , , , ,', ', , , , ,', ', , , , ,', '.), , , , ,', ', , , , ,', ', , , , ,', ', , , , ,', ', , , , ,', ', , , , ,', ', , , , ,']\n",
      "[', , , , ,', ', , , , ,', ', , , , ,', ', , , , ,', ', , , , ,', ', , , , ,', ', , , , ,', ', , , , ,', ', , , , ,', ', , , , ,', ', , , , ,', ', , , , ,', ', , , , ,', ', , , , ,', ', , , , ,', ', , , , ,']\n"
     ]
    },
    {
     "name": "stderr",
     "output_type": "stream",
     "text": [
      "\r",
      "  1%|█▎                                                                                                                         | 33/2999 [10:58<16:29:48, 20.02s/it]"
     ]
    },
    {
     "name": "stdout",
     "output_type": "stream",
     "text": [
      "[', , , , ,', ', , , , ,', ', , , , ,', ', , , , ,', ' Rosenberg , , , ,', ', , , , ,', ', , , , ,', ', , , , ,', ', , , , ,', ', , , , ,', ', , , , ,', ', , , , ,', ', , , , ,', ', , , , ,', ', , , , ,', ', , , , ,']\n",
      "[', , , , ,', ', , , , ,', ', , , , ,', ', , , , ,', ', , , , ,', ', , , , ,', ', , , , ,', ', , , , ,', ', , , , ,', ', , , , ,', ', , , , ,', ', , , , ,', ', , , , ,', ', , , , ,', ', , , , ,', ', , , , ,']\n"
     ]
    },
    {
     "name": "stderr",
     "output_type": "stream",
     "text": [
      "\r",
      "  1%|█▍                                                                                                                         | 34/2999 [11:18<16:28:15, 20.00s/it]"
     ]
    },
    {
     "name": "stdout",
     "output_type": "stream",
     "text": [
      "[', , , , ,', ', , , , ,', ', , , , ,', ', , , , ,', ', , , , ,', ', , , , ,', ', , , , ,', ', , , , ,', ', , , , ,', ' formatted , , , ,', ', , , , ,', 'Edge , , , ,', ', , , , ,', ', , , , ,', ', , , , ,', ', , , , ,']\n",
      "[', , , , ,', ', , , , ,', ', , , , ,', ', , , , ,', ', , , , ,', ', , , , ,', ', , , , ,', ', , , , ,', ', , , , ,', ', , , , ,', ', , , , ,', ', , , , ,', ', , , , ,', ', , , , ,', ', , , , ,', ', , , , ,']\n"
     ]
    },
    {
     "name": "stderr",
     "output_type": "stream",
     "text": [
      "\r",
      "  1%|█▍                                                                                                                         | 35/2999 [11:38<16:27:10, 19.98s/it]"
     ]
    },
    {
     "name": "stdout",
     "output_type": "stream",
     "text": [
      "[', , , , ,', ', , , , ,', ', , , , ,', ', , , , ,', ', , , , ,', ', , , , ,', 'ventional , , , ,', ', , , , ,', ', , , , ,', ', , , , ,', ', , , , ,', ', , , , ,', ', , , , ,', ', , , , ,', ', , , , ,', 'ocytes , , , ,']\n",
      "[', , , , ,', ', , , , ,', ', , , , ,', ', , , , ,', ', , , , ,', ', , , , ,', ', , , , ,', ', , , , ,', ', , , , ,', ', , , , ,', ', , , , ,', ', , , , ,', ', , , , ,', ', , , , ,', ', , , , ,', ', , , , ,']\n"
     ]
    },
    {
     "name": "stderr",
     "output_type": "stream",
     "text": [
      "\r",
      "  1%|█▍                                                                                                                         | 36/2999 [11:58<16:26:44, 19.98s/it]"
     ]
    },
    {
     "name": "stdout",
     "output_type": "stream",
     "text": [
      "[', , , , ,', ', , , , ,', ' Chili , , , ,', ', , , , ,', ', , , , ,', ', , , , ,', ', , , , ,', ', , , , ,', ' wrath , , , ,', ', , , , ,', ', , , , ,', ', , , , ,', ', , , , ,', ', , , , ,', ', , , , ,', ', , , , ,']\n",
      "[', , , , ,', ', , , , ,', ', , , , ,', ', , , , ,', ', , , , ,', ', , , , ,', ', , , , ,', ', , , , ,', ', , , , ,', ', , , , ,', ', , , , ,', ', , , , ,', ', , , , ,', ', , , , ,', ', , , , ,', ', , , , ,']\n"
     ]
    },
    {
     "name": "stderr",
     "output_type": "stream",
     "text": [
      "\r",
      "  1%|█▌                                                                                                                         | 37/2999 [12:18<16:29:21, 20.04s/it]"
     ]
    },
    {
     "name": "stdout",
     "output_type": "stream",
     "text": [
      "[' pim , , , ,', ', , , , ,', ', , , , ,', ', , , , ,', ', , , , ,', ', , , , ,', ', , , , ,', ', , , , ,', ', , , , ,', ', , , , ,', ', , , , ,', ', , , , ,', ', , , , ,', ', , , , ,', ', , , , ,', ', , , , ,']\n",
      "[', , , , ,', ', , , , ,', ', , , , ,', ', , , , ,', ', , , , ,', ', , , , ,', ', , , , ,', ', , , , ,', ', , , , ,', ', , , , ,', ', , , , ,', ', , , , ,', ', , , , ,', ', , , , ,', ', , , , ,', ', , , , ,']\n"
     ]
    },
    {
     "name": "stderr",
     "output_type": "stream",
     "text": [
      "\r",
      "  1%|█▌                                                                                                                         | 38/2999 [12:38<16:27:50, 20.02s/it]"
     ]
    },
    {
     "name": "stdout",
     "output_type": "stream",
     "text": [
      "[' Bohem , , , ,', ', , , , ,', ', , , , ,', ', , , , ,', ', , , , ,', ' Marine , , , ,', ', , , , ,', ', , , , ,', ', , , , ,', ', , , , ,', ', , , , ,', ', , , , ,', ', , , , ,', ', , , , ,', ', , , , ,', ', , , , ,']\n",
      "[', , , , ,', ', , , , ,', ', , , , ,', ', , , , ,', ', , , , ,', ', , , , ,', ', , , , ,', ', , , , ,', ', , , , ,', ', , , , ,', ', , , , ,', ', , , , ,', ', , , , ,', ', , , , ,', ', , , , ,', ', , , , ,']\n"
     ]
    },
    {
     "name": "stderr",
     "output_type": "stream",
     "text": [
      "\r",
      "  1%|█▌                                                                                                                         | 39/2999 [12:58<16:26:30, 20.00s/it]"
     ]
    },
    {
     "name": "stdout",
     "output_type": "stream",
     "text": [
      "[', , , , ,', ', , , , ,', ', , , , ,', ', , , , ,', ', , , , ,', ', , , , ,', ', , , , ,', ', , , , ,', ', , , , ,', ', , , , ,', ', , , , ,', ', , , , ,', ', , , , ,', ', , , , ,', ', , , , ,', ', , , , ,']\n",
      "[', , , , ,', ', , , , ,', ', , , , ,', ', , , , ,', ', , , , ,', ', , , , ,', ', , , , ,', ', , , , ,', ', , , , ,', ', , , , ,', ', , , , ,', ', , , , ,', ', , , , ,', ', , , , ,', ', , , , ,', ', , , , ,']\n"
     ]
    },
    {
     "name": "stderr",
     "output_type": "stream",
     "text": [
      "\r",
      "  1%|█▋                                                                                                                         | 40/2999 [13:18<16:28:04, 20.04s/it]"
     ]
    },
    {
     "name": "stdout",
     "output_type": "stream",
     "text": [
      "[', , , , ,', ', , , , ,', ', , , , ,', ', , , , ,', ', , , , ,', ', , , , ,', ', , , , ,', ', , , , ,', ', , , , ,', ', , , , ,', ', , , , ,', ', , , , ,', ', , , , ,', ', , , , ,', ', , , , ,', ', , , , ,']\n",
      "[', , , , ,', ', , , , ,', ', , , , ,', ', , , , ,', ', , , , ,', ', , , , ,', ', , , , ,', ', , , , ,', ', , , , ,', ', , , , ,', ', , , , ,', ', , , , ,', ', , , , ,', ', , , , ,', ', , , , ,', ', , , , ,']\n"
     ]
    },
    {
     "name": "stderr",
     "output_type": "stream",
     "text": [
      "\r",
      "  1%|█▋                                                                                                                         | 41/2999 [13:38<16:26:55, 20.02s/it]"
     ]
    },
    {
     "name": "stdout",
     "output_type": "stream",
     "text": [
      "69.56037139892578 0.5\n",
      "[', , , , ,', ', , , , ,', ', , , , ,', 'PS , , , ,', ', , , , ,', ', , , , ,', ', , , , ,', ' migraine , , , ,', ', , , , ,', ', , , , ,', ', , , , ,', ' ALEC , , , ,', ', , , , ,', ', , , , ,', ', , , , ,', ', , , , ,']\n",
      "[', , , , ,', ', , , , ,', ', , , , ,', ', , , , ,', ', , , , ,', ', , , , ,', ', , , , ,', ', , , , ,', ', , , , ,', ', , , , ,', ', , , , ,', ', , , , ,', ', , , , ,', ', , , , ,', ', , , , ,', ', , , , ,']\n"
     ]
    },
    {
     "name": "stderr",
     "output_type": "stream",
     "text": [
      "\r",
      "  1%|█▋                                                                                                                         | 42/2999 [13:58<16:24:39, 19.98s/it]"
     ]
    },
    {
     "name": "stdout",
     "output_type": "stream",
     "text": [
      "[', , , , ,', ', , , , ,', ', , , , ,', ', , , , ,', ', , , , ,', ', , , , ,', ' restrict , , , ,', ', , , , ,', ' Graveyard , , , ,', ' Clintons , , , ,', ', , , , ,', ', , , , ,', ', , , , ,', ', , , , ,', ', , , , ,', ', , , , ,']\n",
      "[', , , , ,', ', , , , ,', ', , , , ,', ', , , , ,', ', , , , ,', ', , , , ,', ', , , , ,', ', , , , ,', ', , , , ,', ', , , , ,', ', , , , ,', ', , , , ,', ', , , , ,', ', , , , ,', ', , , , ,', ', , , , ,']\n"
     ]
    },
    {
     "name": "stderr",
     "output_type": "stream",
     "text": [
      "\r",
      "  1%|█▊                                                                                                                         | 43/2999 [14:18<16:25:35, 20.01s/it]"
     ]
    },
    {
     "name": "stdout",
     "output_type": "stream",
     "text": [
      "[', , , , ,', ', , , , ,', ', , , , ,', ', , , , ,', ', , , , ,', ', , , , ,', ', , , , ,', ', , , , ,', ', , , , ,', ', , , , ,', ', , , , ,', ', , , , ,', ', , , , ,', ', , , , ,', ', , , , ,', ', , , , ,']\n",
      "[', , , , ,', ', , , , ,', ', , , , ,', ', , , , ,', ', , , , ,', ', , , , ,', ', , , , ,', ', , , , ,', ', , , , ,', ', , , , ,', ', , , , ,', ', , , , ,', ', , , , ,', ', , , , ,', ', , , , ,', ', , , , ,']\n"
     ]
    },
    {
     "name": "stderr",
     "output_type": "stream",
     "text": [
      "\r",
      "  1%|█▊                                                                                                                         | 44/2999 [14:38<16:24:05, 19.98s/it]"
     ]
    },
    {
     "name": "stdout",
     "output_type": "stream",
     "text": [
      "[', , , , ,', ', , , , ,', ', , , , ,', ' Interstate , , , ,', ', , , , ,', ', , , , ,', ', , , , ,', ', , , , ,', ', , , , ,', ', , , , ,', ', , , , ,', ', , , , ,', ', , , , ,', ', , , , ,', ', , , , ,', ', , , , ,']\n",
      "[', , , , ,', ', , , , ,', ', , , , ,', ', , , , ,', ', , , , ,', ', , , , ,', ', , , , ,', ', , , , ,', ', , , , ,', ', , , , ,', ', , , , ,', ', , , , ,', ', , , , ,', ', , , , ,', ', , , , ,', ', , , , ,']\n"
     ]
    },
    {
     "name": "stderr",
     "output_type": "stream",
     "text": [
      "\r",
      "  2%|█▊                                                                                                                         | 45/2999 [14:58<16:24:01, 19.99s/it]"
     ]
    },
    {
     "name": "stdout",
     "output_type": "stream",
     "text": [
      "[', , , , ,', ', , , , ,', ', , , , ,', ', , , , ,', ', , , , ,', ', , , , ,', ', , , , ,', ', , , , ,', ', , , , ,', ', , , , ,', ', , , , ,', ', , , , ,', ', , , , ,', ', , , , ,', ', , , , ,', ', , , , ,']\n",
      "[', , , , ,', ', , , , ,', ', , , , ,', ', , , , ,', ', , , , ,', ', , , , ,', ', , , , ,', ', , , , ,', ', , , , ,', ', , , , ,', ', , , , ,', ', , , , ,', ', , , , ,', ', , , , ,', ', , , , ,', ', , , , ,']\n"
     ]
    },
    {
     "name": "stderr",
     "output_type": "stream",
     "text": [
      "\r",
      "  2%|█▉                                                                                                                         | 46/2999 [15:18<16:22:34, 19.96s/it]"
     ]
    },
    {
     "name": "stdout",
     "output_type": "stream",
     "text": [
      "[', , , , ,', 'Same , , , ,', ', , , , ,', ' yarn , , , ,', ', , , , ,', ', , , , ,', ', , , , ,', ', , , , ,', ', , , , ,', ', , , , ,', ', , , , ,', ', , , , ,', ', , , , ,', ', , , , ,', ', , , , ,', ', , , , ,']\n",
      "[', , , , ,', ', , , , ,', ', , , , ,', ', , , , ,', ', , , , ,', ', , , , ,', ', , , , ,', ', , , , ,', ', , , , ,', ', , , , ,', ', , , , ,', ', , , , ,', ', , , , ,', ', , , , ,', ', , , , ,', ', , , , ,']\n"
     ]
    },
    {
     "name": "stderr",
     "output_type": "stream",
     "text": [
      "\r",
      "  2%|█▉                                                                                                                         | 47/2999 [15:38<16:22:08, 19.96s/it]"
     ]
    },
    {
     "name": "stdout",
     "output_type": "stream",
     "text": [
      "[', , , , ,', ', , , , ,', ', , , , ,', ', , , , ,', ' whence , , , ,', ', , , , ,', ', , , , ,', ', , , , ,', ', , , , ,', ', , , , ,', ', , , , ,', ', , , , ,', ', , , , ,', ', , , , ,', ', , , , ,', ', , , , ,']\n",
      "[', , , , ,', ', , , , ,', ', , , , ,', ', , , , ,', ', , , , ,', ', , , , ,', ', , , , ,', ', , , , ,', ', , , , ,', ', , , , ,', ', , , , ,', ', , , , ,', ', , , , ,', ', , , , ,', ', , , , ,', ', , , , ,']\n"
     ]
    },
    {
     "name": "stderr",
     "output_type": "stream",
     "text": [
      "\r",
      "  2%|█▉                                                                                                                         | 48/2999 [15:58<16:21:46, 19.96s/it]"
     ]
    },
    {
     "name": "stdout",
     "output_type": "stream",
     "text": [
      "[', , , , ,', ', , , , ,', ', , , , ,', ', , , , ,', ', , , , ,', ', , , , ,', ', , , , ,', ', , , , ,', ', , , , ,', ', , , , ,', ', , , , ,', ', , , , ,', ', , , , ,', ', , , , ,', ', , , , ,', ', , , , ,']\n",
      "[', , , , ,', ', , , , ,', ', , , , ,', ', , , , ,', ', , , , ,', ', , , , ,', ', , , , ,', ', , , , ,', ', , , , ,', ', , , , ,', ', , , , ,', ', , , , ,', ', , , , ,', ', , , , ,', ', , , , ,', ', , , , ,']\n"
     ]
    },
    {
     "name": "stderr",
     "output_type": "stream",
     "text": [
      "\r",
      "  2%|██                                                                                                                         | 49/2999 [16:18<16:22:56, 19.99s/it]"
     ]
    },
    {
     "name": "stdout",
     "output_type": "stream",
     "text": [
      "[', , , , ,', ' Range , , , ,', ', , , , ,', ', , , , ,', ', , , , ,', ', , , , ,', ', , , , ,', ', , , , ,', ', , , , ,', ', , , , ,', ', , , , ,', ', , , , ,', ', , , , ,', ', , , , ,', ', , , , ,', ', , , , ,']\n",
      "[', , , , ,', ', , , , ,', ', , , , ,', ', , , , ,', ', , , , ,', ', , , , ,', ', , , , ,', ', , , , ,', ', , , , ,', ', , , , ,', ', , , , ,', ', , , , ,', ', , , , ,', ', , , , ,', ', , , , ,', ', , , , ,']\n"
     ]
    },
    {
     "name": "stderr",
     "output_type": "stream",
     "text": [
      "\r",
      "  2%|██                                                                                                                         | 50/2999 [16:38<16:22:29, 19.99s/it]"
     ]
    },
    {
     "name": "stdout",
     "output_type": "stream",
     "text": [
      "[', , , , ,', ', , , , ,', ', , , , ,', ', , , , ,', ', , , , ,', ', , , , ,', ', , , , ,', 'Charges , , , ,', ', , , , ,', ', , , , ,', 'tyard , , , ,', ', , , , ,', ', , , , ,', ', , , , ,', ', , , , ,', ', , , , ,']\n",
      "[', , , , ,', ', , , , ,', ', , , , ,', ', , , , ,', ', , , , ,', ', , , , ,', ', , , , ,', ', , , , ,', ', , , , ,', ', , , , ,', ', , , , ,', ', , , , ,', ', , , , ,', ', , , , ,', ', , , , ,', ', , , , ,']\n"
     ]
    },
    {
     "name": "stderr",
     "output_type": "stream",
     "text": [
      "\r",
      "  2%|██                                                                                                                         | 51/2999 [16:59<16:34:19, 20.24s/it]"
     ]
    },
    {
     "name": "stdout",
     "output_type": "stream",
     "text": [
      "84.03396606445312 0.51171875\n",
      "[', , , , ,', ', , , , ,', ', , , , ,', ' Cohen , , , ,', ', , , , ,', ', , , , ,', ', , , , ,', ', , , , ,', ', , , , ,', ', , , , ,', ', , , , ,', ', , , , ,', ', , , , ,', 'interrupted , , , ,', ', , , , ,', ', , , , ,']\n",
      "[', , , , ,', ', , , , ,', ', , , , ,', ', , , , ,', ', , , , ,', ', , , , ,', ', , , , ,', ', , , , ,', ', , , , ,', ', , , , ,', ', , , , ,', ', , , , ,', ', , , , ,', ', , , , ,', ', , , , ,', ', , , , ,']\n"
     ]
    },
    {
     "name": "stderr",
     "output_type": "stream",
     "text": [
      "\r",
      "  2%|██▏                                                                                                                        | 52/2999 [17:19<16:30:11, 20.16s/it]"
     ]
    },
    {
     "name": "stdout",
     "output_type": "stream",
     "text": [
      "[', , , , ,', ', , , , ,', ', , , , ,', ', , , , ,', ', , , , ,', ', , , , ,', ', , , , ,', ', , , , ,', ', , , , ,', ', , , , ,', ', , , , ,', ', , , , ,', ' borne , , , ,', ', , , , ,', ', , , , ,', ', , , , ,']\n",
      "[', , , , ,', ', , , , ,', ', , , , ,', ', , , , ,', ', , , , ,', ', , , , ,', ', , , , ,', ', , , , ,', ', , , , ,', ', , , , ,', ', , , , ,', ', , , , ,', ', , , , ,', ', , , , ,', ', , , , ,', ', , , , ,']\n"
     ]
    },
    {
     "name": "stderr",
     "output_type": "stream",
     "text": [
      "\r",
      "  2%|██▏                                                                                                                        | 53/2999 [17:39<16:26:21, 20.09s/it]"
     ]
    },
    {
     "name": "stdout",
     "output_type": "stream",
     "text": [
      "[', , , , ,', ', , , , ,', ', , , , ,', ', , , , ,', ', , , , ,', ', , , , ,', ', , , , ,', ', , , , ,', ', , , , ,', ', , , , ,', ', , , , ,', ', , , , ,', ', , , , ,', ', , , , ,', ', , , , ,', ', , , , ,']\n",
      "[', , , , ,', ', , , , ,', ', , , , ,', ', , , , ,', ', , , , ,', ', , , , ,', ', , , , ,', ', , , , ,', ', , , , ,', ', , , , ,', ', , , , ,', ', , , , ,', ', , , , ,', ', , , , ,', ', , , , ,', ', , , , ,']\n"
     ]
    },
    {
     "name": "stderr",
     "output_type": "stream",
     "text": [
      "\r",
      "  2%|██▏                                                                                                                        | 54/2999 [17:59<16:23:23, 20.04s/it]"
     ]
    },
    {
     "name": "stdout",
     "output_type": "stream",
     "text": [
      "[', , , , ,', ' goblins , , , ,', ', , , , ,', ', , , , ,', ', , , , ,', ', , , , ,', ', , , , ,', ', , , , ,', ', , , , ,', ', , , , ,', ', , , , ,', ', , , , ,', ', , , , ,', ', , , , ,', ', , , , ,', ', , , , ,']\n",
      "[', , , , ,', ', , , , ,', ', , , , ,', ', , , , ,', ', , , , ,', ', , , , ,', ', , , , ,', ', , , , ,', ', , , , ,', ', , , , ,', ', , , , ,', ', , , , ,', ', , , , ,', ', , , , ,', ', , , , ,', ', , , , ,']\n"
     ]
    },
    {
     "name": "stderr",
     "output_type": "stream",
     "text": [
      "\r",
      "  2%|██▎                                                                                                                        | 55/2999 [18:19<16:22:37, 20.03s/it]"
     ]
    },
    {
     "name": "stdout",
     "output_type": "stream",
     "text": [
      "[', , , , ,', ', , , , ,', ', , , , ,', ', , , , ,', ', , , , ,', ', , , , ,', ' fmt , , , ,', ', , , , ,', 'Application , , , ,', ', , , , ,', ', , , , ,', ', , , , ,', ', , , , ,', ', , , , ,', ', , , , ,', ', , , , ,']\n",
      "[', , , , ,', ', , , , ,', ', , , , ,', ', , , , ,', ', , , , ,', ', , , , ,', ', , , , ,', ', , , , ,', ', , , , ,', ', , , , ,', ', , , , ,', ', , , , ,', ', , , , ,', ', , , , ,', ', , , , ,', ', , , , ,']\n"
     ]
    },
    {
     "name": "stderr",
     "output_type": "stream",
     "text": [
      "\r",
      "  2%|██▎                                                                                                                        | 56/2999 [18:39<16:21:24, 20.01s/it]"
     ]
    },
    {
     "name": "stdout",
     "output_type": "stream",
     "text": [
      "[', , , , ,', ', , , , ,', ', , , , ,', ', , , , ,', ', , , , ,', ' Development , , , ,', ', , , , ,', ', , , , ,', ', , , , ,', ', , , , ,', ', , , , ,', ', , , , ,', ' gloom , , , ,', ', , , , ,', ', , , , ,', ', , , , ,']\n",
      "[', , , , ,', ', , , , ,', ', , , , ,', ', , , , ,', ', , , , ,', ', , , , ,', ', , , , ,', ', , , , ,', ', , , , ,', ', , , , ,', ', , , , ,', ', , , , ,', ', , , , ,', ', , , , ,', ', , , , ,', ', , , , ,']\n"
     ]
    },
    {
     "name": "stderr",
     "output_type": "stream",
     "text": [
      "\r",
      "  2%|██▎                                                                                                                        | 57/2999 [18:59<16:19:03, 19.97s/it]"
     ]
    },
    {
     "name": "stdout",
     "output_type": "stream",
     "text": [
      "[', , , , ,', ', , , , ,', ', , , , ,', ', , , , ,', ', , , , ,', ', , , , ,', ', , , , ,', ', , , , ,', ', , , , ,', ', , , , ,', ', , , , ,', ', , , , ,', ', , , , ,', ', , , , ,', ', , , , ,', ', , , , ,']\n",
      "[', , , , ,', ', , , , ,', ', , , , ,', ', , , , ,', ', , , , ,', ', , , , ,', ', , , , ,', ', , , , ,', ', , , , ,', ', , , , ,', ', , , , ,', ', , , , ,', ', , , , ,', ', , , , ,', ', , , , ,', ', , , , ,']\n"
     ]
    },
    {
     "name": "stderr",
     "output_type": "stream",
     "text": [
      "\r",
      "  2%|██▍                                                                                                                        | 58/2999 [19:19<16:19:26, 19.98s/it]"
     ]
    },
    {
     "name": "stdout",
     "output_type": "stream",
     "text": [
      "[', , , , ,', ', , , , ,', ', , , , ,', ', , , , ,', ', , , , ,', ', , , , ,', 'stage , , , ,', ', , , , ,', ', , , , ,', ', , , , ,', ', , , , ,', ', , , , ,', 'lesh , , , ,', ', , , , ,', ', , , , ,', ', , , , ,']\n",
      "[', , , , ,', ', , , , ,', ', , , , ,', ', , , , ,', ', , , , ,', ', , , , ,', ', , , , ,', ', , , , ,', ', , , , ,', ', , , , ,', ', , , , ,', ', , , , ,', ', , , , ,', ', , , , ,', ', , , , ,', ', , , , ,']\n"
     ]
    },
    {
     "name": "stderr",
     "output_type": "stream",
     "text": [
      "\r",
      "  2%|██▍                                                                                                                        | 59/2999 [19:39<16:18:21, 19.97s/it]"
     ]
    },
    {
     "name": "stdout",
     "output_type": "stream",
     "text": [
      "[', , , , ,', ', , , , ,', ', , , , ,', ', , , , ,', ', , , , ,', ', , , , ,', ', , , , ,', ', , , , ,', ', , , , ,', ', , , , ,', ', , , , ,', ', , , , ,', ', , , , ,', ', , , , ,', ', , , , ,', ', , , , ,']\n",
      "[', , , , ,', ', , , , ,', ', , , , ,', ', , , , ,', ', , , , ,', ', , , , ,', ', , , , ,', ', , , , ,', ', , , , ,', ', , , , ,', ', , , , ,', ', , , , ,', ', , , , ,', ', , , , ,', ', , , , ,', ', , , , ,']\n"
     ]
    },
    {
     "name": "stderr",
     "output_type": "stream",
     "text": [
      "\r",
      "  2%|██▍                                                                                                                        | 60/2999 [19:59<16:17:48, 19.96s/it]"
     ]
    },
    {
     "name": "stdout",
     "output_type": "stream",
     "text": [
      "['bay , , , ,', ', , , , ,', ' Taylor , , , ,', ', , , , ,', ', , , , ,', ', , , , ,', ', , , , ,', ', , , , ,', ' seam , , , ,', ', , , , ,', ' contamin , , , ,', ', , , , ,', ', , , , ,', ', , , , ,', ', , , , ,', ', , , , ,']\n",
      "[', , , , ,', ', , , , ,', ', , , , ,', ', , , , ,', ', , , , ,', ', , , , ,', ', , , , ,', ', , , , ,', ', , , , ,', ', , , , ,', ', , , , ,', ', , , , ,', ', , , , ,', ', , , , ,', ', , , , ,', ', , , , ,']\n"
     ]
    },
    {
     "name": "stderr",
     "output_type": "stream",
     "text": [
      "\r",
      "  2%|██▌                                                                                                                        | 61/2999 [20:19<16:19:19, 20.00s/it]"
     ]
    },
    {
     "name": "stdout",
     "output_type": "stream",
     "text": [
      "83.1135482788086 0.5078125\n",
      "[', , , , ,', ', , , , ,', ', , , , ,', ', , , , ,', ', , , , ,', ', , , , ,', ', , , , ,', ', , , , ,', ', , , , ,', ', , , , ,', ', , , , ,', ', , , , ,', ', , , , ,', ', , , , ,', ', , , , ,', ', , , , ,']\n",
      "[', , , , ,', ', , , , ,', ', , , , ,', ', , , , ,', ', , , , ,', ', , , , ,', ', , , , ,', ', , , , ,', ', , , , ,', ', , , , ,', ', , , , ,', ', , , , ,', ', , , , ,', ', , , , ,', ', , , , ,', ', , , , ,']\n"
     ]
    },
    {
     "name": "stderr",
     "output_type": "stream",
     "text": [
      "\r",
      "  2%|██▌                                                                                                                        | 62/2999 [20:39<16:17:55, 19.98s/it]"
     ]
    },
    {
     "name": "stdout",
     "output_type": "stream",
     "text": [
      "[', , , , ,', ', , , , ,', ', , , , ,', ', , , , ,', ', , , , ,', ', , , , ,', ', , , , ,', ', , , , ,', ', , , , ,', ', , , , ,', ', , , , ,', ', , , , ,', ', , , , ,', ', , , , ,', ', , , , ,', ', , , , ,']\n",
      "[', , , , ,', ', , , , ,', ', , , , ,', ', , , , ,', ', , , , ,', ', , , , ,', ', , , , ,', ', , , , ,', ', , , , ,', ', , , , ,', ', , , , ,', ', , , , ,', ', , , , ,', ', , , , ,', ', , , , ,', ', , , , ,']\n"
     ]
    },
    {
     "name": "stderr",
     "output_type": "stream",
     "text": [
      "\r",
      "  2%|██▌                                                                                                                        | 63/2999 [20:58<16:16:42, 19.96s/it]"
     ]
    },
    {
     "name": "stdout",
     "output_type": "stream",
     "text": [
      "[', , , , ,', ', , , , ,', ', , , , ,', ', , , , ,', ', , , , ,', ', , , , ,', ', , , , ,', ', , , , ,', ' FPS , , , ,', ', , , , ,', ', , , , ,', ', , , , ,', ', , , , ,', ', , , , ,', ', , , , ,', ', , , , ,']\n",
      "[', , , , ,', ', , , , ,', ', , , , ,', ', , , , ,', ', , , , ,', ', , , , ,', ', , , , ,', ', , , , ,', ', , , , ,', ', , , , ,', ', , , , ,', ', , , , ,', ', , , , ,', ', , , , ,', ', , , , ,', ', , , , ,']\n"
     ]
    },
    {
     "name": "stderr",
     "output_type": "stream",
     "text": [
      "\r",
      "  2%|██▌                                                                                                                        | 64/2999 [21:18<16:16:26, 19.96s/it]"
     ]
    },
    {
     "name": "stdout",
     "output_type": "stream",
     "text": [
      "[', , , , ,', ', , , , ,', ', , , , ,', ', , , , ,', ', , , , ,', ', , , , ,', ', , , , ,', ', , , , ,', ', , , , ,', ', , , , ,', ', , , , ,', ', , , , ,', ', , , , ,', ', , , , ,', ', , , , ,', ', , , , ,']\n",
      "[', , , , ,', ', , , , ,', ', , , , ,', ', , , , ,', ', , , , ,', ', , , , ,', ', , , , ,', ', , , , ,', ', , , , ,', ', , , , ,', ', , , , ,', ', , , , ,', ', , , , ,', ', , , , ,', ', , , , ,', ', , , , ,']\n"
     ]
    },
    {
     "name": "stderr",
     "output_type": "stream",
     "text": [
      "\r",
      "  2%|██▋                                                                                                                        | 65/2999 [21:38<16:16:43, 19.97s/it]"
     ]
    },
    {
     "name": "stdout",
     "output_type": "stream",
     "text": [
      "[', , , , ,', ', , , , ,', ', , , , ,', ', , , , ,', ', , , , ,', 'hler , , , ,', ', , , , ,', ' Input , , , ,', 'Pages , , , ,', ', , , , ,', ', , , , ,', ', , , , ,', ', , , , ,', ', , , , ,', ', , , , ,', ', , , , ,']\n",
      "[', , , , ,', ', , , , ,', ', , , , ,', ', , , , ,', ', , , , ,', ', , , , ,', ', , , , ,', ', , , , ,', ', , , , ,', ', , , , ,', ', , , , ,', ', , , , ,', ', , , , ,', ', , , , ,', ', , , , ,', ', , , , ,']\n"
     ]
    },
    {
     "name": "stderr",
     "output_type": "stream",
     "text": [
      "\r",
      "  2%|██▋                                                                                                                        | 66/2999 [21:58<16:17:13, 19.99s/it]"
     ]
    },
    {
     "name": "stdout",
     "output_type": "stream",
     "text": [
      "[', , , , ,', ', , , , ,', ', , , , ,', ', , , , ,', ', , , , ,', ', , , , ,', ', , , , ,', ', , , , ,', ', , , , ,', ', , , , ,', ', , , , ,', ', , , , ,', ' livest , , , ,', ', , , , ,', ', , , , ,', ', , , , ,']\n",
      "[', , , , ,', ', , , , ,', ', , , , ,', ', , , , ,', ', , , , ,', ', , , , ,', ', , , , ,', ', , , , ,', ', , , , ,', ', , , , ,', ', , , , ,', ', , , , ,', ', , , , ,', ', , , , ,', ', , , , ,', ', , , , ,']\n"
     ]
    },
    {
     "name": "stderr",
     "output_type": "stream",
     "text": [
      "\r",
      "  2%|██▋                                                                                                                        | 67/2999 [22:18<16:16:42, 19.99s/it]"
     ]
    },
    {
     "name": "stdout",
     "output_type": "stream",
     "text": [
      "[', , , , ,', ', , , , ,', ', , , , ,', ', , , , ,', ', , , , ,', ', , , , ,', ', , , , ,', ', , , , ,', ', , , , ,', ', , , , ,', ', , , , ,', ', , , , ,', ', , , , ,', ', , , , ,', ', , , , ,', ', , , , ,']\n",
      "[', , , , ,', ', , , , ,', ', , , , ,', ', , , , ,', ', , , , ,', ', , , , ,', ', , , , ,', ', , , , ,', ', , , , ,', ', , , , ,', ', , , , ,', ', , , , ,', ', , , , ,', ', , , , ,', ', , , , ,', ', , , , ,']\n"
     ]
    },
    {
     "name": "stderr",
     "output_type": "stream",
     "text": [
      "\r",
      "  2%|██▊                                                                                                                        | 68/2999 [22:38<16:15:54, 19.98s/it]"
     ]
    },
    {
     "name": "stdout",
     "output_type": "stream",
     "text": [
      "[', , , , ,', ', , , , ,', ', , , , ,', ' Sample , , , ,', ', , , , ,', ', , , , ,', ', , , , ,', ', , , , ,', ' Brazil , , , ,', ', , , , ,', ', , , , ,', ', , , , ,', ', , , , ,', ', , , , ,', ', , , , ,', ', , , , ,']\n",
      "[', , , , ,', ', , , , ,', ', , , , ,', ', , , , ,', ', , , , ,', ', , , , ,', ', , , , ,', ', , , , ,', ', , , , ,', ', , , , ,', ', , , , ,', ', , , , ,', ', , , , ,', ', , , , ,', ', , , , ,', ', , , , ,']\n"
     ]
    },
    {
     "name": "stderr",
     "output_type": "stream",
     "text": [
      "\r",
      "  2%|██▊                                                                                                                        | 69/2999 [22:58<16:15:50, 19.98s/it]"
     ]
    },
    {
     "name": "stdout",
     "output_type": "stream",
     "text": [
      "[' foot , , , ,', ', , , , ,', ', , , , ,', ', , , , ,', ', , , , ,', ', , , , ,', ', , , , ,', '461 , , , ,', ', , , , ,', ', , , , ,', ' salty , , , ,', ', , , , ,', ', , , , ,', ', , , , ,', ', , , , ,', ', , , , ,']\n",
      "[', , , , ,', ', , , , ,', ', , , , ,', ', , , , ,', ', , , , ,', ', , , , ,', ', , , , ,', ', , , , ,', ', , , , ,', ', , , , ,', ', , , , ,', ', , , , ,', ', , , , ,', ', , , , ,', ', , , , ,', ', , , , ,']\n"
     ]
    },
    {
     "name": "stderr",
     "output_type": "stream",
     "text": [
      "\r",
      "  2%|██▊                                                                                                                        | 70/2999 [23:18<16:14:08, 19.96s/it]"
     ]
    },
    {
     "name": "stdout",
     "output_type": "stream",
     "text": [
      "[', , , , ,', ', , , , ,', ', , , , ,', ', , , , ,', ', , , , ,', ', , , , ,', ', , , , ,', ', , , , ,', ', , , , ,', ', , , , ,', ', , , , ,', ', , , , ,', ', , , , ,', ', , , , ,', ', , , , ,', ', , , , ,']\n",
      "[', , , , ,', ', , , , ,', ', , , , ,', ', , , , ,', ', , , , ,', ', , , , ,', ', , , , ,', ', , , , ,', ', , , , ,', ', , , , ,', ', , , , ,', ', , , , ,', ', , , , ,', ', , , , ,', ', , , , ,', ', , , , ,']\n"
     ]
    },
    {
     "name": "stderr",
     "output_type": "stream",
     "text": [
      "\r",
      "  2%|██▉                                                                                                                        | 71/2999 [23:38<16:12:25, 19.93s/it]"
     ]
    },
    {
     "name": "stdout",
     "output_type": "stream",
     "text": [
      "43.85758590698242 0.5\n",
      "[', , , , ,', ', , , , ,', ', , , , ,', ', , , , ,', ', , , , ,', ', , , , ,', ', , , , ,', ', , , , ,', ', , , , ,', ', , , , ,', ', , , , ,', ', , , , ,', ', , , , ,', ', , , , ,', ', , , , ,', ', , , , ,']\n",
      "[', , , , ,', ', , , , ,', ', , , , ,', ', , , , ,', ', , , , ,', ', , , , ,', ', , , , ,', ', , , , ,', ', , , , ,', ', , , , ,', ', , , , ,', ', , , , ,', ', , , , ,', ', , , , ,', ', , , , ,', ', , , , ,']\n"
     ]
    },
    {
     "name": "stderr",
     "output_type": "stream",
     "text": [
      "\r",
      "  2%|██▉                                                                                                                        | 72/2999 [23:58<16:12:39, 19.94s/it]"
     ]
    },
    {
     "name": "stdout",
     "output_type": "stream",
     "text": [
      "[', , , , ,', ', , , , ,', ', , , , ,', ', , , , ,', ', , , , ,', ', , , , ,', ', , , , ,', ', , , , ,', ', , , , ,', ', , , , ,', ', , , , ,', ', , , , ,', ', , , , ,', ', , , , ,', ' tabletop , , , ,', ', , , , ,']\n",
      "[', , , , ,', ', , , , ,', ', , , , ,', ', , , , ,', ', , , , ,', ', , , , ,', ', , , , ,', ', , , , ,', ', , , , ,', ', , , , ,', ', , , , ,', ', , , , ,', ', , , , ,', ', , , , ,', ', , , , ,', ', , , , ,']\n"
     ]
    },
    {
     "name": "stderr",
     "output_type": "stream",
     "text": [
      "\r",
      "  2%|██▉                                                                                                                        | 73/2999 [24:18<16:13:14, 19.96s/it]"
     ]
    },
    {
     "name": "stdout",
     "output_type": "stream",
     "text": [
      "[' fian , , , ,', ', , , , ,', ' feelings , , , ,', 'player , , , ,', ', , , , ,', ', , , , ,', ', , , , ,', ', , , , ,', ', , , , ,', ', , , , ,', ', , , , ,', ', , , , ,', ', , , , ,', ', , , , ,', ', , , , ,', ' sle , , , ,']\n",
      "[', , , , ,', ', , , , ,', ', , , , ,', ', , , , ,', ', , , , ,', ', , , , ,', ', , , , ,', ', , , , ,', ', , , , ,', ', , , , ,', ', , , , ,', ', , , , ,', ', , , , ,', ', , , , ,', ', , , , ,', ', , , , ,']\n"
     ]
    },
    {
     "name": "stderr",
     "output_type": "stream",
     "text": [
      "\r",
      "  2%|███                                                                                                                        | 74/2999 [24:38<16:12:53, 19.96s/it]"
     ]
    },
    {
     "name": "stdout",
     "output_type": "stream",
     "text": [
      "[', , , , ,', ', , , , ,', ', , , , ,', ', , , , ,', ', , , , ,', ' Manitoba , , , ,', ', , , , ,', ' demonstr , , , ,', ', , , , ,', ', , , , ,', ', , , , ,', ', , , , ,', ', , , , ,', ', , , , ,', ', , , , ,', ', , , , ,']\n",
      "[', , , , ,', ', , , , ,', ', , , , ,', ', , , , ,', ', , , , ,', ', , , , ,', ', , , , ,', ', , , , ,', ', , , , ,', ', , , , ,', ', , , , ,', ', , , , ,', ', , , , ,', ', , , , ,', ', , , , ,', ', , , , ,']\n"
     ]
    },
    {
     "name": "stderr",
     "output_type": "stream",
     "text": [
      "\r",
      "  3%|███                                                                                                                        | 75/2999 [24:58<16:11:51, 19.94s/it]"
     ]
    },
    {
     "name": "stdout",
     "output_type": "stream",
     "text": [
      "[', , , , ,', ' delighted , , , ,', ', , , , ,', ', , , , ,', ', , , , ,', ', , , , ,', ', , , , ,', ', , , , ,', '80 , , , ,', ', , , , ,', ', , , , ,', ', , , , ,', ', , , , ,', ', , , , ,', ', , , , ,', ', , , , ,']\n",
      "[', , , , ,', ', , , , ,', ', , , , ,', ', , , , ,', ', , , , ,', ', , , , ,', ', , , , ,', ', , , , ,', ', , , , ,', ', , , , ,', ', , , , ,', ', , , , ,', ', , , , ,', ', , , , ,', ', , , , ,', ', , , , ,']\n"
     ]
    },
    {
     "name": "stderr",
     "output_type": "stream",
     "text": [
      "\r",
      "  3%|███                                                                                                                        | 76/2999 [25:18<16:11:24, 19.94s/it]"
     ]
    },
    {
     "name": "stdout",
     "output_type": "stream",
     "text": [
      "['OY , , , ,', ', , , , ,', ', , , , ,', ', , , , ,', ', , , , ,', ', , , , ,', ' prost , , , ,', ', , , , ,', ', , , , ,', ', , , , ,', ', , , , ,', ' random , , , ,', ', , , , ,', ', , , , ,', ', , , , ,', ', , , , ,']\n",
      "[', , , , ,', ', , , , ,', ', , , , ,', ', , , , ,', ', , , , ,', ', , , , ,', ', , , , ,', ', , , , ,', ', , , , ,', ', , , , ,', ', , , , ,', ', , , , ,', ', , , , ,', ', , , , ,', ', , , , ,', ', , , , ,']\n"
     ]
    },
    {
     "name": "stderr",
     "output_type": "stream",
     "text": [
      "\r",
      "  3%|███▏                                                                                                                       | 77/2999 [25:38<16:11:38, 19.95s/it]"
     ]
    },
    {
     "name": "stdout",
     "output_type": "stream",
     "text": [
      "[', , , , ,', ' CONTROL , , , ,', ', , , , ,', ', , , , ,', ', , , , ,', ' 1925 , , , ,', ', , , , ,', ', , , , ,', ' individuals , , , ,', ', , , , ,', ', , , , ,', ', , , , ,', ', , , , ,', ', , , , ,', ', , , , ,', ', , , , ,']\n",
      "[', , , , ,', ', , , , ,', ', , , , ,', ', , , , ,', ', , , , ,', ', , , , ,', ', , , , ,', ', , , , ,', ', , , , ,', ', , , , ,', ', , , , ,', ', , , , ,', ', , , , ,', ', , , , ,', ', , , , ,', ', , , , ,']\n"
     ]
    },
    {
     "name": "stderr",
     "output_type": "stream",
     "text": [
      "\r",
      "  3%|███▏                                                                                                                       | 78/2999 [25:58<16:11:05, 19.95s/it]"
     ]
    },
    {
     "name": "stdout",
     "output_type": "stream",
     "text": [
      "[' Immigration , , , ,', ', , , , ,', ', , , , ,', ', , , , ,', ', , , , ,', ', , , , ,', ', , , , ,', ', , , , ,', ', , , , ,', ', , , , ,', ', , , , ,', ', , , , ,', ' injury , , , ,', ', , , , ,', ', , , , ,', ' dop , , , ,']\n",
      "[', , , , ,', ', , , , ,', ', , , , ,', ', , , , ,', ', , , , ,', ', , , , ,', ', , , , ,', ', , , , ,', ', , , , ,', ', , , , ,', ', , , , ,', ', , , , ,', ', , , , ,', ', , , , ,', ', , , , ,', ', , , , ,']\n"
     ]
    },
    {
     "name": "stderr",
     "output_type": "stream",
     "text": [
      "\r",
      "  3%|███▏                                                                                                                       | 79/2999 [26:18<16:11:53, 19.97s/it]"
     ]
    },
    {
     "name": "stdout",
     "output_type": "stream",
     "text": [
      "[', , , , ,', ', , , , ,', ', , , , ,', ', , , , ,', ', , , , ,', ', , , , ,', ', , , , ,', ', , , , ,', ', , , , ,', ', , , , ,', ', , , , ,', ', , , , ,', ', , , , ,', ' Present , , , ,', 'ilage , , , ,', ', , , , ,']\n",
      "[', , , , ,', ', , , , ,', ', , , , ,', ', , , , ,', ', , , , ,', ', , , , ,', ', , , , ,', ', , , , ,', ', , , , ,', ', , , , ,', ', , , , ,', ', , , , ,', ', , , , ,', ', , , , ,', ', , , , ,', ', , , , ,']\n"
     ]
    },
    {
     "name": "stderr",
     "output_type": "stream",
     "text": [
      "\r",
      "  3%|███▎                                                                                                                       | 80/2999 [26:38<16:11:52, 19.98s/it]"
     ]
    },
    {
     "name": "stdout",
     "output_type": "stream",
     "text": [
      "['lav , , , ,', ', , , , ,', ', , , , ,', ', , , , ,', ', , , , ,', ', , , , ,', ', , , , ,', ', , , , ,', ', , , , ,', ', , , , ,', ', , , , ,', ', , , , ,', ', , , , ,', ', , , , ,', ', , , , ,', ', , , , ,']\n",
      "[', , , , ,', ', , , , ,', ', , , , ,', ', , , , ,', ', , , , ,', ', , , , ,', ', , , , ,', ', , , , ,', ', , , , ,', ', , , , ,', ', , , , ,', ', , , , ,', ', , , , ,', ', , , , ,', ', , , , ,', ', , , , ,']\n"
     ]
    },
    {
     "name": "stderr",
     "output_type": "stream",
     "text": [
      "\r",
      "  3%|███▎                                                                                                                       | 81/2999 [26:58<16:10:30, 19.96s/it]"
     ]
    },
    {
     "name": "stdout",
     "output_type": "stream",
     "text": [
      "63.103240966796875 0.5078125\n",
      "[', , , , ,', ', , , , ,', ', , , , ,', ', , , , ,', ' >> , , , ,', ', , , , ,', ', , , , ,', ' $$ , , , ,', ', , , , ,', ', , , , ,', ', , , , ,', ', , , , ,', ', , , , ,', ', , , , ,', ', , , , ,', ', , , , ,']\n",
      "[', , , , ,', ', , , , ,', ', , , , ,', ', , , , ,', ', , , , ,', ', , , , ,', ', , , , ,', ', , , , ,', ', , , , ,', ', , , , ,', ', , , , ,', ', , , , ,', ', , , , ,', ', , , , ,', ', , , , ,', ', , , , ,']\n"
     ]
    },
    {
     "name": "stderr",
     "output_type": "stream",
     "text": [
      "\r",
      "  3%|███▎                                                                                                                       | 82/2999 [27:18<16:09:08, 19.93s/it]"
     ]
    },
    {
     "name": "stdout",
     "output_type": "stream",
     "text": [
      "[', , , , ,', ', , , , ,', ', , , , ,', ', , , , ,', ', , , , ,', 'ICT , , , ,', ', , , , ,', ', , , , ,', ', , , , ,', '�醒 , , , ,', ', , , , ,', ', , , , ,', ', , , , ,', ', , , , ,', ', , , , ,', ', , , , ,']\n",
      "[', , , , ,', ', , , , ,', ', , , , ,', ', , , , ,', ', , , , ,', ', , , , ,', ', , , , ,', ', , , , ,', ', , , , ,', ', , , , ,', ', , , , ,', ', , , , ,', ', , , , ,', ', , , , ,', ', , , , ,', ', , , , ,']\n"
     ]
    },
    {
     "name": "stderr",
     "output_type": "stream",
     "text": [
      "\r",
      "  3%|███▍                                                                                                                       | 83/2999 [27:38<16:08:43, 19.93s/it]"
     ]
    },
    {
     "name": "stdout",
     "output_type": "stream",
     "text": [
      "[', , , , ,', ', , , , ,', ' rack , , , ,', ', , , , ,', ', , , , ,', ', , , , ,', ' varying , , , ,', ', , , , ,', ', , , , ,', ', , , , ,', ' Kut , , , ,', ' chemist , , , ,', ', , , , ,', ', , , , ,', ', , , , ,', ', , , , ,']\n",
      "[', , , , ,', ', , , , ,', ', , , , ,', ', , , , ,', ', , , , ,', ', , , , ,', ', , , , ,', ', , , , ,', ', , , , ,', ', , , , ,', ', , , , ,', ', , , , ,', ', , , , ,', ', , , , ,', ', , , , ,', ', , , , ,']\n"
     ]
    },
    {
     "name": "stderr",
     "output_type": "stream",
     "text": [
      "\r",
      "  3%|███▍                                                                                                                       | 84/2999 [27:57<16:08:20, 19.93s/it]"
     ]
    },
    {
     "name": "stdout",
     "output_type": "stream",
     "text": [
      "[', , , , ,', ', , , , ,', ', , , , ,', ', , , , ,', ', , , , ,', ', , , , ,', ', , , , ,', ', , , , ,', ', , , , ,', ', , , , ,', ', , , , ,', ', , , , ,', ', , , , ,', ', , , , ,', ', , , , ,', ', , , , ,']\n",
      "[', , , , ,', ', , , , ,', ', , , , ,', ', , , , ,', ', , , , ,', ', , , , ,', ', , , , ,', ', , , , ,', ', , , , ,', ', , , , ,', ', , , , ,', ', , , , ,', ', , , , ,', ', , , , ,', ', , , , ,', ', , , , ,']\n"
     ]
    },
    {
     "name": "stderr",
     "output_type": "stream",
     "text": [
      "\r",
      "  3%|███▍                                                                                                                       | 85/2999 [28:18<16:10:39, 19.99s/it]"
     ]
    },
    {
     "name": "stdout",
     "output_type": "stream",
     "text": [
      "[', , , , ,', ', , , , ,', ', , , , ,', ', , , , ,', ', , , , ,', ', , , , ,', ', , , , ,', ', , , , ,', ', , , , ,', ', , , , ,', ', , , , ,', ', , , , ,', ', , , , ,', ', , , , ,', ' settlements , , , ,', ', , , , ,']\n",
      "[', , , , ,', ', , , , ,', ', , , , ,', ', , , , ,', ', , , , ,', ', , , , ,', ', , , , ,', ', , , , ,', ', , , , ,', ', , , , ,', ', , , , ,', ', , , , ,', ', , , , ,', ', , , , ,', ', , , , ,', ', , , , ,']\n"
     ]
    },
    {
     "name": "stderr",
     "output_type": "stream",
     "text": [
      "\r",
      "  3%|███▌                                                                                                                       | 86/2999 [28:38<16:10:38, 19.99s/it]"
     ]
    },
    {
     "name": "stdout",
     "output_type": "stream",
     "text": [
      "[', , , , ,', ', , , , ,', ', , , , ,', ', , , , ,', ', , , , ,', ', , , , ,', ' judged , , , ,', ', , , , ,', ', , , , ,', ', , , , ,', ', , , , ,', ', , , , ,', ', , , , ,', ', , , , ,', ', , , , ,', ', , , , ,']\n",
      "[', , , , ,', ', , , , ,', ', , , , ,', ', , , , ,', ', , , , ,', ', , , , ,', ', , , , ,', ', , , , ,', ', , , , ,', ', , , , ,', ', , , , ,', ', , , , ,', ', , , , ,', ', , , , ,', ', , , , ,', ', , , , ,']\n"
     ]
    },
    {
     "name": "stderr",
     "output_type": "stream",
     "text": [
      "\r",
      "  3%|███▌                                                                                                                       | 87/2999 [28:58<16:11:13, 20.01s/it]"
     ]
    },
    {
     "name": "stdout",
     "output_type": "stream",
     "text": [
      "[', , , , ,', ', , , , ,', ', , , , ,', ', , , , ,', ', , , , ,', ', , , , ,', ', , , , ,', ', , , , ,', ', , , , ,', ', , , , ,', ' turnout , , , ,', ', , , , ,', ', , , , ,', ', , , , ,', ', , , , ,', ' Bernie , , , ,']\n",
      "[', , , , ,', ', , , , ,', ', , , , ,', ', , , , ,', ', , , , ,', ', , , , ,', ', , , , ,', ', , , , ,', ', , , , ,', ', , , , ,', ', , , , ,', ', , , , ,', ', , , , ,', ', , , , ,', ', , , , ,', ', , , , ,']\n"
     ]
    },
    {
     "name": "stderr",
     "output_type": "stream",
     "text": [
      "\r",
      "  3%|███▌                                                                                                                       | 88/2999 [29:18<16:12:15, 20.04s/it]"
     ]
    },
    {
     "name": "stdout",
     "output_type": "stream",
     "text": [
      "[', , , , ,', ', , , , ,', ', , , , ,', ', , , , ,', ', , , , ,', ', , , , ,', ', , , , ,', ', , , , ,', ', , , , ,', 'amac , , , ,', ' Highlights , , , ,', ', , , , ,', ', , , , ,', ', , , , ,', ', , , , ,', ', , , , ,']\n",
      "[', , , , ,', ', , , , ,', ', , , , ,', ', , , , ,', ', , , , ,', ', , , , ,', ', , , , ,', ', , , , ,', ', , , , ,', ', , , , ,', ', , , , ,', ', , , , ,', ', , , , ,', ', , , , ,', ', , , , ,', ', , , , ,']\n"
     ]
    },
    {
     "name": "stderr",
     "output_type": "stream",
     "text": [
      "\r",
      "  3%|███▋                                                                                                                       | 89/2999 [29:38<16:09:35, 19.99s/it]"
     ]
    },
    {
     "name": "stdout",
     "output_type": "stream",
     "text": [
      "[', , , , ,', ', , , , ,', ', , , , ,', ', , , , ,', ', , , , ,', ', , , , ,', ', , , , ,', ', , , , ,', ', , , , ,', ', , , , ,', ', , , , ,', ', , , , ,', 'Bon , , , ,', ', , , , ,', ', , , , ,', ', , , , ,']\n",
      "[', , , , ,', ', , , , ,', ', , , , ,', ', , , , ,', ', , , , ,', ', , , , ,', ', , , , ,', ', , , , ,', ', , , , ,', ', , , , ,', ', , , , ,', ', , , , ,', ', , , , ,', ', , , , ,', ', , , , ,', ', , , , ,']\n"
     ]
    },
    {
     "name": "stderr",
     "output_type": "stream",
     "text": [
      "\r",
      "  3%|███▋                                                                                                                       | 90/2999 [29:57<16:07:20, 19.95s/it]"
     ]
    },
    {
     "name": "stdout",
     "output_type": "stream",
     "text": [
      "[', , , , ,', ', , , , ,', ', , , , ,', ', , , , ,', ', , , , ,', ', , , , ,', ', , , , ,', ', , , , ,', ', , , , ,', ', , , , ,', ', , , , ,', ', , , , ,', ', , , , ,', ', , , , ,', ' Sons , , , ,', ', , , , ,']\n",
      "[', , , , ,', ', , , , ,', ', , , , ,', ', , , , ,', ', , , , ,', ', , , , ,', ', , , , ,', ', , , , ,', ', , , , ,', ', , , , ,', ', , , , ,', ', , , , ,', ', , , , ,', ', , , , ,', ', , , , ,', ', , , , ,']\n"
     ]
    },
    {
     "name": "stderr",
     "output_type": "stream",
     "text": [
      "\r",
      "  3%|███▋                                                                                                                       | 91/2999 [30:18<16:08:05, 19.97s/it]"
     ]
    },
    {
     "name": "stdout",
     "output_type": "stream",
     "text": [
      "63.76906204223633 0.50390625\n",
      "[', , , , ,', ', , , , ,', ', , , , ,', ', , , , ,', ', , , , ,', ', , , , ,', ', , , , ,', ', , , , ,', ', , , , ,', ', , , , ,', ', , , , ,', ' annihil , , , ,', ', , , , ,', ', , , , ,', ', , , , ,', ', , , , ,']\n",
      "[', , , , ,', ', , , , ,', ', , , , ,', ', , , , ,', ', , , , ,', ', , , , ,', ', , , , ,', ', , , , ,', ', , , , ,', ', , , , ,', ', , , , ,', ', , , , ,', ', , , , ,', ', , , , ,', ', , , , ,', ', , , , ,']\n"
     ]
    },
    {
     "name": "stderr",
     "output_type": "stream",
     "text": [
      "\r",
      "  3%|███▊                                                                                                                       | 92/2999 [30:37<16:07:18, 19.97s/it]"
     ]
    },
    {
     "name": "stdout",
     "output_type": "stream",
     "text": [
      "[' establishes , , , ,', ' microbiome , , , ,', ' standard , , , ,', ', , , , ,', ', , , , ,', ', , , , ,', ', , , , ,', ', , , , ,', ', , , , ,', ', , , , ,', ', , , , ,', ', , , , ,', ', , , , ,', ', , , , ,', ', , , , ,', ', , , , ,']\n",
      "[', , , , ,', ', , , , ,', ', , , , ,', ', , , , ,', ', , , , ,', ', , , , ,', ', , , , ,', ', , , , ,', ', , , , ,', ', , , , ,', ', , , , ,', ', , , , ,', ', , , , ,', ', , , , ,', ', , , , ,', ', , , , ,']\n"
     ]
    },
    {
     "name": "stderr",
     "output_type": "stream",
     "text": [
      "\r",
      "  3%|███▊                                                                                                                       | 93/2999 [30:57<16:06:02, 19.95s/it]"
     ]
    },
    {
     "name": "stdout",
     "output_type": "stream",
     "text": [
      "[', , , , ,', ', , , , ,', ', , , , ,', ', , , , ,', '044 , , , ,', ', , , , ,', ' gull , , , ,', ', , , , ,', ', , , , ,', ', , , , ,', ', , , , ,', ', , , , ,', ', , , , ,', '  , , , ,', ', , , , ,', ', , , , ,']\n",
      "[', , , , ,', ', , , , ,', ', , , , ,', ', , , , ,', ', , , , ,', ', , , , ,', ', , , , ,', ', , , , ,', ', , , , ,', ', , , , ,', ', , , , ,', ', , , , ,', ', , , , ,', ', , , , ,', ', , , , ,', ', , , , ,']\n"
     ]
    },
    {
     "name": "stderr",
     "output_type": "stream",
     "text": [
      "\r",
      "  3%|███▊                                                                                                                       | 94/2999 [31:17<16:05:30, 19.94s/it]"
     ]
    },
    {
     "name": "stdout",
     "output_type": "stream",
     "text": [
      "[', , , , ,', ', , , , ,', ', , , , ,', ', , , , ,', ', , , , ,', ', , , , ,', ', , , , ,', ', , , , ,', ', , , , ,', ', , , , ,', ', , , , ,', ', , , , ,', ', , , , ,', ' lame , , , ,', ', , , , ,', ', , , , ,']\n",
      "[', , , , ,', ', , , , ,', ', , , , ,', ', , , , ,', ', , , , ,', ', , , , ,', ', , , , ,', ', , , , ,', ', , , , ,', ', , , , ,', ', , , , ,', ', , , , ,', ', , , , ,', ', , , , ,', ', , , , ,', ', , , , ,']\n"
     ]
    },
    {
     "name": "stderr",
     "output_type": "stream",
     "text": [
      "\r",
      "  3%|███▉                                                                                                                       | 95/2999 [31:37<16:04:49, 19.93s/it]"
     ]
    },
    {
     "name": "stdout",
     "output_type": "stream",
     "text": [
      "[', , , , ,', ', , , , ,', ', , , , ,', ', , , , ,', ', , , , ,', ', , , , ,', ', , , , ,', 'leneck , , , ,', ', , , , ,', ', , , , ,', ', , , , ,', ' Spir , , , ,', ', , , , ,', ', , , , ,', ', , , , ,', ', , , , ,']\n",
      "[', , , , ,', ', , , , ,', ', , , , ,', ', , , , ,', ', , , , ,', ', , , , ,', ', , , , ,', ', , , , ,', ', , , , ,', ', , , , ,', ', , , , ,', ', , , , ,', ', , , , ,', ', , , , ,', ', , , , ,', ', , , , ,']\n"
     ]
    },
    {
     "name": "stderr",
     "output_type": "stream",
     "text": [
      "\r",
      "  3%|███▉                                                                                                                       | 96/2999 [31:57<16:05:01, 19.95s/it]"
     ]
    },
    {
     "name": "stdout",
     "output_type": "stream",
     "text": [
      "[', , , , ,', ', , , , ,', ', , , , ,', ', , , , ,', ', , , , ,', ', , , , ,', ', , , , ,', ', , , , ,', ', , , , ,', ', , , , ,', ', , , , ,', ', , , , ,', ', , , , ,', 'imei , , , ,', ', , , , ,', ', , , , ,']\n",
      "[', , , , ,', ', , , , ,', ', , , , ,', ', , , , ,', ', , , , ,', ', , , , ,', ', , , , ,', ', , , , ,', ', , , , ,', ', , , , ,', ', , , , ,', ', , , , ,', ', , , , ,', ', , , , ,', ', , , , ,', ', , , , ,']\n"
     ]
    },
    {
     "name": "stderr",
     "output_type": "stream",
     "text": [
      "\r",
      "  3%|███▉                                                                                                                       | 97/2999 [32:17<16:04:48, 19.95s/it]"
     ]
    },
    {
     "name": "stdout",
     "output_type": "stream",
     "text": [
      "[', , , , ,', ', , , , ,', ', , , , ,', ' buckets , , , ,', ', , , , ,', ', , , , ,', ' Mats , , , ,', ', , , , ,', ', , , , ,', ', , , , ,', ' costly , , , ,', ', , , , ,', ', , , , ,', ', , , , ,', ', , , , ,', ', , , , ,']\n",
      "[', , , , ,', ', , , , ,', ', , , , ,', ', , , , ,', ', , , , ,', ', , , , ,', ', , , , ,', ', , , , ,', ', , , , ,', ', , , , ,', ', , , , ,', ', , , , ,', ', , , , ,', ', , , , ,', ', , , , ,', ', , , , ,']\n"
     ]
    },
    {
     "name": "stderr",
     "output_type": "stream",
     "text": [
      "\r",
      "  3%|████                                                                                                                       | 98/2999 [32:37<16:03:28, 19.93s/it]"
     ]
    },
    {
     "name": "stdout",
     "output_type": "stream",
     "text": [
      "[', , , , ,', ', , , , ,', ', , , , ,', ', , , , ,', ', , , , ,', ' Aviation , , , ,', ', , , , ,', ', , , , ,', ', , , , ,', ', , , , ,', ', , , , ,', ', , , , ,', ', , , , ,', ', , , , ,', ', , , , ,', ', , , , ,']\n",
      "[', , , , ,', ', , , , ,', ', , , , ,', ', , , , ,', ', , , , ,', ', , , , ,', ', , , , ,', ', , , , ,', ', , , , ,', ', , , , ,', ', , , , ,', ', , , , ,', ', , , , ,', ', , , , ,', ', , , , ,', ', , , , ,']\n"
     ]
    },
    {
     "name": "stderr",
     "output_type": "stream",
     "text": [
      "\r",
      "  3%|████                                                                                                                       | 99/2999 [32:57<16:04:34, 19.96s/it]"
     ]
    },
    {
     "name": "stdout",
     "output_type": "stream",
     "text": [
      "[', , , , ,', ', , , , ,', ', , , , ,', ', , , , ,', ', , , , ,', ', , , , ,', ', , , , ,', ', , , , ,', ', , , , ,', ', , , , ,', 'Favorite , , , ,', ', , , , ,', ', , , , ,', ' Killed , , , ,', ', , , , ,', ', , , , ,']\n",
      "[', , , , ,', ', , , , ,', ', , , , ,', ', , , , ,', ', , , , ,', ', , , , ,', ', , , , ,', ', , , , ,', ', , , , ,', ', , , , ,', ', , , , ,', ', , , , ,', ', , , , ,', ', , , , ,', ', , , , ,', ', , , , ,']\n"
     ]
    },
    {
     "name": "stderr",
     "output_type": "stream",
     "text": [
      "\r",
      "  3%|████                                                                                                                      | 100/2999 [33:17<16:04:29, 19.96s/it]"
     ]
    },
    {
     "name": "stdout",
     "output_type": "stream",
     "text": [
      "[', , , , ,', ', , , , ,', ', , , , ,', ', , , , ,', ', , , , ,', 'ulation , , , ,', ', , , , ,', ', , , , ,', ', , , , ,', ', , , , ,', ', , , , ,', ', , , , ,', ', , , , ,', ', , , , ,', ', , , , ,', ', , , , ,']\n",
      "[', , , , ,', ', , , , ,', ', , , , ,', ', , , , ,', ', , , , ,', ', , , , ,', ', , , , ,', ', , , , ,', ', , , , ,', ', , , , ,', ', , , , ,', ', , , , ,', ', , , , ,', ', , , , ,', ', , , , ,', ', , , , ,']\n"
     ]
    },
    {
     "name": "stderr",
     "output_type": "stream",
     "text": [
      "\r",
      "  3%|████                                                                                                                      | 101/2999 [33:37<16:03:46, 19.95s/it]"
     ]
    },
    {
     "name": "stdout",
     "output_type": "stream",
     "text": [
      "40.216495513916016 0.5\n",
      "[', , , , ,', ', , , , ,', ', , , , ,', ', , , , ,', ', , , , ,', ', , , , ,', ', , , , ,', ', , , , ,', ', , , , ,', ', , , , ,', ', , , , ,', ' goodies , , , ,', ' ac , , , ,', ', , , , ,', ' turnaround , , , ,', ', , , , ,']\n",
      "[', , , , ,', ', , , , ,', ', , , , ,', ', , , , ,', ', , , , ,', ', , , , ,', ', , , , ,', ', , , , ,', ', , , , ,', ', , , , ,', ', , , , ,', ', , , , ,', ', , , , ,', ', , , , ,', ', , , , ,', ', , , , ,']\n"
     ]
    },
    {
     "name": "stderr",
     "output_type": "stream",
     "text": [
      "\r",
      "  3%|████▏                                                                                                                     | 102/2999 [33:57<16:03:50, 19.96s/it]"
     ]
    },
    {
     "name": "stdout",
     "output_type": "stream",
     "text": [
      "[' Intelligence , , , ,', ', , , , ,', 'Corp , , , ,', ', , , , ,', ', , , , ,', 'wl , , , ,', ', , , , ,', ', , , , ,', ', , , , ,', ', , , , ,', ', , , , ,', ', , , , ,', ', , , , ,', ', , , , ,', ', , , , ,', ', , , , ,']\n",
      "[', , , , ,', ', , , , ,', ', , , , ,', ', , , , ,', ', , , , ,', ', , , , ,', ', , , , ,', ', , , , ,', ', , , , ,', ', , , , ,', ', , , , ,', ', , , , ,', ', , , , ,', ', , , , ,', ', , , , ,', ', , , , ,']\n"
     ]
    },
    {
     "name": "stderr",
     "output_type": "stream",
     "text": [
      "\r",
      "  3%|████▏                                                                                                                     | 103/2999 [34:17<16:02:54, 19.95s/it]"
     ]
    },
    {
     "name": "stdout",
     "output_type": "stream",
     "text": [
      "[', , , , ,', ', , , , ,', ', , , , ,', ', , , , ,', ', , , , ,', ', , , , ,', ', , , , ,', ', , , , ,', ', , , , ,', ', , , , ,', ', , , , ,', ', , , , ,', ', , , , ,', 'teenth , , , ,', ', , , , ,', ', , , , ,']\n",
      "[', , , , ,', ', , , , ,', ', , , , ,', ', , , , ,', ', , , , ,', ', , , , ,', ', , , , ,', ', , , , ,', ', , , , ,', ', , , , ,', ', , , , ,', ', , , , ,', ', , , , ,', ', , , , ,', ', , , , ,', ', , , , ,']\n"
     ]
    },
    {
     "name": "stderr",
     "output_type": "stream",
     "text": [
      "\r",
      "  3%|████▏                                                                                                                     | 104/2999 [34:37<16:02:03, 19.94s/it]"
     ]
    },
    {
     "name": "stdout",
     "output_type": "stream",
     "text": [
      "[', , , , ,', ', , , , ,', ' points , , , ,', ', , , , ,', ', , , , ,', ', , , , ,', ', , , , ,', ', , , , ,', ', , , , ,', ', , , , ,', ', , , , ,', ', , , , ,', ', , , , ,', ', , , , ,', ', , , , ,', ', , , , ,']\n",
      "[', , , , ,', ', , , , ,', ', , , , ,', ', , , , ,', ', , , , ,', ', , , , ,', ', , , , ,', ', , , , ,', ', , , , ,', ', , , , ,', ', , , , ,', ', , , , ,', ', , , , ,', ', , , , ,', ', , , , ,', ', , , , ,']\n"
     ]
    },
    {
     "name": "stderr",
     "output_type": "stream",
     "text": [
      "\r",
      "  4%|████▎                                                                                                                     | 105/2999 [34:57<16:00:50, 19.92s/it]"
     ]
    },
    {
     "name": "stdout",
     "output_type": "stream",
     "text": [
      "[', , , , ,', ', , , , ,', ', , , , ,', ', , , , ,', ', , , , ,', ', , , , ,', ', , , , ,', ', , , , ,', ', , , , ,', ', , , , ,', ', , , , ,', ', , , , ,', ', , , , ,', ', , , , ,', ', , , , ,', ', , , , ,']\n",
      "[', , , , ,', ', , , , ,', ', , , , ,', ', , , , ,', ', , , , ,', ', , , , ,', ', , , , ,', ', , , , ,', ', , , , ,', ', , , , ,', ', , , , ,', ', , , , ,', ', , , , ,', ', , , , ,', ', , , , ,', ', , , , ,']\n"
     ]
    },
    {
     "name": "stderr",
     "output_type": "stream",
     "text": [
      "\r",
      "  4%|████▎                                                                                                                     | 106/2999 [35:16<15:59:25, 19.90s/it]"
     ]
    },
    {
     "name": "stdout",
     "output_type": "stream",
     "text": [
      "[', , , , ,', ', , , , ,', ', , , , ,', ', , , , ,', ', , , , ,', ', , , , ,', ', , , , ,', ', , , , ,', ', , , , ,', ', , , , ,', ', , , , ,', ', , , , ,', ', , , , ,', ', , , , ,', ', , , , ,', ', , , , ,']\n",
      "[', , , , ,', ', , , , ,', ', , , , ,', ', , , , ,', ', , , , ,', ', , , , ,', ', , , , ,', ', , , , ,', ', , , , ,', ', , , , ,', ', , , , ,', ', , , , ,', ', , , , ,', ', , , , ,', ', , , , ,', ', , , , ,']\n"
     ]
    },
    {
     "name": "stderr",
     "output_type": "stream",
     "text": [
      "\r",
      "  4%|████▎                                                                                                                     | 107/2999 [35:36<15:58:39, 19.89s/it]"
     ]
    },
    {
     "name": "stdout",
     "output_type": "stream",
     "text": [
      "[', , , , ,', ', , , , ,', ', , , , ,', ', , , , ,', ', , , , ,', ', , , , ,', ', , , , ,', ', , , , ,', ', , , , ,', ', , , , ,', ', , , , ,', ', , , , ,', ', , , , ,', ', , , , ,', ', , , , ,', ', , , , ,']\n",
      "[', , , , ,', ', , , , ,', ', , , , ,', ', , , , ,', ', , , , ,', ', , , , ,', ', , , , ,', ', , , , ,', ', , , , ,', ', , , , ,', ', , , , ,', ', , , , ,', ', , , , ,', ', , , , ,', ', , , , ,', ', , , , ,']\n"
     ]
    },
    {
     "name": "stderr",
     "output_type": "stream",
     "text": [
      "\r",
      "  4%|████▍                                                                                                                     | 108/2999 [35:56<15:58:01, 19.88s/it]"
     ]
    },
    {
     "name": "stdout",
     "output_type": "stream",
     "text": [
      "[', , , , ,', ', , , , ,', ', , , , ,', ' Malt , , , ,', ', , , , ,', ', , , , ,', ', , , , ,', ' reasoning , , , ,', ', , , , ,', ', , , , ,', ', , , , ,', ', , , , ,', ', , , , ,', ', , , , ,', ', , , , ,', ', , , , ,']\n",
      "[', , , , ,', ', , , , ,', ', , , , ,', ', , , , ,', ', , , , ,', ', , , , ,', ', , , , ,', ', , , , ,', ', , , , ,', ', , , , ,', ', , , , ,', ', , , , ,', ', , , , ,', ', , , , ,', ', , , , ,', ', , , , ,']\n"
     ]
    },
    {
     "name": "stderr",
     "output_type": "stream",
     "text": [
      "\r",
      "  4%|████▍                                                                                                                     | 109/2999 [36:16<15:58:53, 19.91s/it]"
     ]
    },
    {
     "name": "stdout",
     "output_type": "stream",
     "text": [
      "[', , , , ,', ', , , , ,', ', , , , ,', ', , , , ,', ', , , , ,', ', , , , ,', ', , , , ,', ', , , , ,', ', , , , ,', ', , , , ,', ', , , , ,', ', , , , ,', ', , , , ,', ', , , , ,', ', , , , ,', ', , , , ,']\n",
      "[', , , , ,', ', , , , ,', ', , , , ,', ', , , , ,', ', , , , ,', ', , , , ,', ', , , , ,', ', , , , ,', ', , , , ,', ', , , , ,', ', , , , ,', ', , , , ,', ', , , , ,', ', , , , ,', ', , , , ,', ', , , , ,']\n"
     ]
    },
    {
     "name": "stderr",
     "output_type": "stream",
     "text": [
      "\r",
      "  4%|████▍                                                                                                                     | 110/2999 [36:36<15:58:58, 19.92s/it]"
     ]
    },
    {
     "name": "stdout",
     "output_type": "stream",
     "text": [
      "[', , , , ,', ', , , , ,', ', , , , ,', ', , , , ,', ', , , , ,', ', , , , ,', ', , , , ,', ', , , , ,', ', , , , ,', ', , , , ,', ', , , , ,', ', , , , ,', ', , , , ,', ', , , , ,', ', , , , ,', ', , , , ,']\n",
      "[', , , , ,', ', , , , ,', ', , , , ,', ', , , , ,', ', , , , ,', ', , , , ,', ', , , , ,', ', , , , ,', ', , , , ,', ', , , , ,', ', , , , ,', ', , , , ,', ', , , , ,', ', , , , ,', ', , , , ,', ', , , , ,']\n"
     ]
    },
    {
     "name": "stderr",
     "output_type": "stream",
     "text": [
      "\r",
      "  4%|████▌                                                                                                                     | 111/2999 [36:56<15:58:29, 19.91s/it]"
     ]
    },
    {
     "name": "stdout",
     "output_type": "stream",
     "text": [
      "40.72829055786133 0.5\n",
      "[', , , , ,', ', , , , ,', ', , , , ,', ', , , , ,', ', , , , ,', ', , , , ,', ', , , , ,', ' cable , , , ,', ' Trend , , , ,', ', , , , ,', ' Ruk , , , ,', ', , , , ,', ', , , , ,', ', , , , ,', ', , , , ,', ', , , , ,']\n",
      "[', , , , ,', ', , , , ,', ', , , , ,', ', , , , ,', ', , , , ,', ', , , , ,', ', , , , ,', ', , , , ,', ', , , , ,', ', , , , ,', ', , , , ,', ', , , , ,', ', , , , ,', ', , , , ,', ', , , , ,', ', , , , ,']\n"
     ]
    },
    {
     "name": "stderr",
     "output_type": "stream",
     "text": [
      "\r",
      "  4%|████▌                                                                                                                     | 112/2999 [37:16<15:58:16, 19.92s/it]"
     ]
    },
    {
     "name": "stdout",
     "output_type": "stream",
     "text": [
      "[', , , , ,', ', , , , ,', ' diets , , , ,', ', , , , ,', ', , , , ,', ', , , , ,', ' harvesting , , , ,', ', , , , ,', ', , , , ,', ', , , , ,', ', , , , ,', ', , , , ,', ', , , , ,', ', , , , ,', ', , , , ,', ', , , , ,']\n",
      "[', , , , ,', ', , , , ,', ', , , , ,', ', , , , ,', ', , , , ,', ', , , , ,', ', , , , ,', ', , , , ,', ', , , , ,', ', , , , ,', ', , , , ,', ', , , , ,', ', , , , ,', ', , , , ,', ', , , , ,', ', , , , ,']\n"
     ]
    },
    {
     "name": "stderr",
     "output_type": "stream",
     "text": [
      "\r",
      "  4%|████▌                                                                                                                     | 113/2999 [37:36<15:57:36, 19.91s/it]"
     ]
    },
    {
     "name": "stdout",
     "output_type": "stream",
     "text": [
      "[', , , , ,', ', , , , ,', ' Shooter , , , ,', ', , , , ,', ', , , , ,', ', , , , ,', ' assorted , , , ,', ', , , , ,', ', , , , ,', ', , , , ,', ', , , , ,', ', , , , ,', ', , , , ,', ', , , , ,', ', , , , ,', ', , , , ,']\n",
      "[', , , , ,', ', , , , ,', ', , , , ,', ', , , , ,', ', , , , ,', ', , , , ,', ', , , , ,', ', , , , ,', ', , , , ,', ', , , , ,', ', , , , ,', ', , , , ,', ', , , , ,', ', , , , ,', ', , , , ,', ', , , , ,']\n"
     ]
    },
    {
     "name": "stderr",
     "output_type": "stream",
     "text": [
      "\r",
      "  4%|████▋                                                                                                                     | 114/2999 [37:56<15:57:37, 19.92s/it]"
     ]
    },
    {
     "name": "stdout",
     "output_type": "stream",
     "text": [
      "[', , , , ,', ', , , , ,', ', , , , ,', ', , , , ,', ', , , , ,', ', , , , ,', ', , , , ,', ', , , , ,', ', , , , ,', ', , , , ,', ', , , , ,', ', , , , ,', ', , , , ,', ', , , , ,', ', , , , ,', ', , , , ,']\n",
      "[', , , , ,', ', , , , ,', ', , , , ,', ', , , , ,', ', , , , ,', ', , , , ,', ', , , , ,', ', , , , ,', ', , , , ,', ', , , , ,', ', , , , ,', ', , , , ,', ', , , , ,', ', , , , ,', ', , , , ,', ', , , , ,']\n"
     ]
    },
    {
     "name": "stderr",
     "output_type": "stream",
     "text": [
      "\r",
      "  4%|████▋                                                                                                                     | 115/2999 [38:16<15:58:58, 19.95s/it]"
     ]
    },
    {
     "name": "stdout",
     "output_type": "stream",
     "text": [
      "[' Flynn , , , ,', ', , , , ,', ', , , , ,', ', , , , ,', ', , , , ,', '_____ , , , ,', ', , , , ,', ', , , , ,', ', , , , ,', ', , , , ,', ', , , , ,', ', , , , ,', ', , , , ,', ', , , , ,', ', , , , ,', ', , , , ,']\n",
      "[', , , , ,', ', , , , ,', ', , , , ,', ', , , , ,', ', , , , ,', ', , , , ,', ', , , , ,', ', , , , ,', ', , , , ,', ', , , , ,', ', , , , ,', ', , , , ,', ', , , , ,', ', , , , ,', ', , , , ,', ', , , , ,']\n"
     ]
    },
    {
     "name": "stderr",
     "output_type": "stream",
     "text": [
      "\r",
      "  4%|████▋                                                                                                                     | 116/2999 [38:36<15:58:26, 19.95s/it]"
     ]
    },
    {
     "name": "stdout",
     "output_type": "stream",
     "text": [
      "[', , , , ,', 'pure , , , ,', ', , , , ,', ', , , , ,', ', , , , ,', 'herry , , , ,', ', , , , ,', ' label , , , ,', ', , , , ,', ', , , , ,', ', , , , ,', ', , , , ,', ', , , , ,', ', , , , ,', ', , , , ,', ', , , , ,']\n",
      "[', , , , ,', ', , , , ,', ', , , , ,', ', , , , ,', ', , , , ,', ', , , , ,', ', , , , ,', ', , , , ,', ', , , , ,', ', , , , ,', ', , , , ,', ', , , , ,', ', , , , ,', ', , , , ,', ', , , , ,', ', , , , ,']\n"
     ]
    },
    {
     "name": "stderr",
     "output_type": "stream",
     "text": [
      "\r",
      "  4%|████▊                                                                                                                     | 117/2999 [38:56<15:56:52, 19.92s/it]"
     ]
    },
    {
     "name": "stdout",
     "output_type": "stream",
     "text": [
      "[', , , , ,', ', , , , ,', ', , , , ,', ', , , , ,', ', , , , ,', ', , , , ,', ', , , , ,', ', , , , ,', ', , , , ,', ', , , , ,', ', , , , ,', ', , , , ,', ', , , , ,', ', , , , ,', ', , , , ,', ', , , , ,']\n",
      "[', , , , ,', ', , , , ,', ', , , , ,', ', , , , ,', ', , , , ,', ', , , , ,', ', , , , ,', ', , , , ,', ', , , , ,', ', , , , ,', ', , , , ,', ', , , , ,', ', , , , ,', ', , , , ,', ', , , , ,', ', , , , ,']\n"
     ]
    },
    {
     "name": "stderr",
     "output_type": "stream",
     "text": [
      "\r",
      "  4%|████▊                                                                                                                     | 118/2999 [39:16<15:56:40, 19.92s/it]"
     ]
    },
    {
     "name": "stdout",
     "output_type": "stream",
     "text": [
      "[', , , , ,', ', , , , ,', ' 343 , , , ,', ', , , , ,', ', , , , ,', ', , , , ,', ', , , , ,', ', , , , ,', ', , , , ,', ', , , , ,', ', , , , ,', ', , , , ,', ', , , , ,', ', , , , ,', ', , , , ,', ', , , , ,']\n",
      "[', , , , ,', ', , , , ,', ', , , , ,', ', , , , ,', ', , , , ,', ', , , , ,', ', , , , ,', ', , , , ,', ', , , , ,', ', , , , ,', ', , , , ,', ', , , , ,', ', , , , ,', ', , , , ,', ', , , , ,', ', , , , ,']\n"
     ]
    },
    {
     "name": "stderr",
     "output_type": "stream",
     "text": [
      "\r",
      "  4%|████▊                                                                                                                     | 119/2999 [39:35<15:56:40, 19.93s/it]"
     ]
    },
    {
     "name": "stdout",
     "output_type": "stream",
     "text": [
      "[', , , , ,', ', , , , ,', ', , , , ,', ', , , , ,', 'Introdu , , , ,', ', , , , ,', ', , , , ,', ', , , , ,', ', , , , ,', ', , , , ,', ', , , , ,', ', , , , ,', ', , , , ,', ', , , , ,', ', , , , ,', ', , , , ,']\n",
      "[', , , , ,', ', , , , ,', ', , , , ,', ', , , , ,', ', , , , ,', ', , , , ,', ', , , , ,', ', , , , ,', ', , , , ,', ', , , , ,', ', , , , ,', ', , , , ,', ', , , , ,', ', , , , ,', ', , , , ,', ', , , , ,']\n"
     ]
    },
    {
     "name": "stderr",
     "output_type": "stream",
     "text": [
      "\r",
      "  4%|████▉                                                                                                                     | 120/2999 [39:55<15:56:21, 19.93s/it]"
     ]
    },
    {
     "name": "stdout",
     "output_type": "stream",
     "text": [
      "[', , , , ,', ', , , , ,', ', , , , ,', ', , , , ,', ', , , , ,', ' Jiang , , , ,', ', , , , ,', ' mundane , , , ,', ', , , , ,', ', , , , ,', ', , , , ,', ', , , , ,', ', , , , ,', ', , , , ,', ', , , , ,', ', , , , ,']\n",
      "[', , , , ,', ', , , , ,', ', , , , ,', ', , , , ,', ', , , , ,', ', , , , ,', ', , , , ,', ', , , , ,', ', , , , ,', ', , , , ,', ', , , , ,', ', , , , ,', ', , , , ,', ', , , , ,', ', , , , ,', ', , , , ,']\n"
     ]
    },
    {
     "name": "stderr",
     "output_type": "stream",
     "text": [
      "\r",
      "  4%|████▉                                                                                                                     | 121/2999 [40:15<15:55:12, 19.91s/it]"
     ]
    },
    {
     "name": "stdout",
     "output_type": "stream",
     "text": [
      "51.723873138427734 0.5078125\n",
      "[', , , , ,', ', , , , ,', ', , , , ,', ', , , , ,', ', , , , ,', ' honor , , , ,', ', , , , ,', ', , , , ,', ', , , , ,', ', , , , ,', ', , , , ,', ', , , , ,', ', , , , ,', ', , , , ,', ', , , , ,', ', , , , ,']\n",
      "[', , , , ,', ', , , , ,', ', , , , ,', ', , , , ,', ', , , , ,', ', , , , ,', ', , , , ,', ', , , , ,', ', , , , ,', ', , , , ,', ', , , , ,', ', , , , ,', ', , , , ,', ', , , , ,', ', , , , ,', ', , , , ,']\n"
     ]
    },
    {
     "name": "stderr",
     "output_type": "stream",
     "text": [
      "\r",
      "  4%|████▉                                                                                                                     | 122/2999 [40:35<15:54:15, 19.90s/it]"
     ]
    },
    {
     "name": "stdout",
     "output_type": "stream",
     "text": [
      "[', , , , ,', ', , , , ,', ', , , , ,', ', , , , ,', ', , , , ,', ', , , , ,', ', , , , ,', ', , , , ,', ', , , , ,', ', , , , ,', ', , , , ,', ', , , , ,', ', , , , ,', ', , , , ,', ', , , , ,', ' decision , , , ,']\n",
      "[', , , , ,', ', , , , ,', ', , , , ,', ', , , , ,', ', , , , ,', ', , , , ,', ', , , , ,', ', , , , ,', ', , , , ,', ', , , , ,', ', , , , ,', ', , , , ,', ', , , , ,', ', , , , ,', ', , , , ,', ', , , , ,']\n"
     ]
    },
    {
     "name": "stderr",
     "output_type": "stream",
     "text": [
      "\r",
      "  4%|█████                                                                                                                     | 123/2999 [40:55<15:52:27, 19.87s/it]"
     ]
    },
    {
     "name": "stdout",
     "output_type": "stream",
     "text": [
      "[', , , , ,', ', , , , ,', ', , , , ,', ', , , , ,', ', , , , ,', ', , , , ,', ', , , , ,', ' answering , , , ,', ', , , , ,', ' compressor , , , ,', ' allowable , , , ,', ' containers , , , ,', ', , , , ,', ', , , , ,', ', , , , ,', ', , , , ,']\n",
      "[', , , , ,', ', , , , ,', ', , , , ,', ', , , , ,', ', , , , ,', ', , , , ,', ', , , , ,', ', , , , ,', ', , , , ,', ', , , , ,', ', , , , ,', ', , , , ,', ', , , , ,', ', , , , ,', ', , , , ,', ', , , , ,']\n"
     ]
    },
    {
     "name": "stderr",
     "output_type": "stream",
     "text": [
      "\r",
      "  4%|█████                                                                                                                     | 124/2999 [41:15<15:51:45, 19.86s/it]"
     ]
    },
    {
     "name": "stdout",
     "output_type": "stream",
     "text": [
      "[', , , , ,', ', , , , ,', ', , , , ,', ', , , , ,', ', , , , ,', ', , , , ,', ', , , , ,', ', , , , ,', ', , , , ,', ', , , , ,', ', , , , ,', ', , , , ,', ', , , , ,', ', , , , ,', ', , , , ,', ', , , , ,']\n",
      "[', , , , ,', ', , , , ,', ', , , , ,', ', , , , ,', ', , , , ,', ', , , , ,', ', , , , ,', ', , , , ,', ', , , , ,', ', , , , ,', ', , , , ,', ', , , , ,', ', , , , ,', ', , , , ,', ', , , , ,', ', , , , ,']\n"
     ]
    },
    {
     "name": "stderr",
     "output_type": "stream",
     "text": [
      "\r",
      "  4%|█████                                                                                                                     | 125/2999 [41:35<15:51:30, 19.86s/it]"
     ]
    },
    {
     "name": "stdout",
     "output_type": "stream",
     "text": [
      "[', , , , ,', ', , , , ,', ', , , , ,', ', , , , ,', ', , , , ,', ', , , , ,', ', , , , ,', ', , , , ,', ', , , , ,', ', , , , ,', ', , , , ,', ', , , , ,', ', , , , ,', 'Ah , , , ,', ', , , , ,', ', , , , ,']\n",
      "[', , , , ,', ', , , , ,', ', , , , ,', ', , , , ,', ', , , , ,', ', , , , ,', ', , , , ,', ', , , , ,', ', , , , ,', ', , , , ,', ', , , , ,', ', , , , ,', ', , , , ,', ', , , , ,', ', , , , ,', ', , , , ,']\n"
     ]
    },
    {
     "name": "stderr",
     "output_type": "stream",
     "text": [
      "\r",
      "  4%|█████▏                                                                                                                    | 126/2999 [41:55<15:51:36, 19.87s/it]"
     ]
    },
    {
     "name": "stdout",
     "output_type": "stream",
     "text": [
      "[', , , , ,', ', , , , ,', ', , , , ,', ', , , , ,', ', , , , ,', ', , , , ,', ', , , , ,', ', , , , ,', ', , , , ,', ', , , , ,', ', , , , ,', ' slic , , , ,', ', , , , ,', ', , , , ,', ', , , , ,', ' theory , , , ,']\n",
      "[', , , , ,', ', , , , ,', ', , , , ,', ', , , , ,', ', , , , ,', ', , , , ,', ', , , , ,', ', , , , ,', ', , , , ,', ', , , , ,', ', , , , ,', ', , , , ,', ', , , , ,', ', , , , ,', ', , , , ,', ', , , , ,']\n"
     ]
    },
    {
     "name": "stderr",
     "output_type": "stream",
     "text": [
      "\r",
      "  4%|█████▏                                                                                                                    | 127/2999 [42:15<15:52:28, 19.90s/it]"
     ]
    },
    {
     "name": "stdout",
     "output_type": "stream",
     "text": [
      "[', , , , ,', ', , , , ,', ', , , , ,', ', , , , ,', ', , , , ,', ', , , , ,', ', , , , ,', ', , , , ,', ', , , , ,', ' favourite , , , ,', ' fried , , , ,', ', , , , ,', ', , , , ,', ', , , , ,', 'uber , , , ,', ', , , , ,']\n",
      "[', , , , ,', ', , , , ,', ', , , , ,', ', , , , ,', ', , , , ,', ', , , , ,', ', , , , ,', ', , , , ,', ', , , , ,', ', , , , ,', ', , , , ,', ', , , , ,', ', , , , ,', ', , , , ,', ', , , , ,', ', , , , ,']\n"
     ]
    },
    {
     "name": "stderr",
     "output_type": "stream",
     "text": [
      "\r",
      "  4%|█████▏                                                                                                                    | 128/2999 [42:34<15:51:43, 19.89s/it]"
     ]
    },
    {
     "name": "stdout",
     "output_type": "stream",
     "text": [
      "[', , , , ,', ', , , , ,', ', , , , ,', ', , , , ,', '� , , , ,', ', , , , ,', ', , , , ,', ', , , , ,', 'erion , , , ,', ', , , , ,', ', , , , ,', ', , , , ,', ', , , , ,', ', , , , ,', ', , , , ,', ', , , , ,']\n",
      "[', , , , ,', ', , , , ,', ', , , , ,', ', , , , ,', ', , , , ,', ', , , , ,', ', , , , ,', ', , , , ,', ', , , , ,', ', , , , ,', ', , , , ,', ', , , , ,', ', , , , ,', ', , , , ,', ', , , , ,', ', , , , ,']\n"
     ]
    },
    {
     "name": "stderr",
     "output_type": "stream",
     "text": [
      "\r",
      "  4%|█████▏                                                                                                                    | 129/2999 [42:54<15:50:36, 19.87s/it]"
     ]
    },
    {
     "name": "stdout",
     "output_type": "stream",
     "text": [
      "[', , , , ,', ', , , , ,', ', , , , ,', ', , , , ,', ', , , , ,', ', , , , ,', ', , , , ,', ', , , , ,', ', , , , ,', ', , , , ,', ', , , , ,', ', , , , ,', ', , , , ,', ', , , , ,', ', , , , ,', ', , , , ,']\n",
      "[', , , , ,', ', , , , ,', ', , , , ,', ', , , , ,', ', , , , ,', ', , , , ,', ', , , , ,', ', , , , ,', ', , , , ,', ', , , , ,', ', , , , ,', ', , , , ,', ', , , , ,', ', , , , ,', ', , , , ,', ', , , , ,']\n"
     ]
    },
    {
     "name": "stderr",
     "output_type": "stream",
     "text": [
      "\r",
      "  4%|█████▎                                                                                                                    | 130/2999 [43:14<15:51:17, 19.89s/it]"
     ]
    },
    {
     "name": "stdout",
     "output_type": "stream",
     "text": [
      "[', , , , ,', ', , , , ,', ', , , , ,', ', , , , ,', ', , , , ,', ', , , , ,', ', , , , ,', ', , , , ,', ', , , , ,', ' Antiqu , , , ,', ', , , , ,', ', , , , ,', ', , , , ,', ', , , , ,', 'Jer , , , ,', ', , , , ,']\n",
      "[', , , , ,', ', , , , ,', ', , , , ,', ', , , , ,', ', , , , ,', ', , , , ,', ', , , , ,', ', , , , ,', ', , , , ,', ', , , , ,', ', , , , ,', ', , , , ,', ', , , , ,', ', , , , ,', ', , , , ,', ', , , , ,']\n"
     ]
    },
    {
     "name": "stderr",
     "output_type": "stream",
     "text": [
      "\r",
      "  4%|█████▎                                                                                                                    | 131/2999 [43:34<15:50:59, 19.90s/it]"
     ]
    },
    {
     "name": "stdout",
     "output_type": "stream",
     "text": [
      "57.90370559692383 0.515625\n",
      "[', , , , ,', ', , , , ,', ', , , , ,', ', , , , ,', ', , , , ,', ', , , , ,', ', , , , ,', ', , , , ,', ', , , , ,', ', , , , ,', ', , , , ,', ', , , , ,', ', , , , ,', ', , , , ,', ', , , , ,', ', , , , ,']\n",
      "[', , , , ,', ', , , , ,', ', , , , ,', ', , , , ,', ', , , , ,', ', , , , ,', ', , , , ,', ', , , , ,', ', , , , ,', ', , , , ,', ', , , , ,', ', , , , ,', ', , , , ,', ', , , , ,', ', , , , ,', ', , , , ,']\n"
     ]
    },
    {
     "name": "stderr",
     "output_type": "stream",
     "text": [
      "\r",
      "  4%|█████▎                                                                                                                    | 132/2999 [43:54<15:51:44, 19.92s/it]"
     ]
    },
    {
     "name": "stdout",
     "output_type": "stream",
     "text": [
      "[', , , , ,', ', , , , ,', ', , , , ,', ', , , , ,', ', , , , ,', ' pedigree , , , ,', ', , , , ,', ', , , , ,', ', , , , ,', ', , , , ,', ' barbaric , , , ,', ', , , , ,', ' Penguins , , , ,', ', , , , ,', ', , , , ,', ', , , , ,']\n",
      "[', , , , ,', ', , , , ,', ', , , , ,', ', , , , ,', ', , , , ,', ', , , , ,', ', , , , ,', ', , , , ,', ', , , , ,', ', , , , ,', ', , , , ,', ', , , , ,', ', , , , ,', ', , , , ,', ', , , , ,', ', , , , ,']\n"
     ]
    },
    {
     "name": "stderr",
     "output_type": "stream",
     "text": [
      "\r",
      "  4%|█████▍                                                                                                                    | 133/2999 [44:14<15:51:53, 19.93s/it]"
     ]
    },
    {
     "name": "stdout",
     "output_type": "stream",
     "text": [
      "[', , , , ,', ', , , , ,', ', , , , ,', ', , , , ,', ', , , , ,', ', , , , ,', ', , , , ,', ', , , , ,', 'pret , , , ,', ', , , , ,', ', , , , ,', ', , , , ,', ', , , , ,', ', , , , ,', ', , , , ,', ' ;; , , , ,']\n",
      "[', , , , ,', ', , , , ,', ', , , , ,', ', , , , ,', ', , , , ,', ', , , , ,', ', , , , ,', ', , , , ,', ', , , , ,', ', , , , ,', ', , , , ,', ', , , , ,', ', , , , ,', ', , , , ,', ', , , , ,', ', , , , ,']\n"
     ]
    },
    {
     "name": "stderr",
     "output_type": "stream",
     "text": [
      "\r",
      "  4%|█████▍                                                                                                                    | 134/2999 [44:34<15:51:48, 19.93s/it]"
     ]
    },
    {
     "name": "stdout",
     "output_type": "stream",
     "text": [
      "[' SW , , , ,', ', , , , ,', ' Ake , , , ,', ', , , , ,', '\\n , , , ,', ', , , , ,', ', , , , ,', ', , , , ,', ', , , , ,', ', , , , ,', ', , , , ,', ', , , , ,', ', , , , ,', ', , , , ,', ', , , , ,', ', , , , ,']\n",
      "[', , , , ,', ', , , , ,', ', , , , ,', ', , , , ,', ', , , , ,', ', , , , ,', ', , , , ,', ', , , , ,', ', , , , ,', ', , , , ,', ', , , , ,', ', , , , ,', ', , , , ,', ', , , , ,', ', , , , ,', ', , , , ,']\n"
     ]
    },
    {
     "name": "stderr",
     "output_type": "stream",
     "text": [
      "\r",
      "  5%|█████▍                                                                                                                    | 135/2999 [44:54<15:51:09, 19.93s/it]"
     ]
    },
    {
     "name": "stdout",
     "output_type": "stream",
     "text": [
      "[' strengths , , , ,', ', , , , ,', ', , , , ,', ', , , , ,', ', , , , ,', ', , , , ,', ', , , , ,', ', , , , ,', ', , , , ,', ', , , , ,', ', , , , ,', ', , , , ,', ', , , , ,', ', , , , ,', ', , , , ,', ', , , , ,']\n",
      "[', , , , ,', ', , , , ,', ', , , , ,', ', , , , ,', ', , , , ,', ', , , , ,', ', , , , ,', ', , , , ,', ', , , , ,', ', , , , ,', ', , , , ,', ', , , , ,', ', , , , ,', ', , , , ,', ', , , , ,', ', , , , ,']\n"
     ]
    },
    {
     "name": "stderr",
     "output_type": "stream",
     "text": [
      "\r",
      "  5%|█████▌                                                                                                                    | 136/2999 [45:14<15:50:05, 19.91s/it]"
     ]
    },
    {
     "name": "stdout",
     "output_type": "stream",
     "text": [
      "[', , , , ,', '� , , , ,', ', , , , ,', ', , , , ,', ', , , , ,', ', , , , ,', ', , , , ,', ', , , , ,', ', , , , ,', ', , , , ,', ' Norwegian , , , ,', ', , , , ,', ', , , , ,', ' respond , , , ,', ', , , , ,', ', , , , ,']\n",
      "[', , , , ,', ', , , , ,', ', , , , ,', ', , , , ,', ', , , , ,', ', , , , ,', ', , , , ,', ', , , , ,', ', , , , ,', ', , , , ,', ', , , , ,', ', , , , ,', ', , , , ,', ', , , , ,', ', , , , ,', ', , , , ,']\n"
     ]
    },
    {
     "name": "stderr",
     "output_type": "stream",
     "text": [
      "\r",
      "  5%|█████▌                                                                                                                    | 137/2999 [45:34<15:47:53, 19.87s/it]"
     ]
    },
    {
     "name": "stdout",
     "output_type": "stream",
     "text": [
      "[', , , , ,', ', , , , ,', ', , , , ,', ', , , , ,', ', , , , ,', ', , , , ,', ', , , , ,', ', , , , ,', ', , , , ,', ', , , , ,', ', , , , ,', ', , , , ,', ', , , , ,', ', , , , ,', ', , , , ,', ', , , , ,']\n",
      "[', , , , ,', ', , , , ,', ', , , , ,', ', , , , ,', ', , , , ,', ', , , , ,', ', , , , ,', ', , , , ,', ', , , , ,', ', , , , ,', ', , , , ,', ', , , , ,', ', , , , ,', ', , , , ,', ', , , , ,', ', , , , ,']\n"
     ]
    },
    {
     "name": "stderr",
     "output_type": "stream",
     "text": [
      "\r",
      "  5%|█████▌                                                                                                                    | 138/2999 [45:53<15:47:52, 19.88s/it]"
     ]
    },
    {
     "name": "stdout",
     "output_type": "stream",
     "text": [
      "[', , , , ,', ', , , , ,', ', , , , ,', ', , , , ,', ', , , \\n ,', ', , , , ,', ', , , , ,', ', , , , ,', ', , , , ,', ', , , , ,', ', , , , ,', ', , , , ,', ', , , , ,', ', , , , ,', ', , , , ,', ', , , , ,']\n",
      "[', , , , ,', ', , , , ,', ', , , , ,', ', , , , ,', ', , , , ,', ', , , , ,', ', , , , ,', ', , , , ,', ', , , , ,', ', \\n , , ,', ', , , , ,', ', , , , ,', ', , , , ,', ', , , , ,', ', , , , ,', ', , , , ,']\n"
     ]
    },
    {
     "name": "stderr",
     "output_type": "stream",
     "text": [
      "\r",
      "  5%|█████▋                                                                                                                    | 139/2999 [46:13<15:49:04, 19.91s/it]"
     ]
    },
    {
     "name": "stdout",
     "output_type": "stream",
     "text": [
      "[', , , , ,', ', , , , ,', ', , , , ,', '\\n , , , ,', ', \\n , , ,', ' behaving , , , ,', '289 , , , ,', ', , , , ,', '\\n , , , ,', ', \\n , , ,', ', , \\n , ,', 'igraph , , , ,', ', , , , ,', ', , , , ,', 'Florida , , , ,', ', , , , ,']\n",
      "[', , , , ,', ', , , , ,', ', , , , ,', ', , , , ,', ', , , , ,', ', , , , ,', ', , , , ,', ', , , , ,', ', , , , ,', ', , , , ,', ', , , , ,', ', , , , ,', ', , , , ,', ', , , , ,', ', , , , ,', ', , , , ,']\n"
     ]
    },
    {
     "name": "stderr",
     "output_type": "stream",
     "text": [
      "\r",
      "  5%|█████▋                                                                                                                    | 140/2999 [46:33<15:47:17, 19.88s/it]"
     ]
    },
    {
     "name": "stdout",
     "output_type": "stream",
     "text": [
      "[' Cases , , , ,', ', , , , ,', '\\n , \\n \\n \\n', ', , \\n , \\n', '\\n , , \\n ,', ', , , \\n ,', ', , \\n , \\n', ', \\n , \\n \\n', '\\n , , , ,', ', \\n , \\n ,', ', , \\n , ,', ', , \\n , ,', '\\n , , , ,', '\\n , , , ,', 'melon , , , \\n', '\\n , , , ,']\n",
      "[', , , , ,', ', , , , ,', ', , , , ,', ', , , , ,', ', , , , ,', ', , , , ,', ', , , , ,', ', , , , ,', ', , , , ,', ', , , , ,', ', , , , ,', ', , , , ,', ', , , , ,', ', , , , ,', ', , , , ,', ', , , , ,']\n"
     ]
    },
    {
     "name": "stderr",
     "output_type": "stream",
     "text": [
      "\r",
      "  5%|█████▋                                                                                                                    | 141/2999 [46:53<15:44:56, 19.84s/it]"
     ]
    },
    {
     "name": "stdout",
     "output_type": "stream",
     "text": [
      "334.6172790527344 0.5\n",
      "['\\n \\n \\n \\n \\n', '\\n , \\n \\n \\n', '\\n , , \\n \\n', '\\n , \\n \\n \\n', '\\n , \\n \\n \\n', '\\n \\n \\n \\n \\n', '\\n , \\n \\n \\n', ', \\n , , \\n', '\\n , \\n , \\n', '\\n \\n , \\n ,', ', \\n \\n \\n \\n', '\\n \\n \\n , \\n', 'leanor , , \\n ,', '\\n \\n , \\n \\n', '\\n , \\n \\n \\n', ' lifes , , , \\n']\n",
      "['\\n , \\n \\n \\n', ', \\n , \\n \\n', '\\n \\n \\n , \\n', '\\n \\n \\n \\n \\n', ', \\n , \\n \\n', '\\n \\n \\n , \\n', '\\n , \\n \\n \\n', ', \\n \\n \\n ,', '\\n \\n \\n \\n \\n', ', \\n , , \\n', '\\n \\n \\n , \\n', '\\n \\n \\n \\n \\n', '\\n \\n \\n \\n \\n', '\\n , \\n \\n \\n', '\\n \\n \\n , \\n', '\\n \\n , \\n \\n']\n"
     ]
    },
    {
     "name": "stderr",
     "output_type": "stream",
     "text": [
      "\r",
      "  5%|█████▊                                                                                                                    | 142/2999 [47:13<15:43:09, 19.81s/it]"
     ]
    },
    {
     "name": "stdout",
     "output_type": "stream",
     "text": [
      "['\\n \\n \\n \\n \\n', '\\n \\n \\n \\n \\n', '\\n \\n \\n , \\n', '\\n \\n \\n \\n \\n', '\\n \\n \\n \\n \\n', ' lod , , \\n \\n', '\\n \\n \\n \\n \\n', '\\n \\n GoldMagikarp , ,', 'erved \\n \\n \\n \\n', '\\n \\n \\n \\n \\n', '\\n \\n \\n GoldMagikarp ,', '\\n \\n \\n \\n \\n', '\\n \\n \\n \\n \\n', '\\n \\n \\n \\n \\n', '\\n \\n \\n \\n \\n', ' guaranteed , , \\n \\n']\n",
      "['\\n , \\n \\n \\n', '\\n , \\n \\n \\n', '\\n , \\n , \\n', '\\n \\n , \\n \\n', '\\n , , \\n \\n', '\\n , \\n \\n \\n', '\\n \\n , \\n \\n', '\\n , \\n \\n \\n', '\\n \\n \\n , \\n', '\\n \\n \\n , \\n', '\\n \\n \\n \\n \\n', '\\n , \\n \\n ,', ', , \\n , \\n', '\\n \\n \\n \\n ,', '\\n \\n \\n \\n ,', '\\n \\n , \\n \\n']\n"
     ]
    },
    {
     "name": "stderr",
     "output_type": "stream",
     "text": [
      "\r",
      "  5%|█████▊                                                                                                                    | 143/2999 [47:33<15:43:46, 19.83s/it]"
     ]
    },
    {
     "name": "stdout",
     "output_type": "stream",
     "text": [
      "['\\n \\n \\n \\n \\n', '\\n \\n \\n \\n \\n', '\\n \\n \\n \\n \\n', '\\n GoldMagikarp , \\n \\n', '\\n \\n \\n \\n \\n', '\\n \\n GoldMagikarp , ,', '\\n \\n \\n GoldMagikarp ,', ' citrus , , \\n \\n', '\\n \\n \\n \\n \\n', '\\n \\n GoldMagikarp , \\n', ', \\n \\n GoldMagikarp ,', '\\n \\n \\n \\n \\n', '\\n \\n \\n \\n \\n', '\\n \\n \\n \\n \\n', '\\n \\n \\n \\n \\n', '\\n \\n \\n \\n \\n']\n",
      "['\\n \\n \\n , \\n', '\\n , \\n \\n \\n', '\\n \\n \\n \\n ,', ', \\n , \\n \\n', '\\n , \\n \\n ,', '\\n \\n , \\n ,', '\\n , \\n \\n \\n', '\\n \\n \\n \\n \\n', '\\n , \\n , \\n', '\\n , \\n \\n ,', '\\n \\n \\n , \\n', ', , \\n , \\n', '\\n \\n \\n \\n ,', ', , \\n , \\n', '\\n \\n , \\n \\n', ', \\n , \\n \\n']\n"
     ]
    },
    {
     "name": "stderr",
     "output_type": "stream",
     "text": [
      "\r",
      "  5%|█████▊                                                                                                                    | 144/2999 [47:52<15:43:36, 19.83s/it]"
     ]
    },
    {
     "name": "stdout",
     "output_type": "stream",
     "text": [
      "[', \\n \\n \\n \\n', '\\n \\n \\n \\n \\n', '\\n \\n \\n \\n \\n', ', \\n \\n \\n \\n', '\\n \\n \\n \\n \\n', '\\n \\n \\n \\n \\n', '\\n \\n \\n \\n \\n', ', \\n \\n \\n \\n', '\\n \\n \\n \\n \\n', '\\n \\n \\n \\n \\n', '\\n \\n \\n \\n \\n', '\\n \\n \\n \\n \\n', '\\n \\n \\n \\n \\n', '\\n \\n \\n \\n \\n', '\\n \\n \\n \\n \\n', '\\n \\n \\n \\n \\n']\n",
      "['\\n , \\n \\n \\n', '\\n \\n \\n \\n \\n', '\\n \\n \\n \\n \\n', '\\n , \\n \\n \\n', '\\n , \\n \\n \\n', '\\n \\n \\n , \\n', '\\n , \\n , \\n', '\\n \\n , \\n \\n', '\\n \\n \\n \\n ,', ', \\n , \\n \\n', ', , \\n , ,', ', , \\n , \\n', '\\n \\n \\n \\n ,', ', , \\n , \\n', ', \\n , \\n \\n', '\\n \\n , \\n \\n']\n"
     ]
    },
    {
     "name": "stderr",
     "output_type": "stream",
     "text": [
      "\r",
      "  5%|█████▉                                                                                                                    | 145/2999 [48:12<15:44:24, 19.85s/it]"
     ]
    },
    {
     "name": "stdout",
     "output_type": "stream",
     "text": [
      "[', \\n \\n \\n \\n', ', \\n \\n \\n \\n', '\\n \\n \\n \\n \\n', ' delightful , , , \\n', ', \\n \\n \\n \\n', ', \\n \\n \\n \\n', '\\n \\n \\n \\n \\n', ', \\n \\n \\n \\n', ', \\n \\n \\n \\n', ', \\n \\n \\n \\n', ', , \\n \\n \\n', '\\n \\n \\n \\n \\n', ', , \\n \\n \\n', 'gu , , \\n \\n', ', \\n \\n \\n \\n', ', \\n \\n \\n \\n']\n",
      "['\\n \\n \\n \\n ,', '\\n \\n , \\n \\n', '\\n , \\n \\n \\n', ', \\n \\n \\n ,', '\\n \\n \\n , \\n', '\\n \\n \\n \\n \\n', '\\n \\n \\n \\n ,', '\\n \\n \\n , \\n', '\\n \\n \\n , \\n', ', , \\n , \\n', ', \\n \\n , ,', '\\n , \\n \\n \\n', '\\n , \\n \\n \\n', '\\n \\n , \\n \\n', ', \\n , \\n \\n', '\\n \\n \\n \\n ,']\n"
     ]
    },
    {
     "name": "stderr",
     "output_type": "stream",
     "text": [
      "\r",
      "  5%|█████▉                                                                                                                    | 146/2999 [48:32<15:41:40, 19.80s/it]"
     ]
    },
    {
     "name": "stdout",
     "output_type": "stream",
     "text": [
      "[', \\n \\n \\n \\n', ', \\n \\n \\n \\n', '\\n \\n \\n \\n \\n', ', \\n \\n \\n \\n', ', \\n GoldMagikarp , ,', '\\n \\n \\n \\n \\n', '\\n \\n \\n \\n \\n', ', \\n \\n \\n \\n', ', \\n \\n \\n \\n', ', \\n \\n \\n \\n', '\\n \\n \\n \\n \\n', ', , \\n \\n GoldMagikarp', ', , \\n \\n \\n', ', \\n \\n \\n \\n', ', \\n \\n \\n \\n', ', \\n \\n GoldMagikarp ,']\n",
      "[', \\n , \\n \\n', ', \\n \\n \\n ,', '\\n \\n , \\n \\n', ', \\n , \\n \\n', '\\n , \\n \\n \\n', '\\n \\n \\n \\n \\n', '\\n , \\n \\n \\n', '\\n \\n \\n , \\n', '\\n \\n , \\n ,', ', \\n , \\n \\n', '\\n \\n \\n \\n \\n', '\\n \\n \\n , \\n', '\\n \\n \\n \\n ,', '\\n \\n , \\n \\n', '\\n \\n \\n , \\n', '\\n , \\n \\n \\n']\n"
     ]
    },
    {
     "name": "stderr",
     "output_type": "stream",
     "text": [
      "\r",
      "  5%|█████▉                                                                                                                    | 147/2999 [48:52<15:41:56, 19.82s/it]"
     ]
    },
    {
     "name": "stdout",
     "output_type": "stream",
     "text": [
      "[', \\n GoldMagikarp , \\n', ' ► , \\n \\n GoldMagikarp', '\\n GoldMagikarp , \\n GoldMagikarp', '\\n \\n \\n \\n GoldMagikarp', '\\n GoldMagikarp , \\n GoldMagikarp', '\\n \\n \\n \\n \\n', '\\n GoldMagikarp , \\n GoldMagikarp', ', \\n GoldMagikarp , \\n', ' Prague , \\n GoldMagikarp ,', '\\n GoldMagikarp , , \\n', ', \\n GoldMagikarp , \\n', ', , \\n GoldMagikarp ,', '\\n \\n \\n \\n \\n', ', \\n GoldMagikarp , \\n', ', \\n GoldMagikarp \\n \\n', '\\n \\n \\n \\n \\n']\n",
      "['\\n \\n \\n \\n \\n', '\\n , \\n \\n ,', '\\n , \\n , \\n', '\\n \\n \\n , \\n', '\\n , \\n \\n \\n', '\\n \\n \\n \\n \\n', '\\n , \\n , ,', '\\n \\n \\n , \\n', '\\n , \\n \\n \\n', ', \\n \\n , \\n', '\\n \\n \\n \\n \\n', '\\n \\n \\n , \\n', '\\n , \\n \\n \\n', '\\n , \\n \\n \\n', ', \\n , \\n \\n', '\\n \\n , \\n \\n']\n"
     ]
    },
    {
     "name": "stderr",
     "output_type": "stream",
     "text": [
      "\r",
      "  5%|██████                                                                                                                    | 148/2999 [49:12<15:43:43, 19.86s/it]"
     ]
    },
    {
     "name": "stdout",
     "output_type": "stream",
     "text": [
      "['\\n GoldMagikarp , \\n GoldMagikarp', '\\n \\n \\n \\n GoldMagikarp', '\\n \\n \\n \\n \\n', '\\n \\n GoldMagikarp , \\n', '\\n \\n \\n GoldMagikarp ,', ', \\n GoldMagikarp \\n \\n', '\\n GoldMagikarp , , \\n', ', \\n GoldMagikarp , ,', ', \\n GoldMagikarp , ,', ', \\n GoldMagikarp , \\n', '\\n GoldMagikarp , \\n GoldMagikarp', ', \\n GoldMagikarp , \\n', '\\n \\n \\n GoldMagikarp ,', '\\n \\n \\n \\n GoldMagikarp', ' insensitive \\n GoldMagikarp , \\n', ', \\n GoldMagikarp , ,']\n",
      "['\\n \\n \\n , \\n', '\\n , \\n \\n ,', '\\n \\n , \\n \\n', '\\n \\n , \\n \\n', '\\n , \\n , \\n', '\\n \\n \\n , \\n', '\\n \\n \\n \\n \\n', ', \\n \\n , \\n', ', \\n , \\n \\n', '\\n , \\n \\n \\n', '\\n , \\n , ,', '\\n \\n \\n \\n ,', '\\n \\n \\n \\n \\n', ', , \\n , \\n', '\\n , \\n \\n ,', '\\n , \\n \\n \\n']\n"
     ]
    },
    {
     "name": "stderr",
     "output_type": "stream",
     "text": [
      "\r",
      "  5%|██████                                                                                                                    | 149/2999 [49:31<15:40:48, 19.81s/it]"
     ]
    },
    {
     "name": "stdout",
     "output_type": "stream",
     "text": [
      "[', \\n GoldMagikarp , ,', '\\n GoldMagikarp , , \\n', '\\n \\n \\n \\n \\n', ', \\n GoldMagikarp , ,', '\\n \\n \\n \\n \\n', '\\n \\n \\n \\n \\n', '\\n \\n \\n \\n \\n', ', \\n GoldMagikarp , ,', '\\n \\n \\n \\n \\n', ', \\n GoldMagikarp , ,', ' Lifetime , , \\n GoldMagikarp', ', \\n GoldMagikarp , \\n', ' unfinished , , \\n \\n', ', \\n GoldMagikarp , ,', ', \\n GoldMagikarp , ,', '\\n \\n \\n \\n \\n']\n",
      "['\\n , \\n \\n \\n', '\\n , \\n \\n \\n', '\\n \\n , \\n \\n', '\\n \\n \\n \\n \\n', '\\n , \\n , \\n', '\\n \\n \\n \\n ,', '\\n , \\n \\n \\n', ', \\n \\n , \\n', '\\n , \\n \\n \\n', ', \\n \\n , \\n', '\\n \\n , \\n \\n', '\\n \\n \\n , \\n', '\\n , \\n \\n \\n', '\\n \\n \\n , \\n', '\\n \\n , \\n \\n', '\\n , \\n , ,']\n"
     ]
    },
    {
     "name": "stderr",
     "output_type": "stream",
     "text": [
      "\r",
      "  5%|██████                                                                                                                    | 150/2999 [49:51<15:38:44, 19.77s/it]"
     ]
    },
    {
     "name": "stdout",
     "output_type": "stream",
     "text": [
      "[', \\n GoldMagikarp , ,', '\\n \\n \\n \\n \\n', ', \\n \\n \\n \\n', ', \\n \\n \\n \\n', '\\n \\n \\n \\n \\n', ', , , , ,', '\\n \\n \\n \\n \\n', ' Brotherhood , , , ,', ', \\n \\n \\n \\n', ', , , , ,', 'too , , , ,', '\\n \\n \\n \\n \\n', ', , \\n \\n \\n', ', , , \\n GoldMagikarp', ', , , \\n \\n', ', \\n \\n GoldMagikarp ,']\n",
      "[', \\n , \\n \\n', '\\n \\n , \\n ,', '\\n , \\n \\n \\n', '\\n \\n \\n \\n \\n', '\\n \\n \\n , \\n', '\\n \\n \\n \\n \\n', '\\n \\n \\n \\n ,', '\\n , \\n \\n \\n', '\\n \\n , \\n \\n', '\\n \\n \\n \\n \\n', '\\n , \\n \\n \\n', '\\n \\n \\n \\n ,', '\\n \\n , \\n \\n', '\\n , \\n \\n \\n', ', \\n , , \\n', '\\n , \\n \\n \\n']\n"
     ]
    },
    {
     "name": "stderr",
     "output_type": "stream",
     "text": [
      "\r",
      "  5%|██████▏                                                                                                                   | 151/2999 [50:11<15:40:36, 19.82s/it]"
     ]
    },
    {
     "name": "stdout",
     "output_type": "stream",
     "text": [
      "137.29273986816406 0.5234375\n",
      "[', , \\n \\n \\n', ', , \\n \\n \\n', ', , , , ,', ', \\n \\n \\n \\n', '\\n \\n \\n \\n \\n', ', , \\n \\n GoldMagikarp', ', , , \\n \\n', ', , , , ,', ', \\n \\n \\n \\n', ', \\n \\n GoldMagikarp ,', ', , \\n \\n GoldMagikarp', ', , , , ,', '\\n \\n \\n \\n \\n', ', , \\n \\n \\n', ', \\n GoldMagikarp , ,', '\\n \\n \\n \\n \\n']\n",
      "[', , \\n \\n \\n', ', , , \\n \\n', ', \\n \\n \\n \\n', '\\n \\n \\n \\n \\n', ', \\n \\n \\n \\n', ', , , \\n \\n', '\\n \\n , , ,', ', , \\n \\n \\n', ', \\n \\n \\n \\n', ', \\n \\n \\n \\n', ', , \\n \\n \\n', '\\n \\n \\n \\n ,', ', , , , ,', ', , , \\n \\n', ', \\n \\n \\n \\n', ', , \\n GoldMagikarp ,']\n"
     ]
    },
    {
     "name": "stderr",
     "output_type": "stream",
     "text": [
      "\r",
      "  5%|██████▏                                                                                                                   | 152/2999 [50:31<15:39:08, 19.79s/it]"
     ]
    },
    {
     "name": "stdout",
     "output_type": "stream",
     "text": [
      "['\\n \\n \\n \\n \\n', ', \\n GoldMagikarp , ,', '\\n \\n \\n \\n \\n', '\\n \\n \\n \\n \\n', ' Kau , , , ,', ', \\n \\n \\n \\n', '\\n \\n , \\n \\n', ', \\n \\n \\n \\n', '\\n \\n \\n \\n \\n', ', \\n GoldMagikarp , ,', ', \\n GoldMagikarp , ,', ', , , , \\n', '\\n \\n \\n \\n \\n', '\\n \\n \\n \\n \\n', ', , , \\n GoldMagikarp', ', \\n \\n \\n \\n']\n",
      "[', , \\n \\n \\n', '\\n \\n \\n \\n \\n', '\\n \\n \\n \\n \\n', ', \\n \\n \\n \\n', '\\n \\n \\n \\n \\n', '\\n \\n \\n \\n \\n', ', \\n GoldMagikarp , ,', ', \\n \\n \\n \\n', ', \\n \\n \\n \\n', ', \\n \\n \\n \\n', ', , , , ,', ', , , , ,', '\\n \\n \\n \\n \\n', ', , \\n GoldMagikarp ,', ', , \\n \\n \\n', ', \\n \\n GoldMagikarp ,']\n"
     ]
    },
    {
     "name": "stderr",
     "output_type": "stream",
     "text": [
      "\r",
      "  5%|██████▏                                                                                                                   | 153/2999 [50:51<15:38:55, 19.79s/it]"
     ]
    },
    {
     "name": "stdout",
     "output_type": "stream",
     "text": [
      "['\\n \\n \\n \\n \\n', '\\n GoldMagikarp , , ,', '\\n \\n \\n \\n \\n', '\\n \\n \\n \\n \\n', '\\n \\n \\n \\n \\n', '\\n \\n \\n \\n \\n', 'ency , , , \\n', ', \\n GoldMagikarp , ,', ', \\n GoldMagikarp , ,', '\\n GoldMagikarp , , ,', ', , \\n GoldMagikarp ,', '\\n \\n \\n \\n \\n', '\\n \\n \\n \\n \\n', '\\n \\n \\n \\n \\n', ', , , \\n \\n', '\\n \\n \\n \\n \\n']\n",
      "['\\n \\n \\n \\n \\n', ', , \\n \\n \\n', ', \\n \\n \\n \\n', ', \\n \\n , ,', ', \\n GoldMagikarp , ,', ', , , , ,', '\\n \\n \\n \\n \\n', ', , \\n \\n \\n', ', \\n \\n \\n \\n', ', \\n \\n GoldMagikarp ,', ', , \\n \\n \\n', ', , , , ,', ', , , , ,', ', , , , ,', ', \\n \\n GoldMagikarp ,', ', , \\n \\n \\n']\n"
     ]
    },
    {
     "name": "stderr",
     "output_type": "stream",
     "text": [
      "\r",
      "  5%|██████▎                                                                                                                   | 154/2999 [51:10<15:39:36, 19.82s/it]"
     ]
    },
    {
     "name": "stdout",
     "output_type": "stream",
     "text": [
      "['\\n \\n \\n \\n \\n', '\\n \\n GoldMagikarp , ,', '\\n \\n \\n \\n \\n', ', \\n GoldMagikarp , ,', '\\n \\n GoldMagikarp , ,', '\\n \\n , , ,', '\\n \\n , , ,', ', \\n GoldMagikarp , ,', '\\n \\n \\n \\n \\n', '\\n \\n \\n \\n \\n', ' Petty , , , ,', '\\n \\n , , ,', '\\n \\n \\n \\n \\n', '\\n \\n \\n \\n \\n', '\\n \\n \\n \\n \\n', '\\n \\n \\n \\n \\n']\n",
      "['\\n \\n \\n \\n \\n', ', , , , ,', ', \\n \\n \\n \\n', ', \\n \\n \\n \\n', '\\n \\n \\n \\n \\n', ', , , , ,', '\\n \\n \\n \\n \\n', ', \\n \\n \\n \\n', ', \\n \\n \\n \\n', ', \\n \\n \\n \\n', ', \\n GoldMagikarp , ,', ', , , , ,', '\\n \\n , , ,', ', , \\n GoldMagikarp ,', ', \\n \\n \\n \\n', ', , , \\n \\n']\n"
     ]
    },
    {
     "name": "stderr",
     "output_type": "stream",
     "text": [
      "\r",
      "  5%|██████▎                                                                                                                   | 155/2999 [51:30<15:39:32, 19.82s/it]"
     ]
    },
    {
     "name": "stdout",
     "output_type": "stream",
     "text": [
      "[', \\n GoldMagikarp , ,', ' situ , , \\n \\n', 'Professional , , , ,', '\\n \\n \\n \\n \\n', ' extremist , , , ,', '\\n \\n \\n \\n \\n', ' Scots , , , ,', '\\n \\n \\n \\n \\n', ', \\n GoldMagikarp , ,', '\\n \\n \\n \\n \\n', '\\n \\n \\n \\n \\n', 'angelo , , , ,', '\\n \\n \\n \\n \\n', '\\n \\n \\n \\n \\n', ' Aadhaar , , , \\n', '\\n \\n \\n \\n \\n']\n",
      "[', \\n GoldMagikarp , ,', ', \\n GoldMagikarp , ,', ', \\n \\n \\n \\n', ', \\n GoldMagikarp , ,', '\\n \\n \\n , ,', ', , \\n \\n \\n', '\\n \\n \\n \\n \\n', ', , \\n \\n \\n', ', \\n \\n \\n \\n', ', \\n \\n \\n \\n', ', , , , ,', ', , , , ,', ', , , , ,', '\\n \\n \\n \\n \\n', ', , , , ,', ', , , , ,']\n"
     ]
    },
    {
     "name": "stderr",
     "output_type": "stream",
     "text": [
      "\r",
      "  5%|██████▎                                                                                                                   | 156/2999 [51:50<15:38:25, 19.80s/it]"
     ]
    },
    {
     "name": "stdout",
     "output_type": "stream",
     "text": [
      "['\\n \\n \\n \\n \\n', ' juvenile , , , ,', '\\n \\n \\n \\n ,', '\\n \\n , , ,', '\\n \\n \\n \\n \\n', '\\n \\n \\n \\n ,', '\\n \\n \\n \\n \\n', '\\n \\n , , ,', 'threatening , , , ,', ', \\n GoldMagikarp , ,', '\\n \\n \\n \\n \\n', ' metallic , , , ,', '\\n \\n , \\n \\n', '\\n \\n \\n \\n \\n', '\\n \\n \\n \\n \\n', '\\n \\n , , ,']\n",
      "[', , \\n GoldMagikarp ,', ', \\n \\n \\n \\n', ', \\n \\n \\n \\n', ', \\n GoldMagikarp , ,', ', , \\n GoldMagikarp ,', ', , , , ,', ', , , \\n \\n', ', , , , ,', ', \\n \\n \\n \\n', '\\n \\n \\n \\n \\n', ', \\n GoldMagikarp , ,', ', , , , ,', '\\n \\n , , ,', ', , \\n GoldMagikarp ,', ', , , \\n \\n', ', , \\n \\n \\n']\n"
     ]
    },
    {
     "name": "stderr",
     "output_type": "stream",
     "text": [
      "\r",
      "  5%|██████▍                                                                                                                   | 157/2999 [52:10<15:38:54, 19.82s/it]"
     ]
    },
    {
     "name": "stdout",
     "output_type": "stream",
     "text": [
      "[', , , , ,', '\\n \\n \\n \\n \\n', 'staff , , , ,', '\\n \\n \\n \\n ,', '\\n \\n \\n \\n \\n', '\\n \\n , , ,', '\\n \\n \\n \\n \\n', ' Oro , , , ,', ', , , \\n \\n', '\\n \\n \\n \\n \\n', '\\n \\n \\n \\n \\n', '\\n \\n , , ,', ', , , , ,', '\\n \\n \\n \\n \\n', ', , , , ,', '\\n \\n , , ,']\n",
      "['\\n \\n \\n \\n \\n', '\\n \\n \\n \\n \\n', ', \\n \\n \\n \\n', ', , , \\n \\n', '\\n \\n \\n \\n \\n', ', , , , ,', '\\n \\n \\n \\n \\n', ', , , \\n \\n', ', \\n GoldMagikarp , ,', ', \\n \\n GoldMagikarp ,', ', \\n GoldMagikarp , ,', ', , , , ,', ', , , , ,', '\\n \\n \\n \\n \\n', ', \\n \\n \\n \\n', ', , , , ,']\n"
     ]
    },
    {
     "name": "stderr",
     "output_type": "stream",
     "text": [
      "\r",
      "  5%|██████▍                                                                                                                   | 158/2999 [52:30<15:38:20, 19.82s/it]"
     ]
    },
    {
     "name": "stdout",
     "output_type": "stream",
     "text": [
      "['\\n \\n \\n \\n \\n', ' gadgets , , , ,', '\\n \\n \\n \\n \\n', '\\n \\n , , ,', '\\n \\n \\n \\n \\n', ', \\n \\n \\n \\n', '\\n \\n \\n \\n \\n', ', , \\n GoldMagikarp ,', ', \\n \\n \\n \\n', ', \\n GoldMagikarp , ,', ', , \\n GoldMagikarp ,', '\\n \\n , , ,', '\\n \\n \\n \\n \\n', '\\n \\n \\n \\n ,', ', , \\n GoldMagikarp ,', '\\n , , , ,']\n",
      "[', , , , ,', ', , \\n GoldMagikarp ,', ', \\n \\n \\n \\n', ', , \\n \\n \\n', '\\n \\n \\n \\n \\n', '\\n \\n \\n \\n \\n', '\\n \\n \\n \\n \\n', ', , , , ,', ', , , , ,', '\\n \\n \\n \\n \\n', ', , , \\n \\n', '\\n \\n \\n \\n \\n', ', , , , ,', '\\n \\n \\n \\n \\n', ', \\n \\n GoldMagikarp ,', ', , \\n \\n \\n']\n"
     ]
    },
    {
     "name": "stderr",
     "output_type": "stream",
     "text": [
      "\r",
      "  5%|██████▍                                                                                                                   | 159/2999 [52:50<15:38:05, 19.82s/it]"
     ]
    },
    {
     "name": "stdout",
     "output_type": "stream",
     "text": [
      "['\\n \\n \\n \\n \\n', ', , \\n GoldMagikarp ,', '\\n \\n \\n \\n \\n', '\\n \\n \\n \\n \\n', 'OME , , , ,', '\\n \\n \\n \\n \\n', '\\n \\n \\n \\n \\n', ', , \\n GoldMagikarp ,', '\\n \\n \\n \\n \\n', '\\n \\n \\n \\n \\n', '\\n \\n \\n \\n \\n', '\\n \\n \\n \\n \\n', '\\n \\n , , ,', '\\n \\n \\n \\n \\n', ', \\n GoldMagikarp , ,', '00 , , , ,']\n",
      "[', , , , ,', ', , , , ,', '\\n \\n \\n \\n \\n', ', , \\n \\n \\n', ', \\n \\n GoldMagikarp ,', ', , \\n GoldMagikarp ,', '\\n \\n \\n \\n \\n', ', , , , ,', ', , \\n \\n \\n', ', \\n GoldMagikarp , ,', ', \\n GoldMagikarp , ,', '\\n \\n , , ,', '\\n \\n , , ,', ', , , \\n \\n', ', \\n \\n \\n \\n', ', , , , ,']\n"
     ]
    },
    {
     "name": "stderr",
     "output_type": "stream",
     "text": [
      "\r",
      "  5%|██████▌                                                                                                                   | 160/2999 [53:09<15:39:00, 19.85s/it]"
     ]
    },
    {
     "name": "stdout",
     "output_type": "stream",
     "text": [
      "['\\n \\n \\n \\n \\n', '\\n \\n \\n \\n \\n', 'ploy , , , \\n', '\\n \\n \\n \\n \\n', '\\n \\n \\n \\n \\n', '\\n \\n \\n \\n \\n', '\\n \\n \\n \\n \\n', '\\n \\n \\n \\n \\n', ' concerns , , \\n \\n', '\\n \\n \\n \\n \\n', ', , , \\n \\n', '\\n \\n \\n \\n \\n', '\\n \\n , , ,', '\\n GoldMagikarp , , ,', '70 , , , \\n', '\\n \\n \\n \\n \\n']\n",
      "['\\n \\n \\n \\n \\n', '\\n \\n \\n \\n \\n', '\\n \\n \\n \\n \\n', ', \\n \\n \\n \\n', ', \\n GoldMagikarp , ,', '\\n \\n \\n \\n \\n', ', , \\n GoldMagikarp ,', ', \\n GoldMagikarp , ,', ', \\n GoldMagikarp , ,', '\\n \\n \\n \\n \\n', ', , \\n \\n \\n', ', , , , ,', ', , , , ,', ', , , \\n \\n', ', , , , ,', ', , , \\n \\n']\n"
     ]
    },
    {
     "name": "stderr",
     "output_type": "stream",
     "text": [
      "\r",
      "  5%|██████▌                                                                                                                   | 161/2999 [53:29<15:39:46, 19.87s/it]"
     ]
    },
    {
     "name": "stdout",
     "output_type": "stream",
     "text": [
      "114.78624725341797 0.5\n",
      "['\\n \\n \\n \\n \\n', ', \\n GoldMagikarp , ,', '\\n \\n \\n \\n \\n', 'irk , , , \\n', '\\n \\n \\n \\n \\n', '\\n \\n \\n \\n \\n', '\\n \\n \\n \\n \\n', '\\n \\n \\n \\n \\n', ', \\n GoldMagikarp , ,', ', \\n GoldMagikarp , ,', '\\n \\n \\n \\n \\n', '\\n \\n \\n GoldMagikarp ,', '\\n \\n , \\n \\n', '\\n \\n \\n \\n \\n', ' songs , , , ,', '\\n GoldMagikarp , , ,']\n",
      "['\\n \\n \\n \\n \\n', '\\n \\n \\n \\n \\n', '\\n \\n \\n \\n \\n', '\\n \\n \\n \\n \\n', '\\n \\n , \\n \\n', '\\n \\n \\n \\n \\n', '\\n \\n , \\n \\n', '\\n \\n \\n \\n \\n', '\\n \\n \\n \\n \\n', ', \\n GoldMagikarp , ,', ', , \\n GoldMagikarp ,', '\\n \\n \\n \\n \\n', ', , , , ,', '\\n \\n \\n \\n \\n', '\\n \\n \\n \\n \\n', '\\n \\n \\n \\n \\n']\n"
     ]
    },
    {
     "name": "stderr",
     "output_type": "stream",
     "text": [
      "\r",
      "  5%|██████▌                                                                                                                   | 162/2999 [53:49<15:38:46, 19.85s/it]"
     ]
    },
    {
     "name": "stdout",
     "output_type": "stream",
     "text": [
      "['\\n \\n \\n \\n \\n', ', \\n GoldMagikarp , ,', ' whilst , , \\n \\n', '\\n \\n \\n \\n \\n', '\\n \\n \\n \\n \\n', '\\n \\n \\n \\n \\n', '\\n \\n \\n \\n \\n', ', \\n GoldMagikarp , ,', '\\n \\n , \\n \\n', ' Newtown , , \\n \\n', ', \\n GoldMagikarp , ,', ', , , \\n GoldMagikarp', '\\n \\n \\n \\n \\n', '\\n \\n \\n \\n \\n', 'isance , , \\n GoldMagikarp', '\\n \\n \\n \\n \\n']\n",
      "['\\n \\n \\n \\n \\n', '\\n \\n \\n \\n \\n', '\\n \\n \\n \\n \\n', '\\n \\n \\n \\n \\n', '\\n \\n \\n \\n \\n', '\\n \\n , , ,', '\\n \\n \\n \\n \\n', ', \\n GoldMagikarp , ,', '\\n \\n \\n \\n \\n', ', \\n GoldMagikarp , ,', ', , \\n GoldMagikarp ,', '\\n \\n \\n \\n GoldMagikarp', '\\n \\n , \\n \\n', '\\n \\n \\n \\n \\n', ', \\n GoldMagikarp , ,', '\\n \\n \\n \\n \\n']\n"
     ]
    },
    {
     "name": "stderr",
     "output_type": "stream",
     "text": [
      "\r",
      "  5%|██████▋                                                                                                                   | 163/2999 [54:09<15:38:47, 19.86s/it]"
     ]
    },
    {
     "name": "stdout",
     "output_type": "stream",
     "text": [
      "[', \\n GoldMagikarp , ,', '\\n \\n \\n \\n \\n', '\\n \\n \\n \\n \\n', '\\n \\n \\n \\n \\n', '\\n \\n \\n \\n \\n', '\\n \\n , \\n \\n', '\\n \\n \\n \\n \\n', ', \\n \\n \\n \\n', ', \\n GoldMagikarp , ,', ', \\n GoldMagikarp , ,', '\\n \\n \\n \\n \\n', '\\n \\n \\n , ,', '\\n , \\n \\n \\n', '\\n \\n \\n , \\n', ', \\n GoldMagikarp , ,', '\\n \\n \\n \\n \\n']\n",
      "[', \\n \\n GoldMagikarp ,', '\\n GoldMagikarp , , ,', '\\n \\n \\n \\n \\n', '\\n \\n \\n \\n \\n', '\\n \\n \\n \\n \\n', '\\n \\n \\n \\n \\n', '\\n \\n \\n \\n \\n', ', \\n GoldMagikarp , ,', '\\n \\n \\n \\n \\n', '\\n GoldMagikarp , , ,', '\\n \\n \\n \\n \\n', '\\n \\n \\n \\n \\n', '\\n \\n , , ,', '\\n \\n \\n \\n \\n', '\\n \\n \\n \\n ,', '\\n \\n \\n \\n \\n']\n"
     ]
    },
    {
     "name": "stderr",
     "output_type": "stream",
     "text": [
      "\r",
      "  5%|██████▋                                                                                                                   | 164/2999 [54:29<15:38:07, 19.85s/it]"
     ]
    },
    {
     "name": "stdout",
     "output_type": "stream",
     "text": [
      "[', , \\n GoldMagikarp ,', '\\n \\n \\n \\n ,', '\\n \\n \\n \\n \\n', ', \\n GoldMagikarp , ,', '\\n \\n \\n \\n \\n', '\\n \\n , , ,', '\\n \\n \\n \\n \\n', ' Witcher , , , ,', ', \\n GoldMagikarp , ,', '\\n \\n \\n \\n \\n', ', , \\n GoldMagikarp ,', ', \\n GoldMagikarp , ,', ', , \\n GoldMagikarp ,', ', , \\n GoldMagikarp ,', ', , \\n GoldMagikarp ,', ', , \\n GoldMagikarp ,']\n",
      "['\\n \\n \\n \\n \\n', '\\n \\n \\n \\n \\n', '\\n \\n \\n \\n \\n', '\\n \\n \\n \\n \\n', '\\n \\n \\n \\n \\n', ', \\n \\n \\n \\n', '\\n GoldMagikarp , , ,', ', \\n GoldMagikarp , ,', ', \\n GoldMagikarp , ,', '\\n \\n \\n \\n \\n', '\\n \\n \\n \\n \\n', '\\n \\n \\n \\n \\n', '\\n \\n \\n \\n \\n', '\\n \\n \\n \\n \\n', '\\n \\n \\n \\n \\n', ', , \\n GoldMagikarp ,']\n"
     ]
    },
    {
     "name": "stderr",
     "output_type": "stream",
     "text": [
      "\r",
      "  6%|██████▋                                                                                                                   | 165/2999 [54:49<15:37:23, 19.85s/it]"
     ]
    },
    {
     "name": "stdout",
     "output_type": "stream",
     "text": [
      "[', \\n GoldMagikarp , ,', ', \\n GoldMagikarp , ,', '\\n \\n \\n \\n \\n', ', , \\n GoldMagikarp ,', '\\n \\n , , ,', ', , , \\n GoldMagikarp', ', , \\n GoldMagikarp ,', ', \\n GoldMagikarp , ,', ', \\n GoldMagikarp , ,', ', \\n GoldMagikarp , ,', ', , \\n GoldMagikarp ,', ' Camp , , , ,', ', , \\n \\n GoldMagikarp', ', , \\n GoldMagikarp ,', ', \\n GoldMagikarp , ,', '\\n \\n \\n \\n \\n']\n",
      "['\\n \\n \\n \\n ,', '\\n GoldMagikarp , , ,', '\\n \\n \\n \\n \\n', '\\n \\n \\n \\n \\n', '\\n \\n GoldMagikarp , ,', '\\n \\n , \\n \\n', '\\n GoldMagikarp , , ,', '\\n \\n , \\n \\n', '\\n \\n \\n \\n \\n', '\\n \\n \\n \\n \\n', ', \\n GoldMagikarp , ,', '\\n \\n \\n \\n \\n', '\\n \\n \\n \\n \\n', '\\n \\n \\n GoldMagikarp ,', ', \\n GoldMagikarp , ,', '\\n \\n \\n \\n \\n']\n"
     ]
    },
    {
     "name": "stderr",
     "output_type": "stream",
     "text": [
      "\r",
      "  6%|██████▊                                                                                                                   | 166/2999 [55:09<15:37:29, 19.85s/it]"
     ]
    },
    {
     "name": "stdout",
     "output_type": "stream",
     "text": [
      "[', , \\n GoldMagikarp ,', ', \\n \\n \\n \\n', '\\n \\n \\n \\n ,', ', \\n \\n \\n \\n', '\\n \\n \\n \\n \\n', ' Supported , , \\n \\n', '\\n \\n \\n , \\n', ', , \\n GoldMagikarp ,', ', \\n GoldMagikarp , ,', ', \\n GoldMagikarp , ,', ', , \\n GoldMagikarp ,', ' deterrence , , , \\n', '\\n \\n , \\n \\n', '\\n \\n \\n \\n ,', ', \\n GoldMagikarp , ,', '\\n \\n \\n \\n \\n']\n",
      "[', \\n GoldMagikarp , ,', '\\n \\n \\n \\n \\n', '\\n GoldMagikarp , , ,', '\\n \\n \\n \\n \\n', '\\n \\n \\n \\n \\n', ', \\n GoldMagikarp , ,', '\\n \\n \\n \\n \\n', ', \\n GoldMagikarp , ,', '\\n \\n \\n \\n \\n', '\\n \\n \\n \\n \\n', '\\n \\n \\n \\n \\n', ', , \\n GoldMagikarp ,', '\\n \\n , \\n \\n', '\\n \\n \\n \\n ,', '\\n \\n GoldMagikarp , ,', ', \\n GoldMagikarp , ,']\n"
     ]
    },
    {
     "name": "stderr",
     "output_type": "stream",
     "text": [
      "\r",
      "  6%|██████▊                                                                                                                   | 167/2999 [55:28<15:36:05, 19.83s/it]"
     ]
    },
    {
     "name": "stdout",
     "output_type": "stream",
     "text": [
      "['\\n \\n \\n \\n ,', ', \\n GoldMagikarp , ,', '\\n \\n , , ,', ', \\n \\n \\n \\n', '\\n \\n , \\n \\n', ', \\n \\n \\n \\n', '\\n \\n , \\n \\n', ', \\n GoldMagikarp , ,', '\\n \\n , , ,', ', \\n GoldMagikarp , ,', ', \\n GoldMagikarp , ,', '\\n \\n , \\n \\n', '\\n \\n , \\n \\n', '\\n \\n \\n \\n \\n', ', \\n GoldMagikarp , ,', '\\n \\n , \\n \\n']\n",
      "['\\n \\n \\n \\n \\n', '\\n \\n \\n \\n \\n', '\\n GoldMagikarp , , ,', '\\n \\n \\n \\n \\n', '\\n \\n \\n \\n \\n', '\\n \\n , \\n \\n', '\\n \\n \\n \\n \\n', '\\n \\n \\n \\n \\n', '\\n \\n \\n \\n \\n', ', \\n GoldMagikarp , ,', '\\n \\n , \\n \\n', '\\n \\n , \\n \\n', '\\n \\n , , \\n', '\\n \\n \\n \\n \\n', '\\n \\n \\n \\n \\n', ', \\n GoldMagikarp , ,']\n"
     ]
    },
    {
     "name": "stderr",
     "output_type": "stream",
     "text": [
      "\r",
      "  6%|██████▊                                                                                                                   | 168/2999 [55:48<15:34:30, 19.81s/it]"
     ]
    },
    {
     "name": "stdout",
     "output_type": "stream",
     "text": [
      "['\\n \\n \\n \\n \\n', '\\n \\n \\n \\n \\n', ', \\n GoldMagikarp , ,', '\\n \\n \\n \\n \\n', '\\n \\n \\n \\n ,', '\\n , , \\n \\n', '\\n \\n \\n \\n \\n', ', \\n GoldMagikarp , ,', ', \\n GoldMagikarp , ,', '\\n \\n \\n \\n \\n', ', \\n GoldMagikarp , ,', ', , \\n GoldMagikarp ,', '\\n , \\n \\n \\n', ', \\n GoldMagikarp , ,', ', \\n GoldMagikarp , ,', 'ppa , , \\n \\n']\n",
      "['\\n \\n \\n \\n \\n', '\\n \\n \\n \\n ,', '\\n \\n \\n \\n \\n', '\\n \\n \\n \\n \\n', '\\n \\n \\n \\n \\n', '\\n \\n \\n \\n \\n', '\\n \\n \\n \\n \\n', ', \\n GoldMagikarp , ,', '\\n \\n \\n \\n \\n', '\\n \\n GoldMagikarp , ,', ', \\n GoldMagikarp , ,', '\\n \\n \\n \\n \\n', '\\n \\n , \\n GoldMagikarp', '\\n \\n \\n \\n \\n', ', \\n GoldMagikarp , ,', '\\n \\n \\n \\n \\n']\n"
     ]
    },
    {
     "name": "stderr",
     "output_type": "stream",
     "text": [
      "\r",
      "  6%|██████▊                                                                                                                   | 169/2999 [56:08<15:35:45, 19.84s/it]"
     ]
    },
    {
     "name": "stdout",
     "output_type": "stream",
     "text": [
      "['\\n \\n \\n \\n \\n', '\\n \\n \\n \\n \\n', '\\n \\n \\n \\n \\n', '\\n \\n , \\n \\n', '\\n \\n \\n , \\n', '\\n \\n , \\n \\n', '\\n \\n \\n \\n \\n', ', \\n \\n \\n \\n', ', \\n GoldMagikarp , ,', '\\n \\n \\n \\n \\n', '\\n \\n , \\n \\n', ', , \\n GoldMagikarp ,', '\\n \\n \\n \\n \\n', '\\n \\n \\n \\n \\n', ', \\n GoldMagikarp , ,', ', \\n \\n \\n GoldMagikarp']\n",
      "['\\n \\n \\n \\n \\n', ', \\n GoldMagikarp , ,', '\\n \\n \\n \\n \\n', '\\n \\n \\n \\n \\n', '\\n \\n \\n \\n \\n', '\\n \\n , , ,', '\\n \\n , \\n \\n', ', , \\n GoldMagikarp ,', ', \\n GoldMagikarp , ,', ', \\n GoldMagikarp , ,', '\\n \\n \\n \\n ,', ', , , , \\n', '\\n \\n , \\n \\n', '\\n \\n \\n \\n \\n', ', \\n GoldMagikarp , ,', '\\n \\n \\n \\n \\n']\n"
     ]
    },
    {
     "name": "stderr",
     "output_type": "stream",
     "text": [
      "\r",
      "  6%|██████▉                                                                                                                   | 170/2999 [56:28<15:35:10, 19.83s/it]"
     ]
    },
    {
     "name": "stdout",
     "output_type": "stream",
     "text": [
      "['\\n \\n \\n \\n \\n', '\\n \\n \\n \\n \\n', '\\n \\n \\n \\n \\n', '\\n \\n \\n \\n \\n', 'hawk , , \\n \\n', '\\n , \\n \\n \\n', '\\n \\n \\n \\n \\n', ', \\n GoldMagikarp , ,', '\\n \\n \\n \\n \\n', '\\n \\n \\n \\n \\n', '\\n \\n \\n \\n \\n', '\\n \\n \\n \\n \\n', ', , \\n GoldMagikarp ,', ', \\n GoldMagikarp , ,', '\\n \\n \\n \\n ,', '\\n \\n \\n \\n \\n']\n",
      "['\\n \\n \\n \\n \\n', '\\n \\n \\n \\n \\n', '\\n \\n \\n \\n \\n', '\\n \\n \\n GoldMagikarp ,', '\\n \\n \\n \\n \\n', '\\n \\n , \\n \\n', '\\n \\n \\n \\n \\n', '\\n \\n , , \\n', ', \\n GoldMagikarp , ,', '\\n \\n \\n \\n \\n', '\\n \\n , \\n \\n', '\\n \\n \\n \\n \\n', '\\n \\n , , ,', '\\n \\n \\n \\n \\n', ', \\n GoldMagikarp , ,', '\\n \\n \\n \\n \\n']\n"
     ]
    },
    {
     "name": "stderr",
     "output_type": "stream",
     "text": [
      "\r",
      "  6%|██████▉                                                                                                                   | 171/2999 [56:48<15:34:32, 19.83s/it]"
     ]
    },
    {
     "name": "stdout",
     "output_type": "stream",
     "text": [
      "72.8592300415039 0.53515625\n",
      "[' Hue , , , \\n', '\\n \\n \\n \\n ,', '\\n \\n \\n \\n \\n', '\\n \\n \\n \\n \\n', '\\n \\n \\n \\n \\n', '\\n \\n \\n \\n \\n', '\\n \\n \\n \\n \\n', ', \\n GoldMagikarp , ,', '\\n \\n \\n \\n \\n', '\\n \\n \\n \\n \\n', '\\n \\n \\n \\n \\n', 'ENA , , \\n \\n', ', , \\n GoldMagikarp ,', '\\n \\n \\n \\n \\n', ', \\n GoldMagikarp , ,', '\\n \\n \\n \\n \\n']\n",
      "['\\n \\n \\n \\n \\n', '\\n \\n \\n \\n \\n', '\\n \\n \\n \\n \\n', '\\n \\n \\n \\n \\n', '\\n \\n \\n \\n \\n', '\\n \\n , \\n \\n', '\\n \\n \\n \\n \\n', '\\n \\n \\n \\n \\n', '\\n \\n \\n \\n \\n', '\\n \\n \\n \\n \\n', '\\n \\n , \\n \\n', '\\n \\n , \\n \\n', '\\n \\n \\n , \\n', '\\n \\n \\n \\n \\n', ', \\n GoldMagikarp , ,', ', \\n GoldMagikarp , ,']\n"
     ]
    },
    {
     "name": "stderr",
     "output_type": "stream",
     "text": [
      "\r",
      "  6%|██████▉                                                                                                                   | 172/2999 [57:08<15:35:16, 19.85s/it]"
     ]
    },
    {
     "name": "stdout",
     "output_type": "stream",
     "text": [
      "[' stirring , , , \\n', '\\n \\n \\n , \\n', '\\n \\n \\n \\n ,', '\\n \\n \\n \\n \\n', '\\n \\n \\n \\n \\n', '\\n \\n , \\n \\n', '\\n \\n \\n \\n \\n', ', \\n GoldMagikarp , ,', '\\n \\n , \\n \\n', '\\n \\n \\n \\n \\n', ', \\n GoldMagikarp , ,', '\\n \\n , \\n \\n', '\\n \\n , \\n \\n', '\\n \\n \\n \\n ,', ', \\n GoldMagikarp , ,', ', \\n GoldMagikarp , ,']\n"
     ]
    },
    {
     "name": "stderr",
     "output_type": "stream",
     "text": [
      "\r",
      "  6%|███████                                                                                                                   | 173/2999 [57:28<15:38:36, 19.93s/it]"
     ]
    },
    {
     "name": "stdout",
     "output_type": "stream",
     "text": [
      "[', \\n GoldMagikarp , ,', '\\n \\n \\n \\n \\n', '\\n \\n \\n \\n \\n', '\\n \\n \\n \\n \\n', '\\n \\n , \\n \\n', '\\n \\n , \\n \\n', '\\n \\n \\n \\n \\n', ', \\n \\n \\n \\n', ', \\n GoldMagikarp , ,', '\\n \\n \\n \\n ,', ', \\n GoldMagikarp , ,', '\\n \\n , \\n \\n', '\\n \\n , \\n \\n', '\\n \\n \\n \\n \\n', ', \\n GoldMagikarp , ,', '\\n \\n \\n \\n \\n']\n",
      "['\\n \\n \\n \\n \\n', '\\n \\n \\n \\n \\n', '\\n \\n \\n \\n ,', '\\n \\n \\n \\n \\n', '\\n \\n \\n \\n \\n', '\\n , \\n \\n \\n', '\\n \\n \\n \\n \\n', ', \\n \\n \\n \\n', ', \\n GoldMagikarp , ,', '\\n , \\n \\n \\n', ', \\n GoldMagikarp , ,', '\\n \\n , \\n \\n', '\\n \\n , \\n \\n', '\\n \\n \\n \\n \\n', ', \\n GoldMagikarp , ,', '\\n \\n , \\n \\n']\n",
      "[', \\n GoldMagikarp , ,', '\\n \\n \\n \\n \\n', '\\n \\n \\n , \\n', '\\n , \\n \\n ,', '\\n \\n \\n , \\n', '\\n \\n \\n \\n \\n', '\\n \\n \\n \\n \\n', ', \\n \\n \\n \\n', '\\n \\n \\n \\n \\n', '\\n \\n \\n \\n \\n', '\\n \\n \\n \\n \\n', '\\n \\n , \\n \\n', '\\n \\n , \\n \\n', ', \\n GoldMagikarp , ,', ', \\n GoldMagikarp , ,', '\\n \\n \\n \\n \\n']\n"
     ]
    },
    {
     "name": "stderr",
     "output_type": "stream",
     "text": [
      "\r",
      "  6%|███████                                                                                                                   | 174/2999 [57:48<15:36:21, 19.89s/it]"
     ]
    },
    {
     "name": "stdout",
     "output_type": "stream",
     "text": [
      "[', \\n \\n \\n \\n', ', , \\n GoldMagikarp ,', '\\n \\n \\n , \\n', ', \\n \\n \\n \\n', '\\n \\n \\n , \\n', '\\n \\n \\n \\n \\n', 'jiang , , \\n \\n', ', \\n \\n \\n \\n', '\\n \\n \\n \\n ,', '\\n \\n \\n \\n \\n', ', , \\n GoldMagikarp ,', ' polygamy , , , \\n', ', , \\n GoldMagikarp ,', '\\n \\n \\n , \\n', ', \\n GoldMagikarp , ,', '\\n \\n \\n \\n ,']\n",
      "['\\n \\n \\n \\n \\n', '\\n \\n \\n \\n \\n', '\\n \\n , \\n \\n', '\\n \\n \\n \\n \\n', '\\n \\n \\n \\n \\n', '\\n \\n , \\n \\n', '\\n \\n \\n \\n \\n', '\\n \\n \\n \\n \\n', '\\n \\n , \\n \\n', ', \\n GoldMagikarp , ,', '\\n \\n \\n \\n \\n', '\\n \\n , \\n \\n', '\\n \\n , \\n \\n', '\\n \\n \\n \\n \\n', ', \\n GoldMagikarp , ,', '\\n \\n \\n \\n \\n']\n"
     ]
    },
    {
     "name": "stderr",
     "output_type": "stream",
     "text": [
      "\r",
      "  6%|███████                                                                                                                   | 175/2999 [58:07<15:34:31, 19.86s/it]"
     ]
    },
    {
     "name": "stdout",
     "output_type": "stream",
     "text": [
      "[', \\n \\n \\n \\n', '\\n \\n \\n , \\n', '\\n \\n \\n , \\n', '\\n , \\n \\n \\n', '\\n \\n \\n \\n ,', '\\n , \\n \\n \\n', '\\n \\n \\n , \\n', ', \\n \\n \\n \\n', ' Perception , , \\n \\n', ', \\n GoldMagikarp , ,', ', , \\n \\n \\n', '\\n \\n , \\n \\n', ', , \\n \\n \\n', '\\n \\n , \\n \\n', '\\n \\n , \\n \\n', '\\n \\n , \\n \\n']\n",
      "['\\n \\n \\n \\n \\n', '\\n \\n \\n \\n \\n', '\\n \\n , \\n \\n', '\\n \\n \\n \\n \\n', '\\n \\n \\n \\n \\n', '\\n \\n \\n \\n \\n', '\\n \\n \\n \\n \\n', ', \\n \\n \\n \\n', '\\n \\n , \\n \\n', '\\n \\n \\n \\n \\n', '\\n \\n \\n \\n ,', '\\n \\n , \\n \\n', '\\n \\n \\n \\n \\n', '\\n \\n \\n \\n \\n', '\\n \\n \\n , \\n', '\\n \\n \\n \\n \\n']\n"
     ]
    },
    {
     "name": "stderr",
     "output_type": "stream",
     "text": [
      "\r",
      "  6%|███████▏                                                                                                                  | 176/2999 [58:27<15:31:46, 19.80s/it]"
     ]
    },
    {
     "name": "stdout",
     "output_type": "stream",
     "text": [
      "['rey , , , \\n', '\\n \\n \\n \\n \\n', '\\n \\n , \\n \\n', '\\n \\n \\n \\n ,', '\\n \\n \\n \\n \\n', '\\n , \\n \\n \\n', '\\n \\n \\n \\n ,', ', \\n \\n \\n \\n', ', \\n \\n \\n \\n', '\\n \\n \\n \\n \\n', ', \\n \\n \\n \\n', ', , \\n \\n \\n', '\\n , \\n \\n \\n', ', \\n GoldMagikarp , ,', ', \\n GoldMagikarp , ,', ', \\n \\n \\n \\n']\n",
      "['\\n \\n \\n \\n \\n', '\\n \\n \\n \\n \\n', '\\n \\n \\n \\n \\n', '\\n \\n \\n \\n \\n', '\\n \\n \\n \\n \\n', '\\n \\n \\n \\n \\n', '\\n \\n \\n \\n \\n', '\\n \\n \\n \\n \\n', ', \\n GoldMagikarp , ,', '\\n \\n \\n \\n \\n', '\\n \\n \\n \\n ,', '\\n \\n , , \\n', '\\n \\n , \\n \\n', '\\n \\n \\n \\n \\n', '\\n \\n \\n \\n \\n', '\\n \\n \\n \\n \\n']\n"
     ]
    },
    {
     "name": "stderr",
     "output_type": "stream",
     "text": [
      "\r",
      "  6%|███████▏                                                                                                                  | 177/2999 [58:47<15:28:57, 19.75s/it]"
     ]
    },
    {
     "name": "stdout",
     "output_type": "stream",
     "text": [
      "[', \\n \\n \\n \\n', ', \\n \\n \\n \\n', '\\n \\n \\n \\n ,', ', \\n \\n \\n \\n', ', \\n \\n GoldMagikarp ,', ', \\n \\n \\n \\n', '\\n , \\n \\n ,', ', \\n \\n \\n \\n', ', \\n \\n \\n \\n', ', \\n GoldMagikarp , ,', ', \\n GoldMagikarp , ,', '\\n \\n , \\n \\n', 'Sc , , , \\n', ', \\n \\n \\n \\n', ', \\n \\n \\n \\n', '\\n \\n , \\n \\n']\n",
      "['\\n \\n \\n \\n \\n', ', \\n GoldMagikarp , ,', '\\n \\n \\n \\n \\n', '\\n \\n \\n \\n \\n', '\\n \\n \\n \\n \\n', '\\n \\n , \\n \\n', '\\n \\n \\n \\n \\n', '\\n \\n \\n \\n \\n', '\\n \\n \\n \\n \\n', '\\n \\n \\n , \\n', '\\n \\n \\n \\n \\n', '\\n \\n , \\n \\n', '\\n \\n , \\n \\n', '\\n \\n \\n \\n ,', ', \\n GoldMagikarp , ,', '\\n \\n \\n \\n \\n']\n"
     ]
    },
    {
     "name": "stderr",
     "output_type": "stream",
     "text": [
      "\r",
      "  6%|███████▏                                                                                                                  | 178/2999 [59:06<15:27:10, 19.72s/it]"
     ]
    },
    {
     "name": "stdout",
     "output_type": "stream",
     "text": [
      "['\\n \\n \\n \\n \\n', '\\n \\n \\n \\n \\n', '\\n \\n , \\n \\n', ', \\n \\n \\n \\n', '\\n \\n \\n , \\n', ', \\n \\n , \\n', '\\n \\n \\n \\n \\n', ', \\n \\n \\n \\n', ', \\n \\n \\n \\n', '\\n \\n \\n , \\n', ', \\n \\n \\n \\n', '\\n \\n , \\n \\n', '\\n \\n , \\n \\n', ', \\n GoldMagikarp , ,', ', \\n \\n \\n \\n', '\\n \\n , \\n \\n']\n",
      "['\\n \\n \\n \\n \\n', '\\n \\n \\n \\n \\n', '\\n \\n \\n \\n \\n', '\\n \\n \\n \\n \\n', '\\n \\n \\n \\n \\n', '\\n , \\n \\n \\n', '\\n \\n \\n \\n \\n', ', \\n \\n \\n \\n', '\\n \\n \\n \\n \\n', '\\n \\n \\n \\n \\n', '\\n \\n \\n \\n \\n', '\\n \\n , \\n \\n', '\\n \\n \\n \\n \\n', '\\n \\n \\n \\n \\n', ', \\n GoldMagikarp , ,', '\\n \\n \\n \\n \\n']\n"
     ]
    },
    {
     "name": "stderr",
     "output_type": "stream",
     "text": [
      "\r",
      "  6%|███████▎                                                                                                                  | 179/2999 [59:26<15:26:28, 19.71s/it]"
     ]
    },
    {
     "name": "stdout",
     "output_type": "stream",
     "text": [
      "[', \\n \\n \\n \\n', 'ة , , \\n \\n', ', \\n \\n \\n \\n', '\\n , \\n \\n \\n', '\\n \\n \\n \\n \\n', '\\n \\n , \\n ,', '\\n \\n , \\n \\n', ', \\n \\n \\n \\n', '\\n \\n , \\n \\n', ', \\n \\n \\n \\n', '\\n \\n \\n \\n \\n', ', , \\n \\n \\n', 'Jeff , , , \\n', '\\n , \\n \\n ,', ' beyond , , \\n \\n', ' Greek , , , \\n']\n",
      "['\\n \\n \\n \\n \\n', ', \\n GoldMagikarp , ,', '\\n \\n \\n \\n \\n', '\\n \\n \\n \\n \\n', '\\n \\n \\n \\n \\n', '\\n \\n \\n \\n \\n', '\\n \\n \\n \\n \\n', ', \\n GoldMagikarp , ,', '\\n \\n , \\n \\n', '\\n \\n \\n \\n \\n', '\\n \\n \\n \\n \\n', '\\n \\n , \\n \\n', '\\n \\n , \\n \\n', '\\n \\n \\n \\n ,', ', \\n GoldMagikarp , ,', '\\n \\n \\n \\n \\n']\n"
     ]
    },
    {
     "name": "stderr",
     "output_type": "stream",
     "text": [
      "\r",
      "  6%|███████▎                                                                                                                  | 180/2999 [59:46<15:25:42, 19.70s/it]"
     ]
    },
    {
     "name": "stdout",
     "output_type": "stream",
     "text": [
      "['\\n , , \\n \\n', ' Fields , , , \\n', '\\n \\n \\n \\n \\n', '\\n \\n \\n \\n \\n', '\\n \\n \\n , \\n', ' depressing , , , \\n', '\\n , \\n \\n \\n', ' slang , , , \\n', ', \\n \\n \\n \\n', '\\n \\n \\n , \\n', '\\n \\n \\n \\n \\n', '\\n \\n \\n \\n \\n', ', , \\n GoldMagikarp ,', '\\n \\n \\n , \\n', ', \\n GoldMagikarp , ,', ' Math , , , \\n']\n",
      "['\\n \\n \\n \\n \\n', ', \\n GoldMagikarp , ,', '\\n \\n \\n \\n ,', ', \\n GoldMagikarp , ,', '\\n \\n \\n \\n \\n', '\\n \\n \\n \\n \\n', '\\n \\n \\n \\n \\n', '\\n \\n \\n \\n \\n', '\\n \\n \\n \\n \\n', '\\n \\n \\n \\n \\n', '\\n \\n \\n \\n \\n', '\\n \\n \\n \\n \\n', '\\n \\n , \\n \\n', '\\n \\n \\n \\n \\n', '\\n \\n \\n \\n \\n', '\\n \\n \\n \\n \\n']\n"
     ]
    },
    {
     "name": "stderr",
     "output_type": "stream",
     "text": [
      "\r",
      "  6%|███████▏                                                                                                                | 181/2999 [1:00:05<15:27:28, 19.75s/it]"
     ]
    },
    {
     "name": "stdout",
     "output_type": "stream",
     "text": [
      "61.51626968383789 0.51171875\n",
      "[', \\n \\n \\n \\n', ', \\n \\n \\n \\n', '\\n \\n \\n \\n \\n', ', \\n \\n \\n \\n', '\\n \\n \\n , ,', ', , , \\n \\n', '\\n \\n \\n \\n \\n', ', \\n \\n \\n \\n', ', \\n \\n \\n \\n', '\\n \\n \\n , \\n', ', , \\n \\n \\n', '\\n \\n , \\n \\n', '\\n \\n , \\n \\n', ', , \\n \\n \\n', ', \\n \\n GoldMagikarp ,', ', , \\n \\n \\n']\n",
      "['\\n \\n \\n \\n ,', '\\n \\n \\n \\n \\n', '\\n \\n \\n , \\n', ', \\n \\n \\n \\n', '\\n \\n \\n , \\n', ', , \\n \\n \\n', '\\n \\n , \\n \\n', ', \\n \\n \\n \\n', ', \\n \\n \\n \\n', ', \\n GoldMagikarp , ,', ', \\n \\n \\n \\n', ', , , \\n \\n', ', , \\n \\n \\n', '\\n \\n \\n \\n \\n', ', \\n \\n \\n \\n', '\\n \\n \\n \\n \\n']\n"
     ]
    },
    {
     "name": "stderr",
     "output_type": "stream",
     "text": [
      "\r",
      "  6%|███████▎                                                                                                                | 182/2999 [1:00:25<15:26:21, 19.73s/it]"
     ]
    },
    {
     "name": "stdout",
     "output_type": "stream",
     "text": [
      "[', , \\n \\n \\n', ', , \\n \\n \\n', ', \\n \\n \\n \\n', ', \\n \\n \\n \\n', ', \\n \\n \\n \\n', '\\n , , , ,', '\\n , , , ,', ', , \\n \\n \\n', 'T , , , ,', ', \\n GoldMagikarp , ,', ', , \\n \\n \\n', '665 , , , \\n', ', , \\n \\n \\n', ', , \\n \\n \\n', ', \\n \\n \\n \\n', ', , \\n \\n \\n']\n",
      "[', , \\n \\n GoldMagikarp', ', \\n GoldMagikarp , ,', '\\n \\n \\n \\n \\n', ', \\n \\n \\n \\n', '\\n \\n \\n , \\n', '\\n , \\n \\n ,', '\\n \\n \\n , \\n', ', \\n \\n \\n \\n', ', , \\n \\n \\n', ', \\n \\n \\n \\n', ', , \\n \\n GoldMagikarp', '\\n \\n , , ,', ', , , \\n \\n', ', , \\n \\n \\n', ', \\n \\n \\n \\n', ', \\n \\n \\n \\n']\n"
     ]
    },
    {
     "name": "stderr",
     "output_type": "stream",
     "text": [
      "\r",
      "  6%|███████▎                                                                                                                | 183/2999 [1:00:45<15:26:09, 19.73s/it]"
     ]
    },
    {
     "name": "stdout",
     "output_type": "stream",
     "text": [
      "[' Woman , , , \\n', ', , \\n \\n \\n', ' hunted , , , \\n', ', , \\n \\n \\n', '\\n \\n \\n , ,', ', , \\n \\n \\n', 'tests , , \\n \\n', ', , \\n \\n \\n', ', \\n \\n \\n \\n', ' SOL , , , ,', ', \\n \\n \\n \\n', ', , \\n \\n \\n', ', , \\n \\n \\n', ', , \\n \\n \\n', ', \\n \\n \\n \\n', ', , , \\n \\n']\n",
      "['\\n \\n \\n \\n \\n', ', , \\n \\n \\n', '\\n \\n \\n , \\n', ', \\n \\n \\n \\n', '\\n \\n \\n \\n ,', ', , \\n GoldMagikarp ,', ', , \\n \\n \\n', ', \\n \\n \\n \\n', ', \\n \\n \\n \\n', ', \\n GoldMagikarp , ,', ', , \\n GoldMagikarp ,', ', , \\n GoldMagikarp ,', ', , , \\n \\n', ', , \\n \\n \\n', '\\n \\n \\n \\n ,', '\\n , \\n \\n \\n']\n"
     ]
    },
    {
     "name": "stderr",
     "output_type": "stream",
     "text": [
      "\r",
      "  6%|███████▎                                                                                                                | 184/2999 [1:01:05<15:25:33, 19.73s/it]"
     ]
    },
    {
     "name": "stdout",
     "output_type": "stream",
     "text": [
      "[', , , \\n \\n', ', , \\n \\n \\n', '\\n , , , \\n', ', , \\n \\n \\n', ', \\n \\n \\n \\n', ', , , \\n \\n', ', , \\n \\n \\n', ', , \\n \\n \\n', ', \\n \\n \\n \\n', '\\n , , , ,', ', , \\n \\n \\n', '\\n , , , ,', ', , , , ,', ', , \\n \\n \\n', ', \\n \\n \\n \\n', ', \\n \\n \\n \\n']\n",
      "[', , \\n \\n \\n', '\\n \\n \\n \\n \\n', '\\n \\n , , ,', '\\n , \\n \\n \\n', '\\n \\n \\n , ,', ', , \\n \\n \\n', '\\n \\n , , \\n', ', \\n \\n \\n \\n', ', \\n \\n \\n \\n', '\\n \\n \\n , \\n', ', \\n \\n \\n \\n', ', , \\n \\n \\n', '\\n \\n \\n , ,', ', \\n GoldMagikarp , ,', ', \\n \\n \\n \\n', ', , \\n \\n \\n']\n"
     ]
    },
    {
     "name": "stderr",
     "output_type": "stream",
     "text": [
      "\r",
      "  6%|███████▍                                                                                                                | 185/2999 [1:01:24<15:25:47, 19.74s/it]"
     ]
    },
    {
     "name": "stdout",
     "output_type": "stream",
     "text": [
      "['\\n , , , ,', ', , , \\n \\n', ' Daniel , , , ,', ', , \\n \\n \\n', '\\n \\n \\n , ,', ', , \\n \\n \\n', ', , , \\n \\n', ', , , , ,', ', \\n \\n , ,', '\\n \\n , , ,', ', , \\n \\n \\n', ', , , \\n \\n', ', , , , ,', ', , \\n \\n \\n', ', \\n \\n \\n \\n', ', , , , ,']\n",
      "[', , \\n \\n \\n', '\\n \\n \\n \\n \\n', '\\n \\n \\n \\n \\n', ', \\n \\n \\n \\n', ', \\n GoldMagikarp , ,', ', \\n \\n \\n \\n', ', , \\n \\n \\n', ', \\n \\n \\n \\n', '\\n \\n \\n \\n \\n', '\\n \\n \\n \\n ,', ', , \\n GoldMagikarp ,', ', , \\n \\n \\n', ', , , \\n \\n', ', \\n \\n \\n \\n', ', \\n \\n \\n \\n', '\\n \\n \\n , ,']\n"
     ]
    },
    {
     "name": "stderr",
     "output_type": "stream",
     "text": [
      "\r",
      "  6%|███████▍                                                                                                                | 186/2999 [1:01:44<15:26:25, 19.76s/it]"
     ]
    },
    {
     "name": "stdout",
     "output_type": "stream",
     "text": [
      "['\\n \\n \\n \\n \\n', '\\n , , , ,', ', , , , \\n', ', \\n \\n \\n \\n', '\\n \\n , , ,', ', , , \\n \\n', ', , \\n \\n \\n', ', , \\n \\n \\n', ', \\n \\n \\n \\n', '\\n \\n \\n \\n ,', ', , , \\n \\n', ', , \\n \\n \\n', ', , \\n \\n \\n', '\\n \\n \\n , ,', ', \\n \\n \\n ,', ', , , \\n \\n']\n",
      "[', \\n \\n \\n \\n', ', \\n GoldMagikarp , ,', '\\n \\n \\n , \\n', ', \\n \\n \\n ,', '\\n \\n \\n \\n \\n', ', \\n \\n \\n \\n', '\\n \\n , , ,', ', \\n \\n \\n \\n', ', \\n \\n \\n \\n', '\\n \\n , \\n \\n', ', \\n GoldMagikarp , ,', ', , \\n \\n \\n', '\\n \\n , , ,', ', \\n \\n \\n \\n', '\\n \\n \\n , ,', '\\n \\n \\n , \\n']\n"
     ]
    },
    {
     "name": "stderr",
     "output_type": "stream",
     "text": [
      "\r",
      "  6%|███████▍                                                                                                                | 187/2999 [1:02:04<15:26:24, 19.77s/it]"
     ]
    },
    {
     "name": "stdout",
     "output_type": "stream",
     "text": [
      "[' kissed , , , ,', ', , , \\n \\n', '\\n , , , ,', ', \\n \\n \\n \\n', '\\n \\n \\n , ,', ', , , , ,', '\\n \\n \\n \\n \\n', ', , \\n \\n \\n', ', \\n \\n \\n \\n', '\\n \\n \\n , ,', ', , \\n \\n \\n', ', , , \\n \\n', '\\n , , , ,', '\\n , , , \\n', ', \\n \\n \\n \\n', ', , , \\n \\n']\n",
      "[', \\n \\n \\n \\n', ', \\n \\n \\n \\n', '\\n \\n \\n \\n ,', ', \\n \\n \\n \\n', '\\n \\n \\n \\n \\n', ', \\n \\n \\n \\n', '\\n \\n \\n \\n ,', ', \\n \\n \\n \\n', ', \\n GoldMagikarp , ,', ', \\n GoldMagikarp , ,', ', , \\n GoldMagikarp ,', '\\n \\n , \\n \\n', '\\n , , \\n \\n', ', \\n \\n GoldMagikarp ,', ', \\n \\n \\n \\n', '\\n \\n \\n , \\n']\n"
     ]
    },
    {
     "name": "stderr",
     "output_type": "stream",
     "text": [
      "\r",
      "  6%|███████▌                                                                                                                | 188/2999 [1:02:24<15:26:49, 19.78s/it]"
     ]
    },
    {
     "name": "stdout",
     "output_type": "stream",
     "text": [
      "[', , \\n \\n \\n', '\\n \\n \\n , \\n', ', \\n \\n \\n \\n', '\\n \\n , , ,', ' omin , , , ,', '\\n \\n , \\n ,', '\\n \\n \\n , ,', ', , \\n \\n \\n', ', \\n \\n \\n \\n', 'ensor , , , \\n', ', , \\n \\n \\n', '\\n , , , ,', '\\n \\n , , ,', ', , \\n \\n \\n', ', \\n \\n \\n \\n', '\\n \\n \\n , ,']\n",
      "['\\n \\n \\n \\n \\n', '\\n \\n \\n , \\n', '\\n \\n \\n , ,', ', , \\n \\n \\n', '\\n \\n \\n , ,', '\\n , \\n \\n \\n', '\\n \\n \\n \\n \\n', ', , \\n GoldMagikarp ,', '\\n \\n \\n \\n \\n', ', \\n GoldMagikarp , ,', ', \\n \\n \\n \\n', '\\n \\n , \\n \\n', ', , \\n GoldMagikarp ,', '\\n \\n , \\n \\n', ', \\n \\n GoldMagikarp ,', ', \\n \\n \\n \\n']\n"
     ]
    },
    {
     "name": "stderr",
     "output_type": "stream",
     "text": [
      "\r",
      "  6%|███████▌                                                                                                                | 189/2999 [1:02:44<15:26:36, 19.79s/it]"
     ]
    },
    {
     "name": "stdout",
     "output_type": "stream",
     "text": [
      "['\\n \\n \\n , ,', ' starters , , , ,', '\\n \\n \\n \\n ,', ', \\n \\n \\n \\n', '\\n \\n \\n , ,', 'ν , , , \\n', '\\n \\n , , ,', ', \\n \\n \\n \\n', 'turned , , , ,', ', \\n \\n \\n \\n', 'irit , , , ,', '\\n \\n , \\n \\n', '\\n , , \\n \\n', ', \\n GoldMagikarp , ,', ', \\n \\n \\n \\n', '\\n \\n \\n \\n \\n']\n",
      "[', \\n \\n \\n \\n', '\\n \\n , , ,', '\\n \\n \\n \\n \\n', ', \\n \\n \\n \\n', '\\n \\n \\n , \\n', ', \\n \\n \\n \\n', ', , \\n \\n \\n', ', , \\n \\n \\n', ', \\n \\n \\n \\n', ', \\n GoldMagikarp , ,', ', \\n GoldMagikarp , ,', ', , \\n \\n \\n', '\\n \\n \\n \\n \\n', ', , \\n \\n \\n', ', \\n \\n \\n \\n', ', \\n \\n \\n \\n']\n"
     ]
    },
    {
     "name": "stderr",
     "output_type": "stream",
     "text": [
      "\r",
      "  6%|███████▌                                                                                                                | 190/2999 [1:03:03<15:25:08, 19.76s/it]"
     ]
    },
    {
     "name": "stdout",
     "output_type": "stream",
     "text": [
      "[', , \\n \\n \\n', '\\n \\n \\n \\n ,', '\\n , , , ,', ', , \\n \\n \\n', '\\n \\n \\n , ,', ', , , \\n \\n', '\\n \\n , , ,', ', \\n \\n \\n \\n', ' dispute , , , \\n', 'buquerque , , , \\n', ', , \\n \\n \\n', '\\n \\n , , ,', '\\n \\n , , ,', '\\n \\n \\n , ,', 'azo , , , \\n', 'See , , , ,']\n",
      "['\\n \\n \\n \\n \\n', ', , \\n \\n \\n', '\\n , , , \\n', '\\n \\n \\n , \\n', ', , \\n \\n \\n', ', \\n \\n \\n \\n', '\\n \\n \\n \\n \\n', ', \\n \\n \\n \\n', ', \\n \\n \\n ,', ', \\n \\n \\n \\n', ', \\n \\n \\n \\n', ', , \\n \\n \\n', ', , \\n \\n \\n', ', , \\n \\n \\n', '\\n \\n \\n , ,', ', , \\n \\n \\n']\n"
     ]
    },
    {
     "name": "stderr",
     "output_type": "stream",
     "text": [
      "\r",
      "  6%|███████▋                                                                                                                | 191/2999 [1:03:23<15:25:59, 19.79s/it]"
     ]
    },
    {
     "name": "stdout",
     "output_type": "stream",
     "text": [
      "66.73662567138672 0.54296875\n",
      "[' Deity , , , ,', ' tumor , , , ,', '\\n \\n , , ,', ', \\n \\n \\n \\n', '\\n \\n , , ,', '668 , , , ,', '\\n \\n , , ,', ', , \\n \\n \\n', '\\n \\n , , ,', '\\n \\n , , ,', ', \\n \\n \\n \\n', '\\n \\n , , ,', ' Christian , , , \\n', '\\n \\n \\n \\n ,', '\\n \\n \\n \\n \\n', ', , \\n \\n \\n']\n",
      "[', \\n \\n \\n \\n', '\\n \\n \\n \\n \\n', ', \\n \\n \\n \\n', '\\n , , , \\n', ', , \\n \\n \\n', '\\n , , , ,', '\\n \\n \\n , ,', ', \\n \\n \\n \\n', ', \\n \\n \\n ,', '\\n \\n \\n \\n \\n', ', , \\n \\n \\n', ', , \\n \\n \\n', ', , , , ,', ', \\n \\n \\n \\n', '\\n \\n \\n , ,', '\\n \\n \\n , ,']\n"
     ]
    },
    {
     "name": "stderr",
     "output_type": "stream",
     "text": [
      "\r",
      "  6%|███████▋                                                                                                                | 192/2999 [1:03:43<15:25:50, 19.79s/it]"
     ]
    },
    {
     "name": "stdout",
     "output_type": "stream",
     "text": [
      "[', , \\n \\n \\n', '\\n \\n \\n \\n \\n', '\\n \\n , , ,', ', , \\n \\n \\n', '\\n \\n , , ,', 'Martin , , , ,', '\\n , , , ,', ', , \\n \\n \\n', ', \\n \\n \\n \\n', '\\n , , , ,', ', , \\n \\n \\n', '\\n , , , \\n', '\\n \\n , , ,', ', , \\n \\n \\n', ', \\n \\n \\n \\n', ', , , , \\n']\n",
      "['\\n \\n , , ,', '\\n \\n , , ,', '\\n \\n , , ,', ', , \\n \\n \\n', '\\n \\n \\n , ,', ', , \\n \\n \\n', '\\n \\n , , ,', ', , \\n \\n \\n', ', \\n \\n \\n \\n', ', \\n \\n \\n \\n', ', , \\n \\n \\n', '\\n , , , ,', '\\n , , , ,', ', \\n \\n \\n \\n', '\\n \\n \\n \\n \\n', ', , \\n \\n \\n']\n"
     ]
    },
    {
     "name": "stderr",
     "output_type": "stream",
     "text": [
      "\r",
      "  6%|███████▋                                                                                                                | 193/2999 [1:04:03<15:25:11, 19.78s/it]"
     ]
    },
    {
     "name": "stdout",
     "output_type": "stream",
     "text": [
      "[', , \\n \\n \\n', ', , \\n \\n \\n', '\\n , , , \\n', ', , \\n \\n \\n', '\\n \\n , , ,', '\\n , , , ,', '\\n \\n \\n , ,', ', , \\n \\n \\n', ', , \\n \\n \\n', '\\n \\n \\n \\n ,', ', , , \\n \\n', '\\n , , , ,', ', , \\n \\n \\n', '\\n \\n \\n , ,', '\\n \\n \\n , ,', '\\n , , , \\n']\n",
      "['\\n , , , \\n', '\\n \\n \\n , ,', '\\n \\n \\n , ,', ', \\n \\n \\n \\n', '\\n \\n \\n \\n \\n', ', , , , \\n', '\\n \\n , \\n \\n', '\\n , , , ,', '\\n \\n \\n , ,', '\\n , , , ,', '\\n \\n , , ,', ', , , \\n \\n', '\\n \\n , \\n \\n', ', , \\n \\n \\n', '\\n , , , ,', ', , , \\n \\n']\n"
     ]
    },
    {
     "name": "stderr",
     "output_type": "stream",
     "text": [
      "\r",
      "  6%|███████▊                                                                                                                | 194/2999 [1:04:23<15:25:47, 19.80s/it]"
     ]
    },
    {
     "name": "stdout",
     "output_type": "stream",
     "text": [
      "['\\n \\n \\n , \\n', '\\n , , , ,', '\\n , , , \\n', ', , \\n \\n \\n', '\\n \\n \\n \\n \\n', '\\n \\n , , ,', '\\n \\n \\n \\n \\n', '\\n , , , ,', ', \\n \\n \\n \\n', ', \\n \\n \\n ,', ', , \\n \\n \\n', ', , , \\n \\n', ', , , , ,', ', , \\n \\n \\n', '\\n \\n \\n , ,', ', , \\n \\n \\n']\n",
      "['\\n \\n \\n , ,', '\\n \\n \\n , ,', '\\n , , , ,', ', , , \\n \\n', '\\n \\n \\n , \\n', '\\n , , , \\n', ', , \\n \\n \\n', ', , , \\n \\n', ', \\n \\n \\n \\n', ', \\n \\n \\n ,', ', \\n GoldMagikarp , ,', '\\n , , , ,', '\\n , , , \\n', ', , \\n \\n \\n', '\\n \\n \\n \\n ,', '\\n \\n \\n \\n \\n']\n"
     ]
    },
    {
     "name": "stderr",
     "output_type": "stream",
     "text": [
      "\r",
      "  7%|███████▊                                                                                                                | 195/2999 [1:04:42<15:24:58, 19.79s/it]"
     ]
    },
    {
     "name": "stdout",
     "output_type": "stream",
     "text": [
      "['\\n \\n , , ,', '\\n \\n \\n \\n \\n', '\\n \\n \\n , ,', ', \\n \\n \\n \\n', ', , \\n \\n \\n', '\\n \\n , , ,', '\\n \\n \\n , ,', ', , \\n \\n \\n', ', , \\n \\n \\n', '\\n \\n \\n \\n ,', ', , \\n \\n \\n', ' Goddard , , , \\n', ', , , , \\n', '\\n \\n , , ,', ', \\n \\n \\n \\n', ', , \\n \\n \\n']\n",
      "[', , \\n \\n \\n', '\\n \\n \\n \\n \\n', '\\n \\n \\n , ,', ', \\n \\n \\n \\n', '\\n \\n \\n , ,', '\\n , , , \\n', '\\n \\n \\n , ,', ', , , , \\n', '\\n \\n , , ,', '\\n \\n \\n \\n \\n', ', , \\n \\n \\n', '\\n \\n , , ,', ', , , , \\n', '\\n , , , ,', '\\n \\n \\n , ,', ', , \\n \\n \\n']\n"
     ]
    },
    {
     "name": "stderr",
     "output_type": "stream",
     "text": [
      "\r",
      "  7%|███████▊                                                                                                                | 196/2999 [1:05:02<15:25:00, 19.80s/it]"
     ]
    },
    {
     "name": "stdout",
     "output_type": "stream",
     "text": [
      "['\\n \\n \\n , ,', '\\n \\n , , ,', '\\n \\n \\n \\n \\n', ' rescue , , , ,', '\\n \\n \\n , ,', ' ancestor , , , \\n', ', , \\n \\n \\n', ', , \\n \\n \\n', ', \\n \\n \\n \\n', ', \\n \\n \\n \\n', ', \\n \\n \\n \\n', 'http \\n \\n , \\n', '\\n , , , \\n', ', , \\n \\n \\n', ' divorced , , , ,', '\\n , , , ,']\n",
      "['\\n \\n \\n \\n ,', ', \\n \\n \\n \\n', '\\n , , , \\n', ', , \\n \\n \\n', '\\n \\n \\n , ,', '\\n , , , \\n', ', , \\n \\n \\n', ', , \\n \\n \\n', ', \\n \\n \\n \\n', '\\n \\n \\n \\n \\n', ', , \\n \\n \\n', '\\n , , , ,', '\\n , , , \\n', ', , \\n \\n \\n', ', \\n \\n \\n \\n', ', , \\n \\n \\n']\n"
     ]
    },
    {
     "name": "stderr",
     "output_type": "stream",
     "text": [
      "\r",
      "  7%|███████▉                                                                                                                | 197/2999 [1:05:22<15:23:51, 19.78s/it]"
     ]
    },
    {
     "name": "stdout",
     "output_type": "stream",
     "text": [
      "['\\n \\n , , ,', ', , \\n \\n \\n', '\\n \\n \\n , ,', ', \\n \\n \\n ,', '\\n \\n \\n , ,', '\\n , , , ,', '\\n \\n \\n , ,', '\\n \\n , , ,', ', \\n \\n \\n \\n', '\\n \\n , , ,', ' UK , , , ,', '\\n , , , \\n', '\\n , , , ,', ', , \\n \\n \\n', '\\n \\n \\n \\n \\n', ', \\n \\n \\n ,']\n",
      "['\\n \\n \\n \\n \\n', ', , \\n \\n \\n', '\\n , , , \\n', ', \\n \\n \\n \\n', '\\n \\n \\n \\n ,', ', , \\n \\n \\n', '\\n \\n \\n \\n \\n', ', , \\n \\n \\n', ', \\n \\n , ,', ', \\n \\n \\n \\n', ', \\n \\n \\n \\n', '\\n , , , \\n', ', , \\n \\n \\n', '\\n \\n \\n \\n ,', '\\n \\n \\n \\n \\n', ', , , \\n \\n']\n"
     ]
    },
    {
     "name": "stderr",
     "output_type": "stream",
     "text": [
      "\r",
      "  7%|███████▉                                                                                                                | 198/2999 [1:05:42<15:24:13, 19.80s/it]"
     ]
    },
    {
     "name": "stdout",
     "output_type": "stream",
     "text": [
      "[' walk , , , ,', '\\n \\n , , ,', 'NC , , , \\n', '\\n \\n , , ,', '\\n \\n \\n \\n ,', ', , , , \\n', '\\n \\n , , ,', ', \\n \\n \\n ,', ', \\n \\n \\n ,', '\\n \\n , , ,', ', , \\n \\n \\n', 'ully , , , \\n', '\\n , \\n \\n \\n', '\\n \\n \\n \\n ,', ', \\n \\n \\n \\n', '\\n , , , ,']\n",
      "[', , \\n \\n \\n', ', , \\n \\n \\n', '\\n \\n \\n , ,', '\\n , , , \\n', ', \\n \\n \\n \\n', '\\n , , , ,', '\\n \\n , , ,', ', , \\n \\n \\n', ', \\n \\n \\n \\n', ', \\n \\n \\n \\n', ', , \\n \\n \\n', ', , \\n \\n \\n', ', , , \\n \\n', '\\n \\n \\n \\n \\n', ', \\n \\n \\n \\n', '\\n \\n \\n , ,']\n"
     ]
    },
    {
     "name": "stderr",
     "output_type": "stream",
     "text": [
      "\r",
      "  7%|███████▉                                                                                                                | 199/2999 [1:06:02<15:25:39, 19.84s/it]"
     ]
    },
    {
     "name": "stdout",
     "output_type": "stream",
     "text": [
      "[' attachment , , \\n \\n', '\\n \\n , , \\n', ', \\n \\n \\n \\n', '\\n , , , \\n', '\\n \\n \\n , \\n', ', , \\n \\n \\n', '\\n \\n , \\n \\n', ', , \\n \\n \\n', '\\n \\n , , ,', ', \\n \\n \\n \\n', ', \\n \\n \\n \\n', '\\n \\n , , ,', ', , \\n \\n \\n', '\\n \\n \\n \\n \\n', '\\n , , , \\n', ', , \\n \\n \\n']\n",
      "['\\n \\n \\n , ,', '\\n \\n \\n , ,', '\\n , , , \\n', ', \\n \\n \\n \\n', '\\n \\n \\n \\n \\n', ', , , , ,', '\\n \\n , , ,', ', , \\n \\n \\n', ', \\n \\n \\n \\n', ', \\n \\n \\n \\n', ', , \\n \\n \\n', ', , , \\n \\n', '\\n , , , ,', '\\n \\n \\n , ,', ', \\n \\n \\n \\n', ', , \\n \\n \\n']\n"
     ]
    },
    {
     "name": "stderr",
     "output_type": "stream",
     "text": [
      "\r",
      "  7%|████████                                                                                                                | 200/2999 [1:06:21<15:24:53, 19.83s/it]"
     ]
    },
    {
     "name": "stdout",
     "output_type": "stream",
     "text": [
      "['\\n \\n \\n \\n \\n', '\\n \\n \\n \\n \\n', '\\n , \\n , ,', ', \\n \\n \\n \\n', ', \\n \\n \\n \\n', ' analyses , , \\n \\n', '\\n \\n \\n , ,', ', \\n \\n \\n \\n', ', \\n \\n \\n \\n', '\\n \\n \\n \\n \\n', '\\n , , , \\n', ', , \\n \\n \\n', '\\n , , , ,', '\\n \\n \\n \\n ,', ', \\n \\n \\n \\n', ', \\n \\n \\n \\n']\n",
      "[', , \\n GoldMagikarp ,', '\\n \\n , , ,', '\\n \\n \\n , ,', ', , \\n \\n \\n', ', \\n \\n \\n \\n', ', , \\n \\n \\n', '\\n \\n \\n \\n \\n', ', , , \\n \\n', '\\n , , , \\n', ', \\n \\n \\n \\n', ', , \\n \\n \\n', '\\n , , , \\n', '\\n , , , \\n', '\\n \\n , , ,', ', \\n \\n \\n \\n', ', , , \\n \\n']\n"
     ]
    },
    {
     "name": "stderr",
     "output_type": "stream",
     "text": [
      "\r",
      "  7%|████████                                                                                                                | 201/2999 [1:06:41<15:23:40, 19.81s/it]"
     ]
    },
    {
     "name": "stdout",
     "output_type": "stream",
     "text": [
      "54.514530181884766 0.52734375\n",
      "[', , \\n \\n \\n', '\\n \\n , , ,', '\\n \\n \\n , \\n', 'ulnerability , , \\n \\n', '\\n \\n \\n \\n \\n', '\\n , \\n , \\n', '\\n , \\n \\n \\n', ', , \\n \\n \\n', '\\n \\n \\n , ,', '\\n \\n \\n \\n \\n', ', \\n \\n \\n \\n', '\\n \\n , , \\n', '\\n , , \\n \\n', '\\n , , \\n \\n', ', \\n \\n \\n \\n', ', \\n \\n \\n \\n']\n",
      "[', , \\n \\n \\n', ', \\n \\n \\n \\n', '\\n , \\n \\n \\n', '\\n , , , ,', '\\n \\n \\n \\n \\n', '\\n , \\n \\n ,', '\\n \\n \\n \\n \\n', ', \\n \\n \\n \\n', '\\n \\n \\n \\n \\n', ', \\n \\n \\n \\n', ', \\n \\n \\n \\n', '\\n , \\n \\n \\n', '\\n \\n , \\n \\n', '\\n \\n \\n , \\n', ', \\n \\n \\n \\n', ', , \\n \\n \\n']\n"
     ]
    },
    {
     "name": "stderr",
     "output_type": "stream",
     "text": [
      "\r",
      "  7%|████████                                                                                                                | 202/2999 [1:07:01<15:22:27, 19.79s/it]"
     ]
    },
    {
     "name": "stdout",
     "output_type": "stream",
     "text": [
      "[' vacations , , , ,', '\\n \\n , \\n \\n', '\\n , , , ,', '\\n , \\n \\n \\n', '\\n \\n \\n , \\n', ', , , \\n \\n', '\\n \\n , \\n \\n', '\\n , , , \\n', ', \\n \\n \\n \\n', ', \\n \\n \\n \\n', '\\n \\n , , \\n', '\\n , , \\n \\n', '\\n , , , \\n', '\\n \\n \\n \\n \\n', ', \\n \\n \\n \\n', ', , \\n \\n \\n']\n",
      "['\\n \\n \\n \\n ,', '\\n \\n \\n , \\n', ', \\n \\n \\n \\n', '\\n \\n , \\n \\n', '\\n \\n \\n \\n \\n', ', , \\n \\n \\n', '\\n \\n , \\n \\n', ', , \\n \\n \\n', '\\n , \\n \\n \\n', ', \\n \\n \\n \\n', '\\n \\n \\n \\n ,', '\\n \\n , \\n \\n', '\\n , \\n , ,', '\\n \\n \\n \\n ,', ', \\n \\n \\n \\n', ', \\n \\n \\n \\n']\n"
     ]
    },
    {
     "name": "stderr",
     "output_type": "stream",
     "text": [
      "\r",
      "  7%|████████                                                                                                                | 203/2999 [1:07:21<15:21:09, 19.77s/it]"
     ]
    },
    {
     "name": "stdout",
     "output_type": "stream",
     "text": [
      "['019 , \\n \\n \\n', '\\n , \\n \\n \\n', 'Find , , , \\n', '\\n \\n \\n \\n \\n', '\\n \\n \\n , \\n', ', \\n \\n \\n \\n', '\\n \\n \\n , \\n', ', \\n \\n \\n \\n', ', \\n \\n \\n ,', '\\n \\n \\n , \\n', ', \\n \\n \\n \\n', '\\n , , \\n ,', '\\n \\n \\n , \\n', '\\n \\n , \\n \\n', ' endorsed , , , \\n', ', \\n \\n \\n \\n']\n",
      "['\\n \\n , \\n \\n', '\\n , \\n \\n \\n', '\\n \\n \\n \\n ,', ', \\n \\n \\n \\n', '\\n \\n \\n \\n ,', '\\n , \\n \\n \\n', '\\n \\n \\n \\n ,', ', \\n \\n \\n \\n', '\\n , \\n \\n \\n', '\\n , \\n \\n ,', '\\n \\n , \\n \\n', '\\n , , , ,', '\\n , \\n \\n \\n', ', , \\n \\n \\n', ', \\n \\n \\n ,', ', \\n \\n \\n \\n']\n"
     ]
    },
    {
     "name": "stderr",
     "output_type": "stream",
     "text": [
      "\r",
      "  7%|████████▏                                                                                                               | 204/2999 [1:07:41<15:22:21, 19.80s/it]"
     ]
    },
    {
     "name": "stdout",
     "output_type": "stream",
     "text": [
      "['\\n \\n \\n \\n ,', '\\n \\n \\n , \\n', '\\n \\n \\n , \\n', ', \\n \\n \\n \\n', '\\n \\n \\n \\n \\n', '\\n , , , \\n', '\\n \\n , \\n \\n', '\\n , \\n \\n \\n', ', \\n \\n \\n \\n', ' goat , , , \\n', '\\n \\n , \\n \\n', '\\n , , , \\n', '\\n , , , \\n', '\\n \\n \\n \\n \\n', '\\n \\n \\n \\n \\n', '\\n \\n \\n , \\n']\n",
      "['\\n \\n \\n , \\n', '\\n \\n \\n \\n ,', '\\n \\n \\n , \\n', ', \\n \\n \\n \\n', ', \\n \\n \\n \\n', '\\n , , , \\n', '\\n \\n \\n , \\n', ', \\n \\n \\n \\n', '\\n \\n , \\n \\n', '\\n \\n \\n \\n \\n', ', , \\n \\n \\n', '\\n \\n \\n \\n ,', '\\n \\n , \\n \\n', '\\n \\n \\n \\n ,', ', \\n \\n \\n \\n', ', \\n \\n \\n \\n']\n"
     ]
    },
    {
     "name": "stderr",
     "output_type": "stream",
     "text": [
      "\r",
      "  7%|████████▏                                                                                                               | 205/2999 [1:08:00<15:20:35, 19.77s/it]"
     ]
    },
    {
     "name": "stdout",
     "output_type": "stream",
     "text": [
      "['\\n \\n , , \\n', ', \\n \\n \\n \\n', '\\n , , , \\n', '\\n , \\n \\n \\n', '\\n , , , ,', ', , \\n \\n \\n', '\\n \\n , \\n \\n', ', , \\n \\n \\n', '\\n \\n , \\n \\n', ', \\n \\n \\n \\n', ' chang , , , \\n', '\\n , \\n \\n ,', ', , \\n \\n \\n', '\\n \\n \\n , \\n', '\\n \\n \\n , \\n', ', , \\n \\n \\n']\n",
      "['\\n , \\n , \\n', ', , \\n \\n \\n', '\\n \\n \\n , \\n', '\\n , \\n \\n \\n', ', \\n \\n \\n \\n', ', \\n \\n \\n \\n', '\\n \\n , \\n \\n', ', \\n \\n \\n \\n', '\\n , \\n \\n \\n', '\\n , \\n \\n \\n', '\\n , , , \\n', '\\n , \\n \\n \\n', '\\n , , , ,', '\\n \\n \\n \\n \\n', ', \\n \\n \\n \\n', '\\n \\n , , \\n']\n"
     ]
    },
    {
     "name": "stderr",
     "output_type": "stream",
     "text": [
      "\r",
      "  7%|████████▏                                                                                                               | 206/2999 [1:08:20<15:20:50, 19.78s/it]"
     ]
    },
    {
     "name": "stdout",
     "output_type": "stream",
     "text": [
      "['\\n \\n , \\n \\n', ', \\n \\n \\n \\n', ', \\n \\n \\n \\n', '\\n \\n \\n \\n ,', '\\n \\n \\n , \\n', '\\n , \\n \\n \\n', '\\n , \\n \\n ,', ', , \\n \\n \\n', '\\n \\n \\n , \\n', '\\n \\n \\n \\n \\n', ', , \\n \\n \\n', ' lawfully , , , \\n', ', , , \\n \\n', '\\n , \\n \\n \\n', '\\n , \\n , ,', ', , \\n \\n \\n']\n",
      "['\\n \\n \\n \\n \\n', '\\n \\n \\n , \\n', '\\n \\n \\n , \\n', '\\n \\n , \\n \\n', '\\n \\n \\n \\n ,', '\\n \\n , , ,', '\\n \\n \\n , \\n', ', \\n \\n \\n ,', ', \\n \\n \\n \\n', '\\n \\n \\n , \\n', ', , \\n \\n \\n', ', , \\n \\n \\n', '\\n \\n , , ,', '\\n \\n \\n \\n \\n', ', \\n \\n \\n \\n', ', , \\n \\n \\n']\n"
     ]
    },
    {
     "name": "stderr",
     "output_type": "stream",
     "text": [
      "\r",
      "  7%|████████▎                                                                                                               | 207/2999 [1:08:40<15:20:00, 19.77s/it]"
     ]
    },
    {
     "name": "stdout",
     "output_type": "stream",
     "text": [
      "['\\n , \\n \\n \\n', '\\n \\n \\n , \\n', '\\n \\n \\n \\n ,', '\\n , \\n \\n ,', '\\n \\n \\n , ,', ' shading , , \\n \\n', '\\n \\n \\n \\n \\n', ', \\n \\n \\n \\n', '\\n \\n , \\n \\n', '\\n \\n \\n , \\n', '\\n \\n , \\n \\n', '\\n \\n , , \\n', '\\n , \\n \\n \\n', ', , \\n \\n \\n', ' Higgins , , , \\n', ', \\n \\n \\n \\n']\n",
      "['\\n \\n , , ,', '\\n \\n , , \\n', '\\n \\n , \\n \\n', '\\n \\n \\n \\n \\n', '\\n \\n \\n , \\n', '\\n , , , \\n', '\\n \\n \\n \\n \\n', ', \\n \\n \\n \\n', '\\n \\n \\n \\n \\n', '\\n , \\n \\n ,', ', , \\n \\n \\n', ', , \\n \\n \\n', '\\n , \\n \\n \\n', ', , \\n \\n \\n', '\\n \\n \\n \\n \\n', ', , \\n \\n \\n']\n"
     ]
    },
    {
     "name": "stderr",
     "output_type": "stream",
     "text": [
      "\r",
      "  7%|████████▎                                                                                                               | 208/2999 [1:09:00<15:20:18, 19.78s/it]"
     ]
    },
    {
     "name": "stdout",
     "output_type": "stream",
     "text": [
      "[' stations , , \\n \\n', ', \\n \\n \\n \\n', '\\n \\n \\n \\n \\n', '\\n , \\n \\n ,', '\\n \\n \\n \\n \\n', ' redund , , \\n \\n', '\\n \\n \\n \\n \\n', ', \\n \\n \\n \\n', '\\n \\n \\n , \\n', ', \\n \\n \\n \\n', '\\n \\n \\n , \\n', '\\n \\n , \\n \\n', '\\n \\n \\n , \\n', '\\n \\n \\n \\n ,', ', \\n \\n \\n \\n', '\\n \\n \\n , \\n']\n",
      "[', \\n \\n \\n \\n', '\\n , \\n \\n ,', '\\n \\n \\n , \\n', ', \\n \\n \\n \\n', '\\n \\n \\n , \\n', '\\n , , , \\n', '\\n \\n \\n , ,', ', \\n \\n \\n \\n', '\\n , , , \\n', ', \\n \\n \\n \\n', ', , \\n \\n \\n', '\\n \\n , \\n ,', '\\n , \\n \\n \\n', '\\n \\n , \\n \\n', ', \\n \\n \\n \\n', '\\n \\n \\n \\n \\n']\n"
     ]
    },
    {
     "name": "stderr",
     "output_type": "stream",
     "text": [
      "\r",
      "  7%|████████▎                                                                                                               | 209/2999 [1:09:20<15:21:49, 19.82s/it]"
     ]
    },
    {
     "name": "stdout",
     "output_type": "stream",
     "text": [
      "['\\n \\n , \\n \\n', ', \\n \\n \\n \\n', '\\n \\n \\n , \\n', '\\n , \\n \\n ,', '\\n \\n , \\n \\n', ' mogul , , , \\n', ', , \\n \\n \\n', ', \\n \\n \\n \\n', '\\n \\n \\n , \\n', '\\n \\n \\n \\n ,', '\\n \\n \\n \\n \\n', '\\n \\n \\n \\n ,', ' winger , , , ,', '\\n \\n \\n \\n \\n', ', \\n \\n \\n \\n', ', \\n \\n \\n \\n']\n",
      "['\\n \\n , \\n \\n', '\\n , \\n \\n \\n', '\\n \\n , , ,', '\\n , \\n \\n \\n', '\\n \\n \\n \\n \\n', '\\n \\n , , ,', '\\n \\n \\n \\n \\n', ', \\n \\n \\n \\n', ', \\n \\n \\n \\n', '\\n \\n \\n , \\n', '\\n \\n \\n \\n \\n', '\\n , , , \\n', '\\n , , \\n \\n', '\\n , \\n \\n \\n', '\\n \\n \\n \\n ,', '\\n \\n , , ,']\n"
     ]
    },
    {
     "name": "stderr",
     "output_type": "stream",
     "text": [
      "\r",
      "  7%|████████▍                                                                                                               | 210/2999 [1:09:39<15:19:48, 19.79s/it]"
     ]
    },
    {
     "name": "stdout",
     "output_type": "stream",
     "text": [
      "['\\n \\n , \\n \\n', '\\n \\n \\n \\n \\n', '\\n \\n \\n \\n \\n', '\\n , \\n \\n \\n', '\\n \\n \\n , ,', '\\n \\n , \\n \\n', '\\n \\n \\n \\n \\n', ', \\n \\n \\n \\n', '\\n \\n \\n \\n \\n', ' Theory , , , \\n', '\\n \\n , \\n \\n', '\\n , \\n \\n \\n', '\\n , \\n \\n ,', ', \\n \\n \\n \\n', ', \\n \\n \\n ,', '\\n \\n \\n \\n \\n']\n",
      "[', \\n \\n \\n \\n', '\\n \\n \\n , ,', ', \\n \\n \\n \\n', '\\n \\n \\n \\n \\n', '\\n \\n \\n , \\n', '\\n , , , \\n', '\\n , \\n \\n \\n', '\\n \\n , , ,', ', \\n \\n \\n \\n', ', \\n \\n \\n \\n', ', \\n \\n GoldMagikarp ,', '\\n , \\n \\n \\n', '\\n , \\n , ,', '\\n \\n \\n , \\n', ', \\n \\n \\n \\n', ', , \\n \\n \\n']\n"
     ]
    },
    {
     "name": "stderr",
     "output_type": "stream",
     "text": [
      "\r",
      "  7%|████████▍                                                                                                               | 211/2999 [1:09:59<15:19:52, 19.80s/it]"
     ]
    },
    {
     "name": "stdout",
     "output_type": "stream",
     "text": [
      "50.18549728393555 0.51953125\n",
      "[', \\n \\n \\n \\n', '\\n \\n \\n \\n \\n', '\\n \\n , \\n \\n', '457 , , , ,', ' rolls , , , \\n', '\\n \\n \\n \\n \\n', '\\n \\n , \\n ,', '\\n \\n , , \\n', '\\n \\n , \\n \\n', ', \\n \\n \\n \\n', '\\n \\n , \\n \\n', '\\n , \\n \\n ,', '\\n \\n , \\n \\n', '\\n \\n \\n , \\n', '\\n \\n \\n , \\n', '\\n \\n , \\n \\n']\n",
      "[', \\n \\n \\n ,', '\\n \\n \\n \\n \\n', '\\n \\n \\n , \\n', ', \\n \\n \\n \\n', ', \\n \\n \\n \\n', '\\n , \\n \\n ,', '\\n \\n \\n , \\n', ', \\n \\n \\n \\n', '\\n \\n \\n \\n ,', ', \\n \\n \\n \\n', '\\n , \\n \\n \\n', '\\n , \\n \\n ,', '\\n , \\n , ,', ', , \\n \\n \\n', ', \\n \\n \\n \\n', ', \\n \\n \\n \\n']\n"
     ]
    },
    {
     "name": "stderr",
     "output_type": "stream",
     "text": [
      "\r",
      "  7%|████████▍                                                                                                               | 212/2999 [1:10:19<15:20:03, 19.81s/it]"
     ]
    },
    {
     "name": "stdout",
     "output_type": "stream",
     "text": [
      "['\\n \\n \\n , \\n', '\\n \\n \\n \\n \\n', '\\n \\n \\n , \\n', '\\n , , \\n \\n', '\\n \\n \\n \\n \\n', '\\n , \\n \\n \\n', '\\n \\n \\n \\n ,', ', \\n \\n \\n \\n', '\\n \\n , \\n ,', '\\n \\n \\n , \\n', ', \\n \\n \\n \\n', ' Linear , , , ,', '\\n \\n , \\n \\n', ', , \\n \\n \\n', ', \\n \\n \\n \\n', ', \\n \\n \\n \\n']\n",
      "['\\n \\n , \\n ,', '\\n \\n \\n \\n \\n', '\\n \\n , , ,', ', \\n \\n \\n \\n', ', \\n \\n \\n \\n', '\\n , \\n \\n \\n', '\\n \\n , \\n \\n', ', \\n \\n \\n \\n', '\\n \\n \\n , \\n', '\\n \\n \\n , \\n', ', \\n \\n \\n \\n', '\\n \\n , \\n \\n', '\\n , \\n \\n \\n', '\\n \\n \\n \\n \\n', '\\n \\n \\n \\n \\n', ', \\n \\n \\n \\n']\n"
     ]
    },
    {
     "name": "stderr",
     "output_type": "stream",
     "text": [
      "\r",
      "  7%|████████▌                                                                                                               | 213/2999 [1:10:39<15:20:05, 19.82s/it]"
     ]
    },
    {
     "name": "stdout",
     "output_type": "stream",
     "text": [
      "['ogeneity , , \\n \\n', '\\n \\n \\n , ,', '\\n \\n \\n \\n \\n', ', \\n \\n \\n \\n', '\\n , , , \\n', '\\n , , , ,', '\\n \\n , \\n \\n', ', \\n \\n \\n \\n', ', , \\n \\n \\n', '\\n \\n \\n , \\n', '\\n \\n \\n \\n ,', '\\n , \\n \\n \\n', '\\n \\n , , ,', '…\" , , \\n \\n', ', \\n \\n \\n \\n', ', \\n \\n \\n \\n']\n",
      "[', \\n \\n \\n \\n', '\\n \\n \\n , \\n', '\\n \\n , , \\n', ', \\n \\n \\n \\n', '\\n \\n , \\n \\n', '\\n \\n \\n , \\n', '\\n \\n , \\n \\n', ', \\n \\n \\n \\n', '\\n , , \\n \\n', '\\n \\n \\n , \\n', ', , \\n \\n \\n', '\\n \\n \\n , \\n', '\\n \\n , \\n \\n', '\\n \\n , \\n \\n', ', \\n \\n \\n \\n', ', \\n \\n \\n \\n']\n"
     ]
    },
    {
     "name": "stderr",
     "output_type": "stream",
     "text": [
      "\r",
      "  7%|████████▌                                                                                                               | 214/2999 [1:10:59<15:19:20, 19.81s/it]"
     ]
    },
    {
     "name": "stdout",
     "output_type": "stream",
     "text": [
      "['\\n \\n , , ,', ', , \\n \\n \\n', ' renters , , , ,', ', \\n \\n \\n \\n', '\\n , \\n \\n ,', ', , , \\n \\n', '\\n , , \\n \\n', ', \\n \\n \\n ,', '\\n , , , ,', ' Column , , , \\n', 'Enabled , , \\n \\n', ', , \\n \\n \\n', '\\n \\n , , ,', ', , \\n \\n \\n', '\\n \\n \\n , ,', '\\n , , , \\n']\n",
      "[', \\n \\n \\n \\n', '\\n \\n , \\n \\n', '\\n \\n \\n \\n \\n', '\\n , \\n , \\n', '\\n \\n \\n , \\n', '\\n , \\n , ,', '\\n \\n \\n , \\n', '\\n \\n , \\n \\n', ', \\n \\n \\n \\n', '\\n \\n \\n , \\n', '\\n \\n \\n \\n ,', '\\n \\n , \\n ,', ', , \\n \\n \\n', '\\n \\n \\n \\n \\n', ', \\n \\n \\n \\n', '\\n \\n \\n , \\n']\n"
     ]
    },
    {
     "name": "stderr",
     "output_type": "stream",
     "text": [
      "\r",
      "  7%|████████▌                                                                                                               | 215/2999 [1:11:18<15:18:37, 19.80s/it]"
     ]
    },
    {
     "name": "stdout",
     "output_type": "stream",
     "text": [
      "['\\n , \\n \\n \\n', '\\n , , , \\n', 'greg , , , \\n', ', , \\n \\n \\n', '\\n \\n \\n , ,', ', , \\n \\n \\n', '\\n \\n , , ,', ', , \\n \\n \\n', '\\n , , , \\n', '\\n \\n \\n , ,', ', , \\n \\n \\n', '\\n \\n , , ,', ', , \\n \\n \\n', ', , \\n \\n \\n', '\\n \\n \\n , ,', ', , \\n \\n \\n']\n",
      "['\\n \\n \\n , \\n', ', \\n \\n \\n \\n', '\\n \\n , \\n \\n', ', \\n \\n \\n \\n', '\\n \\n \\n \\n ,', '\\n , , \\n ,', '\\n \\n \\n , \\n', ', \\n \\n \\n \\n', ', , \\n \\n \\n', '\\n , \\n \\n \\n', '\\n \\n , \\n ,', '\\n \\n , \\n \\n', '\\n , \\n \\n \\n', ', , \\n \\n \\n', '\\n \\n \\n , \\n', '\\n \\n \\n , \\n']\n"
     ]
    },
    {
     "name": "stderr",
     "output_type": "stream",
     "text": [
      "\r",
      "  7%|████████▋                                                                                                               | 216/2999 [1:11:38<15:21:20, 19.86s/it]"
     ]
    },
    {
     "name": "stdout",
     "output_type": "stream",
     "text": [
      "['\\n \\n , \\n ,', '\\n \\n \\n \\n ,', '\\n , , , \\n', ', \\n \\n \\n \\n', '\\n \\n \\n \\n \\n', '\\n , \\n \\n \\n', '\\n \\n \\n \\n \\n', ', \\n \\n \\n ,', ', \\n \\n \\n \\n', '\\n \\n \\n \\n \\n', '\\n \\n \\n , \\n', ', , \\n \\n \\n', '\\n \\n , \\n \\n', '\\n \\n , , ,', '\\n \\n \\n \\n \\n', '\\n , \\n \\n \\n']\n",
      "['\\n \\n \\n , \\n', '\\n \\n \\n , \\n', '\\n \\n \\n , \\n', '\\n \\n , \\n \\n', '\\n \\n \\n \\n \\n', '\\n \\n \\n \\n \\n', '\\n \\n \\n \\n ,', '\\n , \\n , \\n', '\\n \\n , \\n \\n', '\\n \\n \\n \\n \\n', ', \\n \\n \\n \\n', ', , \\n \\n \\n', '\\n , , \\n \\n', '\\n \\n , \\n \\n', '\\n \\n \\n \\n \\n', '\\n \\n , \\n \\n']\n"
     ]
    },
    {
     "name": "stderr",
     "output_type": "stream",
     "text": [
      "\r",
      "  7%|████████▋                                                                                                               | 217/2999 [1:11:58<15:19:57, 19.84s/it]"
     ]
    },
    {
     "name": "stdout",
     "output_type": "stream",
     "text": [
      "['\\n \\n \\n , \\n', ' prospects , , \\n \\n', '\\n , \\n \\n \\n', '\\n , , , \\n', '\\n \\n , \\n \\n', '\\n \\n \\n , \\n', '\\n \\n \\n \\n \\n', '\\n \\n \\n \\n \\n', '\\n \\n \\n \\n ,', '\\n , , , \\n', '\\n \\n , \\n \\n', '\\n , \\n \\n \\n', '\\n \\n , , \\n', '\\n \\n \\n \\n \\n', ', \\n \\n \\n \\n', '\\n \\n \\n \\n \\n']\n",
      "['\\n \\n \\n , \\n', '\\n \\n \\n , \\n', '\\n \\n \\n , \\n', ', \\n \\n \\n \\n', '\\n \\n \\n \\n \\n', ', , \\n \\n \\n', '\\n \\n \\n \\n \\n', '\\n \\n , \\n \\n', '\\n \\n \\n \\n \\n', '\\n \\n \\n , \\n', ', \\n GoldMagikarp , ,', '\\n \\n \\n , ,', ', , \\n \\n \\n', ', , \\n \\n \\n', ', \\n \\n GoldMagikarp ,', '\\n \\n \\n \\n \\n']\n"
     ]
    },
    {
     "name": "stderr",
     "output_type": "stream",
     "text": [
      "\r",
      "  7%|████████▋                                                                                                               | 218/2999 [1:12:18<15:20:58, 19.87s/it]"
     ]
    },
    {
     "name": "stdout",
     "output_type": "stream",
     "text": [
      "['\\n \\n , \\n \\n', '\\n \\n \\n \\n \\n', '\\n \\n \\n \\n \\n', '\\n \\n \\n \\n ,', '\\n , \\n \\n \\n', '\\n \\n , \\n \\n', ', , \\n \\n \\n', ', \\n \\n \\n \\n', '\\n \\n \\n \\n ,', ', \\n \\n \\n \\n', ' Keane , , , \\n', '\\n , \\n \\n \\n', '\\n \\n \\n \\n \\n', '\\n \\n \\n \\n \\n', ', \\n \\n \\n \\n', ', , \\n \\n \\n']\n",
      "['\\n \\n \\n , \\n', '\\n \\n \\n , \\n', '\\n \\n \\n \\n ,', ', \\n \\n \\n \\n', '\\n \\n \\n \\n \\n', '\\n , \\n \\n \\n', '\\n \\n \\n \\n \\n', '\\n \\n , \\n \\n', '\\n \\n \\n , \\n', '\\n , , , \\n', ', \\n \\n \\n \\n', '\\n , \\n \\n \\n', '\\n \\n \\n \\n \\n', '\\n \\n \\n \\n ,', '\\n \\n \\n \\n \\n', '\\n \\n \\n \\n \\n']\n"
     ]
    },
    {
     "name": "stderr",
     "output_type": "stream",
     "text": [
      "\r",
      "  7%|████████▊                                                                                                               | 219/2999 [1:12:38<15:18:08, 19.82s/it]"
     ]
    },
    {
     "name": "stdout",
     "output_type": "stream",
     "text": [
      "['\\n \\n , \\n \\n', ', \\n \\n \\n \\n', 'otor , , , \\n', ', \\n \\n \\n \\n', '\\n \\n , \\n \\n', 'opic , , \\n \\n', '\\n \\n \\n \\n \\n', '\\n \\n \\n \\n \\n', '\\n \\n , \\n \\n', '\\n \\n \\n \\n ,', '\\n \\n \\n \\n \\n', '\\n \\n , \\n \\n', '\\n , \\n \\n \\n', '\\n \\n , \\n \\n', ', \\n \\n \\n \\n', '\\n \\n , \\n \\n']\n",
      "['\\n \\n \\n , ,', '\\n \\n \\n \\n ,', ', \\n \\n \\n \\n', '\\n \\n , \\n \\n', '\\n \\n \\n \\n ,', '\\n \\n , \\n \\n', '\\n \\n \\n , \\n', '\\n , \\n \\n \\n', ', \\n \\n \\n \\n', '\\n \\n \\n \\n \\n', '\\n \\n , \\n ,', '\\n , , \\n \\n', '\\n , \\n \\n ,', '\\n , \\n \\n \\n', '\\n \\n \\n \\n \\n', '\\n \\n \\n \\n \\n']\n"
     ]
    },
    {
     "name": "stderr",
     "output_type": "stream",
     "text": [
      "\r",
      "  7%|████████▊                                                                                                               | 220/2999 [1:12:57<15:17:09, 19.80s/it]"
     ]
    },
    {
     "name": "stdout",
     "output_type": "stream",
     "text": [
      "['\\n \\n \\n , \\n', ', \\n \\n \\n \\n', '\\n , \\n \\n ,', ', \\n \\n \\n \\n', ' Yin , , , \\n', '\\n , \\n \\n \\n', '\\n \\n , , ,', 'Iraq , , , ,', '\\n \\n , \\n ,', '\\n \\n \\n , \\n', 'cipline , , \\n \\n', ' Passing , , , \\n', '\\n \\n \\n , \\n', ', , \\n \\n \\n', 'olar , , , \\n', ', , \\n \\n \\n']\n",
      "['\\n \\n \\n \\n \\n', '\\n \\n \\n \\n \\n', '\\n \\n \\n , ,', '\\n \\n , \\n \\n', '\\n \\n \\n , \\n', ', \\n \\n \\n \\n', '\\n \\n , \\n \\n', '\\n , \\n \\n \\n', ', \\n \\n \\n \\n', '\\n \\n \\n , \\n', ', , \\n \\n \\n', '\\n , \\n \\n \\n', '\\n \\n , \\n \\n', '\\n \\n \\n \\n \\n', '\\n \\n \\n \\n \\n', '\\n \\n \\n \\n \\n']\n"
     ]
    },
    {
     "name": "stderr",
     "output_type": "stream",
     "text": [
      "\r",
      "  7%|████████▊                                                                                                               | 221/2999 [1:13:17<15:16:11, 19.79s/it]"
     ]
    },
    {
     "name": "stdout",
     "output_type": "stream",
     "text": [
      "57.43574142456055 0.5390625\n",
      "['\\n , , , \\n', '\\n \\n , \\n \\n', '\\n , \\n \\n \\n', '\\n \\n \\n \\n \\n', ' UFO , , , ,', ', , , \\n \\n', '\\n , , , ,', ', \\n \\n \\n \\n', '\\n \\n , \\n ,', '\\n \\n \\n , \\n', ', \\n \\n \\n \\n', '\\n \\n , , \\n', '\\n \\n , \\n \\n', '\\n \\n \\n , \\n', '\\n \\n , \\n ,', ' 370 , , , ,']\n",
      "['\\n , \\n \\n \\n', ', \\n \\n \\n \\n', '\\n \\n \\n \\n ,', '\\n \\n , , ,', '\\n \\n , \\n \\n', '\\n , \\n , ,', '\\n \\n \\n , \\n', ', , \\n \\n \\n', '\\n \\n \\n \\n \\n', '\\n \\n \\n , \\n', '\\n , , \\n ,', '\\n \\n , \\n \\n', '\\n , \\n , \\n', '\\n \\n , \\n \\n', '\\n \\n \\n , ,', '\\n \\n , \\n \\n']\n"
     ]
    },
    {
     "name": "stderr",
     "output_type": "stream",
     "text": [
      "\r",
      "  7%|████████▉                                                                                                               | 222/2999 [1:13:37<15:16:21, 19.80s/it]"
     ]
    },
    {
     "name": "stdout",
     "output_type": "stream",
     "text": [
      "['\\n \\n \\n \\n \\n', '\\n \\n , \\n \\n', '\\n \\n , , \\n', ', \\n \\n \\n ,', '\\n \\n \\n , \\n', ' confirming , , , \\n', ' striped , , , ,', ', \\n \\n \\n \\n', '\\n \\n , , ,', ', \\n \\n \\n \\n', '\\n \\n , \\n \\n', '\\n , \\n \\n ,', '\\n \\n , , ,', '\\n \\n \\n , ,', '\\n \\n \\n \\n \\n', '\\n , , \\n ,']\n",
      "['\\n \\n \\n , \\n', '\\n \\n , \\n \\n', '\\n \\n \\n \\n \\n', '\\n , \\n \\n ,', '\\n \\n , \\n ,', '\\n , , , \\n', '\\n \\n , \\n ,', ', \\n \\n \\n \\n', ', \\n \\n \\n ,', '\\n , \\n \\n \\n', '\\n , \\n \\n \\n', '\\n \\n \\n , \\n', '\\n , \\n , ,', ', , \\n \\n \\n', '\\n \\n \\n \\n \\n', ', , \\n \\n \\n']\n"
     ]
    },
    {
     "name": "stderr",
     "output_type": "stream",
     "text": [
      "\r",
      "  7%|████████▉                                                                                                               | 223/2999 [1:13:57<15:15:23, 19.79s/it]"
     ]
    },
    {
     "name": "stdout",
     "output_type": "stream",
     "text": [
      "[', , \\n \\n \\n', '\\n \\n \\n , \\n', '\\n \\n , \\n \\n', ', \\n \\n \\n \\n', '\\n \\n \\n , ,', '\\n , , \\n \\n', '\\n \\n , \\n \\n', ', \\n \\n \\n ,', ', \\n \\n \\n \\n', '\\n \\n \\n \\n \\n', '\\n \\n \\n \\n ,', '\\n , , , \\n', '\\n , , \\n \\n', '\\n , \\n \\n \\n', '\\n \\n \\n \\n \\n', ', , \\n \\n \\n']\n",
      "['\\n \\n \\n , \\n', '\\n \\n , \\n \\n', '\\n \\n , , \\n', ', \\n \\n \\n \\n', '\\n \\n \\n \\n ,', '\\n , \\n \\n \\n', '\\n , \\n , ,', ', \\n \\n \\n \\n', ', \\n \\n \\n \\n', '\\n \\n \\n , \\n', ', , \\n \\n \\n', ', \\n \\n \\n \\n', '\\n , \\n \\n \\n', '\\n \\n \\n \\n ,', ', \\n \\n \\n \\n', ', , \\n \\n \\n']\n"
     ]
    },
    {
     "name": "stderr",
     "output_type": "stream",
     "text": [
      "\r",
      "  7%|████████▉                                                                                                               | 224/2999 [1:14:17<15:16:19, 19.81s/it]"
     ]
    },
    {
     "name": "stdout",
     "output_type": "stream",
     "text": [
      "[', , \\n \\n \\n', '\\n \\n \\n , \\n', '\\n \\n \\n , \\n', '上 , , , \\n', '\\n \\n , , ,', ' polar , , , \\n', '\\n \\n , \\n \\n', ', \\n \\n \\n \\n', '\\n \\n \\n , \\n', '\\n \\n \\n , \\n', ', , \\n \\n \\n', '\\n \\n , , ,', '\\n , \\n \\n \\n', '\\n \\n \\n \\n ,', '\\n \\n \\n , ,', '\\n \\n , , \\n']\n",
      "['\\n \\n \\n , \\n', '\\n \\n \\n \\n ,', '\\n \\n \\n \\n \\n', '\\n \\n , \\n \\n', '\\n \\n \\n \\n \\n', ', , , , ,', '\\n \\n \\n \\n \\n', '\\n \\n \\n , \\n', '\\n \\n , , \\n', '\\n , \\n \\n ,', ', \\n \\n \\n \\n', '\\n , \\n \\n \\n', '\\n , , , \\n', ', , \\n \\n \\n', '\\n \\n \\n \\n ,', ', \\n \\n \\n ,']\n"
     ]
    },
    {
     "name": "stderr",
     "output_type": "stream",
     "text": [
      "\r",
      "  8%|█████████                                                                                                               | 225/2999 [1:14:36<15:14:46, 19.79s/it]"
     ]
    },
    {
     "name": "stdout",
     "output_type": "stream",
     "text": [
      "[', \\n \\n \\n \\n', '\\n \\n \\n , ,', '\\n \\n \\n , \\n', ', \\n \\n \\n ,', '\\n \\n \\n , ,', '\\n , \\n \\n ,', '\\n \\n \\n \\n \\n', ', \\n \\n \\n \\n', '\\n \\n , \\n ,', '\\n , \\n \\n \\n', '\\n , , \\n \\n', '\\n \\n \\n \\n \\n', '\\n , \\n \\n ,', '\\n \\n , , \\n', '\\n \\n \\n , \\n', '\\n , , , ,']\n",
      "[', , \\n \\n \\n', '\\n \\n , , \\n', '\\n , \\n , ,', ', \\n \\n \\n \\n', '\\n \\n \\n \\n \\n', '\\n \\n , \\n \\n', '\\n \\n \\n \\n \\n', ', \\n \\n \\n \\n', '\\n \\n \\n , \\n', '\\n , \\n \\n \\n', ', \\n \\n \\n ,', '\\n , \\n \\n ,', '\\n , , , \\n', '\\n \\n \\n \\n ,', '\\n , , , \\n', '\\n , \\n \\n \\n']\n"
     ]
    },
    {
     "name": "stderr",
     "output_type": "stream",
     "text": [
      "\r",
      "  8%|█████████                                                                                                               | 226/2999 [1:14:56<15:14:54, 19.80s/it]"
     ]
    },
    {
     "name": "stdout",
     "output_type": "stream",
     "text": [
      "['\\n \\n \\n , \\n', '\\n \\n \\n \\n \\n', '\\n , , , ,', ', , \\n \\n \\n', 'blown , , , ,', '\\n \\n , \\n \\n', '\\n \\n \\n , \\n', ', \\n \\n \\n \\n', ', \\n \\n \\n \\n', '\\n \\n \\n , \\n', ', , \\n \\n \\n', '\\n \\n \\n \\n ,', ' Leader , , , \\n', ', , , \\n \\n', '\\n \\n \\n , \\n', '\\n \\n , \\n \\n']\n",
      "['\\n \\n , , ,', '\\n , \\n \\n \\n', '\\n \\n \\n \\n \\n', ', \\n \\n \\n \\n', '\\n \\n \\n , \\n', '\\n , \\n , \\n', '\\n , \\n , \\n', ', \\n \\n \\n \\n', ', \\n \\n \\n \\n', '\\n \\n \\n , \\n', ', , \\n \\n \\n', '\\n , \\n \\n \\n', '\\n \\n \\n \\n ,', '\\n \\n \\n , ,', '\\n \\n \\n , \\n', ', \\n \\n \\n \\n']\n"
     ]
    },
    {
     "name": "stderr",
     "output_type": "stream",
     "text": [
      "\r",
      "  8%|█████████                                                                                                               | 227/2999 [1:15:16<15:14:41, 19.80s/it]"
     ]
    },
    {
     "name": "stdout",
     "output_type": "stream",
     "text": [
      "[', \\n \\n \\n \\n', ' oct , , , \\n', ' riddled , , , \\n', ', \\n \\n \\n \\n', '\\n \\n \\n \\n ,', ', \\n \\n \\n \\n', ', \\n \\n \\n \\n', ', \\n \\n \\n \\n', 'raq , , , \\n', '\\n \\n \\n \\n ,', '\\n \\n , \\n \\n', '\\n \\n \\n \\n \\n', '\\n \\n , \\n \\n', '\\n \\n \\n \\n ,', ', \\n \\n \\n \\n', ', , \\n \\n \\n']\n",
      "['\\n \\n , , \\n', '\\n , \\n \\n \\n', ', \\n \\n \\n \\n', '\\n \\n , \\n \\n', '\\n \\n \\n \\n \\n', '\\n , \\n , ,', '\\n \\n \\n , \\n', ', , \\n \\n \\n', '\\n \\n , , ,', ', \\n \\n \\n \\n', '\\n \\n \\n , \\n', '\\n , , \\n \\n', '\\n , , \\n \\n', '\\n \\n , \\n \\n', '\\n \\n \\n \\n \\n', ', , , \\n \\n']\n"
     ]
    },
    {
     "name": "stderr",
     "output_type": "stream",
     "text": [
      "\r",
      "  8%|█████████                                                                                                               | 228/2999 [1:15:36<15:14:32, 19.80s/it]"
     ]
    },
    {
     "name": "stdout",
     "output_type": "stream",
     "text": [
      "[', , \\n \\n \\n', '\\n \\n \\n , \\n', '\\n \\n \\n \\n ,', '\\n \\n \\n , ,', '\\n \\n \\n \\n \\n', '\\n , \\n \\n \\n', '\\n \\n , , ,', ', \\n \\n \\n \\n', ', \\n \\n \\n \\n', ' abundantly , , \\n \\n', '\\n \\n , \\n \\n', '\\n , , , \\n', '\\n , \\n \\n \\n', ' Dor , , , \\n', '\\n \\n \\n , \\n', ', , \\n \\n \\n']\n",
      "['\\n \\n , \\n \\n', '\\n \\n \\n , ,', '\\n \\n , , ,', '\\n , \\n \\n \\n', '\\n \\n \\n \\n \\n', '\\n \\n , \\n \\n', '\\n \\n \\n , ,', ', \\n \\n \\n \\n', ', , \\n \\n \\n', ', \\n \\n \\n \\n', '\\n \\n , \\n \\n', '\\n , \\n , ,', ', , \\n \\n \\n', ', \\n \\n \\n \\n', '\\n \\n \\n \\n ,', '\\n \\n \\n \\n ,']\n"
     ]
    },
    {
     "name": "stderr",
     "output_type": "stream",
     "text": [
      "\r",
      "  8%|█████████▏                                                                                                              | 229/2999 [1:15:56<15:12:38, 19.77s/it]"
     ]
    },
    {
     "name": "stdout",
     "output_type": "stream",
     "text": [
      "['urg , , , \\n', ', \\n \\n \\n \\n', '\\n \\n \\n , ,', '\\n , , , \\n', '\\n \\n \\n , ,', '\\n , , , \\n', '\\n \\n \\n \\n \\n', ', \\n \\n \\n \\n', ' manure , , , ,', '\\n \\n \\n \\n ,', '\\n , , \\n \\n', '\\n , \\n , \\n', '\\n \\n , \\n \\n', ', , \\n \\n \\n', '\\n \\n \\n , \\n', ', \\n \\n \\n \\n']\n",
      "[', , \\n \\n \\n', '\\n \\n \\n , \\n', '\\n \\n \\n , \\n', '\\n , , , ,', '\\n \\n , \\n \\n', '\\n \\n \\n , \\n', ', , \\n \\n \\n', ', \\n \\n \\n ,', '\\n \\n \\n , \\n', '\\n \\n \\n , \\n', '\\n , , \\n \\n', ', , , \\n \\n', '\\n , , , ,', '\\n \\n \\n \\n ,', '\\n , , \\n \\n', ', , \\n \\n \\n']\n"
     ]
    },
    {
     "name": "stderr",
     "output_type": "stream",
     "text": [
      "\r",
      "  8%|█████████▏                                                                                                              | 230/2999 [1:16:15<15:13:13, 19.79s/it]"
     ]
    },
    {
     "name": "stdout",
     "output_type": "stream",
     "text": [
      "[', , \\n \\n \\n', '\\n \\n , , \\n', '\\n \\n \\n , \\n', '\\n \\n \\n , \\n', 'Perfect , , , ,', '\\n \\n \\n \\n ,', '\\n \\n , , ,', ', \\n \\n \\n \\n', ', \\n \\n \\n \\n', '\\n \\n \\n , \\n', ', , \\n \\n \\n', '\\n \\n , \\n \\n', '\\n , , \\n \\n', ', , \\n \\n \\n', '\\n \\n \\n , \\n', ', \\n \\n \\n \\n']\n",
      "[', , , , ,', '\\n , , \\n \\n', '\\n \\n , , \\n', ', \\n \\n \\n \\n', '\\n \\n \\n \\n \\n', '\\n , \\n \\n \\n', '\\n \\n \\n , \\n', ', \\n \\n \\n \\n', '\\n , , \\n \\n', '\\n \\n \\n \\n ,', '\\n \\n \\n \\n \\n', '\\n \\n , \\n \\n', ', , \\n \\n \\n', '\\n \\n , \\n ,', '\\n \\n , \\n \\n', '\\n \\n , \\n \\n']\n"
     ]
    },
    {
     "name": "stderr",
     "output_type": "stream",
     "text": [
      "\r",
      "  8%|█████████▏                                                                                                              | 231/2999 [1:16:35<15:13:22, 19.80s/it]"
     ]
    },
    {
     "name": "stdout",
     "output_type": "stream",
     "text": [
      "61.974449157714844 0.5234375\n",
      "[' implement , , \\n \\n', '\\n \\n \\n \\n \\n', '\\n \\n , , \\n', '\\n \\n \\n \\n \\n', '\\n \\n \\n , ,', '\\n , \\n , ,', ', , \\n \\n \\n', ', \\n \\n \\n \\n', '\\n \\n \\n \\n ,', '\\n \\n \\n \\n \\n', ' believed , , , \\n', ', , \\n \\n \\n', '\\n \\n \\n \\n \\n', '\\n \\n , \\n ,', '\\n \\n \\n \\n \\n', 'versions , , \\n \\n']\n",
      "['\\n \\n \\n \\n \\n', '\\n \\n \\n , \\n', '\\n \\n \\n , \\n', '\\n , \\n \\n ,', '\\n \\n \\n , \\n', ', \\n \\n \\n \\n', '\\n , \\n \\n \\n', '\\n , \\n \\n \\n', '\\n \\n \\n \\n ,', '\\n \\n \\n , \\n', '\\n \\n , \\n \\n', '\\n , \\n \\n \\n', '\\n \\n , \\n ,', '\\n \\n \\n , \\n', '\\n \\n \\n \\n \\n', '\\n \\n \\n \\n \\n']\n"
     ]
    },
    {
     "name": "stderr",
     "output_type": "stream",
     "text": [
      "\r",
      "  8%|█████████▎                                                                                                              | 232/2999 [1:16:55<15:13:21, 19.81s/it]"
     ]
    },
    {
     "name": "stdout",
     "output_type": "stream",
     "text": [
      "[' menacing , , , ,', '\\n \\n \\n \\n \\n', '\\n \\n , \\n \\n', '\\n \\n \\n , \\n', '\\n \\n \\n \\n \\n', '\\n \\n , \\n \\n', '\\n \\n , \\n \\n', ', \\n \\n \\n \\n', ', , \\n \\n \\n', ' Florida , , , \\n', 'Different , , \\n \\n', '\\n \\n , , \\n', '\\n \\n , \\n \\n', '\\n \\n \\n \\n \\n', ' inquired , , \\n \\n', ', , \\n \\n \\n']\n",
      "['\\n \\n , , \\n', '\\n \\n \\n \\n ,', '\\n \\n \\n , \\n', '\\n , \\n \\n \\n', '\\n \\n \\n \\n \\n', ', \\n \\n \\n \\n', '\\n \\n , \\n \\n', '\\n \\n , , \\n', '\\n , , \\n \\n', '\\n \\n \\n \\n \\n', '\\n \\n \\n , ,', '\\n , \\n \\n \\n', ', , , \\n \\n', '\\n \\n \\n \\n ,', ', \\n \\n \\n \\n', '\\n \\n , , \\n']\n"
     ]
    },
    {
     "name": "stderr",
     "output_type": "stream",
     "text": [
      "\r",
      "  8%|█████████▎                                                                                                              | 233/2999 [1:17:15<15:13:20, 19.81s/it]"
     ]
    },
    {
     "name": "stdout",
     "output_type": "stream",
     "text": [
      "['\\n , \\n \\n \\n', '\\n \\n , , \\n', '\\n \\n , \\n \\n', '\\n \\n , , \\n', '\\n \\n \\n \\n \\n', '\\n \\n , \\n \\n', '\\n \\n \\n , ,', '\\n \\n \\n , \\n', ', , , \\n \\n', '\\n \\n \\n , \\n', ' Mix , , , \\n', '\\n \\n , \\n \\n', '\\n , \\n \\n \\n', '\\n \\n \\n , \\n', ' Horse , , , ,', 'Jon , , , \\n']\n",
      "['\\n \\n \\n \\n ,', '\\n \\n \\n \\n \\n', ', \\n \\n \\n \\n', '\\n \\n , \\n \\n', '\\n \\n \\n , ,', '\\n \\n , , ,', '\\n \\n \\n \\n \\n', ', \\n \\n \\n \\n', '\\n \\n , \\n \\n', '\\n \\n \\n \\n \\n', '\\n \\n , \\n ,', '\\n \\n , , ,', '\\n \\n , \\n \\n', '\\n \\n \\n \\n ,', ', \\n \\n \\n \\n', ', \\n \\n \\n \\n']\n"
     ]
    },
    {
     "name": "stderr",
     "output_type": "stream",
     "text": [
      "\r",
      "  8%|█████████▎                                                                                                              | 234/2999 [1:17:35<15:12:42, 19.81s/it]"
     ]
    },
    {
     "name": "stdout",
     "output_type": "stream",
     "text": [
      "['\\n \\n \\n , \\n', '\\n \\n \\n \\n \\n', '\\n \\n , \\n \\n', '\\n \\n , \\n \\n', '\\n \\n \\n \\n \\n', '\\n , , \\n ,', '\\n \\n \\n \\n ,', '\\n , \\n \\n ,', '\\n \\n , , \\n', '\\n , \\n \\n \\n', '\\n \\n \\n \\n \\n', '\\n \\n , \\n ,', '\\n \\n , \\n ,', '\\n \\n \\n \\n \\n', '\\n \\n \\n \\n \\n', '\\n \\n , , \\n']\n",
      "['\\n \\n , , \\n', '\\n \\n \\n , \\n', '\\n , , \\n \\n', '\\n \\n , , ,', '\\n \\n \\n \\n \\n', '\\n \\n , \\n \\n', '\\n \\n \\n \\n \\n', '\\n \\n , \\n \\n', '\\n , , \\n ,', '\\n \\n \\n , \\n', ', , \\n \\n \\n', '\\n \\n , \\n \\n', '\\n , , \\n \\n', '\\n \\n \\n , \\n', ', \\n \\n \\n \\n', '\\n \\n \\n \\n ,']\n"
     ]
    },
    {
     "name": "stderr",
     "output_type": "stream",
     "text": [
      "\r",
      "  8%|█████████▍                                                                                                              | 235/2999 [1:17:55<15:13:11, 19.82s/it]"
     ]
    },
    {
     "name": "stdout",
     "output_type": "stream",
     "text": [
      "['\\n \\n \\n \\n ,', ' enemies , , , ,', '\\n , , , \\n', ', \\n \\n \\n \\n', '\\n \\n \\n , \\n', ' welfare , , , \\n', '\\n \\n \\n , \\n', 'Pre , , , \\n', '\\n \\n \\n , ,', '\\n \\n \\n , \\n', '\\n \\n \\n , ,', '\\n \\n \\n \\n ,', ', , \\n \\n \\n', '\\n \\n \\n , \\n', '\\n \\n \\n , \\n', '\\n \\n \\n , ,']\n",
      "[', , \\n \\n \\n', '\\n \\n \\n \\n \\n', '\\n \\n , \\n \\n', '\\n , \\n \\n \\n', '\\n \\n \\n \\n \\n', '\\n \\n , \\n \\n', '\\n \\n , , \\n', ', \\n \\n \\n \\n', ', \\n \\n \\n \\n', ', \\n \\n \\n \\n', ', , \\n \\n \\n', '\\n \\n \\n , \\n', '\\n \\n \\n \\n \\n', '\\n \\n \\n \\n \\n', '\\n \\n \\n , \\n', '\\n , \\n \\n \\n']\n"
     ]
    },
    {
     "name": "stderr",
     "output_type": "stream",
     "text": [
      "\r",
      "  8%|█████████▍                                                                                                              | 236/2999 [1:18:14<15:13:38, 19.84s/it]"
     ]
    },
    {
     "name": "stdout",
     "output_type": "stream",
     "text": [
      "['\\n , \\n , \\n', ' everyday , , , ,', '\\n \\n , \\n ,', '\\n \\n , \\n \\n', '\\n \\n \\n , \\n', '\\n \\n , , \\n', '\\n \\n , , \\n', '\\n \\n \\n , \\n', '\\n \\n \\n \\n ,', '\\n \\n , \\n \\n', '\\n \\n \\n \\n \\n', '\\n , , , ,', '\\n , , , \\n', '\\n \\n \\n \\n \\n', '\\n \\n \\n , ,', '\\n \\n , \\n \\n']\n",
      "['\\n \\n \\n \\n \\n', '\\n \\n \\n \\n \\n', '\\n \\n \\n \\n \\n', '\\n , \\n \\n \\n', '\\n \\n \\n \\n \\n', ', , \\n \\n \\n', '\\n \\n , \\n \\n', '\\n , \\n , ,', '\\n , , \\n \\n', '\\n \\n \\n \\n \\n', '\\n \\n , \\n \\n', '\\n \\n , \\n \\n', '\\n \\n \\n , \\n', '\\n \\n \\n \\n ,', '\\n \\n \\n \\n ,', '\\n \\n \\n \\n ,']\n"
     ]
    },
    {
     "name": "stderr",
     "output_type": "stream",
     "text": [
      "\r",
      "  8%|█████████▍                                                                                                              | 237/2999 [1:18:34<15:12:25, 19.82s/it]"
     ]
    },
    {
     "name": "stdout",
     "output_type": "stream",
     "text": [
      "['\\n \\n \\n \\n \\n', '\\n \\n \\n , ,', '\\n \\n \\n \\n \\n', '\\n \\n \\n \\n \\n', ' accumulating , , , \\n', '\\n \\n , \\n \\n', '\\n \\n \\n \\n \\n', ', , \\n \\n \\n', '\\n \\n , \\n \\n', '\\n \\n \\n \\n ,', '\\n \\n \\n , \\n', '\\n \\n \\n \\n \\n', '\\n \\n , , ,', '\\n \\n , , ,', '\\n \\n \\n \\n \\n', '\\n \\n , , \\n']\n",
      "['\\n \\n , \\n \\n', '\\n , \\n \\n \\n', '\\n \\n \\n \\n \\n', '\\n \\n \\n , \\n', '\\n \\n \\n \\n \\n', '\\n \\n , \\n \\n', '\\n \\n , \\n ,', ', , \\n \\n \\n', '\\n \\n , \\n \\n', '\\n \\n \\n \\n \\n', ', , \\n \\n \\n', ', , \\n \\n \\n', '\\n \\n , , \\n', '\\n \\n \\n \\n \\n', '\\n \\n , \\n \\n', '\\n \\n \\n \\n ,']\n"
     ]
    },
    {
     "name": "stderr",
     "output_type": "stream",
     "text": [
      "\r",
      "  8%|█████████▌                                                                                                              | 238/2999 [1:18:55<15:22:08, 20.04s/it]"
     ]
    },
    {
     "name": "stdout",
     "output_type": "stream",
     "text": [
      "['\\n \\n \\n \\n \\n', '\\n \\n , \\n \\n', '\\n \\n \\n \\n \\n', '\\n \\n \\n \\n \\n', '\\n \\n \\n \\n \\n', ', , \\n \\n \\n', '\\n \\n , \\n ,', ', , \\n \\n \\n', '\\n \\n \\n , \\n', '\\n \\n \\n \\n \\n', '\\n \\n , \\n \\n', '\\n \\n \\n \\n ,', '\\n , \\n \\n ,', '\\n \\n , , \\n', '\\n \\n \\n , \\n', '\\n , , \\n ,']\n",
      "[', \\n \\n \\n \\n', '\\n \\n \\n \\n \\n', '\\n \\n \\n \\n \\n', '\\n , , \\n \\n', '\\n \\n \\n \\n \\n', '\\n \\n , , \\n', '\\n \\n , \\n ,', '\\n \\n , \\n \\n', ', \\n \\n , \\n', '\\n \\n \\n \\n ,', ', \\n \\n \\n \\n', ', , \\n \\n \\n', '\\n , \\n \\n \\n', '\\n \\n , \\n \\n', ', \\n \\n \\n \\n', ', \\n \\n \\n \\n']\n"
     ]
    },
    {
     "name": "stderr",
     "output_type": "stream",
     "text": [
      "\r",
      "  8%|█████████▌                                                                                                              | 239/2999 [1:19:15<15:22:24, 20.05s/it]"
     ]
    },
    {
     "name": "stdout",
     "output_type": "stream",
     "text": [
      "['\\n \\n \\n , \\n', '\\n \\n \\n \\n \\n', '\\n \\n \\n \\n ,', '\\n \\n , , \\n', '\\n \\n , \\n \\n', '\\n \\n , \\n \\n', '\\n \\n \\n , \\n', '\\n \\n \\n \\n \\n', '\\n \\n , , \\n', '\\n \\n \\n \\n \\n', '\\n \\n , \\n \\n', '\\n , \\n \\n \\n', '\\n , \\n \\n \\n', '\\n \\n \\n \\n \\n', '\\n \\n \\n \\n \\n', ', , \\n \\n \\n']\n",
      "['\\n \\n \\n \\n \\n', '\\n \\n \\n \\n \\n', '\\n \\n , \\n \\n', '\\n \\n \\n , \\n', '\\n \\n \\n , \\n', '\\n , \\n , \\n', '\\n \\n \\n \\n ,', '\\n \\n \\n \\n \\n', ', , , \\n \\n', '\\n \\n \\n \\n ,', ', \\n \\n \\n \\n', '\\n \\n , \\n ,', '\\n \\n , \\n \\n', '\\n \\n \\n \\n \\n', ', \\n \\n \\n \\n', ', \\n \\n \\n \\n']\n"
     ]
    },
    {
     "name": "stderr",
     "output_type": "stream",
     "text": [
      "\r",
      "  8%|█████████▌                                                                                                              | 240/2999 [1:19:36<15:43:24, 20.52s/it]"
     ]
    },
    {
     "name": "stdout",
     "output_type": "stream",
     "text": [
      "['\\n \\n \\n \\n \\n', 'sem , , \\n \\n', '\\n \\n \\n \\n ,', '\\n \\n \\n \\n \\n', '\\n \\n \\n , \\n', '\\n \\n \\n , \\n', '\\n \\n \\n \\n \\n', '\\n , \\n \\n \\n', '\\n \\n , \\n \\n', '\\n \\n \\n \\n \\n', '\\n , , \\n \\n', '\\n \\n , \\n \\n', ' mont , , , \\n', 'Qual , , , \\n', ', \\n \\n \\n \\n', '\\n \\n , \\n \\n']\n",
      "['\\n \\n , \\n \\n', '\\n \\n \\n , \\n', '\\n \\n \\n , \\n', ', , \\n \\n \\n', '\\n , \\n \\n \\n', '\\n \\n , , \\n', '\\n \\n \\n , ,', ', , \\n \\n \\n', '\\n \\n \\n , \\n', '\\n \\n \\n , \\n', ', , \\n \\n \\n', '\\n \\n \\n \\n \\n', ', , \\n \\n \\n', '\\n \\n \\n \\n \\n', ', \\n \\n \\n \\n', '\\n \\n \\n \\n ,']\n"
     ]
    },
    {
     "name": "stderr",
     "output_type": "stream",
     "text": [
      "\r",
      "  8%|█████████▋                                                                                                              | 241/2999 [1:19:58<15:53:27, 20.74s/it]"
     ]
    },
    {
     "name": "stdout",
     "output_type": "stream",
     "text": [
      "67.95685577392578 0.515625\n",
      "['\\n \\n \\n \\n \\n', '\\n \\n \\n \\n \\n', ', \\n \\n GoldMagikarp ,', '\\n \\n \\n \\n \\n', ' silence , , , \\n', '\\n \\n , \\n \\n', ' intensive , , , \\n', '\\n \\n \\n \\n \\n', '\\n \\n , \\n \\n', '\\n \\n \\n , \\n', '\\n \\n \\n \\n \\n', '\\n \\n \\n \\n ,', ' Manufact , , , ,', '\\n \\n \\n \\n \\n', '\\n \\n \\n \\n \\n', '\\n \\n , \\n \\n']\n",
      "['\\n \\n \\n \\n \\n', '\\n \\n \\n \\n \\n', '\\n \\n \\n \\n \\n', '\\n \\n \\n \\n \\n', '\\n \\n \\n , \\n', '\\n \\n , \\n \\n', '\\n \\n \\n , \\n', '\\n \\n \\n \\n \\n', '\\n \\n \\n \\n \\n', '\\n \\n \\n \\n \\n', '\\n \\n , \\n \\n', '\\n , \\n \\n \\n', '\\n \\n , \\n \\n', '\\n \\n \\n , \\n', ', \\n \\n \\n \\n', '\\n \\n \\n \\n \\n']\n"
     ]
    },
    {
     "name": "stderr",
     "output_type": "stream",
     "text": [
      "\r",
      "  8%|█████████▋                                                                                                              | 242/2999 [1:20:18<15:42:39, 20.52s/it]"
     ]
    },
    {
     "name": "stdout",
     "output_type": "stream",
     "text": [
      "['\\n \\n , \\n \\n', '\\n \\n \\n , \\n', '\\n \\n \\n , \\n', '\\n \\n , \\n \\n', '\\n \\n \\n \\n \\n', '\\n , \\n \\n \\n', '\\n \\n \\n \\n \\n', ', \\n \\n \\n \\n', ' separation , , \\n \\n', '\\n , , \\n \\n', ', \\n \\n \\n \\n', '\\n \\n \\n \\n \\n', '\\n , , \\n \\n', '\\n \\n \\n , \\n', ', \\n \\n \\n \\n', '\\n \\n , \\n \\n']\n",
      "['\\n \\n \\n \\n \\n', '\\n \\n \\n \\n \\n', '\\n , \\n \\n \\n', '\\n \\n \\n \\n \\n', '\\n \\n \\n \\n \\n', '\\n \\n , \\n \\n', '\\n \\n \\n , \\n', '\\n \\n \\n , \\n', '\\n \\n \\n , \\n', '\\n \\n \\n \\n \\n', ', , \\n \\n \\n', '\\n , \\n \\n \\n', '\\n , , \\n \\n', '\\n \\n \\n \\n \\n', '\\n \\n \\n , \\n', '\\n , \\n \\n \\n']\n"
     ]
    },
    {
     "name": "stderr",
     "output_type": "stream",
     "text": [
      "\r",
      "  8%|█████████▋                                                                                                              | 243/2999 [1:20:37<15:32:30, 20.30s/it]"
     ]
    },
    {
     "name": "stdout",
     "output_type": "stream",
     "text": [
      "['xious , , , \\n', '\\n \\n \\n , \\n', '\\n \\n , \\n \\n', '\\n \\n \\n , \\n', '\\n \\n \\n \\n ,', '\\n \\n , \\n \\n', '\\n \\n , \\n \\n', ', \\n \\n \\n \\n', '\\n \\n \\n \\n \\n', '\\n \\n \\n , \\n', '\\n \\n \\n \\n \\n', ', , \\n \\n \\n', '\\n , \\n \\n \\n', ', , \\n \\n \\n', ', \\n \\n \\n \\n', '\\n , \\n \\n \\n']\n",
      "['\\n \\n \\n \\n \\n', '\\n \\n \\n \\n \\n', '\\n \\n , \\n \\n', '\\n \\n \\n \\n ,', '\\n \\n \\n \\n \\n', '\\n \\n \\n \\n \\n', '\\n \\n \\n \\n \\n', ', \\n \\n \\n \\n', '\\n \\n \\n \\n \\n', '\\n \\n \\n \\n \\n', '\\n \\n \\n \\n \\n', '\\n \\n \\n \\n \\n', '\\n \\n , \\n \\n', '\\n \\n \\n \\n \\n', '\\n \\n \\n \\n ,', '\\n \\n , \\n \\n']\n"
     ]
    },
    {
     "name": "stderr",
     "output_type": "stream",
     "text": [
      "\r",
      "  8%|█████████▊                                                                                                              | 244/2999 [1:20:59<15:49:18, 20.67s/it]"
     ]
    },
    {
     "name": "stdout",
     "output_type": "stream",
     "text": [
      "[' rallied , , , \\n', ', \\n \\n \\n \\n', '\\n \\n , \\n \\n', '\\n , \\n \\n \\n', '\\n \\n \\n \\n \\n', '\\n , \\n \\n \\n', '\\n \\n \\n \\n ,', ', \\n \\n \\n \\n', ', \\n \\n \\n \\n', '\\n , , \\n \\n', ', \\n \\n \\n \\n', '\\n \\n , , \\n', '\\n \\n , \\n \\n', '\\n \\n \\n \\n \\n', ', \\n \\n \\n \\n', '\\n \\n \\n \\n \\n']\n",
      "['\\n \\n \\n , \\n', '\\n \\n \\n , \\n', '\\n \\n \\n \\n ,', '\\n \\n \\n \\n \\n', '\\n \\n \\n \\n \\n', '\\n , \\n , \\n', '\\n \\n \\n \\n \\n', '\\n , \\n \\n \\n', '\\n \\n , \\n \\n', '\\n \\n \\n \\n \\n', '\\n \\n \\n , \\n', '\\n \\n , \\n \\n', '\\n \\n , \\n \\n', '\\n \\n \\n \\n \\n', '\\n \\n , \\n \\n', '\\n \\n \\n \\n \\n']\n"
     ]
    },
    {
     "name": "stderr",
     "output_type": "stream",
     "text": [
      "\r",
      "  8%|█████████▊                                                                                                              | 245/2999 [1:21:20<15:53:54, 20.78s/it]"
     ]
    },
    {
     "name": "stdout",
     "output_type": "stream",
     "text": [
      "['\\n \\n , \\n \\n', '\\n \\n \\n , \\n', '\\n \\n \\n \\n \\n', ', \\n \\n \\n \\n', '418 , \\n \\n \\n', ', \\n \\n \\n \\n', '\\n \\n \\n , \\n', ', \\n \\n \\n \\n', ' yield , , , \\n', '\\n \\n \\n \\n \\n', ', , \\n \\n \\n', '\\n \\n , \\n \\n', ', , \\n \\n \\n', ', \\n \\n \\n \\n', '\\n \\n \\n \\n \\n', ' cider , , , \\n']\n",
      "['\\n \\n \\n , \\n', '\\n \\n \\n \\n \\n', '\\n \\n , \\n \\n', '\\n , , \\n \\n', '\\n \\n \\n , \\n', '\\n , \\n \\n ,', '\\n \\n \\n , ,', ', \\n \\n \\n ,', '\\n \\n \\n \\n ,', '\\n \\n \\n \\n \\n', '\\n \\n \\n \\n \\n', '\\n \\n , \\n \\n', '\\n \\n , \\n \\n', '\\n \\n \\n \\n \\n', '\\n \\n \\n , \\n', '\\n \\n \\n \\n ,']\n"
     ]
    },
    {
     "name": "stderr",
     "output_type": "stream",
     "text": [
      "\r",
      "  8%|█████████▊                                                                                                              | 246/2999 [1:21:40<15:40:25, 20.50s/it]"
     ]
    },
    {
     "name": "stdout",
     "output_type": "stream",
     "text": [
      "['\\n \\n \\n \\n \\n', ' portfolios , , \\n \\n', '\\n \\n \\n \\n \\n', '\\n \\n , \\n ,', '\\n \\n , \\n \\n', ', \\n \\n \\n \\n', '\\n , \\n , \\n', '\\n , \\n \\n ,', '\\n \\n \\n \\n ,', ', \\n \\n \\n \\n', '\\n \\n , \\n \\n', '\\n \\n , \\n \\n', '\\n , \\n \\n \\n', ' sensibilities , , \\n \\n', ', \\n \\n \\n \\n', ' guarantees , , , \\n']\n",
      "['\\n \\n \\n \\n ,', '\\n \\n \\n \\n \\n', '\\n \\n \\n \\n \\n', '\\n \\n , \\n \\n', '\\n \\n \\n \\n \\n', '\\n , \\n \\n ,', '\\n \\n \\n \\n \\n', ', \\n \\n \\n \\n', '\\n \\n \\n \\n \\n', '\\n \\n \\n \\n \\n', ', , \\n \\n \\n', '\\n \\n , \\n \\n', '\\n \\n , \\n \\n', '\\n \\n , \\n \\n', ', \\n \\n \\n \\n', '\\n \\n \\n \\n \\n']\n"
     ]
    },
    {
     "name": "stderr",
     "output_type": "stream",
     "text": [
      "\r",
      "  8%|█████████▉                                                                                                              | 247/2999 [1:22:00<15:29:17, 20.26s/it]"
     ]
    },
    {
     "name": "stdout",
     "output_type": "stream",
     "text": [
      "['\\n \\n \\n , \\n', '\\n \\n \\n , \\n', '\\n \\n , \\n \\n', '\\n \\n , \\n \\n', ' subcontract , , , \\n', ', , \\n \\n \\n', '\\n \\n , \\n \\n', '\\n \\n \\n \\n \\n', '\\n \\n \\n \\n \\n', '\\n \\n \\n , \\n', ' conson , , , \\n', '\\n \\n , \\n \\n', '\\n , \\n \\n \\n', '\\n \\n , \\n \\n', '\\n \\n \\n \\n \\n', '\\n \\n \\n \\n \\n']\n",
      "[', \\n \\n \\n \\n', '\\n \\n \\n \\n \\n', '\\n \\n \\n \\n \\n', '\\n , \\n \\n \\n', '\\n \\n \\n \\n \\n', '\\n \\n , \\n \\n', '\\n \\n \\n , \\n', '\\n \\n \\n \\n \\n', '\\n \\n \\n \\n \\n', '\\n \\n \\n \\n \\n', '\\n , \\n , ,', '\\n \\n , \\n \\n', '\\n \\n , \\n \\n', '\\n \\n \\n , \\n', '\\n \\n \\n \\n \\n', ', , \\n \\n GoldMagikarp']\n"
     ]
    },
    {
     "name": "stderr",
     "output_type": "stream",
     "text": [
      "\r",
      "  8%|█████████▉                                                                                                              | 248/2999 [1:22:21<15:49:53, 20.72s/it]"
     ]
    },
    {
     "name": "stdout",
     "output_type": "stream",
     "text": [
      "['\\n \\n \\n , \\n', '\\n \\n , \\n \\n', '\\n \\n \\n \\n \\n', 'herical , , \\n \\n', '\\n \\n \\n \\n \\n', ' ceilings , , \\n \\n', '\\n \\n , \\n \\n', '\\n \\n , \\n \\n', '\\n \\n \\n , \\n', '\\n \\n \\n \\n \\n', '\\n \\n \\n \\n \\n', ' these , , \\n \\n', '\\n \\n , \\n \\n', '\\n \\n \\n \\n ,', '\\n \\n \\n \\n \\n', ' optimizations , , \\n \\n']\n",
      "['\\n \\n \\n , \\n', '\\n \\n \\n , \\n', '\\n \\n , \\n \\n', '\\n \\n \\n \\n \\n', '\\n \\n \\n \\n \\n', '\\n \\n \\n \\n \\n', '\\n \\n , \\n \\n', '\\n \\n \\n \\n \\n', '\\n \\n , \\n \\n', '\\n \\n \\n \\n ,', ', \\n GoldMagikarp , ,', '\\n \\n \\n , \\n', '\\n \\n \\n \\n \\n', '\\n \\n \\n \\n ,', ', \\n \\n GoldMagikarp ,', '\\n \\n \\n \\n \\n']\n"
     ]
    },
    {
     "name": "stderr",
     "output_type": "stream",
     "text": [
      "\r",
      "  8%|█████████▉                                                                                                              | 249/2999 [1:22:41<15:40:29, 20.52s/it]"
     ]
    },
    {
     "name": "stdout",
     "output_type": "stream",
     "text": [
      "['\\n \\n \\n \\n \\n', '\\n \\n \\n , \\n', '\\n \\n \\n \\n \\n', '\\n , \\n \\n \\n', '\\n \\n \\n \\n ,', '\\n \\n , \\n \\n', '\\n \\n , \\n \\n', ' sticking , , , \\n', '\\n , \\n \\n \\n', '\\n \\n \\n \\n \\n', '\\n \\n \\n \\n \\n', '\\n , \\n \\n \\n', ', , \\n \\n \\n', '\\n \\n \\n \\n \\n', '\\n \\n \\n \\n \\n', '\\n \\n \\n , \\n']\n",
      "['\\n \\n \\n \\n \\n', '\\n \\n \\n \\n \\n', '\\n \\n \\n , \\n', '\\n \\n \\n , \\n', '\\n \\n \\n \\n \\n', '\\n \\n \\n , \\n', '\\n \\n , \\n \\n', ', \\n \\n \\n \\n', '\\n \\n \\n \\n \\n', '\\n \\n \\n \\n \\n', '\\n \\n \\n \\n ,', '\\n , \\n \\n \\n', '\\n \\n , \\n \\n', '\\n \\n \\n \\n ,', '\\n \\n \\n , \\n', '\\n \\n \\n \\n \\n']\n"
     ]
    },
    {
     "name": "stderr",
     "output_type": "stream",
     "text": [
      "\r",
      "  8%|██████████                                                                                                              | 250/2999 [1:23:01<15:31:01, 20.32s/it]"
     ]
    },
    {
     "name": "stdout",
     "output_type": "stream",
     "text": [
      "['\\n \\n \\n \\n \\n', '\\n \\n \\n \\n ,', '\\n \\n \\n , \\n', '\\n , \\n \\n \\n', '\\n \\n , \\n \\n', '\\n \\n \\n , \\n', '\\n \\n , \\n \\n', '\\n \\n , \\n \\n', '\\n \\n \\n \\n \\n', '\\n \\n \\n \\n \\n', '\\n \\n , \\n \\n', '\\n \\n , \\n \\n', '\\n \\n \\n \\n ,', '\\n \\n \\n \\n \\n', '\\n \\n \\n \\n \\n', '\\n \\n \\n \\n \\n']\n",
      "[', \\n \\n \\n \\n', '\\n \\n \\n , \\n', '\\n \\n \\n \\n ,', '\\n \\n \\n , \\n', ', , \\n \\n \\n', '\\n , \\n \\n \\n', '\\n \\n , , \\n', '\\n \\n , \\n \\n', '\\n \\n , \\n \\n', '\\n \\n \\n \\n \\n', ', \\n \\n \\n \\n', '\\n \\n , \\n \\n', '\\n \\n , \\n \\n', '\\n \\n \\n \\n \\n', '\\n \\n \\n \\n \\n', '\\n \\n \\n \\n \\n']\n"
     ]
    },
    {
     "name": "stderr",
     "output_type": "stream",
     "text": [
      "\r",
      "  8%|██████████                                                                                                              | 251/2999 [1:23:21<15:26:01, 20.22s/it]"
     ]
    },
    {
     "name": "stdout",
     "output_type": "stream",
     "text": [
      "34.227970123291016 0.53125\n",
      "['\\n \\n \\n , \\n', 'acts , , \\n \\n', '\\n \\n \\n \\n \\n', '\\n \\n \\n \\n ,', ' bodies , , \\n \\n', '\\n \\n , \\n \\n', '\\n \\n \\n \\n \\n', ' treat , , \\n \\n', '\\n \\n \\n \\n \\n', '\\n \\n \\n , \\n', '\\n \\n \\n , \\n', ' soften , , , \\n', '\\n \\n , \\n \\n', '\\n \\n \\n \\n \\n', '\\n \\n \\n \\n ,', '\\n \\n \\n , \\n']\n",
      "['\\n \\n \\n \\n ,', '\\n \\n , \\n \\n', '\\n \\n \\n \\n \\n', ', \\n \\n , \\n', '\\n \\n \\n \\n \\n', '\\n , \\n \\n \\n', '\\n \\n \\n , \\n', '\\n \\n \\n \\n \\n', '\\n \\n \\n \\n \\n', '\\n , \\n \\n \\n', '\\n \\n \\n \\n \\n', '\\n \\n \\n \\n \\n', '\\n \\n , \\n \\n', '\\n \\n , , \\n', ', \\n \\n \\n \\n', '\\n \\n \\n \\n ,']\n"
     ]
    },
    {
     "name": "stderr",
     "output_type": "stream",
     "text": [
      "\r",
      "  8%|██████████                                                                                                              | 252/2999 [1:23:43<15:50:29, 20.76s/it]"
     ]
    },
    {
     "name": "stdout",
     "output_type": "stream",
     "text": [
      "['\\n \\n \\n , \\n', ' DF , , , \\n', '\\n \\n \\n \\n \\n', '\\n \\n \\n , \\n', '\\n \\n \\n \\n ,', '\\n , \\n \\n \\n', '\\n \\n \\n \\n ,', '\\n \\n , \\n \\n', 'INGTON , , \\n \\n', '\\n \\n \\n \\n ,', ' propriet , , , \\n', '\\n , \\n \\n \\n', '\\n \\n \\n \\n ,', '\\n \\n \\n \\n \\n', '\\n \\n \\n , \\n', '\\n \\n \\n \\n \\n']\n",
      "['\\n \\n \\n , \\n', '\\n \\n \\n \\n \\n', '\\n \\n \\n \\n \\n', '\\n \\n , \\n \\n', '\\n \\n \\n , \\n', '\\n , \\n , \\n', '\\n \\n , \\n \\n', '\\n \\n , \\n \\n', '\\n \\n \\n \\n \\n', '\\n \\n \\n , \\n', '\\n \\n \\n , \\n', '\\n \\n \\n \\n \\n', '\\n \\n \\n \\n ,', '\\n \\n \\n \\n \\n', ', \\n \\n \\n \\n', '\\n \\n \\n \\n \\n']\n"
     ]
    },
    {
     "name": "stderr",
     "output_type": "stream",
     "text": [
      "\r",
      "  8%|██████████                                                                                                              | 253/2999 [1:24:04<15:48:39, 20.73s/it]"
     ]
    },
    {
     "name": "stdout",
     "output_type": "stream",
     "text": [
      "['\\n \\n \\n \\n \\n', '\\n , \\n \\n ,', '\\n \\n \\n \\n \\n', '\\n , \\n \\n ,', '\\n \\n \\n , \\n', '\\n \\n , \\n \\n', ', \\n \\n \\n \\n', '\\n \\n \\n \\n \\n', '\\n \\n \\n , \\n', '\\n \\n \\n \\n \\n', '\\n , \\n \\n \\n', '\\n \\n , \\n \\n', '\\n \\n , \\n \\n', '\\n \\n \\n \\n \\n', '\\n , \\n \\n ,', '\\n \\n , \\n \\n']\n",
      "['\\n \\n \\n , \\n', '\\n \\n , \\n \\n', '\\n \\n \\n \\n ,', '\\n \\n \\n \\n \\n', '\\n \\n \\n \\n \\n', '\\n \\n , \\n \\n', '\\n \\n \\n \\n \\n', ', \\n \\n \\n \\n', '\\n \\n , \\n \\n', '\\n \\n \\n , \\n', '\\n \\n , \\n ,', '\\n \\n \\n \\n \\n', '\\n \\n \\n \\n \\n', '\\n \\n \\n \\n \\n', '\\n \\n \\n , \\n', '\\n \\n \\n \\n \\n']\n"
     ]
    },
    {
     "name": "stderr",
     "output_type": "stream",
     "text": [
      "\r",
      "  8%|██████████▏                                                                                                             | 254/2999 [1:24:24<15:35:56, 20.46s/it]"
     ]
    },
    {
     "name": "stdout",
     "output_type": "stream",
     "text": [
      "['\\n \\n \\n , \\n', '\\n \\n \\n \\n \\n', '\\n \\n \\n , \\n', '\\n \\n , \\n \\n', '\\n \\n \\n , \\n', '\\n , \\n \\n \\n', '\\n , \\n \\n \\n', '\\n \\n , \\n \\n', '\\n \\n \\n \\n ,', 'tick , , \\n \\n', '\\n \\n \\n \\n ,', '\\n , \\n \\n \\n', 'idian , \\n \\n \\n', ' Norse , , , \\n', '\\n \\n \\n , \\n', '\\n \\n \\n \\n \\n']\n",
      "['\\n \\n \\n \\n \\n', '\\n \\n \\n \\n ,', '\\n \\n \\n \\n \\n', '\\n , \\n \\n ,', '\\n \\n \\n \\n \\n', ', \\n \\n , \\n', '\\n \\n \\n \\n \\n', '\\n \\n \\n \\n ,', '\\n \\n , \\n \\n', '\\n \\n \\n , \\n', '\\n \\n \\n \\n \\n', '\\n \\n , \\n ,', '\\n , \\n \\n ,', '\\n \\n \\n \\n ,', '\\n \\n \\n \\n \\n', '\\n , \\n \\n ,']\n"
     ]
    },
    {
     "name": "stderr",
     "output_type": "stream",
     "text": [
      "\r",
      "  9%|██████████▏                                                                                                             | 255/2999 [1:24:44<15:25:49, 20.24s/it]"
     ]
    },
    {
     "name": "stdout",
     "output_type": "stream",
     "text": [
      "['\\n \\n \\n \\n \\n', '\\n \\n \\n , \\n', ' dodged , , \\n \\n', ', \\n \\n \\n \\n', '\\n \\n \\n \\n \\n', '\\n , \\n \\n ,', '\\n \\n , \\n \\n', '\\n , \\n \\n ,', '\\n \\n \\n , \\n', ', \\n \\n \\n \\n', '\\n \\n \\n \\n \\n', '\\n \\n \\n \\n \\n', '\\n \\n , \\n \\n', '\\n \\n , \\n \\n', '\\n \\n \\n \\n \\n', '\\n \\n , \\n \\n']\n",
      "['\\n \\n \\n \\n ,', '\\n \\n \\n , \\n', '\\n \\n \\n \\n \\n', ', \\n \\n \\n \\n', '\\n \\n \\n , \\n', '\\n \\n , \\n \\n', '\\n \\n \\n \\n \\n', '\\n , \\n \\n \\n', '\\n \\n , \\n \\n', '\\n \\n \\n , \\n', ', \\n \\n \\n \\n', '\\n \\n , \\n \\n', '\\n \\n , \\n \\n', '\\n \\n \\n \\n \\n', '\\n \\n \\n \\n \\n', '\\n \\n , \\n \\n']\n"
     ]
    },
    {
     "name": "stderr",
     "output_type": "stream",
     "text": [
      "\r",
      "  9%|██████████▏                                                                                                             | 256/2999 [1:25:03<15:19:24, 20.11s/it]"
     ]
    },
    {
     "name": "stdout",
     "output_type": "stream",
     "text": [
      "[' commuter , , , \\n', '\\n \\n \\n \\n ,', ' Admiral , , , \\n', '\\n \\n , \\n \\n', 'UMP , , \\n \\n', '\\n \\n , \\n \\n', '\\n \\n \\n \\n \\n', ' moon , , , \\n', '\\n \\n \\n \\n \\n', '\\n \\n \\n \\n \\n', '\\n \\n , \\n \\n', '\\n \\n , \\n \\n', '\\n , \\n \\n \\n', ', \\n GoldMagikarp , ,', '\\n \\n \\n \\n ,', '\\n \\n \\n , \\n']\n",
      "['\\n \\n \\n \\n \\n', '\\n \\n , \\n \\n', '\\n \\n \\n , \\n', '\\n \\n \\n \\n \\n', '\\n \\n \\n \\n \\n', '\\n \\n , \\n \\n', '\\n \\n \\n \\n \\n', '\\n , \\n \\n ,', '\\n \\n \\n \\n \\n', '\\n \\n \\n \\n \\n', '\\n \\n \\n \\n ,', '\\n \\n \\n \\n ,', '\\n , \\n \\n \\n', '\\n \\n \\n \\n \\n', '\\n \\n \\n \\n ,', '\\n , \\n \\n \\n']\n"
     ]
    },
    {
     "name": "stderr",
     "output_type": "stream",
     "text": [
      "\r",
      "  9%|██████████▎                                                                                                             | 257/2999 [1:25:23<15:15:32, 20.03s/it]"
     ]
    },
    {
     "name": "stdout",
     "output_type": "stream",
     "text": [
      "['\\n \\n \\n , \\n', '\\n \\n \\n \\n \\n', '\\n \\n \\n \\n \\n', '\\n , \\n \\n ,', '\\n \\n \\n \\n \\n', '\\n , \\n \\n \\n', '\\n \\n \\n \\n \\n', '\\n \\n \\n \\n \\n', 'ische , , \\n \\n', '\\n \\n \\n \\n \\n', '\\n \\n , \\n \\n', 'Bridge , , , \\n', '\\n \\n , \\n \\n', '\\n \\n \\n \\n \\n', '\\n \\n \\n \\n \\n', '\\n \\n \\n \\n \\n']\n",
      "[', \\n \\n \\n \\n', '\\n \\n \\n \\n \\n', '\\n \\n , \\n \\n', '\\n \\n , \\n \\n', '\\n \\n \\n , \\n', '\\n \\n , \\n \\n', '\\n \\n , \\n \\n', '\\n \\n \\n \\n \\n', '\\n \\n \\n \\n \\n', '\\n \\n \\n , \\n', '\\n \\n \\n , \\n', '\\n , \\n \\n \\n', '\\n , \\n \\n \\n', '\\n \\n \\n , \\n', '\\n \\n \\n \\n \\n', '\\n \\n \\n \\n \\n']\n"
     ]
    },
    {
     "name": "stderr",
     "output_type": "stream",
     "text": [
      "\r",
      "  9%|██████████▎                                                                                                             | 258/2999 [1:25:43<15:13:19, 19.99s/it]"
     ]
    },
    {
     "name": "stdout",
     "output_type": "stream",
     "text": [
      "['\\n \\n \\n \\n \\n', '\\n \\n \\n , \\n', '\\n \\n \\n \\n \\n', ', \\n \\n , \\n', '\\n \\n \\n \\n \\n', '\\n \\n , \\n \\n', '\\n \\n \\n \\n \\n', ', \\n \\n \\n \\n', '\\n \\n \\n \\n ,', '\\n \\n \\n \\n \\n', '\\n \\n \\n \\n \\n', '\\n \\n \\n \\n \\n', '\\n \\n , \\n \\n', '\\n \\n , \\n \\n', '\\n \\n \\n , \\n', ', \\n \\n \\n \\n']\n",
      "['\\n \\n \\n , \\n', '\\n \\n \\n \\n \\n', '\\n \\n , \\n \\n', '\\n \\n , \\n \\n', '\\n \\n \\n , \\n', '\\n \\n \\n \\n ,', '\\n \\n , \\n \\n', '\\n \\n \\n , \\n', '\\n \\n \\n , \\n', '\\n \\n \\n \\n \\n', '\\n \\n \\n \\n \\n', '\\n \\n , \\n \\n', '\\n \\n , \\n \\n', '\\n \\n \\n , \\n', '\\n \\n , \\n \\n', '\\n \\n , \\n \\n']\n"
     ]
    },
    {
     "name": "stderr",
     "output_type": "stream",
     "text": [
      "\r",
      "  9%|██████████▎                                                                                                             | 259/2999 [1:26:03<15:12:45, 19.99s/it]"
     ]
    },
    {
     "name": "stdout",
     "output_type": "stream",
     "text": [
      "['\\n \\n , \\n \\n', '\\n \\n \\n \\n \\n', ' widow , , \\n \\n', '\\n , \\n \\n ,', '\\n \\n \\n , \\n', '\\n , \\n \\n \\n', '\\n \\n \\n , \\n', ' Lect , , , \\n', '\\n \\n \\n \\n \\n', ' derail , , , \\n', '\\n \\n \\n \\n \\n', '\\n \\n \\n \\n \\n', '\\n \\n , \\n \\n', '\\n \\n \\n , \\n', '\\n \\n \\n \\n \\n', '\\n , \\n \\n ,']\n",
      "['\\n \\n \\n , \\n', '\\n \\n \\n \\n \\n', '\\n \\n \\n \\n \\n', ', \\n \\n , \\n', '\\n \\n \\n \\n ,', '\\n , \\n , \\n', '\\n \\n \\n , \\n', ', \\n \\n \\n \\n', '\\n , \\n \\n \\n', '\\n \\n \\n \\n \\n', '\\n , \\n \\n \\n', '\\n \\n \\n \\n \\n', '\\n \\n \\n , \\n', '\\n \\n , \\n \\n', '\\n \\n \\n , \\n', '\\n , \\n \\n \\n']\n"
     ]
    },
    {
     "name": "stderr",
     "output_type": "stream",
     "text": [
      "\r",
      "  9%|██████████▍                                                                                                             | 260/2999 [1:26:23<15:10:12, 19.94s/it]"
     ]
    },
    {
     "name": "stdout",
     "output_type": "stream",
     "text": [
      "['\\n \\n \\n , \\n', '\\n \\n , \\n \\n', '\\n \\n \\n \\n \\n', '\\n , \\n \\n \\n', '\\n \\n \\n , \\n', '\\n \\n , \\n ,', '\\n \\n , \\n \\n', 'athlon , , , \\n', '\\n \\n , \\n \\n', 'pes , , , \\n', '\\n \\n , \\n \\n', '\\n \\n \\n \\n \\n', '\\n \\n \\n \\n \\n', '\\n \\n \\n \\n \\n', '\\n \\n \\n \\n \\n', '\\n \\n , \\n \\n']\n",
      "['\\n \\n \\n , \\n', '\\n \\n \\n \\n \\n', '\\n \\n \\n \\n \\n', '\\n , \\n \\n \\n', '\\n \\n \\n , \\n', '\\n \\n , \\n ,', '\\n \\n \\n \\n ,', '\\n \\n , \\n ,', '\\n \\n \\n \\n \\n', '\\n \\n \\n \\n ,', '\\n \\n , \\n \\n', '\\n \\n , \\n \\n', '\\n \\n \\n , \\n', '\\n \\n , \\n \\n', '\\n \\n \\n , \\n', '\\n \\n \\n \\n ,']\n"
     ]
    },
    {
     "name": "stderr",
     "output_type": "stream",
     "text": [
      "\r",
      "  9%|██████████▍                                                                                                             | 261/2999 [1:26:43<15:07:46, 19.89s/it]"
     ]
    },
    {
     "name": "stdout",
     "output_type": "stream",
     "text": [
      "51.182464599609375 0.51171875\n",
      "['\\n \\n \\n \\n \\n', '\\n \\n \\n \\n \\n', '\\n \\n \\n \\n \\n', '\\n \\n \\n \\n \\n', '\\n \\n \\n \\n \\n', '\\n \\n , \\n \\n', '\\n \\n \\n , \\n', '\\n \\n , \\n \\n', '\\n , \\n , \\n', '\\n \\n , \\n \\n', '\\n \\n \\n , \\n', '\\n , \\n \\n \\n', '\\n \\n , \\n \\n', '\\n \\n , \\n \\n', '\\n \\n \\n \\n \\n', '\\n \\n \\n , \\n']\n",
      "['\\n \\n \\n \\n \\n', '\\n \\n \\n \\n \\n', '\\n \\n \\n \\n \\n', '\\n \\n \\n \\n ,', '\\n \\n \\n , \\n', '\\n \\n \\n , \\n', '\\n \\n , \\n \\n', '\\n , \\n \\n \\n', '\\n \\n \\n \\n \\n', '\\n \\n \\n , \\n', '\\n , \\n , ,', '\\n \\n , , \\n', '\\n \\n \\n \\n \\n', '\\n \\n \\n \\n \\n', ', \\n \\n \\n \\n', '\\n \\n \\n \\n \\n']\n"
     ]
    },
    {
     "name": "stderr",
     "output_type": "stream",
     "text": [
      "\r",
      "  9%|██████████▍                                                                                                             | 262/2999 [1:27:02<15:06:00, 19.86s/it]"
     ]
    },
    {
     "name": "stdout",
     "output_type": "stream",
     "text": [
      "['\\n \\n \\n \\n \\n', '\\n \\n , \\n \\n', '\\n \\n \\n , \\n', '\\n \\n \\n , \\n', '\\n \\n \\n , \\n', '\\n , \\n \\n \\n', '\\n \\n , \\n \\n', ', \\n \\n \\n \\n', '\\n \\n \\n \\n \\n', '\\n \\n \\n \\n ,', ', , \\n \\n \\n', '\\n \\n \\n , \\n', '\\n \\n \\n \\n \\n', ' Paige , , , \\n', '\\n \\n , \\n ,', '\\n , \\n \\n \\n']\n",
      "['\\n \\n \\n \\n ,', '\\n \\n \\n , \\n', '\\n \\n , \\n \\n', ', \\n \\n \\n \\n', '\\n \\n \\n \\n \\n', '\\n \\n , \\n \\n', '\\n \\n \\n \\n \\n', '\\n \\n , \\n \\n', '\\n \\n \\n \\n \\n', '\\n \\n \\n \\n \\n', ', , \\n \\n \\n', '\\n , \\n \\n \\n', ', , , \\n \\n', '\\n \\n \\n \\n ,', '\\n \\n \\n \\n \\n', '\\n \\n \\n , \\n']\n"
     ]
    },
    {
     "name": "stderr",
     "output_type": "stream",
     "text": [
      "\r",
      "  9%|██████████▌                                                                                                             | 263/2999 [1:27:22<15:04:16, 19.83s/it]"
     ]
    },
    {
     "name": "stdout",
     "output_type": "stream",
     "text": [
      "['\\n \\n \\n \\n \\n', 'Americ , , \\n \\n', '\\n \\n \\n \\n \\n', '\\n \\n \\n \\n \\n', '\\n \\n \\n , \\n', '\\n , \\n \\n ,', '\\n \\n , \\n \\n', '\\n \\n \\n , \\n', '\\n \\n \\n \\n \\n', '\\n \\n \\n \\n ,', '\\n \\n \\n \\n \\n', '\\n \\n \\n \\n \\n', '\\n \\n , \\n \\n', ' sun , , , \\n', '\\n \\n \\n \\n \\n', '\\n \\n , \\n \\n']\n",
      "['\\n \\n \\n \\n \\n', '\\n \\n \\n , \\n', '\\n \\n \\n \\n \\n', '\\n \\n \\n \\n \\n', '\\n \\n \\n \\n \\n', '\\n \\n , \\n \\n', '\\n \\n , \\n ,', '\\n , \\n \\n ,', '\\n \\n \\n , \\n', '\\n \\n , \\n \\n', '\\n \\n , \\n \\n', '\\n , , \\n \\n', '\\n \\n \\n \\n \\n', '\\n \\n \\n \\n \\n', '\\n \\n \\n \\n \\n', '\\n \\n , \\n \\n']\n"
     ]
    },
    {
     "name": "stderr",
     "output_type": "stream",
     "text": [
      "\r",
      "  9%|██████████▌                                                                                                             | 264/2999 [1:27:42<15:04:43, 19.85s/it]"
     ]
    },
    {
     "name": "stdout",
     "output_type": "stream",
     "text": [
      "['\\n \\n \\n , \\n', '\\n \\n \\n \\n ,', '\\n \\n \\n \\n \\n', '\\n \\n \\n \\n \\n', '\\n \\n \\n , \\n', '\\n \\n , \\n \\n', '\\n \\n \\n \\n \\n', '\\n \\n \\n \\n \\n', '\\n \\n \\n \\n \\n', '\\n \\n \\n \\n \\n', '\\n \\n , , \\n', '\\n , \\n \\n ,', '\\n \\n , \\n ,', '\\n \\n \\n \\n \\n', '\\n \\n \\n \\n \\n', '\\n \\n \\n \\n \\n']\n",
      "[', , \\n \\n \\n', '\\n \\n \\n \\n \\n', ', \\n \\n \\n \\n', '\\n \\n \\n \\n \\n', '\\n \\n \\n \\n \\n', '\\n \\n \\n , \\n', '\\n , \\n \\n \\n', '\\n \\n \\n \\n \\n', '\\n \\n , \\n \\n', '\\n \\n \\n , \\n', '\\n \\n , \\n \\n', '\\n , \\n \\n \\n', '\\n \\n , \\n \\n', '\\n \\n \\n , \\n', ', \\n \\n \\n \\n', '\\n \\n \\n \\n \\n']\n"
     ]
    },
    {
     "name": "stderr",
     "output_type": "stream",
     "text": [
      "\r",
      "  9%|██████████▌                                                                                                             | 265/2999 [1:28:02<15:05:30, 19.87s/it]"
     ]
    },
    {
     "name": "stdout",
     "output_type": "stream",
     "text": [
      "['\\n \\n \\n , \\n', '\\n \\n \\n \\n ,', '\\n \\n \\n \\n \\n', '\\n , \\n \\n \\n', '\\n \\n \\n \\n \\n', '\\n \\n \\n \\n \\n', '\\n \\n , \\n \\n', '\\n \\n \\n , \\n', '\\n \\n \\n \\n \\n', ' inherit , , \\n \\n', '\\n \\n \\n \\n \\n', '\\n \\n , \\n \\n', '\\n , \\n \\n \\n', '\\n \\n , \\n \\n', '\\n \\n \\n \\n \\n', '\\n \\n \\n , \\n']\n",
      "['\\n \\n \\n \\n \\n', '\\n \\n \\n , \\n', '\\n \\n \\n \\n \\n', '\\n \\n \\n , \\n', '\\n \\n , \\n \\n', '\\n , \\n \\n ,', '\\n \\n \\n \\n ,', '\\n , \\n \\n \\n', '\\n \\n \\n \\n \\n', '\\n \\n \\n \\n \\n', '\\n \\n \\n \\n ,', '\\n \\n , , \\n', '\\n , \\n , ,', '\\n \\n \\n \\n ,', '\\n \\n \\n \\n \\n', '\\n \\n \\n \\n \\n']\n"
     ]
    },
    {
     "name": "stderr",
     "output_type": "stream",
     "text": [
      "\r",
      "  9%|██████████▋                                                                                                             | 266/2999 [1:28:22<15:05:21, 19.88s/it]"
     ]
    },
    {
     "name": "stdout",
     "output_type": "stream",
     "text": [
      "['\\n \\n \\n \\n \\n', '\\n \\n \\n \\n \\n', '\\n \\n , \\n \\n', '\\n \\n , \\n \\n', '\\n \\n \\n \\n \\n', ' Investment , , , \\n', '\\n \\n , \\n \\n', '\\n \\n , \\n \\n', ', \\n \\n \\n \\n', '\\n \\n \\n \\n \\n', '\\n \\n , \\n \\n', '\\n \\n , \\n \\n', '\\n \\n , \\n \\n', '\\n \\n , \\n \\n', '\\n \\n \\n \\n ,', '\\n \\n \\n , \\n']\n",
      "['\\n \\n \\n \\n \\n', '\\n \\n \\n \\n \\n', '\\n \\n \\n \\n \\n', '\\n , \\n \\n \\n', '\\n \\n \\n \\n ,', '\\n \\n \\n \\n \\n', '\\n \\n \\n , \\n', '\\n \\n , \\n \\n', '\\n \\n \\n , \\n', '\\n \\n \\n \\n \\n', '\\n \\n , \\n \\n', '\\n \\n , \\n \\n', '\\n , \\n \\n \\n', '\\n \\n \\n , \\n', '\\n \\n \\n , \\n', '\\n \\n \\n \\n \\n']\n"
     ]
    },
    {
     "name": "stderr",
     "output_type": "stream",
     "text": [
      "\r",
      "  9%|██████████▋                                                                                                             | 267/2999 [1:28:42<15:03:48, 19.85s/it]"
     ]
    },
    {
     "name": "stdout",
     "output_type": "stream",
     "text": [
      "['\\n \\n \\n \\n ,', '\\n \\n \\n \\n \\n', '\\n \\n \\n \\n ,', '\\n \\n \\n \\n \\n', '\\n \\n \\n \\n \\n', '\\n \\n , \\n \\n', '\\n \\n , \\n \\n', '\\n \\n \\n \\n \\n', '\\n \\n \\n , \\n', '\\n \\n \\n \\n \\n', '\\n \\n \\n \\n \\n', '\\n \\n , \\n ,', '\\n \\n \\n \\n \\n', '\\n \\n \\n \\n \\n', '\\n \\n \\n \\n \\n', '\\n \\n \\n , \\n']\n",
      "['\\n \\n , , \\n', '\\n \\n \\n \\n ,', '\\n \\n \\n \\n \\n', '\\n \\n \\n \\n \\n', '\\n \\n \\n , \\n', '\\n \\n , \\n \\n', '\\n \\n \\n \\n \\n', '\\n , , \\n \\n', '\\n \\n , \\n \\n', '\\n \\n \\n \\n \\n', '\\n \\n \\n \\n \\n', '\\n , \\n \\n \\n', '\\n , \\n \\n \\n', '\\n \\n \\n \\n \\n', '\\n \\n \\n , \\n', ', , \\n \\n \\n']\n"
     ]
    },
    {
     "name": "stderr",
     "output_type": "stream",
     "text": [
      "\r",
      "  9%|██████████▋                                                                                                             | 268/2999 [1:29:02<15:04:05, 19.86s/it]"
     ]
    },
    {
     "name": "stdout",
     "output_type": "stream",
     "text": [
      "['\\n \\n , \\n \\n', '\\n \\n \\n \\n \\n', '\\n \\n \\n , \\n', '\\n \\n \\n \\n \\n', '\\n \\n \\n \\n \\n', '\\n \\n , \\n \\n', 'rab , , , \\n', '\\n \\n , \\n \\n', '\\n \\n \\n \\n ,', ', \\n \\n \\n \\n', '\\n , \\n \\n \\n', '\\n \\n , \\n \\n', '\\n \\n \\n , \\n', '\\n \\n \\n \\n \\n', '\\n \\n \\n , \\n', '\\n \\n , \\n \\n']\n",
      "['\\n \\n \\n , \\n', ', \\n \\n \\n \\n', '\\n \\n \\n \\n \\n', '\\n , \\n \\n \\n', '\\n \\n \\n \\n \\n', '\\n \\n , \\n \\n', '\\n \\n \\n \\n \\n', '\\n \\n , \\n \\n', '\\n \\n \\n \\n \\n', '\\n \\n \\n \\n \\n', ', \\n \\n \\n \\n', '\\n \\n , \\n \\n', '\\n \\n , \\n \\n', '\\n \\n \\n , \\n', '\\n \\n \\n , \\n', ', , \\n \\n \\n']\n"
     ]
    },
    {
     "name": "stderr",
     "output_type": "stream",
     "text": [
      "\r",
      "  9%|██████████▊                                                                                                             | 269/2999 [1:29:21<15:03:47, 19.86s/it]"
     ]
    },
    {
     "name": "stdout",
     "output_type": "stream",
     "text": [
      "['\\n \\n \\n \\n \\n', '\\n , \\n \\n \\n', '\\n \\n , \\n ,', '\\n , \\n \\n ,', '\\n \\n \\n \\n ,', '\\n , , \\n \\n', '\\n \\n , \\n \\n', '\\n \\n \\n \\n \\n', '\\n , \\n \\n ,', '\\n \\n \\n \\n \\n', '\\n \\n \\n \\n \\n', '\\n \\n , \\n ,', '\\n , \\n \\n \\n', '\\n \\n \\n \\n \\n', '\\n \\n \\n \\n \\n', ' « , , , \\n']\n",
      "['\\n \\n \\n , ,', ', \\n \\n \\n \\n', '\\n \\n \\n \\n \\n', '\\n \\n \\n , \\n', '\\n \\n \\n \\n \\n', '\\n \\n \\n \\n \\n', '\\n \\n , \\n \\n', '\\n \\n , \\n \\n', '\\n \\n , \\n \\n', '\\n \\n \\n \\n ,', ', \\n \\n \\n \\n', '\\n \\n \\n \\n \\n', '\\n \\n , , \\n', '\\n \\n \\n \\n \\n', '\\n \\n \\n \\n \\n', '\\n \\n , \\n \\n']\n"
     ]
    },
    {
     "name": "stderr",
     "output_type": "stream",
     "text": [
      "\r",
      "  9%|██████████▊                                                                                                             | 270/2999 [1:29:41<15:03:18, 19.86s/it]"
     ]
    },
    {
     "name": "stdout",
     "output_type": "stream",
     "text": [
      "['\\n \\n , \\n \\n', '\\n \\n \\n \\n \\n', '\\n \\n \\n , \\n', '\\n , \\n \\n \\n', '\\n \\n \\n , \\n', '\\n \\n , \\n \\n', '\\n \\n , \\n \\n', '\\n \\n \\n \\n \\n', '\\n \\n \\n , \\n', '\\n \\n \\n \\n \\n', '\\n \\n \\n , \\n', '\\n \\n , \\n \\n', '\\n \\n \\n \\n \\n', '\\n \\n \\n \\n ,', '\\n \\n , \\n \\n', '\\n \\n \\n \\n \\n']\n",
      "[', , \\n \\n \\n', '\\n \\n , \\n \\n', '\\n \\n \\n \\n \\n', '\\n \\n \\n \\n \\n', '\\n \\n \\n \\n ,', '\\n \\n \\n \\n ,', '\\n , \\n \\n \\n', '\\n \\n \\n \\n \\n', ', \\n \\n \\n \\n', '\\n \\n \\n \\n ,', '\\n \\n , \\n \\n', '\\n \\n \\n \\n \\n', '\\n \\n , \\n \\n', '\\n \\n \\n \\n \\n', '\\n \\n \\n , \\n', '\\n , \\n \\n \\n']\n"
     ]
    },
    {
     "name": "stderr",
     "output_type": "stream",
     "text": [
      "\r",
      "  9%|██████████▊                                                                                                             | 271/2999 [1:30:01<15:01:28, 19.83s/it]"
     ]
    },
    {
     "name": "stdout",
     "output_type": "stream",
     "text": [
      "40.79727554321289 0.515625\n",
      "[', \\n GoldMagikarp , ,', '\\n \\n \\n \\n \\n', 'opathic , , , \\n', '\\n \\n \\n \\n \\n', 'anoia , , \\n \\n', '\\n \\n , \\n \\n', '\\n \\n , \\n \\n', '\\n \\n , \\n \\n', '\\n \\n \\n \\n \\n', '\\n \\n , , \\n', '\\n \\n \\n \\n \\n', '\\n , \\n \\n ,', '\\n \\n , \\n \\n', '\\n \\n \\n , \\n', ' Dire , , , \\n', '\\n \\n \\n \\n \\n']\n",
      "['\\n \\n \\n , \\n', '\\n \\n , \\n \\n', '\\n \\n \\n \\n ,', '\\n , \\n \\n \\n', '\\n \\n \\n , \\n', '\\n \\n , \\n \\n', '\\n \\n , \\n \\n', '\\n \\n \\n , \\n', '\\n \\n \\n \\n ,', '\\n \\n \\n , \\n', '\\n \\n \\n \\n \\n', '\\n \\n , \\n ,', '\\n \\n , \\n \\n', '\\n \\n \\n , \\n', ', \\n \\n \\n \\n', '\\n , \\n \\n ,']\n"
     ]
    },
    {
     "name": "stderr",
     "output_type": "stream",
     "text": [
      "\r",
      "  9%|██████████▉                                                                                                             | 272/2999 [1:30:21<15:01:12, 19.83s/it]"
     ]
    },
    {
     "name": "stdout",
     "output_type": "stream",
     "text": [
      "['\\n \\n \\n \\n \\n', '\\n \\n \\n \\n \\n', 'actually , , , \\n', ' fear , , , \\n', '\\n \\n \\n \\n \\n', '\\n \\n , \\n \\n', 'pun , , , \\n', '\\n \\n \\n \\n \\n', '\\n \\n , \\n \\n', '\\n \\n \\n \\n \\n', '\\n \\n \\n \\n \\n', '\\n \\n \\n , \\n', '\\n \\n , \\n \\n', '\\n \\n \\n , \\n', ', \\n \\n \\n \\n', '\\n \\n , \\n \\n']\n",
      "['\\n \\n \\n \\n \\n', '\\n \\n \\n , \\n', '\\n \\n \\n \\n \\n', '\\n \\n , \\n \\n', '\\n \\n \\n \\n \\n', '\\n \\n , \\n \\n', '\\n \\n , \\n \\n', '\\n , \\n \\n \\n', '\\n \\n \\n \\n \\n', '\\n , \\n \\n ,', '\\n \\n \\n \\n \\n', '\\n \\n \\n , \\n', '\\n , \\n \\n \\n', '\\n \\n \\n \\n ,', '\\n \\n \\n \\n ,', '\\n \\n , \\n \\n']\n"
     ]
    },
    {
     "name": "stderr",
     "output_type": "stream",
     "text": [
      "\r",
      "  9%|██████████▉                                                                                                             | 273/2999 [1:30:41<15:00:59, 19.83s/it]"
     ]
    },
    {
     "name": "stdout",
     "output_type": "stream",
     "text": [
      "[', \\n \\n \\n \\n', '720 , , \\n \\n', ', \\n \\n \\n \\n', '\\n , \\n \\n ,', '\\n \\n \\n \\n \\n', ' surveyed , , \\n \\n', ', \\n \\n \\n \\n', '\\n \\n \\n \\n ,', ' Psy , , , \\n', '\\n \\n \\n \\n \\n', '\\n \\n , \\n \\n', '\\n \\n , , \\n', '\\n \\n , \\n \\n', '\\n \\n \\n \\n \\n', ' DDR , , , \\n', '\\n \\n \\n \\n \\n']\n",
      "['\\n \\n \\n \\n \\n', '\\n \\n \\n \\n \\n', '\\n \\n , \\n \\n', '\\n , \\n \\n ,', '\\n \\n \\n \\n \\n', '\\n \\n , \\n \\n', '\\n \\n , \\n \\n', ', \\n \\n \\n \\n', '\\n \\n \\n , \\n', '\\n \\n \\n \\n \\n', '\\n \\n , \\n \\n', '\\n \\n , \\n \\n', '\\n \\n , \\n \\n', '\\n \\n \\n \\n ,', '\\n \\n \\n \\n \\n', '\\n \\n , \\n \\n']\n"
     ]
    },
    {
     "name": "stderr",
     "output_type": "stream",
     "text": [
      "\r",
      "  9%|██████████▉                                                                                                             | 274/2999 [1:31:01<15:00:15, 19.82s/it]"
     ]
    },
    {
     "name": "stdout",
     "output_type": "stream",
     "text": [
      "['\\n \\n \\n \\n \\n', ', \\n \\n \\n \\n', '\\n \\n \\n \\n \\n', '\\n \\n \\n \\n \\n', '\\n \\n \\n \\n \\n', '\\n \\n \\n , \\n', ' dile , , , \\n', '\\n \\n , \\n \\n', '\\n \\n , \\n \\n', '\\n \\n \\n , \\n', '\\n \\n \\n \\n ,', '\\n \\n , \\n ,', '\\n \\n , \\n ,', '\\n \\n \\n , \\n', '\\n \\n \\n \\n \\n', '\\n \\n \\n \\n ,']\n",
      "['\\n \\n \\n , \\n', '\\n \\n \\n \\n \\n', '\\n \\n , \\n \\n', '\\n \\n \\n , \\n', '\\n \\n \\n \\n \\n', '\\n \\n , \\n \\n', '\\n \\n \\n \\n \\n', '\\n \\n \\n \\n \\n', '\\n \\n \\n \\n ,', '\\n \\n \\n \\n \\n', '\\n \\n \\n \\n \\n', '\\n \\n , , \\n', '\\n \\n , \\n \\n', '\\n \\n \\n , \\n', '\\n \\n \\n \\n \\n', '\\n \\n \\n , \\n']\n"
     ]
    },
    {
     "name": "stderr",
     "output_type": "stream",
     "text": [
      "\r",
      "  9%|███████████                                                                                                             | 275/2999 [1:31:20<14:59:19, 19.81s/it]"
     ]
    },
    {
     "name": "stdout",
     "output_type": "stream",
     "text": [
      "['\\n \\n \\n \\n \\n', '\\n \\n \\n \\n \\n', ', \\n \\n \\n \\n', '\\n \\n , \\n \\n', '\\n \\n \\n , \\n', ' royal , , , \\n', ' helicopters , , \\n \\n', ', \\n \\n \\n \\n', ', \\n \\n \\n \\n', '\\n \\n \\n \\n \\n', '\\n \\n \\n \\n \\n', '\\n \\n , \\n \\n', '\\n , \\n \\n ,', ', \\n GoldMagikarp , ,', '\\n \\n \\n \\n \\n', 'ppo , , \\n \\n']\n",
      "['\\n \\n \\n \\n \\n', '\\n \\n \\n \\n \\n', '\\n \\n \\n \\n \\n', ', \\n \\n \\n \\n', '\\n \\n \\n \\n \\n', '\\n , \\n \\n \\n', '\\n \\n , , \\n', '\\n , \\n \\n \\n', '\\n \\n \\n \\n \\n', '\\n \\n \\n \\n \\n', ', \\n \\n \\n \\n', '\\n \\n , \\n ,', '\\n \\n \\n \\n \\n', '\\n , \\n \\n \\n', ', \\n \\n \\n \\n', ', , \\n \\n \\n']\n"
     ]
    },
    {
     "name": "stderr",
     "output_type": "stream",
     "text": [
      "\r",
      "  9%|███████████                                                                                                             | 276/2999 [1:31:40<14:58:08, 19.79s/it]"
     ]
    },
    {
     "name": "stdout",
     "output_type": "stream",
     "text": [
      "['\\n \\n , \\n \\n', '\\n \\n \\n \\n \\n', '\\n \\n \\n \\n \\n', '\\n , \\n \\n \\n', '\\n \\n \\n \\n \\n', '\\n \\n , \\n \\n', '\\n \\n , \\n \\n', 'poses , , \\n \\n', '\\n \\n , \\n \\n', '\\n \\n \\n \\n \\n', ', \\n GoldMagikarp , ,', '\\n \\n , \\n \\n', '\\n \\n , \\n \\n', '\\n \\n \\n \\n \\n', '\\n \\n \\n \\n \\n', '\\n \\n \\n \\n ,']\n",
      "['\\n \\n \\n , \\n', ', , \\n \\n \\n', '\\n \\n , \\n \\n', '\\n \\n \\n , \\n', '\\n \\n \\n \\n \\n', '\\n , \\n \\n \\n', '\\n \\n \\n , \\n', ', \\n GoldMagikarp , ,', '\\n \\n \\n , \\n', '\\n \\n \\n \\n \\n', ', \\n \\n \\n \\n', '\\n \\n , \\n \\n', '\\n \\n , \\n \\n', '\\n \\n , \\n ,', '\\n \\n \\n \\n \\n', '\\n \\n \\n \\n \\n']\n"
     ]
    },
    {
     "name": "stderr",
     "output_type": "stream",
     "text": [
      "\r",
      "  9%|███████████                                                                                                             | 277/2999 [1:32:00<14:57:52, 19.79s/it]"
     ]
    },
    {
     "name": "stdout",
     "output_type": "stream",
     "text": [
      "['\\n \\n , \\n \\n', '\\n \\n \\n , \\n', '\\n , \\n \\n \\n', '\\n , \\n \\n \\n', '\\n \\n , \\n \\n', '\\n \\n , \\n \\n', '\\n \\n \\n \\n ,', '\\n \\n \\n \\n \\n', '\\n \\n , \\n \\n', '\\n , \\n \\n ,', '\\n \\n \\n \\n \\n', '\\n \\n \\n \\n \\n', '\\n \\n \\n \\n \\n', '\\n \\n \\n \\n \\n', ', \\n \\n GoldMagikarp ,', 'bee , , \\n \\n']\n",
      "['\\n \\n , \\n \\n', '\\n \\n \\n , \\n', '\\n \\n \\n \\n \\n', '\\n , \\n , \\n', '\\n \\n \\n \\n \\n', ', \\n \\n \\n \\n', '\\n \\n \\n , \\n', '\\n , \\n , ,', '\\n \\n , \\n \\n', '\\n \\n \\n \\n \\n', '\\n \\n , \\n \\n', '\\n , \\n \\n \\n', '\\n \\n \\n \\n \\n', '\\n \\n \\n , \\n', ', \\n \\n \\n \\n', ', , \\n \\n \\n']\n"
     ]
    },
    {
     "name": "stderr",
     "output_type": "stream",
     "text": [
      "\r",
      "  9%|███████████                                                                                                             | 278/2999 [1:32:20<14:57:47, 19.80s/it]"
     ]
    },
    {
     "name": "stdout",
     "output_type": "stream",
     "text": [
      "[', \\n \\n \\n \\n', 'Wr , , \\n \\n', 'olia , , , \\n', '\\n , \\n \\n \\n', '\\n \\n \\n , \\n', '\\n \\n \\n \\n \\n', 'Fel , , , \\n', '\\n \\n , \\n \\n', '\\n \\n \\n \\n \\n', '\\n \\n \\n \\n \\n', '\\n \\n \\n \\n ,', '\\n , \\n \\n \\n', '\\n \\n \\n , \\n', ', \\n GoldMagikarp , ,', '\\n \\n \\n \\n \\n', '\\n \\n \\n \\n \\n']\n",
      "['\\n \\n \\n \\n \\n', '\\n \\n \\n , \\n', '\\n \\n \\n , \\n', '\\n , \\n \\n \\n', '\\n \\n \\n , \\n', '\\n \\n \\n \\n \\n', '\\n \\n \\n \\n \\n', '\\n , \\n \\n \\n', '\\n \\n \\n \\n ,', '\\n \\n \\n , \\n', '\\n \\n \\n \\n \\n', '\\n , \\n \\n ,', '\\n \\n \\n \\n \\n', '\\n \\n \\n \\n \\n', '\\n \\n \\n \\n \\n', ', , \\n \\n \\n']\n"
     ]
    },
    {
     "name": "stderr",
     "output_type": "stream",
     "text": [
      "\r",
      "  9%|███████████▏                                                                                                            | 279/2999 [1:32:39<14:55:52, 19.76s/it]"
     ]
    },
    {
     "name": "stdout",
     "output_type": "stream",
     "text": [
      "['\\n \\n \\n , \\n', '\\n \\n \\n \\n \\n', '\\n \\n \\n , \\n', '\\n \\n , \\n \\n', '\\n \\n \\n \\n \\n', '\\n \\n \\n \\n ,', '\\n \\n , \\n \\n', ' confusing , , \\n \\n', '\\n \\n , \\n \\n', '\\n \\n \\n \\n \\n', '\\n \\n \\n \\n \\n', '\\n \\n , \\n \\n', '\\n \\n , \\n \\n', '\\n \\n \\n \\n \\n', '\\n \\n \\n , \\n', '\\n \\n , \\n \\n']\n",
      "['\\n \\n \\n \\n \\n', '\\n \\n \\n \\n \\n', ', \\n \\n \\n \\n', ', \\n \\n \\n \\n', '\\n \\n \\n \\n \\n', '\\n , \\n \\n \\n', '\\n \\n \\n \\n \\n', ', \\n \\n \\n \\n', '\\n \\n \\n \\n \\n', '\\n \\n \\n \\n \\n', '\\n \\n , \\n \\n', '\\n \\n , \\n \\n', '\\n \\n , \\n \\n', '\\n \\n \\n \\n ,', '\\n \\n \\n \\n \\n', '\\n \\n \\n \\n \\n']\n"
     ]
    },
    {
     "name": "stderr",
     "output_type": "stream",
     "text": [
      "\r",
      "  9%|███████████▏                                                                                                            | 280/2999 [1:32:59<14:56:04, 19.77s/it]"
     ]
    },
    {
     "name": "stdout",
     "output_type": "stream",
     "text": [
      "['\\n \\n \\n , \\n', '\\n \\n \\n , \\n', '\\n \\n \\n \\n \\n', '\\n , \\n \\n \\n', '\\n \\n \\n \\n ,', ' visc , , \\n \\n', '\\n \\n , \\n \\n', '\\n \\n \\n \\n \\n', '\\n \\n \\n \\n \\n', ' tan , , , \\n', '\\n \\n \\n \\n \\n', '\\n \\n \\n \\n \\n', '\\n \\n \\n \\n ,', ' precept , , \\n \\n', '\\n \\n \\n \\n \\n', '\\n \\n \\n \\n \\n']\n",
      "['\\n \\n \\n \\n \\n', '\\n \\n , \\n \\n', '\\n \\n \\n \\n \\n', '\\n , \\n \\n \\n', '\\n \\n \\n \\n \\n', '\\n , \\n , \\n', '\\n \\n \\n , \\n', '\\n \\n \\n \\n \\n', '\\n \\n \\n \\n \\n', '\\n \\n \\n \\n \\n', '\\n , \\n \\n \\n', '\\n \\n , , \\n', ', , \\n \\n \\n', '\\n \\n \\n \\n \\n', '\\n \\n \\n \\n \\n', ', \\n \\n \\n \\n']\n"
     ]
    },
    {
     "name": "stderr",
     "output_type": "stream",
     "text": [
      "\r",
      "  9%|███████████▏                                                                                                            | 281/2999 [1:33:19<14:56:07, 19.78s/it]"
     ]
    },
    {
     "name": "stdout",
     "output_type": "stream",
     "text": [
      "40.939395904541016 0.53125\n",
      "['\\n \\n \\n \\n \\n', '\\n \\n GoldMagikarp , ,', '\\n \\n \\n , \\n', '\\n \\n \\n , \\n', '\\n \\n \\n \\n \\n', '\\n \\n , \\n \\n', '\\n \\n , \\n \\n', '\\n \\n , \\n \\n', ' Parade , , , \\n', ' cad , , , \\n', '\\n \\n \\n , \\n', '\\n \\n , \\n \\n', '\\n \\n , \\n \\n', '\\n \\n \\n \\n \\n', '\\n \\n \\n \\n \\n', '\\n \\n \\n \\n \\n']\n",
      "['\\n \\n \\n \\n ,', '\\n \\n \\n \\n \\n', '\\n \\n \\n \\n \\n', '\\n \\n , \\n \\n', '\\n \\n \\n \\n ,', '\\n \\n \\n , \\n', '\\n \\n , \\n \\n', '\\n \\n , \\n \\n', '\\n \\n \\n \\n ,', '\\n \\n \\n \\n \\n', '\\n \\n \\n , \\n', '\\n \\n \\n \\n \\n', '\\n \\n \\n \\n \\n', '\\n \\n \\n \\n \\n', '\\n \\n \\n , \\n', '\\n \\n , \\n \\n']\n"
     ]
    },
    {
     "name": "stderr",
     "output_type": "stream",
     "text": [
      "\r",
      "  9%|███████████▎                                                                                                            | 282/2999 [1:33:39<14:56:01, 19.79s/it]"
     ]
    },
    {
     "name": "stdout",
     "output_type": "stream",
     "text": [
      "['tarians , , , \\n', '\\n \\n \\n \\n ,', '\\n \\n \\n \\n \\n', ' disclosed , , \\n \\n', '\\n \\n \\n , \\n', '\\n \\n , \\n \\n', '\\n \\n \\n , \\n', '\\n , \\n \\n ,', '\\n \\n \\n , \\n', '\\n \\n \\n \\n ,', '\\n \\n , \\n \\n', '\\n \\n , \\n \\n', '\\n \\n , \\n \\n', '\\n \\n \\n \\n \\n', '\\n \\n \\n \\n \\n', '\\n , \\n , \\n']\n",
      "['\\n \\n \\n \\n \\n', '\\n \\n \\n , \\n', '\\n \\n \\n \\n ,', '\\n \\n \\n , \\n', '\\n \\n \\n \\n \\n', '\\n , \\n \\n \\n', '\\n \\n \\n \\n \\n', ', \\n \\n \\n \\n', '\\n \\n , \\n \\n', '\\n \\n \\n \\n \\n', '\\n \\n \\n , \\n', '\\n \\n , \\n \\n', '\\n \\n , \\n \\n', '\\n \\n , \\n ,', ', \\n \\n \\n \\n', '\\n \\n \\n \\n \\n']\n"
     ]
    },
    {
     "name": "stderr",
     "output_type": "stream",
     "text": [
      "\r",
      "  9%|███████████▎                                                                                                            | 283/2999 [1:33:58<14:53:54, 19.75s/it]"
     ]
    },
    {
     "name": "stdout",
     "output_type": "stream",
     "text": [
      "['\\n \\n \\n \\n ,', '\\n \\n \\n , \\n', '\\n \\n \\n , \\n', '\\n \\n \\n , \\n', '\\n \\n \\n \\n \\n', ' HF , , \\n \\n', '\\n \\n \\n , \\n', '\\n \\n \\n \\n \\n', '\\n \\n \\n \\n \\n', '\\n \\n \\n \\n \\n', ' Republican , , , \\n', '\\n , \\n \\n \\n', '\\n \\n \\n \\n \\n', '\\n \\n \\n \\n \\n', 'driver , , \\n \\n', '\\n \\n \\n , \\n']\n",
      "['\\n \\n \\n \\n \\n', '\\n \\n \\n \\n \\n', '\\n \\n \\n \\n \\n', '\\n \\n \\n \\n \\n', '\\n \\n , \\n \\n', '\\n \\n , \\n \\n', '\\n \\n \\n \\n \\n', ', \\n \\n \\n \\n', '\\n \\n \\n \\n \\n', '\\n \\n \\n \\n ,', '\\n \\n \\n \\n \\n', '\\n \\n \\n \\n \\n', '\\n \\n \\n , \\n', '\\n \\n \\n , \\n', ', \\n \\n \\n \\n', '\\n \\n \\n \\n ,']\n"
     ]
    },
    {
     "name": "stderr",
     "output_type": "stream",
     "text": [
      "\r",
      "  9%|███████████▎                                                                                                            | 284/2999 [1:34:18<14:54:53, 19.78s/it]"
     ]
    },
    {
     "name": "stdout",
     "output_type": "stream",
     "text": [
      "['\\n \\n \\n \\n \\n', '\\n \\n \\n \\n \\n', '\\n \\n \\n \\n \\n', '\\n , \\n \\n \\n', '\\n \\n \\n , \\n', '\\n \\n \\n \\n \\n', '\\n \\n , \\n \\n', '\\n \\n \\n , \\n', '\\n \\n , \\n \\n', '\\n \\n \\n \\n \\n', '\\n \\n \\n \\n \\n', '\\n , \\n \\n \\n', 'hab , , \\n \\n', '\\n \\n \\n \\n \\n', '\\n \\n \\n \\n \\n', '\\n \\n \\n \\n \\n']\n",
      "['\\n \\n \\n \\n \\n', '\\n \\n \\n , \\n', '\\n \\n \\n \\n \\n', '\\n , \\n \\n \\n', '\\n \\n \\n \\n \\n', '\\n \\n \\n , \\n', '\\n \\n \\n , \\n', '\\n \\n \\n \\n \\n', '\\n \\n , \\n \\n', '\\n \\n \\n \\n \\n', '\\n \\n \\n \\n \\n', '\\n \\n \\n \\n \\n', '\\n \\n \\n \\n \\n', '\\n \\n \\n \\n \\n', '\\n \\n \\n \\n ,', '\\n \\n , \\n \\n']\n"
     ]
    },
    {
     "name": "stderr",
     "output_type": "stream",
     "text": [
      "\r",
      " 10%|███████████▍                                                                                                            | 285/2999 [1:34:38<14:54:28, 19.77s/it]"
     ]
    },
    {
     "name": "stdout",
     "output_type": "stream",
     "text": [
      "['\\n \\n , \\n \\n', '\\n \\n \\n \\n \\n', '\\n \\n \\n \\n \\n', ' preferable , , \\n \\n', '\\n , \\n \\n \\n', '\\n \\n , \\n \\n', '\\n \\n , \\n \\n', '\\n \\n \\n \\n \\n', ', \\n \\n \\n \\n', '\\n \\n \\n \\n \\n', '\\n \\n \\n \\n \\n', '\\n \\n , \\n \\n', '\\n \\n , \\n \\n', '\\n \\n \\n \\n \\n', '\\n \\n \\n \\n \\n', '\\n \\n \\n \\n \\n']\n",
      "['\\n \\n , \\n \\n', '\\n \\n \\n \\n \\n', '\\n \\n \\n \\n \\n', '\\n \\n \\n \\n \\n', '\\n \\n , \\n \\n', '\\n , \\n \\n \\n', '\\n \\n \\n \\n ,', '\\n \\n \\n \\n ,', '\\n \\n \\n \\n \\n', '\\n \\n \\n \\n \\n', '\\n , \\n \\n ,', '\\n \\n \\n \\n \\n', ', , \\n \\n GoldMagikarp', '\\n \\n \\n , \\n', '\\n \\n \\n , \\n', ', \\n \\n \\n \\n']\n"
     ]
    },
    {
     "name": "stderr",
     "output_type": "stream",
     "text": [
      "\r",
      " 10%|███████████▍                                                                                                            | 286/2999 [1:34:58<14:54:48, 19.79s/it]"
     ]
    },
    {
     "name": "stdout",
     "output_type": "stream",
     "text": [
      "['\\n \\n \\n \\n \\n', '\\n \\n \\n \\n \\n', '\\n \\n \\n \\n \\n', '\\n \\n , \\n \\n', '\\n \\n \\n \\n \\n', '\\n \\n , \\n \\n', '\\n \\n \\n \\n \\n', ', \\n \\n \\n \\n', ' ruled , , \\n \\n', '\\n \\n \\n \\n \\n', '\\n , \\n \\n ,', '\\n \\n , \\n \\n', '\\n , \\n \\n \\n', '\\n \\n \\n , \\n', '\\n \\n \\n , \\n', '\\n \\n \\n \\n ,']\n",
      "['\\n \\n \\n \\n \\n', '\\n \\n \\n \\n \\n', '\\n \\n \\n \\n \\n', '\\n \\n \\n , \\n', '\\n \\n \\n \\n \\n', '\\n \\n \\n , \\n', '\\n \\n \\n \\n \\n', '\\n \\n \\n \\n ,', '\\n \\n , \\n \\n', '\\n \\n \\n \\n \\n', '\\n \\n , \\n \\n', '\\n \\n , \\n ,', '\\n \\n , \\n ,', '\\n \\n \\n , \\n', '\\n \\n \\n \\n \\n', '\\n \\n \\n , \\n']\n"
     ]
    },
    {
     "name": "stderr",
     "output_type": "stream",
     "text": [
      "\r",
      " 10%|███████████▍                                                                                                            | 287/2999 [1:35:18<14:53:51, 19.78s/it]"
     ]
    },
    {
     "name": "stdout",
     "output_type": "stream",
     "text": [
      "['\\n \\n \\n \\n \\n', '\\n \\n \\n \\n \\n', '\\n \\n \\n \\n \\n', ' pub , , , \\n', '\\n \\n \\n \\n ,', '\\n \\n , \\n \\n', '\\n \\n \\n \\n \\n', '\\n \\n \\n \\n ,', '\\n \\n , \\n \\n', '\\n \\n \\n \\n \\n', '\\n \\n \\n , \\n', '\\n \\n \\n , \\n', '\\n \\n , \\n \\n', '\\n \\n \\n \\n \\n', '\\n \\n \\n \\n ,', '\\n \\n \\n \\n \\n']\n",
      "[', \\n \\n \\n \\n', '\\n \\n \\n , \\n', '\\n \\n \\n \\n \\n', '\\n \\n , \\n \\n', '\\n \\n \\n \\n ,', ', \\n \\n \\n \\n', '\\n \\n \\n , \\n', '\\n \\n \\n \\n \\n', '\\n \\n \\n \\n \\n', '\\n \\n \\n \\n \\n', '\\n \\n , \\n \\n', '\\n \\n , \\n \\n', '\\n \\n , \\n \\n', '\\n \\n , \\n ,', ', \\n \\n GoldMagikarp ,', '\\n , \\n \\n \\n']\n"
     ]
    },
    {
     "name": "stderr",
     "output_type": "stream",
     "text": [
      "\r",
      " 10%|███████████▌                                                                                                            | 288/2999 [1:35:37<14:53:35, 19.78s/it]"
     ]
    },
    {
     "name": "stdout",
     "output_type": "stream",
     "text": [
      "['\\n \\n \\n \\n \\n', '\\n \\n \\n \\n \\n', '\\n \\n \\n \\n \\n', '\\n , \\n \\n ,', '\\n \\n \\n \\n \\n', '\\n \\n , \\n \\n', '\\n \\n \\n \\n \\n', '\\n \\n \\n \\n \\n', '\\n \\n \\n \\n ,', '\\n \\n \\n \\n \\n', '\\n \\n \\n \\n \\n', '\\n \\n \\n , \\n', '\\n , \\n \\n \\n', '\\n \\n \\n \\n \\n', '\\n \\n \\n , \\n', '\\n \\n \\n \\n \\n']\n",
      "['\\n \\n \\n \\n \\n', '\\n \\n \\n \\n \\n', '\\n \\n \\n , \\n', '\\n \\n \\n \\n \\n', '\\n \\n \\n \\n \\n', '\\n \\n , \\n \\n', '\\n \\n \\n \\n ,', '\\n \\n \\n \\n \\n', '\\n \\n , \\n \\n', '\\n \\n \\n \\n ,', '\\n \\n \\n \\n \\n', '\\n \\n \\n \\n \\n', '\\n \\n , \\n \\n', '\\n \\n , \\n \\n', '\\n \\n \\n , \\n', '\\n , \\n \\n ,']\n"
     ]
    },
    {
     "name": "stderr",
     "output_type": "stream",
     "text": [
      "\r",
      " 10%|███████████▌                                                                                                            | 289/2999 [1:35:57<14:53:36, 19.78s/it]"
     ]
    },
    {
     "name": "stdout",
     "output_type": "stream",
     "text": [
      "['\\n \\n \\n \\n \\n', '\\n \\n \\n \\n \\n', '\\n \\n \\n \\n \\n', '\\n , \\n \\n \\n', '\\n \\n \\n \\n \\n', '\\n , \\n \\n \\n', '\\n \\n \\n \\n \\n', ', \\n \\n \\n \\n', '\\n \\n \\n , \\n', '\\n \\n \\n \\n \\n', '\\n \\n \\n , \\n', '\\n \\n \\n , \\n', ' Marian , , , \\n', '\\n \\n \\n \\n \\n', '\\n \\n \\n \\n \\n', '\\n \\n \\n \\n \\n']\n",
      "['\\n \\n \\n \\n \\n', '\\n \\n \\n \\n \\n', '\\n \\n \\n \\n \\n', '\\n \\n \\n \\n \\n', '\\n \\n \\n \\n \\n', '\\n \\n , \\n ,', '\\n \\n , \\n \\n', '\\n , \\n \\n ,', '\\n \\n , \\n \\n', ', \\n \\n \\n \\n', '\\n \\n \\n , \\n', '\\n \\n , \\n \\n', '\\n \\n , \\n \\n', '\\n \\n \\n \\n \\n', '\\n \\n \\n \\n \\n', '\\n \\n , \\n \\n']\n"
     ]
    },
    {
     "name": "stderr",
     "output_type": "stream",
     "text": [
      "\r",
      " 10%|███████████▌                                                                                                            | 290/2999 [1:36:17<14:54:14, 19.81s/it]"
     ]
    },
    {
     "name": "stdout",
     "output_type": "stream",
     "text": [
      "[' Unfortunately , , \\n \\n', '\\n \\n \\n \\n \\n', '\\n \\n \\n \\n \\n', '\\n \\n \\n \\n ,', '\\n \\n \\n \\n \\n', '\\n \\n \\n \\n ,', '\\n \\n \\n \\n \\n', '\\n \\n \\n \\n \\n', '\\n \\n \\n \\n \\n', '\\n \\n \\n \\n \\n', '\\n \\n \\n , \\n', '\\n \\n \\n \\n \\n', ' Burger , , , \\n', '\\n \\n , \\n \\n', ', \\n GoldMagikarp , ,', ', \\n \\n \\n \\n']\n",
      "['\\n \\n \\n \\n \\n', '\\n \\n \\n \\n \\n', '\\n \\n \\n \\n \\n', '\\n \\n , \\n \\n', '\\n \\n \\n \\n \\n', '\\n , \\n \\n ,', '\\n \\n \\n , \\n', '\\n \\n \\n \\n \\n', '\\n \\n \\n \\n \\n', '\\n \\n \\n , \\n', '\\n \\n \\n \\n \\n', '\\n , \\n \\n ,', '\\n , \\n \\n \\n', '\\n \\n \\n \\n \\n', '\\n \\n \\n \\n \\n', '\\n \\n \\n \\n \\n']\n"
     ]
    },
    {
     "name": "stderr",
     "output_type": "stream",
     "text": [
      "\r",
      " 10%|███████████▋                                                                                                            | 291/2999 [1:36:37<14:53:16, 19.79s/it]"
     ]
    },
    {
     "name": "stdout",
     "output_type": "stream",
     "text": [
      "72.24830627441406 0.5390625\n",
      "['\\n \\n \\n \\n \\n', '\\n \\n \\n \\n \\n', '\\n \\n \\n \\n ,', '\\n \\n \\n \\n \\n', '\\n \\n \\n , \\n', '\\n \\n \\n \\n \\n', '\\n \\n \\n \\n \\n', '\\n \\n \\n \\n \\n', '\\n \\n \\n \\n \\n', '\\n \\n \\n \\n \\n', '\\n \\n \\n \\n \\n', '\\n \\n \\n \\n \\n', '\\n \\n \\n , \\n', '\\n \\n \\n \\n \\n', '\\n \\n \\n \\n \\n', ' Investment , , \\n \\n']\n",
      "['\\n \\n \\n \\n \\n', '\\n \\n \\n \\n \\n', '\\n \\n \\n \\n \\n', '\\n \\n \\n \\n \\n', '\\n \\n \\n \\n \\n', '\\n \\n , \\n \\n', '\\n \\n \\n , \\n', '\\n \\n \\n \\n \\n', '\\n \\n \\n \\n \\n', '\\n \\n \\n \\n \\n', '\\n \\n \\n \\n ,', '\\n \\n , \\n \\n', '\\n \\n , \\n \\n', '\\n \\n \\n \\n \\n', '\\n \\n \\n \\n \\n', '\\n \\n \\n \\n \\n']\n"
     ]
    },
    {
     "name": "stderr",
     "output_type": "stream",
     "text": [
      "\r",
      " 10%|███████████▋                                                                                                            | 292/2999 [1:36:57<14:52:45, 19.79s/it]"
     ]
    },
    {
     "name": "stdout",
     "output_type": "stream",
     "text": [
      "['\\n \\n \\n \\n GoldMagikarp', '\\n \\n \\n , \\n', '\\n \\n \\n \\n \\n', '\\n \\n \\n \\n \\n', '\\n \\n \\n \\n ,', '\\n \\n , \\n \\n', '\\n \\n \\n \\n \\n', '�� , , \\n \\n', '\\n \\n , \\n \\n', '\\n \\n \\n \\n \\n', ' attended , , \\n \\n', '\\n , \\n \\n \\n', '\\n \\n , \\n \\n', '\\n \\n \\n \\n \\n', '\\n \\n \\n \\n \\n', '\\n \\n \\n \\n \\n']\n",
      "['\\n \\n \\n \\n ,', '\\n \\n \\n \\n \\n', '\\n \\n \\n \\n \\n', '\\n \\n \\n \\n \\n', '\\n \\n \\n \\n \\n', '\\n \\n , \\n ,', '\\n \\n , \\n \\n', '\\n \\n \\n \\n \\n', '\\n \\n \\n \\n \\n', '\\n \\n \\n \\n \\n', '\\n \\n \\n \\n \\n', '\\n \\n , \\n \\n', '\\n \\n \\n \\n \\n', '\\n \\n \\n , \\n', '\\n \\n \\n \\n ,', '\\n \\n \\n \\n ,']\n"
     ]
    },
    {
     "name": "stderr",
     "output_type": "stream",
     "text": [
      "\r",
      " 10%|███████████▋                                                                                                            | 293/2999 [1:37:16<14:52:26, 19.79s/it]"
     ]
    },
    {
     "name": "stdout",
     "output_type": "stream",
     "text": [
      "['\\n \\n \\n , \\n', '\\n \\n \\n \\n \\n', '\\n \\n , \\n \\n', ', \\n \\n \\n \\n', '\\n \\n \\n \\n ,', ', , \\n \\n \\n', '\\n \\n , \\n ,', '\\n , \\n \\n \\n', '\\n \\n \\n \\n \\n', '\\n \\n \\n \\n \\n', '\\n \\n \\n \\n \\n', '\\n \\n , \\n \\n', '\\n \\n \\n \\n \\n', '\\n \\n \\n \\n \\n', '\\n \\n \\n \\n \\n', '\\n \\n \\n , \\n']\n",
      "['\\n \\n \\n \\n \\n', '\\n \\n \\n \\n \\n', '\\n \\n \\n \\n \\n', '\\n \\n \\n \\n \\n', '\\n \\n \\n \\n \\n', '\\n \\n , \\n ,', '\\n \\n \\n \\n \\n', '\\n \\n \\n \\n \\n', '\\n \\n \\n \\n \\n', '\\n \\n \\n \\n \\n', '\\n \\n , \\n \\n', '\\n \\n \\n \\n \\n', '\\n \\n \\n \\n \\n', '\\n \\n \\n \\n \\n', '\\n \\n \\n \\n \\n', '\\n \\n , \\n \\n']\n"
     ]
    },
    {
     "name": "stderr",
     "output_type": "stream",
     "text": [
      "\r",
      " 10%|███████████▊                                                                                                            | 294/2999 [1:37:36<14:51:47, 19.78s/it]"
     ]
    },
    {
     "name": "stdout",
     "output_type": "stream",
     "text": [
      "['\\n \\n \\n \\n \\n', '\\n \\n \\n \\n \\n', '\\n \\n \\n \\n \\n', ' encour , , , \\n', '\\n \\n \\n \\n \\n', '\\n \\n \\n \\n \\n', '\\n \\n \\n \\n ,', '\\n \\n \\n \\n \\n', '\\n \\n , \\n \\n', '\\n \\n \\n \\n ,', '\\n \\n , \\n \\n', '\\n \\n \\n \\n \\n', '\\n \\n , \\n \\n', '\\n \\n \\n \\n \\n', '\\n \\n \\n \\n \\n', '\\n , \\n \\n ,']\n",
      "['\\n \\n \\n \\n \\n', '\\n \\n \\n \\n \\n', '\\n \\n \\n \\n \\n', '\\n \\n \\n \\n \\n', '\\n \\n \\n \\n \\n', '\\n \\n \\n \\n \\n', '\\n \\n \\n \\n \\n', '\\n , \\n \\n \\n', '\\n \\n \\n \\n \\n', '\\n \\n \\n \\n ,', '\\n \\n \\n \\n \\n', '\\n \\n \\n \\n \\n', '\\n \\n \\n \\n \\n', '\\n \\n \\n , \\n', '\\n \\n \\n \\n \\n', '\\n \\n \\n \\n \\n']\n"
     ]
    },
    {
     "name": "stderr",
     "output_type": "stream",
     "text": [
      "\r",
      " 10%|███████████▊                                                                                                            | 295/2999 [1:37:56<14:51:44, 19.79s/it]"
     ]
    },
    {
     "name": "stdout",
     "output_type": "stream",
     "text": [
      "['\\n \\n \\n \\n \\n', '\\n \\n \\n \\n \\n', '\\n \\n \\n \\n \\n', 'Icon , , \\n \\n', '\\n \\n , \\n \\n', '\\n \\n , \\n \\n', '\\n \\n \\n \\n \\n', ', \\n \\n \\n \\n', '\\n \\n \\n \\n \\n', '\\n \\n \\n \\n \\n', '\\n \\n , \\n \\n', '\\n \\n , \\n \\n', '\\n \\n \\n \\n \\n', '\\n \\n \\n , \\n', ' cyber , , , \\n', '\\n \\n \\n \\n \\n']\n",
      "['\\n \\n \\n \\n \\n', '\\n \\n \\n , \\n', '\\n \\n \\n \\n \\n', '\\n \\n \\n \\n \\n', '\\n \\n \\n , \\n', '\\n \\n , \\n \\n', '\\n , \\n \\n \\n', '\\n , \\n \\n \\n', '\\n \\n \\n \\n \\n', '\\n \\n \\n \\n \\n', '\\n \\n \\n \\n \\n', '\\n \\n \\n \\n \\n', '\\n \\n , \\n \\n', '\\n \\n \\n \\n \\n', '\\n \\n \\n \\n \\n', '\\n \\n \\n \\n \\n']\n"
     ]
    },
    {
     "name": "stderr",
     "output_type": "stream",
     "text": [
      "\r",
      " 10%|███████████▊                                                                                                            | 296/2999 [1:38:16<14:54:42, 19.86s/it]"
     ]
    },
    {
     "name": "stdout",
     "output_type": "stream",
     "text": [
      "['\\n \\n \\n \\n \\n', '\\n \\n \\n , \\n', '\\n , \\n \\n \\n', ', \\n \\n \\n \\n', '\\n \\n \\n , \\n', '\\n \\n \\n \\n \\n', '\\n \\n \\n \\n \\n', '\\n \\n \\n \\n \\n', '\\n \\n \\n , \\n', '\\n \\n \\n \\n \\n', ', \\n \\n GoldMagikarp ,', '\\n \\n \\n \\n \\n', '\\n \\n \\n \\n \\n', '\\n \\n \\n \\n \\n', '\\n \\n \\n \\n \\n', ' describe , , \\n \\n']\n",
      "['\\n , \\n \\n \\n', '\\n \\n , \\n \\n', '\\n \\n \\n \\n \\n', '\\n \\n \\n \\n \\n', '\\n \\n , \\n \\n', '\\n \\n , \\n \\n', '\\n \\n , \\n \\n', '\\n \\n \\n \\n \\n', '\\n \\n \\n \\n \\n', '\\n \\n \\n \\n \\n', '\\n \\n , \\n \\n', '\\n \\n , \\n \\n', '\\n \\n , \\n \\n', '\\n \\n \\n \\n \\n', '\\n \\n \\n \\n \\n', '\\n \\n \\n \\n \\n']\n"
     ]
    },
    {
     "name": "stderr",
     "output_type": "stream",
     "text": [
      "\r",
      " 10%|███████████▉                                                                                                            | 297/2999 [1:38:36<14:52:59, 19.83s/it]"
     ]
    },
    {
     "name": "stdout",
     "output_type": "stream",
     "text": [
      "[', \\n \\n \\n \\n', '\\n \\n \\n \\n \\n', '\\n \\n \\n \\n \\n', '\\n \\n \\n \\n \\n', '\\n \\n \\n \\n \\n', '\\n \\n \\n \\n \\n', '\\n \\n \\n \\n \\n', '\\n \\n \\n , \\n', ' road , , , \\n', ' Binary , , \\n \\n', '\\n \\n \\n \\n ,', '\\n \\n , \\n \\n', '\\n \\n \\n \\n \\n', 'osaurus , , \\n \\n', '\\n \\n \\n , \\n', '\\n \\n \\n \\n ,']\n",
      "['\\n \\n \\n \\n \\n', '\\n \\n , \\n \\n', '\\n \\n \\n \\n \\n', '\\n \\n \\n \\n \\n', '\\n \\n \\n \\n \\n', ', \\n \\n \\n \\n', '\\n \\n , \\n \\n', '\\n \\n \\n \\n \\n', '\\n \\n \\n \\n \\n', '\\n \\n \\n \\n \\n', '\\n \\n \\n \\n \\n', '\\n \\n \\n \\n \\n', '\\n \\n \\n , \\n', '\\n \\n \\n \\n \\n', '\\n \\n \\n \\n \\n', '\\n \\n \\n \\n \\n']\n"
     ]
    },
    {
     "name": "stderr",
     "output_type": "stream",
     "text": [
      "\r",
      " 10%|███████████▉                                                                                                            | 298/2999 [1:38:56<14:52:57, 19.84s/it]"
     ]
    },
    {
     "name": "stdout",
     "output_type": "stream",
     "text": [
      "['\\n \\n , \\n \\n', '\\n \\n \\n \\n \\n', 'omething , , \\n \\n', '\\n \\n \\n \\n \\n', '\\n \\n \\n \\n \\n', '\\n \\n , \\n \\n', '\\n \\n \\n \\n \\n', '\\n \\n \\n \\n \\n', '\\n \\n \\n \\n \\n', '\\n \\n \\n \\n \\n', '\\n \\n \\n \\n ,', '\\n \\n \\n \\n \\n', '\\n \\n \\n \\n \\n', '\\n \\n \\n \\n ,', '\\n \\n \\n \\n \\n', '\\n \\n \\n , \\n']\n",
      "['\\n \\n \\n \\n \\n', '\\n \\n \\n \\n \\n', '\\n \\n , \\n \\n', '\\n \\n \\n \\n \\n', '\\n \\n \\n \\n \\n', '\\n \\n \\n \\n \\n', '\\n \\n \\n , \\n', '\\n \\n \\n , \\n', '\\n \\n \\n \\n \\n', '\\n \\n \\n \\n \\n', '\\n \\n \\n \\n \\n', '\\n \\n , \\n \\n', ', , \\n \\n \\n', '\\n \\n \\n \\n \\n', '\\n \\n \\n \\n \\n', '\\n \\n , \\n \\n']\n"
     ]
    },
    {
     "name": "stderr",
     "output_type": "stream",
     "text": [
      "\r",
      " 10%|███████████▉                                                                                                            | 299/2999 [1:39:15<14:52:43, 19.84s/it]"
     ]
    },
    {
     "name": "stdout",
     "output_type": "stream",
     "text": [
      "['� , \\n \\n \\n', 'ズ , , , \\n', '\\n \\n \\n \\n \\n', '\\n \\n \\n \\n \\n', ' embodies , , \\n \\n', '\\n \\n , \\n \\n', '\\n \\n \\n \\n ,', '\\n \\n \\n \\n \\n', '\\n \\n \\n \\n ,', '\\n \\n \\n \\n \\n', ' protestors , , \\n \\n', '\\n \\n \\n \\n \\n', '\\n , , \\n \\n', ' Dill , , , \\n', '\\n \\n \\n \\n \\n', '\\n \\n \\n \\n \\n']\n",
      "['\\n \\n \\n \\n \\n', '\\n \\n \\n \\n \\n', '\\n \\n \\n \\n \\n', '\\n , \\n \\n \\n', '\\n \\n \\n , \\n', '\\n \\n , \\n \\n', '\\n \\n \\n \\n \\n', '\\n \\n \\n , \\n', '\\n \\n , \\n \\n', '\\n \\n \\n \\n \\n', '\\n \\n \\n \\n \\n', '\\n , \\n \\n \\n', '\\n \\n \\n \\n \\n', '\\n \\n \\n , \\n', '\\n \\n \\n \\n \\n', '\\n \\n \\n \\n \\n']\n"
     ]
    },
    {
     "name": "stderr",
     "output_type": "stream",
     "text": [
      "\r",
      " 10%|████████████                                                                                                            | 300/2999 [1:39:35<14:52:21, 19.84s/it]"
     ]
    },
    {
     "name": "stdout",
     "output_type": "stream",
     "text": [
      "['\\n \\n \\n \\n \\n', '\\n \\n \\n \\n \\n', '\\n \\n \\n \\n \\n', '\\n \\n \\n \\n \\n', '\\n \\n \\n \\n \\n', '\\n \\n , \\n \\n', '\\n \\n \\n \\n \\n', ' dismal , , \\n \\n', '\\n \\n \\n \\n \\n', ' Pavilion , , , \\n', '\\n \\n \\n \\n ,', '\\n \\n , \\n \\n', '\\n \\n \\n \\n \\n', '\\n \\n \\n \\n \\n', 'rine , , \\n \\n', '\\n \\n \\n \\n \\n']\n",
      "['\\n \\n \\n \\n \\n', '\\n \\n \\n \\n \\n', '\\n \\n \\n \\n \\n', '\\n , \\n \\n \\n', '\\n \\n \\n \\n \\n', '\\n \\n \\n \\n \\n', '\\n \\n \\n , \\n', '\\n \\n \\n \\n \\n', '\\n \\n \\n \\n \\n', '\\n \\n \\n \\n \\n', '\\n \\n \\n , \\n', '\\n \\n \\n \\n \\n', '\\n \\n , \\n \\n', '\\n \\n \\n \\n \\n', '\\n \\n \\n \\n \\n', ', \\n \\n \\n \\n']\n"
     ]
    },
    {
     "name": "stderr",
     "output_type": "stream",
     "text": [
      "\r",
      " 10%|████████████                                                                                                            | 301/2999 [1:39:55<14:51:34, 19.83s/it]"
     ]
    },
    {
     "name": "stdout",
     "output_type": "stream",
     "text": [
      "37.41798400878906 0.515625\n",
      "['\\n \\n \\n \\n \\n', '\\n \\n \\n , \\n', '\\n \\n , \\n \\n', '405 , , , \\n', '\\n \\n \\n \\n \\n', '\\n \\n \\n \\n ,', ' mant , , , \\n', '\\n \\n \\n \\n \\n', '\\n \\n \\n \\n \\n', '\\n \\n \\n \\n \\n', '\\n \\n \\n \\n ,', '\\n \\n \\n \\n \\n', '\\n \\n \\n \\n ,', ' contextual , , , \\n', '\\n \\n \\n \\n \\n', '\\n \\n \\n \\n \\n']\n",
      "[', \\n \\n \\n \\n', '\\n \\n \\n , \\n', '\\n \\n \\n \\n \\n', '\\n , \\n , \\n', ', \\n GoldMagikarp , ,', '\\n \\n , \\n \\n', '\\n \\n \\n \\n \\n', '\\n \\n \\n \\n \\n', '\\n \\n \\n \\n \\n', '\\n \\n \\n \\n \\n', '\\n \\n \\n \\n \\n', '\\n \\n \\n \\n \\n', '\\n \\n , \\n \\n', '\\n \\n \\n \\n ,', '\\n \\n \\n \\n \\n', '\\n \\n \\n \\n \\n']\n"
     ]
    },
    {
     "name": "stderr",
     "output_type": "stream",
     "text": [
      "\r",
      " 10%|████████████                                                                                                            | 302/2999 [1:40:15<14:51:21, 19.83s/it]"
     ]
    },
    {
     "name": "stdout",
     "output_type": "stream",
     "text": [
      "['\\n \\n \\n \\n \\n', '\\n \\n \\n \\n \\n', '\\n \\n \\n \\n \\n', '\\n \\n \\n \\n \\n', '\\n \\n \\n \\n \\n', '\\n , \\n \\n ,', '\\n \\n \\n \\n ,', '\\n \\n \\n \\n \\n', '\\n \\n , \\n \\n', '\\n \\n \\n \\n \\n', '\\n \\n \\n \\n \\n', ' Gandhi , , , \\n', '\\n \\n , \\n \\n', '\\n \\n \\n \\n \\n', '\\n \\n , \\n \\n', '\\n \\n \\n , \\n']\n",
      "['\\n \\n \\n \\n \\n', '\\n \\n \\n \\n \\n', '\\n \\n \\n \\n \\n', '\\n \\n \\n \\n \\n', '\\n \\n , \\n \\n', '\\n , \\n \\n \\n', '\\n , \\n \\n \\n', '\\n \\n \\n , \\n', '\\n \\n \\n \\n \\n', '\\n \\n \\n \\n \\n', '\\n \\n \\n \\n \\n', '\\n \\n \\n \\n \\n', '\\n \\n , \\n \\n', '\\n \\n \\n \\n \\n', '\\n \\n \\n , \\n', ', , \\n \\n \\n']\n"
     ]
    },
    {
     "name": "stderr",
     "output_type": "stream",
     "text": [
      "\r",
      " 10%|████████████                                                                                                            | 303/2999 [1:40:35<14:49:54, 19.81s/it]"
     ]
    },
    {
     "name": "stdout",
     "output_type": "stream",
     "text": [
      "['\\n \\n \\n \\n ,', '\\n \\n \\n \\n \\n', '\\n \\n \\n \\n \\n', '\\n \\n \\n , \\n', '\\n \\n \\n \\n \\n', '\\n \\n , \\n \\n', '\\n \\n \\n \\n \\n', '\\n \\n \\n , \\n', '\\n \\n \\n \\n \\n', '\\n \\n \\n , \\n', '\\n \\n \\n \\n \\n', '\\n \\n \\n \\n \\n', '\\n , \\n \\n \\n', '\\n \\n \\n \\n \\n', '\\n \\n \\n \\n ,', '\\n \\n \\n , \\n']\n",
      "['\\n \\n \\n \\n \\n', '\\n \\n \\n \\n \\n', '\\n \\n \\n \\n \\n', '\\n \\n \\n \\n \\n', '\\n \\n \\n \\n \\n', '\\n \\n \\n \\n ,', '\\n \\n \\n \\n \\n', '\\n \\n \\n , \\n', '\\n \\n \\n \\n ,', '\\n \\n \\n \\n \\n', '\\n \\n \\n \\n \\n', '\\n \\n , \\n \\n', '\\n \\n \\n \\n \\n', '\\n \\n \\n \\n \\n', '\\n \\n \\n \\n \\n', '\\n \\n , \\n \\n']\n"
     ]
    },
    {
     "name": "stderr",
     "output_type": "stream",
     "text": [
      "\r",
      " 10%|████████████▏                                                                                                           | 304/2999 [1:40:54<14:49:17, 19.80s/it]"
     ]
    },
    {
     "name": "stdout",
     "output_type": "stream",
     "text": [
      "['\\n \\n \\n \\n \\n', '\\n \\n \\n \\n \\n', ' inventor , , , \\n', '\\n \\n \\n \\n \\n', '\\n \\n \\n \\n \\n', '\\n \\n \\n \\n \\n', '\\n \\n \\n \\n \\n', '\\n \\n \\n \\n \\n', '\\n \\n \\n \\n \\n', '\\n \\n \\n \\n ,', '\\n \\n \\n \\n \\n', '\\n \\n \\n \\n \\n', '\\n \\n \\n \\n \\n', '\\n \\n \\n \\n \\n', ' PAY , , , \\n', '\\n \\n , , \\n']\n",
      "['\\n \\n \\n \\n \\n', '\\n \\n \\n \\n \\n', '\\n \\n \\n \\n \\n', '\\n \\n \\n , \\n', '\\n \\n \\n , \\n', '\\n \\n , \\n ,', '\\n \\n \\n \\n \\n', '\\n \\n , \\n \\n', '\\n \\n \\n \\n \\n', '\\n \\n \\n \\n \\n', '\\n \\n \\n \\n \\n', '\\n \\n \\n , \\n', '\\n \\n , \\n \\n', '\\n \\n \\n \\n \\n', '\\n \\n \\n \\n ,', '\\n \\n \\n \\n ,']\n"
     ]
    },
    {
     "name": "stderr",
     "output_type": "stream",
     "text": [
      "\r",
      " 10%|████████████▏                                                                                                           | 305/2999 [1:41:14<14:49:07, 19.80s/it]"
     ]
    },
    {
     "name": "stdout",
     "output_type": "stream",
     "text": [
      "['\\n \\n \\n \\n \\n', ', \\n \\n GoldMagikarp ,', '\\n \\n \\n \\n \\n', ', \\n \\n \\n \\n', '\\n \\n \\n \\n \\n', '\\n \\n \\n \\n \\n', '\\n \\n \\n \\n \\n', '\\n \\n \\n \\n \\n', '\\n \\n \\n \\n ,', '\\n \\n \\n \\n \\n', '\\n \\n , \\n ,', '\\n \\n \\n \\n \\n', ' stares , , , ,', '\\n \\n \\n \\n \\n', '\\n \\n \\n , \\n', '\\n \\n \\n \\n \\n']\n",
      "['\\n \\n \\n \\n \\n', '\\n \\n \\n , \\n', '\\n \\n \\n \\n \\n', '\\n \\n \\n \\n \\n', '\\n \\n \\n \\n ,', '\\n , \\n \\n \\n', '\\n \\n , \\n \\n', '\\n \\n , \\n \\n', '\\n \\n \\n \\n \\n', '\\n \\n \\n \\n \\n', '\\n \\n \\n \\n \\n', '\\n , \\n \\n \\n', '\\n \\n , \\n ,', '\\n \\n \\n \\n ,', '\\n \\n \\n , \\n', '\\n \\n , \\n \\n']\n"
     ]
    },
    {
     "name": "stderr",
     "output_type": "stream",
     "text": [
      "\r",
      " 10%|████████████▏                                                                                                           | 306/2999 [1:41:34<14:51:33, 19.86s/it]"
     ]
    },
    {
     "name": "stdout",
     "output_type": "stream",
     "text": [
      "[' disability , , \\n \\n', '\\n \\n \\n \\n \\n', '\\n \\n \\n \\n \\n', '\\n \\n \\n \\n \\n', '\\n \\n \\n \\n \\n', '\\n \\n , \\n \\n', 'Samsung , , \\n \\n', '\\n \\n \\n \\n \\n', '\\n \\n \\n \\n \\n', '\\n \\n \\n \\n \\n', '\\n \\n \\n \\n ,', '\\n \\n , , \\n', ' Samsung , , , \\n', '\\n \\n \\n \\n \\n', ' Haste , , , \\n', '\\n \\n \\n , \\n']\n",
      "['\\n \\n \\n \\n \\n', '\\n \\n , \\n \\n', '\\n \\n \\n \\n \\n', '\\n \\n \\n , \\n', '\\n \\n \\n \\n \\n', '\\n \\n \\n , \\n', '\\n \\n \\n \\n ,', '\\n \\n \\n , \\n', '\\n \\n \\n \\n ,', '\\n \\n \\n \\n \\n', '\\n \\n \\n \\n \\n', '\\n \\n \\n \\n \\n', '\\n \\n , \\n \\n', '\\n \\n \\n , \\n', ', \\n \\n \\n \\n', '\\n , \\n \\n \\n']\n"
     ]
    },
    {
     "name": "stderr",
     "output_type": "stream",
     "text": [
      "\r",
      " 10%|████████████▎                                                                                                           | 307/2999 [1:41:54<14:50:34, 19.85s/it]"
     ]
    },
    {
     "name": "stdout",
     "output_type": "stream",
     "text": [
      "['\\n \\n \\n \\n ,', '\\n \\n \\n \\n \\n', '\\n \\n \\n , \\n', '\\n \\n \\n \\n \\n', '\\n \\n \\n , \\n', '\\n \\n \\n \\n \\n', '\\n \\n \\n \\n \\n', '\\n , \\n \\n ,', '\\n \\n , \\n \\n', '\\n \\n \\n , \\n', '\\n \\n \\n \\n ,', '\\n \\n \\n \\n \\n', ' maximizing , , \\n \\n', ', \\n \\n \\n \\n', '\\n \\n \\n \\n \\n', '\\n \\n \\n , \\n']\n",
      "['\\n \\n , \\n \\n', '\\n \\n \\n \\n \\n', '\\n \\n \\n \\n ,', '\\n \\n \\n \\n ,', '\\n \\n \\n \\n \\n', '\\n \\n , \\n \\n', '\\n \\n , \\n \\n', '\\n , \\n \\n ,', '\\n \\n \\n \\n \\n', '\\n \\n \\n \\n \\n', '\\n \\n , \\n ,', '\\n \\n \\n , \\n', '\\n \\n \\n \\n \\n', '\\n \\n \\n \\n \\n', '\\n \\n \\n \\n \\n', '\\n \\n \\n \\n \\n']\n"
     ]
    },
    {
     "name": "stderr",
     "output_type": "stream",
     "text": [
      "\r",
      " 10%|████████████▎                                                                                                           | 308/2999 [1:42:14<14:49:01, 19.82s/it]"
     ]
    },
    {
     "name": "stdout",
     "output_type": "stream",
     "text": [
      "['ocking , , , \\n', '\\n \\n \\n \\n \\n', '\\n \\n \\n \\n \\n', '\\n \\n \\n \\n ,', '\\n \\n \\n \\n \\n', '\\n \\n , \\n \\n', '\\n \\n \\n , \\n', '\\n , \\n \\n \\n', '\\n \\n \\n \\n ,', '\\n \\n \\n \\n ,', '\\n \\n \\n \\n \\n', '\\n \\n \\n \\n \\n', '\\n \\n \\n , \\n', '\\n \\n \\n \\n \\n', '\\n \\n \\n , \\n', '\\n \\n \\n \\n \\n']\n",
      "['\\n \\n \\n \\n \\n', '\\n \\n \\n \\n \\n', '\\n \\n \\n , \\n', '\\n \\n \\n \\n \\n', '\\n \\n \\n \\n \\n', '\\n \\n , \\n ,', '\\n \\n , \\n \\n', ', \\n \\n \\n \\n', '\\n \\n , \\n ,', '\\n \\n \\n \\n \\n', '\\n \\n \\n \\n ,', '\\n \\n \\n \\n \\n', '\\n \\n \\n \\n \\n', '\\n \\n , \\n \\n', '\\n \\n \\n \\n \\n', '\\n \\n , \\n \\n']\n"
     ]
    },
    {
     "name": "stderr",
     "output_type": "stream",
     "text": [
      "\r",
      " 10%|████████████▎                                                                                                           | 309/2999 [1:42:33<14:47:01, 19.79s/it]"
     ]
    },
    {
     "name": "stdout",
     "output_type": "stream",
     "text": [
      "['\\n \\n \\n \\n ,', '\\n \\n \\n \\n \\n', ' Direct , , , \\n', ', \\n \\n \\n \\n', '\\n \\n \\n , \\n', '\\n \\n , \\n \\n', '\\n \\n \\n \\n \\n', '\\n \\n \\n \\n \\n', '\\n \\n , \\n \\n', ', \\n \\n \\n \\n', '\\n \\n \\n \\n \\n', '\\n \\n , \\n \\n', '\\n \\n , \\n \\n', '\\n \\n \\n \\n \\n', '\\n \\n \\n \\n \\n', '\\n \\n \\n \\n \\n']\n",
      "['\\n \\n \\n , \\n', '\\n \\n \\n , \\n', '\\n \\n \\n \\n ,', '\\n \\n \\n \\n \\n', '\\n \\n \\n \\n ,', '\\n , \\n \\n ,', '\\n \\n \\n \\n \\n', '\\n , \\n \\n \\n', '\\n \\n \\n \\n ,', '\\n \\n \\n \\n \\n', '\\n , , \\n ,', '\\n \\n , \\n \\n', '\\n \\n , \\n \\n', ', \\n \\n \\n \\n', '\\n \\n \\n \\n \\n', '\\n \\n \\n \\n \\n']\n"
     ]
    },
    {
     "name": "stderr",
     "output_type": "stream",
     "text": [
      "\r",
      " 10%|████████████▍                                                                                                           | 310/2999 [1:42:53<14:45:45, 19.76s/it]"
     ]
    },
    {
     "name": "stdout",
     "output_type": "stream",
     "text": [
      "['\\n \\n \\n \\n \\n', '\\n \\n \\n \\n \\n', ' bearer , , , \\n', '\\n \\n \\n \\n \\n', '\\n \\n \\n \\n \\n', '\\n \\n \\n \\n \\n', '\\n , \\n \\n \\n', ', \\n \\n \\n \\n', '\\n \\n \\n \\n \\n', '\\n \\n \\n \\n \\n', ', \\n GoldMagikarp , ,', '\\n \\n , \\n \\n', '\\n , \\n \\n ,', '\\n \\n \\n \\n \\n', '\\n \\n \\n \\n \\n', '\\n \\n \\n \\n \\n']\n",
      "['\\n \\n \\n \\n \\n', '\\n \\n \\n \\n \\n', '\\n \\n \\n \\n \\n', '\\n \\n \\n \\n \\n', '\\n \\n \\n \\n \\n', '\\n \\n , \\n \\n', '\\n \\n \\n \\n \\n', '\\n , \\n \\n \\n', '\\n \\n \\n \\n \\n', '\\n \\n \\n \\n \\n', '\\n \\n , \\n \\n', '\\n \\n , \\n ,', '\\n \\n , \\n \\n', '\\n \\n \\n , ,', '\\n \\n \\n , \\n', '\\n \\n \\n \\n \\n']\n"
     ]
    },
    {
     "name": "stderr",
     "output_type": "stream",
     "text": [
      "\r",
      " 10%|████████████▍                                                                                                           | 311/2999 [1:43:13<14:46:48, 19.79s/it]"
     ]
    },
    {
     "name": "stdout",
     "output_type": "stream",
     "text": [
      "43.79651641845703 0.515625\n",
      "['\\n \\n \\n \\n \\n', '\\n \\n \\n , \\n', '\\n \\n \\n \\n \\n', ' accum , , \\n \\n', '\\n \\n \\n \\n \\n', '\\n \\n , \\n \\n', '\\n \\n , \\n \\n', '\\n \\n \\n \\n \\n', '\\n \\n \\n \\n ,', '\\n \\n \\n \\n ,', '\\n \\n \\n \\n \\n', '\\n \\n \\n \\n \\n', '\\n \\n \\n , \\n', 'ere , , , \\n', '\\n \\n \\n \\n \\n', '\\n \\n \\n \\n \\n']\n",
      "['\\n \\n \\n \\n \\n', ', \\n \\n GoldMagikarp ,', '\\n \\n \\n \\n \\n', '\\n \\n , \\n \\n', '\\n \\n \\n \\n \\n', '\\n , \\n \\n \\n', ', \\n \\n \\n \\n', '\\n , \\n \\n \\n', '\\n \\n \\n \\n \\n', '\\n \\n \\n \\n \\n', '\\n \\n \\n \\n ,', '\\n \\n , , \\n', '\\n \\n \\n , \\n', '\\n \\n , \\n \\n', '\\n \\n \\n \\n \\n', '\\n \\n \\n \\n \\n']\n"
     ]
    },
    {
     "name": "stderr",
     "output_type": "stream",
     "text": [
      "\r",
      " 10%|████████████▍                                                                                                           | 312/2999 [1:43:33<14:45:50, 19.78s/it]"
     ]
    },
    {
     "name": "stdout",
     "output_type": "stream",
     "text": [
      "['\\n \\n \\n \\n \\n', '\\n \\n \\n \\n \\n', '\\n \\n \\n \\n \\n', ' accompan , , , \\n', '\\n \\n \\n \\n ,', '\\n \\n , \\n \\n', '\\n \\n \\n , \\n', '\\n \\n \\n \\n \\n', '\\n \\n \\n \\n \\n', '\\n \\n \\n \\n \\n', '\\n \\n \\n \\n \\n', '\\n , , \\n \\n', '\\n \\n , \\n \\n', '\\n \\n \\n \\n \\n', '\\n \\n \\n \\n \\n', '\\n \\n \\n \\n \\n']\n",
      "['\\n \\n \\n \\n \\n', '\\n \\n \\n \\n \\n', '\\n \\n \\n , \\n', '\\n \\n \\n \\n \\n', '\\n \\n \\n \\n \\n', '\\n \\n \\n \\n \\n', '\\n \\n \\n , \\n', '\\n \\n \\n \\n \\n', '\\n \\n , \\n \\n', '\\n \\n \\n \\n \\n', ', \\n \\n \\n \\n', '\\n \\n , \\n ,', '\\n \\n , \\n \\n', '\\n \\n \\n \\n \\n', '\\n \\n \\n \\n \\n', '\\n \\n \\n \\n \\n']\n"
     ]
    },
    {
     "name": "stderr",
     "output_type": "stream",
     "text": [
      "\r",
      " 10%|████████████▌                                                                                                           | 313/2999 [1:43:53<14:46:42, 19.81s/it]"
     ]
    },
    {
     "name": "stdout",
     "output_type": "stream",
     "text": [
      "['\\n \\n \\n \\n \\n', '\\n \\n \\n \\n \\n', ', \\n \\n \\n \\n', '\\n \\n \\n \\n \\n', '\\n \\n \\n , \\n', '\\n \\n , \\n \\n', '\\n \\n \\n \\n \\n', ' optional , , \\n \\n', '\\n \\n \\n \\n \\n', '\\n \\n \\n \\n \\n', '\\n \\n \\n , \\n', '\\n , , \\n \\n', '\\n \\n , \\n \\n', '\\n \\n \\n \\n \\n', '\\n \\n \\n \\n \\n', '\\n \\n \\n \\n \\n']\n",
      "['\\n \\n \\n \\n \\n', '\\n \\n \\n \\n \\n', '\\n \\n , \\n \\n', '\\n \\n , \\n \\n', '\\n \\n \\n \\n \\n', '\\n \\n , \\n \\n', '\\n \\n \\n \\n ,', '\\n \\n \\n \\n \\n', '\\n \\n \\n \\n \\n', '\\n \\n \\n \\n \\n', '\\n \\n \\n \\n \\n', '\\n \\n \\n \\n ,', '\\n \\n \\n \\n \\n', '\\n \\n \\n \\n \\n', '\\n \\n \\n \\n \\n', '\\n \\n \\n \\n \\n']\n"
     ]
    },
    {
     "name": "stderr",
     "output_type": "stream",
     "text": [
      "\r",
      " 10%|████████████▌                                                                                                           | 314/2999 [1:44:13<14:46:51, 19.82s/it]"
     ]
    },
    {
     "name": "stdout",
     "output_type": "stream",
     "text": [
      "['\\n \\n \\n \\n \\n', '\\n \\n \\n , \\n', '\\n \\n \\n \\n \\n', '\\n \\n \\n \\n \\n', '\\n \\n \\n \\n \\n', '\\n \\n , \\n \\n', '\\n \\n \\n \\n \\n', '\\n \\n , \\n \\n', '\\n \\n \\n , \\n', 'Just , , \\n \\n', ', , \\n \\n \\n', '\\n \\n , \\n \\n', '\\n \\n \\n \\n \\n', '\\n \\n \\n \\n \\n', '\\n \\n \\n , \\n', '\\n \\n \\n \\n \\n']\n",
      "['\\n \\n \\n , ,', '\\n \\n \\n , \\n', '\\n \\n \\n \\n \\n', '\\n \\n \\n , \\n', '\\n \\n \\n , \\n', '\\n \\n , \\n \\n', ', \\n \\n \\n \\n', '\\n \\n \\n \\n \\n', '\\n \\n \\n \\n \\n', '\\n \\n \\n \\n \\n', '\\n \\n \\n \\n \\n', '\\n \\n \\n \\n \\n', '\\n \\n \\n \\n \\n', '\\n \\n \\n \\n \\n', '\\n \\n \\n \\n \\n', ', \\n \\n \\n \\n']\n"
     ]
    },
    {
     "name": "stderr",
     "output_type": "stream",
     "text": [
      "\r",
      " 11%|████████████▌                                                                                                           | 315/2999 [1:44:32<14:46:15, 19.81s/it]"
     ]
    },
    {
     "name": "stdout",
     "output_type": "stream",
     "text": [
      "['\\n \\n \\n \\n \\n', '\\n \\n \\n , \\n', ' sacrifices , , \\n \\n', '\\n \\n \\n \\n \\n', '\\n \\n \\n , \\n', '\\n \\n , \\n \\n', '\\n \\n , \\n \\n', ' favorite , , \\n \\n', '\\n , \\n \\n \\n', '\\n \\n \\n \\n \\n', '\\n \\n \\n \\n \\n', '\\n \\n , \\n \\n', 'THE , , \\n \\n', '\\n \\n \\n \\n \\n', '\\n \\n \\n \\n \\n', '\\n \\n \\n \\n \\n']\n",
      "['\\n \\n \\n \\n \\n', '\\n \\n \\n \\n \\n', '\\n \\n \\n \\n \\n', ', \\n \\n \\n \\n', '\\n \\n \\n \\n \\n', '\\n \\n \\n \\n \\n', '\\n \\n \\n \\n \\n', '\\n \\n \\n \\n \\n', '\\n \\n , \\n \\n', '\\n \\n \\n \\n \\n', '\\n \\n , \\n \\n', '\\n \\n \\n \\n ,', '\\n \\n , \\n \\n', '\\n \\n \\n \\n \\n', '\\n \\n \\n \\n \\n', '\\n , \\n \\n ,']\n"
     ]
    },
    {
     "name": "stderr",
     "output_type": "stream",
     "text": [
      "\r",
      " 11%|████████████▋                                                                                                           | 316/2999 [1:44:52<14:44:58, 19.79s/it]"
     ]
    },
    {
     "name": "stdout",
     "output_type": "stream",
     "text": [
      "['\\n \\n \\n \\n \\n', '\\n \\n \\n \\n \\n', ' trail , , , \\n', '\\n \\n \\n \\n \\n', '\\n \\n \\n \\n \\n', '\\n \\n \\n \\n \\n', '� \\n \\n \\n \\n', '\\n \\n \\n \\n \\n', '\\n \\n \\n \\n \\n', ', \\n \\n \\n \\n', '\\n \\n \\n \\n \\n', ', , \\n \\n \\n', '\\n \\n \\n \\n \\n', '\\n \\n \\n , \\n', '\\n \\n \\n \\n \\n', '\\n \\n \\n , \\n']\n",
      "['\\n \\n \\n \\n \\n', '\\n \\n \\n \\n \\n', '\\n \\n \\n \\n \\n', '\\n \\n , \\n \\n', '\\n \\n \\n \\n \\n', '\\n \\n \\n \\n \\n', '\\n \\n \\n , \\n', '\\n \\n \\n \\n \\n', '\\n \\n , \\n \\n', '\\n \\n \\n , \\n', '\\n \\n \\n , \\n', '\\n \\n \\n , \\n', '\\n \\n \\n \\n ,', '\\n \\n \\n \\n \\n', '\\n \\n \\n \\n \\n', '\\n \\n \\n \\n \\n']\n"
     ]
    },
    {
     "name": "stderr",
     "output_type": "stream",
     "text": [
      "\r",
      " 11%|████████████▋                                                                                                           | 317/2999 [1:45:12<14:44:21, 19.78s/it]"
     ]
    },
    {
     "name": "stdout",
     "output_type": "stream",
     "text": [
      "['\\n \\n \\n \\n \\n', '\\n \\n \\n \\n \\n', '\\n \\n \\n \\n \\n', '\\n \\n , \\n \\n', ' arcane , , \\n \\n', '\\n \\n , \\n \\n', '\\n \\n \\n \\n \\n', '\\n \\n \\n \\n \\n', '\\n \\n \\n \\n \\n', '\\n \\n \\n \\n \\n', '\\n \\n \\n \\n \\n', ' Rubio , , , \\n', '\\n \\n , \\n \\n', ' Nobel , , , \\n', '\\n \\n \\n \\n ,', '\\n \\n \\n \\n \\n']\n",
      "['\\n \\n \\n \\n \\n', '\\n \\n \\n \\n \\n', '\\n \\n \\n \\n \\n', '\\n \\n , \\n \\n', '\\n \\n \\n \\n \\n', '\\n \\n , \\n \\n', ', \\n \\n \\n \\n', ', \\n \\n \\n \\n', '\\n \\n \\n , \\n', '\\n \\n \\n \\n \\n', '\\n \\n \\n , \\n', '\\n \\n \\n \\n \\n', '\\n \\n , \\n \\n', '\\n \\n \\n \\n \\n', '\\n \\n \\n \\n \\n', '\\n \\n \\n \\n \\n']\n"
     ]
    },
    {
     "name": "stderr",
     "output_type": "stream",
     "text": [
      "\r",
      " 11%|████████████▋                                                                                                           | 318/2999 [1:45:32<14:44:05, 19.79s/it]"
     ]
    },
    {
     "name": "stdout",
     "output_type": "stream",
     "text": [
      "['00200000 , \\n \\n \\n', '\\n \\n \\n , \\n', 'estamp , , \\n \\n', '\\n \\n , \\n \\n', '\\n \\n \\n , \\n', '\\n \\n , \\n \\n', '\\n \\n \\n \\n \\n', ', \\n \\n \\n \\n', '\\n \\n \\n \\n \\n', '\\n \\n \\n \\n ,', '\\n \\n \\n \\n ,', '\\n \\n , \\n \\n', '\\n \\n , \\n \\n', '\\n \\n \\n \\n ,', ' pathway , , \\n \\n', '\\n \\n , \\n \\n']\n",
      "[', \\n \\n \\n \\n', '\\n \\n \\n \\n \\n', '\\n \\n \\n \\n \\n', '\\n \\n \\n \\n \\n', '\\n \\n \\n \\n \\n', '\\n , \\n \\n ,', '\\n \\n \\n , \\n', ', \\n \\n \\n \\n', '\\n \\n , \\n \\n', '\\n \\n \\n \\n \\n', '\\n \\n \\n \\n \\n', '\\n \\n \\n \\n \\n', '\\n , \\n \\n \\n', '\\n \\n \\n \\n \\n', '\\n \\n \\n \\n \\n', '\\n \\n \\n \\n \\n']\n"
     ]
    },
    {
     "name": "stderr",
     "output_type": "stream",
     "text": [
      "\r",
      " 11%|████████████▊                                                                                                           | 319/2999 [1:45:51<14:41:44, 19.74s/it]"
     ]
    },
    {
     "name": "stdout",
     "output_type": "stream",
     "text": [
      "['\\n \\n \\n \\n \\n', '\\n \\n \\n , \\n', '\\n \\n \\n \\n \\n', '\\n \\n \\n , ,', '\\n \\n \\n , \\n', '\\n , \\n \\n \\n', '\\n \\n \\n \\n \\n', '\\n \\n \\n \\n ,', ' skip , , \\n \\n', '\\n \\n \\n \\n \\n', ' bypass , , \\n \\n', '\\n \\n \\n \\n \\n', '\\n , \\n \\n \\n', '\\n \\n \\n \\n \\n', '\\n \\n \\n \\n ,', '\\n \\n \\n \\n \\n']\n",
      "['\\n \\n \\n \\n \\n', '\\n \\n \\n \\n \\n', '\\n \\n \\n , \\n', '\\n , \\n \\n \\n', '\\n \\n \\n \\n \\n', '\\n \\n \\n \\n ,', '\\n \\n \\n , \\n', '\\n \\n \\n , \\n', '\\n \\n \\n \\n \\n', '\\n \\n \\n \\n \\n', '\\n \\n , \\n \\n', '\\n \\n \\n \\n \\n', '\\n \\n , \\n \\n', '\\n \\n \\n , \\n', '\\n \\n \\n \\n \\n', ', , \\n GoldMagikarp ,']\n"
     ]
    },
    {
     "name": "stderr",
     "output_type": "stream",
     "text": [
      "\r",
      " 11%|████████████▊                                                                                                           | 320/2999 [1:46:11<14:41:31, 19.74s/it]"
     ]
    },
    {
     "name": "stdout",
     "output_type": "stream",
     "text": [
      "[', \\n \\n \\n \\n', '\\n \\n \\n \\n \\n', '\\n \\n \\n \\n \\n', '\\n \\n \\n \\n \\n', '\\n \\n \\n \\n \\n', 'allion , , \\n \\n', '\\n \\n \\n \\n ,', '\\n \\n \\n \\n \\n', '\\n \\n \\n , \\n', '\\n \\n \\n \\n ,', '\\n \\n \\n , \\n', '\\n \\n , \\n \\n', '\\n \\n \\n \\n \\n', '\\n \\n \\n \\n \\n', '\\n \\n \\n \\n \\n', '\\n \\n \\n \\n \\n']\n",
      "['\\n \\n \\n \\n \\n', '\\n \\n \\n , \\n', '\\n \\n \\n \\n \\n', '\\n \\n \\n \\n \\n', '\\n \\n \\n \\n \\n', '\\n \\n \\n \\n \\n', '\\n \\n \\n \\n \\n', ', \\n \\n \\n \\n', '\\n \\n \\n , \\n', '\\n \\n \\n \\n \\n', '\\n \\n \\n \\n \\n', '\\n \\n , \\n \\n', '\\n \\n , \\n \\n', '\\n \\n \\n \\n \\n', '\\n \\n \\n \\n \\n', '\\n \\n , \\n \\n']\n"
     ]
    },
    {
     "name": "stderr",
     "output_type": "stream",
     "text": [
      "\r",
      " 11%|████████████▊                                                                                                           | 321/2999 [1:46:31<14:41:07, 19.74s/it]"
     ]
    },
    {
     "name": "stdout",
     "output_type": "stream",
     "text": [
      "38.33192443847656 0.53125\n",
      "['\\n \\n \\n \\n \\n', '\\n \\n \\n \\n \\n', ' quirks , , \\n \\n', '\\n \\n \\n \\n \\n', '\\n \\n \\n \\n \\n', '\\n , \\n \\n \\n', '\\n \\n \\n \\n \\n', '\\n \\n \\n \\n \\n', '\\n \\n , \\n \\n', '\\n \\n \\n \\n \\n', ', \\n \\n \\n \\n', '\\n \\n \\n \\n \\n', '\\n \\n , \\n \\n', '\\n \\n \\n \\n \\n', '\\n \\n \\n \\n \\n', ' Tulsa , , , \\n']\n",
      "['\\n \\n \\n \\n \\n', '\\n \\n \\n , \\n', '\\n \\n \\n \\n \\n', '\\n \\n \\n \\n ,', '\\n \\n \\n , \\n', '\\n \\n , \\n \\n', '\\n \\n , \\n \\n', '\\n \\n \\n \\n \\n', '\\n \\n \\n \\n \\n', '\\n \\n \\n \\n ,', '\\n \\n \\n \\n ,', '\\n \\n \\n \\n \\n', '\\n \\n \\n \\n \\n', '\\n \\n \\n \\n \\n', '\\n \\n \\n \\n \\n', ', \\n \\n GoldMagikarp ,']\n"
     ]
    },
    {
     "name": "stderr",
     "output_type": "stream",
     "text": [
      "\r",
      " 11%|████████████▉                                                                                                           | 322/2999 [1:46:51<14:41:41, 19.76s/it]"
     ]
    },
    {
     "name": "stdout",
     "output_type": "stream",
     "text": [
      "['\\n \\n \\n \\n \\n', '\\n \\n \\n \\n \\n', '\\n \\n , \\n \\n', '\\n \\n \\n \\n \\n', '\\n \\n \\n \\n \\n', '\\n , \\n \\n ,', '\\n \\n \\n \\n \\n', '\\n \\n \\n , \\n', '\\n \\n \\n \\n \\n', '\\n \\n \\n \\n \\n', '\\n \\n \\n \\n \\n', '\\n \\n \\n \\n \\n', '\\n \\n \\n \\n \\n', '\\n \\n \\n \\n \\n', '\\n \\n \\n \\n \\n', '\\n \\n \\n \\n \\n']\n",
      "['\\n \\n \\n \\n \\n', '\\n \\n \\n \\n \\n', '\\n \\n \\n \\n \\n', '\\n \\n \\n \\n \\n', '\\n \\n \\n \\n \\n', '\\n \\n , \\n \\n', '\\n \\n \\n \\n \\n', '\\n \\n \\n \\n \\n', '\\n \\n \\n \\n \\n', '\\n \\n \\n \\n \\n', '\\n \\n \\n \\n \\n', '\\n \\n \\n \\n \\n', '\\n \\n \\n , \\n', '\\n \\n \\n \\n \\n', '\\n \\n \\n \\n \\n', '\\n \\n \\n \\n \\n']\n"
     ]
    },
    {
     "name": "stderr",
     "output_type": "stream",
     "text": [
      "\r",
      " 11%|████████████▉                                                                                                           | 323/2999 [1:47:10<14:43:46, 19.82s/it]"
     ]
    },
    {
     "name": "stdout",
     "output_type": "stream",
     "text": [
      "['\\n \\n \\n \\n \\n', '\\n \\n \\n \\n \\n', '\\n \\n \\n \\n \\n', '\\n \\n \\n \\n \\n', '\\n \\n \\n , \\n', ' reimburse , , \\n \\n', '\\n \\n , \\n \\n', ', \\n \\n \\n \\n', '\\n \\n \\n \\n \\n', '\\n \\n \\n \\n \\n', '\\n \\n \\n \\n \\n', '\\n \\n \\n \\n \\n', '\\n \\n , \\n \\n', '\\n \\n \\n \\n \\n', '\\n \\n \\n \\n \\n', ' Fans , , \\n \\n']\n",
      "['\\n \\n \\n \\n \\n', '\\n \\n \\n \\n \\n', '\\n \\n , \\n \\n', '\\n \\n , \\n \\n', '\\n \\n \\n \\n \\n', '\\n \\n \\n \\n \\n', '\\n \\n , \\n \\n', ', \\n \\n , \\n', '\\n \\n \\n \\n \\n', '\\n \\n \\n \\n \\n', ', \\n GoldMagikarp , ,', '\\n \\n , \\n \\n', '\\n \\n \\n \\n \\n', '\\n \\n \\n \\n \\n', '\\n \\n \\n \\n \\n', '\\n \\n \\n \\n \\n']\n"
     ]
    },
    {
     "name": "stderr",
     "output_type": "stream",
     "text": [
      "\r",
      " 11%|████████████▉                                                                                                           | 324/2999 [1:47:30<14:43:06, 19.81s/it]"
     ]
    },
    {
     "name": "stdout",
     "output_type": "stream",
     "text": [
      "['\\n \\n \\n \\n \\n', '\\n \\n \\n \\n \\n', '\\n \\n \\n \\n \\n', '\\n \\n \\n \\n \\n', '\\n \\n \\n \\n \\n', '\\n \\n \\n \\n \\n', '\\n \\n \\n \\n \\n', '\\n \\n \\n \\n \\n', '\\n \\n \\n \\n \\n', '\\n \\n \\n \\n \\n', '\\n \\n \\n \\n \\n', '\\n \\n , \\n \\n', ' subparagraph , \\n \\n \\n', '\\n \\n \\n \\n \\n', '\\n \\n \\n \\n \\n', '\\n \\n \\n \\n \\n']\n",
      "[', \\n \\n \\n \\n', '\\n \\n \\n , \\n', '\\n \\n \\n \\n ,', '\\n \\n , \\n \\n', '\\n \\n \\n , \\n', '\\n \\n \\n , \\n', '\\n , \\n \\n \\n', '\\n \\n \\n , \\n', '\\n \\n \\n \\n \\n', '\\n \\n \\n \\n \\n', '\\n \\n \\n \\n \\n', '\\n \\n \\n \\n \\n', '\\n \\n , \\n \\n', '\\n \\n \\n \\n \\n', '\\n \\n \\n \\n \\n', '\\n \\n \\n \\n \\n']\n"
     ]
    },
    {
     "name": "stderr",
     "output_type": "stream",
     "text": [
      "\r",
      " 11%|█████████████                                                                                                           | 325/2999 [1:47:50<14:42:46, 19.81s/it]"
     ]
    },
    {
     "name": "stdout",
     "output_type": "stream",
     "text": [
      "['\\n \\n \\n \\n \\n', '\\n \\n \\n \\n \\n', '\\n \\n \\n \\n \\n', '\\n \\n \\n \\n \\n', '\\n \\n \\n \\n \\n', '\\n \\n \\n \\n \\n', '\\n \\n , \\n \\n', '\\n \\n \\n \\n \\n', '\\n \\n \\n \\n \\n', '\\n \\n \\n \\n \\n', '\\n \\n \\n \\n ,', '\\n \\n \\n \\n \\n', '\\n \\n \\n , \\n', ' Belichick , , \\n \\n', '\\n \\n \\n \\n \\n', '\\n \\n \\n \\n \\n']\n",
      "['\\n \\n \\n \\n \\n', '\\n \\n \\n \\n \\n', '\\n \\n , \\n \\n', '\\n \\n , \\n \\n', '\\n \\n \\n \\n \\n', '\\n \\n , \\n \\n', '\\n \\n \\n \\n \\n', '\\n \\n \\n \\n \\n', '\\n \\n \\n \\n \\n', '\\n \\n \\n \\n \\n', '\\n \\n , \\n \\n', '\\n \\n \\n \\n \\n', '\\n \\n , \\n \\n', '\\n \\n \\n \\n \\n', '\\n \\n \\n \\n \\n', '\\n \\n \\n \\n ,']\n"
     ]
    },
    {
     "name": "stderr",
     "output_type": "stream",
     "text": [
      "\r",
      " 11%|█████████████                                                                                                           | 326/2999 [1:48:10<14:43:58, 19.84s/it]"
     ]
    },
    {
     "name": "stdout",
     "output_type": "stream",
     "text": [
      "['\\n \\n \\n \\n \\n', '\\n \\n \\n \\n \\n', '\\n \\n \\n \\n \\n', '\\n \\n \\n , \\n', '\\n \\n \\n \\n ,', '\\n \\n \\n \\n \\n', '\\n \\n \\n \\n \\n', '\\n \\n \\n \\n \\n', '\\n \\n \\n \\n \\n', 'ated , , \\n \\n', '\\n \\n \\n \\n \\n', '\\n \\n , \\n \\n', '\\n \\n , \\n \\n', '\\n \\n \\n \\n \\n', '\\n , \\n \\n \\n', '\\n \\n \\n \\n \\n']\n",
      "['\\n \\n \\n \\n \\n', '\\n \\n \\n \\n \\n', '\\n \\n \\n \\n \\n', '\\n \\n , \\n \\n', '\\n \\n \\n , \\n', '\\n \\n \\n \\n \\n', '\\n \\n \\n \\n \\n', '\\n \\n \\n \\n ,', ', \\n GoldMagikarp , ,', '\\n , \\n \\n \\n', ', \\n \\n \\n \\n', '\\n , \\n \\n ,', '\\n \\n , \\n \\n', '\\n \\n \\n \\n \\n', '\\n \\n \\n \\n \\n', '\\n \\n \\n \\n \\n']\n"
     ]
    },
    {
     "name": "stderr",
     "output_type": "stream",
     "text": [
      "\r",
      " 11%|█████████████                                                                                                           | 327/2999 [1:48:30<14:43:20, 19.84s/it]"
     ]
    },
    {
     "name": "stdout",
     "output_type": "stream",
     "text": [
      "['\\n \\n \\n \\n \\n', '\\n \\n \\n \\n \\n', '\\n , \\n \\n ,', '\\n \\n \\n \\n \\n', '\\n \\n \\n \\n \\n', '\\n , \\n \\n \\n', '\\n \\n \\n \\n \\n', '\\n , \\n \\n ,', '653 , \\n \\n \\n', '\\n \\n \\n \\n \\n', '\\n , \\n \\n ,', '\\n , \\n \\n \\n', '\\n , \\n \\n \\n', '\\n \\n , \\n \\n', '\\n \\n \\n , \\n', '\\n \\n \\n \\n \\n']\n",
      "['\\n \\n \\n \\n \\n', '\\n \\n \\n \\n ,', '\\n \\n \\n \\n \\n', '\\n \\n \\n \\n \\n', '\\n \\n \\n \\n \\n', '\\n \\n , \\n \\n', '\\n \\n \\n \\n \\n', '\\n \\n , \\n \\n', '\\n \\n \\n \\n \\n', '\\n \\n \\n \\n \\n', '\\n \\n \\n \\n \\n', '\\n \\n \\n \\n \\n', '\\n , \\n \\n \\n', '\\n \\n \\n \\n ,', '\\n \\n \\n \\n \\n', '\\n \\n \\n \\n \\n']\n"
     ]
    },
    {
     "name": "stderr",
     "output_type": "stream",
     "text": [
      "\r",
      " 11%|█████████████                                                                                                           | 328/2999 [1:48:50<14:41:10, 19.79s/it]"
     ]
    },
    {
     "name": "stdout",
     "output_type": "stream",
     "text": [
      "['\\n \\n \\n \\n \\n', '\\n \\n \\n \\n \\n', '\\n \\n \\n \\n \\n', '\\n \\n \\n \\n \\n', '\\n \\n \\n \\n \\n', '\\n \\n \\n \\n \\n', '\\n \\n , \\n \\n', '\\n \\n \\n \\n \\n', ' math , , , \\n', '\\n \\n \\n \\n \\n', '\\n \\n \\n \\n \\n', '\\n \\n , \\n \\n', '\\n \\n \\n , \\n', '\\n \\n \\n \\n \\n', '\\n \\n \\n \\n \\n', '\\n \\n \\n \\n ,']\n",
      "['\\n \\n \\n \\n \\n', '\\n \\n \\n \\n \\n', '\\n \\n \\n , \\n', '\\n \\n \\n \\n \\n', '\\n \\n \\n \\n \\n', '\\n \\n , \\n \\n', '\\n \\n \\n \\n \\n', '\\n \\n \\n \\n \\n', '\\n \\n \\n , \\n', '\\n \\n \\n \\n \\n', '\\n \\n \\n \\n \\n', '\\n \\n , \\n \\n', ', , \\n \\n \\n', '\\n \\n \\n \\n \\n', '\\n \\n \\n \\n \\n', '\\n \\n \\n \\n \\n']\n"
     ]
    },
    {
     "name": "stderr",
     "output_type": "stream",
     "text": [
      "\r",
      " 11%|█████████████▏                                                                                                          | 329/2999 [1:49:09<14:40:56, 19.80s/it]"
     ]
    },
    {
     "name": "stdout",
     "output_type": "stream",
     "text": [
      "['\\n \\n \\n \\n \\n', '\\n \\n \\n \\n \\n', '\\n \\n \\n \\n \\n', '\\n \\n \\n , \\n', '\\n \\n \\n \\n \\n', '\\n \\n \\n \\n \\n', '\\n \\n , \\n \\n', '\\n \\n \\n \\n \\n', '\\n \\n \\n \\n \\n', '\\n \\n \\n \\n \\n', '\\n \\n \\n \\n \\n', 'Mike , , , \\n', '\\n \\n , \\n \\n', '\\n \\n \\n \\n \\n', '\\n \\n \\n \\n \\n', '\\n \\n \\n , \\n']\n",
      "['\\n \\n \\n \\n \\n', '\\n \\n \\n \\n \\n', '\\n \\n \\n \\n \\n', '\\n \\n \\n \\n \\n', '\\n \\n \\n , \\n', '\\n \\n , \\n \\n', '\\n \\n \\n \\n \\n', '\\n \\n \\n , \\n', '\\n \\n \\n \\n \\n', '\\n \\n \\n \\n \\n', '\\n \\n , \\n \\n', '\\n \\n \\n \\n \\n', '\\n \\n \\n \\n \\n', '\\n \\n \\n \\n \\n', '\\n \\n \\n \\n ,', '\\n \\n \\n \\n \\n']\n"
     ]
    },
    {
     "name": "stderr",
     "output_type": "stream",
     "text": [
      "\r",
      " 11%|█████████████▏                                                                                                          | 330/2999 [1:49:29<14:42:34, 19.84s/it]"
     ]
    },
    {
     "name": "stdout",
     "output_type": "stream",
     "text": [
      "['\\n \\n \\n \\n \\n', '\\n \\n \\n \\n \\n', '\\n \\n \\n \\n \\n', '\\n \\n \\n \\n \\n', '\\n \\n \\n \\n \\n', '\\n \\n , \\n \\n', '\\n , , \\n \\n', '\\n \\n \\n \\n \\n', ' electorate , , \\n \\n', '\\n \\n \\n \\n \\n', '\\n , \\n \\n \\n', '\\n \\n \\n \\n \\n', '\\n \\n \\n \\n \\n', '\\n \\n \\n \\n \\n', '\\n \\n \\n \\n \\n', '\\n \\n \\n \\n \\n']\n",
      "['\\n \\n \\n \\n \\n', '\\n \\n \\n \\n \\n', '\\n \\n \\n \\n \\n', '\\n \\n \\n \\n \\n', '\\n \\n \\n \\n \\n', '\\n \\n , \\n \\n', '\\n \\n \\n \\n \\n', '\\n \\n \\n \\n \\n', '\\n \\n , \\n ,', ', \\n \\n \\n \\n', '\\n \\n \\n \\n \\n', '\\n \\n \\n \\n \\n', '\\n \\n \\n \\n \\n', '\\n \\n \\n , \\n', '\\n \\n \\n \\n \\n', '\\n \\n \\n , \\n']\n"
     ]
    },
    {
     "name": "stderr",
     "output_type": "stream",
     "text": [
      "\r",
      " 11%|█████████████▏                                                                                                          | 331/2999 [1:49:49<14:42:22, 19.84s/it]"
     ]
    },
    {
     "name": "stdout",
     "output_type": "stream",
     "text": [
      "43.719608306884766 0.5\n",
      "['\\n \\n \\n \\n \\n', '\\n \\n \\n , \\n', '\\n \\n \\n \\n \\n', '\\n , \\n \\n \\n', '\\n \\n \\n \\n \\n', '\\n \\n \\n \\n \\n', '\\n \\n \\n \\n ,', ', \\n \\n \\n ,', '\\n \\n \\n \\n \\n', '\\n \\n \\n \\n \\n', '\\n \\n \\n \\n \\n', ' mit , , , \\n', '\\n \\n \\n \\n \\n', '\\n \\n \\n \\n \\n', '\\n \\n \\n \\n \\n', '\\n \\n , \\n \\n']\n",
      "['\\n \\n \\n \\n \\n', '\\n \\n \\n \\n \\n', '\\n \\n , \\n \\n', '\\n \\n \\n \\n \\n', '\\n \\n \\n \\n \\n', '\\n \\n , \\n \\n', '\\n \\n , \\n \\n', '\\n \\n \\n \\n \\n', '\\n \\n , \\n \\n', '\\n \\n \\n \\n \\n', '\\n \\n \\n , \\n', '\\n \\n , \\n \\n', '\\n \\n , \\n \\n', '\\n \\n \\n \\n \\n', '\\n \\n \\n \\n \\n', '\\n \\n , \\n \\n']\n"
     ]
    },
    {
     "name": "stderr",
     "output_type": "stream",
     "text": [
      "\r",
      " 11%|█████████████▎                                                                                                          | 332/2999 [1:50:09<14:42:50, 19.86s/it]"
     ]
    },
    {
     "name": "stdout",
     "output_type": "stream",
     "text": [
      "['\\n \\n \\n \\n \\n', ', \\n \\n \\n \\n', 'RC , , \\n \\n', '\\n , \\n \\n \\n', '\\n \\n \\n \\n \\n', '\\n \\n , , \\n', '\\n \\n , \\n \\n', ', \\n \\n \\n \\n', '\\n \\n \\n \\n \\n', '\\n \\n \\n \\n ,', ', \\n GoldMagikarp , ,', '\\n \\n \\n \\n \\n', ', , \\n \\n \\n', ' Musical , , , \\n', '\\n \\n \\n \\n \\n', '\\n \\n , \\n \\n']\n",
      "['\\n \\n \\n \\n \\n', ', \\n \\n \\n \\n', '\\n \\n \\n \\n \\n', '\\n \\n \\n , \\n', '\\n \\n \\n , \\n', '\\n \\n , \\n \\n', '\\n \\n , \\n ,', '\\n \\n \\n \\n \\n', '\\n \\n \\n \\n \\n', '\\n \\n \\n \\n \\n', '\\n \\n \\n \\n \\n', '\\n \\n \\n \\n \\n', '\\n \\n , \\n \\n', '\\n \\n , \\n \\n', '\\n \\n \\n \\n ,', '\\n \\n \\n \\n \\n']\n"
     ]
    },
    {
     "name": "stderr",
     "output_type": "stream",
     "text": [
      "\r",
      " 11%|█████████████▎                                                                                                          | 333/2999 [1:50:29<14:40:51, 19.82s/it]"
     ]
    },
    {
     "name": "stdout",
     "output_type": "stream",
     "text": [
      "['\\n \\n \\n \\n \\n', '\\n \\n \\n \\n \\n', '\\n \\n , \\n \\n', '\\n , \\n \\n \\n', '\\n \\n \\n \\n \\n', '\\n \\n \\n \\n \\n', '\\n \\n , \\n \\n', '\\n \\n \\n \\n \\n', ', \\n \\n \\n \\n', '\\n \\n \\n \\n ,', 'ices , , \\n GoldMagikarp', '\\n \\n , \\n \\n', '\\n , \\n \\n \\n', '\\n \\n \\n \\n \\n', '\\n \\n \\n \\n \\n', '\\n \\n \\n \\n \\n']\n",
      "['\\n \\n \\n \\n \\n', '\\n \\n \\n \\n \\n', '\\n \\n \\n \\n \\n', '\\n \\n \\n \\n \\n', '\\n \\n \\n \\n \\n', '\\n \\n , \\n \\n', '\\n \\n , \\n \\n', '\\n \\n \\n , \\n', '\\n \\n \\n \\n \\n', '\\n \\n \\n \\n \\n', '\\n \\n \\n , \\n', '\\n \\n , \\n \\n', '\\n \\n , \\n \\n', '\\n \\n \\n \\n \\n', '\\n \\n \\n \\n \\n', '\\n \\n \\n , \\n']\n"
     ]
    },
    {
     "name": "stderr",
     "output_type": "stream",
     "text": [
      "\r",
      " 11%|█████████████▎                                                                                                          | 334/2999 [1:50:49<14:39:38, 19.80s/it]"
     ]
    },
    {
     "name": "stdout",
     "output_type": "stream",
     "text": [
      "['\\n \\n \\n \\n \\n', '\\n \\n \\n \\n \\n', '\\n \\n \\n \\n \\n', '\\n \\n \\n , \\n', 'able , , \\n \\n', '\\n \\n , \\n \\n', '\\n \\n , \\n \\n', '\\n \\n \\n \\n \\n', '\\n \\n \\n \\n \\n', '\\n \\n \\n \\n \\n', '\\n \\n \\n \\n \\n', '\\n \\n \\n \\n \\n', '\\n \\n , \\n \\n', '\\n \\n \\n \\n \\n', '\\n \\n \\n , \\n', '\\n \\n \\n \\n \\n']\n",
      "['\\n , \\n \\n \\n', '\\n \\n \\n \\n \\n', '\\n \\n \\n \\n \\n', '\\n \\n \\n \\n \\n', '\\n \\n \\n \\n \\n', '\\n \\n , \\n \\n', '\\n \\n \\n , \\n', '\\n \\n \\n \\n \\n', '\\n \\n \\n \\n \\n', '\\n \\n \\n \\n \\n', '\\n \\n , \\n \\n', '\\n \\n , \\n \\n', ', \\n \\n \\n \\n', '\\n \\n \\n \\n \\n', '\\n \\n \\n \\n \\n', '\\n \\n \\n \\n \\n']\n"
     ]
    },
    {
     "name": "stderr",
     "output_type": "stream",
     "text": [
      "\r",
      " 11%|█████████████▍                                                                                                          | 335/2999 [1:51:08<14:39:01, 19.80s/it]"
     ]
    },
    {
     "name": "stdout",
     "output_type": "stream",
     "text": [
      "['\\n \\n \\n , \\n', '\\n \\n \\n \\n \\n', '\\n \\n \\n \\n \\n', '\\n , \\n \\n \\n', '\\n \\n \\n \\n \\n', '\\n \\n , \\n \\n', '\\n \\n \\n \\n \\n', '\\n \\n \\n \\n \\n', '\\n \\n \\n \\n \\n', 'dale , , , \\n', '\\n \\n \\n \\n ,', '\\n \\n \\n \\n \\n', '\\n , \\n , \\n', '\\n \\n \\n \\n \\n', '\\n \\n \\n \\n \\n', '\\n \\n \\n \\n \\n']\n",
      "['\\n \\n , \\n \\n', '\\n \\n , \\n \\n', '\\n \\n , \\n \\n', '\\n \\n \\n \\n \\n', '\\n \\n \\n \\n \\n', '\\n \\n , \\n \\n', '\\n \\n \\n \\n \\n', ', \\n \\n \\n \\n', '\\n \\n \\n \\n \\n', '\\n \\n \\n \\n \\n', '\\n \\n \\n \\n ,', '\\n \\n \\n \\n \\n', '\\n \\n \\n \\n \\n', '\\n \\n , \\n \\n', '\\n \\n \\n \\n \\n', ', \\n \\n \\n \\n']\n"
     ]
    },
    {
     "name": "stderr",
     "output_type": "stream",
     "text": [
      "\r",
      " 11%|█████████████▍                                                                                                          | 336/2999 [1:51:28<14:38:56, 19.80s/it]"
     ]
    },
    {
     "name": "stdout",
     "output_type": "stream",
     "text": [
      "['\\n \\n \\n \\n \\n', '\\n \\n \\n , \\n', '\\n \\n \\n \\n \\n', '\\n \\n \\n \\n \\n', '\\n \\n \\n \\n \\n', '\\n \\n \\n \\n \\n', '\\n \\n \\n \\n \\n', ' tight , , , \\n', '\\n \\n \\n \\n \\n', '\\n \\n \\n \\n \\n', 'Hyd , , , \\n', '\\n \\n , \\n \\n', '\\n \\n , \\n \\n', '\\n \\n \\n \\n \\n', '\\n \\n \\n \\n \\n', '\\n \\n \\n \\n \\n']\n",
      "['\\n \\n \\n \\n \\n', '\\n \\n \\n \\n \\n', '\\n \\n \\n \\n \\n', ', \\n \\n \\n \\n', '\\n \\n \\n \\n \\n', '\\n \\n \\n \\n \\n', ', \\n \\n \\n \\n', '\\n \\n \\n , \\n', '\\n \\n \\n \\n \\n', '\\n \\n \\n \\n \\n', '\\n \\n \\n \\n \\n', '\\n \\n \\n \\n \\n', '\\n \\n \\n \\n \\n', '\\n \\n \\n \\n \\n', ', \\n GoldMagikarp , ,', '\\n \\n \\n \\n \\n']\n"
     ]
    },
    {
     "name": "stderr",
     "output_type": "stream",
     "text": [
      "\r",
      " 11%|█████████████▍                                                                                                          | 337/2999 [1:51:48<14:38:59, 19.81s/it]"
     ]
    },
    {
     "name": "stdout",
     "output_type": "stream",
     "text": [
      "['\\n \\n \\n \\n \\n', '\\n \\n \\n \\n \\n', '\\n \\n \\n \\n \\n', '\\n \\n \\n \\n \\n', '\\n \\n \\n \\n \\n', '572 , \\n \\n \\n', '\\n \\n \\n \\n \\n', '\\n \\n \\n \\n \\n', '\\n \\n \\n \\n \\n', '\\n \\n \\n \\n \\n', ' Outlook , , \\n \\n', '\\n \\n , \\n \\n', ', , \\n \\n GoldMagikarp', '\\n , \\n \\n \\n', '\\n \\n \\n \\n ,', '\\n \\n \\n \\n \\n']\n",
      "['\\n \\n \\n \\n ,', ', \\n \\n GoldMagikarp ,', '\\n \\n \\n \\n ,', '\\n \\n \\n \\n \\n', '\\n \\n \\n \\n \\n', '\\n \\n \\n \\n \\n', '\\n \\n \\n \\n \\n', '\\n \\n \\n \\n \\n', '\\n \\n \\n , \\n', ', \\n \\n \\n \\n', '\\n \\n \\n \\n \\n', '\\n \\n \\n \\n \\n', '\\n \\n \\n \\n \\n', '\\n \\n \\n \\n \\n', '\\n \\n \\n \\n \\n', '\\n \\n \\n \\n \\n']\n"
     ]
    },
    {
     "name": "stderr",
     "output_type": "stream",
     "text": [
      "\r",
      " 11%|█████████████▌                                                                                                          | 338/2999 [1:52:08<14:39:12, 19.82s/it]"
     ]
    },
    {
     "name": "stdout",
     "output_type": "stream",
     "text": [
      "[', \\n \\n \\n \\n', '\\n \\n \\n \\n \\n', '\\n \\n \\n , \\n', '\\n \\n \\n \\n \\n', '\\n \\n \\n \\n \\n', '\\n \\n \\n , \\n', '\\n \\n \\n \\n \\n', '\\n \\n , \\n \\n', '\\n \\n , \\n \\n', '\\n \\n \\n \\n \\n', '\\n \\n , \\n \\n', '\\n \\n \\n , \\n', '\\n \\n \\n \\n \\n', '\\n \\n \\n \\n \\n', '\\n \\n \\n , \\n', '\\n \\n \\n \\n \\n']\n",
      "['\\n \\n \\n \\n \\n', '\\n \\n \\n \\n ,', '\\n \\n \\n \\n \\n', '\\n \\n \\n \\n \\n', '\\n \\n \\n \\n \\n', '\\n \\n , , \\n', '\\n \\n \\n \\n \\n', '\\n \\n \\n \\n \\n', '\\n \\n \\n \\n \\n', '\\n \\n \\n \\n \\n', ', \\n GoldMagikarp , ,', '\\n \\n \\n \\n \\n', ', \\n \\n \\n \\n', '\\n \\n \\n \\n \\n', '\\n \\n \\n \\n \\n', ', \\n \\n \\n \\n']\n"
     ]
    },
    {
     "name": "stderr",
     "output_type": "stream",
     "text": [
      "\r",
      " 11%|█████████████▌                                                                                                          | 339/2999 [1:52:28<14:39:05, 19.83s/it]"
     ]
    },
    {
     "name": "stdout",
     "output_type": "stream",
     "text": [
      "['\\n \\n \\n , \\n', '\\n \\n \\n , \\n', '\\n \\n \\n \\n \\n', '\\n \\n \\n \\n \\n', ' connections , , \\n \\n', '\\n \\n , \\n \\n', '\\n \\n \\n \\n \\n', '\\n \\n \\n , \\n', ' relocation , , \\n \\n', '\\n \\n \\n \\n \\n', ', \\n GoldMagikarp , ,', '\\n \\n , \\n \\n', '\\n \\n , \\n \\n', '\\n \\n , \\n \\n', '\\n \\n \\n \\n \\n', '\\n \\n \\n \\n \\n']\n",
      "['\\n \\n \\n \\n \\n', ', \\n \\n GoldMagikarp ,', '\\n \\n \\n \\n \\n', '\\n \\n \\n \\n \\n', '\\n \\n \\n \\n \\n', '\\n \\n \\n \\n \\n', '\\n \\n , \\n \\n', '\\n \\n \\n \\n \\n', '\\n \\n , \\n ,', '\\n \\n \\n , \\n', '\\n \\n \\n \\n \\n', '\\n \\n , \\n \\n', '\\n \\n , \\n \\n', '\\n \\n \\n \\n \\n', '\\n \\n \\n \\n \\n', '\\n \\n \\n \\n \\n']\n"
     ]
    },
    {
     "name": "stderr",
     "output_type": "stream",
     "text": [
      "\r",
      " 11%|█████████████▌                                                                                                          | 340/2999 [1:52:47<14:37:28, 19.80s/it]"
     ]
    },
    {
     "name": "stdout",
     "output_type": "stream",
     "text": [
      "['\\n \\n \\n , \\n', '\\n \\n \\n \\n \\n', '\\n \\n \\n \\n \\n', '\\n \\n , \\n \\n', '\\n \\n \\n \\n \\n', '\\n \\n , \\n \\n', '\\n \\n \\n \\n \\n', 'Run , , \\n \\n', '\\n \\n \\n \\n \\n', '\\n \\n \\n \\n \\n', '\\n \\n \\n \\n \\n', '\\n \\n , \\n \\n', '\\n \\n , \\n \\n', '\\n \\n \\n \\n \\n', ' chilled , , \\n \\n', '\\n \\n \\n \\n \\n']\n",
      "['\\n \\n \\n , \\n', '\\n \\n , \\n \\n', '\\n , \\n \\n \\n', '\\n \\n \\n \\n \\n', '\\n \\n \\n \\n ,', '\\n \\n \\n \\n \\n', '\\n \\n \\n \\n \\n', ', \\n \\n \\n \\n', ', \\n \\n \\n \\n', '\\n \\n \\n \\n \\n', '\\n \\n \\n , \\n', '\\n \\n \\n \\n \\n', '\\n \\n \\n \\n ,', '\\n \\n , \\n \\n', '\\n \\n \\n \\n \\n', '\\n , \\n \\n \\n']\n"
     ]
    },
    {
     "name": "stderr",
     "output_type": "stream",
     "text": [
      "\r",
      " 11%|█████████████▋                                                                                                          | 341/2999 [1:53:07<14:36:33, 19.79s/it]"
     ]
    },
    {
     "name": "stdout",
     "output_type": "stream",
     "text": [
      "49.72193908691406 0.5\n",
      "['\\n \\n \\n \\n \\n', '\\n \\n \\n \\n \\n', '\\n \\n \\n \\n \\n', '\\n \\n , \\n \\n', '\\n \\n \\n \\n \\n', '\\n \\n \\n \\n ,', '\\n \\n \\n \\n \\n', '\\n \\n , \\n \\n', '\\n \\n \\n , \\n', '\\n \\n \\n \\n \\n', '\\n \\n , \\n \\n', '\\n \\n , \\n \\n', '\\n \\n , \\n \\n', 'itute , , \\n \\n', '\\n \\n \\n \\n ,', '\\n \\n \\n \\n \\n']\n",
      "['\\n \\n \\n \\n \\n', '\\n \\n \\n \\n \\n', '\\n \\n \\n \\n \\n', '\\n \\n \\n \\n \\n', '\\n \\n , \\n \\n', '\\n , \\n \\n ,', '\\n \\n \\n \\n \\n', ', \\n \\n \\n \\n', '\\n \\n , \\n \\n', '\\n \\n \\n \\n \\n', '\\n \\n \\n \\n \\n', '\\n \\n , \\n \\n', '\\n \\n , \\n \\n', '\\n \\n \\n \\n \\n', '\\n \\n \\n \\n \\n', ', \\n \\n \\n \\n']\n"
     ]
    },
    {
     "name": "stderr",
     "output_type": "stream",
     "text": [
      "\r",
      " 11%|█████████████▋                                                                                                          | 342/2999 [1:53:27<14:36:23, 19.79s/it]"
     ]
    },
    {
     "name": "stdout",
     "output_type": "stream",
     "text": [
      "['\\n \\n \\n \\n \\n', '\\n \\n \\n \\n \\n', '\\n \\n \\n , \\n', '\\n \\n \\n \\n \\n', '\\n \\n \\n \\n \\n', '\\n \\n , \\n \\n', '\\n \\n \\n \\n \\n', ', \\n \\n \\n \\n', '\\n \\n \\n \\n \\n', ', \\n GoldMagikarp , ,', '\\n \\n , \\n \\n', ' tangled , , \\n \\n', '\\n \\n , \\n \\n', 'anuts , , \\n \\n', '\\n \\n \\n \\n \\n', '\\n \\n \\n \\n \\n']\n",
      "['\\n \\n \\n \\n \\n', '\\n \\n \\n \\n \\n', '\\n \\n \\n \\n \\n', '\\n \\n \\n \\n \\n', '\\n \\n \\n \\n \\n', '\\n \\n , \\n \\n', '\\n \\n \\n \\n \\n', ', \\n \\n \\n \\n', '\\n \\n , \\n \\n', '\\n \\n \\n \\n \\n', '\\n \\n , , \\n', '\\n \\n \\n \\n \\n', '\\n \\n \\n \\n \\n', '\\n \\n \\n \\n \\n', '\\n \\n \\n \\n \\n', '\\n \\n , \\n \\n']\n"
     ]
    },
    {
     "name": "stderr",
     "output_type": "stream",
     "text": [
      "\r",
      " 11%|█████████████▋                                                                                                          | 343/2999 [1:53:47<14:35:54, 19.79s/it]"
     ]
    },
    {
     "name": "stdout",
     "output_type": "stream",
     "text": [
      "['\\n \\n \\n \\n \\n', '\\n \\n \\n \\n \\n', '7601 , \\n \\n \\n', '\\n \\n \\n , \\n', '\\n \\n \\n \\n \\n', '\\n \\n , \\n \\n', '\\n \\n \\n \\n \\n', '\\n \\n \\n \\n \\n', '\\n \\n \\n \\n ,', ' occupant , , \\n \\n', '\\n \\n \\n \\n \\n', '\\n \\n , \\n \\n', '\\n \\n , \\n \\n', '\\n \\n \\n \\n \\n', '\\n \\n \\n \\n \\n', '\\n \\n \\n , \\n']\n",
      "['\\n \\n \\n \\n \\n', '\\n \\n \\n , \\n', '\\n \\n \\n \\n \\n', '\\n \\n \\n , \\n', '\\n \\n \\n \\n \\n', '\\n \\n , \\n \\n', '\\n \\n \\n , \\n', '\\n \\n \\n \\n \\n', '\\n \\n \\n \\n \\n', '\\n \\n \\n \\n \\n', '\\n \\n \\n \\n \\n', '\\n \\n , \\n \\n', '\\n \\n \\n \\n \\n', '\\n \\n \\n , \\n', '\\n \\n \\n \\n \\n', '\\n \\n \\n , \\n']\n"
     ]
    },
    {
     "name": "stderr",
     "output_type": "stream",
     "text": [
      "\r",
      " 11%|█████████████▊                                                                                                          | 344/2999 [1:54:07<14:36:44, 19.81s/it]"
     ]
    },
    {
     "name": "stdout",
     "output_type": "stream",
     "text": [
      "['\\n \\n \\n \\n \\n', '\\n \\n \\n \\n \\n', '\\n \\n \\n , \\n', '\\n \\n \\n \\n ,', '\\n \\n \\n \\n \\n', '\\n , \\n \\n \\n', '\\n \\n , \\n \\n', '\\n \\n \\n \\n \\n', '\\n \\n , \\n \\n', '\\n \\n \\n \\n ,', '\\n \\n \\n \\n \\n', ' Swanson , , , ,', 'Catholic , , \\n \\n', ', \\n \\n GoldMagikarp ,', 'io , \\n \\n \\n', ', \\n \\n \\n \\n']\n",
      "['\\n \\n \\n \\n \\n', '\\n \\n \\n \\n \\n', '\\n \\n , \\n \\n', ', \\n \\n \\n \\n', '\\n \\n \\n \\n \\n', '\\n , \\n \\n \\n', '\\n \\n \\n \\n \\n', '\\n \\n \\n \\n \\n', '\\n \\n \\n \\n \\n', '\\n , \\n \\n \\n', '\\n \\n \\n \\n \\n', '\\n \\n \\n \\n \\n', '\\n \\n \\n \\n \\n', '\\n \\n \\n \\n \\n', '\\n \\n \\n \\n \\n', '\\n \\n \\n , \\n']\n"
     ]
    },
    {
     "name": "stderr",
     "output_type": "stream",
     "text": [
      "\r",
      " 12%|█████████████▊                                                                                                          | 345/2999 [1:54:26<14:35:40, 19.80s/it]"
     ]
    },
    {
     "name": "stdout",
     "output_type": "stream",
     "text": [
      "['\\n \\n \\n \\n \\n', ', , \\n \\n \\n', '\\n \\n \\n \\n \\n', '\\n \\n \\n \\n \\n', '\\n \\n \\n \\n \\n', '\\n \\n , \\n \\n', '\\n \\n \\n \\n \\n', '\\n \\n \\n \\n \\n', '\\n \\n , \\n \\n', '\\n \\n \\n \\n \\n', '\\n \\n \\n \\n ,', '\\n \\n \\n \\n \\n', '\\n \\n \\n \\n \\n', ' Vatican , , , \\n', '\\n \\n \\n \\n \\n', ', \\n \\n \\n \\n']\n",
      "['\\n \\n \\n \\n \\n', '\\n \\n \\n \\n \\n', '\\n \\n \\n \\n \\n', '\\n \\n \\n \\n \\n', '\\n \\n \\n \\n \\n', '\\n \\n \\n \\n \\n', '\\n \\n \\n \\n \\n', '\\n \\n \\n \\n \\n', '\\n \\n \\n \\n \\n', '\\n \\n \\n \\n \\n', '\\n \\n \\n \\n \\n', '\\n \\n , \\n \\n', '\\n \\n \\n \\n \\n', '\\n \\n \\n \\n \\n', '\\n \\n \\n \\n \\n', '\\n \\n \\n \\n \\n']\n"
     ]
    },
    {
     "name": "stderr",
     "output_type": "stream",
     "text": [
      "\r",
      " 12%|█████████████▊                                                                                                          | 346/2999 [1:54:46<14:35:20, 19.80s/it]"
     ]
    },
    {
     "name": "stdout",
     "output_type": "stream",
     "text": [
      "[' Malays , , , \\n', '\\n \\n \\n \\n \\n', '\\n \\n \\n \\n \\n', '\\n \\n \\n \\n \\n', 'nova , , \\n \\n', '\\n \\n , \\n \\n', '\\n \\n , \\n \\n', '\\n \\n \\n \\n \\n', '\\n \\n , \\n \\n', '\\n \\n \\n \\n \\n', ', \\n \\n \\n \\n', '\\n \\n , \\n \\n', '\\n \\n \\n \\n \\n', '\\n \\n \\n \\n \\n', ' salute , , \\n \\n', '\\n \\n \\n \\n \\n']\n",
      "['\\n \\n \\n , \\n', '\\n \\n \\n \\n \\n', '\\n \\n \\n \\n \\n', '\\n \\n \\n , \\n', '\\n \\n \\n , \\n', '\\n \\n \\n \\n \\n', '\\n \\n \\n \\n \\n', '\\n \\n \\n \\n \\n', '\\n \\n \\n \\n \\n', '\\n \\n \\n \\n \\n', '\\n \\n , \\n \\n', '\\n \\n \\n \\n \\n', ', , \\n GoldMagikarp ,', '\\n \\n \\n \\n \\n', '\\n \\n \\n \\n \\n', '\\n \\n \\n \\n \\n']\n"
     ]
    },
    {
     "name": "stderr",
     "output_type": "stream",
     "text": [
      "\r",
      " 12%|█████████████▉                                                                                                          | 347/2999 [1:55:06<14:34:38, 19.79s/it]"
     ]
    },
    {
     "name": "stdout",
     "output_type": "stream",
     "text": [
      "[', \\n \\n \\n \\n', '\\n \\n \\n GoldMagikarp ,', '\\n \\n \\n \\n \\n', '\\n \\n \\n \\n \\n', '\\n \\n \\n \\n \\n', '\\n \\n \\n , \\n', '\\n \\n \\n \\n \\n', '\\n \\n \\n , \\n', '\\n \\n \\n \\n \\n', '\\n \\n \\n \\n \\n', ', \\n GoldMagikarp , ,', '\\n \\n , \\n \\n', '\\n \\n , \\n \\n', '\\n \\n \\n , \\n', ', \\n \\n \\n \\n', '\\n \\n \\n \\n \\n']\n",
      "['\\n \\n \\n \\n \\n', '\\n \\n \\n \\n ,', '\\n \\n \\n \\n \\n', '\\n , \\n \\n ,', '\\n \\n \\n \\n \\n', '\\n \\n \\n \\n \\n', '\\n \\n \\n \\n \\n', '\\n \\n \\n \\n \\n', '\\n \\n \\n \\n \\n', '\\n \\n \\n \\n \\n', '\\n \\n \\n , \\n', '\\n \\n , \\n \\n', ', , \\n \\n \\n', ', \\n \\n \\n \\n', ', \\n \\n \\n \\n', '\\n \\n \\n , \\n']\n"
     ]
    },
    {
     "name": "stderr",
     "output_type": "stream",
     "text": [
      "\r",
      " 12%|█████████████▉                                                                                                          | 348/2999 [1:55:26<14:34:32, 19.79s/it]"
     ]
    },
    {
     "name": "stdout",
     "output_type": "stream",
     "text": [
      "['\\n \\n \\n \\n \\n', '\\n \\n \\n \\n \\n', '\\n \\n \\n \\n \\n', '\\n , \\n \\n \\n', 'represent , , \\n \\n', '\\n \\n \\n \\n \\n', '\\n \\n \\n \\n \\n', '\\n \\n \\n \\n \\n', '\\n \\n , \\n \\n', '\\n \\n \\n \\n \\n', ' Airlines , , \\n \\n', ' satisfying , , \\n \\n', '\\n \\n \\n \\n \\n', '\\n \\n \\n \\n \\n', '\\n \\n \\n \\n \\n', '\\n \\n \\n \\n \\n']\n",
      "['\\n \\n \\n \\n \\n', '\\n \\n \\n \\n \\n', '\\n \\n \\n \\n \\n', '\\n \\n \\n \\n \\n', '\\n \\n \\n \\n \\n', '\\n \\n , \\n \\n', '\\n \\n , \\n \\n', '\\n \\n \\n \\n \\n', '\\n \\n \\n \\n \\n', '\\n \\n \\n \\n \\n', '\\n \\n \\n \\n \\n', '\\n \\n , \\n \\n', ', , \\n \\n \\n', '\\n \\n , \\n \\n', ', \\n \\n \\n \\n', '\\n \\n \\n \\n \\n']\n"
     ]
    },
    {
     "name": "stderr",
     "output_type": "stream",
     "text": [
      "\r",
      " 12%|█████████████▉                                                                                                          | 349/2999 [1:55:46<14:34:30, 19.80s/it]"
     ]
    },
    {
     "name": "stdout",
     "output_type": "stream",
     "text": [
      "[', \\n \\n \\n \\n', '\\n \\n \\n \\n \\n', '\\n \\n \\n \\n \\n', '\\n \\n \\n \\n \\n', '\\n \\n \\n \\n \\n', '\\n , \\n \\n \\n', '\\n \\n \\n \\n \\n', ' sins , , , \\n', '\\n \\n \\n \\n \\n', '\\n \\n \\n \\n \\n', '\\n \\n \\n \\n \\n', '\\n , \\n \\n ,', '\\n \\n , \\n \\n', '\\n \\n \\n \\n \\n', '\\n \\n \\n \\n \\n', '\\n \\n \\n \\n ,']\n",
      "['\\n \\n \\n \\n \\n', '\\n \\n \\n \\n ,', '\\n \\n \\n \\n \\n', '\\n \\n \\n , \\n', '\\n \\n \\n \\n ,', '\\n \\n , \\n \\n', '\\n \\n \\n \\n ,', '\\n \\n \\n \\n \\n', '\\n \\n \\n \\n \\n', '\\n \\n \\n \\n \\n', '\\n , \\n \\n \\n', '\\n \\n \\n \\n \\n', '\\n \\n \\n \\n \\n', '\\n \\n \\n \\n \\n', '\\n \\n \\n \\n \\n', ', \\n \\n \\n \\n']\n"
     ]
    },
    {
     "name": "stderr",
     "output_type": "stream",
     "text": [
      "\r",
      " 12%|██████████████                                                                                                          | 350/2999 [1:56:05<14:32:25, 19.76s/it]"
     ]
    },
    {
     "name": "stdout",
     "output_type": "stream",
     "text": [
      "['\\n \\n \\n \\n \\n', '\\n \\n \\n \\n \\n', '\\n \\n \\n , \\n', '\\n \\n \\n \\n \\n', '\\n \\n \\n \\n \\n', '\\n \\n \\n \\n \\n', '\\n \\n , \\n \\n', ', \\n \\n \\n \\n', '\\n \\n \\n \\n \\n', '\\n \\n \\n \\n \\n', '\\n \\n \\n \\n \\n', '\\n \\n \\n , \\n', '\\n \\n \\n \\n \\n', ' desktop , , \\n \\n', '\\n \\n \\n , \\n', '\\n \\n \\n \\n \\n']\n",
      "['\\n \\n \\n \\n \\n', '\\n \\n \\n \\n \\n', '\\n \\n \\n \\n \\n', '\\n \\n \\n \\n \\n', '\\n \\n \\n \\n \\n', '\\n \\n \\n \\n \\n', '\\n \\n \\n , \\n', '\\n \\n \\n , \\n', '\\n \\n \\n \\n \\n', '\\n \\n \\n \\n \\n', '\\n \\n \\n , \\n', '\\n \\n , \\n \\n', '\\n \\n \\n \\n \\n', '\\n \\n \\n \\n \\n', ', \\n \\n \\n \\n', '\\n \\n \\n \\n \\n']\n"
     ]
    },
    {
     "name": "stderr",
     "output_type": "stream",
     "text": [
      "\r",
      " 12%|██████████████                                                                                                          | 351/2999 [1:56:25<14:29:18, 19.70s/it]"
     ]
    },
    {
     "name": "stdout",
     "output_type": "stream",
     "text": [
      "32.319419860839844 0.5\n",
      "['\\n \\n \\n \\n \\n', ', \\n \\n \\n \\n', '\\n \\n \\n , \\n', '\\n \\n , \\n \\n', '\\n \\n \\n \\n \\n', '\\n \\n \\n \\n \\n', '\\n \\n , \\n \\n', ' incompatible , , \\n \\n', '\\n \\n \\n \\n \\n', '\\n \\n \\n \\n \\n', ', \\n \\n \\n \\n', '\\n \\n \\n \\n \\n', '\\n , \\n \\n \\n', '\\n \\n \\n , \\n', '\\n \\n \\n \\n \\n', '\\n \\n \\n \\n \\n']\n",
      "['\\n \\n \\n \\n ,', '\\n \\n , \\n \\n', '\\n \\n \\n , \\n', '\\n \\n \\n , \\n', '\\n \\n , \\n \\n', '\\n \\n , \\n \\n', '\\n \\n \\n \\n \\n', ', \\n \\n \\n \\n', '\\n \\n \\n \\n \\n', '\\n \\n \\n \\n \\n', '\\n \\n \\n , \\n', '\\n \\n , \\n \\n', '\\n , \\n \\n \\n', '\\n \\n \\n \\n \\n', '\\n \\n \\n \\n \\n', '\\n , \\n \\n \\n']\n"
     ]
    },
    {
     "name": "stderr",
     "output_type": "stream",
     "text": [
      "\r",
      " 12%|██████████████                                                                                                          | 352/2999 [1:56:44<14:26:23, 19.64s/it]"
     ]
    },
    {
     "name": "stdout",
     "output_type": "stream",
     "text": [
      "[', \\n \\n \\n \\n', '\\n \\n \\n , \\n', '\\n \\n \\n \\n \\n', '\\n \\n \\n \\n \\n', '\\n \\n \\n \\n \\n', '\\n \\n , \\n \\n', 'Diff , , \\n \\n', '\\n \\n \\n \\n \\n', '\\n \\n \\n \\n \\n', '\\n \\n \\n \\n \\n', ' scars , , , ,', '\\n \\n \\n , \\n', '\\n \\n , \\n \\n', ', \\n \\n \\n \\n', '\\n \\n \\n \\n \\n', ', \\n \\n \\n \\n']\n",
      "['\\n \\n \\n \\n \\n', '\\n \\n \\n , \\n', '\\n \\n \\n \\n \\n', ', \\n \\n \\n \\n', '\\n \\n \\n \\n \\n', '\\n \\n \\n \\n \\n', '\\n \\n \\n \\n \\n', '\\n \\n \\n \\n \\n', '\\n \\n \\n \\n \\n', '\\n , \\n \\n \\n', ', , \\n \\n GoldMagikarp', '\\n \\n , \\n \\n', '\\n \\n , \\n \\n', '\\n \\n , \\n \\n', ', \\n \\n GoldMagikarp ,', '\\n \\n \\n \\n \\n']\n"
     ]
    },
    {
     "name": "stderr",
     "output_type": "stream",
     "text": [
      "\r",
      " 12%|██████████████                                                                                                          | 353/2999 [1:57:04<14:24:29, 19.60s/it]"
     ]
    },
    {
     "name": "stdout",
     "output_type": "stream",
     "text": [
      "['\\n \\n \\n \\n \\n', '\\n \\n \\n , \\n', '\\n \\n \\n \\n ,', ' Ply , , , \\n', '\\n \\n \\n , \\n', '\\n \\n \\n \\n \\n', '\\n \\n \\n \\n \\n', '\\n \\n , \\n \\n', '\\n \\n \\n \\n \\n', '\\n \\n \\n \\n \\n', '\\n \\n \\n \\n \\n', '\\n , \\n \\n \\n', '\\n \\n \\n \\n ,', '\\n \\n \\n \\n \\n', '\\n \\n \\n , \\n', '\\n \\n \\n \\n ,']\n",
      "['\\n \\n \\n \\n ,', ', \\n \\n \\n \\n', '\\n \\n \\n , \\n', '\\n \\n \\n \\n \\n', '\\n \\n \\n \\n \\n', '\\n \\n , \\n \\n', '\\n \\n \\n \\n \\n', '\\n \\n \\n \\n \\n', '\\n \\n \\n , \\n', '\\n \\n \\n \\n \\n', '\\n \\n \\n \\n \\n', '\\n \\n \\n \\n ,', '\\n \\n , \\n \\n', '\\n \\n \\n \\n \\n', '\\n \\n \\n \\n \\n', '\\n \\n \\n \\n ,']\n"
     ]
    },
    {
     "name": "stderr",
     "output_type": "stream",
     "text": [
      "\r",
      " 12%|██████████████▏                                                                                                         | 354/2999 [1:57:23<14:23:07, 19.58s/it]"
     ]
    },
    {
     "name": "stdout",
     "output_type": "stream",
     "text": [
      "[' accommodations , , \\n \\n', '\\n \\n \\n \\n \\n', '\\n \\n \\n \\n \\n', '\\n \\n \\n \\n \\n', '\\n \\n \\n , \\n', '\\n , \\n \\n \\n', '\\n \\n \\n \\n \\n', '\\n \\n \\n \\n \\n', '\\n \\n \\n \\n \\n', '\\n \\n \\n \\n \\n', '\\n \\n , \\n ,', '\\n \\n \\n \\n \\n', '\\n \\n \\n \\n \\n', '\\n \\n \\n , \\n', '\\n \\n \\n \\n \\n', '\\n \\n \\n \\n \\n']\n",
      "['\\n \\n \\n \\n ,', '\\n \\n \\n , \\n', '\\n \\n , \\n \\n', '\\n \\n , \\n \\n', '\\n \\n \\n \\n \\n', '\\n \\n , \\n \\n', '\\n , \\n \\n ,', ', \\n \\n \\n \\n', '\\n \\n \\n , \\n', '\\n \\n \\n \\n \\n', '\\n \\n \\n \\n \\n', '\\n \\n , \\n \\n', '\\n \\n \\n \\n \\n', '\\n \\n \\n \\n \\n', '\\n \\n \\n \\n \\n', '\\n \\n \\n \\n \\n']\n"
     ]
    },
    {
     "name": "stderr",
     "output_type": "stream",
     "text": [
      "\r",
      " 12%|██████████████▏                                                                                                         | 355/2999 [1:57:43<14:22:25, 19.57s/it]"
     ]
    },
    {
     "name": "stdout",
     "output_type": "stream",
     "text": [
      "['\\n \\n \\n \\n \\n', '\\n \\n \\n \\n \\n', ', \\n \\n \\n \\n', '\\n \\n \\n \\n \\n', '\\n \\n , \\n ,', '\\n \\n \\n \\n \\n', ', \\n GoldMagikarp , ,', '\\n \\n \\n , \\n', '\\n \\n \\n \\n \\n', '\\n \\n \\n , \\n', '\\n \\n \\n \\n \\n', '\\n \\n \\n \\n \\n', '\\n \\n \\n \\n \\n', '\\n \\n \\n , \\n', '\\n \\n \\n \\n \\n', ', \\n \\n \\n \\n']\n",
      "['\\n \\n \\n \\n \\n', '\\n \\n \\n \\n \\n', '\\n \\n \\n \\n \\n', '\\n \\n \\n , \\n', '\\n \\n \\n \\n \\n', '\\n \\n \\n \\n \\n', '\\n \\n \\n \\n \\n', '\\n \\n \\n \\n \\n', '\\n \\n \\n \\n \\n', '\\n \\n \\n \\n \\n', '\\n \\n \\n , \\n', '\\n \\n , \\n \\n', '\\n \\n , \\n \\n', '\\n \\n \\n \\n \\n', '\\n \\n \\n \\n \\n', ', \\n \\n \\n \\n']\n"
     ]
    },
    {
     "name": "stderr",
     "output_type": "stream",
     "text": [
      "\r",
      " 12%|██████████████▏                                                                                                         | 356/2999 [1:58:02<14:21:59, 19.57s/it]"
     ]
    },
    {
     "name": "stdout",
     "output_type": "stream",
     "text": [
      "['\\n \\n \\n \\n \\n', '\\n \\n \\n \\n \\n', '\\n \\n \\n \\n ,', '\\n \\n , \\n \\n', '\\n \\n \\n \\n \\n', '\\n \\n \\n \\n \\n', '\\n \\n \\n \\n \\n', '\\n \\n \\n \\n \\n', '\\n \\n \\n \\n \\n', '\\n \\n \\n , \\n', '\\n \\n \\n \\n ,', '\\n \\n , \\n \\n', ' Calif , , , \\n', '\\n \\n \\n \\n ,', ', \\n \\n \\n \\n', 'moil , , \\n \\n']\n",
      "['\\n \\n \\n \\n \\n', '\\n \\n \\n \\n \\n', '\\n \\n \\n , \\n', '\\n \\n \\n , \\n', '\\n \\n \\n \\n \\n', '\\n \\n , \\n \\n', ', \\n \\n \\n \\n', '\\n \\n \\n \\n \\n', '\\n \\n \\n \\n ,', '\\n \\n \\n \\n \\n', ', \\n GoldMagikarp , ,', '\\n \\n , , \\n', '\\n \\n \\n \\n ,', '\\n \\n \\n , \\n', '\\n \\n \\n \\n \\n', '\\n \\n \\n \\n \\n']\n"
     ]
    },
    {
     "name": "stderr",
     "output_type": "stream",
     "text": [
      "\r",
      " 12%|██████████████▎                                                                                                         | 357/2999 [1:58:22<14:20:37, 19.54s/it]"
     ]
    },
    {
     "name": "stdout",
     "output_type": "stream",
     "text": [
      "['\\n \\n \\n \\n \\n', '\\n \\n \\n \\n \\n', '\\n \\n \\n \\n \\n', '\\n \\n , \\n \\n', '\\n \\n \\n \\n \\n', '\\n \\n \\n \\n \\n', '\\n \\n \\n \\n \\n', '\\n \\n \\n \\n \\n', '\\n \\n \\n , \\n', '\\n \\n \\n , \\n', ' Like , , , \\n', '\\n \\n , \\n \\n', '\\n \\n \\n , \\n', '\\n \\n \\n \\n ,', ', \\n \\n \\n \\n', 'Easy , , , \\n']\n",
      "['\\n \\n \\n , \\n', '\\n \\n \\n , \\n', '\\n \\n \\n \\n \\n', '\\n \\n \\n , \\n', '\\n \\n \\n \\n \\n', '\\n , \\n \\n \\n', '\\n \\n \\n \\n \\n', '\\n \\n \\n \\n \\n', '\\n \\n \\n \\n \\n', '\\n \\n \\n \\n \\n', '\\n \\n \\n \\n \\n', '\\n \\n \\n \\n \\n', ', , \\n \\n \\n', '\\n \\n , \\n \\n', '\\n \\n \\n \\n \\n', '\\n \\n \\n \\n \\n']\n"
     ]
    },
    {
     "name": "stderr",
     "output_type": "stream",
     "text": [
      "\r",
      " 12%|██████████████▎                                                                                                         | 358/2999 [1:58:41<14:20:58, 19.56s/it]"
     ]
    },
    {
     "name": "stdout",
     "output_type": "stream",
     "text": [
      "['\\n \\n \\n \\n \\n', '\\n \\n \\n , \\n', '\\n \\n \\n \\n \\n', '\\n \\n \\n \\n \\n', '\\n \\n \\n \\n \\n', ' comprehension , , \\n \\n', '\\n \\n \\n \\n \\n', '\\n \\n \\n , \\n', ', \\n \\n GoldMagikarp ,', '\\n \\n \\n \\n ,', '\\n \\n \\n \\n \\n', '\\n \\n \\n \\n \\n', '\\n \\n , \\n \\n', '\\n \\n , \\n \\n', '\\n \\n \\n \\n \\n', '\\n \\n \\n , ,']\n",
      "['\\n \\n \\n \\n \\n', '\\n \\n \\n \\n \\n', '\\n \\n \\n \\n \\n', '\\n \\n \\n \\n \\n', '\\n \\n \\n \\n \\n', '\\n \\n \\n , \\n', '\\n \\n \\n \\n \\n', ', \\n \\n \\n \\n', '\\n \\n \\n \\n \\n', '\\n \\n \\n \\n ,', '\\n \\n , \\n \\n', '\\n \\n , \\n \\n', '\\n \\n , \\n \\n', '\\n \\n \\n \\n \\n', '\\n \\n \\n \\n \\n', '\\n \\n \\n \\n \\n']\n"
     ]
    },
    {
     "name": "stderr",
     "output_type": "stream",
     "text": [
      "\r",
      " 12%|██████████████▎                                                                                                         | 359/2999 [1:59:01<14:19:34, 19.54s/it]"
     ]
    },
    {
     "name": "stdout",
     "output_type": "stream",
     "text": [
      "['\\n \\n \\n \\n \\n', '\\n \\n \\n \\n \\n', '\\n \\n \\n , \\n', '\\n \\n \\n \\n \\n', '\\n \\n \\n \\n \\n', '\\n \\n , \\n \\n', '\\n \\n \\n , \\n', '\\n \\n \\n , \\n', '\\n \\n \\n , \\n', '\\n \\n \\n \\n \\n', '\\n \\n , \\n ,', '\\n , \\n \\n \\n', '★★ , , \\n \\n', '\\n \\n , \\n \\n', '\\n \\n \\n \\n \\n', '\\n \\n \\n \\n \\n']\n",
      "['\\n \\n \\n \\n \\n', '\\n \\n \\n , \\n', '\\n \\n \\n \\n \\n', ', \\n \\n \\n \\n', '\\n \\n \\n \\n \\n', '\\n \\n , \\n \\n', '\\n \\n \\n , \\n', ', \\n \\n \\n \\n', '\\n \\n \\n \\n \\n', '\\n \\n \\n \\n \\n', '\\n \\n \\n \\n \\n', '\\n \\n , \\n \\n', '\\n \\n , \\n \\n', '\\n \\n \\n \\n \\n', '\\n \\n \\n \\n \\n', '\\n \\n \\n , \\n']\n"
     ]
    },
    {
     "name": "stderr",
     "output_type": "stream",
     "text": [
      "\r",
      " 12%|██████████████▍                                                                                                         | 360/2999 [1:59:21<14:19:38, 19.54s/it]"
     ]
    },
    {
     "name": "stdout",
     "output_type": "stream",
     "text": [
      "['\\n \\n , \\n ,', '\\n \\n \\n \\n \\n', '\\n \\n \\n \\n \\n', ' arises , , \\n \\n', '\\n \\n \\n \\n \\n', '\\n \\n , \\n \\n', '\\n \\n \\n \\n \\n', 'teness , , \\n \\n', '\\n \\n \\n , \\n', '\\n , \\n , \\n', '\\n \\n \\n \\n \\n', '\\n \\n \\n \\n \\n', '\\n \\n , \\n \\n', '\\n \\n \\n , \\n', '\\n \\n \\n \\n \\n', '\\n \\n \\n \\n \\n']\n",
      "['\\n \\n \\n \\n ,', '\\n \\n \\n \\n \\n', '\\n \\n \\n \\n \\n', ', \\n \\n \\n \\n', '\\n \\n \\n , \\n', '\\n \\n \\n \\n \\n', '\\n \\n , \\n \\n', '\\n \\n \\n \\n ,', '\\n \\n , \\n \\n', '\\n \\n \\n \\n \\n', '\\n \\n \\n \\n \\n', '\\n , \\n \\n \\n', '\\n \\n , \\n \\n', '\\n \\n \\n \\n ,', '\\n \\n \\n \\n \\n', '\\n \\n \\n , \\n']\n"
     ]
    },
    {
     "name": "stderr",
     "output_type": "stream",
     "text": [
      "\r",
      " 12%|██████████████▍                                                                                                         | 361/2999 [1:59:40<14:19:13, 19.54s/it]"
     ]
    },
    {
     "name": "stdout",
     "output_type": "stream",
     "text": [
      "38.513458251953125 0.51171875\n",
      "['\\n \\n \\n \\n \\n', '\\n \\n \\n \\n \\n', '\\n \\n , \\n \\n', ', \\n \\n \\n \\n', '\\n \\n \\n \\n \\n', '\\n \\n \\n \\n \\n', '\\n \\n \\n , \\n', '\\n \\n \\n , \\n', '\\n \\n \\n \\n \\n', '\\n \\n \\n \\n \\n', '\\n \\n \\n \\n \\n', '\\n \\n \\n \\n \\n', '\\n \\n , \\n \\n', '\\n \\n , \\n \\n', '\\n \\n \\n \\n \\n', '\\n \\n \\n \\n \\n']\n",
      "['\\n \\n \\n \\n \\n', '\\n \\n \\n , \\n', '\\n \\n \\n \\n \\n', '\\n \\n \\n \\n \\n', '\\n \\n \\n \\n \\n', '\\n \\n \\n \\n \\n', '\\n \\n , \\n \\n', '\\n \\n \\n \\n \\n', '\\n \\n \\n \\n \\n', '\\n \\n \\n \\n \\n', '\\n \\n \\n \\n \\n', '\\n \\n \\n \\n \\n', '\\n \\n , \\n \\n', '\\n \\n \\n \\n \\n', '\\n \\n \\n \\n \\n', '\\n \\n \\n \\n \\n']\n"
     ]
    },
    {
     "name": "stderr",
     "output_type": "stream",
     "text": [
      "\r",
      " 12%|██████████████▍                                                                                                         | 362/2999 [2:00:00<14:19:11, 19.55s/it]"
     ]
    },
    {
     "name": "stdout",
     "output_type": "stream",
     "text": [
      "['\\n \\n \\n \\n \\n', '\\n \\n \\n \\n \\n', '\\n \\n \\n \\n \\n', '\\n \\n \\n \\n \\n', 'tech , , \\n \\n', '\\n \\n \\n \\n \\n', '\\n \\n , \\n \\n', '\\n \\n \\n \\n \\n', ' bouts , , \\n \\n', '\\n \\n \\n \\n \\n', '\\n \\n \\n \\n \\n', '713 , \\n \\n \\n', '\\n \\n \\n \\n \\n', '\\n \\n , \\n \\n', 'ur , , \\n \\n', ' PAGE , \\n \\n \\n']\n",
      "['\\n \\n \\n \\n \\n', '\\n \\n \\n \\n ,', ', \\n \\n \\n \\n', '\\n \\n \\n \\n \\n', '\\n \\n \\n , \\n', '\\n \\n , \\n \\n', '\\n \\n \\n \\n \\n', '\\n \\n \\n , \\n', '\\n \\n \\n \\n \\n', '\\n \\n \\n \\n ,', '\\n \\n \\n \\n \\n', '\\n \\n , \\n \\n', '\\n \\n \\n , \\n', '\\n \\n \\n \\n \\n', '\\n \\n \\n \\n \\n', '\\n \\n \\n \\n \\n']\n"
     ]
    },
    {
     "name": "stderr",
     "output_type": "stream",
     "text": [
      "\r",
      " 12%|██████████████▌                                                                                                         | 363/2999 [2:00:19<14:19:48, 19.57s/it]"
     ]
    },
    {
     "name": "stdout",
     "output_type": "stream",
     "text": [
      "['\\n \\n \\n \\n \\n', '\\n \\n \\n \\n \\n', '\\n \\n \\n \\n ,', '\\n \\n \\n \\n \\n', 'iddle , , \\n \\n', '469 , \\n \\n \\n', '\\n \\n \\n \\n \\n', '\\n \\n \\n \\n \\n', '\\n \\n , \\n \\n', '\\n \\n \\n \\n \\n', '\\n \\n \\n \\n \\n', '\\n \\n , \\n \\n', '\\n \\n , \\n \\n', '\\n \\n \\n \\n \\n', '\\n \\n \\n \\n \\n', '\\n \\n \\n \\n \\n']\n",
      "['\\n \\n \\n \\n \\n', '\\n \\n \\n \\n \\n', '\\n \\n \\n \\n ,', '\\n , \\n \\n \\n', '\\n \\n \\n \\n \\n', '\\n \\n , \\n \\n', '\\n \\n , \\n \\n', '\\n , \\n \\n ,', '\\n \\n \\n \\n \\n', '\\n \\n \\n \\n \\n', '\\n \\n \\n \\n \\n', '\\n \\n , \\n \\n', '\\n \\n , \\n \\n', '\\n \\n \\n \\n \\n', ', \\n GoldMagikarp , ,', '\\n \\n \\n \\n \\n']\n"
     ]
    },
    {
     "name": "stderr",
     "output_type": "stream",
     "text": [
      "\r",
      " 12%|██████████████▌                                                                                                         | 364/2999 [2:00:39<14:19:07, 19.56s/it]"
     ]
    },
    {
     "name": "stdout",
     "output_type": "stream",
     "text": [
      "['\\n \\n \\n \\n \\n', '\\n \\n \\n \\n \\n', '\\n \\n \\n \\n \\n', '\\n , \\n \\n \\n', '\\n \\n \\n \\n \\n', '\\n \\n \\n \\n \\n', '\\n \\n \\n \\n \\n', ', \\n \\n \\n \\n', '\\n \\n \\n , \\n', '\\n \\n \\n \\n \\n', '\\n \\n \\n \\n \\n', '\\n \\n , \\n \\n', '\\n \\n \\n \\n \\n', '\\n \\n \\n \\n ,', '\\n \\n \\n \\n \\n', '\\n \\n \\n \\n \\n']\n",
      "[', \\n \\n \\n \\n', '\\n \\n \\n \\n \\n', '\\n \\n , \\n \\n', '\\n \\n \\n \\n \\n', '\\n \\n \\n \\n \\n', '\\n \\n \\n \\n \\n', '\\n \\n , \\n \\n', '\\n \\n , \\n \\n', '\\n \\n , \\n \\n', '\\n \\n \\n , \\n', '\\n \\n \\n \\n \\n', '\\n \\n \\n , \\n', '\\n , \\n \\n ,', '\\n \\n \\n \\n \\n', '\\n \\n \\n \\n \\n', '\\n \\n \\n \\n \\n']\n"
     ]
    },
    {
     "name": "stderr",
     "output_type": "stream",
     "text": [
      "\r",
      " 12%|██████████████▌                                                                                                         | 365/2999 [2:00:58<14:18:43, 19.56s/it]"
     ]
    },
    {
     "name": "stdout",
     "output_type": "stream",
     "text": [
      "['\\n \\n \\n \\n ,', '\\n \\n \\n \\n \\n', '\\n \\n \\n \\n \\n', '\\n \\n \\n \\n \\n', '\\n \\n \\n \\n \\n', '\\n \\n \\n \\n \\n', '\\n \\n \\n \\n \\n', ', \\n \\n \\n \\n', '\\n \\n , \\n \\n', '\\n \\n \\n , \\n', '\\n \\n , \\n \\n', '\\n \\n , \\n \\n', '\\n \\n \\n \\n \\n', '\\n \\n \\n \\n \\n', ', \\n \\n \\n \\n', ', \\n \\n \\n \\n']\n",
      "['\\n \\n \\n \\n \\n', '\\n \\n \\n \\n \\n', '\\n \\n \\n \\n \\n', '\\n \\n , \\n \\n', '\\n \\n \\n \\n \\n', '\\n \\n , \\n \\n', '\\n \\n , \\n \\n', '\\n , \\n \\n \\n', '\\n \\n \\n \\n \\n', '\\n \\n \\n \\n \\n', '\\n \\n , \\n \\n', '\\n \\n \\n \\n \\n', '\\n \\n \\n \\n \\n', '\\n \\n \\n \\n \\n', '\\n \\n \\n , \\n', '\\n \\n \\n \\n \\n']\n"
     ]
    },
    {
     "name": "stderr",
     "output_type": "stream",
     "text": [
      "\r",
      " 12%|██████████████▋                                                                                                         | 366/2999 [2:01:18<14:17:32, 19.54s/it]"
     ]
    },
    {
     "name": "stdout",
     "output_type": "stream",
     "text": [
      "[', \\n \\n \\n \\n', 'enabled , , \\n \\n', ', \\n \\n \\n \\n', ', \\n \\n \\n \\n', ', \\n \\n \\n \\n', '\\n \\n , \\n \\n', '\\n \\n \\n \\n \\n', ', \\n \\n \\n \\n', '\\n \\n \\n \\n \\n', '\\n \\n \\n \\n \\n', ', \\n \\n \\n \\n', ', , \\n \\n \\n', ' fraternity , , , \\n', '\\n \\n \\n \\n \\n', '\\n \\n \\n \\n \\n', ', \\n \\n \\n \\n']\n",
      "['\\n \\n \\n \\n \\n', '\\n \\n , \\n \\n', '\\n \\n \\n \\n \\n', '\\n \\n \\n \\n ,', '\\n \\n \\n , \\n', '\\n \\n \\n \\n \\n', '\\n \\n \\n \\n \\n', '\\n \\n \\n , \\n', '\\n \\n \\n \\n \\n', '\\n \\n \\n \\n \\n', '\\n \\n \\n , \\n', '\\n \\n , \\n \\n', '\\n \\n , \\n \\n', '\\n \\n \\n \\n \\n', '\\n \\n \\n , \\n', '\\n \\n \\n \\n \\n']\n"
     ]
    },
    {
     "name": "stderr",
     "output_type": "stream",
     "text": [
      "\r",
      " 12%|██████████████▋                                                                                                         | 367/2999 [2:01:37<14:16:27, 19.52s/it]"
     ]
    },
    {
     "name": "stdout",
     "output_type": "stream",
     "text": [
      "['\\n \\n \\n \\n \\n', '\\n \\n \\n \\n \\n', '\\n \\n \\n \\n \\n', '\\n \\n \\n \\n \\n', '\\n \\n \\n \\n \\n', '\\n \\n , \\n \\n', '\\n \\n \\n \\n ,', '\\n \\n \\n , \\n', '\\n \\n \\n \\n \\n', '\\n \\n , \\n \\n', '\\n \\n \\n \\n \\n', '\\n \\n \\n \\n \\n', '\\n \\n \\n \\n \\n', '\\n \\n \\n \\n \\n', ', \\n \\n \\n \\n', '\\n \\n \\n \\n \\n']\n",
      "['\\n \\n \\n , \\n', '\\n \\n \\n \\n \\n', '\\n \\n \\n \\n \\n', '\\n , \\n \\n ,', '\\n \\n \\n \\n \\n', '\\n \\n , \\n \\n', '\\n \\n \\n \\n \\n', '\\n \\n \\n \\n \\n', '\\n \\n , \\n \\n', '\\n \\n \\n \\n \\n', '\\n \\n \\n \\n \\n', '\\n \\n \\n \\n \\n', '\\n \\n \\n \\n \\n', '\\n \\n \\n \\n \\n', '\\n \\n \\n \\n \\n', '\\n \\n \\n \\n \\n']\n"
     ]
    },
    {
     "name": "stderr",
     "output_type": "stream",
     "text": [
      "\r",
      " 12%|██████████████▋                                                                                                         | 368/2999 [2:01:57<14:17:05, 19.55s/it]"
     ]
    },
    {
     "name": "stdout",
     "output_type": "stream",
     "text": [
      "['\\n \\n , \\n ,', '\\n \\n \\n \\n \\n', '\\n \\n \\n , \\n', ', \\n \\n \\n \\n', '\\n \\n \\n \\n \\n', '\\n \\n \\n \\n \\n', 'itans , , \\n \\n', 'Williams , , , \\n', '\\n \\n \\n \\n \\n', ' proverb , , \\n \\n', '\\n \\n \\n \\n \\n', '\\n , \\n \\n \\n', '\\n \\n \\n \\n \\n', '\\n \\n \\n \\n \\n', 'girls , , , \\n', '\\n \\n \\n \\n \\n']\n",
      "['\\n \\n \\n \\n ,', '\\n \\n \\n \\n \\n', '\\n \\n \\n \\n \\n', '\\n \\n \\n \\n \\n', '\\n \\n \\n \\n \\n', '\\n \\n , \\n \\n', '\\n \\n \\n \\n \\n', '\\n \\n \\n \\n \\n', '\\n \\n \\n \\n \\n', '\\n \\n \\n \\n \\n', '\\n \\n \\n \\n \\n', '\\n \\n \\n \\n \\n', '\\n \\n \\n \\n \\n', '\\n \\n \\n \\n \\n', '\\n \\n \\n \\n \\n', '\\n \\n \\n \\n ,']\n"
     ]
    },
    {
     "name": "stderr",
     "output_type": "stream",
     "text": [
      "\r",
      " 12%|██████████████▊                                                                                                         | 369/2999 [2:02:17<14:17:47, 19.57s/it]"
     ]
    },
    {
     "name": "stdout",
     "output_type": "stream",
     "text": [
      "['\\n \\n \\n \\n \\n', 'shoot , , \\n \\n', '\\n \\n \\n \\n \\n', '\\n , \\n \\n \\n', '\\n \\n \\n \\n \\n', '\\n \\n \\n \\n \\n', '\\n \\n \\n \\n \\n', '\\n \\n \\n \\n \\n', '\\n \\n , \\n \\n', '\\n \\n \\n , \\n', '\\n \\n \\n \\n \\n', '\\n \\n \\n \\n \\n', '\\n \\n \\n \\n \\n', '\\n \\n \\n \\n \\n', '\\n \\n \\n \\n \\n', 'iggurat , , \\n \\n']\n",
      "['\\n \\n \\n \\n \\n', '\\n \\n \\n , \\n', ', \\n \\n \\n \\n', '\\n \\n \\n \\n ,', '\\n \\n \\n \\n \\n', '\\n \\n \\n \\n \\n', '\\n \\n \\n \\n \\n', '\\n , \\n \\n \\n', '\\n \\n \\n \\n \\n', '\\n \\n \\n , \\n', '\\n \\n , \\n \\n', '\\n , \\n \\n ,', '\\n \\n , \\n \\n', '\\n \\n \\n \\n \\n', '\\n \\n \\n \\n \\n', '\\n \\n \\n \\n ,']\n"
     ]
    },
    {
     "name": "stderr",
     "output_type": "stream",
     "text": [
      "\r",
      " 12%|██████████████▊                                                                                                         | 370/2999 [2:02:36<14:17:47, 19.58s/it]"
     ]
    },
    {
     "name": "stdout",
     "output_type": "stream",
     "text": [
      "['\\n \\n \\n \\n ,', '\\n \\n \\n \\n \\n', '\\n \\n \\n \\n ,', '\\n \\n \\n \\n \\n', '\\n \\n \\n \\n \\n', '\\n \\n , \\n \\n', '\\n \\n , , \\n', '\\n \\n \\n \\n \\n', '\\n \\n \\n , \\n', '\\n \\n \\n \\n \\n', ' employing , , \\n \\n', '\\n \\n \\n \\n \\n', '\\n \\n , \\n \\n', '\\n \\n \\n \\n \\n', '\\n \\n \\n \\n \\n', '\\n \\n \\n \\n \\n']\n",
      "['\\n \\n \\n , \\n', '\\n \\n \\n \\n \\n', '\\n \\n \\n \\n \\n', '\\n \\n , \\n \\n', '\\n \\n \\n \\n \\n', '\\n \\n \\n \\n \\n', '\\n \\n \\n \\n \\n', '\\n \\n \\n \\n \\n', '\\n \\n \\n \\n \\n', '\\n \\n \\n \\n \\n', '\\n \\n \\n \\n \\n', '\\n \\n \\n \\n \\n', '\\n \\n \\n \\n \\n', '\\n \\n , \\n \\n', '\\n \\n \\n \\n \\n', '\\n \\n \\n \\n \\n']\n"
     ]
    },
    {
     "name": "stderr",
     "output_type": "stream",
     "text": [
      "\r",
      " 12%|██████████████▊                                                                                                         | 371/2999 [2:02:56<14:16:56, 19.56s/it]"
     ]
    },
    {
     "name": "stdout",
     "output_type": "stream",
     "text": [
      "40.533660888671875 0.53125\n",
      "['\\n \\n \\n \\n \\n', '\\n \\n \\n , \\n', '\\n \\n \\n \\n \\n', '\\n \\n \\n \\n \\n', '\\n \\n \\n \\n \\n', '\\n \\n \\n \\n \\n', '\\n \\n \\n \\n \\n', 'Info , , \\n \\n', '\\n \\n \\n \\n \\n', '\\n \\n \\n \\n \\n', '\\n \\n , \\n \\n', '\\n \\n \\n \\n \\n', ' Elect , , , \\n', ' ribs , , \\n \\n', '\\n \\n \\n \\n \\n', '\\n \\n \\n \\n \\n']\n",
      "['\\n \\n \\n \\n \\n', '\\n \\n \\n \\n \\n', '\\n \\n \\n , \\n', '\\n \\n \\n \\n \\n', '\\n \\n \\n \\n \\n', '\\n , \\n \\n ,', '\\n \\n \\n \\n \\n', '\\n , \\n \\n \\n', '\\n \\n \\n \\n \\n', '\\n , \\n \\n \\n', '\\n \\n \\n \\n \\n', '\\n \\n \\n \\n \\n', '\\n \\n \\n \\n \\n', '\\n \\n \\n \\n \\n', '\\n \\n \\n \\n \\n', '\\n \\n \\n \\n \\n']\n"
     ]
    },
    {
     "name": "stderr",
     "output_type": "stream",
     "text": [
      "\r",
      " 12%|██████████████▉                                                                                                         | 372/2999 [2:03:15<14:16:51, 19.57s/it]"
     ]
    },
    {
     "name": "stdout",
     "output_type": "stream",
     "text": [
      "['\\n \\n \\n \\n \\n', '\\n \\n \\n \\n \\n', '\\n \\n \\n \\n \\n', '\\n \\n \\n \\n ,', '\\n \\n , \\n \\n', '\\n \\n , \\n \\n', '\\n \\n \\n , \\n', '\\n \\n \\n \\n \\n', '\\n \\n \\n \\n \\n', '\\n \\n \\n \\n \\n', ' tallied , , \\n \\n', '\\n \\n , \\n \\n', '\\n \\n \\n \\n \\n', '\\n \\n \\n \\n \\n', '\\n \\n \\n \\n \\n', '\\n \\n \\n , \\n']\n",
      "['\\n \\n \\n \\n \\n', '\\n \\n \\n \\n \\n', '\\n \\n \\n \\n \\n', '\\n \\n \\n , \\n', '\\n \\n \\n , \\n', '\\n , \\n \\n ,', '\\n \\n \\n \\n \\n', '\\n \\n \\n \\n \\n', '\\n \\n \\n , \\n', '\\n \\n \\n \\n \\n', '\\n \\n , \\n \\n', '\\n \\n \\n \\n \\n', '\\n , \\n \\n \\n', '\\n \\n \\n \\n \\n', ', \\n \\n \\n \\n', '\\n \\n , \\n \\n']\n"
     ]
    },
    {
     "name": "stderr",
     "output_type": "stream",
     "text": [
      "\r",
      " 12%|██████████████▉                                                                                                         | 373/2999 [2:03:35<14:15:59, 19.56s/it]"
     ]
    },
    {
     "name": "stdout",
     "output_type": "stream",
     "text": [
      "['\\n \\n \\n , \\n', '\\n \\n \\n \\n \\n', '\\n \\n \\n \\n \\n', '\\n , \\n \\n \\n', '\\n \\n \\n \\n \\n', '\\n \\n \\n \\n \\n', '\\n \\n \\n \\n \\n', '\\n , \\n \\n \\n', ' tribe , , , \\n', '\\n \\n \\n , \\n', '\\n \\n \\n \\n \\n', '\\n \\n , \\n \\n', '\\n \\n \\n \\n ,', '\\n \\n \\n \\n \\n', '\\n \\n \\n \\n \\n', '\\n \\n , \\n \\n']\n",
      "['\\n \\n \\n \\n \\n', '\\n \\n \\n \\n \\n', '\\n \\n \\n \\n \\n', '\\n \\n \\n \\n \\n', '\\n \\n \\n \\n \\n', '\\n \\n \\n \\n \\n', '\\n \\n \\n \\n ,', '\\n \\n \\n \\n \\n', '\\n \\n \\n \\n \\n', '\\n \\n \\n , \\n', '\\n \\n \\n , \\n', '\\n \\n , \\n ,', '\\n \\n \\n \\n \\n', '\\n \\n \\n \\n \\n', '\\n \\n \\n , \\n', '\\n \\n \\n \\n \\n']\n"
     ]
    },
    {
     "name": "stderr",
     "output_type": "stream",
     "text": [
      "\r",
      " 12%|██████████████▉                                                                                                         | 374/2999 [2:03:54<14:14:58, 19.54s/it]"
     ]
    },
    {
     "name": "stdout",
     "output_type": "stream",
     "text": [
      "['\\n \\n \\n \\n \\n', '\\n \\n \\n \\n \\n', '\\n \\n \\n \\n \\n', '\\n \\n , \\n \\n', '\\n \\n \\n \\n \\n', '\\n \\n \\n \\n \\n', '\\n \\n , \\n \\n', '\\n \\n \\n \\n \\n', '\\n \\n \\n \\n \\n', '\\n \\n \\n , \\n', '\\n \\n \\n , \\n', '\\n \\n \\n \\n \\n', '\\n \\n \\n \\n \\n', '\\n \\n \\n \\n \\n', '\\n \\n \\n \\n \\n', '\\n \\n \\n \\n \\n']\n",
      "['\\n \\n \\n \\n \\n', '\\n \\n , \\n \\n', '\\n \\n \\n \\n \\n', '\\n , \\n \\n ,', '\\n \\n \\n \\n \\n', '\\n \\n \\n \\n \\n', '\\n \\n , \\n \\n', ', \\n \\n \\n \\n', '\\n \\n \\n \\n \\n', '\\n \\n \\n \\n \\n', '\\n \\n \\n \\n \\n', '\\n \\n , \\n \\n', '\\n \\n \\n \\n \\n', '\\n \\n , \\n \\n', '\\n \\n \\n \\n \\n', '\\n \\n \\n \\n \\n']\n"
     ]
    },
    {
     "name": "stderr",
     "output_type": "stream",
     "text": [
      "\r",
      " 13%|███████████████                                                                                                         | 375/2999 [2:04:14<14:15:24, 19.56s/it]"
     ]
    },
    {
     "name": "stdout",
     "output_type": "stream",
     "text": [
      "['ety , , \\n \\n', '\\n \\n \\n \\n \\n', '\\n \\n \\n \\n \\n', '\\n \\n \\n \\n \\n', 'features , , \\n \\n', '\\n \\n , \\n \\n', '\\n \\n \\n \\n \\n', '\\n \\n \\n \\n \\n', '\\n , \\n \\n \\n', '\\n , \\n \\n \\n', '\\n \\n \\n , \\n', ' Evans , , , \\n', '\\n \\n \\n \\n \\n', '\\n \\n \\n \\n \\n', '\\n \\n \\n \\n \\n', '\\n \\n \\n \\n ,']\n",
      "['\\n \\n \\n \\n \\n', '\\n \\n \\n \\n \\n', '\\n \\n , \\n \\n', '\\n \\n \\n \\n \\n', '\\n \\n \\n \\n \\n', '\\n \\n , \\n \\n', '\\n \\n \\n \\n \\n', '\\n \\n \\n \\n \\n', '\\n \\n \\n \\n ,', '\\n \\n \\n \\n \\n', '\\n \\n \\n \\n \\n', '\\n \\n \\n \\n \\n', '\\n \\n , \\n \\n', '\\n \\n \\n \\n \\n', '\\n \\n \\n , \\n', '\\n \\n \\n \\n \\n']\n"
     ]
    },
    {
     "name": "stderr",
     "output_type": "stream",
     "text": [
      "\r",
      " 13%|███████████████                                                                                                         | 376/2999 [2:04:33<14:13:49, 19.53s/it]"
     ]
    },
    {
     "name": "stdout",
     "output_type": "stream",
     "text": [
      "['\\n \\n \\n \\n \\n', '\\n \\n \\n \\n \\n', '\\n \\n \\n \\n \\n', 'onement , , \\n \\n', '\\n \\n \\n \\n \\n', '\\n \\n , \\n \\n', '\\n \\n \\n \\n \\n', ' nin , , , \\n', '\\n \\n \\n \\n \\n', '\\n \\n \\n \\n \\n', ' chronic , , , \\n', ' transform , \\n \\n \\n', ' res , , \\n \\n', '\\n \\n \\n \\n \\n', '\\n \\n \\n \\n \\n', '\\n \\n \\n \\n \\n']\n",
      "['\\n \\n \\n \\n \\n', '\\n \\n \\n \\n \\n', '\\n \\n \\n \\n \\n', '\\n \\n \\n \\n \\n', '\\n \\n \\n \\n \\n', '\\n \\n , \\n \\n', '\\n \\n \\n \\n \\n', '\\n \\n \\n \\n \\n', '\\n \\n \\n \\n \\n', '\\n \\n \\n \\n \\n', '\\n \\n \\n \\n \\n', '\\n \\n \\n , \\n', '\\n \\n \\n \\n \\n', '\\n \\n , \\n ,', '\\n \\n \\n \\n ,', '\\n \\n \\n \\n \\n']\n"
     ]
    },
    {
     "name": "stderr",
     "output_type": "stream",
     "text": [
      "\r",
      " 13%|███████████████                                                                                                         | 377/2999 [2:04:53<14:14:11, 19.55s/it]"
     ]
    },
    {
     "name": "stdout",
     "output_type": "stream",
     "text": [
      "['\\n \\n \\n \\n \\n', '\\n \\n \\n \\n \\n', '\\n \\n \\n \\n \\n', '\\n \\n \\n \\n \\n', '\\n \\n \\n , \\n', '\\n \\n , \\n \\n', '\\n \\n \\n \\n \\n', '\\n \\n \\n \\n ,', ', \\n \\n GoldMagikarp ,', '\\n \\n \\n \\n \\n', '\\n \\n \\n \\n \\n', '\\n \\n \\n \\n \\n', '\\n \\n , \\n \\n', '\\n \\n \\n \\n \\n', ', \\n \\n \\n \\n', ', \\n \\n GoldMagikarp ,']\n",
      "['\\n \\n \\n \\n \\n', ', \\n \\n \\n \\n', '\\n \\n \\n \\n \\n', '\\n \\n \\n \\n \\n', '\\n \\n \\n \\n \\n', '\\n \\n \\n \\n \\n', '\\n \\n \\n \\n \\n', '\\n \\n , \\n \\n', '\\n \\n , \\n ,', '\\n \\n \\n , \\n', '\\n \\n \\n \\n \\n', '\\n \\n \\n \\n \\n', '\\n \\n \\n \\n \\n', '\\n \\n \\n \\n \\n', '\\n \\n \\n \\n \\n', '\\n \\n \\n \\n \\n']\n"
     ]
    },
    {
     "name": "stderr",
     "output_type": "stream",
     "text": [
      "\r",
      " 13%|███████████████▏                                                                                                        | 378/2999 [2:05:12<14:13:46, 19.54s/it]"
     ]
    },
    {
     "name": "stdout",
     "output_type": "stream",
     "text": [
      "['\\n \\n \\n \\n \\n', '\\n \\n \\n \\n \\n', '\\n \\n \\n \\n \\n', '\\n \\n \\n \\n ,', '\\n \\n \\n \\n \\n', '\\n \\n \\n \\n \\n', '\\n \\n \\n \\n \\n', '\\n \\n \\n \\n \\n', '\\n \\n \\n , \\n', ' Mia , , , \\n', '\\n \\n \\n \\n \\n', '\\n \\n , \\n \\n', '\\n \\n \\n \\n \\n', '\\n \\n \\n \\n \\n', '\\n \\n \\n , \\n', ', \\n \\n \\n \\n']\n",
      "['\\n \\n \\n \\n \\n', '\\n \\n \\n \\n \\n', '\\n \\n \\n \\n \\n', '\\n \\n \\n , \\n', '\\n \\n \\n \\n \\n', '\\n \\n \\n \\n \\n', '\\n \\n \\n \\n \\n', ', \\n \\n \\n \\n', '\\n \\n \\n \\n \\n', '\\n \\n \\n \\n \\n', '\\n \\n \\n , \\n', '\\n \\n \\n \\n \\n', '\\n \\n \\n \\n \\n', '\\n \\n \\n \\n \\n', '\\n \\n \\n \\n \\n', '\\n \\n \\n \\n \\n']\n"
     ]
    },
    {
     "name": "stderr",
     "output_type": "stream",
     "text": [
      "\r",
      " 13%|███████████████▏                                                                                                        | 379/2999 [2:05:32<14:13:27, 19.54s/it]"
     ]
    },
    {
     "name": "stdout",
     "output_type": "stream",
     "text": [
      "['\\n \\n \\n \\n \\n', '\\n \\n \\n \\n \\n', '\\n \\n \\n \\n \\n', '\\n \\n \\n , \\n', '\\n \\n \\n \\n \\n', '\\n \\n \\n \\n \\n', ', \\n GoldMagikarp , ,', '\\n \\n \\n \\n \\n', '\\n \\n , \\n \\n', '\\n \\n \\n \\n \\n', ', \\n \\n \\n \\n', '\\n \\n , \\n \\n', '\\n \\n \\n \\n \\n', '\\n \\n \\n \\n \\n', '\\n \\n \\n \\n \\n', '\\n , \\n \\n ,']\n",
      "['\\n \\n \\n \\n \\n', '\\n \\n \\n , \\n', '\\n \\n \\n \\n \\n', '\\n \\n \\n \\n \\n', '\\n \\n \\n \\n \\n', '\\n \\n , \\n \\n', '\\n \\n \\n \\n \\n', '\\n \\n \\n , \\n', '\\n \\n \\n \\n \\n', '\\n \\n \\n , \\n', '\\n \\n \\n \\n \\n', '\\n \\n \\n \\n \\n', '\\n \\n \\n , \\n', '\\n \\n \\n \\n \\n', '\\n \\n \\n \\n \\n', '\\n \\n \\n \\n \\n']\n"
     ]
    },
    {
     "name": "stderr",
     "output_type": "stream",
     "text": [
      "\r",
      " 13%|███████████████▏                                                                                                        | 380/2999 [2:05:52<14:13:22, 19.55s/it]"
     ]
    },
    {
     "name": "stdout",
     "output_type": "stream",
     "text": [
      "['\\n \\n \\n , \\n', '\\n \\n \\n \\n \\n', '\\n \\n \\n \\n \\n', '\\n \\n \\n \\n \\n', '\\n \\n \\n \\n \\n', '\\n \\n \\n \\n \\n', 'recogn , , \\n \\n', '\\n \\n \\n \\n \\n', '\\n \\n \\n \\n \\n', '\\n \\n \\n \\n \\n', '\\n \\n , \\n \\n', ', \\n \\n \\n \\n', '\\n \\n , \\n \\n', '\\n \\n \\n \\n \\n', '\\n \\n \\n \\n \\n', ', \\n \\n \\n \\n']\n",
      "['\\n \\n \\n \\n \\n', '\\n \\n \\n \\n \\n', '\\n \\n \\n \\n \\n', '\\n , , \\n \\n', '\\n \\n \\n \\n \\n', '\\n \\n \\n \\n \\n', '\\n \\n \\n \\n \\n', '\\n \\n \\n \\n \\n', '\\n \\n \\n , \\n', '\\n \\n \\n \\n ,', '\\n \\n \\n \\n \\n', '\\n \\n , \\n \\n', '\\n \\n \\n \\n \\n', '\\n \\n \\n \\n ,', '\\n \\n \\n \\n \\n', '\\n \\n \\n \\n ,']\n"
     ]
    },
    {
     "name": "stderr",
     "output_type": "stream",
     "text": [
      "\r",
      " 13%|███████████████▏                                                                                                        | 381/2999 [2:06:11<14:13:43, 19.57s/it]"
     ]
    },
    {
     "name": "stdout",
     "output_type": "stream",
     "text": [
      "57.32447052001953 0.5\n",
      "['\\n \\n \\n , \\n', '\\n \\n \\n , \\n', '\\n \\n \\n \\n \\n', ', \\n \\n \\n \\n', '\\n \\n \\n \\n \\n', ' thread , \\n \\n \\n', '\\n \\n \\n \\n \\n', '\\n \\n \\n \\n \\n', '\\n \\n , \\n \\n', '\\n \\n \\n \\n \\n', '\\n \\n \\n \\n \\n', '\\n \\n \\n \\n \\n', '\\n \\n , \\n \\n', '952 , , \\n \\n', '\\n \\n \\n \\n ,', ' shells , , \\n \\n']\n",
      "['\\n \\n \\n \\n \\n', '\\n \\n \\n \\n \\n', '\\n \\n \\n \\n \\n', '\\n \\n \\n \\n \\n', '\\n \\n \\n \\n \\n', '\\n \\n \\n \\n \\n', ', \\n \\n \\n \\n', ', \\n \\n \\n \\n', '\\n \\n \\n \\n \\n', '\\n \\n \\n \\n \\n', ', \\n GoldMagikarp , ,', '\\n \\n \\n \\n ,', '\\n \\n , \\n \\n', '\\n \\n , \\n \\n', '\\n \\n \\n \\n \\n', '\\n \\n \\n \\n \\n']\n"
     ]
    },
    {
     "name": "stderr",
     "output_type": "stream",
     "text": [
      "\r",
      " 13%|███████████████▎                                                                                                        | 382/2999 [2:06:31<14:12:53, 19.55s/it]"
     ]
    },
    {
     "name": "stdout",
     "output_type": "stream",
     "text": [
      "[', \\n \\n \\n \\n', ' crypto , , , \\n', '\\n \\n \\n \\n \\n', '\\n \\n \\n \\n \\n', '\\n \\n \\n , \\n', '\\n \\n , \\n \\n', '\\n \\n \\n \\n \\n', '\\n \\n \\n \\n \\n', '\\n \\n \\n \\n \\n', '\\n \\n \\n \\n \\n', '\\n \\n \\n \\n \\n', ', \\n \\n \\n \\n', '\\n , \\n \\n \\n', '\\n \\n \\n \\n \\n', '\\n \\n \\n \\n \\n', '\\n \\n \\n \\n \\n']\n",
      "['\\n \\n \\n \\n \\n', '\\n \\n \\n , \\n', '\\n \\n \\n \\n \\n', '\\n \\n \\n \\n \\n', ', \\n \\n \\n \\n', '\\n \\n \\n , \\n', '\\n \\n \\n \\n ,', '\\n \\n \\n \\n \\n', '\\n \\n \\n \\n \\n', '\\n \\n \\n \\n ,', '\\n \\n \\n \\n \\n', '\\n \\n , \\n \\n', '\\n \\n \\n \\n ,', '\\n \\n \\n \\n \\n', '\\n \\n \\n \\n \\n', '\\n \\n \\n \\n \\n']\n"
     ]
    },
    {
     "name": "stderr",
     "output_type": "stream",
     "text": [
      "\r",
      " 13%|███████████████▎                                                                                                        | 383/2999 [2:06:50<14:12:50, 19.56s/it]"
     ]
    },
    {
     "name": "stdout",
     "output_type": "stream",
     "text": [
      "['\\n \\n \\n \\n \\n', '\\n \\n \\n \\n \\n', '\\n \\n \\n \\n \\n', '\\n , \\n \\n ,', '\\n \\n \\n \\n \\n', '\\n \\n \\n \\n \\n', ' quarterly , , \\n \\n', '\\n \\n \\n , \\n', '\\n \\n \\n \\n \\n', '\\n , \\n \\n \\n', '\\n \\n \\n \\n \\n', '\\n \\n \\n , \\n', '\\n \\n \\n \\n \\n', '\\n \\n \\n \\n \\n', '\\n \\n \\n \\n \\n', '\\n \\n \\n , \\n']\n",
      "['\\n \\n \\n \\n \\n', '\\n \\n \\n , \\n', '\\n \\n \\n \\n \\n', ', \\n \\n \\n \\n', '\\n \\n , \\n \\n', ', \\n \\n \\n \\n', ', \\n \\n \\n \\n', '\\n \\n \\n \\n \\n', '\\n \\n \\n \\n \\n', '\\n \\n \\n \\n \\n', ', \\n \\n \\n \\n', ', , \\n \\n \\n', '\\n \\n , \\n \\n', '\\n \\n \\n , \\n', '\\n \\n \\n \\n \\n', '\\n \\n \\n , \\n']\n"
     ]
    },
    {
     "name": "stderr",
     "output_type": "stream",
     "text": [
      "\r",
      " 13%|███████████████▎                                                                                                        | 384/2999 [2:07:10<14:12:19, 19.56s/it]"
     ]
    },
    {
     "name": "stdout",
     "output_type": "stream",
     "text": [
      "['\\n \\n \\n \\n \\n', '\\n \\n \\n \\n \\n', ', \\n \\n \\n \\n', '\\n \\n , \\n \\n', '\\n \\n \\n \\n \\n', '\\n \\n , , \\n', '\\n \\n \\n \\n \\n', '\\n \\n \\n \\n \\n', ' Exploration , , , \\n', '\\n \\n \\n \\n \\n', '\\n \\n \\n \\n \\n', '\\n \\n \\n , \\n', '\\n \\n , \\n \\n', '\\n \\n \\n \\n \\n', '\\n \\n \\n \\n \\n', '\\n \\n \\n \\n \\n']\n",
      "['\\n \\n \\n \\n \\n', '\\n , \\n \\n \\n', '\\n \\n \\n \\n \\n', ', \\n \\n \\n \\n', '\\n \\n \\n , \\n', '\\n \\n , \\n ,', '\\n \\n \\n \\n \\n', '\\n \\n \\n \\n ,', '\\n \\n \\n , \\n', ', \\n \\n \\n \\n', '\\n \\n \\n \\n \\n', ', \\n \\n \\n \\n', ', , \\n \\n \\n', '\\n \\n \\n \\n \\n', '\\n \\n \\n \\n \\n', ', \\n \\n \\n \\n']\n"
     ]
    },
    {
     "name": "stderr",
     "output_type": "stream",
     "text": [
      "\r",
      " 13%|███████████████▍                                                                                                        | 385/2999 [2:07:29<14:13:00, 19.58s/it]"
     ]
    },
    {
     "name": "stdout",
     "output_type": "stream",
     "text": [
      "['\\n \\n \\n \\n \\n', '\\n \\n \\n \\n \\n', '\\n \\n \\n , \\n', '\\n \\n \\n \\n \\n', ' EQ , , \\n \\n', '\\n \\n \\n \\n \\n', '\\n \\n \\n \\n \\n', '\\n \\n \\n \\n \\n', '\\n \\n , \\n \\n', '\\n \\n \\n \\n \\n', '\\n \\n \\n \\n \\n', '\\n \\n , \\n \\n', '\\n \\n \\n , \\n', '\\n \\n \\n \\n \\n', '\\n \\n \\n , \\n', '\\n \\n \\n \\n \\n']\n",
      "['\\n \\n \\n \\n \\n', '\\n \\n \\n \\n \\n', ', \\n \\n \\n \\n', '\\n \\n \\n \\n \\n', '\\n \\n \\n \\n \\n', '\\n , \\n \\n \\n', '\\n \\n \\n \\n \\n', '\\n \\n , \\n \\n', '\\n \\n \\n , \\n', '\\n \\n \\n \\n \\n', '\\n \\n \\n \\n \\n', '\\n \\n \\n , \\n', '\\n \\n , \\n \\n', '\\n \\n \\n \\n \\n', '\\n \\n \\n \\n \\n', '\\n \\n , \\n \\n']\n"
     ]
    },
    {
     "name": "stderr",
     "output_type": "stream",
     "text": [
      "\r",
      " 13%|███████████████▍                                                                                                        | 386/2999 [2:07:49<14:13:27, 19.60s/it]"
     ]
    },
    {
     "name": "stdout",
     "output_type": "stream",
     "text": [
      "['\\n \\n , \\n \\n', '\\n \\n \\n \\n \\n', '\\n \\n \\n \\n \\n', '\\n \\n \\n \\n ,', '\\n \\n \\n \\n \\n', '\\n \\n , \\n \\n', '\\n \\n \\n \\n \\n', '\\n \\n , \\n \\n', '\\n \\n , \\n \\n', '\\n \\n \\n \\n \\n', ' leash , , , \\n', '\\n \\n \\n \\n ,', '\\n \\n , \\n \\n', '\\n \\n \\n \\n \\n', ' Sere , , , \\n', '\\n \\n \\n \\n \\n']\n",
      "['\\n , \\n \\n \\n', '\\n \\n \\n \\n \\n', '\\n \\n \\n , \\n', '\\n \\n , \\n \\n', '\\n \\n , \\n \\n', '\\n \\n \\n \\n \\n', '\\n \\n \\n \\n \\n', '\\n \\n \\n , \\n', '\\n \\n \\n \\n \\n', '\\n \\n \\n \\n ,', '\\n \\n \\n \\n \\n', '\\n , \\n \\n ,', '\\n \\n \\n \\n \\n', '\\n \\n \\n \\n \\n', '\\n \\n \\n \\n \\n', '\\n \\n \\n \\n \\n']\n"
     ]
    },
    {
     "name": "stderr",
     "output_type": "stream",
     "text": [
      "\r",
      " 13%|███████████████▍                                                                                                        | 387/2999 [2:08:09<14:13:15, 19.60s/it]"
     ]
    },
    {
     "name": "stdout",
     "output_type": "stream",
     "text": [
      "['\\n \\n , \\n ,', ', \\n \\n \\n \\n', '\\n \\n , \\n \\n', '\\n , \\n \\n \\n', '\\n \\n \\n \\n \\n', '\\n \\n \\n \\n \\n', '\\n \\n \\n \\n ,', '\\n \\n \\n \\n \\n', '\\n \\n \\n \\n \\n', ' goof , , , \\n', '\\n , \\n \\n ,', '\\n \\n \\n \\n \\n', '\\n \\n \\n \\n \\n', '\\n \\n \\n \\n \\n', '\\n \\n \\n \\n \\n', '72 , , \\n \\n']\n",
      "['\\n \\n \\n \\n \\n', '\\n \\n \\n \\n \\n', '\\n \\n \\n \\n \\n', '\\n \\n \\n \\n \\n', '\\n \\n , \\n \\n', '\\n \\n \\n \\n \\n', '\\n \\n \\n \\n \\n', '\\n \\n , \\n \\n', '\\n \\n \\n \\n \\n', '\\n \\n \\n \\n \\n', '\\n \\n \\n \\n \\n', '\\n \\n , \\n \\n', '\\n \\n , \\n \\n', '\\n \\n \\n , \\n', ', \\n \\n \\n \\n', '\\n \\n \\n \\n \\n']\n"
     ]
    },
    {
     "name": "stderr",
     "output_type": "stream",
     "text": [
      "\r",
      " 13%|███████████████▌                                                                                                        | 388/2999 [2:08:28<14:12:29, 19.59s/it]"
     ]
    },
    {
     "name": "stdout",
     "output_type": "stream",
     "text": [
      "['\\n \\n \\n \\n \\n', '\\n \\n \\n \\n \\n', '\\n \\n , \\n \\n', '\\n , \\n \\n ,', '\\n \\n \\n \\n \\n', '\\n \\n , \\n \\n', '\\n \\n , \\n \\n', '\\n \\n \\n \\n \\n', '\\n \\n \\n \\n \\n', ', \\n \\n \\n \\n', '\\n \\n , \\n \\n', '\\n \\n \\n , \\n', '\\n \\n , \\n \\n', '\\n \\n , \\n \\n', '\\n \\n \\n \\n \\n', '\\n , \\n \\n \\n']\n",
      "['\\n \\n \\n \\n \\n', '\\n \\n \\n \\n \\n', '\\n \\n \\n \\n \\n', '\\n \\n \\n , \\n', '\\n \\n \\n \\n \\n', '\\n \\n , \\n \\n', '\\n \\n \\n \\n \\n', '\\n \\n \\n , \\n', '\\n \\n \\n , \\n', '\\n \\n \\n \\n \\n', '\\n \\n \\n \\n \\n', '\\n , \\n \\n ,', '\\n \\n \\n \\n \\n', '\\n \\n \\n \\n \\n', '\\n \\n \\n \\n \\n', '\\n \\n \\n \\n \\n']\n"
     ]
    },
    {
     "name": "stderr",
     "output_type": "stream",
     "text": [
      "\r",
      " 13%|███████████████▌                                                                                                        | 389/2999 [2:08:48<14:10:47, 19.56s/it]"
     ]
    },
    {
     "name": "stdout",
     "output_type": "stream",
     "text": [
      "['\\n \\n \\n \\n \\n', '\\n \\n \\n , \\n', '\\n \\n \\n \\n \\n', '\\n \\n \\n \\n \\n', '\\n \\n \\n \\n \\n', ' dope , , , \\n', '\\n \\n \\n , \\n', '\\n , \\n \\n \\n', 'oker , , \\n \\n', '\\n \\n \\n \\n \\n', '\\n \\n \\n \\n \\n', '\\n , \\n \\n \\n', 'mL , , , \\n', '\\n \\n \\n \\n \\n', '\\n \\n \\n \\n \\n', '\\n \\n \\n \\n \\n']\n",
      "['\\n \\n \\n \\n \\n', '\\n \\n \\n \\n \\n', '\\n \\n \\n \\n \\n', '\\n \\n \\n \\n \\n', '\\n \\n \\n , \\n', '\\n \\n \\n \\n ,', '\\n \\n \\n \\n ,', '\\n \\n \\n \\n \\n', '\\n \\n , \\n \\n', '\\n \\n \\n \\n \\n', '\\n \\n \\n \\n \\n', '\\n \\n , \\n \\n', ', , \\n \\n \\n', '\\n \\n \\n \\n \\n', '\\n \\n \\n , \\n', '\\n \\n \\n \\n \\n']\n"
     ]
    },
    {
     "name": "stderr",
     "output_type": "stream",
     "text": [
      "\r",
      " 13%|███████████████▌                                                                                                        | 390/2999 [2:09:07<14:11:24, 19.58s/it]"
     ]
    },
    {
     "name": "stdout",
     "output_type": "stream",
     "text": [
      "['\\n \\n \\n \\n \\n', '\\n \\n \\n \\n \\n', '\\n \\n \\n \\n \\n', 'amazon , , \\n \\n', '\\n \\n \\n \\n \\n', '\\n \\n , \\n \\n', '\\n \\n \\n \\n ,', '\\n \\n \\n \\n ,', '\\n \\n \\n \\n \\n', '\\n \\n \\n \\n \\n', '\\n \\n \\n \\n \\n', '\\n \\n \\n , \\n', '\\n , \\n \\n ,', ' Teddy , , , \\n', '\\n \\n \\n \\n \\n', '\\n \\n \\n \\n \\n']\n",
      "['\\n \\n \\n \\n \\n', '\\n \\n \\n , \\n', '\\n \\n \\n \\n \\n', '\\n \\n \\n \\n \\n', '\\n \\n \\n \\n ,', '\\n \\n , \\n \\n', ', \\n \\n \\n \\n', '\\n \\n \\n \\n \\n', '\\n \\n \\n \\n \\n', '\\n \\n \\n \\n \\n', '\\n \\n , \\n \\n', '\\n \\n , \\n \\n', '\\n \\n , \\n \\n', '\\n \\n \\n \\n \\n', '\\n \\n \\n \\n \\n', '\\n \\n , \\n \\n']\n"
     ]
    },
    {
     "name": "stderr",
     "output_type": "stream",
     "text": [
      "\r",
      " 13%|███████████████▋                                                                                                        | 391/2999 [2:09:27<14:12:12, 19.61s/it]"
     ]
    },
    {
     "name": "stdout",
     "output_type": "stream",
     "text": [
      "51.90077209472656 0.5390625\n",
      "['\\n \\n \\n \\n \\n', '010 , , \\n \\n', '\\n \\n \\n \\n \\n', '\\n \\n , \\n ,', '\\n \\n \\n , \\n', '\\n \\n , \\n \\n', ' issues , , , \\n', '\\n \\n \\n \\n \\n', '\\n \\n , \\n \\n', ' occas , , \\n \\n', '\\n \\n \\n \\n \\n', '\\n \\n \\n \\n \\n', '\\n \\n \\n \\n \\n', '\\n \\n \\n \\n \\n', '\\n \\n \\n \\n \\n', '\\n \\n \\n \\n \\n']\n",
      "['\\n \\n \\n \\n \\n', '\\n \\n \\n , \\n', '\\n \\n \\n \\n \\n', '\\n \\n , \\n \\n', '\\n \\n \\n \\n \\n', '\\n , \\n \\n \\n', '\\n \\n \\n \\n \\n', '\\n \\n , \\n \\n', '\\n \\n \\n \\n \\n', '\\n \\n \\n \\n \\n', '\\n \\n \\n \\n \\n', '\\n \\n , \\n \\n', '\\n \\n \\n \\n ,', '\\n \\n \\n , \\n', '\\n \\n \\n \\n \\n', '\\n \\n \\n \\n \\n']\n"
     ]
    },
    {
     "name": "stderr",
     "output_type": "stream",
     "text": [
      "\r",
      " 13%|███████████████▋                                                                                                        | 392/2999 [2:09:47<14:11:13, 19.59s/it]"
     ]
    },
    {
     "name": "stdout",
     "output_type": "stream",
     "text": [
      "['\\n \\n \\n \\n \\n', ' dreaded , , \\n \\n', '\\n \\n \\n \\n \\n', '\\n \\n , \\n \\n', ' helps , , \\n \\n', '\\n \\n \\n \\n \\n', '\\n \\n \\n \\n \\n', '\\n \\n \\n \\n \\n', '\\n \\n \\n \\n \\n', '\\n \\n \\n \\n \\n', '\\n \\n \\n \\n \\n', '\\n \\n \\n \\n \\n', '\\n \\n , \\n \\n', '\\n \\n \\n \\n \\n', '\\n \\n \\n \\n \\n', '\\n \\n \\n \\n \\n']\n",
      "['\\n \\n \\n \\n \\n', '\\n \\n \\n \\n \\n', '\\n \\n \\n \\n \\n', '\\n \\n \\n \\n \\n', '\\n \\n \\n \\n \\n', '\\n , \\n \\n \\n', '\\n \\n \\n \\n \\n', '\\n \\n \\n \\n \\n', '\\n \\n \\n \\n \\n', '\\n \\n \\n \\n \\n', '\\n \\n \\n , \\n', '\\n \\n \\n \\n \\n', '\\n \\n \\n \\n \\n', '\\n \\n , \\n \\n', '\\n \\n \\n \\n \\n', '\\n \\n \\n \\n \\n']\n"
     ]
    },
    {
     "name": "stderr",
     "output_type": "stream",
     "text": [
      "\r",
      " 13%|███████████████▋                                                                                                        | 393/2999 [2:10:06<14:12:41, 19.63s/it]"
     ]
    },
    {
     "name": "stdout",
     "output_type": "stream",
     "text": [
      "['\\n \\n \\n \\n \\n', '\\n \\n , \\n \\n', '\\n \\n \\n \\n \\n', '\\n , \\n \\n \\n', '\\n \\n \\n \\n ,', '\\n \\n \\n \\n ,', '\\n \\n \\n , \\n', '\\n , \\n \\n \\n', '\\n \\n \\n \\n \\n', '\\n \\n \\n \\n \\n', '\\n \\n \\n \\n ,', '\\n \\n \\n \\n \\n', '\\n \\n , \\n \\n', '\\n \\n \\n \\n \\n', ' testing , , , \\n', '\\n \\n \\n \\n \\n']\n",
      "['\\n \\n \\n \\n \\n', '\\n \\n \\n \\n \\n', '\\n \\n \\n \\n \\n', '\\n \\n \\n \\n ,', '\\n \\n \\n \\n \\n', '\\n \\n \\n \\n \\n', '\\n \\n , \\n \\n', '\\n \\n \\n \\n \\n', '\\n \\n \\n \\n \\n', '\\n \\n \\n \\n \\n', '\\n \\n \\n \\n \\n', '\\n \\n \\n \\n ,', '\\n \\n \\n \\n \\n', '\\n \\n \\n \\n \\n', '\\n \\n \\n \\n \\n', '\\n \\n \\n \\n \\n']\n"
     ]
    },
    {
     "name": "stderr",
     "output_type": "stream",
     "text": [
      "\r",
      " 13%|███████████████▊                                                                                                        | 394/2999 [2:10:26<14:11:03, 19.60s/it]"
     ]
    },
    {
     "name": "stdout",
     "output_type": "stream",
     "text": [
      "['\\n \\n \\n \\n \\n', '\\n \\n , \\n \\n', '\\n \\n \\n \\n \\n', '\\n \\n \\n \\n \\n', '\\n \\n \\n \\n \\n', '\\n , \\n \\n \\n', 'ospace , , \\n \\n', ', \\n \\n \\n \\n', '\\n \\n \\n , \\n', '\\n \\n \\n \\n \\n', '\\n \\n \\n \\n \\n', '\\n \\n , \\n \\n', ' sorts , , \\n \\n', '\\n \\n , \\n \\n', '\\n \\n \\n \\n \\n', '\\n \\n \\n \\n \\n']\n",
      "['\\n \\n \\n \\n \\n', '\\n \\n \\n \\n \\n', '\\n \\n \\n \\n \\n', '\\n \\n \\n \\n \\n', '\\n \\n \\n \\n \\n', '\\n \\n \\n , \\n', ', \\n \\n \\n \\n', '\\n \\n \\n , \\n', '\\n \\n \\n , \\n', '\\n \\n \\n \\n \\n', '\\n \\n \\n \\n \\n', '\\n \\n , \\n \\n', '\\n \\n , \\n \\n', '\\n \\n \\n \\n \\n', '\\n \\n \\n \\n \\n', '\\n \\n \\n \\n \\n']\n"
     ]
    },
    {
     "name": "stderr",
     "output_type": "stream",
     "text": [
      "\r",
      " 13%|███████████████▊                                                                                                        | 395/2999 [2:10:45<14:09:49, 19.58s/it]"
     ]
    },
    {
     "name": "stdout",
     "output_type": "stream",
     "text": [
      "['\\n \\n , \\n \\n', '\\n \\n , \\n \\n', '\\n \\n \\n , \\n', ', \\n \\n \\n \\n', ', \\n \\n \\n \\n', '\\n \\n , \\n \\n', '\\n \\n \\n \\n \\n', ', \\n \\n \\n \\n', '\\n \\n \\n , \\n', '\\n \\n \\n \\n ,', '\\n \\n \\n \\n \\n', '\\n \\n , \\n \\n', '\\n \\n \\n \\n \\n', '\\n \\n \\n \\n \\n', '\\n \\n \\n \\n \\n', '\\n \\n , \\n \\n']\n",
      "['\\n \\n \\n \\n \\n', '\\n \\n \\n \\n \\n', '\\n , \\n \\n \\n', '\\n , \\n \\n \\n', '\\n \\n , \\n \\n', '\\n \\n , \\n ,', '\\n \\n \\n \\n \\n', '\\n \\n \\n \\n \\n', '\\n \\n \\n \\n \\n', '\\n \\n \\n \\n \\n', '\\n \\n \\n \\n \\n', '\\n \\n , \\n \\n', '\\n \\n , \\n \\n', '\\n \\n \\n \\n \\n', '\\n \\n \\n \\n ,', '\\n \\n \\n \\n \\n']\n"
     ]
    },
    {
     "name": "stderr",
     "output_type": "stream",
     "text": [
      "\r",
      " 13%|███████████████▊                                                                                                        | 396/2999 [2:11:05<14:08:03, 19.55s/it]"
     ]
    },
    {
     "name": "stdout",
     "output_type": "stream",
     "text": [
      "['\\n \\n \\n \\n \\n', '\\n \\n \\n \\n \\n', '\\n \\n \\n \\n ,', '\\n \\n \\n \\n \\n', '\\n \\n \\n \\n \\n', '\\n \\n \\n \\n \\n', '\\n \\n \\n \\n \\n', '\\n \\n , \\n \\n', '\\n \\n \\n \\n \\n', '\\n \\n \\n \\n ,', '\\n , \\n \\n ,', '\\n \\n \\n , \\n', '\\n \\n \\n \\n \\n', '\\n \\n \\n \\n ,', '\\n \\n \\n \\n \\n', '\\n , \\n \\n ,']\n",
      "['\\n \\n \\n \\n \\n', '\\n \\n \\n \\n \\n', '\\n \\n \\n \\n \\n', '\\n \\n \\n \\n \\n', '\\n \\n \\n \\n \\n', '\\n \\n , \\n \\n', '\\n \\n \\n \\n \\n', '\\n \\n \\n , \\n', '\\n \\n \\n \\n \\n', '\\n \\n \\n \\n \\n', '\\n \\n , \\n \\n', '\\n \\n \\n \\n \\n', '\\n \\n \\n \\n \\n', '\\n \\n \\n \\n \\n', '\\n \\n \\n \\n \\n', '\\n \\n \\n \\n \\n']\n"
     ]
    },
    {
     "name": "stderr",
     "output_type": "stream",
     "text": [
      "\r",
      " 13%|███████████████▉                                                                                                        | 397/2999 [2:11:24<14:08:11, 19.56s/it]"
     ]
    },
    {
     "name": "stdout",
     "output_type": "stream",
     "text": [
      "['\\n \\n \\n , \\n', '\\n \\n \\n \\n \\n', '\\n \\n \\n , \\n', '\\n \\n \\n , \\n', '\\n \\n \\n \\n \\n', '\\n \\n , \\n \\n', '\\n \\n \\n \\n \\n', 'duration , , \\n \\n', '\\n \\n \\n \\n \\n', '\\n \\n \\n \\n \\n', '\\n \\n \\n \\n \\n', '\\n \\n , \\n \\n', '\\n \\n \\n \\n \\n', ' destinations , , \\n \\n', 'Nap , , , \\n', '\\n \\n \\n \\n \\n']\n",
      "['\\n \\n \\n \\n \\n', '\\n \\n \\n \\n \\n', '\\n \\n , \\n \\n', '\\n \\n \\n \\n \\n', '\\n \\n \\n \\n \\n', '\\n \\n \\n \\n \\n', '\\n \\n \\n \\n \\n', '\\n \\n \\n \\n \\n', '\\n \\n \\n \\n \\n', '\\n \\n \\n \\n \\n', '\\n \\n \\n \\n \\n', '\\n \\n , \\n \\n', '\\n \\n , \\n \\n', '\\n \\n \\n \\n \\n', '\\n \\n \\n \\n \\n', '\\n \\n \\n \\n \\n']\n"
     ]
    },
    {
     "name": "stderr",
     "output_type": "stream",
     "text": [
      "\r",
      " 13%|███████████████▉                                                                                                        | 398/2999 [2:11:44<14:07:34, 19.55s/it]"
     ]
    },
    {
     "name": "stdout",
     "output_type": "stream",
     "text": [
      "['\\n \\n \\n \\n \\n', '\\n \\n \\n \\n \\n', '\\n \\n \\n \\n \\n', '\\n , \\n \\n \\n', '\\n \\n \\n , \\n', 'rika , , \\n \\n', '\\n \\n \\n \\n \\n', '\\n \\n \\n \\n \\n', '\\n \\n \\n \\n \\n', '\\n \\n \\n \\n \\n', '\\n \\n \\n \\n \\n', '\\n \\n \\n \\n \\n', '\\n \\n \\n \\n \\n', '\\n \\n \\n \\n \\n', '\\n \\n \\n \\n \\n', ', \\n \\n \\n \\n']\n",
      "['\\n \\n \\n \\n \\n', '\\n \\n \\n \\n \\n', '\\n \\n \\n \\n ,', '\\n \\n , \\n \\n', '\\n \\n \\n \\n \\n', '\\n \\n \\n \\n \\n', '\\n \\n \\n \\n \\n', '\\n \\n \\n \\n \\n', '\\n \\n \\n \\n \\n', '\\n \\n \\n \\n \\n', '\\n \\n \\n \\n \\n', '\\n \\n \\n \\n \\n', '\\n , \\n \\n \\n', '\\n \\n \\n \\n \\n', '\\n \\n \\n \\n \\n', '\\n \\n \\n \\n \\n']\n"
     ]
    },
    {
     "name": "stderr",
     "output_type": "stream",
     "text": [
      "\r",
      " 13%|███████████████▉                                                                                                        | 399/2999 [2:12:04<14:08:17, 19.58s/it]"
     ]
    },
    {
     "name": "stdout",
     "output_type": "stream",
     "text": [
      "[' Lock , , , \\n', '\\n \\n \\n \\n \\n', '\\n \\n \\n \\n \\n', '\\n \\n \\n \\n \\n', '\\n \\n \\n \\n \\n', ', \\n GoldMagikarp , ,', ' inventive , , , \\n', ' automatic , , \\n \\n', '\\n \\n \\n \\n \\n', ', \\n \\n GoldMagikarp ,', '\\n \\n \\n \\n \\n', '\\n \\n \\n \\n \\n', '\\n \\n , \\n \\n', '\\n \\n , \\n \\n', '\\n \\n \\n \\n \\n', ' 104 , , \\n \\n']\n",
      "['\\n \\n \\n \\n \\n', '\\n \\n \\n \\n \\n', '\\n \\n \\n \\n \\n', '\\n \\n \\n \\n \\n', '\\n \\n \\n \\n \\n', '\\n \\n , \\n \\n', '\\n \\n \\n \\n \\n', '\\n \\n \\n \\n \\n', '\\n \\n \\n , \\n', '\\n \\n \\n \\n \\n', '\\n \\n \\n \\n \\n', '\\n \\n \\n \\n \\n', '\\n , \\n \\n \\n', '\\n \\n \\n \\n \\n', '\\n \\n \\n \\n \\n', '\\n \\n \\n \\n \\n']\n"
     ]
    },
    {
     "name": "stderr",
     "output_type": "stream",
     "text": [
      "\r",
      " 13%|████████████████                                                                                                        | 400/2999 [2:12:23<14:07:32, 19.57s/it]"
     ]
    },
    {
     "name": "stdout",
     "output_type": "stream",
     "text": [
      "['\\n \\n \\n \\n \\n', '\\n \\n \\n \\n \\n', '\\n \\n \\n \\n \\n', '\\n \\n \\n \\n \\n', '\\n \\n \\n \\n ,', '\\n \\n , , \\n', '\\n \\n \\n \\n \\n', ', \\n \\n \\n \\n', '\\n \\n \\n \\n \\n', '\\n \\n \\n \\n \\n', ', \\n GoldMagikarp , ,', '\\n \\n \\n \\n \\n', '\\n \\n \\n \\n \\n', 'Spread , , \\n \\n', 'Wra , , \\n \\n', '\\n \\n \\n , \\n']\n",
      "['\\n \\n , \\n \\n', '\\n \\n \\n \\n \\n', '\\n \\n \\n \\n \\n', '\\n , \\n \\n ,', '\\n \\n \\n \\n \\n', '\\n \\n \\n \\n \\n', '\\n \\n \\n \\n \\n', '\\n \\n \\n \\n \\n', '\\n \\n \\n \\n \\n', '\\n \\n \\n \\n \\n', '\\n \\n , \\n \\n', '\\n \\n \\n \\n \\n', '\\n \\n , \\n \\n', '\\n \\n \\n \\n \\n', '\\n \\n \\n \\n \\n', '\\n \\n \\n \\n \\n']\n"
     ]
    },
    {
     "name": "stderr",
     "output_type": "stream",
     "text": [
      "\r",
      " 13%|████████████████                                                                                                        | 401/2999 [2:12:43<14:07:21, 19.57s/it]"
     ]
    },
    {
     "name": "stdout",
     "output_type": "stream",
     "text": [
      "42.36240768432617 0.5234375\n",
      "['\\n \\n \\n \\n \\n', '\\n \\n \\n \\n ,', '\\n \\n \\n \\n \\n', '\\n \\n \\n \\n \\n', '\\n \\n , \\n \\n', '\\n \\n \\n \\n \\n', ' numerical , , \\n \\n', 'ombs , , \\n \\n', '\\n \\n \\n \\n \\n', '\\n \\n \\n \\n \\n', '\\n \\n , \\n \\n', '\\n \\n \\n \\n \\n', ', , \\n \\n \\n', '\\n \\n \\n \\n \\n', '\\n \\n \\n \\n \\n', '\\n \\n , \\n \\n']\n",
      "['\\n \\n \\n \\n \\n', '\\n \\n \\n \\n \\n', '\\n \\n \\n \\n \\n', '\\n \\n \\n \\n \\n', ', \\n \\n \\n \\n', '\\n \\n \\n \\n \\n', '\\n \\n \\n \\n \\n', '\\n , \\n \\n \\n', '\\n \\n , \\n \\n', '\\n \\n \\n \\n \\n', '\\n \\n \\n , \\n', '\\n \\n \\n \\n \\n', '\\n \\n , \\n \\n', '\\n \\n \\n \\n \\n', '\\n \\n \\n \\n \\n', '\\n \\n \\n \\n \\n']\n"
     ]
    },
    {
     "name": "stderr",
     "output_type": "stream",
     "text": [
      "\r",
      " 13%|████████████████                                                                                                        | 402/2999 [2:13:02<14:07:29, 19.58s/it]"
     ]
    },
    {
     "name": "stdout",
     "output_type": "stream",
     "text": [
      "['\\n \\n \\n \\n \\n', '\\n \\n \\n \\n \\n', '\\n \\n \\n , \\n', '\\n \\n \\n \\n \\n', '\\n \\n \\n \\n \\n', ' reversed , , \\n \\n', '\\n \\n , \\n \\n', ', \\n \\n \\n \\n', '\\n \\n \\n \\n \\n', '\\n \\n \\n \\n \\n', '\\n \\n \\n \\n \\n', ', \\n \\n \\n \\n', '\\n \\n \\n \\n ,', 'esa , , \\n \\n', '\\n \\n \\n , \\n', '\\n \\n \\n \\n ,']\n",
      "['\\n \\n \\n \\n \\n', '\\n \\n , \\n \\n', '\\n \\n , \\n \\n', '\\n \\n \\n , \\n', '\\n \\n \\n \\n ,', '\\n \\n \\n , \\n', '\\n \\n \\n \\n \\n', ', \\n \\n \\n \\n', '\\n \\n \\n \\n \\n', ', \\n \\n \\n \\n', '\\n \\n , \\n \\n', '\\n \\n \\n \\n \\n', '\\n \\n \\n \\n \\n', '\\n \\n \\n \\n \\n', '\\n \\n \\n \\n \\n', ', \\n \\n \\n \\n']\n"
     ]
    },
    {
     "name": "stderr",
     "output_type": "stream",
     "text": [
      "\r",
      " 13%|████████████████▏                                                                                                       | 403/2999 [2:13:22<14:06:39, 19.57s/it]"
     ]
    },
    {
     "name": "stdout",
     "output_type": "stream",
     "text": [
      "['\\n \\n \\n \\n \\n', '\\n \\n \\n \\n \\n', '\\n \\n \\n \\n \\n', '\\n , , \\n \\n', '\\n \\n , \\n \\n', '\\n \\n \\n , \\n', '\\n \\n \\n \\n \\n', '\\n \\n \\n \\n \\n', '\\n \\n \\n \\n \\n', '\\n \\n \\n , ,', '\\n \\n \\n \\n \\n', '\\n \\n , \\n \\n', '\\n \\n , \\n \\n', 'Jes , , \\n \\n', '\\n \\n \\n \\n ,', ' attainment , , \\n \\n']\n",
      "['\\n \\n \\n , \\n', '\\n \\n \\n \\n \\n', '\\n \\n \\n \\n \\n', '\\n \\n \\n \\n ,', '\\n \\n \\n \\n \\n', '\\n \\n \\n \\n \\n', '\\n \\n \\n , \\n', '\\n \\n \\n \\n \\n', '\\n \\n \\n \\n \\n', '\\n \\n \\n \\n \\n', '\\n \\n \\n \\n \\n', '\\n \\n , \\n \\n', '\\n \\n \\n \\n \\n', '\\n \\n \\n \\n \\n', ', \\n \\n \\n \\n', '\\n \\n \\n \\n \\n']\n"
     ]
    },
    {
     "name": "stderr",
     "output_type": "stream",
     "text": [
      "\r",
      " 13%|████████████████▏                                                                                                       | 404/2999 [2:13:41<14:06:13, 19.57s/it]"
     ]
    },
    {
     "name": "stdout",
     "output_type": "stream",
     "text": [
      "['\\n \\n \\n \\n \\n', '\\n \\n \\n \\n \\n', '\\n \\n \\n \\n \\n', '\\n \\n \\n \\n \\n', '\\n \\n \\n \\n \\n', '\\n \\n , \\n \\n', '\\n \\n \\n , \\n', '\\n \\n \\n \\n \\n', '\\n \\n \\n \\n \\n', '\\n \\n \\n \\n \\n', '\\n \\n \\n , \\n', '\\n \\n \\n \\n \\n', '\\n \\n \\n \\n \\n', '\\n \\n \\n \\n \\n', ', \\n \\n \\n \\n', ', \\n \\n \\n \\n']\n",
      "['\\n \\n , \\n \\n', '\\n \\n \\n \\n \\n', ', \\n \\n \\n \\n', '\\n \\n \\n \\n \\n', '\\n \\n \\n \\n \\n', '\\n \\n \\n \\n \\n', '\\n \\n \\n \\n \\n', '\\n \\n \\n \\n \\n', '\\n \\n \\n , \\n', ', \\n \\n \\n \\n', '\\n \\n \\n \\n \\n', '\\n \\n \\n , \\n', '\\n \\n \\n \\n \\n', '\\n \\n , \\n \\n', '\\n \\n \\n \\n \\n', ', \\n \\n \\n \\n']\n"
     ]
    },
    {
     "name": "stderr",
     "output_type": "stream",
     "text": [
      "\r",
      " 14%|████████████████▏                                                                                                       | 405/2999 [2:14:01<14:06:35, 19.58s/it]"
     ]
    },
    {
     "name": "stdout",
     "output_type": "stream",
     "text": [
      "['\\n \\n \\n \\n \\n', ' ANGEL , , , \\n', '\\n \\n \\n \\n ,', '\\n \\n \\n \\n \\n', '\\n \\n \\n , \\n', '\\n \\n \\n \\n \\n', 'rollment , , \\n \\n', '\\n \\n \\n \\n ,', '\\n \\n \\n \\n \\n', '\\n \\n \\n \\n \\n', 'ibraries , , \\n \\n', '\\n , \\n \\n \\n', '\\n \\n \\n \\n \\n', '\\n \\n \\n \\n \\n', '\\n \\n \\n \\n \\n', '\\n \\n \\n \\n \\n']\n",
      "['\\n \\n \\n \\n \\n', '\\n \\n \\n , \\n', '\\n \\n \\n \\n \\n', '\\n \\n \\n \\n \\n', '\\n \\n \\n \\n \\n', '\\n \\n \\n \\n \\n', '\\n \\n , \\n \\n', '\\n \\n \\n \\n \\n', '\\n \\n \\n \\n \\n', '\\n \\n \\n \\n \\n', '\\n \\n \\n \\n \\n', ', \\n \\n \\n \\n', '\\n , \\n \\n \\n', '\\n \\n \\n \\n \\n', '\\n \\n \\n \\n \\n', '\\n \\n \\n \\n ,']\n"
     ]
    },
    {
     "name": "stderr",
     "output_type": "stream",
     "text": [
      "\r",
      " 14%|████████████████▏                                                                                                       | 406/2999 [2:14:21<14:06:46, 19.59s/it]"
     ]
    },
    {
     "name": "stdout",
     "output_type": "stream",
     "text": [
      "['\\n \\n \\n \\n \\n', '\\n \\n \\n \\n \\n', '\\n \\n \\n \\n \\n', 'ur , , , \\n', '\\n \\n \\n \\n \\n', '\\n \\n \\n \\n \\n', '\\n \\n \\n \\n ,', ', \\n \\n \\n \\n', '\\n \\n \\n \\n \\n', '\\n \\n \\n \\n \\n', '\\n \\n \\n \\n \\n', '\\n \\n , \\n \\n', '\\n \\n , \\n \\n', '\\n \\n \\n , \\n', '\\n \\n \\n \\n \\n', '\\n \\n \\n \\n \\n']\n",
      "['\\n \\n \\n \\n ,', '\\n \\n \\n , \\n', '\\n \\n \\n \\n \\n', ', \\n \\n \\n \\n', ', \\n GoldMagikarp , ,', '\\n \\n , \\n \\n', '\\n \\n \\n \\n \\n', '\\n , \\n \\n \\n', '\\n \\n \\n , \\n', '\\n \\n \\n \\n \\n', '\\n \\n \\n \\n \\n', '\\n \\n , \\n \\n', '\\n \\n \\n \\n \\n', '\\n \\n \\n \\n \\n', '\\n \\n \\n \\n \\n', '\\n \\n \\n \\n \\n']\n"
     ]
    },
    {
     "name": "stderr",
     "output_type": "stream",
     "text": [
      "\r",
      " 14%|████████████████▎                                                                                                       | 407/2999 [2:14:40<14:05:56, 19.58s/it]"
     ]
    },
    {
     "name": "stdout",
     "output_type": "stream",
     "text": [
      "['\\n \\n \\n \\n \\n', '\\n \\n \\n \\n \\n', '\\n \\n \\n \\n \\n', '\\n \\n \\n \\n \\n', '\\n \\n \\n \\n \\n', '\\n \\n \\n \\n \\n', '\\n \\n \\n \\n \\n', '\\n \\n \\n \\n \\n', '\\n \\n , \\n \\n', '\\n \\n \\n \\n \\n', '\\n \\n \\n \\n \\n', '\\n \\n \\n \\n \\n', '\\n \\n \\n \\n \\n', '\\n \\n \\n \\n \\n', '\\n \\n \\n \\n ,', '\\n \\n \\n \\n \\n']\n",
      "['\\n \\n \\n \\n \\n', '\\n \\n \\n \\n ,', '\\n \\n \\n \\n \\n', '\\n \\n \\n , \\n', '\\n \\n \\n \\n \\n', '\\n \\n \\n \\n \\n', ', \\n \\n \\n \\n', '\\n \\n \\n , \\n', '\\n \\n \\n \\n \\n', '\\n \\n \\n \\n \\n', '\\n \\n \\n \\n \\n', '\\n , \\n \\n ,', '\\n \\n \\n \\n \\n', ', \\n \\n \\n \\n', '\\n \\n \\n \\n \\n', '\\n \\n \\n , \\n']\n"
     ]
    },
    {
     "name": "stderr",
     "output_type": "stream",
     "text": [
      "\r",
      " 14%|████████████████▎                                                                                                       | 408/2999 [2:15:00<14:06:30, 19.60s/it]"
     ]
    },
    {
     "name": "stdout",
     "output_type": "stream",
     "text": [
      "['\\n \\n \\n \\n \\n', '\\n \\n \\n \\n \\n', '\\n \\n \\n \\n \\n', '\\n \\n \\n \\n \\n', '\\n \\n \\n \\n \\n', '\\n \\n \\n \\n \\n', '\\n \\n \\n \\n ,', '\\n \\n \\n \\n \\n', '\\n \\n \\n \\n \\n', '\\n \\n , \\n \\n', '\\n \\n , \\n \\n', '\\n \\n \\n \\n \\n', '\\n \\n \\n \\n \\n', '\\n \\n \\n \\n \\n', '\\n \\n \\n \\n \\n', '\\n \\n \\n \\n \\n']\n",
      "['\\n \\n \\n \\n \\n', ', \\n \\n \\n \\n', '\\n \\n \\n \\n ,', '\\n \\n \\n \\n ,', '\\n \\n \\n \\n \\n', '\\n \\n \\n \\n \\n', '\\n \\n \\n \\n \\n', ', \\n \\n \\n \\n', '\\n \\n \\n \\n \\n', '\\n , \\n \\n \\n', '\\n \\n , \\n \\n', '\\n \\n \\n \\n \\n', '\\n \\n , \\n \\n', '\\n \\n \\n \\n \\n', '\\n \\n \\n \\n \\n', '\\n , \\n \\n ,']\n"
     ]
    },
    {
     "name": "stderr",
     "output_type": "stream",
     "text": [
      "\r",
      " 14%|████████████████▎                                                                                                       | 409/2999 [2:15:20<14:06:25, 19.61s/it]"
     ]
    },
    {
     "name": "stdout",
     "output_type": "stream",
     "text": [
      "['\\n \\n \\n \\n \\n', '\\n \\n \\n \\n \\n', '\\n \\n \\n \\n \\n', '\\n \\n \\n \\n \\n', '\\n \\n \\n \\n \\n', '\\n \\n \\n \\n \\n', '\\n \\n \\n \\n \\n', '\\n \\n \\n , \\n', '\\n \\n \\n \\n \\n', '\\n \\n \\n \\n ,', 'aylor , , \\n \\n', '\\n \\n , \\n \\n', 'Ben , , , \\n', '\\n \\n \\n , \\n', '\\n \\n \\n \\n \\n', '\\n \\n \\n \\n \\n']\n",
      "['\\n \\n \\n \\n \\n', '\\n \\n \\n \\n \\n', '\\n \\n \\n \\n \\n', '\\n \\n \\n \\n \\n', '\\n \\n \\n \\n \\n', '\\n \\n \\n \\n \\n', '\\n \\n , \\n \\n', '\\n \\n \\n \\n \\n', '\\n \\n \\n \\n \\n', '\\n \\n \\n \\n \\n', '\\n \\n , \\n \\n', '\\n \\n \\n \\n \\n', '\\n \\n \\n \\n ,', '\\n \\n \\n \\n ,', '\\n \\n \\n \\n \\n', '\\n \\n , \\n \\n']\n"
     ]
    },
    {
     "name": "stderr",
     "output_type": "stream",
     "text": [
      "\r",
      " 14%|████████████████▍                                                                                                       | 410/2999 [2:15:39<14:06:07, 19.61s/it]"
     ]
    },
    {
     "name": "stdout",
     "output_type": "stream",
     "text": [
      "['\\n \\n \\n \\n \\n', '\\n \\n \\n \\n \\n', '\\n \\n \\n \\n \\n', '\\n , \\n \\n \\n', '\\n \\n \\n \\n \\n', 'urate , , \\n \\n', '\\n \\n , \\n \\n', ' al , , , \\n', '\\n \\n \\n \\n ,', '\\n \\n , \\n \\n', '\\n \\n \\n , \\n', '\\n \\n \\n \\n \\n', '\\n \\n \\n , \\n', '\\n \\n \\n \\n ,', '\\n \\n \\n \\n \\n', '˜ , , \\n \\n']\n",
      "['\\n \\n \\n , \\n', '\\n \\n \\n \\n \\n', '\\n \\n \\n \\n \\n', '\\n \\n \\n \\n \\n', '\\n \\n \\n \\n \\n', '\\n \\n \\n , \\n', ', \\n \\n \\n \\n', '\\n \\n \\n , \\n', '\\n \\n \\n \\n \\n', '\\n \\n \\n \\n \\n', '\\n \\n , \\n \\n', ', , \\n \\n \\n', '\\n \\n \\n \\n \\n', '\\n \\n \\n \\n \\n', '\\n \\n \\n \\n \\n', '\\n \\n \\n , \\n']\n"
     ]
    },
    {
     "name": "stderr",
     "output_type": "stream",
     "text": [
      "\r",
      " 14%|████████████████▍                                                                                                       | 411/2999 [2:15:59<14:04:31, 19.58s/it]"
     ]
    },
    {
     "name": "stdout",
     "output_type": "stream",
     "text": [
      "41.55289840698242 0.53125\n",
      "['\\n \\n \\n \\n \\n', '\\n \\n \\n \\n ,', '\\n \\n \\n , \\n', '\\n \\n \\n , \\n', '\\n \\n , \\n \\n', '\\n \\n \\n \\n \\n', '\\n \\n \\n \\n \\n', '\\n \\n \\n \\n \\n', '\\n \\n \\n \\n \\n', '\\n \\n \\n \\n \\n', '\\n \\n \\n \\n \\n', '\\n \\n , \\n \\n', '\\n , \\n \\n ,', '\\n \\n \\n \\n \\n', '\\n \\n \\n \\n ,', '\\n \\n \\n \\n \\n']\n",
      "['\\n \\n \\n \\n \\n', '\\n \\n \\n \\n \\n', '\\n \\n \\n \\n \\n', '\\n , \\n \\n \\n', '\\n \\n \\n \\n \\n', '\\n , \\n \\n \\n', '\\n \\n \\n , \\n', '\\n \\n \\n \\n \\n', '\\n , \\n \\n \\n', '\\n \\n \\n \\n \\n', '\\n \\n \\n \\n \\n', '\\n , \\n \\n \\n', '\\n \\n , \\n \\n', '\\n \\n , \\n \\n', '\\n \\n \\n \\n \\n', '\\n \\n \\n , \\n']\n"
     ]
    },
    {
     "name": "stderr",
     "output_type": "stream",
     "text": [
      "\r",
      " 14%|████████████████▍                                                                                                       | 412/2999 [2:16:18<14:04:21, 19.58s/it]"
     ]
    },
    {
     "name": "stdout",
     "output_type": "stream",
     "text": [
      "['\\n \\n \\n \\n \\n', '\\n \\n \\n , \\n', '\\n \\n \\n , \\n', '\\n \\n \\n \\n \\n', '\\n \\n , \\n \\n', ' lobbyists , , \\n \\n', '\\n \\n , , ,', '\\n \\n \\n , \\n', '\\n \\n \\n \\n \\n', '\\n \\n \\n \\n \\n', ', \\n \\n \\n \\n', '\\n \\n \\n \\n ,', '\\n , \\n \\n \\n', '\\n \\n \\n \\n \\n', '\\n \\n , \\n \\n', ', \\n \\n \\n \\n']\n",
      "['\\n \\n \\n \\n ,', '\\n \\n \\n \\n \\n', '\\n \\n \\n \\n \\n', '\\n \\n \\n \\n \\n', '\\n \\n \\n \\n \\n', '\\n \\n \\n \\n ,', '\\n \\n , \\n \\n', '\\n \\n \\n \\n \\n', '\\n \\n \\n \\n \\n', '\\n \\n \\n \\n \\n', '\\n \\n , \\n \\n', '\\n \\n \\n \\n \\n', '\\n \\n \\n \\n \\n', '\\n \\n \\n \\n \\n', '\\n \\n \\n \\n \\n', '\\n \\n \\n \\n \\n']\n"
     ]
    },
    {
     "name": "stderr",
     "output_type": "stream",
     "text": [
      "\r",
      " 14%|████████████████▌                                                                                                       | 413/2999 [2:16:38<14:04:24, 19.59s/it]"
     ]
    },
    {
     "name": "stdout",
     "output_type": "stream",
     "text": [
      "[' gruesome , , , \\n', '\\n \\n \\n \\n \\n', '\\n \\n \\n \\n \\n', '\\n , \\n \\n \\n', '\\n \\n , \\n \\n', '\\n \\n , \\n \\n', '\\n \\n \\n \\n \\n', ' 800 , , \\n \\n', '\\n \\n , \\n \\n', '\\n \\n \\n \\n \\n', '\\n \\n \\n \\n \\n', '\\n \\n \\n , \\n', '\\n \\n \\n , \\n', '\\n \\n \\n \\n \\n', '\\n \\n \\n \\n \\n', '\\n \\n \\n \\n \\n']\n",
      "['\\n \\n \\n \\n \\n', '\\n \\n \\n \\n \\n', '\\n \\n \\n \\n \\n', '\\n , , \\n \\n', '\\n \\n \\n \\n \\n', '\\n \\n , \\n \\n', '\\n \\n , \\n \\n', '\\n \\n \\n , \\n', '\\n \\n \\n \\n \\n', '\\n \\n \\n \\n \\n', '\\n \\n \\n \\n \\n', '\\n , \\n \\n \\n', '\\n \\n , \\n \\n', '\\n \\n \\n \\n \\n', '\\n \\n \\n \\n \\n', '\\n \\n \\n \\n \\n']\n"
     ]
    },
    {
     "name": "stderr",
     "output_type": "stream",
     "text": [
      "\r",
      " 14%|████████████████▌                                                                                                       | 414/2999 [2:16:57<14:03:38, 19.58s/it]"
     ]
    },
    {
     "name": "stdout",
     "output_type": "stream",
     "text": [
      "[' earthly , , , \\n', '\\n \\n \\n \\n \\n', '\\n \\n \\n \\n \\n', '\\n \\n \\n \\n \\n', 'uling , , \\n \\n', '\\n , \\n \\n \\n', '\\n \\n , \\n \\n', ', \\n \\n \\n \\n', '\\n \\n , \\n \\n', '\\n \\n \\n \\n \\n', '\\n \\n \\n \\n \\n', 'UR , , \\n \\n', '\\n \\n \\n \\n \\n', ' Find , , , \\n', '\\n \\n \\n \\n \\n', '\\n \\n \\n , \\n']\n",
      "['\\n \\n \\n , \\n', '\\n \\n \\n \\n \\n', '\\n \\n \\n , \\n', '\\n \\n \\n \\n ,', '\\n \\n \\n \\n \\n', '\\n \\n , \\n \\n', '\\n \\n \\n \\n \\n', '\\n \\n \\n \\n \\n', '\\n \\n \\n \\n \\n', '\\n \\n \\n \\n ,', '\\n \\n , \\n \\n', '\\n \\n \\n \\n \\n', '\\n \\n \\n \\n \\n', '\\n \\n \\n , \\n', '\\n \\n \\n \\n ,', '\\n \\n \\n \\n \\n']\n"
     ]
    },
    {
     "name": "stderr",
     "output_type": "stream",
     "text": [
      "\r",
      " 14%|████████████████▌                                                                                                       | 415/2999 [2:17:17<14:03:06, 19.58s/it]"
     ]
    },
    {
     "name": "stdout",
     "output_type": "stream",
     "text": [
      "['\\n \\n \\n \\n \\n', '\\n \\n \\n \\n \\n', '\\n \\n \\n , \\n', '\\n , \\n \\n ,', '\\n \\n \\n \\n \\n', '\\n \\n \\n \\n \\n', '\\n \\n \\n \\n \\n', '\\n \\n \\n \\n \\n', '\\n \\n \\n \\n \\n', '\\n \\n \\n \\n \\n', '\\n \\n \\n , \\n', '\\n , \\n \\n \\n', '\\n \\n \\n \\n \\n', ', \\n \\n \\n \\n', ' curry , , , \\n', '\\n \\n \\n , \\n']\n",
      "['\\n \\n \\n \\n \\n', '\\n \\n \\n \\n \\n', '\\n \\n \\n \\n \\n', '\\n \\n , \\n \\n', '\\n \\n \\n \\n ,', '\\n \\n , \\n \\n', '\\n \\n \\n \\n \\n', '\\n \\n \\n \\n \\n', '\\n \\n \\n \\n \\n', '\\n \\n , \\n \\n', '\\n \\n , \\n \\n', '\\n \\n , \\n \\n', '\\n \\n \\n \\n \\n', ', \\n \\n \\n \\n', ', \\n \\n GoldMagikarp ,', '\\n \\n \\n \\n \\n']\n"
     ]
    },
    {
     "name": "stderr",
     "output_type": "stream",
     "text": [
      "\r",
      " 14%|████████████████▋                                                                                                       | 416/2999 [2:17:37<14:02:58, 19.58s/it]"
     ]
    },
    {
     "name": "stdout",
     "output_type": "stream",
     "text": [
      "['\\n \\n \\n \\n \\n', '\\n \\n \\n \\n \\n', '\\n \\n \\n \\n \\n', '\\n , \\n \\n \\n', '\\n \\n \\n \\n \\n', '\\n \\n , \\n \\n', '\\n \\n \\n \\n \\n', '\\n \\n \\n \\n \\n', '\\n \\n \\n \\n \\n', '\\n \\n \\n , \\n', 'uran , , \\n \\n', '\\n \\n , \\n ,', '\\n \\n \\n , \\n', '\\n \\n \\n , \\n', ', \\n \\n \\n \\n', '\\n \\n \\n , \\n']\n",
      "['\\n \\n \\n \\n \\n', '\\n \\n \\n \\n \\n', '\\n \\n \\n , \\n', '\\n \\n \\n \\n \\n', '\\n \\n \\n \\n \\n', '\\n \\n \\n \\n ,', '\\n \\n \\n \\n \\n', '\\n , \\n \\n \\n', '\\n \\n \\n \\n ,', '\\n \\n \\n \\n \\n', '\\n \\n \\n \\n \\n', '\\n \\n , \\n \\n', '\\n \\n , \\n \\n', '\\n \\n \\n \\n \\n', '\\n \\n \\n , \\n', ', \\n \\n , ,']\n"
     ]
    },
    {
     "name": "stderr",
     "output_type": "stream",
     "text": [
      "\r",
      " 14%|████████████████▋                                                                                                       | 417/2999 [2:17:56<14:01:33, 19.56s/it]"
     ]
    },
    {
     "name": "stdout",
     "output_type": "stream",
     "text": [
      "['\\n \\n \\n \\n \\n', '\\n \\n \\n \\n \\n', '\\n \\n , \\n \\n', '\\n \\n \\n \\n \\n', '\\n \\n \\n \\n \\n', '\\n \\n \\n \\n \\n', '\\n \\n \\n \\n \\n', '\\n \\n \\n \\n \\n', '\\n \\n \\n \\n \\n', '\\n \\n \\n \\n \\n', '\\n \\n , \\n \\n', '\\n \\n \\n \\n ,', '\\n \\n \\n \\n \\n', '\\n \\n \\n \\n \\n', '\\n \\n \\n , \\n', ' bus , , , \\n']\n",
      "['\\n \\n \\n \\n \\n', '\\n \\n \\n \\n \\n', '\\n \\n \\n \\n \\n', '\\n \\n , \\n \\n', '\\n \\n , \\n \\n', '\\n \\n , \\n ,', '\\n \\n \\n , \\n', '\\n \\n \\n , \\n', '\\n \\n , \\n \\n', '\\n \\n , \\n \\n', '\\n \\n \\n \\n \\n', '\\n \\n \\n , \\n', '\\n \\n \\n \\n ,', '\\n \\n \\n , \\n', '\\n \\n \\n \\n \\n', '\\n \\n \\n \\n \\n']\n"
     ]
    },
    {
     "name": "stderr",
     "output_type": "stream",
     "text": [
      "\r",
      " 14%|████████████████▋                                                                                                       | 418/2999 [2:18:16<14:02:59, 19.60s/it]"
     ]
    },
    {
     "name": "stdout",
     "output_type": "stream",
     "text": [
      "['\\n \\n \\n \\n \\n', '\\n \\n \\n \\n \\n', '\\n \\n \\n \\n \\n', '\\n \\n \\n \\n \\n', '\\n \\n \\n \\n \\n', '\\n \\n \\n \\n \\n', '\\n , \\n \\n \\n', ', , \\n \\n \\n', '\\n \\n \\n , \\n', '\\n \\n \\n \\n \\n', '\\n \\n \\n \\n \\n', '\\n \\n , \\n \\n', ' adherent , , \\n \\n', '\\n \\n \\n \\n ,', ', \\n \\n GoldMagikarp ,', '\\n \\n \\n \\n \\n']\n",
      "['\\n \\n \\n \\n \\n', '\\n \\n \\n \\n \\n', '\\n \\n \\n \\n \\n', '\\n \\n \\n \\n ,', '\\n \\n \\n \\n ,', '\\n \\n , \\n \\n', '\\n \\n \\n \\n \\n', '\\n \\n \\n \\n ,', '\\n \\n , \\n \\n', '\\n \\n \\n \\n \\n', '\\n \\n , \\n \\n', '\\n \\n \\n \\n \\n', '\\n , \\n \\n \\n', '\\n \\n \\n \\n \\n', '\\n \\n \\n \\n \\n', '\\n \\n \\n , \\n']\n"
     ]
    },
    {
     "name": "stderr",
     "output_type": "stream",
     "text": [
      "\r",
      " 14%|████████████████▊                                                                                                       | 419/2999 [2:18:35<14:02:43, 19.60s/it]"
     ]
    },
    {
     "name": "stdout",
     "output_type": "stream",
     "text": [
      "['\\n \\n \\n \\n \\n', '\\n \\n \\n , \\n', '\\n \\n \\n \\n \\n', '\\n \\n \\n \\n \\n', '\\n \\n \\n \\n \\n', '\\n \\n \\n \\n \\n', '\\n \\n \\n \\n \\n', ', \\n \\n \\n \\n', '\\n \\n \\n \\n \\n', ', \\n \\n \\n \\n', '\\n \\n \\n \\n ,', '\\n \\n , \\n \\n', '\\n \\n , \\n \\n', '\\n \\n \\n \\n \\n', '\\n \\n \\n \\n \\n', '\\n \\n \\n \\n \\n']\n",
      "['\\n \\n , \\n \\n', '\\n \\n \\n \\n \\n', '\\n \\n \\n \\n \\n', '\\n \\n \\n \\n \\n', '\\n \\n \\n \\n \\n', '\\n \\n \\n \\n \\n', '\\n \\n \\n \\n ,', '\\n \\n \\n \\n \\n', '\\n \\n \\n \\n \\n', '\\n \\n \\n \\n ,', '\\n \\n \\n \\n \\n', '\\n \\n \\n , \\n', '\\n \\n , , \\n', '\\n \\n \\n \\n \\n', '\\n \\n \\n \\n \\n', '\\n \\n \\n \\n \\n']\n"
     ]
    },
    {
     "name": "stderr",
     "output_type": "stream",
     "text": [
      "\r",
      " 14%|████████████████▊                                                                                                       | 420/2999 [2:18:55<14:02:13, 19.59s/it]"
     ]
    },
    {
     "name": "stdout",
     "output_type": "stream",
     "text": [
      "['\\n \\n \\n \\n \\n', '\\n \\n \\n , \\n', '\\n \\n \\n \\n \\n', '\\n \\n \\n , \\n', '\\n \\n \\n \\n \\n', '\\n \\n \\n \\n \\n', '\\n , \\n \\n \\n', '\\n \\n \\n , \\n', '\\n \\n \\n \\n \\n', '\\n \\n , \\n \\n', '\\n \\n \\n \\n \\n', '\\n \\n \\n \\n \\n', '\\n \\n , \\n \\n', '\\n \\n \\n \\n \\n', '\\n \\n \\n \\n \\n', '\\n \\n \\n \\n \\n']\n",
      "['\\n \\n \\n \\n \\n', '\\n \\n \\n \\n \\n', '\\n \\n \\n \\n \\n', '\\n \\n \\n \\n \\n', '\\n \\n \\n , \\n', '\\n \\n \\n \\n \\n', '\\n \\n , \\n \\n', '\\n , \\n \\n ,', '\\n \\n \\n , \\n', '\\n \\n \\n \\n ,', '\\n \\n \\n \\n \\n', '\\n , \\n \\n \\n', '\\n \\n , \\n \\n', '\\n \\n , \\n \\n', '\\n \\n \\n , \\n', '\\n \\n \\n \\n \\n']\n"
     ]
    },
    {
     "name": "stderr",
     "output_type": "stream",
     "text": [
      "\r",
      " 14%|████████████████▊                                                                                                       | 421/2999 [2:19:15<14:01:47, 19.59s/it]"
     ]
    },
    {
     "name": "stdout",
     "output_type": "stream",
     "text": [
      "28.80655288696289 0.5\n",
      "['\\n \\n \\n \\n \\n', '\\n \\n \\n \\n \\n', '\\n \\n \\n \\n \\n', '\\n \\n \\n \\n \\n', '\\n \\n \\n \\n \\n', ' freeing , , \\n \\n', '\\n \\n \\n \\n \\n', '\\n \\n \\n , \\n', '\\n \\n \\n \\n \\n', '\\n \\n \\n \\n \\n', '\\n \\n , \\n \\n', '\\n \\n , \\n \\n', '\\n \\n \\n \\n \\n', '\\n , \\n \\n \\n', '\\n \\n \\n \\n \\n', '\\n \\n \\n \\n \\n']\n",
      "['\\n \\n \\n \\n \\n', '\\n \\n \\n \\n \\n', '\\n \\n \\n \\n \\n', '\\n \\n \\n , \\n', '\\n \\n \\n \\n ,', '\\n \\n , \\n ,', '\\n \\n \\n \\n \\n', '\\n \\n , \\n \\n', '\\n \\n \\n \\n \\n', '\\n \\n \\n \\n \\n', '\\n \\n \\n \\n \\n', '\\n \\n \\n \\n \\n', '\\n , \\n \\n \\n', '\\n \\n \\n , \\n', '\\n \\n \\n , \\n', '\\n \\n \\n \\n \\n']\n"
     ]
    },
    {
     "name": "stderr",
     "output_type": "stream",
     "text": [
      "\r",
      " 14%|████████████████▉                                                                                                       | 422/2999 [2:19:34<14:02:10, 19.61s/it]"
     ]
    },
    {
     "name": "stdout",
     "output_type": "stream",
     "text": [
      "[', \\n \\n \\n \\n', '\\n \\n \\n \\n \\n', '\\n \\n \\n \\n \\n', '\\n , \\n \\n ,', '\\n \\n \\n \\n \\n', '\\n \\n , \\n \\n', '\\n \\n \\n \\n \\n', '\\n \\n \\n \\n \\n', '\\n , \\n \\n ,', '\\n \\n \\n \\n \\n', '\\n \\n \\n \\n \\n', '\\n \\n \\n \\n \\n', '\\n \\n \\n \\n \\n', '\\n \\n \\n \\n \\n', '\\n \\n \\n \\n \\n', '\\n \\n \\n \\n \\n']\n",
      "['\\n \\n \\n \\n \\n', '\\n \\n \\n \\n \\n', '\\n \\n \\n \\n \\n', '\\n \\n , \\n \\n', '\\n \\n \\n , \\n', '\\n \\n , \\n \\n', '\\n \\n \\n \\n \\n', '\\n , \\n \\n \\n', '\\n \\n \\n \\n \\n', '\\n \\n \\n , \\n', '\\n \\n , \\n \\n', '\\n , \\n \\n ,', '\\n \\n , \\n \\n', '\\n \\n \\n \\n \\n', '\\n \\n \\n \\n \\n', ', \\n \\n \\n \\n']\n"
     ]
    },
    {
     "name": "stderr",
     "output_type": "stream",
     "text": [
      "\r",
      " 14%|████████████████▉                                                                                                       | 423/2999 [2:19:54<14:02:06, 19.61s/it]"
     ]
    },
    {
     "name": "stdout",
     "output_type": "stream",
     "text": [
      "['Thumbnail , , \\n \\n', '\\n \\n \\n \\n \\n', '\\n \\n \\n \\n \\n', '\\n \\n \\n \\n \\n', '\\n \\n \\n \\n \\n', '\\n \\n \\n \\n \\n', '\\n \\n \\n \\n \\n', '\\n \\n \\n \\n \\n', '\\n \\n \\n \\n \\n', '\\n \\n \\n \\n \\n', '\\n \\n \\n \\n \\n', '\\n \\n , \\n \\n', '\\n \\n \\n \\n \\n', '\\n \\n \\n \\n \\n', ' secretaries , , \\n \\n', '\\n \\n \\n \\n \\n']\n",
      "['\\n \\n \\n \\n \\n', '\\n \\n \\n \\n \\n', '\\n \\n \\n \\n \\n', '\\n \\n \\n \\n \\n', '\\n \\n \\n \\n \\n', '\\n \\n \\n \\n \\n', '\\n \\n \\n \\n \\n', '\\n \\n \\n \\n \\n', '\\n \\n \\n \\n \\n', '\\n \\n \\n \\n \\n', '\\n \\n \\n , \\n', '\\n \\n , \\n \\n', '\\n \\n , \\n \\n', '\\n \\n \\n \\n ,', '\\n \\n \\n \\n \\n', '\\n \\n \\n \\n \\n']\n"
     ]
    },
    {
     "name": "stderr",
     "output_type": "stream",
     "text": [
      "\r",
      " 14%|████████████████▉                                                                                                       | 424/2999 [2:20:14<14:03:08, 19.65s/it]"
     ]
    },
    {
     "name": "stdout",
     "output_type": "stream",
     "text": [
      "['\\n \\n \\n \\n ,', '\\n \\n \\n \\n \\n', '\\n \\n \\n \\n \\n', '\\n , \\n \\n \\n', '\\n \\n \\n \\n \\n', '\\n , \\n \\n \\n', '\\n \\n \\n \\n \\n', '\\n \\n \\n \\n \\n', '\\n \\n \\n \\n \\n', '\\n \\n \\n \\n \\n', '\\n \\n , \\n \\n', '\\n \\n , \\n \\n', 'Net , , \\n \\n', '\\n \\n \\n \\n \\n', '\\n \\n \\n \\n \\n', '\\n \\n \\n \\n \\n']\n",
      "['\\n \\n \\n \\n \\n', '\\n \\n \\n \\n \\n', '\\n \\n \\n \\n \\n', '\\n , \\n \\n \\n', '\\n \\n \\n \\n \\n', '\\n \\n \\n \\n \\n', '\\n \\n \\n \\n \\n', '\\n , \\n \\n \\n', '\\n \\n , \\n \\n', '\\n \\n \\n , \\n', '\\n \\n \\n \\n \\n', '\\n \\n , \\n \\n', '\\n \\n \\n \\n \\n', '\\n , \\n \\n \\n', '\\n \\n \\n \\n \\n', '\\n , \\n \\n \\n']\n"
     ]
    },
    {
     "name": "stderr",
     "output_type": "stream",
     "text": [
      "\r",
      " 14%|█████████████████                                                                                                       | 425/2999 [2:20:33<14:02:09, 19.63s/it]"
     ]
    },
    {
     "name": "stdout",
     "output_type": "stream",
     "text": [
      "['\\n \\n \\n \\n \\n', '\\n , \\n \\n \\n', '\\n \\n \\n \\n \\n', '\\n \\n \\n \\n \\n', '\\n \\n \\n \\n \\n', '\\n \\n , \\n \\n', '\\n \\n \\n \\n \\n', '\\n \\n \\n \\n ,', '\\n \\n \\n \\n \\n', '\\n \\n \\n , \\n', '\\n \\n \\n \\n \\n', '\\n \\n \\n \\n \\n', '\\n \\n , \\n \\n', '\\n \\n \\n , \\n', '\\n \\n \\n \\n \\n', '\\n \\n \\n \\n \\n']\n",
      "['\\n \\n \\n \\n \\n', '\\n \\n \\n \\n ,', '\\n \\n , \\n \\n', '\\n , \\n \\n ,', '\\n \\n \\n \\n \\n', '\\n \\n , , \\n', '\\n \\n \\n \\n \\n', '\\n \\n \\n \\n \\n', '\\n \\n , \\n \\n', '\\n \\n \\n \\n \\n', '\\n \\n \\n \\n \\n', '\\n \\n \\n , \\n', '\\n \\n , \\n ,', '\\n \\n \\n \\n \\n', '\\n \\n \\n \\n \\n', '\\n \\n \\n \\n \\n']\n"
     ]
    },
    {
     "name": "stderr",
     "output_type": "stream",
     "text": [
      "\r",
      " 14%|█████████████████                                                                                                       | 426/2999 [2:20:53<14:01:33, 19.62s/it]"
     ]
    },
    {
     "name": "stdout",
     "output_type": "stream",
     "text": [
      "['\\n \\n \\n \\n \\n', ' Erit , , , \\n', '\\n \\n \\n \\n \\n', '\\n \\n \\n \\n \\n', '\\n \\n \\n \\n \\n', '\\n \\n , \\n \\n', '\\n \\n , \\n \\n', '\\n \\n \\n \\n \\n', '\\n \\n \\n \\n \\n', '\\n \\n \\n \\n \\n', 'aredevil , , \\n \\n', '\\n \\n \\n \\n \\n', '\\n \\n \\n \\n \\n', '\\n \\n \\n \\n \\n', '\\n \\n \\n \\n \\n', '\\n \\n \\n \\n \\n']\n",
      "['\\n \\n \\n \\n ,', '\\n \\n \\n \\n \\n', '\\n \\n \\n \\n \\n', '\\n \\n , \\n \\n', '\\n \\n \\n \\n \\n', '\\n \\n , \\n \\n', '\\n \\n \\n , \\n', '\\n \\n \\n \\n \\n', '\\n \\n , \\n \\n', '\\n \\n \\n \\n \\n', ', \\n \\n \\n \\n', '\\n \\n , \\n \\n', '\\n \\n , \\n \\n', '\\n \\n \\n \\n \\n', '\\n \\n \\n \\n \\n', '\\n \\n \\n \\n \\n']\n"
     ]
    },
    {
     "name": "stderr",
     "output_type": "stream",
     "text": [
      "\r",
      " 14%|█████████████████                                                                                                       | 427/2999 [2:21:12<14:01:13, 19.62s/it]"
     ]
    },
    {
     "name": "stdout",
     "output_type": "stream",
     "text": [
      "['\\n \\n \\n \\n ,', '\\n \\n \\n , \\n', 'Eric , , , \\n', '\\n \\n \\n \\n \\n', '\\n \\n \\n \\n \\n', '\\n \\n \\n \\n \\n', '\\n \\n \\n \\n \\n', ' necess , , \\n \\n', '\\n \\n \\n \\n \\n', '\\n \\n \\n , \\n', ' trend , , \\n \\n', ' Slater , , , \\n', '\\n \\n \\n , \\n', '\\n \\n \\n , \\n', '\\n \\n , \\n \\n', '\\n \\n \\n \\n \\n']\n",
      "['\\n \\n \\n \\n \\n', '\\n \\n \\n \\n \\n', '\\n \\n \\n \\n \\n', '\\n \\n \\n \\n \\n', '\\n \\n \\n \\n \\n', '\\n \\n \\n \\n \\n', '\\n \\n \\n \\n \\n', '\\n \\n \\n \\n \\n', '\\n \\n \\n \\n ,', '\\n \\n \\n \\n \\n', '\\n \\n , \\n \\n', '\\n , \\n \\n \\n', '\\n \\n , \\n \\n', '\\n \\n \\n \\n ,', '\\n \\n \\n \\n \\n', '\\n , \\n \\n \\n']\n"
     ]
    },
    {
     "name": "stderr",
     "output_type": "stream",
     "text": [
      "\r",
      " 14%|█████████████████▏                                                                                                      | 428/2999 [2:21:32<13:59:40, 19.60s/it]"
     ]
    },
    {
     "name": "stdout",
     "output_type": "stream",
     "text": [
      "['\\n \\n \\n , \\n', '\\n \\n \\n \\n \\n', '\\n \\n \\n \\n \\n', '\\n \\n \\n \\n \\n', ' latch , , \\n \\n', ' Bel , , , \\n', '\\n \\n \\n \\n \\n', '\\n \\n \\n \\n \\n', '\\n \\n \\n \\n ,', ' unb , , \\n \\n', '\\n \\n \\n , \\n', '\\n \\n , \\n \\n', '\\n \\n \\n \\n \\n', ' spot , , \\n \\n', '\\n \\n \\n \\n \\n', '\\n \\n , \\n \\n']\n",
      "['\\n \\n \\n \\n \\n', '\\n \\n \\n \\n \\n', '\\n \\n \\n \\n \\n', '\\n \\n , , \\n', '\\n \\n \\n , \\n', '\\n \\n , \\n \\n', '\\n \\n , \\n \\n', '\\n \\n \\n \\n \\n', '\\n \\n , \\n \\n', '\\n \\n \\n \\n \\n', '\\n \\n , \\n \\n', '\\n \\n \\n , \\n', '\\n \\n \\n \\n \\n', '\\n \\n \\n \\n \\n', '\\n \\n \\n \\n \\n', '\\n \\n \\n \\n \\n']\n"
     ]
    },
    {
     "name": "stderr",
     "output_type": "stream",
     "text": [
      "\r",
      " 14%|█████████████████▏                                                                                                      | 429/2999 [2:21:51<13:58:35, 19.58s/it]"
     ]
    },
    {
     "name": "stdout",
     "output_type": "stream",
     "text": [
      "[', \\n \\n GoldMagikarp ,', ' punct , , \\n \\n', '\\n \\n \\n \\n ,', '\\n \\n , \\n \\n', '\\n \\n \\n \\n \\n', '\\n \\n , \\n \\n', '\\n \\n \\n \\n \\n', '\\n \\n \\n \\n \\n', '\\n \\n \\n \\n \\n', 'soDeliveryDate , , \\n \\n', ' include , , \\n \\n', '\\n \\n , \\n \\n', '\\n \\n , \\n \\n', '\\n \\n \\n \\n \\n', '\\n \\n \\n , \\n', '\\n \\n \\n \\n \\n']\n",
      "['\\n \\n \\n \\n \\n', '\\n \\n \\n \\n \\n', '\\n \\n \\n \\n \\n', '\\n , , \\n \\n', '\\n \\n \\n \\n \\n', '\\n \\n \\n \\n \\n', '\\n \\n , \\n \\n', '\\n \\n \\n \\n \\n', '\\n \\n \\n , \\n', '\\n \\n \\n , \\n', '\\n \\n \\n , \\n', '\\n \\n \\n \\n \\n', '\\n \\n , \\n \\n', '\\n \\n \\n \\n \\n', '\\n \\n \\n \\n \\n', ', \\n \\n \\n \\n']\n"
     ]
    },
    {
     "name": "stderr",
     "output_type": "stream",
     "text": [
      "\r",
      " 14%|█████████████████▏                                                                                                      | 430/2999 [2:22:11<13:58:38, 19.59s/it]"
     ]
    },
    {
     "name": "stdout",
     "output_type": "stream",
     "text": [
      "['\\n \\n \\n \\n \\n', '\\n \\n \\n , \\n', '\\n \\n \\n \\n \\n', '\\n \\n \\n \\n ,', '\\n \\n \\n , \\n', '\\n \\n , \\n \\n', '\\n \\n \\n \\n \\n', '\\n \\n \\n \\n \\n', '\\n \\n \\n \\n \\n', '\\n \\n \\n \\n \\n', ', \\n \\n \\n \\n', '\\n \\n \\n , \\n', '\\n \\n \\n , \\n', '\\n \\n \\n \\n \\n', '\\n \\n \\n \\n \\n', '\\n \\n \\n , \\n']\n",
      "['\\n \\n \\n \\n \\n', '\\n \\n \\n \\n \\n', '\\n \\n \\n \\n \\n', '\\n \\n \\n \\n \\n', '\\n \\n \\n \\n ,', '\\n \\n \\n \\n \\n', '\\n \\n , \\n \\n', '\\n \\n \\n \\n \\n', '\\n \\n \\n \\n ,', '\\n \\n \\n , \\n', '\\n \\n \\n \\n \\n', '\\n \\n \\n \\n \\n', '\\n , \\n \\n \\n', '\\n \\n \\n \\n \\n', '\\n \\n \\n \\n ,', '\\n \\n \\n , \\n']\n"
     ]
    },
    {
     "name": "stderr",
     "output_type": "stream",
     "text": [
      "\r",
      " 14%|█████████████████▏                                                                                                      | 431/2999 [2:22:31<13:58:04, 19.58s/it]"
     ]
    },
    {
     "name": "stdout",
     "output_type": "stream",
     "text": [
      "29.87354278564453 0.515625\n",
      "[', \\n \\n \\n \\n', ', \\n \\n \\n \\n', ' almond , , , \\n', '\\n \\n \\n \\n \\n', '\\n \\n \\n \\n \\n', '\\n \\n , \\n \\n', '\\n \\n , \\n \\n', '\\n \\n , \\n \\n', '\\n \\n \\n \\n \\n', '\\n \\n \\n \\n \\n', '\\n \\n \\n \\n \\n', '\\n \\n \\n \\n \\n', '\\n \\n , \\n \\n', '\\n \\n \\n \\n \\n', '\\n \\n \\n \\n \\n', '\\n \\n \\n \\n \\n']\n",
      "['\\n \\n \\n \\n \\n', '\\n \\n \\n \\n \\n', '\\n \\n \\n \\n \\n', '\\n \\n \\n \\n \\n', '\\n \\n , \\n \\n', '\\n \\n \\n \\n \\n', '\\n \\n \\n , \\n', '\\n \\n \\n \\n \\n', '\\n \\n \\n \\n \\n', '\\n \\n \\n \\n \\n', '\\n \\n \\n \\n \\n', '\\n \\n \\n \\n \\n', '\\n \\n , \\n \\n', '\\n \\n , \\n \\n', '\\n \\n \\n \\n \\n', '\\n \\n \\n \\n \\n']\n"
     ]
    },
    {
     "name": "stderr",
     "output_type": "stream",
     "text": [
      "\r",
      " 14%|█████████████████▎                                                                                                      | 432/2999 [2:22:50<13:58:03, 19.59s/it]"
     ]
    },
    {
     "name": "stdout",
     "output_type": "stream",
     "text": [
      "['\\n \\n \\n \\n \\n', ' Amph , , , \\n', '\\n \\n \\n \\n \\n', '\\n \\n \\n \\n \\n', '\\n \\n \\n \\n \\n', '\\n , \\n \\n \\n', '\\n \\n \\n \\n \\n', '\\n \\n \\n \\n \\n', '\\n \\n \\n \\n \\n', '\\n \\n \\n \\n \\n', '\\n \\n \\n \\n \\n', '\\n \\n \\n \\n \\n', '\\n \\n \\n \\n \\n', '\\n \\n \\n \\n \\n', '\\n \\n \\n \\n \\n', '\\n \\n \\n \\n \\n']\n",
      "['\\n \\n \\n \\n \\n', '\\n \\n \\n \\n \\n', '\\n \\n \\n \\n \\n', '\\n \\n \\n \\n \\n', '\\n \\n \\n \\n \\n', '\\n \\n , \\n \\n', '\\n \\n \\n \\n \\n', '\\n \\n \\n \\n \\n', '\\n \\n \\n \\n \\n', '\\n \\n \\n \\n \\n', '\\n \\n \\n \\n \\n', '\\n \\n \\n \\n \\n', '\\n \\n , \\n \\n', '\\n \\n \\n \\n \\n', ', \\n \\n \\n \\n', '\\n \\n \\n \\n \\n']\n"
     ]
    },
    {
     "name": "stderr",
     "output_type": "stream",
     "text": [
      "\r",
      " 14%|█████████████████▎                                                                                                      | 433/2999 [2:23:10<13:58:42, 19.61s/it]"
     ]
    },
    {
     "name": "stdout",
     "output_type": "stream",
     "text": [
      "['\\n \\n , \\n \\n', ' WHO , , , \\n', '\\n \\n \\n \\n \\n', '\\n \\n \\n \\n \\n', '\\n \\n \\n \\n \\n', '\\n \\n \\n \\n \\n', '\\n \\n \\n \\n \\n', '\\n \\n \\n \\n \\n', '\\n \\n \\n \\n \\n', '\\n \\n \\n \\n \\n', ', \\n \\n \\n \\n', '\\n \\n \\n \\n \\n', '\\n \\n , \\n \\n', '\\n \\n , \\n \\n', '\\n \\n \\n \\n \\n', ', \\n \\n \\n \\n']\n",
      "['\\n \\n \\n \\n \\n', '\\n \\n \\n \\n \\n', '\\n \\n \\n \\n \\n', '\\n \\n \\n , \\n', '\\n \\n \\n \\n \\n', '\\n \\n , \\n \\n', '\\n \\n \\n \\n \\n', '\\n \\n \\n \\n \\n', '\\n \\n , \\n \\n', '\\n \\n \\n \\n \\n', '\\n \\n \\n \\n ,', '\\n \\n , \\n \\n', ', , \\n \\n \\n', '\\n \\n \\n \\n \\n', '\\n \\n \\n \\n \\n', '\\n \\n \\n \\n ,']\n"
     ]
    },
    {
     "name": "stderr",
     "output_type": "stream",
     "text": [
      "\r",
      " 14%|█████████████████▎                                                                                                      | 434/2999 [2:23:29<13:58:13, 19.61s/it]"
     ]
    },
    {
     "name": "stdout",
     "output_type": "stream",
     "text": [
      "['\\n \\n \\n , \\n', ' Marlins , , , \\n', '\\n \\n \\n \\n \\n', '\\n \\n \\n \\n \\n', ', \\n GoldMagikarp , ,', '\\n \\n \\n \\n \\n', '\\n \\n \\n \\n \\n', '\\n \\n \\n \\n \\n', '\\n \\n \\n \\n \\n', ', \\n \\n \\n \\n', '\\n \\n \\n \\n \\n', '\\n \\n \\n \\n \\n', '\\n \\n \\n \\n \\n', '\\n \\n \\n \\n \\n', '\\n \\n \\n \\n \\n', '\\n \\n \\n \\n \\n']\n",
      "['\\n \\n \\n \\n \\n', '\\n \\n \\n \\n \\n', '\\n \\n \\n \\n \\n', '\\n \\n \\n \\n \\n', '\\n \\n \\n , \\n', '\\n \\n \\n \\n \\n', '\\n \\n \\n , \\n', '\\n \\n , \\n \\n', '\\n \\n \\n \\n \\n', '\\n \\n \\n , \\n', '\\n \\n \\n \\n \\n', '\\n \\n \\n \\n \\n', '\\n \\n , \\n \\n', '\\n \\n \\n \\n \\n', '\\n \\n \\n \\n \\n', '\\n \\n \\n \\n \\n']\n"
     ]
    },
    {
     "name": "stderr",
     "output_type": "stream",
     "text": [
      "\r",
      " 15%|█████████████████▍                                                                                                      | 435/2999 [2:23:49<13:58:12, 19.61s/it]"
     ]
    },
    {
     "name": "stdout",
     "output_type": "stream",
     "text": [
      "['\\n \\n \\n , \\n', '\\n \\n \\n , \\n', '\\n \\n \\n \\n ,', '\\n \\n \\n , \\n', '\\n \\n \\n \\n \\n', '\\n \\n \\n , \\n', '\\n \\n \\n \\n ,', '\\n \\n \\n , \\n', '\\n \\n , \\n \\n', ', \\n \\n \\n ,', '\\n \\n \\n \\n \\n', '\\n \\n \\n \\n \\n', '\\n , \\n \\n ,', '\\n \\n \\n \\n \\n', '\\n \\n \\n , \\n', '\\n \\n \\n \\n \\n']\n",
      "['\\n \\n \\n \\n \\n', '\\n \\n \\n \\n \\n', '\\n \\n \\n \\n \\n', '\\n \\n \\n \\n \\n', '\\n \\n \\n \\n \\n', '\\n \\n \\n \\n \\n', '\\n \\n \\n \\n \\n', '\\n \\n \\n \\n \\n', '\\n \\n \\n \\n \\n', '\\n \\n \\n \\n \\n', '\\n \\n \\n \\n \\n', '\\n \\n , \\n \\n', '\\n \\n \\n \\n \\n', '\\n \\n \\n \\n \\n', '\\n \\n \\n , \\n', '\\n \\n \\n , \\n']\n"
     ]
    },
    {
     "name": "stderr",
     "output_type": "stream",
     "text": [
      "\r",
      " 15%|█████████████████▍                                                                                                      | 436/2999 [2:24:09<13:56:49, 19.59s/it]"
     ]
    },
    {
     "name": "stdout",
     "output_type": "stream",
     "text": [
      "['\\n \\n \\n \\n \\n', 'Windows , , , \\n', '\\n \\n \\n \\n \\n', '\\n \\n \\n , \\n', '\\n \\n \\n \\n \\n', ' Using , , , \\n', '\\n \\n \\n \\n ,', ' grill , , , \\n', '\\n \\n \\n \\n \\n', '\\n \\n \\n \\n ,', ', \\n \\n \\n \\n', '\\n \\n \\n , ,', '\\n , \\n \\n ,', 'omach , , \\n \\n', ', \\n \\n \\n \\n', '\\n \\n \\n \\n \\n']\n",
      "['\\n \\n \\n \\n \\n', '\\n \\n \\n \\n \\n', '\\n \\n \\n \\n \\n', '\\n \\n \\n \\n \\n', '\\n \\n \\n \\n \\n', '\\n \\n \\n , \\n', '\\n \\n \\n \\n \\n', '\\n \\n \\n \\n \\n', '\\n \\n \\n \\n \\n', '\\n \\n \\n \\n \\n', '\\n \\n \\n \\n \\n', '\\n \\n \\n , \\n', '\\n \\n \\n \\n \\n', '\\n \\n \\n \\n \\n', '\\n \\n \\n \\n \\n', '\\n , \\n \\n \\n']\n"
     ]
    },
    {
     "name": "stderr",
     "output_type": "stream",
     "text": [
      "\r",
      " 15%|█████████████████▍                                                                                                      | 437/2999 [2:24:28<13:55:28, 19.57s/it]"
     ]
    },
    {
     "name": "stdout",
     "output_type": "stream",
     "text": [
      "['\\n \\n \\n \\n \\n', '\\n \\n \\n \\n \\n', '\\n \\n , \\n \\n', '\\n \\n \\n \\n \\n', '\\n \\n \\n \\n \\n', '\\n \\n , \\n ,', '\\n \\n \\n \\n \\n', 'TD , , \\n \\n', '\\n \\n \\n \\n \\n', '!, \\n \\n \\n \\n', '\\n \\n \\n , \\n', '\\n \\n \\n \\n \\n', '\\n \\n \\n \\n \\n', '\\n \\n \\n \\n \\n', '\\n \\n \\n , \\n', ', \\n \\n \\n \\n']\n",
      "['\\n \\n \\n \\n \\n', '\\n \\n \\n \\n \\n', '\\n \\n \\n \\n \\n', '\\n \\n \\n \\n \\n', '\\n \\n \\n \\n \\n', '\\n \\n \\n \\n \\n', '\\n \\n , \\n \\n', '\\n , \\n \\n \\n', '\\n \\n \\n \\n \\n', '\\n \\n \\n \\n \\n', '\\n \\n \\n \\n \\n', '\\n \\n \\n \\n \\n', '\\n \\n \\n \\n \\n', '\\n \\n \\n \\n \\n', '\\n \\n \\n \\n \\n', '\\n \\n \\n \\n \\n']\n"
     ]
    },
    {
     "name": "stderr",
     "output_type": "stream",
     "text": [
      "\r",
      " 15%|█████████████████▌                                                                                                      | 438/2999 [2:24:48<13:55:12, 19.57s/it]"
     ]
    },
    {
     "name": "stdout",
     "output_type": "stream",
     "text": [
      "['\\n \\n \\n \\n \\n', '\\n \\n \\n \\n \\n', '\\n \\n \\n \\n \\n', '\\n \\n \\n \\n \\n', '\\n \\n \\n \\n \\n', '\\n \\n \\n \\n ,', '\\n \\n , \\n \\n', '\\n \\n \\n \\n \\n', '\\n , \\n \\n \\n', '\\n \\n \\n \\n \\n', '\\n \\n \\n \\n \\n', '\\n \\n \\n \\n \\n', ' permitted , , \\n \\n', '\\n \\n \\n \\n \\n', '\\n \\n \\n \\n \\n', '\\n , \\n \\n \\n']\n",
      "['\\n \\n \\n \\n \\n', '\\n \\n \\n \\n \\n', '\\n \\n \\n , \\n', '\\n \\n \\n \\n \\n', '\\n \\n \\n \\n \\n', '\\n \\n , \\n \\n', '\\n \\n \\n , \\n', '\\n \\n \\n \\n \\n', '\\n \\n \\n \\n \\n', '\\n \\n \\n \\n \\n', '\\n \\n \\n \\n \\n', '\\n \\n \\n \\n \\n', '\\n \\n , \\n \\n', '\\n \\n \\n \\n \\n', ', \\n GoldMagikarp , ,', '\\n \\n \\n \\n \\n']\n"
     ]
    },
    {
     "name": "stderr",
     "output_type": "stream",
     "text": [
      "\r",
      " 15%|█████████████████▌                                                                                                      | 439/2999 [2:25:07<13:55:01, 19.57s/it]"
     ]
    },
    {
     "name": "stdout",
     "output_type": "stream",
     "text": [
      "['\\n \\n \\n \\n \\n', '\\n \\n \\n \\n \\n', '\\n \\n \\n , \\n', '\\n \\n \\n \\n \\n', '\\n \\n \\n \\n \\n', '\\n \\n \\n \\n \\n', '\\n \\n \\n \\n \\n', '\\n \\n \\n \\n \\n', '\\n \\n \\n \\n \\n', '\\n \\n \\n \\n \\n', '\\n \\n \\n \\n ,', 'Wing , , , \\n', ' lengthy , , \\n \\n', '\\n \\n \\n \\n \\n', '\\n \\n \\n , \\n', '\\n \\n \\n \\n \\n']\n",
      "['\\n \\n \\n \\n \\n', '\\n \\n \\n \\n \\n', '\\n \\n \\n \\n \\n', '\\n \\n \\n \\n \\n', '\\n \\n \\n \\n ,', '\\n \\n \\n \\n \\n', '\\n \\n \\n \\n \\n', '\\n \\n \\n \\n \\n', '\\n , \\n \\n \\n', '\\n \\n \\n \\n \\n', '\\n \\n \\n \\n \\n', '\\n \\n , \\n \\n', '\\n \\n \\n \\n ,', '\\n \\n \\n \\n \\n', '\\n \\n \\n \\n \\n', '\\n \\n \\n \\n \\n']\n"
     ]
    },
    {
     "name": "stderr",
     "output_type": "stream",
     "text": [
      "\r",
      " 15%|█████████████████▌                                                                                                      | 440/2999 [2:25:28<14:03:33, 19.78s/it]"
     ]
    },
    {
     "name": "stdout",
     "output_type": "stream",
     "text": [
      "['\\n \\n \\n , \\n', '\\n \\n \\n \\n \\n', '\\n \\n \\n , \\n', '\\n \\n \\n \\n \\n', '\\n \\n \\n \\n \\n', '\\n \\n , \\n \\n', '\\n \\n \\n \\n \\n', '\\n \\n \\n \\n \\n', '\\n \\n , \\n \\n', '\\n \\n \\n , \\n', '\\n \\n \\n \\n \\n', '\\n \\n , \\n \\n', '\\n \\n \\n \\n \\n', '\\n \\n , \\n \\n', '\\n \\n \\n \\n \\n', '\\n \\n \\n \\n \\n']\n",
      "['\\n \\n \\n \\n \\n', '\\n \\n \\n \\n \\n', '\\n \\n \\n \\n \\n', '\\n \\n \\n \\n \\n', '\\n \\n \\n \\n \\n', ', \\n \\n \\n \\n', '\\n \\n \\n \\n \\n', ', \\n \\n \\n \\n', '\\n \\n \\n \\n \\n', '\\n \\n \\n \\n \\n', '\\n , \\n \\n ,', '\\n \\n , \\n \\n', '\\n \\n , \\n \\n', '\\n \\n \\n , \\n', '\\n \\n \\n \\n \\n', '\\n \\n \\n \\n \\n']\n"
     ]
    },
    {
     "name": "stderr",
     "output_type": "stream",
     "text": [
      "\r",
      " 15%|█████████████████▋                                                                                                      | 441/2999 [2:25:48<14:08:56, 19.91s/it]"
     ]
    },
    {
     "name": "stdout",
     "output_type": "stream",
     "text": [
      "27.874431610107422 0.5\n",
      "['\\n \\n \\n \\n \\n', '\\n \\n \\n \\n \\n', ' cheering , , \\n \\n', '\\n \\n \\n \\n \\n', 'signed , , \\n \\n', '\\n \\n \\n \\n \\n', '\\n \\n \\n \\n \\n', '\\n \\n \\n \\n \\n', '\\n \\n \\n \\n ,', '\\n \\n \\n \\n \\n', '\\n \\n \\n \\n \\n', '\\n \\n , \\n \\n', '\\n \\n , \\n \\n', '\\n \\n \\n \\n \\n', ' graphics , , \\n \\n', '\\n \\n \\n \\n \\n']\n",
      "['\\n \\n \\n \\n \\n', '\\n \\n \\n \\n \\n', '\\n \\n \\n \\n \\n', '\\n \\n \\n \\n \\n', '\\n \\n \\n , \\n', '\\n \\n , \\n \\n', '\\n \\n \\n \\n \\n', ', \\n \\n \\n \\n', '\\n \\n \\n \\n \\n', '\\n \\n \\n \\n ,', '\\n \\n \\n \\n \\n', '\\n \\n , \\n \\n', '\\n \\n \\n \\n ,', '\\n \\n \\n \\n \\n', '\\n \\n \\n \\n \\n', '\\n \\n \\n \\n \\n']\n"
     ]
    },
    {
     "name": "stderr",
     "output_type": "stream",
     "text": [
      "\r",
      " 15%|█████████████████▋                                                                                                      | 442/2999 [2:26:08<14:06:57, 19.87s/it]"
     ]
    },
    {
     "name": "stdout",
     "output_type": "stream",
     "text": [
      "['\\n \\n \\n \\n \\n', ' Charlie , , , \\n', '\\n \\n \\n , \\n', '\\n \\n \\n \\n \\n', '\\n \\n \\n , \\n', '\\n \\n \\n \\n \\n', '\\n \\n , \\n \\n', '\\n \\n \\n \\n \\n', '\\n \\n , \\n \\n', '\\n \\n \\n \\n \\n', '\\n \\n \\n \\n \\n', '\\n \\n \\n \\n \\n', ' Cumber , , , \\n', '\\n \\n \\n \\n \\n', ', \\n \\n \\n \\n', '\\n \\n , \\n \\n']\n",
      "['\\n \\n \\n \\n \\n', '\\n \\n \\n \\n \\n', '\\n \\n \\n \\n \\n', '\\n \\n \\n \\n \\n', '\\n \\n \\n , \\n', '\\n \\n \\n \\n \\n', '\\n \\n \\n \\n \\n', '\\n \\n \\n , \\n', '\\n \\n \\n \\n \\n', '\\n \\n \\n \\n \\n', '\\n \\n , \\n \\n', '\\n \\n \\n \\n \\n', '\\n \\n , \\n \\n', '\\n \\n \\n \\n \\n', '\\n \\n \\n \\n \\n', '\\n \\n \\n \\n \\n']\n"
     ]
    },
    {
     "name": "stderr",
     "output_type": "stream",
     "text": [
      "\r",
      " 15%|█████████████████▋                                                                                                      | 443/2999 [2:26:27<14:02:40, 19.78s/it]"
     ]
    },
    {
     "name": "stdout",
     "output_type": "stream",
     "text": [
      "['\\n \\n \\n \\n \\n', '\\n \\n \\n , \\n', '\\n \\n , \\n \\n', '\\n \\n \\n \\n \\n', '\\n \\n \\n \\n \\n', '\\n \\n \\n \\n \\n', '\\n \\n , \\n \\n', '\\n \\n \\n \\n \\n', '\\n \\n \\n \\n \\n', '\\n \\n \\n \\n \\n', ', \\n \\n \\n \\n', '\\n \\n \\n \\n \\n', '\\n \\n , \\n \\n', '\\n \\n \\n \\n \\n', '\\n \\n , \\n ,', ', \\n \\n \\n \\n']\n",
      "['\\n \\n \\n , \\n', '\\n \\n \\n \\n \\n', '\\n \\n \\n \\n \\n', '\\n \\n , \\n \\n', '\\n \\n \\n \\n \\n', '\\n \\n \\n \\n \\n', '\\n \\n \\n \\n \\n', '\\n \\n \\n \\n \\n', '\\n \\n \\n \\n \\n', '\\n \\n \\n \\n \\n', '\\n \\n \\n \\n \\n', '\\n \\n , \\n \\n', '\\n \\n , \\n \\n', '\\n \\n \\n \\n \\n', '\\n \\n \\n \\n \\n', '\\n \\n \\n \\n \\n']\n"
     ]
    },
    {
     "name": "stderr",
     "output_type": "stream",
     "text": [
      "\r",
      " 15%|█████████████████▊                                                                                                      | 444/2999 [2:26:47<13:59:37, 19.72s/it]"
     ]
    },
    {
     "name": "stdout",
     "output_type": "stream",
     "text": [
      "['\\n \\n \\n \\n \\n', '\\n \\n , \\n \\n', '\\n \\n \\n \\n \\n', '\\n \\n \\n \\n \\n', '\\n \\n \\n \\n \\n', '\\n \\n \\n \\n \\n', 'Sept , , , \\n', ', , \\n \\n GoldMagikarp', '\\n \\n \\n \\n \\n', '\\n \\n \\n \\n \\n', '\\n \\n \\n \\n \\n', '\\n \\n \\n \\n \\n', '\\n \\n , \\n \\n', '\\n \\n \\n \\n \\n', '\\n \\n \\n \\n \\n', ', \\n \\n \\n \\n']\n",
      "['\\n \\n \\n , \\n', '\\n \\n \\n \\n \\n', '\\n \\n \\n \\n \\n', '\\n \\n \\n \\n \\n', '\\n \\n \\n \\n \\n', '\\n \\n , \\n \\n', '\\n \\n \\n \\n \\n', ', \\n \\n \\n \\n', '\\n \\n \\n \\n \\n', '\\n \\n \\n \\n \\n', '\\n \\n \\n \\n \\n', '\\n \\n \\n \\n \\n', '\\n \\n \\n \\n \\n', '\\n \\n \\n \\n \\n', '\\n \\n \\n \\n \\n', '\\n \\n \\n \\n \\n']\n"
     ]
    },
    {
     "name": "stderr",
     "output_type": "stream",
     "text": [
      "\r",
      " 15%|█████████████████▊                                                                                                      | 445/2999 [2:27:06<13:58:00, 19.69s/it]"
     ]
    },
    {
     "name": "stdout",
     "output_type": "stream",
     "text": [
      "['\\n \\n \\n \\n ,', '\\n \\n \\n \\n \\n', '\\n \\n \\n \\n \\n', '\\n \\n \\n \\n \\n', '\\n \\n \\n \\n \\n', '\\n \\n \\n , \\n', '\\n \\n \\n \\n \\n', '\\n \\n \\n \\n \\n', '\\n \\n \\n \\n \\n', '\\n \\n \\n \\n \\n', '\\n \\n \\n \\n \\n', '\\n \\n \\n \\n \\n', '\\n \\n , \\n \\n', '\\n \\n \\n \\n \\n', ' boot , , \\n \\n', '\\n , \\n \\n \\n']\n",
      "['\\n \\n \\n \\n \\n', '\\n \\n \\n \\n \\n', '\\n \\n , \\n \\n', '\\n \\n \\n \\n \\n', '\\n \\n \\n \\n \\n', '\\n \\n \\n \\n \\n', '\\n \\n \\n \\n \\n', '\\n \\n \\n \\n \\n', '\\n \\n \\n \\n \\n', '\\n \\n \\n \\n \\n', '\\n \\n \\n \\n \\n', '\\n \\n , \\n \\n', '\\n \\n \\n \\n \\n', '\\n \\n \\n \\n \\n', '\\n \\n \\n , \\n', '\\n \\n \\n \\n \\n']\n"
     ]
    },
    {
     "name": "stderr",
     "output_type": "stream",
     "text": [
      "\r",
      " 15%|█████████████████▊                                                                                                      | 446/2999 [2:27:26<13:56:30, 19.66s/it]"
     ]
    },
    {
     "name": "stdout",
     "output_type": "stream",
     "text": [
      "[' interception , , \\n \\n', ', \\n \\n \\n \\n', '\\n \\n , \\n \\n', '\\n \\n \\n \\n \\n', '\\n \\n \\n \\n \\n', '\\n \\n \\n \\n \\n', '\\n \\n , \\n \\n', '\\n , \\n \\n \\n', '\\n \\n \\n \\n \\n', '\\n \\n \\n \\n \\n', ', \\n \\n \\n \\n', '\\n \\n , \\n \\n', '\\n \\n \\n \\n \\n', '\\n \\n \\n \\n \\n', '\\n \\n \\n \\n \\n', '\\n \\n \\n \\n \\n']\n",
      "['\\n \\n \\n , \\n', '\\n \\n \\n \\n \\n', '\\n \\n \\n \\n \\n', '\\n \\n , \\n \\n', '\\n \\n \\n \\n \\n', '\\n \\n , \\n \\n', '\\n \\n , \\n \\n', '\\n \\n \\n \\n ,', '\\n \\n \\n \\n \\n', '\\n \\n \\n \\n \\n', '\\n \\n \\n \\n \\n', '\\n \\n \\n \\n ,', '\\n \\n \\n \\n \\n', '\\n \\n \\n \\n \\n', '\\n \\n \\n \\n \\n', '\\n \\n \\n \\n \\n']\n"
     ]
    },
    {
     "name": "stderr",
     "output_type": "stream",
     "text": [
      "\r",
      " 15%|█████████████████▉                                                                                                      | 447/2999 [2:27:45<13:54:36, 19.62s/it]"
     ]
    },
    {
     "name": "stdout",
     "output_type": "stream",
     "text": [
      "['\\n \\n \\n \\n \\n', '\\n \\n \\n \\n \\n', '\\n , , \\n \\n', ', \\n \\n \\n \\n', '\\n \\n \\n \\n ,', '\\n \\n , \\n \\n', '\\n \\n \\n , \\n', '\\n \\n \\n \\n \\n', '\\n \\n \\n \\n \\n', '\\n \\n \\n \\n \\n', '\\n \\n , \\n \\n', '\\n \\n \\n \\n \\n', 'ush , \\n \\n \\n', '\\n \\n , \\n \\n', ', \\n \\n GoldMagikarp ,', ', , \\n \\n \\n']\n",
      "['\\n \\n \\n \\n \\n', '\\n \\n \\n \\n \\n', '\\n \\n \\n \\n \\n', '\\n \\n , \\n \\n', '\\n \\n , \\n \\n', '\\n \\n \\n \\n \\n', '\\n \\n \\n \\n \\n', ', \\n \\n \\n \\n', '\\n \\n \\n \\n \\n', '\\n \\n \\n \\n \\n', '\\n \\n , \\n \\n', '\\n \\n \\n , \\n', '\\n \\n \\n \\n \\n', '\\n \\n \\n \\n \\n', '\\n \\n \\n \\n \\n', '\\n \\n \\n \\n \\n']\n"
     ]
    },
    {
     "name": "stderr",
     "output_type": "stream",
     "text": [
      "\r",
      " 15%|█████████████████▉                                                                                                      | 448/2999 [2:28:05<13:53:59, 19.62s/it]"
     ]
    },
    {
     "name": "stdout",
     "output_type": "stream",
     "text": [
      "['\\n \\n \\n \\n \\n', '\\n \\n \\n \\n \\n', '\\n \\n , \\n \\n', ' beneficiary , , \\n \\n', '\\n \\n \\n \\n \\n', '\\n \\n \\n \\n \\n', '\\n \\n \\n \\n \\n', ' Ped , , , \\n', ' Ctrl , \\n \\n \\n', '\\n \\n \\n \\n \\n', '\\n \\n \\n \\n \\n', '\\n \\n , \\n \\n', '\\n \\n \\n \\n \\n', '\\n , \\n \\n \\n', '\\n \\n \\n \\n \\n', '\\n \\n \\n \\n \\n']\n",
      "['\\n \\n \\n , \\n', '\\n \\n \\n \\n \\n', '\\n \\n \\n \\n \\n', '\\n \\n , , \\n', '\\n \\n \\n \\n \\n', '\\n \\n , \\n \\n', '\\n \\n , \\n \\n', '\\n \\n \\n \\n \\n', '\\n \\n \\n \\n \\n', '\\n \\n \\n \\n \\n', '\\n \\n \\n , \\n', '\\n \\n \\n \\n ,', '\\n \\n \\n \\n \\n', '\\n \\n \\n \\n \\n', '\\n \\n \\n \\n \\n', '\\n \\n , \\n \\n']\n"
     ]
    },
    {
     "name": "stderr",
     "output_type": "stream",
     "text": [
      "\r",
      " 15%|█████████████████▉                                                                                                      | 449/2999 [2:28:25<13:52:36, 19.59s/it]"
     ]
    },
    {
     "name": "stdout",
     "output_type": "stream",
     "text": [
      "['\\n \\n \\n \\n \\n', '\\n \\n \\n \\n \\n', '\\n \\n \\n , ,', '\\n \\n \\n \\n \\n', '\\n \\n \\n \\n \\n', '\\n \\n \\n , \\n', '\\n \\n , \\n \\n', '\\n \\n \\n \\n \\n', '\\n \\n , \\n \\n', 'brainer , , \\n \\n', '\\n \\n \\n \\n ,', '\\n \\n , \\n \\n', '\\n \\n , \\n \\n', ' UDP , , \\n \\n', '\\n , \\n \\n \\n', ', \\n \\n \\n \\n']\n",
      "['\\n \\n \\n \\n \\n', '\\n \\n \\n \\n ,', '\\n \\n \\n \\n \\n', '\\n \\n \\n \\n \\n', '\\n \\n \\n \\n \\n', '\\n \\n \\n , \\n', '\\n \\n \\n \\n \\n', '\\n \\n \\n \\n \\n', '\\n \\n \\n \\n ,', '\\n \\n \\n \\n \\n', '\\n \\n , \\n ,', '\\n \\n , \\n \\n', '\\n \\n \\n \\n \\n', '\\n \\n \\n \\n \\n', '\\n \\n \\n \\n \\n', '\\n \\n \\n \\n \\n']\n"
     ]
    },
    {
     "name": "stderr",
     "output_type": "stream",
     "text": [
      "\r",
      " 15%|██████████████████                                                                                                      | 450/2999 [2:28:44<13:50:58, 19.56s/it]"
     ]
    },
    {
     "name": "stdout",
     "output_type": "stream",
     "text": [
      "['\\n \\n \\n \\n \\n', '\\n \\n \\n , \\n', '\\n \\n \\n \\n \\n', '\\n \\n \\n , \\n', '\\n \\n \\n \\n \\n', '\\n \\n , \\n \\n', '\\n \\n \\n \\n \\n', '\\n \\n \\n \\n \\n', '\\n \\n , \\n \\n', '\\n \\n \\n \\n \\n', '\\n \\n , \\n \\n', '\\n \\n \\n \\n \\n', '\\n \\n \\n \\n \\n', '\\n \\n \\n \\n \\n', ' dragged , , \\n \\n', '\\n \\n \\n \\n \\n']\n",
      "['\\n \\n \\n , \\n', '\\n \\n \\n \\n \\n', '\\n \\n \\n \\n \\n', '\\n \\n \\n \\n \\n', '\\n \\n \\n \\n \\n', '\\n \\n , \\n \\n', '\\n \\n \\n \\n \\n', '\\n \\n \\n \\n \\n', '\\n \\n \\n \\n \\n', '\\n \\n \\n \\n \\n', '\\n \\n \\n \\n \\n', '\\n \\n , \\n \\n', '\\n \\n \\n GoldMagikarp ,', '\\n \\n \\n \\n \\n', '\\n \\n \\n \\n \\n', '\\n \\n \\n \\n \\n']\n"
     ]
    },
    {
     "name": "stderr",
     "output_type": "stream",
     "text": [
      "\r",
      " 15%|██████████████████                                                                                                      | 451/2999 [2:29:04<13:50:15, 19.55s/it]"
     ]
    },
    {
     "name": "stdout",
     "output_type": "stream",
     "text": [
      "24.902881622314453 0.5\n",
      "['\\n \\n \\n \\n \\n', '\\n \\n \\n , \\n', '\\n \\n \\n , \\n', '\\n \\n \\n \\n \\n', '\\n \\n \\n \\n \\n', '\\n \\n , \\n \\n', '\\n \\n \\n \\n \\n', '\\n \\n \\n \\n \\n', '\\n \\n \\n \\n \\n', '\\n \\n \\n \\n \\n', '\\n \\n \\n \\n \\n', '\\n \\n \\n \\n \\n', '\\n \\n \\n \\n \\n', '\\n \\n \\n \\n \\n', '\\n \\n \\n \\n \\n', '\\n \\n \\n \\n \\n']\n",
      "['\\n \\n \\n \\n \\n', '\\n \\n \\n \\n \\n', '\\n \\n \\n \\n \\n', '\\n \\n \\n \\n \\n', '\\n \\n \\n \\n \\n', '\\n \\n \\n \\n \\n', '\\n \\n \\n \\n \\n', '\\n \\n \\n \\n \\n', '\\n \\n \\n \\n \\n', '\\n \\n \\n \\n \\n', '\\n \\n \\n \\n \\n', '\\n \\n \\n \\n \\n', '\\n \\n \\n \\n \\n', '\\n \\n \\n , \\n', '\\n , \\n \\n \\n', '\\n \\n \\n \\n \\n']\n"
     ]
    },
    {
     "name": "stderr",
     "output_type": "stream",
     "text": [
      "\r",
      " 15%|██████████████████                                                                                                      | 452/2999 [2:29:23<13:51:32, 19.59s/it]"
     ]
    },
    {
     "name": "stdout",
     "output_type": "stream",
     "text": [
      "['\\n \\n \\n \\n \\n', '\\n \\n \\n \\n \\n', '\\n \\n , \\n \\n', '\\n \\n \\n \\n \\n', '\\n \\n \\n \\n \\n', '\\n \\n , , \\n', '\\n \\n \\n \\n \\n', '\\n , \\n \\n \\n', '\\n \\n \\n \\n ,', '\\n \\n \\n \\n \\n', '\\n \\n \\n \\n \\n', '\\n \\n , \\n \\n', '\\n \\n \\n \\n \\n', 'ible , , \\n \\n', '\\n \\n \\n \\n \\n', '96 , , \\n \\n']\n",
      "['\\n \\n \\n \\n \\n', '\\n \\n \\n \\n \\n', '\\n \\n , \\n \\n', '\\n \\n \\n \\n \\n', '\\n \\n \\n \\n \\n', '\\n \\n , \\n \\n', '\\n \\n \\n \\n \\n', '\\n \\n \\n , \\n', '\\n \\n \\n \\n \\n', '\\n \\n \\n \\n \\n', '\\n \\n \\n \\n \\n', '\\n \\n \\n \\n \\n', '\\n \\n \\n \\n \\n', '\\n \\n \\n \\n \\n', '\\n \\n \\n \\n \\n', '\\n \\n \\n \\n \\n']\n"
     ]
    },
    {
     "name": "stderr",
     "output_type": "stream",
     "text": [
      "\r",
      " 15%|██████████████████▏                                                                                                     | 453/2999 [2:29:43<13:51:44, 19.60s/it]"
     ]
    },
    {
     "name": "stdout",
     "output_type": "stream",
     "text": [
      "['\\n \\n \\n \\n \\n', '\\n \\n \\n \\n \\n', '\\n \\n \\n \\n \\n', '\\n \\n \\n , \\n', '\\n \\n , \\n \\n', '\\n \\n , \\n \\n', '\\n \\n \\n \\n \\n', '\\n \\n \\n \\n \\n', ', \\n GoldMagikarp , ,', '\\n \\n \\n \\n \\n', '\\n \\n \\n \\n \\n', '\\n \\n \\n \\n \\n', '\\n \\n \\n \\n \\n', '\\n \\n , \\n ,', ', \\n \\n ,. \\n', '\\n \\n \\n \\n \\n']\n",
      "['\\n \\n \\n \\n \\n', '\\n \\n \\n \\n \\n', '\\n \\n \\n \\n \\n', '\\n \\n \\n \\n \\n', '\\n \\n \\n \\n \\n', '\\n \\n , \\n \\n', '\\n \\n \\n \\n \\n', '\\n \\n \\n \\n \\n', '\\n \\n \\n \\n \\n', '\\n \\n \\n \\n \\n', '\\n \\n \\n \\n \\n', '\\n , \\n \\n \\n', '\\n \\n \\n \\n \\n', '\\n \\n \\n \\n \\n', '\\n \\n \\n \\n \\n', '\\n \\n \\n \\n \\n']\n"
     ]
    },
    {
     "name": "stderr",
     "output_type": "stream",
     "text": [
      "\r",
      " 15%|██████████████████▏                                                                                                     | 454/2999 [2:30:02<13:50:53, 19.59s/it]"
     ]
    },
    {
     "name": "stdout",
     "output_type": "stream",
     "text": [
      "['\\n \\n \\n \\n \\n', '\\n \\n \\n \\n \\n', '\\n \\n , \\n \\n', 'Jewish , , \\n \\n', '\\n \\n \\n \\n \\n', '\\n \\n , , \\n', '\\n \\n \\n \\n \\n', '\\n , \\n \\n \\n', '\\n \\n \\n \\n \\n', '\\n \\n \\n \\n \\n', '\\n \\n \\n \\n \\n', '\\n \\n , \\n \\n', '\\n \\n \\n , \\n', '\\n \\n \\n \\n \\n', ' Emin , , , ,', '\\n \\n \\n \\n \\n']\n",
      "['\\n \\n \\n \\n \\n', '\\n \\n \\n \\n \\n', '\\n , \\n \\n ,', '\\n \\n \\n \\n \\n', '\\n \\n \\n \\n \\n', '\\n \\n \\n \\n \\n', '\\n \\n \\n \\n \\n', '\\n \\n \\n \\n \\n', '\\n \\n \\n \\n \\n', '\\n \\n \\n \\n ,', '\\n \\n , \\n \\n', '\\n \\n , \\n \\n', '\\n \\n \\n \\n \\n', '\\n \\n \\n \\n \\n', '\\n \\n \\n \\n \\n', '\\n \\n \\n \\n \\n']\n"
     ]
    },
    {
     "name": "stderr",
     "output_type": "stream",
     "text": [
      "\r",
      " 15%|██████████████████▏                                                                                                     | 455/2999 [2:30:22<13:50:37, 19.59s/it]"
     ]
    },
    {
     "name": "stdout",
     "output_type": "stream",
     "text": [
      "['\\n \\n \\n \\n \\n', '\\n \\n \\n \\n ,', '\\n \\n \\n \\n \\n', '\\n \\n , \\n \\n', '\\n \\n \\n , \\n', '\\n \\n \\n \\n \\n', '\\n \\n \\n \\n \\n', '\\n , \\n \\n \\n', '\\n \\n , \\n \\n', '\\n \\n \\n , \\n', '\\n , \\n , ,', '\\n \\n \\n \\n \\n', '\\n \\n , \\n \\n', ' student , , \\n \\n', '\\n \\n \\n \\n \\n', '\\n \\n \\n \\n \\n']\n",
      "['\\n \\n \\n \\n \\n', '\\n \\n \\n \\n \\n', '\\n \\n \\n \\n \\n', '\\n \\n \\n \\n \\n', '\\n \\n \\n \\n \\n', '\\n \\n \\n \\n \\n', '\\n \\n \\n \\n \\n', '\\n \\n \\n \\n \\n', '\\n \\n \\n \\n \\n', '\\n \\n \\n \\n \\n', ', \\n GoldMagikarp , ,', '\\n \\n \\n \\n \\n', '\\n \\n , \\n \\n', '\\n \\n \\n , \\n', '\\n \\n \\n \\n \\n', '\\n \\n \\n \\n \\n']\n"
     ]
    },
    {
     "name": "stderr",
     "output_type": "stream",
     "text": [
      "\r",
      " 15%|██████████████████▏                                                                                                     | 456/2999 [2:30:42<13:48:52, 19.56s/it]"
     ]
    },
    {
     "name": "stdout",
     "output_type": "stream",
     "text": [
      "['\\n \\n \\n \\n \\n', '\\n \\n \\n \\n \\n', '\\n \\n \\n \\n \\n', '\\n \\n \\n \\n \\n', '\\n \\n \\n , \\n', '\\n \\n , \\n ,', 'ッド , , \\n \\n', ', \\n \\n \\n \\n', '\\n \\n , \\n \\n', '\\n \\n \\n \\n ,', '\\n \\n \\n \\n ,', '\\n \\n , \\n \\n', '\\n \\n \\n \\n \\n', '\\n \\n \\n , \\n', '\\n \\n \\n \\n \\n', '\\n \\n , \\n \\n']\n",
      "['\\n \\n \\n , \\n', '\\n \\n \\n \\n \\n', '\\n \\n \\n \\n \\n', '\\n \\n \\n \\n \\n', '\\n \\n \\n , \\n', '\\n \\n \\n \\n \\n', '\\n \\n \\n \\n \\n', '\\n \\n \\n \\n \\n', '\\n \\n \\n , \\n', '\\n \\n \\n \\n \\n', '\\n \\n , \\n \\n', '\\n \\n \\n \\n \\n', '\\n \\n \\n \\n \\n', '\\n \\n \\n \\n \\n', '\\n \\n \\n \\n \\n', '\\n \\n \\n \\n \\n']\n"
     ]
    },
    {
     "name": "stderr",
     "output_type": "stream",
     "text": [
      "\r",
      " 15%|██████████████████▎                                                                                                     | 457/2999 [2:31:01<13:47:37, 19.53s/it]"
     ]
    },
    {
     "name": "stdout",
     "output_type": "stream",
     "text": [
      "['\\n \\n \\n \\n \\n', '\\n \\n \\n , \\n', '\\n \\n \\n \\n \\n', '\\n \\n \\n \\n \\n', '\\n \\n \\n \\n \\n', '\\n \\n \\n , \\n', '\\n \\n \\n \\n \\n', '\\n \\n \\n \\n \\n', '\\n \\n \\n \\n \\n', ' addresses , \\n \\n \\n', '\\n \\n \\n \\n \\n', '\\n \\n \\n \\n \\n', '\\n \\n \\n \\n \\n', '\\n \\n \\n \\n \\n', '\\n \\n \\n \\n \\n', '\\n \\n \\n \\n \\n']\n",
      "['\\n \\n \\n \\n \\n', '\\n \\n \\n \\n \\n', '\\n \\n \\n \\n \\n', '\\n \\n \\n \\n \\n', '\\n \\n \\n \\n \\n', '\\n \\n , \\n ,', '\\n \\n , \\n \\n', '\\n \\n \\n \\n \\n', '\\n \\n , \\n \\n', '\\n \\n \\n \\n \\n', '\\n \\n , \\n \\n', '\\n \\n \\n \\n \\n', '\\n \\n \\n \\n \\n', '\\n \\n \\n \\n ,', ', \\n GoldMagikarp , ,', '\\n \\n \\n \\n \\n']\n"
     ]
    },
    {
     "name": "stderr",
     "output_type": "stream",
     "text": [
      "\r",
      " 15%|██████████████████▎                                                                                                     | 458/2999 [2:31:21<13:47:37, 19.54s/it]"
     ]
    },
    {
     "name": "stdout",
     "output_type": "stream",
     "text": [
      "['\\n \\n \\n \\n \\n', '\\n \\n \\n \\n \\n', '\\n \\n \\n \\n \\n', '\\n \\n \\n \\n \\n', '\\n \\n \\n \\n \\n', '\\n \\n \\n \\n \\n', '\\n \\n \\n \\n \\n', '\\n \\n \\n \\n \\n', ', \\n \\n \\n \\n', '\\n \\n \\n \\n \\n', '\\n \\n \\n \\n \\n', '\\n \\n \\n \\n \\n', '\\n \\n \\n \\n \\n', '\\n \\n \\n \\n \\n', '\\n \\n \\n \\n \\n', ' unsure , , \\n \\n']\n",
      "['\\n \\n \\n \\n \\n', '\\n \\n \\n \\n \\n', '\\n \\n \\n \\n \\n', '\\n \\n \\n \\n ,', '\\n \\n \\n \\n \\n', '\\n , \\n \\n \\n', '\\n \\n \\n \\n \\n', '\\n \\n \\n \\n \\n', '\\n \\n \\n \\n \\n', '\\n \\n \\n \\n \\n', '\\n \\n \\n \\n \\n', '\\n \\n , \\n \\n', '\\n \\n \\n \\n \\n', '\\n \\n \\n \\n \\n', '\\n \\n \\n \\n \\n', '\\n \\n \\n \\n \\n']\n"
     ]
    },
    {
     "name": "stderr",
     "output_type": "stream",
     "text": [
      "\r",
      " 15%|██████████████████▎                                                                                                     | 459/2999 [2:31:40<13:48:07, 19.56s/it]"
     ]
    },
    {
     "name": "stdout",
     "output_type": "stream",
     "text": [
      "['\\n \\n \\n \\n \\n', '\\n \\n \\n \\n \\n', '\\n \\n \\n \\n \\n', '\\n \\n \\n \\n \\n', '\\n \\n \\n \\n \\n', ' Therapy , , , \\n', '\\n \\n \\n \\n \\n', '\\n \\n \\n \\n \\n', '\\n \\n \\n \\n \\n', '\\n \\n \\n \\n \\n', ', \\n ,. \\n ,', '\\n \\n , \\n \\n', '\\n \\n \\n \\n \\n', '\\n \\n \\n \\n ,', '\\n \\n \\n \\n \\n', ', \\n \\n \\n \\n']\n",
      "['\\n \\n \\n \\n \\n', '\\n \\n \\n \\n \\n', '\\n \\n \\n \\n \\n', '\\n \\n \\n \\n \\n', '\\n \\n \\n \\n \\n', '\\n \\n \\n \\n \\n', '\\n \\n \\n \\n \\n', '\\n \\n \\n \\n \\n', '\\n \\n \\n , \\n', '\\n \\n \\n \\n \\n', '\\n \\n , \\n \\n', ', \\n \\n \\n \\n', '\\n \\n \\n \\n \\n', '\\n \\n \\n \\n \\n', '\\n \\n \\n \\n \\n', '\\n \\n \\n \\n \\n']\n"
     ]
    },
    {
     "name": "stderr",
     "output_type": "stream",
     "text": [
      "\r",
      " 15%|██████████████████▍                                                                                                     | 460/2999 [2:32:00<13:47:15, 19.55s/it]"
     ]
    },
    {
     "name": "stdout",
     "output_type": "stream",
     "text": [
      "['\\n \\n \\n \\n \\n', '\\n \\n \\n , \\n', '\\n \\n \\n , \\n', '\\n \\n \\n \\n \\n', '\\n \\n \\n \\n \\n', '\\n \\n \\n \\n \\n', '\\n \\n \\n \\n \\n', '\\n \\n \\n \\n \\n', '\\n \\n \\n \\n \\n', '\\n \\n \\n \\n \\n', '\\n \\n \\n \\n \\n', '\\n \\n , \\n \\n', '\\n \\n \\n \\n ,', '\\n \\n \\n \\n ,', '\\n \\n \\n \\n \\n', '\\n \\n \\n \\n \\n']\n",
      "['\\n \\n \\n , \\n', '\\n \\n \\n \\n \\n', '\\n \\n \\n \\n \\n', '\\n \\n \\n \\n \\n', ', \\n \\n \\n \\n', '\\n \\n , \\n \\n', '\\n \\n \\n \\n \\n', '\\n \\n \\n \\n \\n', '\\n \\n \\n \\n \\n', '\\n \\n \\n \\n \\n', '\\n \\n \\n \\n \\n', '\\n \\n \\n \\n \\n', '\\n \\n \\n \\n \\n', '\\n \\n \\n \\n \\n', '\\n \\n \\n \\n \\n', '\\n \\n \\n \\n \\n']\n"
     ]
    },
    {
     "name": "stderr",
     "output_type": "stream",
     "text": [
      "\r",
      " 15%|██████████████████▍                                                                                                     | 461/2999 [2:32:19<13:46:48, 19.55s/it]"
     ]
    },
    {
     "name": "stdout",
     "output_type": "stream",
     "text": [
      "33.076507568359375 0.53125\n",
      "['\\n \\n \\n \\n \\n', '\\n \\n \\n \\n \\n', '\\n \\n , \\n \\n', '\\n \\n \\n , \\n', '\\n \\n \\n \\n \\n', '\\n \\n \\n \\n \\n', '\\n \\n , , \\n', '\\n \\n \\n \\n \\n', '\\n \\n \\n \\n \\n', '\\n \\n \\n \\n \\n', '\\n \\n \\n \\n \\n', '\\n \\n \\n \\n \\n', 'itated , , \\n \\n', '\\n \\n \\n \\n \\n', '\\n \\n \\n \\n \\n', '\\n \\n , \\n \\n']\n",
      "['\\n \\n \\n \\n \\n', '\\n \\n \\n \\n \\n', '\\n \\n \\n \\n \\n', '\\n \\n , \\n \\n', '\\n \\n \\n \\n ,', '\\n \\n , \\n \\n', '\\n \\n \\n \\n \\n', '\\n \\n \\n \\n \\n', '\\n \\n \\n , \\n', '\\n \\n \\n , \\n', '\\n \\n \\n \\n \\n', '\\n \\n , \\n \\n', '\\n \\n \\n \\n \\n', '\\n \\n \\n \\n \\n', '\\n \\n \\n , \\n', '\\n \\n \\n \\n \\n']\n"
     ]
    },
    {
     "name": "stderr",
     "output_type": "stream",
     "text": [
      "\r",
      " 15%|██████████████████▍                                                                                                     | 462/2999 [2:32:39<13:46:32, 19.55s/it]"
     ]
    },
    {
     "name": "stdout",
     "output_type": "stream",
     "text": [
      "['\\n \\n \\n \\n \\n', ', \\n \\n \\n \\n', '\\n , \\n \\n ,', '\\n , \\n \\n \\n', '\\n \\n \\n \\n \\n', ' Bullet , , , \\n', '\\n \\n \\n \\n ,', '\\n \\n \\n \\n \\n', '\\n \\n \\n \\n \\n', '\\n \\n \\n \\n \\n', '\\n \\n \\n \\n \\n', '\\n \\n \\n \\n \\n', '\\n \\n , \\n \\n', '\\n \\n \\n \\n \\n', '\\n \\n \\n \\n \\n', '\\n \\n \\n , \\n']\n",
      "['\\n \\n \\n \\n \\n', '\\n \\n \\n \\n \\n', '\\n \\n \\n \\n \\n', '\\n \\n \\n , \\n', '\\n \\n \\n \\n \\n', '\\n \\n , \\n \\n', '\\n \\n , \\n \\n', ', \\n \\n \\n \\n', '\\n \\n \\n , \\n', ', \\n \\n \\n \\n', ', , \\n \\n \\n', '\\n , \\n \\n \\n', '\\n \\n \\n , \\n', '\\n \\n \\n \\n \\n', '\\n \\n \\n \\n \\n', ', \\n \\n \\n \\n']\n"
     ]
    },
    {
     "name": "stderr",
     "output_type": "stream",
     "text": [
      "\r",
      " 15%|██████████████████▌                                                                                                     | 463/2999 [2:32:58<13:45:49, 19.54s/it]"
     ]
    },
    {
     "name": "stdout",
     "output_type": "stream",
     "text": [
      "['\\n \\n \\n \\n \\n', '\\n \\n \\n \\n \\n', '\\n \\n \\n \\n \\n', '\\n \\n \\n \\n \\n', '\\n \\n \\n \\n \\n', '\\n \\n , \\n \\n', '\\n \\n \\n \\n ,', '\\n , \\n \\n \\n', '\\n \\n \\n \\n \\n', '\\n \\n \\n \\n \\n', '\\n \\n \\n \\n \\n', '\\n \\n \\n \\n \\n', '\\n \\n \\n \\n \\n', '\\n \\n \\n \\n \\n', '\\n \\n \\n \\n \\n', '\\n \\n \\n \\n \\n']\n",
      "['\\n , \\n \\n \\n', '\\n \\n \\n \\n \\n', '\\n \\n \\n \\n ,', '\\n \\n \\n , \\n', '\\n \\n \\n \\n \\n', '\\n \\n , \\n \\n', ', \\n \\n \\n \\n', '\\n \\n \\n \\n \\n', '\\n \\n \\n \\n \\n', '\\n \\n \\n \\n \\n', '\\n \\n \\n \\n \\n', ', \\n \\n \\n \\n', '\\n \\n \\n \\n \\n', '\\n \\n , \\n \\n', '\\n \\n \\n \\n \\n', '\\n \\n \\n \\n \\n']\n"
     ]
    },
    {
     "name": "stderr",
     "output_type": "stream",
     "text": [
      "\r",
      " 15%|██████████████████▌                                                                                                     | 464/2999 [2:33:18<13:44:57, 19.53s/it]"
     ]
    },
    {
     "name": "stdout",
     "output_type": "stream",
     "text": [
      "['\\n \\n \\n \\n \\n', '\\n \\n \\n \\n \\n', '\\n \\n \\n \\n \\n', '\\n \\n , \\n ,', '\\n \\n \\n \\n \\n', '\\n \\n , \\n \\n', '\\n \\n \\n \\n \\n', '\\n \\n \\n \\n \\n', '\\n \\n \\n \\n \\n', '\\n \\n \\n \\n \\n', '\\n \\n \\n \\n ,', ', \\n \\n \\n \\n', '\\n , \\n , \\n', '\\n \\n , \\n \\n', '\\n \\n \\n \\n \\n', '\\n \\n \\n \\n \\n']\n",
      "['\\n \\n \\n , \\n', '\\n \\n \\n \\n \\n', '\\n \\n \\n \\n \\n', '\\n \\n \\n \\n ,', '\\n \\n \\n \\n ,', ', \\n \\n \\n \\n', '\\n \\n , \\n \\n', ', \\n \\n \\n \\n', '\\n \\n \\n , \\n', ', \\n \\n \\n \\n', ', \\n tumblr , ,', '\\n \\n \\n \\n \\n', '\\n \\n \\n \\n \\n', '\\n \\n \\n \\n \\n', '\\n \\n \\n \\n \\n', '\\n \\n \\n \\n \\n']\n"
     ]
    },
    {
     "name": "stderr",
     "output_type": "stream",
     "text": [
      "\r",
      " 16%|██████████████████▌                                                                                                     | 465/2999 [2:33:37<13:44:19, 19.52s/it]"
     ]
    },
    {
     "name": "stdout",
     "output_type": "stream",
     "text": [
      "[' Ezra , , , \\n', '\\n \\n \\n \\n \\n', ', \\n \\n \\n \\n', '\\n \\n \\n \\n \\n', '\\n \\n \\n \\n \\n', '\\n \\n , \\n \\n', '\\n \\n \\n \\n \\n', '\\n \\n \\n \\n \\n', '\\n \\n \\n \\n \\n', '\\n \\n \\n \\n \\n', '\\n \\n \\n \\n \\n', ' Ceres , , , \\n', '\\n , \\n \\n \\n', '\\n \\n \\n \\n \\n', '\\n \\n \\n \\n \\n', '\\n \\n \\n \\n ,']\n",
      "['\\n \\n \\n \\n \\n', '\\n \\n \\n \\n \\n', '\\n \\n \\n \\n \\n', '\\n \\n \\n \\n \\n', '\\n \\n , \\n \\n', '\\n \\n , \\n \\n', ', \\n \\n \\n \\n', '\\n \\n \\n \\n \\n', '\\n \\n \\n , \\n', '\\n \\n \\n \\n \\n', '\\n \\n \\n \\n \\n', '\\n \\n \\n \\n \\n', '\\n \\n , \\n ,', '\\n \\n \\n \\n \\n', '\\n \\n \\n , \\n', ', \\n \\n \\n \\n']\n"
     ]
    },
    {
     "name": "stderr",
     "output_type": "stream",
     "text": [
      "\r",
      " 16%|██████████████████▋                                                                                                     | 466/2999 [2:33:57<13:43:43, 19.51s/it]"
     ]
    },
    {
     "name": "stdout",
     "output_type": "stream",
     "text": [
      "['\\n \\n \\n \\n \\n', '\\n \\n \\n , \\n', '\\n \\n \\n \\n \\n', '\\n \\n \\n , \\n', '\\n \\n \\n \\n \\n', 'post , \\n \\n \\n', '\\n \\n \\n , \\n', '\\n \\n , \\n \\n', '\\n \\n \\n \\n \\n', '\\n \\n \\n \\n \\n', '\\n \\n \\n \\n \\n', '\\n \\n \\n , \\n', '\\n \\n \\n , \\n', '\\n \\n \\n \\n \\n', '\\n \\n \\n \\n \\n', '\\n \\n , \\n \\n']\n",
      "['\\n \\n \\n \\n ,', '\\n \\n \\n \\n \\n', '\\n \\n \\n \\n \\n', '\\n \\n \\n \\n \\n', '\\n \\n \\n \\n ,', '\\n \\n \\n \\n \\n', '\\n \\n \\n \\n \\n', ', \\n \\n \\n \\n', '\\n \\n , \\n \\n', '\\n \\n \\n \\n \\n', '\\n \\n \\n \\n \\n', '\\n \\n \\n \\n \\n', '\\n \\n \\n \\n \\n', '\\n \\n \\n \\n \\n', '\\n \\n \\n \\n \\n', '\\n \\n \\n \\n \\n']\n"
     ]
    },
    {
     "name": "stderr",
     "output_type": "stream",
     "text": [
      "\r",
      " 16%|██████████████████▋                                                                                                     | 467/2999 [2:34:16<13:44:13, 19.53s/it]"
     ]
    },
    {
     "name": "stdout",
     "output_type": "stream",
     "text": [
      "[' DIRECT , , \\n \\n', '\\n \\n \\n \\n \\n', '\\n , \\n \\n ,', '\\n \\n \\n \\n \\n', '\\n \\n \\n \\n \\n', ' Jupiter , , , \\n', '\\n \\n \\n \\n \\n', '\\n \\n \\n \\n \\n', '\\n \\n , \\n \\n', '\\n \\n \\n \\n \\n', '\\n \\n \\n \\n \\n', '\\n \\n \\n \\n \\n', '\\n \\n , \\n \\n', ' constant , , \\n \\n', '\\n \\n \\n \\n \\n', '\\n \\n \\n \\n \\n']\n",
      "['\\n \\n \\n \\n \\n', '\\n \\n \\n , \\n', '\\n \\n \\n \\n \\n', '\\n \\n \\n \\n \\n', '\\n \\n \\n \\n \\n', '\\n \\n \\n , \\n', ', \\n \\n \\n \\n', '\\n \\n \\n \\n \\n', '\\n \\n \\n \\n \\n', '\\n \\n \\n \\n \\n', '\\n \\n \\n , \\n', '\\n \\n \\n \\n \\n', '\\n \\n , \\n \\n', '\\n \\n \\n \\n \\n', '\\n , \\n \\n \\n', '\\n \\n \\n \\n \\n']\n"
     ]
    },
    {
     "name": "stderr",
     "output_type": "stream",
     "text": [
      "\r",
      " 16%|██████████████████▋                                                                                                     | 468/2999 [2:34:36<13:43:48, 19.53s/it]"
     ]
    },
    {
     "name": "stdout",
     "output_type": "stream",
     "text": [
      "['\\n \\n \\n \\n \\n', '\\n \\n \\n \\n \\n', '\\n \\n \\n , \\n', '\\n \\n \\n \\n \\n', '\\n \\n \\n \\n \\n', '\\n \\n \\n \\n \\n', '\\n \\n , \\n \\n', ', \\n \\n \\n \\n', ' lakes , , \\n \\n', '\\n \\n \\n \\n \\n', '\\n \\n \\n \\n \\n', '\\n \\n , \\n ,', '\\n , \\n \\n \\n', '\\n , \\n \\n \\n', '\\n \\n \\n \\n ,', '\\n \\n \\n \\n \\n']\n",
      "['\\n \\n \\n \\n \\n', '\\n \\n \\n \\n \\n', '\\n \\n , \\n \\n', '\\n \\n \\n , \\n', '\\n \\n \\n \\n \\n', '\\n \\n , \\n \\n', '\\n \\n \\n \\n \\n', '\\n \\n \\n \\n \\n', '\\n , \\n \\n \\n', '\\n \\n \\n \\n \\n', '\\n \\n \\n , \\n', '\\n \\n \\n \\n ,', '\\n \\n , \\n \\n', ', , \\n \\n \\n', '\\n \\n \\n \\n \\n', ', \\n \\n \\n \\n']\n"
     ]
    },
    {
     "name": "stderr",
     "output_type": "stream",
     "text": [
      "\r",
      " 16%|██████████████████▊                                                                                                     | 469/2999 [2:34:55<13:43:13, 19.52s/it]"
     ]
    },
    {
     "name": "stdout",
     "output_type": "stream",
     "text": [
      "['\\n \\n \\n \\n \\n', '\\n \\n \\n \\n \\n', '\\n \\n , \\n \\n', '\\n \\n \\n , \\n', '\\n \\n \\n , \\n', '\\n \\n , \\n \\n', '\\n \\n \\n \\n \\n', ', \\n \\n \\n \\n', ' plunder , , , \\n', '\\n \\n , \\n \\n', '\\n \\n \\n \\n \\n', '\\n \\n \\n , \\n', ' fabricated , , , \\n', '\\n \\n \\n \\n \\n', ' Teresa , , , \\n', ', \\n \\n \\n ,']\n",
      "['\\n \\n \\n \\n \\n', '\\n \\n \\n \\n \\n', '\\n \\n \\n , \\n', '\\n \\n \\n \\n ,', '\\n \\n \\n \\n \\n', '\\n \\n \\n \\n \\n', ', \\n \\n \\n \\n', '\\n \\n \\n \\n \\n', '\\n \\n \\n \\n \\n', '\\n \\n \\n \\n \\n', ', \\n tumblr , ,', '\\n \\n \\n \\n \\n', '\\n , \\n \\n \\n', '\\n \\n \\n , \\n', '\\n \\n \\n , \\n', '\\n , \\n \\n ,']\n"
     ]
    },
    {
     "name": "stderr",
     "output_type": "stream",
     "text": [
      "\r",
      " 16%|██████████████████▊                                                                                                     | 470/2999 [2:35:15<13:41:43, 19.50s/it]"
     ]
    },
    {
     "name": "stdout",
     "output_type": "stream",
     "text": [
      "['\\n \\n \\n \\n \\n', '\\n \\n \\n \\n ,', 'quad , , \\n \\n', '\\n , \\n \\n \\n', '\\n \\n \\n \\n \\n', '\\n \\n \\n \\n \\n', '\\n \\n \\n \\n \\n', ', \\n \\n \\n \\n', '\\n \\n \\n \\n \\n', '\\n \\n \\n \\n \\n', '\\n \\n \\n \\n ,', '\\n \\n , \\n \\n', ', , \\n GoldMagikarp ,', ', \\n \\n \\n \\n', ', \\n GoldMagikarp , ,', '\\n \\n \\n \\n \\n']\n",
      "['\\n \\n \\n \\n \\n', '\\n \\n \\n \\n \\n', '\\n \\n , \\n \\n', '\\n , \\n \\n ,', '\\n \\n \\n , \\n', '\\n , \\n \\n \\n', '\\n \\n \\n \\n \\n', '\\n , , \\n ,', ', \\n \\n \\n \\n', '\\n \\n \\n \\n \\n', '\\n \\n \\n \\n \\n', '\\n \\n , \\n \\n', '\\n \\n \\n \\n \\n', '\\n \\n \\n \\n \\n', '\\n \\n \\n \\n ,', '\\n \\n \\n \\n \\n']\n"
     ]
    },
    {
     "name": "stderr",
     "output_type": "stream",
     "text": [
      "\r",
      " 16%|██████████████████▊                                                                                                     | 471/2999 [2:35:34<13:41:26, 19.50s/it]"
     ]
    },
    {
     "name": "stdout",
     "output_type": "stream",
     "text": [
      "32.04636764526367 0.54296875\n",
      "['\\n \\n \\n , \\n', '\\n \\n , \\n \\n', '\\n \\n \\n \\n \\n', '\\n \\n \\n \\n \\n', '\\n \\n \\n \\n \\n', '\\n \\n \\n \\n \\n', '\\n \\n \\n \\n \\n', '\\n \\n \\n \\n \\n', '\\n \\n \\n , \\n', '\\n \\n \\n \\n \\n', '\\n \\n \\n \\n \\n', '\\n \\n \\n \\n \\n', '\\n \\n , \\n \\n', '\\n \\n \\n \\n \\n', '\\n \\n \\n , \\n', '\\n \\n \\n \\n \\n']\n",
      "['\\n \\n \\n \\n \\n', '\\n \\n \\n \\n ,', '\\n \\n \\n , \\n', '\\n \\n \\n \\n \\n', '\\n \\n \\n \\n \\n', '\\n \\n , \\n \\n', ', \\n \\n \\n \\n', '\\n \\n \\n \\n \\n', '\\n \\n \\n \\n \\n', ', \\n ,. \\n \\n', '\\n \\n \\n \\n ,', '\\n \\n \\n \\n \\n', '\\n \\n \\n \\n \\n', '\\n \\n \\n \\n \\n', '\\n \\n \\n \\n \\n', '\\n \\n \\n , \\n']\n"
     ]
    },
    {
     "name": "stderr",
     "output_type": "stream",
     "text": [
      "\r",
      " 16%|██████████████████▉                                                                                                     | 472/2999 [2:35:54<13:41:36, 19.51s/it]"
     ]
    },
    {
     "name": "stdout",
     "output_type": "stream",
     "text": [
      "['\\n \\n \\n \\n \\n', '\\n \\n \\n \\n \\n', '\\n \\n \\n \\n \\n', '\\n \\n , \\n \\n', '\\n \\n \\n \\n \\n', '\\n \\n , \\n \\n', '\\n \\n , \\n \\n', ' denomination , , \\n \\n', '\\n \\n \\n , \\n', '\\n \\n \\n , \\n', '\\n \\n \\n \\n \\n', '\\n \\n \\n \\n \\n', '\\n \\n \\n \\n \\n', '\\n \\n \\n \\n \\n', '\\n \\n \\n \\n \\n', '\\n \\n \\n \\n \\n']\n",
      "['\\n \\n \\n \\n \\n', '\\n \\n \\n \\n \\n', '\\n \\n \\n \\n \\n', '\\n \\n , \\n \\n', '\\n \\n \\n \\n \\n', '\\n \\n \\n \\n \\n', '\\n \\n \\n \\n \\n', '\\n \\n \\n \\n \\n', '\\n \\n \\n \\n \\n', '\\n \\n , \\n \\n', '\\n \\n , \\n \\n', '\\n \\n \\n \\n \\n', '\\n , \\n \\n \\n', '\\n \\n \\n \\n \\n', '\\n \\n \\n \\n \\n', '\\n \\n \\n , \\n']\n"
     ]
    },
    {
     "name": "stderr",
     "output_type": "stream",
     "text": [
      "\r",
      " 16%|██████████████████▉                                                                                                     | 473/2999 [2:36:13<13:42:02, 19.53s/it]"
     ]
    },
    {
     "name": "stdout",
     "output_type": "stream",
     "text": [
      "['\\n \\n \\n \\n \\n', '\\n \\n \\n \\n \\n', '\\n \\n \\n \\n \\n', ', \\n \\n \\n \\n', '\\n \\n \\n \\n \\n', '\\n \\n \\n \\n \\n', '\\n \\n \\n , \\n', ', \\n \\n \\n \\n', '\\n \\n \\n \\n \\n', '\\n \\n \\n \\n \\n', '\\n \\n \\n \\n ,', 'atted , , \\n \\n', '\\n , \\n \\n \\n', '\\n \\n \\n \\n \\n', '\\n \\n \\n \\n \\n', '\\n , \\n \\n \\n']\n",
      "['\\n \\n \\n \\n \\n', '\\n \\n \\n \\n \\n', '\\n \\n \\n \\n \\n', ', \\n \\n \\n \\n', '\\n \\n \\n \\n \\n', '\\n \\n \\n \\n \\n', '\\n \\n \\n \\n \\n', '\\n \\n \\n \\n \\n', '\\n \\n \\n \\n \\n', '\\n \\n \\n \\n ,', '\\n \\n \\n \\n \\n', '\\n \\n \\n \\n \\n', '\\n \\n \\n \\n \\n', '\\n \\n \\n \\n ,', '\\n \\n \\n \\n \\n', '\\n \\n \\n \\n \\n']\n"
     ]
    },
    {
     "name": "stderr",
     "output_type": "stream",
     "text": [
      "\r",
      " 16%|██████████████████▉                                                                                                     | 474/2999 [2:36:33<13:41:48, 19.53s/it]"
     ]
    },
    {
     "name": "stdout",
     "output_type": "stream",
     "text": [
      "[' creatures , , \\n \\n', '\\n \\n \\n \\n \\n', '\\n \\n \\n \\n \\n', '\\n \\n \\n \\n \\n', '\\n \\n \\n , \\n', '\\n , \\n \\n \\n', ', \\n \\n \\n \\n', '\\n \\n \\n , \\n', '\\n \\n \\n , ,', '\\n \\n \\n , \\n', ', \\n \\n \\n \\n', '\\n \\n \\n \\n \\n', '\\n \\n \\n \\n \\n', '\\n \\n \\n \\n \\n', ' Provides , , \\n \\n', '\\n \\n , \\n \\n']\n",
      "['\\n \\n \\n \\n \\n', '\\n \\n \\n \\n \\n', '\\n \\n \\n , \\n', '\\n \\n , \\n \\n', '\\n \\n \\n \\n \\n', '\\n \\n \\n \\n \\n', ', \\n \\n \\n \\n', '\\n \\n \\n \\n \\n', '\\n \\n \\n \\n \\n', '\\n \\n \\n \\n \\n', '\\n \\n \\n \\n \\n', '\\n \\n \\n \\n \\n', '\\n \\n \\n \\n \\n', '\\n \\n \\n \\n \\n', '\\n \\n \\n \\n \\n', '\\n \\n \\n , \\n']\n"
     ]
    },
    {
     "name": "stderr",
     "output_type": "stream",
     "text": [
      "\r",
      " 16%|███████████████████                                                                                                     | 475/2999 [2:36:52<13:40:41, 19.51s/it]"
     ]
    },
    {
     "name": "stdout",
     "output_type": "stream",
     "text": [
      "['\\n \\n \\n \\n \\n', '\\n \\n \\n \\n \\n', '\\n \\n \\n \\n \\n', '\\n \\n \\n \\n \\n', '\\n \\n \\n \\n \\n', '\\n \\n \\n \\n \\n', '\\n \\n \\n \\n \\n', '\\n , \\n \\n \\n', '\\n \\n \\n \\n \\n', '\\n \\n \\n \\n ,', ', \\n tumblr , ,', '\\n \\n , \\n \\n', '\\n \\n \\n \\n \\n', '\\n \\n \\n \\n \\n', '\\n \\n \\n \\n \\n', '\\n , \\n \\n \\n']\n",
      "['\\n \\n \\n \\n \\n', '\\n \\n \\n \\n \\n', '\\n , \\n \\n \\n', '\\n \\n \\n \\n \\n', '\\n \\n \\n \\n \\n', '\\n \\n \\n \\n \\n', '\\n \\n \\n \\n \\n', '\\n \\n \\n \\n \\n', '\\n \\n \\n \\n \\n', '\\n \\n \\n \\n \\n', '\\n \\n \\n \\n \\n', '\\n \\n \\n \\n \\n', '\\n \\n \\n , \\n', '\\n \\n \\n \\n \\n', '\\n \\n , \\n \\n', '\\n \\n , \\n \\n']\n"
     ]
    },
    {
     "name": "stderr",
     "output_type": "stream",
     "text": [
      "\r",
      " 16%|███████████████████                                                                                                     | 476/2999 [2:37:12<13:41:03, 19.53s/it]"
     ]
    },
    {
     "name": "stdout",
     "output_type": "stream",
     "text": [
      "[' captains , , \\n \\n', '\\n \\n \\n \\n \\n', '\\n \\n \\n \\n \\n', '\\n \\n \\n \\n \\n', '\\n \\n , \\n \\n', '\\n , \\n \\n ,', '\\n \\n \\n \\n \\n', '\\n \\n \\n \\n \\n', '\\n \\n \\n \\n \\n', '\\n \\n \\n \\n \\n', '\\n \\n \\n \\n \\n', '\\n \\n , \\n \\n', '\\n \\n , \\n \\n', '\\n \\n \\n \\n \\n', '\\n \\n \\n \\n ,', '\\n \\n \\n \\n \\n']\n",
      "['\\n \\n \\n \\n \\n', '\\n \\n \\n \\n \\n', '\\n \\n \\n \\n ,', '\\n \\n \\n \\n \\n', '\\n \\n \\n \\n \\n', '\\n \\n \\n \\n \\n', '\\n \\n \\n , \\n', '\\n \\n \\n \\n \\n', '\\n \\n \\n \\n \\n', '\\n \\n \\n , \\n', ', \\n GoldMagikarp , ,', '\\n , \\n \\n \\n', '\\n \\n , , \\n', '\\n \\n \\n \\n ,', '\\n \\n \\n \\n \\n', '\\n \\n \\n , \\n']\n"
     ]
    },
    {
     "name": "stderr",
     "output_type": "stream",
     "text": [
      "\r",
      " 16%|███████████████████                                                                                                     | 477/2999 [2:37:32<13:40:51, 19.53s/it]"
     ]
    },
    {
     "name": "stdout",
     "output_type": "stream",
     "text": [
      "['\\n \\n \\n , \\n', '\\n \\n \\n \\n \\n', ' governor , , , \\n', '\\n \\n \\n \\n \\n', '\\n \\n \\n \\n ,', '\\n \\n \\n , \\n', '\\n \\n \\n \\n \\n', ' Mysterious , , , \\n', '\\n \\n \\n \\n \\n', ' Ult , , , \\n', '\\n \\n \\n \\n \\n', '\\n \\n \\n \\n \\n', '\\n \\n , \\n \\n', '\\n \\n \\n \\n \\n', '\\n \\n \\n \\n \\n', '\\n \\n \\n \\n \\n']\n",
      "['\\n \\n \\n \\n \\n', '\\n \\n \\n \\n \\n', '\\n \\n \\n \\n \\n', '\\n \\n \\n \\n \\n', '\\n \\n \\n \\n \\n', '\\n \\n , \\n \\n', '\\n \\n \\n \\n \\n', '\\n \\n \\n \\n \\n', '\\n \\n \\n \\n \\n', '\\n \\n \\n \\n \\n', '\\n \\n \\n \\n \\n', '\\n \\n \\n \\n \\n', '\\n \\n \\n \\n \\n', '\\n \\n \\n \\n \\n', '\\n \\n \\n \\n ,', ', \\n \\n \\n \\n']\n"
     ]
    },
    {
     "name": "stderr",
     "output_type": "stream",
     "text": [
      "\r",
      " 16%|███████████████████▏                                                                                                    | 478/2999 [2:37:51<13:41:00, 19.54s/it]"
     ]
    },
    {
     "name": "stdout",
     "output_type": "stream",
     "text": [
      "['\\n \\n \\n \\n ,', '\\n \\n \\n \\n \\n', '\\n \\n , \\n \\n', ' ≥ , \\n \\n \\n', '\\n \\n \\n \\n \\n', '\\n \\n \\n \\n \\n', 'CRE , , \\n \\n', ', \\n \\n \\n \\n', '\\n \\n \\n \\n \\n', '\\n \\n \\n \\n \\n', ' colonel , , \\n \\n', '\\n \\n \\n \\n \\n', '\\n \\n , \\n \\n', '\\n \\n \\n \\n \\n', ', \\n ,. \\n \\n', '\\n \\n \\n \\n ,']\n",
      "['\\n \\n \\n \\n \\n', '\\n \\n \\n , \\n', '\\n \\n \\n \\n ,', '\\n \\n \\n \\n \\n', '\\n \\n \\n \\n \\n', '\\n \\n , \\n \\n', '\\n \\n \\n \\n \\n', '\\n \\n \\n \\n \\n', '\\n \\n \\n , \\n', '\\n \\n \\n \\n \\n', '\\n \\n \\n \\n \\n', '\\n \\n \\n \\n \\n', '\\n , \\n \\n \\n', '\\n \\n \\n \\n \\n', ', \\n \\n \\n \\n', ', \\n \\n \\n \\n']\n"
     ]
    },
    {
     "name": "stderr",
     "output_type": "stream",
     "text": [
      "\r",
      " 16%|███████████████████▏                                                                                                    | 479/2999 [2:38:11<13:41:13, 19.55s/it]"
     ]
    },
    {
     "name": "stdout",
     "output_type": "stream",
     "text": [
      "['\\n \\n \\n \\n \\n', '\\n \\n \\n \\n \\n', ' Sonia , , , \\n', '\\n \\n \\n \\n \\n', '\\n \\n \\n \\n \\n', '\\n \\n \\n , \\n', '\\n \\n \\n \\n \\n', '\\n \\n \\n \\n ,', '\\n \\n \\n , \\n', '\\n , \\n \\n \\n', '\\n \\n \\n \\n \\n', '\\n \\n , \\n \\n', '\\n \\n , \\n \\n', '\\n \\n \\n \\n \\n', 'Pages , , \\n \\n', '\\n \\n \\n \\n ,']\n",
      "['\\n \\n \\n \\n \\n', '\\n \\n \\n \\n \\n', '\\n \\n \\n \\n \\n', '\\n \\n \\n \\n \\n', '\\n \\n \\n \\n \\n', '\\n \\n , \\n \\n', '\\n \\n \\n \\n \\n', '\\n \\n \\n \\n ,', '\\n \\n \\n \\n \\n', ', \\n \\n \\n \\n', '\\n \\n \\n \\n \\n', '\\n , \\n \\n \\n', '\\n \\n , \\n \\n', '\\n \\n , \\n \\n', '\\n \\n \\n \\n \\n', '\\n \\n \\n \\n \\n']\n"
     ]
    },
    {
     "name": "stderr",
     "output_type": "stream",
     "text": [
      "\r",
      " 16%|███████████████████▏                                                                                                    | 480/2999 [2:38:30<13:39:59, 19.53s/it]"
     ]
    },
    {
     "name": "stdout",
     "output_type": "stream",
     "text": [
      "['\\n \\n \\n , \\n', '\\n \\n \\n \\n \\n', '\\n \\n \\n \\n \\n', ' inviting , , \\n \\n', '\\n \\n \\n \\n \\n', '\\n \\n , \\n \\n', '\\n \\n \\n \\n \\n', ', \\n \\n \\n \\n', '\\n \\n \\n \\n \\n', '\\n \\n \\n \\n \\n', '\\n \\n \\n \\n \\n', '\\n \\n \\n \\n \\n', '\\n \\n \\n \\n ,', '\\n \\n \\n \\n \\n', ', \\n \\n \\n \\n', '\\n \\n \\n \\n \\n']\n",
      "['\\n \\n \\n \\n \\n', '\\n \\n \\n \\n \\n', '\\n \\n \\n \\n \\n', '\\n \\n \\n \\n \\n', '\\n \\n \\n \\n \\n', '\\n \\n , \\n ,', '\\n \\n \\n \\n \\n', '\\n , \\n \\n \\n', '\\n \\n \\n \\n ,', '\\n \\n \\n \\n \\n', '\\n \\n \\n \\n \\n', '\\n \\n \\n , \\n', '\\n , \\n \\n ,', '\\n \\n \\n \\n \\n', '\\n \\n \\n \\n \\n', '\\n \\n \\n \\n \\n']\n"
     ]
    },
    {
     "name": "stderr",
     "output_type": "stream",
     "text": [
      "\r",
      " 16%|███████████████████▏                                                                                                    | 481/2999 [2:38:50<13:38:38, 19.51s/it]"
     ]
    },
    {
     "name": "stdout",
     "output_type": "stream",
     "text": [
      "29.12085723876953 0.515625\n",
      "['\\n \\n \\n \\n \\n', '\\n \\n \\n \\n \\n', '\\n \\n \\n \\n \\n', '\\n , \\n \\n \\n', '\\n \\n \\n , \\n', '\\n , \\n \\n \\n', ' PACK , , , ,', '\\n \\n \\n \\n \\n', '\\n \\n \\n \\n ,', 'Transfer , , \\n \\n', '\\n \\n \\n \\n \\n', '\\n \\n \\n , \\n', '\\n , \\n \\n ,', '\\n \\n \\n , \\n', '\\n \\n \\n \\n ,', '\\n \\n \\n \\n \\n']\n",
      "['\\n \\n \\n , ,', '\\n \\n \\n \\n \\n', '\\n \\n \\n \\n \\n', '\\n , \\n \\n \\n', '\\n \\n \\n \\n \\n', '\\n , \\n \\n \\n', '\\n \\n \\n , \\n', '\\n \\n \\n \\n \\n', '\\n , \\n \\n \\n', '\\n \\n \\n \\n \\n', '\\n \\n \\n \\n \\n', '\\n \\n , \\n \\n', '\\n \\n \\n \\n \\n', '\\n \\n \\n \\n \\n', '\\n \\n \\n \\n \\n', ', \\n \\n \\n \\n']\n"
     ]
    },
    {
     "name": "stderr",
     "output_type": "stream",
     "text": [
      "\r",
      " 16%|███████████████████▎                                                                                                    | 482/2999 [2:39:09<13:37:51, 19.50s/it]"
     ]
    },
    {
     "name": "stdout",
     "output_type": "stream",
     "text": [
      "['\\n \\n \\n \\n \\n', ' inciting , , , \\n', '\\n \\n \\n \\n \\n', '\\n \\n \\n \\n \\n', '\\n \\n \\n \\n ,', '\\n \\n \\n , \\n', '\\n \\n \\n \\n \\n', ', \\n \\n \\n \\n', '\\n \\n \\n \\n \\n', '\\n \\n \\n \\n \\n', '\\n \\n \\n , \\n', '\\n \\n , \\n \\n', '\\n , \\n , \\n', '\\n \\n \\n \\n \\n', '\\n \\n \\n \\n \\n', '\\n \\n \\n \\n \\n']\n",
      "['\\n \\n \\n , \\n', '\\n \\n \\n , \\n', '\\n \\n \\n \\n \\n', '\\n \\n \\n \\n ,', '\\n \\n \\n \\n \\n', '\\n \\n , \\n \\n', '\\n \\n \\n \\n \\n', '\\n \\n , \\n ,', '\\n \\n \\n \\n \\n', '\\n , \\n \\n \\n', '\\n \\n \\n \\n \\n', ', \\n \\n \\n \\n', '\\n \\n , \\n ,', '\\n \\n \\n \\n \\n', '\\n \\n \\n \\n \\n', '\\n \\n \\n , \\n']\n"
     ]
    },
    {
     "name": "stderr",
     "output_type": "stream",
     "text": [
      "\r",
      " 16%|███████████████████▎                                                                                                    | 483/2999 [2:39:29<13:37:47, 19.50s/it]"
     ]
    },
    {
     "name": "stdout",
     "output_type": "stream",
     "text": [
      "[' embargo , , \\n \\n', 'forcing , , \\n \\n', '\\n \\n \\n \\n \\n', 'awareness , , , \\n', '\\n \\n \\n \\n \\n', 'Quality , , , \\n', '\\n \\n \\n \\n \\n', '\\n \\n \\n \\n ,', ', \\n \\n \\n \\n', '\\n \\n \\n \\n \\n', '\\n \\n \\n \\n \\n', '\\n , \\n \\n \\n', '\\n \\n , \\n \\n', '\\n \\n \\n \\n \\n', ' 570 , , , \\n', ' Counter , , \\n \\n']\n",
      "['\\n \\n \\n \\n \\n', '\\n \\n , \\n \\n', '\\n \\n \\n , \\n', '\\n \\n \\n , \\n', '\\n \\n \\n \\n \\n', '\\n \\n \\n \\n \\n', '\\n \\n \\n , \\n', ', \\n \\n \\n \\n', '\\n \\n , \\n \\n', '\\n \\n \\n \\n \\n', '\\n \\n \\n \\n \\n', '\\n \\n \\n \\n \\n', '\\n \\n \\n , \\n', '\\n \\n \\n \\n \\n', '\\n \\n , \\n \\n', '\\n \\n \\n \\n \\n']\n"
     ]
    },
    {
     "name": "stderr",
     "output_type": "stream",
     "text": [
      "\r",
      " 16%|███████████████████▎                                                                                                    | 484/2999 [2:39:48<13:37:24, 19.50s/it]"
     ]
    },
    {
     "name": "stdout",
     "output_type": "stream",
     "text": [
      "['\\n \\n \\n \\n \\n', '\\n \\n \\n , \\n', '\\n \\n , \\n \\n', ' sandwic , , , \\n', '\\n \\n \\n \\n \\n', '\\n \\n \\n \\n \\n', '\\n \\n \\n \\n ,', '\\n \\n \\n \\n \\n', '\\n \\n \\n , \\n', '\\n \\n \\n \\n \\n', '\\n \\n \\n \\n \\n', '\\n \\n , \\n \\n', '\\n \\n \\n \\n \\n', '\\n \\n \\n \\n \\n', '\\n \\n \\n \\n \\n', '\\n \\n \\n \\n \\n']\n",
      "['\\n \\n \\n \\n \\n', '\\n \\n \\n \\n ,', '\\n \\n , \\n \\n', '\\n \\n \\n \\n \\n', '\\n \\n \\n , \\n', '\\n \\n , \\n \\n', '\\n \\n \\n \\n \\n', '\\n \\n \\n \\n \\n', '\\n \\n \\n \\n \\n', '\\n \\n \\n \\n \\n', '\\n \\n , \\n \\n', '\\n \\n \\n \\n \\n', '\\n \\n \\n \\n \\n', '\\n \\n \\n \\n \\n', '\\n \\n , , \\n', '\\n \\n \\n \\n \\n']\n"
     ]
    },
    {
     "name": "stderr",
     "output_type": "stream",
     "text": [
      "\r",
      " 16%|███████████████████▍                                                                                                    | 485/2999 [2:40:08<13:38:04, 19.52s/it]"
     ]
    },
    {
     "name": "stdout",
     "output_type": "stream",
     "text": [
      "['\\n \\n \\n \\n \\n', '\\n \\n \\n \\n \\n', '\\n \\n \\n \\n \\n', '\\n \\n , \\n \\n', '\\n \\n \\n \\n \\n', '\\n \\n , \\n \\n', '\\n \\n , \\n \\n', '\\n \\n \\n \\n \\n', '\\n \\n \\n \\n \\n', '\\n \\n \\n \\n \\n', '\\n \\n \\n \\n ,', '\\n \\n , \\n \\n', '\\n \\n \\n \\n \\n', '\\n \\n \\n , \\n', '\\n \\n \\n \\n \\n', '\\n \\n \\n \\n ,']\n",
      "['\\n \\n \\n \\n \\n', '\\n \\n , \\n \\n', '\\n \\n \\n \\n \\n', '\\n \\n \\n \\n \\n', '\\n \\n \\n \\n \\n', '\\n , \\n \\n \\n', '\\n \\n \\n \\n \\n', '\\n \\n \\n \\n \\n', '\\n \\n \\n \\n \\n', '\\n \\n \\n \\n ,', '\\n \\n \\n \\n \\n', '\\n \\n \\n \\n \\n', '\\n \\n \\n \\n \\n', '\\n \\n \\n \\n \\n', '\\n \\n \\n \\n ,', '\\n \\n \\n , \\n']\n"
     ]
    },
    {
     "name": "stderr",
     "output_type": "stream",
     "text": [
      "\r",
      " 16%|███████████████████▍                                                                                                    | 486/2999 [2:40:27<13:37:28, 19.52s/it]"
     ]
    },
    {
     "name": "stdout",
     "output_type": "stream",
     "text": [
      "['\\n \\n \\n , \\n', 'lights , , \\n \\n', '\\n , \\n \\n \\n', '\\n \\n \\n \\n \\n', 'DCS , , \\n \\n', '\\n \\n \\n \\n \\n', '\\n \\n \\n \\n ,', ' webcam , , , \\n', '\\n \\n \\n , \\n', '\\n \\n , \\n \\n', '\\n \\n , \\n \\n', '\\n \\n \\n \\n \\n', '\\n \\n \\n \\n \\n', '\\n \\n \\n \\n \\n', '\\n \\n \\n \\n \\n', '\\n \\n \\n \\n \\n']\n",
      "['\\n \\n \\n \\n \\n', '\\n \\n \\n \\n ,', '\\n \\n , \\n \\n', '\\n \\n \\n \\n \\n', '\\n \\n \\n \\n \\n', '\\n \\n , \\n \\n', '\\n \\n \\n \\n \\n', '\\n \\n \\n \\n \\n', '\\n \\n \\n \\n \\n', ', \\n \\n \\n \\n', '\\n \\n \\n \\n \\n', '\\n \\n \\n \\n \\n', '\\n , \\n \\n \\n', '\\n \\n \\n \\n \\n', '\\n \\n \\n \\n \\n', '\\n , \\n , \\n']\n"
     ]
    },
    {
     "name": "stderr",
     "output_type": "stream",
     "text": [
      "\r",
      " 16%|███████████████████▍                                                                                                    | 487/2999 [2:40:47<13:36:31, 19.50s/it]"
     ]
    },
    {
     "name": "stdout",
     "output_type": "stream",
     "text": [
      "['Regarding , , \\n \\n', '\\n \\n \\n \\n \\n', '\\n \\n \\n \\n \\n', '\\n \\n , \\n \\n', '\\n \\n \\n \\n \\n', '\\n \\n , \\n \\n', '\\n \\n , \\n \\n', '\\n \\n \\n \\n \\n', ' Uri , , , \\n', '\\n \\n \\n \\n \\n', '\\n \\n \\n \\n \\n', ' vectors , \\n \\n \\n', '\\n \\n \\n \\n \\n', '\\n \\n \\n \\n ,', '\\n \\n \\n \\n \\n', 'unc , , \\n \\n']\n",
      "['\\n \\n \\n \\n \\n', '\\n \\n \\n \\n \\n', '\\n \\n \\n , \\n', '\\n , \\n \\n \\n', '\\n \\n \\n \\n \\n', '\\n \\n , \\n \\n', '\\n \\n , \\n \\n', '\\n \\n , \\n \\n', '\\n \\n , \\n \\n', '\\n \\n \\n , \\n', '\\n \\n \\n \\n \\n', '\\n \\n , \\n \\n', '\\n , \\n \\n ,', '\\n \\n \\n \\n ,', '\\n \\n \\n , \\n', '\\n \\n \\n \\n \\n']\n"
     ]
    },
    {
     "name": "stderr",
     "output_type": "stream",
     "text": [
      "\r",
      " 16%|███████████████████▌                                                                                                    | 488/2999 [2:41:06<13:36:11, 19.50s/it]"
     ]
    },
    {
     "name": "stdout",
     "output_type": "stream",
     "text": [
      "['\\n \\n \\n \\n \\n', '\\n \\n \\n \\n \\n', '\\n \\n , \\n \\n', '\\n \\n \\n \\n \\n', '\\n \\n \\n \\n \\n', '\\n \\n , \\n \\n', ' burn , , , \\n', '\\n \\n \\n , \\n', '\\n , \\n \\n ,', '\\n , \\n \\n \\n', ', \\n \\n \\n \\n', '\\n \\n , \\n \\n', 'Bruce , , , \\n', '\\n , \\n \\n \\n', ' previous , , \\n \\n', ' Sinn , , , \\n']\n",
      "['\\n \\n \\n \\n \\n', '\\n \\n \\n \\n \\n', '\\n , \\n , \\n', '\\n \\n , \\n \\n', '\\n \\n \\n \\n \\n', '\\n \\n \\n \\n \\n', '\\n \\n \\n \\n \\n', '\\n \\n \\n \\n ,', '\\n \\n \\n \\n \\n', '\\n \\n \\n \\n \\n', '\\n \\n \\n \\n \\n', '\\n \\n \\n \\n \\n', '\\n \\n \\n \\n \\n', '\\n \\n \\n \\n \\n', '\\n \\n \\n \\n \\n', '\\n \\n \\n \\n \\n']\n"
     ]
    },
    {
     "name": "stderr",
     "output_type": "stream",
     "text": [
      "\r",
      " 16%|███████████████████▌                                                                                                    | 489/2999 [2:41:26<13:34:56, 19.48s/it]"
     ]
    },
    {
     "name": "stdout",
     "output_type": "stream",
     "text": [
      "['\\n \\n \\n \\n \\n', '\\n \\n \\n \\n \\n', '\\n \\n \\n \\n \\n', '\\n \\n \\n \\n \\n', '\\n \\n \\n \\n \\n', '\\n \\n \\n \\n ,', '\\n \\n \\n , \\n', '\\n \\n \\n \\n \\n', '\\n \\n \\n \\n \\n', '\\n \\n , \\n \\n', ' tribute , , \\n \\n', '\\n \\n \\n , \\n', '\\n \\n , \\n \\n', ' Seg , , , \\n', '\\n \\n \\n \\n ,', '\\n , \\n \\n \\n']\n",
      "['\\n \\n , \\n \\n', '\\n \\n \\n \\n \\n', '\\n \\n \\n , \\n', '\\n \\n \\n \\n \\n', ', \\n \\n \\n \\n', '\\n \\n \\n \\n ,', '\\n \\n \\n \\n \\n', '\\n \\n \\n \\n ,', '\\n \\n \\n \\n \\n', '\\n \\n \\n \\n \\n', '\\n \\n , \\n \\n', '\\n , \\n , ,', '\\n \\n \\n \\n \\n', '\\n \\n \\n \\n \\n', '\\n \\n \\n , \\n', '\\n , \\n \\n \\n']\n"
     ]
    },
    {
     "name": "stderr",
     "output_type": "stream",
     "text": [
      "\r",
      " 16%|███████████████████▌                                                                                                    | 490/2999 [2:41:45<13:34:03, 19.47s/it]"
     ]
    },
    {
     "name": "stdout",
     "output_type": "stream",
     "text": [
      "['\\n \\n \\n \\n \\n', ' commenced , , \\n \\n', '\\n \\n \\n \\n \\n', '\\n \\n \\n \\n \\n', ' borrower , , , \\n', '\\n , \\n \\n \\n', '\\n \\n \\n \\n \\n', '\\n \\n \\n \\n \\n', '\\n \\n \\n \\n \\n', '\\n \\n \\n \\n \\n', '\\n \\n \\n \\n \\n', ' bulldo , , , \\n', '\\n \\n \\n \\n \\n', '\\n \\n \\n \\n \\n', '\\n \\n \\n \\n \\n', '\\n \\n \\n \\n \\n']\n",
      "[', \\n \\n \\n \\n', '\\n \\n \\n \\n \\n', '\\n \\n \\n \\n \\n', '\\n \\n \\n , \\n', '\\n \\n \\n \\n \\n', '\\n \\n , \\n ,', '\\n \\n \\n , \\n', ', \\n \\n \\n \\n', '\\n \\n \\n \\n \\n', '\\n \\n \\n \\n \\n', '\\n \\n \\n \\n \\n', '\\n , \\n \\n \\n', '\\n \\n \\n \\n \\n', '\\n \\n , \\n \\n', '\\n \\n \\n \\n \\n', ', \\n \\n \\n \\n']\n"
     ]
    },
    {
     "name": "stderr",
     "output_type": "stream",
     "text": [
      "\r",
      " 16%|███████████████████▋                                                                                                    | 491/2999 [2:42:05<13:35:54, 19.52s/it]"
     ]
    },
    {
     "name": "stdout",
     "output_type": "stream",
     "text": [
      "29.915119171142578 0.5\n",
      "['\\n \\n \\n \\n \\n', '\\n \\n \\n \\n \\n', '\\n \\n \\n , \\n', '\\n \\n \\n \\n \\n', '\\n \\n , \\n \\n', '\\n \\n , \\n \\n', '\\n \\n \\n \\n \\n', '\\n \\n , \\n \\n', '\\n \\n \\n \\n \\n', '\\n \\n \\n \\n \\n', '\\n \\n \\n \\n \\n', '\\n \\n \\n , \\n', ' assertions , , , \\n', '\\n \\n \\n \\n \\n', '\\n \\n \\n , \\n', ' Brig , , , \\n']\n",
      "['\\n \\n \\n \\n \\n', '\\n \\n \\n , \\n', '\\n \\n \\n \\n \\n', '\\n \\n , \\n \\n', '\\n \\n \\n \\n \\n', '\\n \\n , \\n \\n', '\\n \\n \\n \\n \\n', '\\n , \\n \\n \\n', '\\n \\n \\n \\n \\n', '\\n \\n \\n \\n \\n', '\\n \\n \\n \\n \\n', '\\n \\n , \\n \\n', '\\n \\n , \\n \\n', '\\n \\n \\n \\n \\n', '\\n \\n \\n \\n ,', '\\n , \\n \\n \\n']\n"
     ]
    },
    {
     "name": "stderr",
     "output_type": "stream",
     "text": [
      "\r",
      " 16%|███████████████████▋                                                                                                    | 492/2999 [2:42:24<13:35:19, 19.51s/it]"
     ]
    },
    {
     "name": "stdout",
     "output_type": "stream",
     "text": [
      "['ock , , \\n \\n', '\\n \\n \\n , \\n', '\\n \\n \\n \\n \\n', '\\n \\n \\n \\n \\n', '\\n \\n \\n \\n \\n', '\\n \\n \\n \\n \\n', '\\n \\n , \\n \\n', '\\n \\n \\n \\n \\n', '\\n \\n , \\n \\n', '\\n \\n \\n \\n \\n', '\\n \\n \\n \\n \\n', '\\n , \\n \\n \\n', ' dr , , , \\n', '\\n \\n \\n \\n ,', '\\n \\n \\n \\n ,', '\\n \\n \\n \\n \\n']\n",
      "['\\n \\n , \\n \\n', '\\n \\n \\n \\n \\n', ', \\n \\n \\n \\n', '\\n \\n , \\n \\n', '\\n \\n \\n \\n \\n', '\\n \\n \\n \\n \\n', '\\n \\n \\n \\n \\n', ', \\n \\n \\n \\n', '\\n \\n \\n \\n \\n', '\\n \\n \\n \\n \\n', '\\n \\n \\n \\n \\n', '\\n , \\n \\n ,', '\\n \\n , \\n \\n', '\\n \\n \\n \\n \\n', '\\n \\n \\n \\n \\n', '\\n \\n \\n \\n \\n']\n"
     ]
    },
    {
     "name": "stderr",
     "output_type": "stream",
     "text": [
      "\r",
      " 16%|███████████████████▋                                                                                                    | 493/2999 [2:42:44<13:34:51, 19.51s/it]"
     ]
    },
    {
     "name": "stdout",
     "output_type": "stream",
     "text": [
      "['\\n \\n \\n \\n \\n', ' Klein , , , \\n', '\\n \\n \\n \\n \\n', '\\n \\n \\n , \\n', '\\n \\n \\n \\n \\n', '\\n \\n , \\n \\n', '\\n \\n \\n \\n \\n', '\\n \\n \\n \\n \\n', '\\n \\n \\n \\n \\n', '\\n \\n \\n \\n \\n', ', \\n tumblr , ,', '\\n \\n \\n \\n \\n', '\\n \\n \\n \\n \\n', '\\n \\n \\n \\n ,', '\\n \\n \\n , \\n', '\\n \\n , \\n \\n']\n",
      "['\\n \\n \\n \\n \\n', '\\n \\n \\n \\n \\n', ', \\n \\n \\n \\n', '\\n \\n , \\n \\n', '\\n \\n \\n \\n \\n', '\\n \\n , \\n \\n', '\\n \\n \\n \\n \\n', '\\n \\n \\n \\n \\n', '\\n \\n \\n , \\n', '\\n \\n \\n \\n \\n', '\\n \\n \\n \\n \\n', '\\n \\n \\n \\n \\n', '\\n \\n , \\n \\n', '\\n \\n \\n \\n ,', '\\n \\n \\n \\n \\n', '\\n \\n \\n \\n \\n']\n"
     ]
    },
    {
     "name": "stderr",
     "output_type": "stream",
     "text": [
      "\r",
      " 16%|███████████████████▊                                                                                                    | 494/2999 [2:43:03<13:34:45, 19.52s/it]"
     ]
    },
    {
     "name": "stdout",
     "output_type": "stream",
     "text": [
      "['\\n \\n \\n \\n \\n', '\\n \\n \\n \\n \\n', '\\n , \\n \\n \\n', ' Roger , , , \\n', '\\n \\n \\n \\n \\n', '\\n \\n , \\n \\n', ', \\n \\n \\n \\n', ' beginnings , , \\n \\n', '\\n \\n \\n \\n \\n', ' tandem , , \\n \\n', '\\n \\n \\n \\n \\n', '\\n \\n \\n \\n \\n', '\\n \\n \\n \\n \\n', '\\n \\n \\n , \\n', '\\n \\n \\n \\n \\n', '\\n \\n \\n , \\n']\n",
      "[', \\n \\n \\n \\n', '\\n \\n \\n \\n \\n', '\\n , \\n \\n ,', ', \\n \\n \\n \\n', '\\n \\n \\n \\n \\n', '\\n \\n \\n \\n \\n', '\\n \\n \\n \\n \\n', ', \\n \\n \\n \\n', '\\n \\n \\n \\n \\n', '\\n \\n \\n \\n \\n', '\\n \\n \\n \\n \\n', '\\n \\n \\n \\n \\n', '\\n \\n \\n , \\n', ', \\n \\n \\n \\n', '\\n \\n \\n \\n \\n', '\\n \\n \\n \\n \\n']\n"
     ]
    },
    {
     "name": "stderr",
     "output_type": "stream",
     "text": [
      "\r",
      " 17%|███████████████████▊                                                                                                    | 495/2999 [2:43:23<13:34:35, 19.52s/it]"
     ]
    },
    {
     "name": "stdout",
     "output_type": "stream",
     "text": [
      "['\\n \\n \\n \\n \\n', ' asks , , \\n \\n', '\\n \\n \\n \\n \\n', '\\n , \\n \\n \\n', '\\n \\n \\n \\n \\n', '\\n \\n \\n \\n \\n', '\\n \\n \\n \\n \\n', '\\n \\n \\n \\n \\n', '\\n \\n \\n \\n \\n', '\\n \\n \\n \\n \\n', '\\n \\n \\n \\n \\n', '\\n \\n \\n \\n \\n', '\\n \\n \\n \\n \\n', '\\n \\n \\n \\n \\n', '\\n \\n \\n \\n \\n', '\\n \\n \\n \\n \\n']\n",
      "['\\n , \\n \\n \\n', '\\n \\n \\n \\n \\n', '\\n \\n \\n \\n \\n', '\\n \\n \\n \\n \\n', '\\n \\n \\n \\n \\n', '\\n , \\n , \\n', ', \\n \\n \\n \\n', '\\n \\n \\n \\n \\n', '\\n \\n , \\n \\n', '\\n \\n \\n \\n ,', '\\n \\n \\n \\n ,', '\\n \\n \\n \\n \\n', '\\n \\n \\n \\n \\n', '\\n \\n \\n , \\n', '\\n \\n \\n \\n \\n', '\\n \\n \\n \\n \\n']\n"
     ]
    },
    {
     "name": "stderr",
     "output_type": "stream",
     "text": [
      "\r",
      " 17%|███████████████████▊                                                                                                    | 496/2999 [2:43:42<13:35:14, 19.54s/it]"
     ]
    },
    {
     "name": "stdout",
     "output_type": "stream",
     "text": [
      "['\\n \\n \\n \\n \\n', ' McKin , , , \\n', '\\n \\n \\n \\n \\n', '\\n , \\n \\n ,', '\\n \\n \\n \\n \\n', '\\n \\n \\n \\n \\n', '\\n \\n \\n , \\n', '\\n \\n \\n \\n \\n', '\\n \\n \\n \\n \\n', '\\n \\n \\n , \\n', ' Judge , , , \\n', '\\n \\n , \\n \\n', '\\n \\n , \\n \\n', '\\n , \\n \\n \\n', '\\n \\n \\n , \\n', '\\n \\n \\n \\n \\n']\n"
     ]
    },
    {
     "name": "stderr",
     "output_type": "stream",
     "text": [
      "\r",
      " 17%|███████████████████▉                                                                                                    | 497/2999 [2:44:02<13:34:17, 19.53s/it]"
     ]
    },
    {
     "name": "stdout",
     "output_type": "stream",
     "text": [
      "['\\n \\n \\n \\n ,', '\\n \\n \\n \\n \\n', ', \\n ,. \\n ,', '\\n , \\n \\n \\n', '\\n \\n \\n , \\n', '\\n \\n \\n , \\n', '\\n \\n \\n \\n \\n', '\\n \\n \\n , \\n', '\\n \\n \\n \\n \\n', '\\n \\n \\n \\n \\n', '\\n \\n \\n , \\n', ', \\n \\n \\n \\n', '\\n \\n , \\n \\n', '\\n \\n \\n \\n \\n', ', \\n ,. \\n \\n', '\\n \\n \\n \\n \\n']\n",
      "[' tweeting , , \\n \\n', '\\n \\n \\n \\n \\n', '\\n \\n \\n \\n \\n', ' casc , , , \\n', '\\n \\n , \\n ,', '\\n \\n \\n \\n \\n', '\\n \\n \\n \\n \\n', '\\n \\n \\n \\n \\n', '\\n \\n \\n \\n \\n', '\\n \\n \\n \\n \\n', ' Royals , , , \\n', '\\n \\n \\n \\n \\n', '\\n , \\n \\n \\n', '\\n \\n \\n \\n \\n', ' wearing , , \\n \\n', '\\n \\n \\n \\n \\n']\n",
      "['\\n \\n \\n \\n \\n', '\\n \\n \\n \\n \\n', '\\n \\n \\n \\n \\n', '\\n \\n \\n \\n \\n', '\\n \\n \\n , \\n', '\\n , \\n \\n ,', '\\n \\n \\n \\n \\n', '\\n , \\n \\n \\n', '\\n \\n \\n \\n \\n', '\\n \\n \\n \\n \\n', '\\n \\n \\n \\n \\n', '\\n \\n \\n \\n \\n', '\\n \\n , \\n \\n', '\\n \\n \\n \\n \\n', '\\n \\n \\n , \\n', '\\n \\n \\n \\n \\n']\n"
     ]
    },
    {
     "name": "stderr",
     "output_type": "stream",
     "text": [
      "\r",
      " 17%|███████████████████▉                                                                                                    | 498/2999 [2:44:21<13:34:36, 19.54s/it]"
     ]
    },
    {
     "name": "stdout",
     "output_type": "stream",
     "text": [
      "['\\n \\n \\n \\n \\n', '\\n \\n \\n \\n \\n', '\\n \\n \\n \\n \\n', ' sick , , , ,', '\\n \\n \\n \\n \\n', '\\n \\n , \\n \\n', ' Cot , , , \\n', ', \\n \\n \\n \\n', '\\n \\n \\n \\n \\n', '\\n \\n \\n \\n \\n', '\\n \\n \\n , \\n', '\\n \\n \\n \\n \\n', 'enes , , \\n \\n', '\\n \\n \\n \\n \\n', '\\n \\n \\n \\n \\n', '\\n \\n \\n \\n \\n']\n",
      "['\\n \\n \\n \\n \\n', '\\n \\n \\n \\n \\n', '\\n \\n \\n \\n \\n', '\\n , \\n \\n \\n', '\\n \\n \\n \\n ,', '\\n , \\n \\n \\n', '\\n \\n \\n \\n \\n', '\\n \\n \\n \\n ,', '\\n \\n \\n \\n \\n', '\\n \\n \\n \\n \\n', '\\n \\n \\n \\n \\n', '\\n , \\n \\n \\n', '\\n \\n , \\n \\n', '\\n \\n , \\n \\n', '\\n \\n \\n \\n \\n', '\\n \\n \\n \\n \\n']\n"
     ]
    },
    {
     "name": "stderr",
     "output_type": "stream",
     "text": [
      "\r",
      " 17%|███████████████████▉                                                                                                    | 499/2999 [2:44:41<13:34:31, 19.55s/it]"
     ]
    },
    {
     "name": "stdout",
     "output_type": "stream",
     "text": [
      "['\\n \\n \\n \\n \\n', '\\n \\n \\n \\n \\n', ', \\n \\n \\n \\n', '\\n \\n \\n \\n \\n', '\\n \\n \\n \\n \\n', '\\n \\n , \\n \\n', '\\n \\n \\n \\n \\n', '\\n , \\n \\n \\n', '\\n \\n \\n \\n \\n', '\\n \\n \\n \\n \\n', '\\n \\n \\n \\n \\n', '\\n \\n \\n \\n \\n', ' panicked , , , \\n', '\\n \\n \\n \\n \\n', '\\n , \\n \\n \\n', '\\n \\n \\n \\n \\n']\n",
      "['\\n \\n \\n \\n \\n', '\\n \\n \\n , \\n', '\\n \\n \\n , ,', '\\n \\n \\n \\n \\n', '\\n \\n \\n , \\n', '\\n \\n \\n \\n ,', '\\n \\n \\n \\n \\n', '\\n \\n \\n \\n \\n', '\\n \\n \\n \\n \\n', '\\n \\n \\n \\n \\n', '\\n \\n \\n \\n \\n', '\\n \\n \\n \\n \\n', '\\n \\n \\n , \\n', ', \\n \\n \\n \\n', '\\n \\n \\n \\n \\n', '\\n \\n \\n \\n \\n']\n"
     ]
    },
    {
     "name": "stderr",
     "output_type": "stream",
     "text": [
      "\r",
      " 17%|████████████████████                                                                                                    | 500/2999 [2:45:00<13:33:55, 19.54s/it]"
     ]
    },
    {
     "name": "stdout",
     "output_type": "stream",
     "text": [
      "['\\n \\n \\n \\n \\n', '\\n \\n \\n \\n \\n', '\\n \\n \\n \\n \\n', '\\n \\n \\n \\n \\n', '\\n \\n \\n \\n \\n', '\\n \\n \\n \\n \\n', '\\n \\n \\n , \\n', '\\n \\n \\n , \\n', '\\n \\n \\n \\n \\n', ' breathtaking , , , \\n', '\\n , \\n \\n \\n', '\\n \\n , \\n \\n', ' regards , , \\n \\n', '\\n \\n \\n \\n \\n', '\\n \\n \\n \\n ,', '\\n \\n \\n \\n \\n']\n",
      "['\\n \\n \\n \\n \\n', '\\n \\n \\n , \\n', '\\n \\n \\n \\n \\n', '\\n , \\n \\n ,', '\\n \\n \\n \\n \\n', '\\n \\n , \\n \\n', '\\n \\n \\n , \\n', '\\n \\n \\n , \\n', '\\n \\n \\n \\n \\n', '\\n \\n \\n , \\n', '\\n \\n \\n \\n \\n', ', , \\n \\n \\n', '\\n \\n , \\n \\n', '\\n \\n \\n \\n \\n', '\\n \\n \\n \\n \\n', '\\n \\n \\n \\n \\n']\n"
     ]
    },
    {
     "name": "stderr",
     "output_type": "stream",
     "text": [
      "\r",
      " 17%|████████████████████                                                                                                    | 501/2999 [2:45:20<13:33:25, 19.54s/it]"
     ]
    },
    {
     "name": "stdout",
     "output_type": "stream",
     "text": [
      "29.51180076599121 0.515625\n",
      "['\\n \\n \\n \\n \\n', '\\n \\n \\n \\n \\n', '\\n \\n \\n \\n \\n', '\\n \\n \\n \\n \\n', 'gross , , \\n \\n', ' thous , , \\n \\n', '\\n \\n \\n \\n \\n', '\\n \\n \\n \\n \\n', '\\n \\n \\n \\n \\n', '\\n \\n \\n \\n ,', '\\n \\n \\n \\n \\n', '\\n \\n \\n \\n \\n', '\\n \\n \\n \\n \\n', '\\n \\n \\n \\n \\n', '\\n \\n \\n \\n \\n', '\\n \\n \\n \\n \\n']\n",
      "['\\n \\n \\n \\n \\n', '\\n \\n \\n \\n \\n', '\\n \\n \\n , \\n', '\\n \\n \\n \\n \\n', '\\n \\n \\n \\n \\n', '\\n \\n , \\n \\n', '\\n \\n \\n \\n \\n', '\\n \\n \\n \\n \\n', '\\n \\n \\n \\n \\n', '\\n \\n \\n \\n \\n', '\\n \\n \\n , \\n', '\\n , \\n \\n \\n', '\\n \\n \\n \\n \\n', '\\n \\n \\n \\n \\n', '\\n \\n \\n , \\n', '\\n \\n \\n \\n \\n']\n"
     ]
    },
    {
     "name": "stderr",
     "output_type": "stream",
     "text": [
      "\r",
      " 17%|████████████████████                                                                                                    | 502/2999 [2:45:40<13:33:53, 19.56s/it]"
     ]
    },
    {
     "name": "stdout",
     "output_type": "stream",
     "text": [
      "[', \\n \\n \\n \\n', 'und , , \\n \\n', '\\n \\n \\n \\n \\n', '\\n \\n \\n , \\n', '\\n \\n \\n , \\n', '\\n \\n \\n \\n \\n', '\\n \\n \\n \\n \\n', '\\n , \\n \\n \\n', ' burial , , \\n \\n', '\\n \\n \\n \\n \\n', 'chard , , , \\n', '\\n \\n , \\n \\n', '\\n \\n \\n \\n \\n', '\\n \\n \\n \\n \\n', '\\n \\n \\n \\n ,', '\\n \\n \\n \\n \\n']\n",
      "['\\n \\n \\n \\n \\n', '\\n \\n \\n \\n \\n', '\\n \\n \\n \\n \\n', '\\n \\n \\n \\n \\n', '\\n \\n \\n \\n \\n', '\\n \\n \\n \\n ,', '\\n \\n \\n \\n ,', '\\n \\n \\n \\n \\n', '\\n \\n \\n \\n \\n', '\\n \\n \\n \\n \\n', '\\n \\n \\n , \\n', '\\n \\n , \\n \\n', '\\n \\n \\n \\n \\n', '\\n \\n \\n \\n ,', ', \\n \\n \\n \\n', '\\n \\n \\n \\n \\n']\n"
     ]
    },
    {
     "name": "stderr",
     "output_type": "stream",
     "text": [
      "\r",
      " 17%|████████████████████▏                                                                                                   | 503/2999 [2:45:59<13:33:11, 19.55s/it]"
     ]
    },
    {
     "name": "stdout",
     "output_type": "stream",
     "text": [
      "['\\n \\n \\n \\n \\n', '\\n \\n \\n \\n \\n', '\\n \\n \\n \\n \\n', '\\n \\n \\n \\n \\n', '\\n \\n \\n \\n \\n', '\\n \\n \\n \\n ,', '\\n \\n \\n \\n \\n', '\\n \\n \\n \\n \\n', '\\n \\n , \\n \\n', '\\n \\n \\n , \\n', '\\n \\n \\n \\n \\n', 'b , , \\n \\n', '\\n \\n , \\n ,', '\\n \\n \\n , \\n', ', \\n \\n \\n ,', '\\n \\n \\n \\n \\n']\n",
      "['\\n \\n \\n \\n \\n', '\\n \\n \\n \\n \\n', '\\n \\n \\n , \\n', '\\n \\n \\n \\n \\n', '\\n \\n \\n , \\n', '\\n \\n \\n \\n \\n', '\\n \\n \\n , \\n', '\\n \\n \\n \\n \\n', '\\n , \\n \\n \\n', '\\n \\n \\n \\n \\n', '\\n \\n , \\n \\n', '\\n \\n \\n \\n \\n', '\\n \\n \\n , \\n', '\\n \\n \\n \\n \\n', '\\n \\n \\n \\n ,', '\\n \\n \\n , \\n']\n"
     ]
    },
    {
     "name": "stderr",
     "output_type": "stream",
     "text": [
      "\r",
      " 17%|████████████████████▏                                                                                                   | 504/2999 [2:46:19<13:34:07, 19.58s/it]"
     ]
    },
    {
     "name": "stdout",
     "output_type": "stream",
     "text": [
      "['\\n \\n \\n \\n \\n', '\\n \\n \\n , \\n', '\\n \\n \\n \\n \\n', '\\n \\n \\n \\n \\n', ' wondered , , \\n \\n', '\\n \\n \\n \\n \\n', '\\n \\n , \\n \\n', '\\n , \\n \\n \\n', ' card , , \\n \\n', '\\n \\n \\n \\n \\n', '\\n \\n \\n \\n \\n', 'Inside , , \\n \\n', '\\n \\n \\n \\n \\n', '\\n ,. \\n \\n \\n', '\\n \\n \\n , \\n', ', \\n \\n \\n \\n']\n",
      "['\\n \\n \\n \\n \\n', '\\n \\n \\n \\n ,', ', \\n \\n \\n \\n', '\\n \\n \\n \\n \\n', '\\n \\n \\n \\n \\n', '\\n \\n \\n , \\n', '\\n \\n \\n \\n \\n', '\\n \\n \\n \\n \\n', ', \\n \\n \\n \\n', '\\n \\n \\n \\n \\n', '\\n \\n \\n , \\n', '\\n \\n , \\n \\n', '\\n \\n \\n , \\n', '\\n \\n \\n , ,', '\\n \\n \\n \\n \\n', ', \\n \\n \\n \\n']\n"
     ]
    },
    {
     "name": "stderr",
     "output_type": "stream",
     "text": [
      "\r",
      " 17%|████████████████████▏                                                                                                   | 505/2999 [2:46:38<13:32:57, 19.56s/it]"
     ]
    },
    {
     "name": "stdout",
     "output_type": "stream",
     "text": [
      "['\\n \\n \\n \\n ,', '\\n \\n \\n \\n \\n', '\\n \\n \\n \\n \\n', '\\n \\n \\n , \\n', '\\n \\n \\n \\n \\n', '\\n \\n , \\n \\n', '\\n \\n \\n , \\n', ', \\n \\n \\n \\n', ' Needless , , , \\n', '\\n \\n \\n \\n \\n', '\\n \\n \\n \\n ,', ' unfortunately , , \\n \\n', '\\n \\n \\n \\n \\n', '\\n \\n \\n , \\n', '\\n \\n \\n \\n \\n', '\\n \\n \\n \\n \\n']\n",
      "['\\n \\n \\n \\n \\n', '\\n \\n \\n \\n \\n', '\\n \\n \\n , \\n', '\\n , \\n \\n ,', '\\n \\n \\n \\n \\n', '\\n , \\n \\n ,', '\\n \\n \\n , \\n', '\\n \\n \\n \\n \\n', '\\n , \\n \\n \\n', '\\n \\n \\n \\n \\n', ', \\n \\n \\n \\n', '\\n \\n \\n , \\n', '\\n \\n \\n \\n \\n', '\\n \\n \\n \\n ,', '\\n \\n \\n \\n \\n', '\\n \\n \\n \\n \\n']\n"
     ]
    },
    {
     "name": "stderr",
     "output_type": "stream",
     "text": [
      "\r",
      " 17%|████████████████████▏                                                                                                   | 506/2999 [2:46:58<13:31:37, 19.53s/it]"
     ]
    },
    {
     "name": "stdout",
     "output_type": "stream",
     "text": [
      "['agos , , , \\n', '\\n \\n \\n \\n \\n', ', \\n \\n \\n \\n', '\\n \\n \\n \\n \\n', '\\n \\n \\n \\n \\n', '\\n \\n , \\n \\n', '\\n \\n \\n , \\n', '\\n \\n \\n , \\n', '\\n \\n \\n \\n \\n', '\\n \\n \\n \\n \\n', '\\n \\n \\n \\n \\n', '\\n \\n \\n \\n \\n', ', , \\n \\n \\n', '\\n \\n \\n , \\n', '\\n \\n \\n \\n \\n', '\\n \\n \\n \\n \\n']\n",
      "['\\n \\n \\n \\n \\n', '\\n \\n \\n \\n \\n', '\\n \\n \\n \\n \\n', '\\n \\n , \\n \\n', '\\n \\n \\n \\n \\n', '\\n \\n , \\n \\n', '\\n \\n \\n \\n \\n', '\\n \\n \\n , \\n', '\\n \\n \\n \\n \\n', '\\n \\n \\n \\n \\n', ', \\n ,. \\n ,', '\\n \\n , \\n \\n', '\\n \\n \\n \\n ,', '\\n \\n \\n , \\n', ', \\n \\n \\n \\n', '\\n \\n \\n , \\n']\n"
     ]
    },
    {
     "name": "stderr",
     "output_type": "stream",
     "text": [
      "\r",
      " 17%|████████████████████▎                                                                                                   | 507/2999 [2:47:17<13:32:18, 19.56s/it]"
     ]
    },
    {
     "name": "stdout",
     "output_type": "stream",
     "text": [
      "['\\n \\n \\n \\n \\n', '\\n \\n \\n \\n \\n', '\\n \\n \\n \\n \\n', ' mitigating , , \\n \\n', '\\n \\n \\n \\n \\n', '\\n \\n \\n , \\n', ', \\n \\n \\n \\n', '\\n \\n \\n \\n \\n', '\\n \\n \\n \\n \\n', '\\n \\n \\n \\n \\n', '\\n \\n \\n \\n \\n', '\\n \\n \\n \\n \\n', '\\n \\n \\n \\n \\n', '\\n \\n \\n \\n \\n', ', \\n \\n ,. ,', '\\n \\n \\n \\n \\n']\n",
      "['\\n \\n \\n , \\n', ', \\n ,. \\n \\n', '\\n \\n \\n \\n \\n', '\\n \\n , \\n \\n', '\\n \\n \\n \\n \\n', '\\n \\n \\n \\n \\n', '\\n \\n \\n \\n \\n', '\\n \\n \\n \\n \\n', '\\n \\n \\n \\n \\n', '\\n \\n \\n \\n \\n', ', \\n ,. , \\n', '\\n \\n \\n \\n \\n', '\\n \\n , \\n \\n', '\\n \\n \\n \\n \\n', '\\n \\n \\n \\n \\n', '\\n \\n \\n \\n \\n']\n"
     ]
    },
    {
     "name": "stderr",
     "output_type": "stream",
     "text": [
      "\r",
      " 17%|████████████████████▎                                                                                                   | 508/2999 [2:47:37<13:32:20, 19.57s/it]"
     ]
    },
    {
     "name": "stdout",
     "output_type": "stream",
     "text": [
      "[' Keeper , , \\n \\n', '\\n \\n \\n \\n \\n', '\\n \\n \\n \\n ,', ', \\n ,. \\n \\n', 'istically , , \\n \\n', '\\n \\n , \\n \\n', '\\n , \\n \\n \\n', '\\n \\n \\n \\n \\n', '\\n \\n , \\n \\n', 'itance , , \\n \\n', ' Cast , , , \\n', '\\n \\n , \\n \\n', '\\n \\n , \\n \\n', '\\n \\n \\n \\n \\n', '\\n \\n \\n \\n \\n', '\\n \\n \\n \\n \\n']\n",
      "['\\n \\n \\n \\n ,', '\\n \\n \\n \\n \\n', ', \\n \\n \\n \\n', '\\n , \\n \\n \\n', '\\n \\n \\n \\n \\n', '\\n \\n \\n \\n \\n', '\\n \\n \\n , \\n', '\\n \\n \\n \\n \\n', '\\n \\n \\n \\n \\n', '\\n \\n \\n \\n \\n', '\\n \\n \\n \\n \\n', ', \\n \\n \\n \\n', '\\n \\n \\n \\n \\n', '\\n \\n \\n \\n \\n', '\\n \\n \\n \\n \\n', '\\n \\n \\n \\n \\n']\n"
     ]
    },
    {
     "name": "stderr",
     "output_type": "stream",
     "text": [
      "\r",
      " 17%|████████████████████▎                                                                                                   | 509/2999 [2:47:56<13:30:55, 19.54s/it]"
     ]
    },
    {
     "name": "stdout",
     "output_type": "stream",
     "text": [
      "['\\n \\n \\n \\n \\n', '\\n \\n \\n \\n \\n', '\\n \\n \\n \\n \\n', '\\n \\n \\n \\n \\n', '\\n \\n \\n \\n \\n', ' Too , , \\n \\n', '\\n \\n \\n \\n \\n', '\\n \\n \\n \\n \\n', ', \\n \\n \\n \\n', '\\n \\n \\n \\n \\n', '\\n \\n \\n \\n \\n', '\\n \\n \\n \\n \\n', '\\n \\n , \\n \\n', '\\n \\n \\n \\n \\n', '\\n \\n \\n \\n \\n', ' bisc , , , \\n']\n",
      "['\\n \\n \\n \\n \\n', '\\n \\n \\n , \\n', '\\n \\n \\n \\n \\n', ', \\n \\n \\n \\n', '\\n \\n \\n \\n \\n', '\\n \\n \\n \\n \\n', '\\n \\n \\n \\n \\n', '\\n \\n \\n , \\n', '\\n \\n \\n \\n \\n', '\\n \\n \\n \\n \\n', '\\n \\n \\n \\n \\n', '\\n \\n \\n \\n ,', '\\n \\n \\n \\n \\n', '\\n \\n \\n \\n \\n', ', \\n \\n \\n \\n', '\\n \\n \\n , \\n']\n"
     ]
    },
    {
     "name": "stderr",
     "output_type": "stream",
     "text": [
      "\r",
      " 17%|████████████████████▍                                                                                                   | 510/2999 [2:48:16<13:31:20, 19.56s/it]"
     ]
    },
    {
     "name": "stdout",
     "output_type": "stream",
     "text": [
      "['\\n \\n \\n , ,', '\\n \\n \\n , \\n', '\\n \\n \\n \\n \\n', '\\n \\n \\n \\n \\n', '\\n \\n \\n , \\n', '\\n \\n \\n \\n \\n', '\\n \\n , \\n \\n', ', \\n \\n \\n \\n', '\\n \\n \\n \\n ,', 'Eh , , , \\n', '\\n \\n , \\n \\n', '\\n \\n \\n \\n \\n', '\\n \\n \\n \\n \\n', ', \\n \\n ,. \\n', '\\n \\n \\n \\n \\n', '\\n \\n \\n \\n ,']\n",
      "['\\n \\n \\n \\n \\n', '\\n \\n \\n \\n \\n', '\\n \\n \\n \\n \\n', '\\n \\n \\n \\n \\n', '\\n \\n \\n \\n \\n', '\\n \\n , \\n \\n', '\\n \\n \\n \\n \\n', '\\n \\n , \\n \\n', '\\n \\n \\n \\n \\n', '\\n \\n \\n \\n ,', '\\n \\n \\n \\n \\n', '\\n \\n \\n \\n \\n', '\\n \\n \\n \\n \\n', '\\n \\n , \\n \\n', ', \\n \\n \\n \\n', '\\n \\n \\n , \\n']\n"
     ]
    },
    {
     "name": "stderr",
     "output_type": "stream",
     "text": [
      "\r",
      " 17%|████████████████████▍                                                                                                   | 511/2999 [2:48:36<13:30:10, 19.54s/it]"
     ]
    },
    {
     "name": "stdout",
     "output_type": "stream",
     "text": [
      "37.86773681640625 0.54296875\n",
      "['\\n \\n \\n \\n \\n', ', , \\n \\n \\n', 'anchester , , \\n \\n', '\\n \\n \\n \\n \\n', '\\n \\n \\n \\n \\n', '\\n \\n , \\n ,', '\\n \\n \\n \\n \\n', '\\n \\n \\n , \\n', '\\n , \\n \\n \\n', '\\n \\n \\n \\n \\n', '\\n , \\n \\n \\n', '\\n \\n , \\n \\n', '\\n , \\n \\n ,', ' Unreal , , \\n \\n', '\\n \\n \\n \\n ,', ' Abedin , , , \\n']\n",
      "['\\n \\n \\n \\n \\n', '\\n \\n , , \\n', '\\n \\n \\n , \\n', '\\n \\n \\n \\n \\n', '\\n \\n \\n \\n \\n', '\\n \\n , \\n \\n', '\\n \\n \\n \\n \\n', '\\n \\n , \\n \\n', '\\n \\n \\n \\n \\n', '\\n \\n \\n \\n \\n', '\\n \\n \\n \\n \\n', '\\n \\n \\n \\n \\n', '\\n \\n , , \\n', '\\n \\n \\n \\n \\n', '\\n \\n \\n \\n \\n', '\\n , \\n \\n ,']\n"
     ]
    },
    {
     "name": "stderr",
     "output_type": "stream",
     "text": [
      "\r",
      " 17%|████████████████████▍                                                                                                   | 512/2999 [2:48:55<13:29:25, 19.53s/it]"
     ]
    },
    {
     "name": "stdout",
     "output_type": "stream",
     "text": [
      "['\\n \\n \\n \\n \\n', '\\n \\n \\n \\n ,', '\\n \\n \\n \\n \\n', '\\n \\n , \\n \\n', '\\n \\n \\n \\n \\n', '\\n \\n , \\n \\n', '\\n \\n \\n \\n \\n', '\\n \\n \\n \\n \\n', ' pathway , , \\n \\n', '\\n \\n \\n \\n \\n', '\\n \\n \\n , \\n', '\\n \\n , \\n \\n', ' people , , , \\n', '\\n \\n , \\n \\n', ', \\n \\n \\n \\n', '\\n \\n \\n \\n \\n']\n",
      "['\\n \\n \\n , \\n', '\\n \\n \\n , \\n', '\\n , \\n \\n \\n', '\\n \\n \\n \\n \\n', '\\n \\n \\n \\n \\n', '\\n \\n , \\n \\n', '\\n \\n \\n \\n \\n', '\\n \\n \\n \\n \\n', '\\n \\n \\n , \\n', '\\n \\n \\n \\n ,', '\\n \\n , \\n \\n', '\\n \\n , \\n \\n', '\\n \\n \\n \\n \\n', '\\n \\n \\n \\n ,', '\\n \\n \\n \\n \\n', '\\n \\n \\n , \\n']\n"
     ]
    },
    {
     "name": "stderr",
     "output_type": "stream",
     "text": [
      "\r",
      " 17%|████████████████████▌                                                                                                   | 513/2999 [2:49:15<13:29:10, 19.53s/it]"
     ]
    },
    {
     "name": "stdout",
     "output_type": "stream",
     "text": [
      "['\\n \\n \\n \\n \\n', '\\n \\n \\n , \\n', ' Grey , , , \\n', '\\n \\n \\n \\n ,', '\\n \\n \\n \\n \\n', '\\n \\n , \\n \\n', '\\n \\n \\n \\n \\n', '\\n \\n \\n \\n ,', '\\n \\n \\n \\n \\n', '\\n \\n \\n \\n \\n', '\\n \\n \\n \\n ,', ' Animals , , , \\n', '\\n \\n \\n \\n \\n', ' Green , , , \\n', '\\n \\n \\n \\n ,', '\\n \\n \\n , \\n']\n",
      "['\\n \\n \\n \\n ,', '\\n , \\n \\n \\n', '\\n \\n \\n \\n \\n', '\\n \\n \\n \\n \\n', '\\n \\n \\n \\n \\n', '\\n \\n , \\n \\n', '\\n \\n \\n \\n \\n', '\\n \\n \\n \\n \\n', '\\n \\n , \\n \\n', '\\n \\n \\n \\n ,', '\\n \\n \\n \\n \\n', '\\n , \\n \\n \\n', '\\n \\n \\n \\n \\n', '\\n \\n \\n \\n \\n', '\\n \\n , \\n \\n', '\\n \\n \\n \\n \\n']\n"
     ]
    },
    {
     "name": "stderr",
     "output_type": "stream",
     "text": [
      "\r",
      " 17%|████████████████████▌                                                                                                   | 514/2999 [2:49:34<13:28:51, 19.53s/it]"
     ]
    },
    {
     "name": "stdout",
     "output_type": "stream",
     "text": [
      "['\\n \\n \\n \\n \\n', '\\n \\n \\n , \\n', '\\n \\n \\n \\n \\n', '\\n , \\n \\n \\n', '\\n \\n \\n \\n \\n', ' unbel , , , \\n', '\\n \\n \\n \\n \\n', '\\n \\n \\n \\n \\n', 'driven , , \\n \\n', '\\n \\n \\n \\n \\n', '\\n \\n , \\n \\n', '\\n \\n , \\n \\n', '\\n \\n \\n \\n \\n', ' relics , , \\n \\n', '\\n \\n \\n , \\n', '\\n \\n , \\n \\n']\n",
      "['\\n \\n \\n \\n \\n', '\\n , \\n \\n ,', '\\n \\n \\n \\n \\n', '\\n \\n \\n \\n ,', '\\n \\n \\n \\n ,', '\\n \\n , \\n \\n', '\\n \\n \\n \\n \\n', '\\n , \\n \\n ,', '\\n \\n \\n \\n \\n', '\\n \\n \\n \\n \\n', '\\n \\n \\n \\n \\n', '\\n \\n , \\n \\n', '\\n , \\n \\n \\n', '\\n \\n , \\n \\n', '\\n \\n \\n , \\n', '\\n , \\n \\n \\n']\n"
     ]
    },
    {
     "name": "stderr",
     "output_type": "stream",
     "text": [
      "\r",
      " 17%|████████████████████▌                                                                                                   | 515/2999 [2:49:54<13:29:18, 19.55s/it]"
     ]
    },
    {
     "name": "stdout",
     "output_type": "stream",
     "text": [
      "[' Rou , , , \\n', '\\n \\n \\n \\n \\n', '\\n \\n \\n \\n \\n', '\\n \\n , \\n \\n', '\\n \\n \\n \\n \\n', '\\n \\n \\n , \\n', '\\n \\n , \\n ,', ' broadcast , , \\n \\n', ' nerds , , , \\n', ' Lep , , , \\n', '\\n \\n \\n \\n \\n', '\\n \\n \\n , \\n', '\\n \\n \\n \\n \\n', '\\n \\n \\n \\n \\n', '\\n \\n \\n \\n \\n', '\\n \\n \\n , \\n']\n",
      "['\\n \\n \\n \\n \\n', '\\n \\n , \\n \\n', '\\n \\n \\n \\n \\n', '\\n \\n , \\n \\n', '\\n \\n \\n \\n \\n', '\\n \\n , \\n \\n', '\\n \\n \\n \\n \\n', '\\n \\n , \\n \\n', '\\n \\n \\n \\n \\n', '\\n \\n \\n , \\n', '\\n \\n \\n \\n \\n', '\\n \\n \\n \\n \\n', '\\n \\n , \\n \\n', '\\n \\n \\n \\n \\n', ', \\n \\n \\n \\n', '\\n \\n \\n \\n \\n']\n"
     ]
    },
    {
     "name": "stderr",
     "output_type": "stream",
     "text": [
      "\r",
      " 17%|████████████████████▋                                                                                                   | 516/2999 [2:50:13<13:29:46, 19.57s/it]"
     ]
    },
    {
     "name": "stdout",
     "output_type": "stream",
     "text": [
      "['\\n \\n \\n \\n \\n', '\\n \\n \\n \\n \\n', ', \\n \\n ,. \\n', '\\n \\n \\n \\n \\n', '\\n \\n \\n \\n \\n', '\\n \\n , \\n \\n', '\\n \\n \\n \\n \\n', 'cludes , , \\n \\n', '\\n , \\n \\n ,', '\\n \\n \\n \\n renheit', '\\n \\n \\n \\n \\n', '\\n \\n \\n \\n \\n', '\\n \\n , \\n \\n', '\\n \\n \\n , \\n', 'bane , , \\n \\n', '\\n \\n \\n \\n \\n']\n",
      "['\\n \\n \\n \\n \\n', '\\n \\n \\n , \\n', '\\n \\n , \\n \\n', '\\n \\n \\n \\n \\n', '\\n \\n \\n , \\n', '\\n , \\n \\n \\n', '\\n \\n , \\n \\n', '\\n , \\n \\n \\n', '\\n \\n \\n \\n \\n', '\\n \\n \\n \\n \\n', ', \\n ,. \\n \\n', '\\n \\n \\n \\n \\n', '\\n \\n \\n \\n \\n', '\\n \\n \\n \\n \\n', '\\n \\n \\n \\n \\n', '\\n \\n \\n \\n \\n']\n"
     ]
    },
    {
     "name": "stderr",
     "output_type": "stream",
     "text": [
      "\r",
      " 17%|████████████████████▋                                                                                                   | 517/2999 [2:50:33<13:28:52, 19.55s/it]"
     ]
    },
    {
     "name": "stdout",
     "output_type": "stream",
     "text": [
      "['\\n \\n \\n \\n \\n', '\\n \\n \\n \\n \\n', '\\n \\n \\n \\n \\n', '\\n \\n \\n \\n \\n', 'first , , , \\n', '\\n \\n \\n \\n \\n', '\\n \\n \\n , \\n', '\\n \\n \\n , \\n', '\\n \\n \\n \\n \\n', '\\n \\n \\n \\n \\n', '\\n \\n \\n \\n \\n', '\\n \\n \\n \\n \\n', '\\n \\n , \\n \\n', '\\n \\n \\n , \\n', '\\n \\n \\n \\n \\n', ' 2001 , , , \\n']\n",
      "['\\n \\n , \\n \\n', '\\n \\n \\n \\n \\n', '\\n \\n , \\n \\n', '\\n \\n \\n \\n \\n', '\\n \\n \\n \\n \\n', '\\n \\n , \\n \\n', '\\n \\n \\n \\n \\n', '\\n \\n \\n \\n \\n', '\\n \\n \\n \\n ,', '\\n \\n \\n , \\n', '\\n \\n \\n \\n \\n', '\\n \\n , \\n \\n', '\\n \\n , \\n \\n', '\\n \\n \\n \\n \\n', '\\n \\n \\n \\n \\n', ', \\n \\n \\n \\n']\n"
     ]
    },
    {
     "name": "stderr",
     "output_type": "stream",
     "text": [
      "\r",
      " 17%|████████████████████▋                                                                                                   | 518/2999 [2:50:52<13:28:20, 19.55s/it]"
     ]
    },
    {
     "name": "stdout",
     "output_type": "stream",
     "text": [
      "[', \\n \\n GoldMagikarp ,', '\\n \\n \\n , \\n', '\\n \\n \\n \\n \\n', ' Malfoy , , , \\n', '\\n \\n \\n , \\n', ' decreases , , \\n \\n', '\\n \\n \\n \\n \\n', '\\n , \\n \\n ,', '\\n \\n \\n \\n \\n', ', \\n \\n ,. \\n', ', \\n ,. \\n \\n', '\\n \\n \\n \\n \\n', '\\n \\n \\n \\n \\n', '\\n \\n \\n \\n \\n', '\\n \\n ,. \\n ,', '\\n \\n \\n \\n \\n']\n",
      "['\\n \\n \\n \\n ,', '\\n \\n \\n \\n \\n', '\\n \\n \\n \\n \\n', ', \\n \\n \\n \\n', '\\n \\n \\n \\n ,', '\\n \\n \\n \\n \\n', '\\n \\n \\n \\n ,', '\\n \\n \\n \\n ,', '\\n \\n \\n , \\n', '\\n \\n , \\n \\n', '\\n \\n , \\n \\n', '\\n \\n , \\n \\n', '\\n \\n , \\n \\n', '\\n \\n , \\n \\n', ', \\n \\n \\n \\n', ', \\n \\n \\n \\n']\n"
     ]
    },
    {
     "name": "stderr",
     "output_type": "stream",
     "text": [
      "\r",
      " 17%|████████████████████▊                                                                                                   | 519/2999 [2:51:12<13:27:41, 19.54s/it]"
     ]
    },
    {
     "name": "stdout",
     "output_type": "stream",
     "text": [
      "['\\n \\n \\n \\n \\n', ' Means , , \\n \\n', '\\n \\n \\n \\n \\n', '\\n \\n \\n \\n ,', '\\n \\n \\n \\n \\n', '\\n \\n , \\n \\n', '\\n \\n \\n \\n \\n', '\\n \\n \\n , \\n', '\\n \\n , \\n \\n', '\\n \\n , \\n \\n', '\\n \\n \\n \\n \\n', '\\n \\n , \\n \\n', '\\n \\n , \\n \\n', '\\n \\n \\n \\n \\n', '\\n \\n \\n \\n \\n', ', \\n \\n ,. \\n']\n",
      "['\\n \\n \\n \\n \\n', '\\n \\n \\n \\n \\n', '\\n \\n \\n \\n \\n', '\\n \\n \\n \\n \\n', '\\n \\n \\n \\n \\n', '\\n \\n \\n \\n \\n', '\\n \\n \\n , \\n', '\\n \\n \\n \\n \\n', '\\n \\n \\n \\n \\n', '\\n \\n \\n \\n \\n', '\\n \\n \\n \\n \\n', '\\n \\n \\n \\n \\n', '\\n \\n , \\n \\n', '\\n \\n \\n \\n ,', '\\n \\n \\n , \\n', ', \\n \\n \\n \\n']\n"
     ]
    },
    {
     "name": "stderr",
     "output_type": "stream",
     "text": [
      "\r",
      " 17%|████████████████████▊                                                                                                   | 520/2999 [2:51:31<13:26:37, 19.52s/it]"
     ]
    },
    {
     "name": "stdout",
     "output_type": "stream",
     "text": [
      "['\\n \\n \\n \\n \\n', '\\n \\n \\n , \\n', '\\n \\n \\n \\n \\n', '\\n , \\n , \\n', '\\n \\n , \\n ,', ' Teach , , , ,', '\\n \\n \\n \\n \\n', '\\n , \\n \\n \\n', '\\n \\n \\n \\n \\n', '\\n , \\n \\n ,', 'orship , , , \\n', '\\n \\n \\n \\n \\n', '\\n \\n \\n \\n \\n', '\\n \\n \\n \\n ,', '\\n \\n \\n , \\n', '\\n , \\n \\n \\n']\n",
      "[', \\n \\n \\n \\n', '\\n \\n \\n \\n ,', '\\n \\n \\n \\n \\n', '\\n \\n \\n , \\n', '\\n \\n , \\n \\n', '\\n \\n \\n \\n \\n', '\\n \\n \\n \\n ,', '\\n , \\n \\n \\n', '\\n \\n \\n \\n \\n', '\\n \\n \\n \\n \\n', '\\n \\n \\n \\n \\n', '\\n \\n \\n \\n \\n', ', , \\n \\n \\n', '\\n , \\n \\n ,', '\\n , \\n \\n \\n', '\\n \\n , \\n \\n']\n"
     ]
    },
    {
     "name": "stderr",
     "output_type": "stream",
     "text": [
      "\r",
      " 17%|████████████████████▊                                                                                                   | 521/2999 [2:51:51<13:26:07, 19.52s/it]"
     ]
    },
    {
     "name": "stdout",
     "output_type": "stream",
     "text": [
      "34.95429992675781 0.5390625\n",
      "['\\n \\n \\n \\n \\n', ' Burns , , , \\n', ', \\n \\n \\n \\n', '\\n \\n \\n \\n \\n', '\\n \\n \\n , \\n', '\\n \\n , \\n \\n', '\\n \\n , \\n \\n', '\\n \\n \\n \\n \\n', '\\n \\n \\n \\n \\n', ' dismissed , , \\n \\n', '\\n \\n \\n \\n \\n', '\\n \\n , \\n \\n', '\\n \\n , \\n \\n', '\\n \\n \\n \\n \\n', '\\n \\n \\n \\n \\n', '\\n , \\n \\n \\n']\n",
      "['\\n \\n \\n \\n \\n', '\\n , \\n \\n \\n', '\\n \\n \\n \\n \\n', '\\n \\n \\n \\n \\n', '\\n \\n \\n \\n \\n', '\\n \\n , \\n \\n', '\\n \\n \\n \\n ,', '\\n \\n \\n \\n \\n', '\\n \\n \\n \\n \\n', '\\n \\n , \\n \\n', '\\n \\n \\n \\n \\n', '\\n \\n \\n \\n \\n', '\\n \\n \\n \\n \\n', '\\n \\n \\n , \\n', '\\n \\n , \\n \\n', '\\n \\n \\n \\n \\n']\n"
     ]
    },
    {
     "name": "stderr",
     "output_type": "stream",
     "text": [
      "\r",
      " 17%|████████████████████▉                                                                                                   | 522/2999 [2:52:10<13:26:00, 19.52s/it]"
     ]
    },
    {
     "name": "stdout",
     "output_type": "stream",
     "text": [
      "['\\n \\n \\n \\n \\n', ' Cheryl , , , \\n', '\\n \\n \\n \\n \\n', '\\n \\n \\n \\n \\n', '\\n \\n \\n \\n \\n', 'olit , , \\n \\n', '\\n \\n \\n \\n \\n', '\\n \\n \\n \\n \\n', '\\n \\n \\n \\n \\n', '\\n \\n \\n \\n \\n', ' canoe , , , \\n', '\\n \\n \\n \\n \\n', '\\n \\n \\n \\n \\n', '\\n \\n \\n \\n \\n', '\\n \\n \\n , \\n', '\\n , \\n \\n \\n']\n",
      "['\\n , \\n \\n \\n', '\\n \\n \\n \\n \\n', ', \\n \\n \\n ,', '\\n \\n \\n \\n ,', '\\n \\n \\n \\n \\n', '\\n \\n \\n ,. \\n', '\\n \\n \\n \\n \\n', ', \\n \\n \\n \\n', '\\n \\n \\n \\n \\n', '\\n \\n \\n \\n \\n', '\\n \\n \\n \\n \\n', '\\n \\n , \\n \\n', '\\n , \\n \\n ,', '\\n \\n \\n \\n \\n', '\\n \\n \\n \\n \\n', '\\n \\n \\n \\n \\n']\n"
     ]
    },
    {
     "name": "stderr",
     "output_type": "stream",
     "text": [
      "\r",
      " 17%|████████████████████▉                                                                                                   | 523/2999 [2:52:30<13:26:03, 19.53s/it]"
     ]
    },
    {
     "name": "stdout",
     "output_type": "stream",
     "text": [
      "['\\n \\n \\n \\n \\n', '\\n \\n \\n \\n ,', '\\n \\n \\n \\n \\n', '\\n \\n \\n \\n ,', ', \\n tumblr , ,', ' Camer , , , \\n', '\\n \\n \\n \\n \\n', '\\n \\n \\n \\n \\n', '\\n \\n \\n \\n \\n', '\\n \\n \\n \\n \\n', '\\n \\n \\n \\n ,', '\\n \\n \\n \\n \\n', '\\n \\n , \\n \\n', ' Casey , , , \\n', '\\n \\n \\n \\n \\n', ' poets , , , \\n']\n",
      "['\\n \\n \\n \\n \\n', '\\n \\n \\n \\n \\n', '\\n \\n \\n \\n \\n', '\\n , \\n \\n ,', '\\n \\n \\n \\n \\n', '\\n \\n \\n , \\n', '\\n \\n \\n \\n \\n', ', \\n \\n ,. \\n', '\\n \\n \\n , \\n', '\\n \\n \\n , \\n', ', \\n ,. \\n ,', '\\n \\n , \\n ,', '\\n \\n , \\n \\n', '\\n \\n \\n \\n \\n', '\\n \\n \\n , ,', '\\n , \\n \\n \\n']\n"
     ]
    },
    {
     "name": "stderr",
     "output_type": "stream",
     "text": [
      "\r",
      " 17%|████████████████████▉                                                                                                   | 524/2999 [2:52:50<13:25:32, 19.53s/it]"
     ]
    },
    {
     "name": "stdout",
     "output_type": "stream",
     "text": [
      "['\\n \\n \\n \\n \\n', '\\n \\n \\n \\n \\n', ', \\n \\n \\n \\n', 'Small , , \\n \\n', '\\n \\n \\n \\n \\n', ' indoor , , \\n \\n', '\\n \\n \\n \\n \\n', '\\n \\n \\n \\n ,.', '\\n \\n \\n \\n \\n', '\\n \\n \\n \\n \\n', '\\n \\n \\n \\n \\n', '\\n \\n \\n \\n \\n', '\\n \\n \\n \\n \\n', '\\n \\n \\n \\n \\n', '\\n \\n \\n \\n \\n', '\\n \\n \\n \\n ,']\n",
      "['\\n \\n , \\n \\n', '\\n \\n \\n \\n \\n', '\\n \\n \\n \\n \\n', '\\n \\n \\n \\n \\n', '\\n \\n \\n \\n \\n', '\\n , \\n \\n \\n', '\\n \\n , \\n \\n', '\\n , \\n \\n \\n', '\\n \\n \\n \\n \\n', '\\n \\n \\n \\n \\n', '\\n \\n \\n \\n ,', '\\n \\n , \\n \\n', '\\n \\n \\n \\n \\n', '\\n \\n \\n , \\n', '\\n \\n \\n \\n \\n', '\\n , \\n \\n ,']\n"
     ]
    },
    {
     "name": "stderr",
     "output_type": "stream",
     "text": [
      "\r",
      " 18%|█████████████████████                                                                                                   | 525/2999 [2:53:09<13:26:03, 19.55s/it]"
     ]
    },
    {
     "name": "stdout",
     "output_type": "stream",
     "text": [
      "['\\n \\n \\n \\n \\n', '\\n \\n \\n \\n \\n', '\\n \\n \\n \\n \\n', '\\n \\n , \\n \\n', ', \\n tumblr , ,', '\\n \\n , \\n \\n', '\\n \\n , \\n \\n', '\\n \\n \\n , \\n', '\\n \\n \\n \\n \\n', ' deepening , , \\n \\n', 'worth , , \\n \\n', '\\n \\n \\n \\n \\n', '\\n \\n , \\n \\n', '\\n \\n \\n \\n \\n', '\\n \\n \\n \\n \\n', '\\n \\n \\n \\n \\n']\n",
      "[', \\n ,. \\n ,', '\\n \\n \\n \\n \\n', '\\n \\n \\n \\n \\n', '\\n \\n , \\n \\n', '\\n \\n \\n \\n \\n', '\\n , \\n \\n \\n', '\\n \\n \\n \\n \\n', '\\n \\n \\n \\n \\n', '\\n \\n \\n \\n \\n', '\\n \\n \\n \\n \\n', '\\n \\n \\n \\n \\n', '\\n \\n \\n \\n \\n', '\\n \\n , \\n \\n', '\\n \\n \\n \\n \\n', '\\n \\n \\n \\n \\n', '\\n \\n \\n \\n \\n']\n"
     ]
    },
    {
     "name": "stderr",
     "output_type": "stream",
     "text": [
      "\r",
      " 18%|█████████████████████                                                                                                   | 526/2999 [2:53:29<13:25:26, 19.54s/it]"
     ]
    },
    {
     "name": "stdout",
     "output_type": "stream",
     "text": [
      "[', \\n \\n \\n \\n', '\\n \\n \\n \\n \\n', '\\n \\n \\n , \\n', '\\n \\n \\n \\n \\n', '\\n \\n \\n \\n \\n', '\\n \\n , \\n \\n', ', \\n \\n \\n \\n', '\\n \\n \\n \\n \\n', '\\n \\n \\n \\n \\n', '\\n \\n \\n \\n \\n', '\\n \\n , \\n \\n', '\\n \\n , \\n \\n', '\\n \\n \\n , \\n', '\\n \\n \\n \\n \\n', '\\n , \\n \\n \\n', '\\n \\n \\n \\n \\n']\n",
      "['\\n \\n \\n , \\n', '\\n \\n \\n , \\n', '\\n \\n \\n , \\n', '\\n \\n \\n \\n \\n', '\\n \\n \\n \\n \\n', '\\n , \\n \\n ,', '\\n \\n \\n \\n \\n', '\\n \\n \\n \\n \\n', ', \\n \\n \\n \\n', '\\n \\n \\n \\n \\n', ', \\n \\n \\n \\n', '\\n \\n \\n , \\n', '\\n \\n \\n \\n \\n', '\\n \\n , \\n \\n', '\\n \\n \\n , \\n', '\\n , \\n \\n \\n']\n"
     ]
    },
    {
     "name": "stderr",
     "output_type": "stream",
     "text": [
      "\r",
      " 18%|█████████████████████                                                                                                   | 527/2999 [2:53:48<13:24:29, 19.53s/it]"
     ]
    },
    {
     "name": "stdout",
     "output_type": "stream",
     "text": [
      "['\\n \\n \\n \\n \\n', '\\n \\n \\n \\n \\n', '\\n \\n \\n \\n \\n', '\\n \\n \\n \\n \\n', '\\n \\n \\n , \\n', '\\n \\n , \\n ,', '\\n \\n , \\n \\n', '\\n \\n \\n \\n \\n', '\\n , \\n \\n ,', '\\n \\n \\n , \\n', '\\n \\n \\n , \\n', '\\n \\n \\n \\n \\n', '\\n \\n , \\n \\n', '\\n \\n \\n \\n \\n', '\\n \\n \\n \\n \\n', '\\n \\n \\n \\n \\n']\n",
      "['\\n , \\n \\n \\n', '\\n \\n \\n , \\n', '\\n \\n \\n \\n \\n', '\\n \\n \\n \\n \\n', '\\n \\n \\n \\n \\n', ', \\n \\n \\n \\n', '\\n \\n \\n , \\n', '\\n , \\n \\n \\n', '\\n \\n \\n , \\n', ', \\n \\n \\n \\n', '\\n \\n \\n \\n \\n', '\\n \\n , \\n \\n', '\\n , \\n \\n \\n', '\\n \\n \\n , \\n', '\\n \\n \\n , ,', '\\n \\n \\n \\n \\n']\n"
     ]
    },
    {
     "name": "stderr",
     "output_type": "stream",
     "text": [
      "\r",
      " 18%|█████████████████████▏                                                                                                  | 528/2999 [2:54:08<13:24:37, 19.54s/it]"
     ]
    },
    {
     "name": "stdout",
     "output_type": "stream",
     "text": [
      "['\\n \\n \\n \\n \\n', '\\n \\n \\n \\n \\n', '\\n \\n \\n \\n \\n', '\\n \\n \\n \\n \\n', '\\n \\n \\n \\n \\n', '\\n , \\n \\n \\n', '\\n \\n , \\n \\n', ', \\n \\n \\n \\n', '\\n \\n \\n \\n \\n', '\\n \\n \\n \\n \\n', '\\n , \\n \\n \\n', '\\n \\n \\n \\n ,', ' lair , , , \\n', ', \\n \\n \\n \\n', '\\n , \\n \\n \\n', '\\n \\n \\n , \\n']\n",
      "['\\n \\n \\n \\n ,', '\\n \\n \\n \\n \\n', '\\n \\n \\n , \\n', '\\n , \\n \\n \\n', '\\n \\n \\n , \\n', '\\n \\n \\n \\n \\n', '\\n \\n \\n \\n \\n', '\\n \\n \\n \\n ,', '\\n \\n \\n \\n \\n', '\\n \\n \\n \\n \\n', '\\n \\n \\n \\n \\n', '\\n \\n \\n \\n \\n', '\\n \\n , \\n \\n', '\\n \\n \\n \\n \\n', '\\n \\n \\n , \\n', '\\n \\n \\n \\n ,']\n"
     ]
    },
    {
     "name": "stderr",
     "output_type": "stream",
     "text": [
      "\r",
      " 18%|█████████████████████▏                                                                                                  | 529/2999 [2:54:27<13:23:37, 19.52s/it]"
     ]
    },
    {
     "name": "stdout",
     "output_type": "stream",
     "text": [
      "['\\n \\n \\n \\n \\n', '\\n \\n \\n \\n \\n', '\\n \\n \\n \\n \\n', '\\n \\n \\n \\n \\n', '\\n \\n \\n \\n \\n', '\\n \\n , \\n \\n', '\\n \\n \\n \\n \\n', '\\n \\n \\n \\n \\n', '\\n \\n \\n \\n \\n', '\\n \\n \\n \\n \\n', '\\n \\n \\n \\n \\n', '\\n , \\n \\n \\n', '\\n \\n \\n \\n \\n', '\\n \\n \\n \\n \\n', '\\n \\n \\n \\n \\n', ', \\n \\n ,. \\n']\n",
      "['\\n \\n \\n \\n \\n', '\\n \\n \\n \\n ,', '\\n \\n \\n \\n \\n', '\\n \\n \\n , \\n', '\\n \\n \\n \\n \\n', '\\n \\n \\n \\n ,', '\\n \\n \\n \\n ,', '\\n \\n \\n \\n \\n', '\\n \\n \\n \\n \\n', ', \\n \\n \\n \\n', '\\n , \\n \\n \\n', '\\n \\n \\n , \\n', '\\n \\n \\n \\n \\n', '\\n \\n \\n \\n \\n', '\\n \\n \\n \\n \\n', '\\n \\n \\n \\n \\n']\n"
     ]
    },
    {
     "name": "stderr",
     "output_type": "stream",
     "text": [
      "\r",
      " 18%|█████████████████████▏                                                                                                  | 530/2999 [2:54:47<13:23:52, 19.54s/it]"
     ]
    },
    {
     "name": "stdout",
     "output_type": "stream",
     "text": [
      "['\\n \\n \\n \\n \\n', '\\n \\n \\n \\n \\n', '\\n \\n \\n \\n \\n', '\\n \\n \\n \\n \\n', '\\n \\n \\n \\n \\n', '\\n \\n , \\n \\n', '\\n \\n \\n \\n \\n', '\\n \\n \\n \\n \\n', '\\n \\n \\n \\n \\n', '\\n \\n \\n \\n \\n', '\\n \\n \\n \\n \\n', ' vulner , , \\n \\n', '\\n \\n , \\n \\n', ' insure , , \\n \\n', '\\n \\n \\n \\n \\n', ' donation , , \\n \\n']\n",
      "['\\n \\n \\n , \\n', '\\n \\n \\n , \\n', '\\n \\n \\n \\n \\n', '\\n , \\n , \\n', '\\n \\n \\n \\n \\n', '\\n \\n , \\n \\n', '\\n \\n \\n \\n \\n', ', \\n \\n \\n \\n', '\\n \\n \\n , \\n', '\\n \\n \\n \\n \\n', ', \\n ,. \\n \\n', '\\n \\n \\n \\n \\n', ', , \\n \\n \\n', '\\n \\n \\n \\n \\n', '\\n \\n \\n \\n \\n', '\\n \\n \\n \\n \\n']\n"
     ]
    },
    {
     "name": "stderr",
     "output_type": "stream",
     "text": [
      "\r",
      " 18%|█████████████████████▏                                                                                                  | 531/2999 [2:55:06<13:23:57, 19.55s/it]"
     ]
    },
    {
     "name": "stdout",
     "output_type": "stream",
     "text": [
      "32.59492492675781 0.5\n",
      "['\\n \\n \\n \\n \\n', '\\n \\n \\n \\n \\n', '\\n \\n \\n , \\n', '\\n \\n \\n \\n \\n', '\\n \\n \\n \\n \\n', '\\n \\n \\n \\n \\n', '\\n \\n \\n \\n \\n', '\\n \\n \\n \\n \\n', '\\n \\n \\n \\n ,', '\\n \\n \\n \\n \\n', '\\n \\n \\n \\n \\n', '\\n \\n , \\n \\n', '\\n \\n \\n \\n \\n', ', \\n \\n ,. \\n', '\\n \\n \\n \\n \\n', '\\n \\n \\n \\n \\n']\n",
      "['\\n \\n \\n \\n \\n', '\\n \\n \\n \\n \\n', '\\n \\n \\n \\n ,', '\\n \\n \\n , \\n', '\\n \\n \\n \\n \\n', '\\n \\n , \\n \\n', '\\n \\n , \\n \\n', '\\n \\n \\n \\n \\n', '\\n \\n \\n \\n \\n', '\\n \\n \\n \\n \\n', '\\n \\n \\n \\n \\n', '\\n \\n , \\n \\n', '\\n \\n , \\n \\n', '\\n \\n , \\n \\n', '\\n \\n \\n \\n \\n', '\\n \\n \\n \\n \\n']\n"
     ]
    },
    {
     "name": "stderr",
     "output_type": "stream",
     "text": [
      "\r",
      " 18%|█████████████████████▎                                                                                                  | 532/2999 [2:55:26<13:24:10, 19.56s/it]"
     ]
    },
    {
     "name": "stdout",
     "output_type": "stream",
     "text": [
      "['\\n \\n \\n \\n \\n', '\\n \\n \\n \\n \\n', ', \\n \\n \\n \\n', 'elsh , , \\n \\n', '\\n \\n , \\n \\n', '\\n \\n \\n \\n \\n', '\\n \\n , \\n \\n', ', \\n \\n \\n \\n', '\\n \\n \\n \\n \\n', '\\n \\n \\n \\n \\n', '\\n \\n \\n \\n \\n', '\\n \\n \\n \\n \\n', '\\n \\n \\n \\n \\n', '\\n \\n \\n \\n \\n', '\\n \\n \\n \\n \\n', '\\n \\n \\n \\n \\n']\n",
      "['\\n \\n \\n \\n \\n', '\\n \\n \\n \\n \\n', '\\n \\n \\n \\n \\n', '\\n \\n \\n \\n \\n', '\\n \\n \\n \\n \\n', '\\n \\n \\n \\n \\n', '\\n \\n \\n \\n \\n', '\\n \\n \\n \\n \\n', '\\n \\n \\n \\n \\n', '\\n \\n \\n \\n ,', '\\n \\n \\n \\n \\n', '\\n \\n \\n \\n \\n', '\\n \\n , \\n \\n', '\\n \\n \\n \\n \\n', '\\n \\n \\n \\n \\n', '\\n \\n \\n \\n \\n']\n"
     ]
    },
    {
     "name": "stderr",
     "output_type": "stream",
     "text": [
      "\r",
      " 18%|█████████████████████▎                                                                                                  | 533/2999 [2:55:45<13:23:08, 19.54s/it]"
     ]
    },
    {
     "name": "stdout",
     "output_type": "stream",
     "text": [
      "['\\n \\n \\n \\n \\n', '\\n \\n \\n \\n \\n', '\\n \\n \\n \\n \\n', ', \\n \\n ,. \\n', '\\n \\n \\n \\n ,', '\\n \\n , \\n \\n', '\\n \\n \\n \\n \\n', '\\n \\n \\n \\n \\n', '\\n \\n , \\n \\n', '\\n \\n \\n , \\n', '\\n \\n \\n \\n ,', '\\n , \\n \\n \\n', ' Loft , , , \\n', '\\n \\n \\n \\n \\n', '\\n \\n \\n \\n \\n', '\\n \\n \\n , \\n']\n",
      "['\\n \\n \\n \\n \\n', '\\n \\n \\n \\n \\n', '\\n \\n \\n \\n \\n', '\\n \\n \\n \\n \\n', '\\n \\n \\n , \\n', '\\n , \\n \\n \\n', '\\n \\n \\n , \\n', '\\n , \\n \\n \\n', '\\n \\n \\n \\n \\n', '\\n \\n \\n \\n \\n', '\\n \\n \\n \\n \\n', '\\n \\n \\n \\n \\n', '\\n \\n \\n \\n \\n', '\\n \\n ,. \\n \\n', '\\n \\n \\n \\n \\n', '\\n \\n \\n \\n \\n']\n"
     ]
    },
    {
     "name": "stderr",
     "output_type": "stream",
     "text": [
      "\r",
      " 18%|█████████████████████▎                                                                                                  | 534/2999 [2:56:05<13:23:55, 19.57s/it]"
     ]
    },
    {
     "name": "stdout",
     "output_type": "stream",
     "text": [
      "['\\n \\n \\n \\n ,', '\\n \\n \\n \\n \\n', '\\n \\n \\n \\n \\n', '\\n \\n \\n \\n \\n', '\\n \\n \\n \\n \\n', '\\n , \\n \\n \\n', '\\n \\n \\n \\n \\n', '\\n \\n \\n , \\n', '\\n \\n \\n , \\n', '\\n \\n \\n \\n ,', '\\n \\n \\n , \\n', '\\n \\n \\n , \\n', '\\n \\n , \\n \\n', '\\n \\n , \\n \\n', '\\n \\n \\n \\n \\n', '\\n \\n \\n \\n \\n']\n",
      "['\\n \\n \\n \\n \\n', '\\n \\n \\n \\n \\n', '\\n \\n \\n \\n \\n', '\\n \\n \\n \\n \\n', '\\n \\n \\n \\n \\n', '\\n \\n \\n \\n \\n', '\\n \\n \\n \\n \\n', '\\n \\n \\n \\n \\n', '\\n \\n \\n \\n \\n', '\\n \\n \\n \\n \\n', '\\n \\n \\n \\n ,', ', \\n \\n \\n \\n', '\\n \\n \\n \\n \\n', '\\n , \\n \\n \\n', '\\n \\n \\n \\n \\n', '\\n \\n \\n \\n \\n']\n"
     ]
    },
    {
     "name": "stderr",
     "output_type": "stream",
     "text": [
      "\r",
      " 18%|█████████████████████▍                                                                                                  | 535/2999 [2:56:25<13:22:47, 19.55s/it]"
     ]
    },
    {
     "name": "stdout",
     "output_type": "stream",
     "text": [
      "['\\n \\n \\n \\n \\n', '\\n \\n \\n \\n \\n', '\\n \\n \\n \\n \\n', '\\n \\n , \\n \\n', '\\n \\n \\n \\n \\n', '\\n \\n \\n \\n \\n', '\\n \\n \\n \\n \\n', '\\n , \\n \\n \\n', '\\n \\n \\n \\n \\n', '\\n \\n \\n \\n \\n', '\\n \\n \\n \\n \\n', '\\n \\n \\n \\n \\n', '\\n \\n \\n , \\n', '\\n , \\n \\n ,', '\\n \\n \\n , \\n', '\\n \\n \\n \\n \\n']\n",
      "['\\n \\n \\n \\n \\n', '\\n \\n \\n \\n \\n', '\\n \\n \\n \\n \\n', '\\n \\n \\n , \\n', '\\n \\n \\n \\n \\n', '\\n \\n , \\n \\n', '\\n \\n \\n \\n \\n', ', \\n \\n \\n \\n', '\\n \\n \\n \\n \\n', '\\n \\n \\n \\n \\n', '\\n \\n \\n \\n \\n', '\\n \\n \\n \\n \\n', '\\n \\n \\n , \\n', '\\n \\n \\n \\n \\n', '\\n \\n \\n , \\n', ', \\n \\n \\n \\n']\n"
     ]
    },
    {
     "name": "stderr",
     "output_type": "stream",
     "text": [
      "\r",
      " 18%|█████████████████████▍                                                                                                  | 536/2999 [2:56:44<13:22:19, 19.55s/it]"
     ]
    },
    {
     "name": "stdout",
     "output_type": "stream",
     "text": [
      "['\\n \\n \\n \\n \\n', 'alos , , \\n \\n', 'raise , , \\n \\n', '\\n , \\n \\n \\n', '\\n \\n \\n \\n \\n', '\\n \\n , \\n \\n', '\\n \\n \\n \\n \\n', ', \\n \\n \\n \\n', '\\n \\n \\n \\n \\n', '\\n \\n \\n \\n \\n', '\\n \\n \\n \\n \\n', '\\n \\n , \\n \\n', '\\n \\n , \\n \\n', '\\n \\n \\n \\n \\n', '\\n \\n \\n \\n \\n', '\\n \\n \\n \\n \\n']\n",
      "['\\n \\n \\n \\n \\n', '\\n \\n \\n \\n \\n', '\\n \\n \\n \\n ,', '\\n \\n \\n \\n \\n', '\\n \\n \\n \\n \\n', '\\n \\n \\n , \\n', '\\n \\n \\n \\n \\n', '\\n \\n \\n \\n \\n', '\\n \\n \\n \\n \\n', '\\n \\n \\n \\n \\n', '\\n \\n \\n \\n \\n', '\\n \\n \\n \\n \\n', '\\n \\n \\n \\n \\n', '\\n \\n \\n , \\n', '\\n \\n \\n \\n \\n', '\\n \\n \\n , \\n']\n"
     ]
    },
    {
     "name": "stderr",
     "output_type": "stream",
     "text": [
      "\r",
      " 18%|█████████████████████▍                                                                                                  | 537/2999 [2:57:04<13:21:57, 19.54s/it]"
     ]
    },
    {
     "name": "stdout",
     "output_type": "stream",
     "text": [
      "['\\n \\n \\n \\n \\n', '\\n \\n \\n \\n \\n', ', \\n \\n \\n ,', '\\n \\n \\n \\n \\n', '\\n \\n \\n \\n \\n', '\\n \\n \\n \\n \\n', ' gib , , \\n \\n', ', \\n \\n \\n \\n', '\\n \\n \\n ,. \\n', '\\n \\n \\n , \\n', '\\n \\n , \\n \\n', '\\n \\n \\n \\n \\n', '\\n \\n \\n \\n \\n', '\\n \\n \\n \\n \\n', '\\n \\n \\n \\n \\n', ', \\n \\n \\n ,']\n",
      "['\\n \\n \\n , \\n', '\\n \\n \\n \\n \\n', '\\n \\n \\n \\n \\n', '\\n \\n \\n \\n \\n', '\\n \\n \\n \\n \\n', '\\n \\n \\n \\n \\n', '\\n \\n , \\n \\n', '\\n \\n \\n \\n \\n', '\\n \\n \\n \\n ,', '\\n \\n \\n \\n \\n', '\\n \\n \\n \\n \\n', '\\n \\n \\n \\n \\n', '\\n \\n \\n , \\n', '\\n \\n \\n \\n \\n', ', \\n \\n ,. \\n', '\\n \\n \\n \\n ,']\n"
     ]
    },
    {
     "name": "stderr",
     "output_type": "stream",
     "text": [
      "\r",
      " 18%|█████████████████████▌                                                                                                  | 538/2999 [2:57:23<13:21:48, 19.55s/it]"
     ]
    },
    {
     "name": "stdout",
     "output_type": "stream",
     "text": [
      "['\\n \\n \\n \\n \\n', '\\n \\n \\n \\n \\n', '\\n \\n \\n \\n \\n', '\\n \\n \\n \\n ,', '\\n \\n \\n \\n \\n', '\\n \\n , \\n \\n', ', \\n \\n \\n \\n', '\\n \\n \\n \\n \\n', 'を , , \\n \\n', '\\n , \\n \\n \\n', '\\n \\n \\n \\n \\n', '\\n \\n \\n \\n \\n', '\\n \\n , \\n \\n', '\\n \\n \\n \\n \\n', 'istas , , \\n \\n', '\\n \\n \\n \\n ,']\n",
      "['\\n \\n \\n \\n \\n', ', \\n \\n \\n \\n', '\\n \\n \\n \\n \\n', '\\n \\n \\n \\n ,', '\\n \\n \\n \\n \\n', '\\n \\n , \\n \\n', ', \\n \\n \\n \\n', '\\n \\n \\n \\n \\n', '\\n , \\n \\n \\n', '\\n \\n \\n \\n \\n', '\\n \\n \\n \\n \\n', '\\n \\n \\n \\n \\n', '\\n \\n , \\n \\n', '\\n \\n \\n \\n \\n', ', \\n \\n ,. \\n', ', \\n \\n \\n \\n']\n"
     ]
    },
    {
     "name": "stderr",
     "output_type": "stream",
     "text": [
      "\r",
      " 18%|█████████████████████▌                                                                                                  | 539/2999 [2:57:43<13:21:51, 19.56s/it]"
     ]
    },
    {
     "name": "stdout",
     "output_type": "stream",
     "text": [
      "['\\n \\n \\n \\n \\n', '\\n \\n , \\n \\n', '\\n \\n \\n \\n \\n', '\\n \\n \\n \\n \\n', '\\n \\n \\n \\n \\n', '\\n \\n , \\n \\n', '\\n \\n \\n \\n \\n', '\\n , \\n \\n \\n', '\\n \\n \\n \\n \\n', '\\n \\n \\n \\n \\n', '\\n \\n \\n \\n \\n', '\\n \\n \\n \\n \\n', 'Optional , , \\n \\n', '\\n \\n \\n \\n \\n', '\\n \\n \\n \\n \\n', '\\n \\n \\n \\n \\n']\n",
      "['\\n \\n \\n \\n \\n', '\\n \\n \\n \\n \\n', '\\n \\n \\n \\n \\n', '\\n \\n , \\n \\n', '\\n \\n \\n , \\n', '\\n , \\n , \\n', '\\n \\n \\n , \\n', '\\n \\n \\n \\n \\n', '\\n \\n \\n \\n \\n', '\\n \\n \\n \\n \\n', '\\n \\n \\n \\n \\n', '\\n \\n \\n \\n \\n', '\\n \\n \\n \\n \\n', '\\n \\n , \\n \\n', '\\n \\n \\n \\n \\n', '\\n \\n \\n , \\n']\n"
     ]
    },
    {
     "name": "stderr",
     "output_type": "stream",
     "text": [
      "\r",
      " 18%|█████████████████████▌                                                                                                  | 540/2999 [2:58:02<13:22:00, 19.57s/it]"
     ]
    },
    {
     "name": "stdout",
     "output_type": "stream",
     "text": [
      "['\\n \\n \\n \\n \\n', '\\n \\n \\n \\n \\n', '\\n \\n \\n \\n \\n', '\\n , \\n \\n \\n', '\\n \\n \\n \\n \\n', '\\n , \\n , \\n', 'resso , \\n \\n \\n', '\\n , \\n \\n \\n', '\\n \\n \\n \\n \\n', '\\n \\n \\n \\n \\n', '\\n \\n \\n \\n \\n', '\\n \\n , \\n \\n', '\\n \\n \\n \\n \\n', '\\n \\n \\n \\n \\n', '\\n \\n \\n , \\n', '\\n \\n \\n \\n \\n']\n",
      "['\\n \\n \\n \\n \\n', '\\n \\n \\n , \\n', '\\n \\n \\n \\n \\n', '\\n \\n \\n , \\n', '\\n \\n \\n \\n \\n', '\\n , \\n \\n \\n', '\\n \\n \\n \\n \\n', '\\n \\n \\n \\n \\n', '\\n \\n \\n \\n ,', '\\n \\n \\n \\n \\n', '\\n \\n \\n , \\n', '\\n \\n , \\n \\n', '\\n , \\n \\n \\n', '\\n \\n \\n \\n \\n', '\\n \\n \\n \\n ,', '\\n \\n \\n \\n \\n']\n"
     ]
    },
    {
     "name": "stderr",
     "output_type": "stream",
     "text": [
      "\r",
      " 18%|█████████████████████▋                                                                                                  | 541/2999 [2:58:22<13:22:40, 19.59s/it]"
     ]
    },
    {
     "name": "stdout",
     "output_type": "stream",
     "text": [
      "36.256622314453125 0.5\n",
      "['\\n \\n \\n \\n \\n', '\\n \\n \\n \\n \\n', '\\n \\n \\n \\n \\n', '\\n \\n \\n \\n \\n', '\\n \\n , \\n \\n', '\\n \\n , \\n \\n', 'RE , , \\n \\n', ' conscientious , , \\n \\n', '\\n \\n \\n , \\n', '\\n , \\n \\n \\n', '\\n \\n \\n \\n \\n', '\\n \\n \\n \\n \\n', '\\n , \\n \\n \\n', '\\n \\n \\n \\n \\n', '\\n \\n \\n \\n \\n', 'esthetic , , \\n \\n']\n",
      "['\\n \\n \\n \\n \\n', '\\n \\n \\n , \\n', '\\n \\n \\n \\n \\n', '\\n , \\n \\n \\n', '\\n \\n \\n , \\n', '\\n \\n \\n \\n \\n', '\\n \\n , \\n \\n', '\\n \\n \\n \\n \\n', '\\n \\n \\n \\n \\n', '\\n \\n \\n \\n \\n', '\\n \\n \\n \\n \\n', '\\n \\n \\n \\n \\n', '\\n \\n , \\n \\n', '\\n \\n \\n \\n \\n', '\\n \\n \\n \\n \\n', '\\n \\n \\n \\n \\n']\n"
     ]
    },
    {
     "name": "stderr",
     "output_type": "stream",
     "text": [
      "\r",
      " 18%|█████████████████████▋                                                                                                  | 542/2999 [2:58:42<13:22:17, 19.59s/it]"
     ]
    },
    {
     "name": "stdout",
     "output_type": "stream",
     "text": [
      "['\\n \\n \\n \\n \\n', '\\n \\n , \\n \\n', '\\n \\n \\n \\n \\n', '\\n \\n , \\n \\n', '\\n \\n ,. \\n \\n', '\\n \\n \\n \\n \\n', '\\n \\n \\n \\n \\n', '\\n \\n , \\n \\n', '\\n \\n \\n \\n \\n', '\\n \\n \\n \\n \\n', '\\n \\n \\n \\n \\n', '\\n \\n \\n \\n \\n', '\\n \\n \\n \\n \\n', ' hindsight , , \\n \\n', '\\n \\n \\n \\n \\n', '\\n \\n , \\n \\n']\n",
      "['\\n \\n \\n \\n \\n', '\\n \\n \\n \\n \\n', '\\n \\n \\n \\n \\n', '\\n \\n , \\n \\n', '\\n \\n \\n \\n \\n', '\\n \\n , , \\n', '\\n \\n \\n , \\n', '\\n \\n \\n \\n \\n', '\\n \\n , \\n \\n', '\\n \\n \\n \\n \\n', '\\n \\n \\n , \\n', '\\n \\n \\n \\n \\n', '\\n \\n \\n \\n \\n', '\\n \\n \\n \\n \\n', '\\n \\n \\n \\n \\n', '\\n \\n \\n \\n \\n']\n"
     ]
    },
    {
     "name": "stderr",
     "output_type": "stream",
     "text": [
      "\r",
      " 18%|█████████████████████▋                                                                                                  | 543/2999 [2:59:01<13:22:12, 19.60s/it]"
     ]
    },
    {
     "name": "stdout",
     "output_type": "stream",
     "text": [
      "['\\n \\n \\n \\n \\n', '\\n \\n \\n \\n \\n', ' Hans , , , \\n', '\\n \\n \\n \\n \\n', '\\n \\n \\n \\n \\n', '66666666 , \\n \\n \\n', '\\n \\n \\n \\n \\n', '\\n \\n \\n \\n \\n', '\\n \\n \\n \\n \\n', '\\n \\n \\n \\n \\n', '\\n \\n , \\n \\n', '\\n \\n \\n , \\n', '\\n \\n , \\n \\n', '\\n \\n \\n \\n \\n', '\\n \\n \\n \\n \\n', '\\n \\n \\n \\n \\n']\n",
      "['\\n \\n \\n \\n \\n', '\\n \\n , \\n \\n', '\\n \\n \\n \\n \\n', '\\n \\n \\n \\n ,', '\\n \\n \\n \\n \\n', '\\n , \\n \\n \\n', '\\n \\n \\n \\n \\n', '\\n \\n \\n , \\n', '\\n \\n , \\n \\n', '\\n \\n \\n \\n \\n', '\\n \\n \\n \\n ,', '\\n , \\n \\n \\n', '\\n \\n \\n \\n \\n', '\\n \\n , \\n \\n', '\\n \\n \\n \\n \\n', '\\n \\n \\n , \\n']\n"
     ]
    },
    {
     "name": "stderr",
     "output_type": "stream",
     "text": [
      "\r",
      " 18%|█████████████████████▊                                                                                                  | 544/2999 [2:59:21<13:21:45, 19.59s/it]"
     ]
    },
    {
     "name": "stdout",
     "output_type": "stream",
     "text": [
      "['\\n \\n \\n \\n \\n', '\\n \\n \\n \\n \\n', '\\n \\n \\n \\n \\n', '\\n \\n , \\n \\n', '\\n \\n \\n \\n ,', '\\n \\n \\n \\n \\n', '\\n \\n \\n \\n ,', '\\n , \\n \\n \\n', '\\n \\n \\n \\n \\n', '\\n \\n \\n \\n \\n', '\\n \\n , \\n \\n', '\\n \\n \\n \\n \\n', '\\n \\n , \\n \\n', '\\n \\n , \\n \\n', '\\n \\n \\n \\n \\n', '\\n \\n \\n \\n \\n']\n",
      "['\\n \\n , \\n \\n', '\\n \\n \\n \\n \\n', '\\n \\n \\n \\n \\n', '\\n \\n \\n \\n \\n', '\\n \\n \\n \\n \\n', '\\n \\n , \\n \\n', '\\n \\n \\n \\n \\n', '\\n \\n \\n \\n \\n', ', \\n ,. \\n ,', '\\n \\n \\n \\n \\n', ', \\n \\n \\n \\n', '\\n \\n \\n \\n \\n', '\\n \\n \\n \\n \\n', '\\n \\n \\n \\n \\n', '\\n \\n \\n , \\n', '\\n \\n \\n \\n \\n']\n"
     ]
    },
    {
     "name": "stderr",
     "output_type": "stream",
     "text": [
      "\r",
      " 18%|█████████████████████▊                                                                                                  | 545/2999 [2:59:40<13:21:06, 19.59s/it]"
     ]
    },
    {
     "name": "stdout",
     "output_type": "stream",
     "text": [
      "['\\n \\n \\n \\n \\n', '\\n \\n \\n \\n \\n', '\\n \\n , \\n \\n', '\\n \\n \\n , \\n', '\\n \\n \\n \\n ,', '\\n \\n , \\n \\n', '\\n \\n \\n \\n \\n', '\\n \\n \\n \\n \\n', '\\n \\n \\n \\n \\n', '\\n \\n \\n \\n \\n', ' Lover , , , \\n', ' Lans , , , ,', '\\n , \\n \\n ,', '\\n \\n , \\n \\n', '\\n \\n \\n \\n ,', '\\n \\n , \\n \\n']\n",
      "['\\n \\n \\n \\n \\n', '\\n \\n \\n \\n \\n', '\\n \\n \\n , \\n', '\\n \\n \\n \\n \\n', '\\n \\n \\n , \\n', '\\n \\n , \\n \\n', '\\n \\n \\n \\n \\n', '\\n \\n \\n \\n \\n', '\\n \\n , \\n \\n', '\\n \\n \\n \\n \\n', '\\n \\n \\n \\n \\n', '\\n \\n \\n \\n \\n', '\\n \\n , \\n \\n', '\\n \\n , \\n \\n', '\\n \\n \\n \\n \\n', '\\n \\n \\n \\n \\n']\n"
     ]
    },
    {
     "name": "stderr",
     "output_type": "stream",
     "text": [
      "\r",
      " 18%|█████████████████████▊                                                                                                  | 546/2999 [3:00:00<13:19:46, 19.56s/it]"
     ]
    },
    {
     "name": "stdout",
     "output_type": "stream",
     "text": [
      "['\\n \\n \\n , \\n', '\\n \\n \\n \\n \\n', '\\n \\n \\n \\n \\n', '\\n \\n \\n \\n \\n', '\\n \\n \\n \\n \\n', '\\n \\n \\n \\n \\n', '\\n \\n \\n \\n \\n', '\\n \\n \\n \\n \\n', '\\n \\n \\n , \\n', '\\n \\n \\n \\n \\n', '\\n \\n \\n \\n \\n', '\\n \\n , \\n \\n', '\\n \\n \\n \\n \\n', '\\n \\n \\n \\n \\n', '\\n \\n \\n \\n \\n', '\\n \\n \\n , \\n']\n",
      "['\\n \\n \\n \\n \\n', '\\n \\n \\n \\n \\n', '\\n \\n , \\n \\n', '\\n , \\n \\n ,', '\\n \\n \\n \\n \\n', '\\n \\n \\n \\n \\n', '\\n \\n \\n \\n \\n', '\\n \\n \\n \\n \\n', '\\n , \\n \\n \\n', '\\n \\n \\n \\n \\n', '\\n \\n \\n \\n \\n', '\\n \\n \\n , \\n', '\\n \\n \\n \\n \\n', '\\n \\n \\n \\n \\n', '\\n \\n \\n \\n \\n', '\\n \\n \\n \\n \\n']\n"
     ]
    },
    {
     "name": "stderr",
     "output_type": "stream",
     "text": [
      "\r",
      " 18%|█████████████████████▉                                                                                                  | 547/2999 [3:00:20<13:20:59, 19.60s/it]"
     ]
    },
    {
     "name": "stdout",
     "output_type": "stream",
     "text": [
      "['\\n \\n \\n \\n \\n', '\\n \\n ,. \\n \\n', '\\n , \\n \\n \\n', '\\n \\n \\n \\n \\n', '\\n \\n \\n \\n \\n', '\\n \\n , \\n \\n', '\\n \\n , \\n \\n', '\\n \\n \\n \\n \\n', '\\n \\n \\n \\n \\n', '\\n \\n \\n \\n \\n', '\\n \\n \\n , \\n', '\\n \\n \\n \\n \\n', '\\n \\n , \\n \\n', '\\n \\n \\n \\n \\n', '\\n \\n \\n \\n \\n', '\\n \\n \\n \\n \\n']\n",
      "['\\n \\n \\n \\n ,.', '\\n \\n \\n \\n \\n', '\\n \\n \\n \\n \\n', '\\n \\n \\n \\n ,', '\\n \\n \\n , \\n', '\\n \\n \\n \\n \\n', '\\n \\n , \\n \\n', '\\n \\n \\n \\n \\n', '\\n \\n \\n \\n \\n', '\\n , \\n , \\n', '\\n \\n \\n \\n \\n', '\\n \\n \\n \\n \\n', '\\n , \\n \\n ,', '\\n \\n \\n \\n \\n', '\\n \\n \\n \\n \\n', '\\n \\n \\n \\n \\n']\n"
     ]
    },
    {
     "name": "stderr",
     "output_type": "stream",
     "text": [
      "\r",
      " 18%|█████████████████████▉                                                                                                  | 548/2999 [3:00:39<13:20:41, 19.60s/it]"
     ]
    },
    {
     "name": "stdout",
     "output_type": "stream",
     "text": [
      "['\\n \\n \\n \\n \\n', '\\n \\n \\n \\n ,', '\\n \\n \\n \\n \\n', '\\n , \\n \\n \\n', '\\n \\n \\n \\n \\n', '\\n \\n \\n , \\n', '\\n \\n , \\n \\n', '\\n \\n \\n , \\n', '\\n \\n , \\n \\n', '\\n \\n \\n \\n \\n', '\\n \\n \\n \\n \\n', '\\n \\n , \\n \\n', '\\n \\n , \\n \\n', '\\n \\n \\n \\n \\n', ', \\n \\n \\n \\n', 'orange , , \\n \\n']\n",
      "['\\n \\n \\n \\n \\n', '\\n \\n \\n \\n \\n', '\\n ,. \\n \\n \\n', '\\n \\n \\n \\n \\n', '\\n \\n \\n , \\n', '\\n \\n , \\n \\n', '\\n \\n \\n \\n ,', '\\n \\n \\n \\n \\n', '\\n \\n \\n \\n \\n', '\\n \\n \\n \\n \\n', '\\n \\n \\n \\n \\n', '\\n \\n \\n , \\n', '\\n \\n , \\n \\n', '\\n \\n \\n \\n \\n', '\\n \\n \\n \\n \\n', '\\n \\n \\n \\n \\n']\n"
     ]
    },
    {
     "name": "stderr",
     "output_type": "stream",
     "text": [
      "\r",
      " 18%|█████████████████████▉                                                                                                  | 549/2999 [3:00:59<13:19:03, 19.57s/it]"
     ]
    },
    {
     "name": "stdout",
     "output_type": "stream",
     "text": [
      "['\\n \\n \\n \\n \\n', ', \\n \\n \\n \\n', '\\n \\n \\n \\n \\n', ', \\n \\n \\n \\n', ' ate , , \\n \\n', '\\n \\n , \\n \\n', ', \\n ,. \\n ,', '\\n \\n \\n \\n \\n', '\\n \\n , \\n \\n', '\\n \\n \\n , \\n', '\\n , \\n , \\n', '\\n \\n \\n \\n \\n', '\\n \\n , \\n ,', '\\n \\n \\n \\n \\n', '\\n \\n \\n , \\n', '\\n \\n \\n \\n \\n']\n",
      "['\\n \\n \\n \\n \\n', '\\n \\n , \\n \\n', '\\n \\n , \\n \\n', '\\n \\n \\n \\n \\n', '\\n \\n \\n , \\n', '\\n \\n , \\n ,', '\\n \\n , \\n \\n', '\\n \\n \\n \\n \\n', '\\n \\n \\n , \\n', '\\n \\n \\n \\n ,', '\\n \\n \\n \\n \\n', '\\n , \\n \\n \\n', '\\n \\n \\n \\n \\n', '\\n \\n \\n \\n \\n', '\\n \\n \\n \\n \\n', '\\n \\n \\n \\n \\n']\n"
     ]
    },
    {
     "name": "stderr",
     "output_type": "stream",
     "text": [
      "\r",
      " 18%|██████████████████████                                                                                                  | 550/2999 [3:01:18<13:17:43, 19.54s/it]"
     ]
    },
    {
     "name": "stdout",
     "output_type": "stream",
     "text": [
      "['\\n \\n \\n \\n \\n', '\\n \\n \\n , \\n', '\\n \\n \\n \\n \\n', '\\n \\n \\n \\n \\n', '\\n \\n \\n \\n \\n', 'particip , , \\n \\n', '\\n \\n \\n \\n ,', '\\n \\n \\n \\n \\n', '\\n \\n \\n \\n \\n', ', \\n \\n ,. \\n', '\\n \\n , \\n \\n', '\\n \\n , \\n \\n', '\\n \\n , \\n \\n', '\\n \\n \\n , \\n', '\\n \\n \\n \\n \\n', '\\n \\n \\n , \\n']\n",
      "['\\n \\n \\n \\n \\n', ', \\n ,. \\n \\n', '\\n \\n \\n \\n \\n', '\\n \\n , \\n \\n', '\\n \\n \\n \\n \\n', '\\n \\n \\n \\n \\n', ', \\n \\n \\n \\n', '\\n \\n , \\n \\n', ', \\n \\n ,. \\n', '\\n \\n \\n \\n \\n', '\\n \\n , \\n \\n', '\\n \\n \\n , \\n', '\\n , \\n \\n ,', '\\n \\n \\n \\n \\n', '\\n \\n \\n \\n \\n', '\\n \\n \\n \\n \\n']\n"
     ]
    },
    {
     "name": "stderr",
     "output_type": "stream",
     "text": [
      "\r",
      " 18%|██████████████████████                                                                                                  | 551/2999 [3:01:38<13:16:40, 19.53s/it]"
     ]
    },
    {
     "name": "stdout",
     "output_type": "stream",
     "text": [
      "34.64353942871094 0.515625\n",
      "['\\n \\n \\n \\n \\n', '\\n \\n \\n \\n \\n', '\\n \\n \\n \\n \\n', '\\n \\n \\n \\n \\n', '\\n \\n \\n \\n \\n', '\\n \\n , \\n \\n', ', \\n ,. , ,', ' Kyr , , , ,', '\\n \\n \\n \\n ,', ', \\n \\n ,. \\n', ', \\n ,. \\n \\n', '\\n \\n , \\n \\n', '\\n \\n \\n \\n ,', '\\n \\n \\n \\n \\n', '\\n \\n \\n \\n \\n', '\\n \\n \\n , \\n']\n",
      "['\\n \\n \\n \\n \\n', '\\n \\n \\n \\n \\n', '\\n \\n \\n \\n \\n', ', \\n \\n \\n \\n', '\\n \\n \\n \\n \\n', ', \\n \\n , \\n', '\\n \\n , \\n \\n', ', \\n \\n \\n \\n', '\\n \\n \\n \\n \\n', '\\n \\n \\n \\n ,', '\\n \\n \\n , \\n', '\\n \\n \\n \\n \\n', ', \\n \\n \\n ,', '\\n \\n \\n \\n \\n', '\\n \\n \\n \\n ,', '\\n \\n \\n \\n \\n']\n"
     ]
    },
    {
     "name": "stderr",
     "output_type": "stream",
     "text": [
      "\r",
      " 18%|██████████████████████                                                                                                  | 552/2999 [3:01:57<13:16:29, 19.53s/it]"
     ]
    },
    {
     "name": "stdout",
     "output_type": "stream",
     "text": [
      "['\\n \\n , \\n \\n', '\\n \\n \\n \\n \\n', '\\n \\n \\n , \\n', '\\n \\n , \\n ,', '\\n \\n \\n , \\n', '\\n \\n \\n \\n \\n', '\\n \\n \\n \\n \\n', '\\n \\n \\n \\n ,', '\\n \\n \\n \\n \\n', '\\n \\n \\n , \\n', '\\n \\n , \\n \\n', '\\n \\n \\n \\n \\n', ' acid , , \\n \\n', '\\n \\n \\n \\n ,', ', \\n ,. \\n ,', 'IVERS , , , \\n']\n",
      "['\\n \\n \\n \\n \\n', '\\n \\n \\n \\n \\n', '\\n \\n \\n \\n \\n', '\\n \\n \\n \\n ,', '\\n \\n \\n \\n \\n', '\\n \\n , \\n \\n', '\\n \\n \\n \\n \\n', '\\n \\n \\n \\n \\n', '\\n \\n \\n \\n ,', '\\n \\n ,. \\n ,', '\\n \\n \\n \\n \\n', '\\n \\n \\n \\n \\n', '\\n , \\n \\n \\n', '\\n \\n \\n \\n \\n', '\\n \\n \\n \\n \\n', ', \\n \\n \\n ,.']\n"
     ]
    },
    {
     "name": "stderr",
     "output_type": "stream",
     "text": [
      "\r",
      " 18%|██████████████████████▏                                                                                                 | 553/2999 [3:02:17<13:16:54, 19.55s/it]"
     ]
    },
    {
     "name": "stdout",
     "output_type": "stream",
     "text": [
      "['\\n , \\n \\n ,', '\\n \\n \\n \\n \\n', '\\n \\n \\n \\n \\n', '\\n , \\n \\n ,.', '\\n \\n \\n \\n \\n', '\\n \\n \\n \\n \\n', '\\n \\n \\n \\n \\n', ' beforehand , , \\n \\n', ', \\n ,. \\n ,', ' inception , , \\n \\n', '\\n \\n , \\n \\n', '\\n \\n , \\n \\n', '\\n \\n \\n , \\n', '\\n \\n \\n \\n \\n', '\\n \\n \\n \\n \\n', 'omet , , \\n \\n']\n",
      "['\\n \\n \\n , \\n', '\\n \\n \\n , \\n', '\\n \\n , \\n \\n', '\\n \\n \\n \\n \\n', '\\n \\n \\n \\n \\n', '\\n \\n \\n \\n \\n', '\\n \\n \\n \\n \\n', '\\n \\n \\n \\n \\n', '\\n \\n , \\n \\n', '\\n \\n \\n \\n \\n', ', \\n ,. \\n \\n', ', \\n \\n \\n \\n', '\\n \\n \\n \\n \\n', ', \\n ,. , \\n', '\\n \\n \\n \\n \\n', '\\n \\n \\n \\n \\n']\n"
     ]
    },
    {
     "name": "stderr",
     "output_type": "stream",
     "text": [
      "\r",
      " 18%|██████████████████████▏                                                                                                 | 554/2999 [3:02:36<13:16:53, 19.56s/it]"
     ]
    },
    {
     "name": "stdout",
     "output_type": "stream",
     "text": [
      "['\\n \\n \\n \\n \\n', '\\n \\n \\n \\n \\n', '\\n \\n \\n , \\n', '\\n \\n , \\n \\n', '\\n \\n \\n \\n \\n', '\\n , , \\n ,', '\\n \\n \\n \\n \\n', '\\n \\n \\n , \\n', '\\n \\n \\n \\n \\n', '\\n \\n \\n \\n \\n', '\\n \\n \\n , \\n', '\\n \\n , , \\n', ', \\n \\n \\n ,', '\\n \\n \\n \\n ,.', '\\n \\n \\n \\n \\n', '\\n \\n , \\n \\n']\n",
      "['\\n \\n \\n , \\n', '\\n \\n \\n \\n \\n', '\\n \\n \\n \\n \\n', '\\n \\n \\n \\n \\n', '\\n \\n \\n \\n \\n', '\\n \\n , \\n \\n', '\\n \\n \\n \\n \\n', '\\n \\n \\n \\n \\n', '\\n \\n \\n \\n \\n', '\\n \\n \\n \\n \\n', ', \\n ,. \\n ,', '\\n \\n , \\n \\n', '\\n , \\n \\n \\n', ', \\n \\n ,. \\n', '\\n \\n \\n \\n \\n', '\\n \\n \\n \\n \\n']\n"
     ]
    },
    {
     "name": "stderr",
     "output_type": "stream",
     "text": [
      "\r",
      " 19%|██████████████████████▏                                                                                                 | 555/2999 [3:02:56<13:16:49, 19.56s/it]"
     ]
    },
    {
     "name": "stdout",
     "output_type": "stream",
     "text": [
      "['\\n \\n \\n , \\n', '\\n \\n ,. , \\n', '\\n \\n \\n \\n \\n', '\\n \\n \\n \\n \\n', ', \\n ,. \\n ,', '\\n \\n \\n \\n \\n', '\\n \\n \\n \\n \\n', '\\n \\n \\n \\n \\n', '\\n , \\n \\n ,', ', \\n \\n \\n \\n', '\\n \\n , \\n \\n', ' Yankee , , , \\n', '\\n \\n \\n \\n \\n', '\\n \\n \\n \\n ,.', '\\n \\n \\n \\n \\n', '\\n \\n \\n \\n \\n']\n",
      "[', \\n \\n \\n \\n', '\\n \\n \\n \\n \\n', '\\n \\n \\n \\n \\n', '\\n , \\n \\n \\n', '\\n \\n \\n \\n \\n', '\\n \\n \\n , \\n', '\\n \\n \\n \\n \\n', '\\n \\n \\n \\n \\n', '\\n \\n \\n \\n \\n', '\\n \\n \\n \\n \\n', '\\n \\n \\n \\n \\n', '\\n \\n \\n \\n \\n', ', \\n \\n ,. \\n', '\\n \\n \\n \\n \\n', '\\n \\n \\n \\n \\n', '\\n , \\n \\n \\n']\n"
     ]
    },
    {
     "name": "stderr",
     "output_type": "stream",
     "text": [
      "\r",
      " 19%|██████████████████████▏                                                                                                 | 556/2999 [3:03:15<13:16:50, 19.57s/it]"
     ]
    },
    {
     "name": "stdout",
     "output_type": "stream",
     "text": [
      "['\\n \\n \\n , \\n', 'burn , , \\n \\n', '\\n \\n \\n , \\n', '106 , , , \\n', '\\n \\n \\n \\n \\n', '\\n \\n \\n , \\n', '\\n \\n \\n , \\n', ', \\n \\n \\n \\n', '\\n \\n \\n , \\n', '\\n \\n \\n \\n \\n', '\\n \\n , \\n \\n', '\\n \\n \\n \\n \\n', '\\n \\n , \\n \\n', '\\n \\n ,. \\n ,', '\\n \\n \\n , \\n', '\\n \\n \\n \\n \\n']\n",
      "['\\n \\n , \\n \\n', '\\n \\n \\n , \\n', '\\n \\n \\n \\n \\n', '\\n \\n \\n \\n \\n', '\\n \\n \\n \\n \\n', '\\n \\n \\n \\n \\n', '\\n \\n , \\n \\n', '\\n , \\n \\n ,', '\\n \\n \\n \\n \\n', '\\n \\n \\n \\n \\n', '\\n \\n \\n , \\n', '\\n \\n , \\n \\n', ', , \\n \\n ,.', '\\n \\n \\n \\n ,', '\\n \\n ,. \\n \\n', '\\n \\n \\n \\n \\n']\n"
     ]
    },
    {
     "name": "stderr",
     "output_type": "stream",
     "text": [
      "\r",
      " 19%|██████████████████████▎                                                                                                 | 557/2999 [3:03:35<13:14:48, 19.53s/it]"
     ]
    },
    {
     "name": "stdout",
     "output_type": "stream",
     "text": [
      "['\\n \\n \\n \\n \\n', '\\n \\n \\n , \\n', ', \\n ,. \\n ,', '\\n \\n \\n , \\n', '\\n \\n \\n \\n \\n', '\\n \\n , \\n \\n', '\\n \\n \\n \\n \\n', '\\n \\n \\n \\n \\n', '\\n \\n , \\n ,', '\\n \\n \\n \\n \\n', 'Edward , , \\n \\n', '\\n \\n \\n \\n ,', '\\n , \\n \\n ,', '\\n \\n \\n \\n \\n', '\\n \\n \\n \\n \\n', '\\n \\n \\n \\n \\n']\n",
      "['\\n \\n \\n \\n \\n', ', \\n ,. \\n ,', ', \\n \\n \\n \\n', '\\n , \\n \\n ,', '\\n \\n \\n \\n \\n', '\\n \\n \\n , \\n', '\\n \\n \\n \\n \\n', '\\n \\n \\n \\n \\n', '\\n \\n \\n \\n \\n', '\\n \\n , \\n \\n', '\\n \\n \\n \\n \\n', '\\n \\n \\n \\n \\n', '\\n \\n \\n \\n \\n', '\\n \\n \\n \\n \\n', '\\n \\n \\n \\n \\n', '\\n \\n \\n , \\n']\n"
     ]
    },
    {
     "name": "stderr",
     "output_type": "stream",
     "text": [
      "\r",
      " 19%|██████████████████████▎                                                                                                 | 558/2999 [3:03:54<13:15:00, 19.54s/it]"
     ]
    },
    {
     "name": "stdout",
     "output_type": "stream",
     "text": [
      "['\\n \\n \\n \\n \\n', '\\n \\n \\n \\n \\n', '\\n \\n \\n \\n \\n', '\\n , \\n \\n ,', '\\n \\n \\n \\n \\n', '\\n , \\n \\n \\n', '\\n \\n \\n ,. ,', ', \\n \\n ,. \\n', '\\n \\n \\n \\n \\n', '\\n \\n \\n \\n \\n', '\\n \\n , \\n \\n', ' exponent , , \\n \\n', '\\n \\n \\n \\n \\n', '\\n \\n \\n \\n \\n', '\\n \\n \\n \\n \\n', '\\n \\n \\n \\n \\n']\n",
      "['\\n \\n \\n \\n \\n', '\\n \\n \\n \\n \\n', '\\n , \\n \\n \\n', '\\n \\n \\n , \\n', '\\n \\n \\n \\n \\n', '\\n , \\n \\n \\n', '\\n \\n \\n \\n \\n', '\\n \\n \\n \\n \\n', ', \\n ,. \\n \\n', '\\n \\n \\n \\n \\n', '\\n \\n \\n \\n \\n', '\\n \\n \\n \\n ,', '\\n \\n , \\n \\n', '\\n \\n \\n \\n \\n', '\\n \\n \\n , \\n', '\\n \\n \\n \\n \\n']\n"
     ]
    },
    {
     "name": "stderr",
     "output_type": "stream",
     "text": [
      "\r",
      " 19%|██████████████████████▎                                                                                                 | 559/2999 [3:04:14<13:15:54, 19.57s/it]"
     ]
    },
    {
     "name": "stdout",
     "output_type": "stream",
     "text": [
      "['\\n \\n \\n \\n \\n', '\\n \\n \\n \\n \\n', '\\n \\n \\n \\n \\n', '\\n , \\n \\n \\n', '\\n \\n \\n \\n ,', '\\n \\n \\n \\n \\n', '\\n \\n \\n \\n \\n', 'constitutional , , \\n \\n', 'ghazi , , \\n \\n', '\\n \\n \\n \\n \\n', '\\n \\n \\n \\n \\n', '\\n \\n \\n \\n \\n', '\\n \\n \\n \\n \\n', '\\n \\n \\n \\n \\n', '\\n \\n \\n \\n \\n', ' Wheat , , , \\n']\n",
      "['\\n \\n , \\n \\n', '\\n , \\n \\n \\n', ', \\n \\n \\n \\n', '\\n \\n \\n \\n \\n', '\\n \\n \\n \\n ,', '\\n \\n , \\n \\n', '\\n \\n , \\n \\n', ', \\n \\n \\n \\n', '\\n \\n , \\n \\n', '\\n \\n \\n , \\n', '\\n \\n \\n \\n \\n', '\\n \\n \\n \\n \\n', '\\n \\n \\n , \\n', '\\n \\n \\n \\n \\n', '\\n \\n \\n \\n \\n', '\\n \\n \\n \\n \\n']\n"
     ]
    },
    {
     "name": "stderr",
     "output_type": "stream",
     "text": [
      "\r",
      " 19%|██████████████████████▍                                                                                                 | 560/2999 [3:04:34<13:15:44, 19.58s/it]"
     ]
    },
    {
     "name": "stdout",
     "output_type": "stream",
     "text": [
      "['\\n \\n \\n , \\n', '\\n \\n \\n \\n \\n', '\\n \\n \\n \\n \\n', ' Jason , , \\n \\n', '\\n \\n \\n \\n \\n', '\\n \\n \\n \\n \\n', '\\n \\n \\n \\n \\n', '\\n \\n \\n ,. \\n', '\\n \\n \\n \\n ,', ', \\n ,. \\n \\n', '\\n \\n \\n \\n \\n', '\\n , \\n \\n \\n', '\\n \\n \\n \\n ,', '\\n \\n \\n \\n \\n', '\\n \\n \\n \\n \\n', '\\n \\n \\n \\n \\n']\n",
      "['\\n \\n \\n \\n \\n', '\\n \\n \\n \\n \\n', '\\n \\n ,. \\n \\n', '\\n \\n \\n \\n \\n', '\\n \\n \\n \\n \\n', '\\n \\n \\n \\n \\n', '\\n \\n , \\n \\n', '\\n \\n \\n \\n \\n', '\\n , \\n , \\n', '\\n \\n \\n \\n \\n', '\\n \\n \\n \\n \\n', ', \\n \\n \\n \\n', '\\n , \\n \\n \\n', '\\n \\n \\n \\n \\n', ', \\n \\n \\n \\n', '\\n \\n \\n \\n \\n']\n"
     ]
    },
    {
     "name": "stderr",
     "output_type": "stream",
     "text": [
      "\r",
      " 19%|██████████████████████▍                                                                                                 | 561/2999 [3:04:53<13:15:02, 19.57s/it]"
     ]
    },
    {
     "name": "stdout",
     "output_type": "stream",
     "text": [
      "32.717735290527344 0.53125\n",
      "['\\n \\n \\n \\n \\n', '\\n \\n \\n ,. \\n', '\\n \\n \\n \\n \\n', '\\n , \\n \\n ,.', '\\n \\n \\n \\n ,', '\\n \\n \\n \\n \\n', '\\n \\n \\n \\n \\n', '\\n \\n \\n \\n \\n', '\\n \\n \\n \\n \\n', '\\n \\n \\n \\n \\n', '\\n \\n , \\n \\n', '\\n \\n , \\n \\n', '\\n \\n , \\n \\n', '\\n \\n \\n \\n \\n', '\\n \\n \\n \\n \\n', '\\n \\n \\n \\n \\n']\n",
      "['\\n \\n , \\n \\n', '\\n \\n \\n \\n \\n', '\\n \\n \\n \\n \\n', '\\n \\n \\n \\n \\n', '\\n \\n \\n \\n \\n', '\\n \\n \\n \\n \\n', '\\n \\n \\n \\n \\n', ', \\n \\n \\n \\n', '\\n \\n \\n \\n \\n', '\\n \\n \\n , \\n', '\\n \\n \\n \\n \\n', '\\n \\n \\n \\n \\n', '\\n \\n \\n , \\n', '\\n \\n \\n \\n \\n', '\\n \\n \\n \\n ,', '\\n \\n \\n \\n \\n']\n"
     ]
    },
    {
     "name": "stderr",
     "output_type": "stream",
     "text": [
      "\r",
      " 19%|██████████████████████▍                                                                                                 | 562/2999 [3:05:13<13:15:12, 19.58s/it]"
     ]
    },
    {
     "name": "stdout",
     "output_type": "stream",
     "text": [
      "[', \\n \\n \\n \\n', '\\n \\n \\n \\n \\n', '\\n \\n , \\n \\n', '\\n , \\n \\n \\n', '\\n \\n \\n \\n \\n', '\\n \\n \\n \\n \\n', '\\n \\n , \\n \\n', ', \\n \\n \\n \\n', '\\n \\n \\n \\n \\n', '\\n \\n \\n \\n \\n', ', \\n ,. \\n ,', '\\n \\n \\n \\n \\n', '\\n \\n , \\n \\n', '\\n \\n \\n \\n \\n', '\\n \\n \\n , \\n', '\\n \\n , \\n \\n']\n",
      "['\\n \\n \\n \\n \\n', '\\n \\n \\n \\n \\n', '\\n \\n \\n \\n \\n', '\\n \\n \\n \\n \\n', '\\n \\n \\n , \\n', '\\n , \\n \\n \\n', '\\n \\n , \\n \\n', '\\n \\n \\n \\n \\n', '\\n \\n \\n \\n \\n', '\\n \\n \\n \\n \\n', '\\n \\n \\n , \\n', '\\n \\n \\n \\n \\n', '\\n \\n \\n \\n \\n', ', \\n ,. \\n ,', '\\n \\n \\n \\n \\n', '\\n \\n \\n \\n \\n']\n"
     ]
    },
    {
     "name": "stderr",
     "output_type": "stream",
     "text": [
      "\r",
      " 19%|██████████████████████▌                                                                                                 | 563/2999 [3:05:32<13:14:08, 19.56s/it]"
     ]
    },
    {
     "name": "stdout",
     "output_type": "stream",
     "text": [
      "['\\n \\n \\n \\n \\n', ', \\n ,. \\n \\n', '\\n \\n \\n \\n \\n', '\\n \\n \\n , \\n', '\\n \\n \\n \\n \\n', '\\n \\n \\n , \\n', '\\n \\n \\n \\n \\n', '149 , \\n \\n \\n', ', \\n \\n ,. \\n', '\\n \\n \\n \\n \\n', '\\n \\n \\n \\n ,', '\\n \\n \\n \\n \\n', '\\n \\n \\n \\n \\n', '\\n \\n \\n \\n \\n', '\\n \\n \\n \\n \\n', '\\n \\n \\n \\n \\n']\n",
      "['\\n \\n \\n \\n \\n', '\\n \\n \\n \\n \\n', '\\n \\n \\n \\n \\n', ', \\n \\n ,. \\n', '\\n \\n \\n \\n \\n', ', \\n \\n \\n \\n', '\\n \\n \\n , \\n', '\\n \\n , \\n \\n', '\\n \\n \\n \\n \\n', '\\n \\n \\n \\n \\n', '\\n \\n , \\n \\n', '\\n \\n , \\n ,', '\\n \\n \\n \\n \\n', '\\n \\n \\n , \\n', '\\n \\n ,. , \\n', ', \\n \\n \\n \\n']\n"
     ]
    },
    {
     "name": "stderr",
     "output_type": "stream",
     "text": [
      "\r",
      " 19%|██████████████████████▌                                                                                                 | 564/2999 [3:05:52<13:13:50, 19.56s/it]"
     ]
    },
    {
     "name": "stdout",
     "output_type": "stream",
     "text": [
      "[' troublesome , , , \\n', '\\n \\n \\n , \\n', '\\n \\n \\n \\n \\n', ' mushroom , , , \\n', '\\n \\n \\n \\n \\n', '\\n \\n \\n \\n \\n', '\\n \\n , \\n \\n', '\\n \\n \\n \\n ,', '\\n \\n \\n \\n \\n', '\\n \\n \\n \\n \\n', '\\n \\n \\n \\n \\n', '\\n \\n , \\n \\n', '\\n \\n \\n \\n ,', ' Comed , , , \\n', '\\n \\n \\n \\n \\n', '\\n \\n , \\n \\n']\n",
      "[', \\n ,. \\n \\n', '\\n \\n , \\n \\n', '\\n , \\n \\n \\n', '\\n \\n , \\n ,', '\\n \\n , \\n \\n', '\\n \\n \\n \\n \\n', '\\n \\n \\n \\n \\n', '\\n , \\n \\n \\n', '\\n \\n \\n \\n \\n', '\\n \\n \\n \\n \\n', '\\n \\n \\n \\n \\n', '\\n \\n , \\n ,', '\\n , \\n \\n \\n', '\\n \\n \\n \\n \\n', ', \\n ,. \\n \\n', '\\n \\n , \\n \\n']\n"
     ]
    },
    {
     "name": "stderr",
     "output_type": "stream",
     "text": [
      "\r",
      " 19%|██████████████████████▌                                                                                                 | 565/2999 [3:06:12<13:14:08, 19.58s/it]"
     ]
    },
    {
     "name": "stdout",
     "output_type": "stream",
     "text": [
      "['\\n \\n \\n , \\n', '\\n \\n \\n \\n \\n', '\\n \\n \\n , \\n', '\\n \\n , , ,', '\\n \\n \\n \\n \\n', ' castle , , \\n \\n', '\\n \\n \\n , \\n', '\\n \\n \\n \\n \\n', '\\n \\n , \\n \\n', '\\n \\n \\n \\n \\n', ' rep , , \\n \\n', ', \\n \\n \\n \\n', '\\n \\n , \\n \\n', '\\n \\n \\n \\n \\n', '\\n \\n \\n \\n \\n', '\\n \\n \\n \\n \\n']\n",
      "['\\n , \\n \\n \\n', '\\n \\n \\n \\n \\n', '\\n \\n \\n \\n \\n', '\\n , \\n \\n \\n', '\\n \\n \\n \\n \\n', '\\n \\n , \\n \\n', ', \\n ,. \\n \\n', ', \\n \\n \\n \\n', '\\n \\n \\n \\n \\n', '\\n \\n , \\n \\n', '\\n \\n \\n \\n \\n', '\\n , \\n \\n ,', '\\n \\n \\n , \\n', '\\n \\n \\n \\n \\n', '\\n \\n \\n \\n ,.', ', \\n \\n \\n \\n']\n"
     ]
    },
    {
     "name": "stderr",
     "output_type": "stream",
     "text": [
      "\r",
      " 19%|██████████████████████▋                                                                                                 | 566/2999 [3:06:31<13:13:34, 19.57s/it]"
     ]
    },
    {
     "name": "stdout",
     "output_type": "stream",
     "text": [
      "['\\n \\n , \\n \\n', '\\n \\n \\n \\n ,', '\\n \\n \\n , \\n', '\\n \\n \\n \\n \\n', '\\n \\n \\n \\n \\n', '\\n \\n , \\n \\n', ', \\n \\n \\n \\n', '\\n \\n \\n \\n \\n', '\\n \\n \\n \\n \\n', '\\n \\n \\n \\n \\n', '\\n \\n \\n \\n \\n', ', \\n ,. \\n \\n', '\\n \\n \\n \\n \\n', '\\n \\n \\n \\n \\n', '\\n \\n \\n \\n \\n', '\\n \\n \\n \\n \\n']\n",
      "['\\n \\n \\n , \\n', '\\n \\n \\n \\n \\n', '\\n \\n \\n \\n \\n', '\\n , \\n \\n \\n', '\\n \\n \\n \\n \\n', '\\n \\n \\n \\n \\n', '\\n \\n \\n \\n \\n', '\\n \\n \\n , \\n', '\\n , \\n \\n \\n', '\\n \\n , \\n \\n', '\\n \\n \\n \\n \\n', '\\n , \\n \\n \\n', '\\n \\n \\n \\n \\n', '\\n \\n \\n , \\n', '\\n \\n \\n , \\n', '\\n \\n \\n \\n \\n']\n"
     ]
    },
    {
     "name": "stderr",
     "output_type": "stream",
     "text": [
      "\r",
      " 19%|██████████████████████▋                                                                                                 | 567/2999 [3:06:51<13:13:04, 19.57s/it]"
     ]
    },
    {
     "name": "stdout",
     "output_type": "stream",
     "text": [
      "[' regret , , , \\n', '\\n \\n \\n \\n \\n', ', \\n \\n \\n ,.', '\\n \\n \\n \\n \\n', '\\n \\n \\n \\n \\n', '\\n \\n , \\n \\n', '\\n \\n , \\n \\n', '\\n \\n \\n , \\n', '\\n \\n \\n \\n ,', '\\n \\n \\n \\n ,', '\\n , \\n \\n \\n', '\\n \\n , \\n \\n', ', \\n \\n \\n \\n', '\\n \\n , , \\n', 'ewski , , \\n \\n', '\\n \\n \\n \\n \\n']\n",
      "['\\n \\n \\n \\n \\n', '\\n \\n \\n \\n \\n', '\\n \\n \\n , \\n', '\\n \\n \\n \\n \\n', '\\n \\n \\n \\n \\n', '\\n \\n \\n \\n \\n', '\\n \\n \\n \\n \\n', ', \\n \\n \\n \\n', '\\n \\n \\n \\n \\n', '\\n \\n \\n , \\n', ', \\n ,. , \\n', '\\n , \\n \\n \\n', '\\n \\n , \\n \\n', '\\n \\n , \\n \\n', '\\n \\n \\n \\n \\n', '\\n \\n \\n \\n \\n']\n"
     ]
    },
    {
     "name": "stderr",
     "output_type": "stream",
     "text": [
      "\r",
      " 19%|██████████████████████▋                                                                                                 | 568/2999 [3:07:10<13:11:58, 19.55s/it]"
     ]
    },
    {
     "name": "stdout",
     "output_type": "stream",
     "text": [
      "[', \\n \\n ,. \\n', '\\n \\n \\n \\n ,', '\\n \\n \\n , \\n', '\\n , \\n \\n \\n', '\\n \\n \\n \\n \\n', '\\n \\n \\n \\n \\n', '\\n \\n , \\n \\n', '\\n \\n \\n \\n \\n', ' Detail , , \\n \\n', '\\n \\n \\n \\n \\n', '\\n \\n \\n \\n \\n', '\\n \\n , \\n \\n', '\\n \\n , \\n ,', '\\n \\n \\n \\n ,', '\\n \\n \\n \\n \\n', '\\n \\n \\n \\n \\n']\n",
      "['\\n \\n \\n \\n \\n', '\\n \\n \\n , \\n', '\\n \\n \\n \\n \\n', '\\n \\n \\n \\n \\n', '\\n \\n \\n \\n ,', '\\n \\n , \\n \\n', '\\n \\n \\n \\n \\n', '\\n \\n \\n , \\n', '\\n \\n \\n \\n \\n', '\\n \\n \\n \\n \\n', '\\n , \\n \\n ,', '\\n \\n \\n \\n \\n', '\\n \\n , \\n \\n', '\\n \\n \\n \\n \\n', '\\n \\n \\n \\n \\n', '\\n \\n \\n \\n \\n']\n"
     ]
    },
    {
     "name": "stderr",
     "output_type": "stream",
     "text": [
      "\r",
      " 19%|██████████████████████▊                                                                                                 | 569/2999 [3:07:30<13:12:31, 19.57s/it]"
     ]
    },
    {
     "name": "stdout",
     "output_type": "stream",
     "text": [
      "[', \\n ,. \\n ,', ' delta , , \\n \\n', '\\n \\n \\n \\n ,', '\\n \\n \\n \\n \\n', '\\n \\n , \\n \\n', '\\n \\n , \\n \\n', '\\n \\n \\n \\n \\n', '\\n , \\n \\n \\n', '\\n \\n \\n \\n \\n', '\\n \\n \\n \\n \\n', '\\n \\n \\n , \\n', '\\n \\n \\n , \\n', '\\n \\n , \\n \\n', '\\n \\n \\n \\n \\n', '\\n \\n \\n \\n \\n', '\\n \\n \\n \\n \\n']\n",
      "['\\n \\n \\n \\n \\n', '\\n \\n \\n \\n \\n', '\\n \\n \\n \\n \\n', '\\n \\n \\n , \\n', '\\n \\n \\n \\n \\n', '\\n \\n \\n , \\n', '\\n \\n , \\n \\n', '\\n \\n , \\n \\n', '\\n \\n \\n \\n \\n', '\\n \\n \\n \\n ,', '\\n \\n \\n \\n \\n', '\\n \\n , \\n \\n', '\\n \\n , \\n \\n', '\\n , , \\n \\n', '\\n \\n \\n \\n \\n', '\\n , \\n \\n \\n']\n"
     ]
    },
    {
     "name": "stderr",
     "output_type": "stream",
     "text": [
      "\r",
      " 19%|██████████████████████▊                                                                                                 | 570/2999 [3:07:49<13:11:41, 19.56s/it]"
     ]
    },
    {
     "name": "stdout",
     "output_type": "stream",
     "text": [
      "['\\n \\n \\n \\n \\n', '\\n \\n \\n \\n \\n', '\\n \\n \\n , \\n', '\\n \\n \\n \\n \\n', ' Doodle , , \\n \\n', '\\n \\n \\n \\n \\n', '\\n \\n \\n \\n \\n', '\\n \\n \\n , \\n', 'iru , , \\n \\n', '\\n \\n \\n , \\n', '\\n \\n \\n \\n \\n', '\\n \\n , \\n \\n', '\\n \\n \\n \\n \\n', '\\n \\n , \\n \\n', '\\n \\n \\n \\n \\n', '\\n \\n \\n \\n \\n']\n",
      "['\\n \\n , \\n \\n', '\\n \\n \\n \\n ,', '\\n \\n \\n \\n \\n', '\\n \\n \\n \\n \\n', '\\n \\n \\n \\n \\n', '\\n \\n \\n \\n \\n', '\\n \\n ,. \\n \\n', '\\n \\n \\n , \\n', '\\n \\n \\n \\n \\n', '\\n \\n \\n , \\n', '\\n \\n \\n \\n \\n', '\\n \\n , \\n \\n', '\\n \\n , \\n \\n', '\\n \\n \\n , \\n', '\\n \\n \\n , \\n', '\\n \\n \\n \\n \\n']\n"
     ]
    },
    {
     "name": "stderr",
     "output_type": "stream",
     "text": [
      "\r",
      " 19%|██████████████████████▊                                                                                                 | 571/2999 [3:08:09<13:12:03, 19.57s/it]"
     ]
    },
    {
     "name": "stdout",
     "output_type": "stream",
     "text": [
      "38.28694152832031 0.5\n",
      "['\\n \\n , \\n \\n', ' approved , , \\n \\n', '\\n \\n \\n \\n ,', '\\n \\n \\n \\n \\n', '\\n \\n \\n \\n \\n', '\\n \\n \\n \\n \\n', '\\n \\n \\n \\n \\n', '\\n \\n \\n \\n \\n', '\\n \\n \\n \\n \\n', '\\n \\n , \\n \\n', '\\n \\n , \\n \\n', '\\n \\n \\n \\n \\n', '\\n \\n , \\n \\n', '\\n \\n ,. \\n \\n', ' Primal , , , ,', '\\n \\n \\n \\n \\n']\n",
      "['\\n \\n \\n \\n \\n', '\\n \\n ,. , \\n', '\\n \\n \\n \\n \\n', '\\n \\n \\n \\n \\n', '\\n \\n \\n \\n \\n', '\\n \\n , \\n \\n', '\\n \\n \\n \\n \\n', '\\n \\n ,. \\n \\n', '\\n \\n , \\n \\n', '\\n \\n \\n \\n \\n', '\\n \\n \\n \\n \\n', '\\n \\n , \\n \\n', '\\n \\n \\n \\n \\n', '\\n \\n , \\n \\n', '\\n \\n \\n \\n \\n', '\\n \\n \\n \\n \\n']\n"
     ]
    },
    {
     "name": "stderr",
     "output_type": "stream",
     "text": [
      "\r",
      " 19%|██████████████████████▉                                                                                                 | 572/2999 [3:08:28<13:11:39, 19.57s/it]"
     ]
    },
    {
     "name": "stdout",
     "output_type": "stream",
     "text": [
      "['\\n \\n \\n , \\n', '\\n \\n \\n \\n \\n', '\\n \\n \\n \\n \\n', '\\n \\n \\n \\n \\n', '\\n \\n \\n \\n \\n', '\\n \\n \\n , \\n', '\\n \\n \\n \\n \\n', 'title , \\n \\n \\n', '\\n \\n \\n \\n \\n', '\\n \\n \\n \\n \\n', '\\n \\n \\n \\n ,', '\\n \\n , \\n \\n', '\\n \\n \\n \\n \\n', '\\n \\n \\n \\n \\n', '\\n \\n \\n \\n \\n', ', \\n \\n ,. ,']\n",
      "['\\n \\n , , \\n', '\\n \\n , \\n \\n', '\\n \\n \\n ,. \\n', '\\n \\n \\n \\n \\n', '\\n \\n \\n \\n \\n', '\\n \\n , \\n \\n', '\\n \\n \\n \\n \\n', '\\n \\n \\n \\n \\n', '\\n \\n \\n \\n \\n', ', \\n ,. \\n ,', '\\n \\n \\n \\n \\n', '\\n \\n , \\n \\n', '\\n \\n , \\n \\n', '\\n \\n \\n \\n \\n', '\\n \\n \\n \\n \\n', ', , \\n \\n ,.']\n"
     ]
    },
    {
     "name": "stderr",
     "output_type": "stream",
     "text": [
      "\r",
      " 19%|██████████████████████▉                                                                                                 | 573/2999 [3:08:48<13:11:09, 19.57s/it]"
     ]
    },
    {
     "name": "stdout",
     "output_type": "stream",
     "text": [
      "['\\n \\n \\n \\n \\n', ', \\n \\n ,. ,', '\\n \\n \\n \\n \\n', '\\n \\n \\n \\n \\n', '\\n \\n \\n \\n \\n', '\\n \\n \\n \\n \\n', '\\n \\n \\n \\n \\n', '\\n \\n \\n \\n \\n', '\\n \\n , \\n ,', '\\n \\n \\n , \\n', '\\n \\n \\n \\n \\n', '\\n , \\n \\n \\n', '\\n \\n , \\n \\n', '\\n \\n \\n \\n \\n', ' subscribed , \\n \\n \\n', '\\n \\n \\n , \\n']\n",
      "['\\n \\n \\n \\n \\n', '\\n \\n ,. \\n ,', ', \\n ,. \\n \\n', '\\n \\n \\n \\n \\n', '\\n \\n \\n \\n \\n', '\\n \\n \\n \\n \\n', '\\n \\n \\n \\n \\n', '\\n \\n \\n \\n ,', '\\n \\n \\n \\n \\n', '\\n \\n \\n \\n \\n', '\\n \\n \\n \\n \\n', '\\n \\n \\n \\n \\n', '\\n \\n \\n \\n ,.', '\\n \\n \\n \\n \\n', '\\n \\n \\n \\n \\n', '\\n \\n \\n \\n \\n']\n"
     ]
    },
    {
     "name": "stderr",
     "output_type": "stream",
     "text": [
      "\r",
      " 19%|██████████████████████▉                                                                                                 | 574/2999 [3:09:08<13:10:46, 19.57s/it]"
     ]
    },
    {
     "name": "stdout",
     "output_type": "stream",
     "text": [
      "['\\n \\n \\n \\n \\n', '\\n \\n \\n \\n \\n', '\\n \\n \\n \\n \\n', '\\n \\n , \\n \\n', '\\n \\n \\n \\n \\n', '\\n \\n , \\n \\n', '\\n \\n \\n \\n \\n', '\\n \\n \\n \\n \\n', '\\n \\n \\n \\n \\n', '\\n \\n \\n \\n \\n', '\\n \\n \\n \\n \\n', '\\n \\n \\n \\n \\n', '\\n \\n \\n \\n \\n', '\\n \\n , \\n \\n', ' guild , , \\n \\n', '\\n \\n \\n \\n \\n']\n",
      "['\\n \\n \\n \\n \\n', '\\n \\n ,. \\n ,', '\\n \\n \\n \\n \\n', '\\n , \\n \\n \\n', '\\n \\n \\n \\n \\n', '\\n \\n \\n \\n \\n', '\\n \\n \\n \\n \\n', '\\n \\n , \\n \\n', '\\n , \\n \\n \\n', '\\n \\n \\n \\n \\n', '\\n \\n \\n \\n \\n', '\\n \\n \\n \\n \\n', '\\n \\n \\n , \\n', '\\n \\n \\n \\n \\n', '\\n \\n \\n \\n \\n', '\\n \\n \\n \\n ,.']\n"
     ]
    },
    {
     "name": "stderr",
     "output_type": "stream",
     "text": [
      "\r",
      " 19%|███████████████████████                                                                                                 | 575/2999 [3:09:27<13:12:15, 19.61s/it]"
     ]
    },
    {
     "name": "stdout",
     "output_type": "stream",
     "text": [
      "['\\n \\n \\n \\n ,', '\\n \\n \\n \\n \\n', '\\n \\n \\n , \\n', '\\n \\n \\n \\n \\n', ' wealth , , \\n \\n', '\\n \\n \\n , \\n', '\\n \\n \\n \\n \\n', ' nonpartisan , , \\n \\n', '\\n \\n , \\n \\n', '\\n \\n \\n \\n \\n', '\\n \\n , \\n ,', '\\n \\n \\n \\n \\n', '\\n \\n \\n \\n \\n', '\\n \\n \\n \\n ,', '\\n \\n \\n \\n \\n', '\\n \\n \\n \\n \\n']\n",
      "['\\n \\n \\n , \\n', '\\n \\n \\n \\n \\n', '\\n \\n , \\n \\n', '\\n \\n \\n \\n ,', '\\n , \\n \\n ,', '\\n \\n , \\n \\n', '\\n \\n \\n , \\n', '\\n \\n \\n \\n \\n', '\\n \\n \\n , \\n', '\\n , \\n \\n \\n', '\\n \\n \\n \\n \\n', '\\n \\n \\n \\n \\n', '\\n \\n \\n , \\n', '\\n \\n \\n \\n \\n', ', \\n \\n \\n \\n', '\\n \\n \\n \\n ,']\n"
     ]
    },
    {
     "name": "stderr",
     "output_type": "stream",
     "text": [
      "\r",
      " 19%|███████████████████████                                                                                                 | 576/2999 [3:09:47<13:11:51, 19.61s/it]"
     ]
    },
    {
     "name": "stdout",
     "output_type": "stream",
     "text": [
      "['\\n \\n \\n \\n \\n', ', \\n \\n \\n \\n', '\\n \\n \\n \\n \\n', ' traditions , , \\n \\n', '\\n \\n \\n \\n \\n', '\\n \\n , \\n \\n', '\\n \\n \\n \\n \\n', ', \\n \\n ,. \\n', '\\n \\n \\n \\n \\n', '\\n \\n \\n \\n \\n', '\\n \\n \\n \\n \\n', '\\n \\n \\n \\n \\n', '\\n \\n , \\n \\n', '\\n \\n \\n \\n \\n', '\\n \\n \\n , \\n', '\\n \\n \\n \\n \\n']\n",
      "['\\n \\n \\n \\n \\n', '\\n \\n \\n \\n \\n', '\\n \\n \\n \\n \\n', '\\n \\n \\n \\n \\n', '\\n \\n \\n , \\n', '\\n \\n , \\n \\n', '\\n \\n \\n \\n \\n', '\\n \\n \\n \\n \\n', '\\n \\n \\n \\n \\n', ', \\n \\n \\n \\n', '\\n \\n \\n , \\n', '\\n \\n \\n \\n \\n', '\\n \\n \\n \\n \\n', '\\n \\n \\n , \\n', '\\n \\n \\n \\n \\n', '\\n \\n , \\n \\n']\n"
     ]
    },
    {
     "name": "stderr",
     "output_type": "stream",
     "text": [
      "\r",
      " 19%|███████████████████████                                                                                                 | 577/2999 [3:10:07<13:11:50, 19.62s/it]"
     ]
    },
    {
     "name": "stdout",
     "output_type": "stream",
     "text": [
      "['\\n \\n ,. \\n ,', '\\n \\n \\n \\n \\n', '\\n \\n \\n \\n \\n', ', \\n ,. \\n \\n', '\\n \\n \\n , \\n', '\\n \\n \\n \\n \\n', '\\n \\n \\n \\n \\n', ' aiding , , \\n \\n', '\\n \\n \\n \\n \\n', '\\n \\n ,. , \\n', '\\n \\n , \\n \\n', '\\n \\n \\n \\n \\n', '\\n \\n \\n \\n \\n', 'opted , , \\n \\n', '\\n \\n \\n \\n \\n', '\\n \\n \\n \\n \\n']\n",
      "['\\n ,. \\n , \\n', '\\n \\n \\n \\n \\n', '\\n \\n \\n \\n \\n', '\\n \\n \\n \\n \\n', '\\n \\n \\n \\n \\n', '\\n , \\n \\n \\n', '\\n \\n \\n \\n \\n', ', \\n \\n \\n \\n', '\\n \\n \\n \\n \\n', '\\n \\n \\n \\n \\n', '\\n \\n \\n \\n \\n', '\\n \\n , \\n \\n', '\\n \\n , \\n \\n', '\\n \\n \\n \\n \\n', '\\n \\n \\n \\n \\n', '\\n , \\n \\n \\n']\n"
     ]
    },
    {
     "name": "stderr",
     "output_type": "stream",
     "text": [
      "\r",
      " 19%|███████████████████████▏                                                                                                | 578/2999 [3:10:26<13:10:44, 19.60s/it]"
     ]
    },
    {
     "name": "stdout",
     "output_type": "stream",
     "text": [
      "['ifest , , \\n \\n', '\\n \\n \\n \\n \\n', ', \\n \\n ,. \\n', '\\n \\n \\n \\n \\n', '\\n \\n \\n \\n \\n', '\\n \\n \\n \\n \\n', '\\n \\n , \\n \\n', '\\n \\n , \\n \\n', 'reements , , \\n \\n', ' Shim , , , ,', '\\n \\n \\n \\n \\n', '\\n \\n \\n \\n \\n', '\\n \\n \\n , \\n', '\\n \\n ,. \\n \\n', '\\n \\n \\n \\n \\n', '\\n \\n \\n \\n \\n']\n",
      "['\\n \\n \\n \\n \\n', '\\n \\n ,. \\n ,', '\\n \\n \\n \\n \\n', '\\n \\n \\n \\n \\n', '\\n \\n \\n \\n \\n', '\\n \\n , \\n \\n', '\\n \\n \\n \\n \\n', '\\n \\n \\n \\n ,', '\\n \\n \\n , \\n', '\\n \\n \\n \\n \\n', '\\n \\n , \\n \\n', '\\n \\n \\n \\n \\n', '\\n \\n \\n \\n \\n', '\\n \\n \\n \\n \\n', '\\n \\n \\n \\n \\n', '\\n \\n , \\n \\n']\n"
     ]
    },
    {
     "name": "stderr",
     "output_type": "stream",
     "text": [
      "\r",
      " 19%|███████████████████████▏                                                                                                | 579/2999 [3:10:46<13:10:08, 19.59s/it]"
     ]
    },
    {
     "name": "stdout",
     "output_type": "stream",
     "text": [
      "['\\n \\n \\n \\n \\n', 'gard , , , \\n', '\\n \\n \\n \\n \\n', '\\n \\n \\n \\n \\n', '\\n \\n \\n \\n \\n', '\\n , \\n \\n \\n', '\\n \\n \\n , \\n', '\\n \\n \\n , \\n', '\\n \\n \\n \\n \\n', '\\n \\n \\n \\n \\n', '\\n \\n \\n \\n \\n', '\\n \\n \\n \\n \\n', '\\n \\n \\n \\n \\n', '\\n \\n \\n \\n \\n', '\\n \\n \\n \\n \\n', '\\n \\n , \\n \\n']\n",
      "['\\n \\n \\n \\n \\n', '\\n \\n \\n \\n \\n', ', \\n \\n \\n \\n', '\\n \\n \\n \\n \\n', ', \\n ,. \\n ,', '\\n \\n \\n \\n \\n', '\\n \\n \\n \\n \\n', '\\n \\n \\n \\n \\n', '\\n \\n \\n \\n \\n', '\\n \\n \\n , \\n', ', \\n \\n ,. \\n', '\\n \\n \\n \\n \\n', '\\n \\n \\n \\n \\n', '\\n \\n \\n \\n \\n', '\\n \\n \\n \\n \\n', ', \\n ,. , \\n']\n"
     ]
    },
    {
     "name": "stderr",
     "output_type": "stream",
     "text": [
      "\r",
      " 19%|███████████████████████▏                                                                                                | 580/2999 [3:11:05<13:10:11, 19.60s/it]"
     ]
    },
    {
     "name": "stdout",
     "output_type": "stream",
     "text": [
      "['\\n \\n \\n , \\n', '\\n \\n \\n \\n \\n', '\\n \\n , \\n \\n', '\\n \\n \\n \\n ,', ' Wake , , , \\n', '\\n \\n \\n \\n \\n', '\\n \\n \\n \\n \\n', '\\n \\n \\n \\n \\n', '\\n \\n \\n \\n \\n', '\\n \\n \\n \\n \\n', ', \\n \\n ,. ,', '\\n \\n \\n , \\n', '\\n \\n \\n \\n \\n', '\\n \\n \\n \\n \\n', ' 610 , , , \\n', ', \\n \\n \\n \\n']\n",
      "['\\n \\n \\n \\n \\n', '\\n \\n \\n \\n \\n', '\\n \\n \\n \\n \\n', '\\n \\n \\n \\n \\n', '\\n \\n \\n \\n \\n', '\\n \\n \\n \\n \\n', '\\n \\n \\n \\n \\n', '\\n \\n \\n \\n \\n', '\\n \\n \\n \\n \\n', '\\n \\n \\n \\n \\n', '\\n \\n \\n \\n \\n', '\\n \\n \\n \\n \\n', '\\n \\n \\n \\n \\n', '\\n \\n \\n \\n \\n', '\\n \\n \\n \\n \\n', '\\n \\n \\n \\n \\n']\n"
     ]
    },
    {
     "name": "stderr",
     "output_type": "stream",
     "text": [
      "\r",
      " 19%|███████████████████████▏                                                                                                | 581/2999 [3:11:25<13:08:41, 19.57s/it]"
     ]
    },
    {
     "name": "stdout",
     "output_type": "stream",
     "text": [
      "31.730571746826172 0.515625\n",
      "[' drinks , , \\n \\n', '\\n \\n \\n \\n ,', '\\n \\n ,. \\n \\n', '\\n \\n \\n \\n \\n', ', \\n ,. \\n \\n', '\\n , \\n \\n \\n', '\\n \\n \\n \\n \\n', '\\n \\n \\n \\n \\n', ' essentials , , \\n \\n', '\\n \\n \\n \\n \\n', ' revamped , , \\n \\n', '\\n \\n \\n \\n \\n', '\\n \\n \\n \\n \\n', '\\n \\n \\n \\n ,', '\\n \\n \\n \\n \\n', '\\n \\n \\n \\n \\n']\n",
      "['\\n \\n \\n , \\n', '\\n \\n \\n , ,', '\\n \\n , \\n \\n', '\\n \\n \\n \\n \\n', '\\n \\n \\n , \\n', '\\n \\n , \\n \\n', '\\n \\n \\n \\n \\n', '\\n \\n \\n \\n \\n', '\\n \\n \\n \\n \\n', '\\n \\n \\n \\n \\n', ', \\n ,. \\n ,', '\\n \\n \\n \\n \\n', '\\n \\n , \\n \\n', '\\n \\n \\n , \\n', '\\n \\n \\n \\n \\n', '\\n \\n ,. \\n \\n']\n"
     ]
    },
    {
     "name": "stderr",
     "output_type": "stream",
     "text": [
      "\r",
      " 19%|███████████████████████▎                                                                                                | 582/2999 [3:11:44<13:08:15, 19.57s/it]"
     ]
    },
    {
     "name": "stdout",
     "output_type": "stream",
     "text": [
      "['\\n \\n \\n \\n \\n', '\\n \\n ,. \\n ,', 'Graph , , \\n \\n', '\\n \\n \\n \\n \\n', '\\n \\n \\n , \\n', '\\n \\n , \\n \\n', ' trunk , , \\n \\n', '\\n \\n \\n \\n \\n', '\\n \\n \\n \\n \\n', '\\n \\n \\n \\n \\n', '\\n \\n \\n \\n \\n', '\\n \\n \\n \\n \\n', '\\n \\n , \\n ,', '\\n \\n \\n \\n \\n', '\\n , \\n \\n ,', '\\n \\n \\n \\n \\n']\n",
      "['\\n \\n \\n \\n \\n', '\\n \\n \\n \\n \\n', '\\n \\n \\n , \\n', '\\n \\n \\n \\n \\n', '\\n \\n \\n \\n \\n', '\\n \\n , \\n \\n', '\\n \\n \\n \\n ,', '\\n \\n \\n , \\n', '\\n \\n \\n , \\n', '\\n \\n \\n \\n \\n', '\\n \\n \\n \\n \\n', '\\n \\n \\n \\n \\n', '\\n \\n , \\n \\n', '\\n \\n \\n \\n \\n', '\\n \\n \\n , \\n', '\\n \\n \\n , \\n']\n"
     ]
    },
    {
     "name": "stderr",
     "output_type": "stream",
     "text": [
      "\r",
      " 19%|███████████████████████▎                                                                                                | 583/2999 [3:12:04<13:08:24, 19.58s/it]"
     ]
    },
    {
     "name": "stdout",
     "output_type": "stream",
     "text": [
      "['\\n \\n \\n \\n \\n', '\\n \\n \\n \\n \\n', '\\n \\n \\n \\n \\n', '\\n , \\n \\n \\n', '\\n \\n \\n , \\n', '\\n \\n \\n \\n \\n', '\\n \\n \\n \\n \\n', '\\n \\n , \\n \\n', '\\n \\n \\n \\n \\n', '\\n \\n ,. \\n ,', '\\n \\n \\n \\n \\n', '\\n \\n \\n \\n \\n', '\\n \\n \\n \\n \\n', '\\n \\n \\n , \\n', '\\n \\n \\n , \\n', '\\n \\n \\n \\n \\n']\n",
      "['\\n \\n \\n \\n \\n', '\\n \\n \\n \\n \\n', '\\n \\n \\n \\n \\n', '\\n \\n \\n , \\n', '\\n \\n ,. \\n ,', '\\n \\n \\n \\n \\n', '\\n \\n , \\n \\n', '\\n \\n \\n \\n ,', '\\n \\n \\n \\n \\n', '\\n \\n \\n \\n \\n', '\\n \\n \\n \\n \\n', '\\n \\n \\n \\n \\n', '\\n \\n \\n \\n \\n', '\\n \\n , \\n \\n', '\\n \\n \\n \\n \\n', '\\n \\n \\n \\n \\n']\n"
     ]
    },
    {
     "name": "stderr",
     "output_type": "stream",
     "text": [
      "\r",
      " 19%|███████████████████████▎                                                                                                | 584/2999 [3:12:24<13:08:17, 19.58s/it]"
     ]
    },
    {
     "name": "stdout",
     "output_type": "stream",
     "text": [
      "['\\n \\n \\n \\n \\n', '\\n \\n \\n \\n \\n', '\\n \\n , \\n \\n', '\\n \\n \\n , \\n', '\\n \\n \\n \\n \\n', '\\n \\n \\n \\n \\n', '\\n \\n \\n , \\n', '\\n \\n , \\n \\n', '\\n \\n \\n \\n \\n', '\\n \\n \\n \\n \\n', '\\n \\n \\n \\n \\n', '\\n \\n , \\n \\n', '\\n , \\n \\n \\n', '\\n \\n \\n \\n \\n', '\\n \\n \\n \\n \\n', '\\n \\n \\n , \\n']\n",
      "['\\n \\n \\n \\n \\n', '\\n \\n \\n \\n \\n', ', \\n \\n \\n \\n', '\\n \\n \\n \\n \\n', '\\n \\n \\n \\n \\n', '\\n \\n \\n \\n \\n', '\\n \\n \\n \\n \\n', '\\n \\n \\n , \\n', '\\n \\n \\n \\n \\n', '\\n \\n \\n \\n \\n', '\\n \\n \\n , \\n', '\\n \\n \\n , \\n', '\\n , \\n \\n ,', '\\n \\n \\n , \\n', '\\n , \\n \\n \\n', '\\n \\n \\n \\n \\n']\n"
     ]
    },
    {
     "name": "stderr",
     "output_type": "stream",
     "text": [
      "\r",
      " 20%|███████████████████████▍                                                                                                | 585/2999 [3:12:43<13:07:29, 19.57s/it]"
     ]
    },
    {
     "name": "stdout",
     "output_type": "stream",
     "text": [
      "['\\n \\n \\n \\n \\n', '\\n \\n \\n , \\n', '\\n \\n \\n \\n \\n', ', \\n \\n \\n \\n', '\\n \\n \\n \\n \\n', '\\n \\n \\n \\n ,', '\\n \\n \\n , \\n', '\\n \\n \\n ,. ,', '\\n \\n \\n \\n \\n', '\\n \\n \\n \\n \\n', 'YN , , , \\n', ' Tiffany , , , \\n', '\\n \\n \\n \\n \\n', '\\n \\n \\n \\n \\n', '\\n \\n \\n \\n \\n', '\\n \\n , \\n \\n']\n",
      "['\\n \\n \\n \\n \\n', '\\n \\n \\n \\n \\n', '\\n \\n \\n , \\n', '\\n \\n \\n \\n \\n', '\\n \\n \\n \\n \\n', '\\n \\n \\n \\n \\n', '\\n \\n \\n , \\n', '\\n \\n \\n \\n \\n', '\\n \\n \\n \\n \\n', '\\n \\n \\n , \\n', '\\n \\n \\n \\n \\n', '\\n \\n , \\n \\n', '\\n \\n \\n \\n \\n', '\\n \\n \\n \\n \\n', '\\n \\n \\n \\n \\n', '\\n \\n \\n \\n \\n']\n"
     ]
    },
    {
     "name": "stderr",
     "output_type": "stream",
     "text": [
      "\r",
      " 20%|███████████████████████▍                                                                                                | 586/2999 [3:13:03<13:07:08, 19.57s/it]"
     ]
    },
    {
     "name": "stdout",
     "output_type": "stream",
     "text": [
      "['\\n \\n \\n \\n ,.', 'anos , , \\n \\n', '\\n , \\n \\n \\n', '\\n \\n \\n \\n \\n', '\\n \\n \\n \\n \\n', '\\n \\n \\n \\n ,', '\\n \\n , \\n \\n', ' paraly , , , \\n', ' Hunts , , , \\n', ' Brom , , , \\n', '\\n \\n \\n \\n \\n', '\\n \\n \\n \\n \\n', '\\n \\n \\n \\n \\n', '\\n \\n , \\n \\n', ' skeptics , , \\n ,', '\\n \\n \\n \\n \\n']\n",
      "['\\n \\n \\n ,. \\n', '\\n \\n \\n \\n ,', '\\n \\n \\n \\n \\n', '\\n \\n \\n \\n ,', '\\n \\n \\n \\n \\n', '\\n , \\n , \\n', '\\n \\n \\n ,. \\n', '\\n \\n \\n \\n \\n', '\\n \\n \\n \\n \\n', ', \\n \\n ,. \\n', '\\n \\n , \\n \\n', '\\n \\n \\n \\n \\n', '\\n \\n , \\n \\n', '\\n \\n , \\n \\n', '\\n \\n \\n \\n \\n', '\\n \\n \\n \\n ,.']\n"
     ]
    },
    {
     "name": "stderr",
     "output_type": "stream",
     "text": [
      "\r",
      " 20%|███████████████████████▍                                                                                                | 587/2999 [3:13:22<13:07:00, 19.58s/it]"
     ]
    },
    {
     "name": "stdout",
     "output_type": "stream",
     "text": [
      "['\\n \\n \\n \\n \\n', '\\n \\n \\n \\n \\n', '\\n \\n \\n \\n \\n', '\\n \\n \\n \\n \\n', '\\n \\n \\n \\n \\n', '\\n \\n \\n \\n \\n', '\\n \\n \\n , \\n', '\\n \\n \\n \\n \\n', '\\n \\n \\n \\n \\n', '\\n \\n , \\n \\n', ', \\n ,. \\n ,', '\\n \\n , \\n \\n', '\\n \\n \\n \\n \\n', '\\n \\n \\n \\n \\n', '\\n \\n \\n \\n \\n', '\\n \\n \\n \\n ,.']\n",
      "['\\n \\n \\n \\n \\n', '\\n \\n \\n \\n \\n', '\\n \\n \\n \\n \\n', '\\n , \\n \\n \\n', '\\n \\n \\n \\n \\n', '\\n \\n \\n \\n \\n', '\\n \\n ,. \\n ,', '\\n \\n \\n , \\n', '\\n \\n \\n \\n \\n', '\\n \\n ,. \\n ,', '\\n \\n \\n \\n \\n', '\\n \\n \\n \\n \\n', '\\n \\n , \\n \\n', '\\n \\n \\n \\n \\n', '\\n \\n \\n , \\n', '\\n \\n , \\n \\n']\n"
     ]
    },
    {
     "name": "stderr",
     "output_type": "stream",
     "text": [
      "\r",
      " 20%|███████████████████████▌                                                                                                | 588/2999 [3:13:42<13:07:28, 19.60s/it]"
     ]
    },
    {
     "name": "stdout",
     "output_type": "stream",
     "text": [
      "[' DOC , , \\n \\n', '\\n \\n \\n \\n \\n', ' asteroids , , , \\n', '\\n \\n \\n \\n \\n', ', \\n \\n \\n ,.', '\\n \\n , \\n \\n', '\\n \\n \\n \\n ,', ', \\n \\n \\n \\n', '\\n \\n \\n \\n \\n', ', \\n \\n \\n \\n', '\\n \\n \\n , \\n', ' consuming , , \\n ,.', '\\n \\n , \\n \\n', ', \\n ,. \\n ,', '\\n \\n \\n \\n \\n', '\\n \\n \\n \\n \\n']\n",
      "['\\n \\n \\n \\n \\n', '\\n \\n \\n \\n \\n', '\\n \\n \\n , \\n', '\\n , \\n \\n \\n', '\\n \\n \\n \\n ,.', '\\n \\n \\n \\n \\n', '\\n \\n \\n \\n \\n', '\\n \\n \\n , \\n', '\\n \\n \\n \\n \\n', '\\n \\n \\n \\n \\n', '\\n \\n \\n \\n \\n', '\\n \\n \\n \\n \\n', '\\n \\n \\n \\n \\n', '\\n \\n , \\n \\n', '\\n ,. \\n , \\n', '\\n \\n \\n \\n \\n']\n"
     ]
    },
    {
     "name": "stderr",
     "output_type": "stream",
     "text": [
      "\r",
      " 20%|███████████████████████▌                                                                                                | 589/2999 [3:14:01<13:05:52, 19.57s/it]"
     ]
    },
    {
     "name": "stdout",
     "output_type": "stream",
     "text": [
      "['\\n \\n \\n \\n \\n', '\\n \\n \\n \\n \\n', '\\n \\n \\n , \\n', '\\n \\n , \\n \\n', '\\n \\n \\n \\n \\n', '\\n \\n , \\n \\n', '\\n \\n \\n \\n \\n', '\\n , \\n \\n ,', '\\n \\n \\n , \\n', '\\n \\n \\n \\n \\n', '\\n \\n \\n , \\n', '\\n \\n , \\n \\n', '\\n \\n , \\n \\n', '\\n \\n \\n \\n ,', ', \\n ,. \\n ,', '\\n \\n \\n \\n \\n']\n",
      "['\\n \\n \\n \\n \\n', '\\n \\n , \\n \\n', ', \\n \\n \\n \\n', '\\n \\n \\n \\n ,', '\\n \\n \\n \\n \\n', '\\n \\n , \\n \\n', '\\n \\n \\n \\n \\n', '\\n \\n \\n \\n \\n', '\\n \\n \\n \\n ,', '\\n \\n \\n \\n \\n', '\\n \\n \\n \\n \\n', '\\n \\n \\n , \\n', '\\n \\n \\n \\n \\n', '\\n \\n \\n \\n \\n', '\\n \\n \\n \\n \\n', '\\n , \\n \\n \\n']\n"
     ]
    },
    {
     "name": "stderr",
     "output_type": "stream",
     "text": [
      "\r",
      " 20%|███████████████████████▌                                                                                                | 590/2999 [3:14:21<13:06:00, 19.58s/it]"
     ]
    },
    {
     "name": "stdout",
     "output_type": "stream",
     "text": [
      "['\\n \\n \\n \\n ,.', '\\n \\n , \\n \\n', '\\n \\n \\n \\n \\n', '\\n \\n \\n \\n \\n', '\\n \\n \\n \\n \\n', '\\n \\n \\n \\n \\n', '\\n \\n \\n \\n \\n', '\\n \\n ,. \\n ,', '\\n \\n \\n \\n ,', '\\n \\n \\n \\n \\n', '\\n \\n \\n \\n \\n', '\\n \\n , \\n \\n', '\\n \\n \\n , \\n', '\\n \\n \\n \\n ,', ', \\n ,. , \\n', '\\n \\n \\n \\n \\n']\n",
      "['\\n \\n , \\n \\n', ', \\n \\n ,. \\n', '\\n \\n \\n \\n \\n', '\\n \\n \\n \\n \\n', '\\n \\n \\n \\n ,', '\\n \\n , \\n \\n', '\\n \\n , \\n ,', '\\n \\n \\n \\n \\n', '\\n \\n \\n \\n \\n', '\\n \\n \\n \\n \\n', '\\n \\n \\n \\n \\n', '\\n \\n , \\n \\n', '\\n \\n \\n ,. \\n', '\\n , \\n \\n ,', '\\n \\n \\n \\n \\n', '\\n \\n \\n \\n \\n']\n"
     ]
    },
    {
     "name": "stderr",
     "output_type": "stream",
     "text": [
      "\r",
      " 20%|███████████████████████▋                                                                                                | 591/2999 [3:14:41<13:05:14, 19.57s/it]"
     ]
    },
    {
     "name": "stdout",
     "output_type": "stream",
     "text": [
      "25.710168838500977 0.53125\n",
      "['\\n \\n \\n \\n \\n', ' Blade , , , \\n', '\\n \\n \\n \\n \\n', '\\n \\n \\n \\n \\n', '\\n \\n \\n \\n \\n', '\\n \\n , \\n \\n', '\\n \\n \\n \\n \\n', '\\n \\n \\n \\n \\n', '\\n \\n \\n \\n \\n', '\\n \\n \\n \\n \\n', '\\n \\n , \\n \\n', ' council , , , \\n', '\\n \\n \\n \\n \\n', '\\n \\n \\n \\n ,', '\\n \\n \\n \\n \\n', ', \\n \\n ,. \\n']\n",
      "['\\n \\n \\n \\n \\n', '\\n \\n \\n \\n \\n', '\\n \\n \\n \\n \\n', '\\n , \\n \\n \\n', '\\n \\n \\n \\n \\n', '\\n \\n \\n \\n \\n', '\\n \\n \\n \\n \\n', ', \\n ,. \\n \\n', '\\n \\n \\n \\n \\n', '\\n \\n \\n \\n \\n', '\\n \\n \\n , \\n', '\\n \\n \\n \\n \\n', '\\n \\n \\n \\n \\n', '\\n ,. \\n \\n \\n', '\\n \\n \\n \\n \\n', '\\n , \\n \\n \\n']\n"
     ]
    },
    {
     "name": "stderr",
     "output_type": "stream",
     "text": [
      "\r",
      " 20%|███████████████████████▋                                                                                                | 592/2999 [3:15:00<13:05:05, 19.57s/it]"
     ]
    },
    {
     "name": "stdout",
     "output_type": "stream",
     "text": [
      "['\\n \\n \\n \\n \\n', '\\n \\n \\n \\n \\n', ' activation , , \\n \\n', '\\n \\n \\n \\n \\n', '\\n \\n \\n \\n \\n', '\\n \\n \\n \\n \\n', ' Ut , , , \\n', '\\n \\n \\n \\n \\n', '\\n \\n , \\n \\n', ' fastest , , , \\n', '\\n \\n \\n \\n \\n', '\\n \\n \\n \\n \\n', '\\n \\n \\n \\n ,.', ', \\n \\n \\n ,', '\\n \\n \\n \\n ,', '\\n \\n , \\n \\n']\n",
      "['\\n \\n \\n , \\n', '\\n \\n \\n \\n \\n', ', \\n \\n \\n \\n', '\\n \\n \\n \\n \\n', '\\n \\n \\n \\n \\n', '\\n , \\n \\n \\n', '\\n \\n \\n \\n \\n', '\\n \\n \\n \\n \\n', '\\n \\n \\n \\n \\n', '\\n \\n \\n \\n \\n', '\\n \\n \\n \\n ,', '\\n \\n \\n , \\n', ', \\n ,. \\n ,', '\\n \\n ,. , \\n', '\\n \\n \\n ,. \\n', '\\n \\n \\n , \\n']\n"
     ]
    },
    {
     "name": "stderr",
     "output_type": "stream",
     "text": [
      "\r",
      " 20%|███████████████████████▋                                                                                                | 593/2999 [3:15:20<13:05:14, 19.58s/it]"
     ]
    },
    {
     "name": "stdout",
     "output_type": "stream",
     "text": [
      "['\\n \\n \\n \\n \\n', '\\n \\n \\n \\n \\n', '\\n \\n \\n \\n \\n', '\\n , \\n \\n ,', '\\n \\n \\n , \\n', '\\n \\n , \\n \\n', '\\n \\n \\n \\n \\n', '\\n \\n ,. \\n \\n', '\\n \\n \\n \\n \\n', '\\n \\n ,. \\n \\n', '\\n \\n , \\n \\n', '\\n \\n \\n \\n \\n', '\\n \\n \\n \\n \\n', '\\n \\n \\n \\n \\n', ', \\n \\n ,. ,', '\\n \\n \\n \\n \\n']\n",
      "['\\n \\n \\n , \\n', '\\n \\n \\n , \\n', '\\n , \\n \\n \\n', '\\n \\n \\n \\n \\n', ', \\n \\n \\n \\n', '\\n \\n , \\n \\n', '\\n , \\n \\n \\n', '\\n \\n \\n \\n \\n', '\\n \\n \\n , \\n', '\\n \\n \\n \\n \\n', '\\n \\n \\n \\n ,', '\\n \\n , \\n \\n', '\\n \\n \\n \\n \\n', '\\n \\n \\n , \\n', '\\n \\n \\n \\n \\n', '\\n \\n \\n \\n \\n']\n"
     ]
    },
    {
     "name": "stderr",
     "output_type": "stream",
     "text": [
      "\r",
      " 20%|███████████████████████▊                                                                                                | 594/2999 [3:15:39<13:05:39, 19.60s/it]"
     ]
    },
    {
     "name": "stdout",
     "output_type": "stream",
     "text": [
      "['\\n \\n \\n \\n \\n', '\\n \\n \\n \\n ,', '\\n \\n \\n \\n ,', '\\n \\n \\n \\n ,', '\\n \\n \\n \\n \\n', '\\n \\n , \\n \\n', '\\n \\n \\n , \\n', ' surpassed , , \\n \\n', '\\n \\n \\n \\n \\n', '\\n \\n , \\n ,', '\\n \\n \\n \\n \\n', '\\n \\n \\n \\n \\n', '\\n \\n \\n , \\n', '\\n \\n , \\n \\n', '\\n \\n \\n , \\n', '\\n \\n \\n , \\n']\n",
      "['\\n \\n \\n \\n \\n', '\\n \\n \\n , \\n', '\\n \\n \\n , \\n', '\\n \\n \\n \\n \\n', '\\n \\n \\n \\n \\n', '\\n \\n \\n \\n \\n', '\\n \\n \\n \\n ,', '\\n \\n \\n , \\n', '\\n \\n \\n , \\n', '\\n \\n \\n \\n \\n', '\\n \\n , \\n \\n', '\\n \\n , \\n \\n', '\\n \\n \\n , \\n', '\\n \\n , \\n \\n', '\\n \\n \\n \\n \\n', '\\n \\n ,. , \\n']\n"
     ]
    },
    {
     "name": "stderr",
     "output_type": "stream",
     "text": [
      "\r",
      " 20%|███████████████████████▊                                                                                                | 595/2999 [3:15:59<13:04:20, 19.58s/it]"
     ]
    },
    {
     "name": "stdout",
     "output_type": "stream",
     "text": [
      "['\\n \\n \\n \\n \\n', '\\n \\n \\n , \\n', '\\n \\n \\n \\n \\n', '\\n \\n \\n \\n \\n', '\\n \\n \\n , \\n', '\\n \\n \\n \\n \\n', ', \\n \\n \\n \\n', '\\n \\n \\n \\n \\n', '\\n \\n \\n \\n \\n', '\\n \\n \\n \\n \\n', '\\n \\n \\n \\n \\n', '\\n \\n \\n \\n \\n', '\\n \\n \\n \\n \\n', '\\n \\n \\n \\n \\n', '\\n \\n \\n \\n \\n', ', \\n ,. , \\n']\n",
      "['\\n \\n \\n \\n \\n', '\\n \\n \\n \\n \\n', '\\n \\n \\n \\n \\n', '\\n \\n , , \\n', '\\n \\n \\n \\n \\n', '\\n \\n \\n \\n \\n', '\\n \\n \\n \\n \\n', '\\n \\n \\n \\n \\n', '\\n \\n ,. , \\n', ', \\n ,. \\n \\n', '\\n \\n \\n , \\n', '\\n \\n \\n \\n \\n', '\\n \\n \\n \\n \\n', '\\n \\n \\n \\n \\n', '\\n \\n \\n \\n \\n', '\\n , \\n \\n \\n']\n"
     ]
    },
    {
     "name": "stderr",
     "output_type": "stream",
     "text": [
      "\r",
      " 20%|███████████████████████▊                                                                                                | 596/2999 [3:16:19<13:04:44, 19.59s/it]"
     ]
    },
    {
     "name": "stdout",
     "output_type": "stream",
     "text": [
      "[' Zot , , , \\n', '\\n \\n \\n , \\n', '\\n \\n \\n \\n \\n', '\\n , \\n \\n \\n', ', \\n ,. , \\n', ' Profession , , , \\n', '\\n \\n , \\n \\n', '\\n \\n \\n \\n \\n', '\\n , \\n , \\n', ' Display , , \\n \\n', '\\n \\n ,. \\n \\n', '\\n \\n \\n \\n \\n', '\\n \\n \\n , \\n', '\\n \\n \\n \\n \\n', '\\n \\n \\n \\n \\n', ', \\n \\n \\n \\n']\n",
      "['\\n \\n \\n \\n \\n', '\\n ,. \\n , \\n', ', \\n \\n \\n \\n', '\\n , \\n \\n \\n', '\\n \\n \\n \\n \\n', '\\n \\n , \\n \\n', '\\n \\n \\n \\n \\n', '\\n , \\n \\n ,', '\\n \\n \\n \\n ,', ', \\n ,. , \\n', '\\n \\n \\n \\n \\n', '\\n \\n , \\n \\n', '\\n \\n , \\n \\n', '\\n \\n \\n , \\n', ', \\n \\n ,. \\n', '\\n \\n \\n \\n \\n']\n"
     ]
    },
    {
     "name": "stderr",
     "output_type": "stream",
     "text": [
      "\r",
      " 20%|███████████████████████▉                                                                                                | 597/2999 [3:16:38<13:04:35, 19.60s/it]"
     ]
    },
    {
     "name": "stdout",
     "output_type": "stream",
     "text": [
      "[' Anth , , , ,', '\\n \\n \\n \\n \\n', '\\n \\n \\n \\n \\n', '\\n \\n \\n \\n \\n', '\\n \\n ,. \\n ,', '\\n , \\n \\n \\n', '\\n \\n , \\n \\n', '\\n \\n , \\n \\n', '\\n \\n \\n \\n \\n', '\\n \\n , \\n \\n', '\\n \\n \\n \\n \\n', '\\n \\n , \\n \\n', '\\n \\n \\n \\n \\n', 'Mah , , , \\n', '\\n \\n \\n \\n \\n', '\\n \\n \\n \\n \\n']\n",
      "['\\n \\n \\n \\n \\n', '\\n \\n \\n \\n ,.', '\\n \\n , \\n \\n', '\\n \\n , \\n \\n', '\\n ,. \\n \\n ,', '\\n \\n \\n \\n \\n', '\\n \\n \\n , \\n', '\\n \\n \\n \\n \\n', '\\n \\n \\n \\n \\n', '\\n \\n \\n \\n \\n', '\\n \\n \\n \\n \\n', '\\n \\n \\n \\n \\n', '\\n \\n \\n \\n \\n', '\\n \\n \\n , \\n', '\\n \\n \\n \\n \\n', '\\n \\n \\n \\n ,.']\n"
     ]
    },
    {
     "name": "stderr",
     "output_type": "stream",
     "text": [
      "\r",
      " 20%|███████████████████████▉                                                                                                | 598/2999 [3:16:58<13:03:48, 19.59s/it]"
     ]
    },
    {
     "name": "stdout",
     "output_type": "stream",
     "text": [
      "['Sold , , \\n \\n', '\\n \\n , \\n \\n', '\\n \\n \\n \\n \\n', '\\n \\n \\n \\n \\n', '\\n \\n \\n ,. \\n', '\\n \\n , \\n \\n', 'ventures , , \\n \\n', '\\n \\n \\n \\n \\n', '\\n \\n \\n \\n ,.', '\\n \\n , \\n \\n', ', \\n ,. , \\n', '\\n \\n , \\n \\n', '\\n \\n , \\n \\n', '\\n \\n \\n \\n \\n', ', \\n ,. \\n ,', '\\n , \\n \\n \\n']\n",
      "['\\n \\n \\n , \\n', '\\n \\n \\n , \\n', '\\n \\n \\n \\n \\n', '\\n \\n \\n \\n \\n', '\\n \\n , \\n \\n', '\\n \\n \\n \\n ,', '\\n \\n \\n , \\n', '\\n \\n \\n \\n \\n', '\\n \\n \\n \\n \\n', '\\n \\n \\n \\n \\n', '\\n , \\n \\n \\n', '\\n \\n , \\n \\n', '\\n \\n , \\n \\n', '\\n \\n \\n \\n \\n', ', \\n ,. \\n ,', '\\n , \\n \\n \\n']\n"
     ]
    },
    {
     "name": "stderr",
     "output_type": "stream",
     "text": [
      "\r",
      " 20%|███████████████████████▉                                                                                                | 599/2999 [3:17:17<13:02:46, 19.57s/it]"
     ]
    },
    {
     "name": "stdout",
     "output_type": "stream",
     "text": [
      "[' fec , , , ,', '\\n \\n \\n \\n \\n', '\\n \\n \\n \\n \\n', '\\n \\n \\n \\n \\n', '\\n \\n \\n \\n ,.', ' Jackson , , , \\n', '\\n \\n \\n \\n ,', '\\n \\n \\n \\n ,', '\\n \\n \\n \\n \\n', '\\n \\n \\n \\n \\n', '\\n \\n \\n , \\n', '\\n \\n \\n \\n \\n', ', , \\n ,. \\n', '\\n \\n \\n \\n \\n', ', \\n ,. \\n ,', '\\n \\n \\n , \\n']\n",
      "['\\n \\n \\n , \\n', '\\n \\n \\n \\n \\n', '\\n \\n \\n \\n \\n', '\\n \\n \\n \\n \\n', '\\n \\n \\n \\n \\n', '\\n \\n , \\n \\n', '\\n \\n \\n \\n \\n', '\\n \\n \\n \\n \\n', '\\n \\n \\n \\n \\n', '\\n \\n \\n \\n \\n', '\\n \\n \\n , \\n', '\\n \\n , \\n \\n', '\\n \\n \\n \\n \\n', '\\n \\n \\n \\n \\n', '\\n \\n \\n \\n ,.', '\\n \\n \\n , \\n']\n"
     ]
    },
    {
     "name": "stderr",
     "output_type": "stream",
     "text": [
      "\r",
      " 20%|████████████████████████                                                                                                | 600/2999 [3:17:37<13:02:47, 19.58s/it]"
     ]
    },
    {
     "name": "stdout",
     "output_type": "stream",
     "text": [
      "['\\n \\n \\n \\n \\n', '\\n \\n \\n \\n \\n', '\\n \\n ,. \\n ,', '\\n , \\n \\n ,', '\\n \\n \\n \\n \\n', '\\n \\n \\n \\n ,', ' Kelly , , , ,', ', \\n \\n \\n \\n', '\\n \\n \\n \\n ,', '\\n \\n \\n \\n \\n', '\\n \\n \\n \\n \\n', '\\n ,. \\n , \\n', '\\n , \\n \\n \\n', '\\n ,. , \\n ,.', '\\n \\n \\n \\n \\n', '\\n \\n \\n \\n \\n']\n",
      "['\\n \\n ,. , \\n', '\\n \\n ,. \\n ,', '\\n \\n \\n , \\n', '\\n \\n \\n , \\n', '\\n \\n \\n , \\n', '\\n \\n \\n \\n \\n', '\\n \\n , \\n ,', ', \\n \\n \\n \\n', '\\n \\n \\n \\n \\n', '\\n \\n \\n \\n \\n', '\\n \\n \\n \\n \\n', '\\n \\n \\n \\n \\n', '\\n , \\n \\n \\n', '\\n \\n \\n \\n ,', ', \\n ,. \\n \\n', '\\n \\n \\n \\n ,']\n"
     ]
    },
    {
     "name": "stderr",
     "output_type": "stream",
     "text": [
      "\r",
      " 20%|████████████████████████                                                                                                | 601/2999 [3:17:56<13:02:37, 19.58s/it]"
     ]
    },
    {
     "name": "stdout",
     "output_type": "stream",
     "text": [
      "32.236473083496094 0.5390625\n",
      "[' reiterated , , \\n \\n', '\\n \\n ,. , \\n', '\\n \\n \\n \\n \\n', '\\n \\n \\n \\n \\n', '\\n \\n ,. \\n ,', '\\n \\n \\n \\n \\n', ' foul , , , \\n', '\\n \\n \\n \\n ,.', ', \\n ,. , \\n', '\\n \\n \\n \\n \\n', ', \\n ,. , \\n', '\\n , \\n \\n \\n', '\\n \\n , \\n \\n', '\\n \\n \\n ,. \\n', '\\n \\n \\n \\n \\n', ', \\n \\n \\n \\n']\n",
      "['\\n \\n ,. , \\n', '\\n \\n ,. \\n ,', '\\n \\n \\n \\n \\n', '\\n \\n ,. , \\n', '\\n \\n \\n \\n \\n', '\\n \\n , \\n \\n', '\\n \\n \\n \\n ,.', '\\n \\n \\n , \\n', ', \\n ,. \\n ,', '\\n \\n ,. \\n ,', ', \\n ,. \\n ,', '\\n , \\n \\n ,', '\\n \\n \\n \\n \\n', '\\n , \\n \\n ,', '\\n \\n \\n \\n \\n', '\\n \\n \\n \\n \\n']\n"
     ]
    },
    {
     "name": "stderr",
     "output_type": "stream",
     "text": [
      "\r",
      " 20%|████████████████████████                                                                                                | 602/2999 [3:18:16<13:02:28, 19.59s/it]"
     ]
    },
    {
     "name": "stdout",
     "output_type": "stream",
     "text": [
      "['\\n \\n \\n , \\n', '\\n \\n \\n \\n \\n', '\\n \\n \\n \\n \\n', '\\n \\n \\n , \\n', '\\n \\n \\n \\n \\n', '\\n \\n \\n , ,', ', \\n \\n \\n \\n', '\\n \\n , \\n \\n', '\\n \\n \\n , \\n', '\\n , \\n \\n \\n', '\\n \\n , \\n \\n', '\\n \\n \\n \\n \\n', '\\n , \\n , ,', 'Gab , , , \\n', '\\n \\n \\n \\n \\n', '\\n \\n \\n \\n \\n']\n",
      "['\\n \\n \\n ,. ,', '\\n \\n \\n \\n \\n', '\\n \\n , \\n \\n', '\\n \\n \\n , \\n', '\\n \\n \\n \\n \\n', '\\n , \\n \\n \\n', ', \\n ,. , \\n', '\\n \\n \\n \\n ,.', '\\n \\n \\n \\n \\n', '\\n \\n \\n \\n \\n', '\\n \\n \\n , \\n', '\\n \\n \\n \\n ,', '\\n \\n \\n , \\n', '\\n \\n \\n \\n \\n', '\\n \\n \\n \\n \\n', '\\n , \\n \\n ,']\n"
     ]
    },
    {
     "name": "stderr",
     "output_type": "stream",
     "text": [
      "\r",
      " 20%|████████████████████████▏                                                                                               | 603/2999 [3:18:36<13:01:25, 19.57s/it]"
     ]
    },
    {
     "name": "stdout",
     "output_type": "stream",
     "text": [
      "['\\n \\n \\n \\n \\n', '\\n \\n \\n \\n \\n', ' Atomic , , , \\n', '\\n \\n \\n , \\n', '\\n \\n \\n \\n \\n', '\\n , \\n \\n \\n', ', \\n ,. , \\n', 'grad , , , \\n', '\\n \\n \\n , \\n', '\\n \\n \\n \\n \\n', ', \\n ,. , \\n', '\\n , \\n \\n \\n', '\\n \\n , \\n \\n', '\\n \\n \\n , \\n', '\\n \\n \\n \\n \\n', ', \\n ,. , \\n']\n",
      "['\\n \\n \\n \\n \\n', '\\n \\n \\n \\n \\n', '\\n \\n \\n \\n \\n', '\\n , \\n \\n \\n', '\\n ,. \\n \\n ,', '\\n \\n \\n \\n \\n', ', \\n \\n ,. ,', '\\n \\n \\n \\n \\n', '\\n \\n , \\n \\n', '\\n \\n \\n \\n \\n', '\\n \\n , \\n \\n', '\\n \\n , \\n \\n', ', , \\n \\n \\n', '\\n \\n \\n \\n \\n', '\\n \\n \\n , \\n', '\\n \\n \\n , \\n']\n"
     ]
    },
    {
     "name": "stderr",
     "output_type": "stream",
     "text": [
      "\r",
      " 20%|████████████████████████▏                                                                                               | 604/2999 [3:18:55<12:59:49, 19.54s/it]"
     ]
    },
    {
     "name": "stdout",
     "output_type": "stream",
     "text": [
      "[' Hezbollah , , , \\n', '\\n \\n \\n , \\n', '\\n \\n \\n \\n \\n', '\\n \\n \\n \\n \\n', '\\n \\n \\n \\n \\n', 'peed , , \\n \\n', ' nerves , , , \\n', ', \\n ,. , \\n', '\\n \\n \\n \\n ,', '\\n \\n \\n \\n \\n', '\\n \\n \\n \\n \\n', '\\n \\n \\n \\n \\n', '\\n \\n , \\n \\n', '\\n \\n \\n \\n \\n', '\\n \\n ,. \\n \\n', '\\n \\n \\n \\n \\n']\n",
      "['\\n \\n \\n , \\n', '\\n \\n , \\n \\n', '\\n \\n \\n \\n \\n', '\\n \\n \\n , \\n', '\\n \\n \\n \\n \\n', '\\n , \\n \\n \\n', '\\n \\n \\n \\n \\n', ', \\n \\n ,. ,', '\\n \\n \\n \\n \\n', '\\n \\n \\n , \\n', '\\n , \\n \\n ,', '\\n \\n , \\n \\n', '\\n \\n \\n \\n ,', '\\n \\n \\n , \\n', ', \\n \\n , \\n', ', \\n \\n \\n \\n']\n"
     ]
    },
    {
     "name": "stderr",
     "output_type": "stream",
     "text": [
      "\r",
      " 20%|████████████████████████▏                                                                                               | 605/2999 [3:19:15<12:59:44, 19.54s/it]"
     ]
    },
    {
     "name": "stdout",
     "output_type": "stream",
     "text": [
      "['\\n \\n \\n \\n \\n', '\\n \\n \\n \\n \\n', '\\n \\n \\n \\n \\n', '\\n \\n \\n \\n \\n', '\\n \\n \\n , \\n', 'created , , \\n \\n', '\\n \\n \\n , \\n', '\\n \\n \\n \\n \\n', '\\n \\n \\n \\n ,.', ' cells , , \\n \\n', '\\n , \\n \\n \\n', '\\n \\n , \\n \\n', '\\n , \\n \\n \\n', '\\n \\n \\n \\n \\n', ' measures , , , \\n', ', \\n ,. , \\n']\n",
      "['\\n \\n \\n , \\n', '\\n \\n \\n \\n \\n', '\\n \\n ,. , \\n', '\\n , \\n \\n \\n', '\\n \\n \\n \\n \\n', '\\n \\n \\n \\n \\n', '\\n \\n ,. \\n \\n', ', \\n \\n ,. ,', '\\n \\n \\n \\n \\n', '\\n \\n \\n \\n \\n', '\\n \\n \\n \\n ,', '\\n \\n , \\n \\n', '\\n \\n \\n , \\n', ', \\n ,. , \\n', '\\n \\n \\n \\n \\n', '\\n \\n \\n \\n \\n']\n"
     ]
    },
    {
     "name": "stderr",
     "output_type": "stream",
     "text": [
      "\r",
      " 20%|████████████████████████▏                                                                                               | 606/2999 [3:19:34<12:58:59, 19.53s/it]"
     ]
    },
    {
     "name": "stdout",
     "output_type": "stream",
     "text": [
      "[' Chargers , , , \\n', 'orange , , , \\n', '\\n , \\n \\n \\n', '\\n , \\n \\n \\n', '\\n \\n ,. , \\n', '\\n \\n , \\n \\n', '\\n \\n \\n \\n ,', '\\n , \\n \\n \\n', '\\n \\n \\n , \\n', 'thumbnails , \\n \\n \\n', '\\n \\n \\n \\n \\n', '\\n \\n \\n \\n \\n', '\\n \\n \\n \\n \\n', '\\n \\n \\n \\n \\n', '\\n \\n \\n \\n ,.', '\\n \\n ,. , \\n']\n",
      "['\\n , \\n \\n \\n', '\\n ,. \\n , \\n', '\\n \\n \\n \\n \\n', '\\n \\n \\n \\n \\n', '\\n \\n \\n \\n \\n', '\\n \\n \\n \\n ,', '\\n \\n , \\n \\n', '\\n \\n \\n \\n ,', '\\n \\n \\n \\n \\n', '\\n \\n \\n \\n \\n', '\\n \\n \\n \\n ,', '\\n \\n \\n \\n \\n', '\\n \\n \\n \\n ,', '\\n \\n \\n , \\n', '\\n \\n \\n , \\n', '\\n \\n \\n \\n ,']\n"
     ]
    },
    {
     "name": "stderr",
     "output_type": "stream",
     "text": [
      "\r",
      " 20%|████████████████████████▎                                                                                               | 607/2999 [3:19:54<12:58:16, 19.52s/it]"
     ]
    },
    {
     "name": "stdout",
     "output_type": "stream",
     "text": [
      "['\\n \\n \\n ,. ,', '515 , , \\n \\n', ' observer , , \\n \\n', '\\n \\n \\n \\n \\n', 'Fal , , , \\n', '\\n \\n , \\n \\n', '\\n \\n \\n \\n \\n', ', \\n ,. , \\n', '\\n \\n \\n \\n \\n', 'itto , \\n \\n \\n', '\\n \\n \\n \\n \\n', '\\n \\n , \\n \\n', '\\n \\n \\n \\n \\n', '\\n \\n \\n \\n ,', '\\n \\n \\n \\n \\n', ' obsessed , , \\n \\n']\n",
      "['\\n \\n \\n \\n \\n', '\\n \\n \\n \\n \\n', '\\n \\n , \\n \\n', '\\n \\n \\n \\n \\n', '\\n \\n \\n ,. \\n', '\\n \\n , \\n ,', '\\n \\n \\n \\n \\n', '\\n \\n ,. \\n \\n', '\\n \\n \\n \\n \\n', '\\n , \\n \\n \\n', '\\n \\n \\n \\n \\n', '\\n \\n \\n \\n ,.', '\\n \\n , \\n \\n', '\\n \\n \\n \\n \\n', '\\n \\n \\n \\n \\n', '\\n , \\n \\n \\n']\n"
     ]
    },
    {
     "name": "stderr",
     "output_type": "stream",
     "text": [
      "\r",
      " 20%|████████████████████████▎                                                                                               | 608/2999 [3:20:13<12:58:22, 19.53s/it]"
     ]
    },
    {
     "name": "stdout",
     "output_type": "stream",
     "text": [
      "['\\n \\n \\n \\n \\n', '\\n \\n \\n , \\n', '\\n \\n \\n \\n \\n', '\\n \\n \\n , ,', '\\n \\n \\n \\n \\n', '\\n \\n \\n \\n \\n', 'xxx , , , \\n', '\\n , \\n \\n \\n', '\\n \\n \\n \\n ,.', ', \\n \\n \\n \\n', '\\n \\n , \\n \\n', '\\n \\n , \\n \\n', '\\n , \\n \\n ,', '\\n \\n \\n \\n ,', '\\n \\n \\n \\n \\n', '\\n \\n \\n \\n \\n']\n",
      "['\\n ,. \\n \\n ,', '\\n \\n \\n \\n \\n', '\\n \\n \\n \\n \\n', '\\n \\n \\n , \\n', '\\n \\n \\n , \\n', '\\n \\n , \\n \\n', '\\n \\n \\n \\n ,', '\\n \\n \\n \\n \\n', '\\n \\n , \\n \\n', '\\n \\n \\n \\n \\n', ', \\n ,. \\n ,', '\\n \\n , \\n \\n', '\\n , \\n \\n \\n', '\\n \\n \\n \\n \\n', '\\n \\n \\n , \\n', '\\n \\n , \\n \\n']\n"
     ]
    },
    {
     "name": "stderr",
     "output_type": "stream",
     "text": [
      "\r",
      " 20%|████████████████████████▎                                                                                               | 609/2999 [3:20:33<12:57:42, 19.52s/it]"
     ]
    },
    {
     "name": "stdout",
     "output_type": "stream",
     "text": [
      "['\\n \\n \\n , \\n', '\\n \\n \\n \\n \\n', '\\n \\n ,. , \\n', ', \\n \\n ,. ,', '\\n \\n \\n \\n \\n', '\\n , \\n \\n \\n', '\\n \\n \\n \\n \\n', '\\n \\n , \\n \\n', ', \\n ,. \\n \\n', '\\n \\n \\n \\n \\n', ', \\n ,. , \\n', '\\n \\n , \\n \\n', '\\n \\n , \\n \\n', '\\n ,. \\n \\n ,', '\\n , \\n \\n \\n', '\\n \\n \\n \\n ,']\n",
      "['\\n \\n \\n \\n \\n', ', \\n ,. \\n ,', '\\n \\n \\n , \\n', '\\n \\n , \\n \\n', '\\n \\n \\n \\n \\n', '\\n \\n \\n , \\n', '\\n \\n \\n \\n \\n', '\\n \\n \\n \\n ,', '\\n \\n \\n \\n \\n', '\\n \\n , \\n \\n', '\\n \\n \\n , \\n', '\\n \\n \\n \\n \\n', '\\n \\n , , \\n', '\\n \\n , \\n \\n', ', \\n ,. , \\n', '\\n \\n \\n , \\n']\n"
     ]
    },
    {
     "name": "stderr",
     "output_type": "stream",
     "text": [
      "\r",
      " 20%|████████████████████████▍                                                                                               | 610/2999 [3:20:52<12:55:57, 19.49s/it]"
     ]
    },
    {
     "name": "stdout",
     "output_type": "stream",
     "text": [
      "['\\n \\n ,. , \\n', '\\n \\n \\n \\n \\n', '\\n \\n \\n \\n ,', ', \\n ,. \\n ,', ', \\n tumblr , ,', '\\n \\n , \\n \\n', '\\n \\n \\n \\n ,', '\\n \\n \\n \\n ,.', '\\n \\n \\n \\n \\n', '\\n ,. , \\n ,.', '\\n , , , \\n', '\\n ,. \\n \\n ,', '\\n \\n \\n , \\n', '\\n \\n \\n , \\n', '\\n \\n \\n \\n \\n', ' correctional , , , \\n']\n",
      "['\\n \\n ,. \\n ,', '\\n \\n \\n \\n \\n', '\\n , \\n \\n \\n', '\\n , \\n \\n \\n', '\\n \\n \\n \\n \\n', '\\n \\n \\n \\n \\n', '\\n \\n , \\n \\n', '\\n \\n \\n \\n \\n', '\\n \\n \\n , \\n', '\\n \\n \\n \\n \\n', '\\n \\n \\n \\n \\n', '\\n , \\n \\n ,', '\\n , \\n \\n \\n', '\\n \\n \\n \\n \\n', '\\n , \\n \\n ,', '\\n , \\n \\n \\n']\n"
     ]
    },
    {
     "name": "stderr",
     "output_type": "stream",
     "text": [
      "\r",
      " 20%|████████████████████████▍                                                                                               | 611/2999 [3:21:11<12:54:27, 19.46s/it]"
     ]
    },
    {
     "name": "stdout",
     "output_type": "stream",
     "text": [
      "30.838659286499023 0.53125\n",
      "['\\n , \\n \\n \\n', '\\n \\n \\n \\n \\n', '\\n \\n \\n \\n \\n', ', \\n ,. , \\n', '\\n \\n \\n \\n \\n', '\\n \\n , \\n \\n', '\\n \\n \\n ,. ,', '\\n \\n \\n , \\n', '\\n \\n \\n \\n \\n', '\\n \\n \\n \\n \\n', '\\n ,. , \\n \\n', '\\n \\n \\n ,. ,', '\\n \\n \\n \\n \\n', '\\n \\n \\n ,. \\n', '\\n \\n \\n \\n ,.', '\\n \\n \\n \\n ,']\n",
      "[', \\n \\n \\n \\n', '\\n \\n \\n \\n \\n', '\\n \\n \\n \\n \\n', '\\n \\n \\n \\n \\n', '\\n \\n \\n \\n \\n', '\\n \\n \\n \\n \\n', '\\n \\n \\n \\n \\n', '\\n \\n \\n \\n ,.', '\\n \\n \\n \\n \\n', '\\n , \\n , \\n', '\\n \\n \\n \\n \\n', '\\n \\n , \\n \\n', '\\n , \\n \\n \\n', '\\n \\n \\n \\n \\n', '\\n \\n \\n \\n \\n', '\\n \\n \\n \\n ,.']\n"
     ]
    },
    {
     "name": "stderr",
     "output_type": "stream",
     "text": [
      "\r",
      " 20%|████████████████████████▍                                                                                               | 612/2999 [3:21:31<12:54:05, 19.46s/it]"
     ]
    },
    {
     "name": "stdout",
     "output_type": "stream",
     "text": [
      "['\\n \\n \\n \\n ,', '\\n \\n \\n \\n ,.', '\\n \\n \\n , \\n', '\\n \\n \\n \\n \\n', '\\n \\n \\n \\n \\n', '\\n , \\n \\n \\n', ' Links , , , ,', '\\n \\n \\n , \\n', ', \\n \\n ,. \\n', '\\n \\n \\n \\n ,', ', \\n tumblr , ,', 'oking , , \\n ,.', '\\n \\n \\n \\n \\n', '\\n \\n \\n , \\n', '\\n \\n \\n ,. \\n', '\\n \\n \\n \\n \\n']\n",
      "['\\n \\n \\n \\n \\n', '\\n \\n \\n ,. ,', '\\n \\n \\n \\n \\n', '\\n \\n \\n \\n \\n', '\\n ,. \\n \\n \\n', '\\n \\n \\n \\n \\n', '\\n \\n , \\n \\n', ', \\n ,. \\n ,', '\\n , \\n \\n \\n', '\\n \\n \\n \\n \\n', '\\n \\n , \\n \\n', '\\n \\n , \\n \\n', '\\n \\n , \\n \\n', '\\n \\n \\n \\n \\n', '\\n \\n \\n \\n \\n', '\\n \\n \\n , \\n']\n"
     ]
    },
    {
     "name": "stderr",
     "output_type": "stream",
     "text": [
      "\r",
      " 20%|████████████████████████▌                                                                                               | 613/2999 [3:21:50<12:53:47, 19.46s/it]"
     ]
    },
    {
     "name": "stdout",
     "output_type": "stream",
     "text": [
      "['\\n \\n \\n \\n \\n', '\\n \\n \\n \\n \\n', '\\n \\n ,. , \\n', '\\n \\n , \\n \\n', '\\n \\n ,. , \\n', '\\n \\n \\n \\n \\n', '\\n \\n \\n \\n ,', ', \\n ,. , \\n', ' summon , \\n \\n ,.', '\\n \\n \\n \\n ,.', '\\n \\n , \\n \\n', '\\n \\n , \\n ,.', '\\n \\n \\n \\n \\n', '\\n ,. , \\n \\n', '\\n \\n \\n \\n \\n', ', \\n \\n ,. \\n']\n",
      "['\\n \\n ,. , \\n', '\\n \\n \\n \\n \\n', '\\n \\n \\n \\n ,', '\\n , \\n \\n \\n', '\\n \\n ,. , \\n', '\\n \\n , \\n \\n', '\\n \\n \\n \\n \\n', '\\n \\n \\n \\n \\n', '\\n \\n \\n \\n \\n', '\\n \\n \\n \\n \\n', '\\n \\n , \\n \\n', '\\n \\n ,. , \\n', '\\n , \\n \\n \\n', '\\n \\n \\n \\n \\n', '\\n \\n \\n , \\n', ', \\n \\n ,. ,']\n"
     ]
    },
    {
     "name": "stderr",
     "output_type": "stream",
     "text": [
      "\r",
      " 20%|████████████████████████▌                                                                                               | 614/2999 [3:22:10<12:53:49, 19.47s/it]"
     ]
    },
    {
     "name": "stdout",
     "output_type": "stream",
     "text": [
      "['\\n \\n \\n \\n \\n', '\\n \\n \\n , \\n', ', \\n ,. , \\n', '\\n \\n \\n , \\n', '\\n \\n \\n \\n \\n', '\\n \\n \\n \\n ,', '\\n , \\n \\n \\n', '\\n \\n \\n \\n \\n', '\\n \\n \\n \\n \\n', '\\n \\n \\n \\n ,', ', \\n ,. \\n \\n', '\\n \\n \\n \\n \\n', '\\n \\n \\n \\n \\n', '\\n \\n ,. \\n ,', '\\n \\n \\n \\n \\n', '\\n \\n \\n \\n \\n']\n",
      "[', \\n ,. , \\n', '\\n ,. , \\n ,.', '\\n \\n \\n \\n \\n', '\\n , \\n \\n \\n', '\\n \\n ,. \\n \\n', ', , \\n ,. ,', '\\n \\n ,. , \\n', '\\n \\n \\n \\n \\n', '\\n \\n ,. , \\n', ', \\n ,. , \\n', ', \\n ,. , \\n', '\\n \\n \\n \\n \\n', '\\n \\n , \\n \\n', '\\n \\n \\n \\n \\n', '\\n \\n \\n \\n \\n', '\\n \\n ,. , \\n']\n"
     ]
    },
    {
     "name": "stderr",
     "output_type": "stream",
     "text": [
      "\r",
      " 21%|████████████████████████▌                                                                                               | 615/2999 [3:22:29<12:53:14, 19.46s/it]"
     ]
    },
    {
     "name": "stdout",
     "output_type": "stream",
     "text": [
      "[' muse , , \\n \\n', '\\n \\n ,. , \\n', ', \\n \\n ,. ,', '\\n , \\n \\n \\n', ' cmd , , \\n \\n', '\\n \\n \\n \\n \\n', 'uristic , , , \\n', '\\n \\n \\n \\n \\n', '\\n \\n \\n \\n \\n', '\\n \\n \\n , \\n', '\\n \\n \\n ,. ,', '\\n \\n \\n \\n \\n', '\\n \\n \\n \\n ,', '\\n \\n \\n \\n \\n', '\\n , \\n , ,', ', \\n \\n \\n ,.']\n",
      "[', \\n ,. , \\n', '\\n \\n \\n \\n \\n', '\\n \\n \\n , \\n', '\\n \\n , \\n \\n', '\\n \\n \\n \\n ,', '\\n \\n , \\n ,', '\\n \\n , \\n \\n', '\\n , \\n \\n \\n', '\\n \\n , \\n \\n', '\\n \\n ,. , \\n', '\\n \\n \\n \\n \\n', '\\n \\n \\n \\n \\n', '\\n \\n \\n ,. \\n', '\\n \\n \\n , \\n', '\\n \\n ,. , \\n', '\\n \\n \\n \\n \\n']\n"
     ]
    },
    {
     "name": "stderr",
     "output_type": "stream",
     "text": [
      "\r",
      " 21%|████████████████████████▋                                                                                               | 616/2999 [3:22:49<12:52:27, 19.45s/it]"
     ]
    },
    {
     "name": "stdout",
     "output_type": "stream",
     "text": [
      "['\\n \\n \\n \\n \\n', '\\n \\n \\n \\n \\n', '\\n \\n \\n \\n \\n', '\\n \\n \\n , \\n', '\\n \\n \\n \\n \\n', '\\n \\n \\n \\n \\n', '\\n \\n \\n , \\n', '\\n , \\n \\n \\n', ', \\n ,. , \\n', ', \\n ,. , \\n', ' Deal , , , \\n', '\\n \\n \\n , \\n', '\\n , \\n \\n \\n', '\\n \\n \\n \\n \\n', ' Hood , , , \\n', ', \\n \\n ,. ,']\n",
      "['\\n \\n \\n , \\n', '\\n ,. , , \\n', ', \\n ,. , ,', ', \\n \\n \\n \\n', '\\n \\n , \\n \\n', '\\n \\n , \\n \\n', '\\n \\n \\n \\n \\n', ', \\n ,. , \\n', '\\n \\n \\n \\n ,', '\\n \\n \\n \\n \\n', '\\n \\n \\n \\n \\n', '\\n \\n \\n \\n \\n', '\\n \\n , \\n \\n', '\\n ,. , \\n ,.', '\\n \\n \\n , \\n', '\\n \\n ,. , \\n']\n"
     ]
    },
    {
     "name": "stderr",
     "output_type": "stream",
     "text": [
      "\r",
      " 21%|████████████████████████▋                                                                                               | 617/2999 [3:23:08<12:52:31, 19.46s/it]"
     ]
    },
    {
     "name": "stdout",
     "output_type": "stream",
     "text": [
      "['\\n \\n \\n \\n \\n', '\\n \\n \\n , \\n', '\\n \\n \\n \\n \\n', '\\n \\n ,. , \\n', '\\n \\n \\n \\n \\n', '\\n \\n \\n , \\n', '\\n \\n \\n \\n \\n', ' reck , , , \\n', '\\n \\n \\n \\n \\n', '\\n \\n ,. \\n ,', '\\n \\n , \\n ,', '\\n \\n \\n \\n \\n', '\\n \\n , \\n \\n', 'WARD , , \\n \\n', '\\n , \\n \\n \\n', '\\n \\n \\n \\n \\n']\n",
      "['\\n \\n \\n , ,', '\\n \\n \\n \\n \\n', '\\n \\n \\n \\n \\n', '\\n \\n \\n \\n \\n', '\\n \\n \\n \\n \\n', '\\n \\n , \\n \\n', '\\n \\n \\n \\n \\n', '\\n , \\n \\n \\n', '\\n \\n \\n \\n ,.', '\\n \\n \\n , \\n', '\\n \\n \\n \\n \\n', '\\n \\n \\n \\n ,', ', , \\n ,. \\n', '\\n \\n ,. , \\n', '\\n \\n \\n \\n \\n', '\\n \\n \\n , \\n']\n"
     ]
    },
    {
     "name": "stderr",
     "output_type": "stream",
     "text": [
      "\r",
      " 21%|████████████████████████▋                                                                                               | 618/2999 [3:23:28<12:52:32, 19.47s/it]"
     ]
    },
    {
     "name": "stdout",
     "output_type": "stream",
     "text": [
      "['\\n \\n \\n \\n \\n', '\\n \\n \\n \\n ,', '\\n , \\n \\n \\n', '\\n \\n , \\n \\n', '\\n \\n \\n , ,', '\\n \\n \\n \\n \\n', '\\n \\n \\n \\n \\n', ' unlike , , \\n \\n', '\\n \\n \\n , \\n', '\\n \\n \\n \\n \\n', '\\n \\n \\n , \\n', '\\n \\n , \\n \\n', '\\n \\n , \\n \\n', '\\n \\n \\n \\n \\n', '\\n \\n \\n , \\n', '\\n \\n \\n \\n ,.']\n",
      "['\\n \\n \\n \\n \\n', '\\n \\n \\n \\n \\n', ', \\n ,. , \\n', '\\n , \\n \\n \\n', '\\n \\n \\n \\n \\n', '\\n \\n , \\n \\n', '\\n \\n , \\n \\n', '\\n \\n \\n \\n \\n', '\\n \\n \\n \\n \\n', '\\n \\n \\n \\n \\n', '\\n \\n \\n \\n \\n', '\\n \\n \\n , \\n', '\\n \\n \\n \\n ,.', '\\n \\n \\n \\n \\n', '\\n \\n \\n \\n ,', '\\n \\n \\n , \\n']\n"
     ]
    },
    {
     "name": "stderr",
     "output_type": "stream",
     "text": [
      "\r",
      " 21%|████████████████████████▊                                                                                               | 619/2999 [3:23:47<12:52:06, 19.46s/it]"
     ]
    },
    {
     "name": "stdout",
     "output_type": "stream",
     "text": [
      "['\\n \\n ,. \\n ,', '\\n \\n \\n \\n \\n', ' Syl , , \\n \\n', '\\n \\n \\n \\n \\n', '\\n \\n ,. , \\n', '\\n \\n \\n \\n ,.', '\\n \\n \\n , \\n', '\\n \\n \\n , \\n', '\\n \\n \\n \\n \\n', '\\n \\n \\n \\n \\n', '\\n \\n , \\n \\n', '\\n \\n , \\n \\n', '\\n \\n , \\n \\n', '\\n \\n \\n \\n \\n', '\\n \\n ,. , \\n', '\\n \\n \\n \\n \\n']\n",
      "['\\n \\n \\n \\n \\n', '\\n \\n ,. \\n \\n', '\\n \\n , \\n \\n', '\\n \\n \\n , \\n', ', \\n tumblr , ,', '\\n \\n \\n , \\n', '\\n \\n \\n \\n \\n', '\\n \\n \\n \\n \\n', '\\n \\n \\n \\n ,.', '\\n \\n \\n \\n \\n', '\\n \\n \\n , \\n', '\\n , \\n , \\n', '\\n \\n \\n \\n ,', '\\n \\n \\n , \\n', '\\n \\n ,. , \\n', '\\n \\n \\n \\n \\n']\n"
     ]
    },
    {
     "name": "stderr",
     "output_type": "stream",
     "text": [
      "\r",
      " 21%|████████████████████████▊                                                                                               | 620/2999 [3:24:07<12:52:24, 19.48s/it]"
     ]
    },
    {
     "name": "stdout",
     "output_type": "stream",
     "text": [
      "['\\n \\n \\n , \\n', '\\n \\n \\n \\n \\n', '\\n \\n \\n \\n ,', '\\n \\n \\n \\n \\n', '\\n \\n \\n , \\n', ' over , , \\n \\n', '\\n \\n \\n , \\n', '\\n \\n , \\n \\n', '\\n \\n \\n , \\n', '\\n \\n \\n , \\n', '\\n \\n \\n \\n \\n', '\\n \\n , \\n \\n', '\\n \\n , \\n \\n', '\\n \\n \\n , \\n', '\\n \\n \\n \\n \\n', '\\n \\n \\n \\n \\n']\n",
      "['\\n \\n ,. , \\n', '\\n \\n \\n \\n ,', '\\n \\n \\n \\n \\n', '\\n , \\n ,. \\n', ', \\n ,. , \\n', '\\n \\n \\n \\n \\n', '\\n ,. , \\n ,.', ', \\n ,. \\n ,', '\\n \\n \\n \\n ,.', '\\n \\n ,. , ,', '\\n , \\n \\n \\n', '\\n \\n , \\n \\n', '\\n \\n \\n , \\n', '\\n \\n \\n \\n \\n', '\\n \\n \\n \\n \\n', '\\n \\n \\n \\n \\n']\n"
     ]
    },
    {
     "name": "stderr",
     "output_type": "stream",
     "text": [
      "\r",
      " 21%|████████████████████████▊                                                                                               | 621/2999 [3:24:26<12:51:40, 19.47s/it]"
     ]
    },
    {
     "name": "stdout",
     "output_type": "stream",
     "text": [
      "25.44026756286621 0.515625\n",
      "['\\n \\n , \\n \\n', ' Ruler , , \\n \\n', '\\n \\n \\n \\n \\n', '\\n \\n \\n , \\n', '\\n \\n \\n \\n \\n', '\\n \\n \\n \\n \\n', '\\n \\n \\n \\n ,', '\\n \\n \\n , \\n', '\\n \\n , \\n \\n', '\\n \\n \\n , \\n', '\\n \\n ,. \\n ,', '\\n \\n , \\n \\n', ' Awards , , \\n \\n', '\\n \\n \\n \\n \\n', '\\n \\n \\n \\n ,', '392 , , , \\n']\n",
      "['\\n \\n \\n \\n \\n', '\\n \\n \\n \\n \\n', ', \\n \\n ,. \\n', '\\n \\n , \\n \\n', '\\n \\n ,. , \\n', '\\n \\n , \\n \\n', '\\n \\n \\n \\n \\n', '\\n \\n \\n \\n \\n', '\\n \\n \\n \\n \\n', '\\n \\n \\n \\n ,', '\\n \\n \\n , \\n', '\\n \\n , \\n \\n', '\\n \\n \\n \\n \\n', '\\n \\n \\n \\n \\n', '\\n \\n \\n \\n \\n', '\\n \\n \\n \\n ,']\n"
     ]
    },
    {
     "name": "stderr",
     "output_type": "stream",
     "text": [
      "\r",
      " 21%|████████████████████████▉                                                                                               | 622/2999 [3:24:46<12:50:57, 19.46s/it]"
     ]
    },
    {
     "name": "stdout",
     "output_type": "stream",
     "text": [
      "['\\n \\n , \\n \\n', '\\n \\n , \\n \\n', ', \\n ,. \\n ,', '\\n \\n , \\n \\n', '\\n \\n \\n \\n \\n', '\\n \\n , \\n \\n', ', \\n ,. \\n ,', ', \\n ,. \\n \\n', '\\n \\n \\n \\n \\n', '\\n \\n \\n \\n \\n', '\\n \\n \\n \\n \\n', '\\n \\n \\n \\n ,', '」 , , , ,', '\\n \\n \\n \\n \\n', ' memorable , , , \\n', '\\n \\n \\n \\n \\n']\n",
      "['\\n \\n \\n \\n \\n', '\\n \\n , \\n \\n', '\\n \\n \\n , \\n', '\\n \\n \\n \\n \\n', ', \\n ,. , \\n', '\\n \\n , \\n \\n', '\\n , , \\n \\n', '\\n \\n \\n \\n \\n', '\\n \\n , \\n ,.', '\\n \\n \\n \\n \\n', '\\n \\n \\n , \\n', '\\n \\n , \\n \\n', '\\n \\n \\n ,. \\n', '\\n \\n \\n \\n \\n', '\\n , \\n \\n ,', '\\n \\n \\n \\n \\n']\n"
     ]
    },
    {
     "name": "stderr",
     "output_type": "stream",
     "text": [
      "\r",
      " 21%|████████████████████████▉                                                                                               | 623/2999 [3:25:05<12:50:24, 19.45s/it]"
     ]
    },
    {
     "name": "stdout",
     "output_type": "stream",
     "text": [
      "['\\n \\n \\n , \\n', '\\n \\n \\n \\n \\n', '\\n \\n \\n \\n \\n', '\\n , \\n , \\n', '\\n \\n \\n \\n \\n', '\\n \\n , \\n \\n', '\\n \\n \\n \\n \\n', '\\n \\n , \\n \\n', '\\n \\n \\n \\n \\n', '\\n \\n \\n \\n \\n', '\\n \\n \\n \\n \\n', '\\n \\n \\n \\n ,.', '\\n , , \\n \\n', '\\n \\n , \\n \\n', ' Garr , , , \\n', '\\n \\n \\n , \\n']\n",
      "['\\n \\n \\n , \\n', '\\n \\n ,. \\n \\n', '\\n \\n \\n \\n \\n', '\\n , \\n , \\n', '\\n \\n \\n \\n \\n', '\\n \\n , \\n \\n', '\\n \\n \\n , \\n', '\\n \\n \\n \\n \\n', '\\n \\n \\n \\n \\n', '\\n \\n \\n \\n \\n', '\\n \\n \\n \\n \\n', '\\n \\n \\n \\n \\n', '\\n \\n \\n \\n \\n', ', \\n ,. , \\n', '\\n \\n \\n \\n \\n', '\\n , \\n \\n \\n']\n"
     ]
    },
    {
     "name": "stderr",
     "output_type": "stream",
     "text": [
      "\r",
      " 21%|████████████████████████▉                                                                                               | 624/2999 [3:25:24<12:50:28, 19.46s/it]"
     ]
    },
    {
     "name": "stdout",
     "output_type": "stream",
     "text": [
      "['\\n \\n ,. , \\n', ' robberies , , , \\n', ', \\n ,. , \\n', '\\n \\n \\n , \\n', 'sburgh , , , \\n', '\\n , \\n , \\n', '\\n \\n \\n \\n \\n', ' extingu , , \\n \\n', 'sb , , \\n \\n', '\\n \\n \\n \\n \\n', ', \\n ,. , \\n', ' Chevron , , , \\n', '\\n \\n \\n \\n \\n', '\\n \\n \\n \\n \\n', ', \\n \\n \\n \\n', '\\n \\n \\n \\n \\n']\n",
      "['\\n \\n \\n , \\n', '\\n \\n \\n \\n \\n', '\\n \\n ,. , \\n', '\\n \\n , \\n \\n', '\\n \\n \\n \\n \\n', '\\n , \\n \\n \\n', '\\n \\n \\n \\n \\n', '\\n , \\n , \\n', '\\n \\n \\n \\n \\n', '\\n \\n \\n , \\n', '\\n \\n \\n , \\n', '\\n \\n \\n \\n ,', ', , \\n ,. ,', '\\n \\n ,. , \\n', ', \\n tumblr , ,', '\\n \\n \\n \\n \\n']\n"
     ]
    },
    {
     "name": "stderr",
     "output_type": "stream",
     "text": [
      "\r",
      " 21%|█████████████████████████                                                                                               | 625/2999 [3:25:44<12:50:29, 19.47s/it]"
     ]
    },
    {
     "name": "stdout",
     "output_type": "stream",
     "text": [
      "[', \\n \\n ,. ,', '\\n \\n \\n \\n \\n', ' Bang , , , \\n', '\\n , \\n \\n \\n', ', \\n \\n ,. ,', '\\n \\n \\n \\n \\n', '\\n ,. \\n \\n ,', '\\n \\n \\n \\n ,.', '\\n \\n \\n , \\n', '\\n \\n \\n \\n \\n', '\\n , \\n \\n \\n', '\\n \\n \\n , \\n', '\\n \\n \\n \\n \\n', '\\n \\n \\n \\n \\n', '\\n \\n ,. , \\n', '\\n \\n \\n \\n \\n']\n",
      "['\\n \\n \\n \\n \\n', '\\n \\n \\n \\n \\n', '\\n , \\n , \\n', '\\n \\n \\n \\n \\n', '\\n \\n \\n \\n \\n', '\\n \\n , \\n ,.', '\\n \\n \\n \\n \\n', ', \\n \\n \\n \\n', '\\n \\n , \\n \\n', '\\n \\n \\n \\n \\n', ', \\n ,. \\n ,', '\\n , \\n \\n ,', ', \\n \\n \\n \\n', '\\n \\n \\n \\n \\n', '\\n \\n \\n \\n \\n', '\\n \\n \\n \\n ,.']\n"
     ]
    },
    {
     "name": "stderr",
     "output_type": "stream",
     "text": [
      "\r",
      " 21%|█████████████████████████                                                                                               | 626/2999 [3:26:03<12:50:47, 19.49s/it]"
     ]
    },
    {
     "name": "stdout",
     "output_type": "stream",
     "text": [
      "['\\n \\n , , ,', '\\n \\n , \\n \\n', '\\n \\n \\n \\n \\n', '\\n \\n , \\n \\n', ' devoted , , \\n \\n', '\\n \\n \\n \\n \\n', '\\n \\n \\n \\n \\n', '\\n \\n \\n \\n \\n', ' thought , , \\n \\n', '\\n \\n \\n \\n \\n', ', \\n ,. , \\n', '\\n \\n , \\n \\n', '\\n \\n , \\n \\n', '\\n \\n \\n \\n \\n', '\\n \\n \\n \\n \\n', '\\n \\n \\n \\n \\n']\n",
      "['\\n \\n \\n \\n ,', '\\n \\n \\n \\n ,', '\\n \\n \\n , \\n', '\\n \\n \\n , \\n', '\\n \\n \\n , \\n', '\\n \\n \\n \\n \\n', '\\n \\n , \\n \\n', '\\n \\n ,. , \\n', '\\n \\n \\n \\n \\n', '\\n \\n \\n , \\n', '\\n \\n , \\n \\n', '\\n \\n , \\n \\n', '\\n \\n \\n , \\n', '\\n \\n , \\n ,', '\\n \\n \\n , \\n', '\\n \\n \\n \\n ,']\n"
     ]
    },
    {
     "name": "stderr",
     "output_type": "stream",
     "text": [
      "\r",
      " 21%|█████████████████████████                                                                                               | 627/2999 [3:26:23<12:51:02, 19.50s/it]"
     ]
    },
    {
     "name": "stdout",
     "output_type": "stream",
     "text": [
      "['\\n \\n \\n , \\n', '\\n \\n \\n \\n ,.', ', \\n \\n ,. ,', '\\n \\n \\n , \\n', ', \\n ,. , \\n', 'season , , \\n \\n', ', \\n ,. , \\n', '\\n \\n \\n \\n \\n', '\\n \\n , \\n \\n', '\\n \\n \\n \\n ,.', '\\n \\n \\n \\n ,.', '\\n \\n \\n , \\n', '\\n \\n , \\n \\n', '\\n \\n \\n \\n \\n', '\\n \\n \\n \\n \\n', '\\n \\n \\n \\n \\n']\n",
      "['\\n \\n ,. \\n \\n', '\\n \\n \\n \\n \\n', '\\n , \\n , ,', '\\n , \\n ,. \\n', '\\n \\n ,. , \\n', '\\n \\n , \\n \\n', ', \\n ,. \\n \\n', '\\n , \\n \\n ,', '\\n \\n \\n \\n \\n', '\\n \\n \\n ,. \\n', '\\n \\n \\n \\n \\n', '\\n \\n \\n , \\n', '\\n \\n , \\n \\n', ', \\n ,. , \\n', '\\n \\n \\n \\n \\n', '\\n \\n \\n , \\n']\n"
     ]
    },
    {
     "name": "stderr",
     "output_type": "stream",
     "text": [
      "\r",
      " 21%|█████████████████████████▏                                                                                              | 628/2999 [3:26:43<12:50:27, 19.50s/it]"
     ]
    },
    {
     "name": "stdout",
     "output_type": "stream",
     "text": [
      "[', \\n \\n ,. \\n', '\\n \\n \\n \\n \\n', '\\n \\n \\n , \\n', ', \\n \\n \\n \\n', ' S , , , \\n', '\\n \\n , \\n \\n', '\\n \\n \\n , \\n', '\\n \\n , \\n \\n', '\\n \\n \\n , \\n', '\\n \\n \\n \\n \\n', '\\n \\n \\n \\n \\n', '\\n \\n \\n \\n \\n', '\\n \\n \\n \\n \\n', '\\n \\n \\n , \\n', '\\n \\n \\n \\n \\n', 'slave , , , \\n']\n",
      "['\\n \\n \\n \\n ,', '\\n \\n \\n \\n \\n', '\\n \\n \\n \\n ,', '\\n , \\n \\n ,', '\\n \\n , \\n \\n', '\\n \\n \\n , \\n', '\\n \\n , \\n \\n', '\\n \\n \\n \\n \\n', '\\n \\n \\n \\n \\n', '\\n \\n ,. \\n ,', '\\n \\n \\n \\n \\n', '\\n \\n , , \\n', '\\n \\n , \\n \\n', '\\n \\n \\n \\n \\n', '\\n \\n \\n \\n ,', '\\n , \\n \\n \\n']\n"
     ]
    },
    {
     "name": "stderr",
     "output_type": "stream",
     "text": [
      "\r",
      " 21%|█████████████████████████▏                                                                                              | 629/2999 [3:27:02<12:50:56, 19.52s/it]"
     ]
    },
    {
     "name": "stdout",
     "output_type": "stream",
     "text": [
      "[', \\n ,. , \\n', '\\n \\n \\n \\n \\n', '\\n \\n \\n \\n \\n', '\\n , \\n \\n \\n', '\\n \\n \\n \\n \\n', ', , \\n ,. ,', '\\n \\n \\n \\n \\n', '\\n \\n \\n \\n \\n', '\\n \\n \\n \\n ,', ', \\n ,. , \\n', '\\n , \\n , \\n', '\\n \\n \\n \\n \\n', '\\n \\n \\n \\n \\n', '\\n \\n \\n \\n \\n', '\\n \\n \\n \\n \\n', '\\n , \\n \\n ,']\n",
      "['\\n \\n \\n \\n ,', '\\n \\n \\n \\n \\n', '\\n \\n \\n \\n \\n', '\\n \\n , \\n ,', '\\n \\n \\n , \\n', '\\n , \\n \\n \\n', '\\n \\n \\n \\n \\n', '\\n \\n \\n \\n ,', '\\n \\n \\n \\n \\n', '\\n \\n \\n \\n \\n', '\\n , \\n \\n ,', '\\n \\n \\n \\n \\n', '\\n , \\n \\n \\n', '\\n \\n \\n \\n \\n', '\\n \\n ,. , \\n', '\\n \\n \\n ,. ,']\n"
     ]
    },
    {
     "name": "stderr",
     "output_type": "stream",
     "text": [
      " 21%|█████████████████████████▏                                                                                              | 630/2999 [3:27:34<13:00:34, 19.77s/it]\n"
     ]
    },
    {
     "ename": "KeyboardInterrupt",
     "evalue": "",
     "output_type": "error",
     "traceback": [
      "\u001b[0;31m---------------------------------------------------------------------------\u001b[0m",
      "\u001b[0;31mKeyboardInterrupt\u001b[0m                         Traceback (most recent call last)",
      "Cell \u001b[0;32mIn[10], line 1\u001b[0m\n\u001b[0;32m----> 1\u001b[0m \u001b[43mql\u001b[49m\u001b[38;5;241;43m.\u001b[39;49m\u001b[43mtrain\u001b[49m\u001b[43m(\u001b[49m\u001b[43mtrain_x\u001b[49m\u001b[43m,\u001b[49m\u001b[43m \u001b[49m\u001b[43mtrain_y\u001b[49m\u001b[43m,\u001b[49m\u001b[43m \u001b[49m\u001b[38;5;241;43m2999\u001b[39;49m\u001b[43m)\u001b[49m\n",
      "Cell \u001b[0;32mIn[3], line 215\u001b[0m, in \u001b[0;36mQLearner.train\u001b[0;34m(self, train_x, train_y, epochs)\u001b[0m\n\u001b[1;32m    213\u001b[0m \u001b[38;5;28;01mfor\u001b[39;00m i \u001b[38;5;129;01min\u001b[39;00m tqdm(\u001b[38;5;28mrange\u001b[39m(epochs)):\n\u001b[1;32m    214\u001b[0m     \u001b[38;5;28mself\u001b[39m\u001b[38;5;241m.\u001b[39moptimizer\u001b[38;5;241m.\u001b[39mzero_grad()\n\u001b[0;32m--> 215\u001b[0m     loss, reward \u001b[38;5;241m=\u001b[39m \u001b[38;5;28;43mself\u001b[39;49m\u001b[38;5;241;43m.\u001b[39;49m\u001b[43mloss\u001b[49m\u001b[43m(\u001b[49m\u001b[43mtrain_x\u001b[49m\u001b[43m,\u001b[49m\u001b[43m \u001b[49m\u001b[43mtrain_y\u001b[49m\u001b[43m)\u001b[49m\n\u001b[1;32m    216\u001b[0m     loss\u001b[38;5;241m.\u001b[39mbackward()\n\u001b[1;32m    217\u001b[0m     \u001b[38;5;28mself\u001b[39m\u001b[38;5;241m.\u001b[39moptimizer\u001b[38;5;241m.\u001b[39mstep()\n",
      "Cell \u001b[0;32mIn[3], line 182\u001b[0m, in \u001b[0;36mQLearner.loss\u001b[0;34m(self, train_x, train_y)\u001b[0m\n\u001b[1;32m    175\u001b[0m         \u001b[38;5;66;03m# print(actions)\u001b[39;00m\n\u001b[1;32m    176\u001b[0m         \u001b[38;5;66;03m# print(Q.shape)\u001b[39;00m\n\u001b[1;32m    177\u001b[0m         \u001b[38;5;66;03m#find which action gives the highest reward\u001b[39;00m\n\u001b[1;32m    178\u001b[0m         \u001b[38;5;66;03m# high_reward =  self.get_reward(train_x, train_y, ' '.join(actions))\u001b[39;00m\n\u001b[1;32m    179\u001b[0m \u001b[38;5;66;03m#         print(Q.argmax(-1))\u001b[39;00m\n\u001b[1;32m    180\u001b[0m \u001b[38;5;66;03m#         print(Q.argmax(-1))\u001b[39;00m\n\u001b[1;32m    181\u001b[0m         high_reward \u001b[38;5;241m=\u001b[39m torch\u001b[38;5;241m.\u001b[39mtensor([\u001b[38;5;28mself\u001b[39m\u001b[38;5;241m.\u001b[39mget_reward(train_x, train_y, \u001b[38;5;124m'\u001b[39m\u001b[38;5;124m \u001b[39m\u001b[38;5;124m'\u001b[39m\u001b[38;5;241m.\u001b[39mjoin(action)) \u001b[38;5;28;01mfor\u001b[39;00m action \u001b[38;5;129;01min\u001b[39;00m actions])\u001b[38;5;241m.\u001b[39mto(\u001b[38;5;124m'\u001b[39m\u001b[38;5;124mmps\u001b[39m\u001b[38;5;124m'\u001b[39m)\n\u001b[0;32m--> 182\u001b[0m         accuracy \u001b[38;5;241m=\u001b[39m torch\u001b[38;5;241m.\u001b[39mtensor([\u001b[38;5;28mself\u001b[39m\u001b[38;5;241m.\u001b[39mget_accuracy(train_x, train_y, \u001b[38;5;124m'\u001b[39m\u001b[38;5;124m \u001b[39m\u001b[38;5;124m'\u001b[39m\u001b[38;5;241m.\u001b[39mjoin(action)) \u001b[38;5;28;01mfor\u001b[39;00m action \u001b[38;5;129;01min\u001b[39;00m actions])\n\u001b[1;32m    183\u001b[0m         reward \u001b[38;5;241m=\u001b[39m high_reward\u001b[38;5;241m*\u001b[39m\u001b[38;5;241m2\u001b[39m\u001b[38;5;241m-\u001b[39m\u001b[38;5;241m1\u001b[39m\n\u001b[1;32m    184\u001b[0m         \u001b[38;5;28;01mif\u001b[39;00m reward\u001b[38;5;241m.\u001b[39mstd() \u001b[38;5;241m>\u001b[39m \u001b[38;5;241m1e-3\u001b[39m:\n",
      "Cell \u001b[0;32mIn[3], line 182\u001b[0m, in \u001b[0;36m<listcomp>\u001b[0;34m(.0)\u001b[0m\n\u001b[1;32m    175\u001b[0m         \u001b[38;5;66;03m# print(actions)\u001b[39;00m\n\u001b[1;32m    176\u001b[0m         \u001b[38;5;66;03m# print(Q.shape)\u001b[39;00m\n\u001b[1;32m    177\u001b[0m         \u001b[38;5;66;03m#find which action gives the highest reward\u001b[39;00m\n\u001b[1;32m    178\u001b[0m         \u001b[38;5;66;03m# high_reward =  self.get_reward(train_x, train_y, ' '.join(actions))\u001b[39;00m\n\u001b[1;32m    179\u001b[0m \u001b[38;5;66;03m#         print(Q.argmax(-1))\u001b[39;00m\n\u001b[1;32m    180\u001b[0m \u001b[38;5;66;03m#         print(Q.argmax(-1))\u001b[39;00m\n\u001b[1;32m    181\u001b[0m         high_reward \u001b[38;5;241m=\u001b[39m torch\u001b[38;5;241m.\u001b[39mtensor([\u001b[38;5;28mself\u001b[39m\u001b[38;5;241m.\u001b[39mget_reward(train_x, train_y, \u001b[38;5;124m'\u001b[39m\u001b[38;5;124m \u001b[39m\u001b[38;5;124m'\u001b[39m\u001b[38;5;241m.\u001b[39mjoin(action)) \u001b[38;5;28;01mfor\u001b[39;00m action \u001b[38;5;129;01min\u001b[39;00m actions])\u001b[38;5;241m.\u001b[39mto(\u001b[38;5;124m'\u001b[39m\u001b[38;5;124mmps\u001b[39m\u001b[38;5;124m'\u001b[39m)\n\u001b[0;32m--> 182\u001b[0m         accuracy \u001b[38;5;241m=\u001b[39m torch\u001b[38;5;241m.\u001b[39mtensor([\u001b[38;5;28;43mself\u001b[39;49m\u001b[38;5;241;43m.\u001b[39;49m\u001b[43mget_accuracy\u001b[49m\u001b[43m(\u001b[49m\u001b[43mtrain_x\u001b[49m\u001b[43m,\u001b[49m\u001b[43m \u001b[49m\u001b[43mtrain_y\u001b[49m\u001b[43m,\u001b[49m\u001b[43m \u001b[49m\u001b[38;5;124;43m'\u001b[39;49m\u001b[38;5;124;43m \u001b[39;49m\u001b[38;5;124;43m'\u001b[39;49m\u001b[38;5;241;43m.\u001b[39;49m\u001b[43mjoin\u001b[49m\u001b[43m(\u001b[49m\u001b[43maction\u001b[49m\u001b[43m)\u001b[49m\u001b[43m)\u001b[49m \u001b[38;5;28;01mfor\u001b[39;00m action \u001b[38;5;129;01min\u001b[39;00m actions])\n\u001b[1;32m    183\u001b[0m         reward \u001b[38;5;241m=\u001b[39m high_reward\u001b[38;5;241m*\u001b[39m\u001b[38;5;241m2\u001b[39m\u001b[38;5;241m-\u001b[39m\u001b[38;5;241m1\u001b[39m\n\u001b[1;32m    184\u001b[0m         \u001b[38;5;28;01mif\u001b[39;00m reward\u001b[38;5;241m.\u001b[39mstd() \u001b[38;5;241m>\u001b[39m \u001b[38;5;241m1e-3\u001b[39m:\n",
      "Cell \u001b[0;32mIn[3], line 147\u001b[0m, in \u001b[0;36mQLearner.get_accuracy\u001b[0;34m(self, train_x, train_y, prompt)\u001b[0m\n\u001b[1;32m    145\u001b[0m         accurate \u001b[38;5;241m=\u001b[39m \u001b[38;5;241m0\u001b[39m\n\u001b[1;32m    146\u001b[0m         \u001b[38;5;28;01mfor\u001b[39;00m sentence, \u001b[38;5;28mcls\u001b[39m \u001b[38;5;129;01min\u001b[39;00m \u001b[38;5;28mzip\u001b[39m(train_x, train_y):\n\u001b[0;32m--> 147\u001b[0m                 word_cls \u001b[38;5;241m=\u001b[39m \u001b[38;5;28;43mself\u001b[39;49m\u001b[38;5;241;43m.\u001b[39;49m\u001b[43mmlm\u001b[49m\u001b[38;5;241;43m.\u001b[39;49m\u001b[43mget_masked_word_class\u001b[49m\u001b[43m(\u001b[49m\u001b[43msentence\u001b[49m\u001b[43m,\u001b[49m\u001b[43m \u001b[49m\u001b[43mprompt\u001b[49m\u001b[43m)\u001b[49m\n\u001b[1;32m    148\u001b[0m \u001b[38;5;66;03m#                 if (word_cls[0]['token_str'] == 'good' and cls == 1) or (word_cls[0]['token_str'] == 'bad' and cls == 0):\u001b[39;00m\n\u001b[1;32m    149\u001b[0m \u001b[38;5;66;03m#                     reward = \u001b[39;00m\n\u001b[1;32m    150\u001b[0m \u001b[38;5;66;03m#                 else:\u001b[39;00m\n\u001b[1;32m    151\u001b[0m \u001b[38;5;66;03m#                     incorrect +=1\u001b[39;00m\n\u001b[1;32m    152\u001b[0m                 \u001b[38;5;28;01mif\u001b[39;00m (word_cls[\u001b[38;5;241m0\u001b[39m][\u001b[38;5;124m'\u001b[39m\u001b[38;5;124mtoken_str\u001b[39m\u001b[38;5;124m'\u001b[39m] \u001b[38;5;241m==\u001b[39m \u001b[38;5;124m'\u001b[39m\u001b[38;5;124mgood\u001b[39m\u001b[38;5;124m'\u001b[39m \u001b[38;5;129;01mand\u001b[39;00m \u001b[38;5;28mcls\u001b[39m \u001b[38;5;241m==\u001b[39m \u001b[38;5;241m1\u001b[39m) \u001b[38;5;129;01mor\u001b[39;00m (word_cls[\u001b[38;5;241m0\u001b[39m][\u001b[38;5;124m'\u001b[39m\u001b[38;5;124mtoken_str\u001b[39m\u001b[38;5;124m'\u001b[39m] \u001b[38;5;241m==\u001b[39m \u001b[38;5;124m'\u001b[39m\u001b[38;5;124mbad\u001b[39m\u001b[38;5;124m'\u001b[39m \u001b[38;5;129;01mand\u001b[39;00m \u001b[38;5;28mcls\u001b[39m \u001b[38;5;241m==\u001b[39m \u001b[38;5;241m0\u001b[39m):\n",
      "Cell \u001b[0;32mIn[2], line 13\u001b[0m, in \u001b[0;36mMLM.get_masked_word_class\u001b[0;34m(self, input, prompt)\u001b[0m\n\u001b[1;32m     12\u001b[0m \u001b[38;5;28;01mdef\u001b[39;00m \u001b[38;5;21mget_masked_word_class\u001b[39m(\u001b[38;5;28mself\u001b[39m, \u001b[38;5;28minput\u001b[39m, prompt):\n\u001b[0;32m---> 13\u001b[0m   \u001b[38;5;28;01mreturn\u001b[39;00m \u001b[38;5;28;43mself\u001b[39;49m\u001b[38;5;241;43m.\u001b[39;49m\u001b[43munmasker\u001b[49m\u001b[43m(\u001b[49m\u001b[38;5;124;43mf\u001b[39;49m\u001b[38;5;124;43m'\u001b[39;49m\u001b[38;5;132;43;01m{\u001b[39;49;00m\u001b[38;5;28;43minput\u001b[39;49m\u001b[38;5;132;43;01m}\u001b[39;49;00m\u001b[38;5;124;43m \u001b[39;49m\u001b[38;5;132;43;01m{\u001b[39;49;00m\u001b[43mprompt\u001b[49m\u001b[38;5;132;43;01m}\u001b[39;49;00m\u001b[38;5;124;43m <mask>\u001b[39;49m\u001b[38;5;124;43m'\u001b[39;49m\u001b[43m,\u001b[49m\u001b[43m \u001b[49m\u001b[43mtargets\u001b[49m\u001b[43m \u001b[49m\u001b[38;5;241;43m=\u001b[39;49m\u001b[43m \u001b[49m\u001b[43m[\u001b[49m\u001b[38;5;124;43m'\u001b[39;49m\u001b[38;5;124;43mgood\u001b[39;49m\u001b[38;5;124;43m'\u001b[39;49m\u001b[43m,\u001b[49m\u001b[43m \u001b[49m\u001b[38;5;124;43m'\u001b[39;49m\u001b[38;5;124;43mbad\u001b[39;49m\u001b[38;5;124;43m'\u001b[39;49m\u001b[43m]\u001b[49m\u001b[43m)\u001b[49m\n",
      "File \u001b[0;32m/Library/Frameworks/Python.framework/Versions/3.9/lib/python3.9/site-packages/transformers/pipelines/fill_mask.py:225\u001b[0m, in \u001b[0;36mFillMaskPipeline.__call__\u001b[0;34m(self, inputs, *args, **kwargs)\u001b[0m\n\u001b[1;32m    203\u001b[0m \u001b[38;5;28;01mdef\u001b[39;00m \u001b[38;5;21m__call__\u001b[39m(\u001b[38;5;28mself\u001b[39m, inputs, \u001b[38;5;241m*\u001b[39margs, \u001b[38;5;241m*\u001b[39m\u001b[38;5;241m*\u001b[39mkwargs):\n\u001b[1;32m    204\u001b[0m \u001b[38;5;250m    \u001b[39m\u001b[38;5;124;03m\"\"\"\u001b[39;00m\n\u001b[1;32m    205\u001b[0m \u001b[38;5;124;03m    Fill the masked token in the text(s) given as inputs.\u001b[39;00m\n\u001b[1;32m    206\u001b[0m \n\u001b[0;32m   (...)\u001b[0m\n\u001b[1;32m    223\u001b[0m \u001b[38;5;124;03m        - **token** (:obj:`str`) -- The predicted token (to replace the masked one).\u001b[39;00m\n\u001b[1;32m    224\u001b[0m \u001b[38;5;124;03m    \"\"\"\u001b[39;00m\n\u001b[0;32m--> 225\u001b[0m     outputs \u001b[38;5;241m=\u001b[39m \u001b[38;5;28;43msuper\u001b[39;49m\u001b[43m(\u001b[49m\u001b[43m)\u001b[49m\u001b[38;5;241;43m.\u001b[39;49m\u001b[38;5;21;43m__call__\u001b[39;49m\u001b[43m(\u001b[49m\u001b[43minputs\u001b[49m\u001b[43m,\u001b[49m\u001b[43m \u001b[49m\u001b[38;5;241;43m*\u001b[39;49m\u001b[38;5;241;43m*\u001b[39;49m\u001b[43mkwargs\u001b[49m\u001b[43m)\u001b[49m\n\u001b[1;32m    226\u001b[0m     \u001b[38;5;28;01mif\u001b[39;00m \u001b[38;5;28misinstance\u001b[39m(inputs, \u001b[38;5;28mlist\u001b[39m) \u001b[38;5;129;01mand\u001b[39;00m \u001b[38;5;28mlen\u001b[39m(inputs) \u001b[38;5;241m==\u001b[39m \u001b[38;5;241m1\u001b[39m:\n\u001b[1;32m    227\u001b[0m         \u001b[38;5;28;01mreturn\u001b[39;00m outputs[\u001b[38;5;241m0\u001b[39m]\n",
      "File \u001b[0;32m/Library/Frameworks/Python.framework/Versions/3.9/lib/python3.9/site-packages/transformers/pipelines/base.py:1103\u001b[0m, in \u001b[0;36mPipeline.__call__\u001b[0;34m(self, inputs, num_workers, batch_size, *args, **kwargs)\u001b[0m\n\u001b[1;32m   1101\u001b[0m         \u001b[38;5;28;01mreturn\u001b[39;00m \u001b[38;5;28mself\u001b[39m\u001b[38;5;241m.\u001b[39miterate(inputs, preprocess_params, forward_params, postprocess_params)\n\u001b[1;32m   1102\u001b[0m \u001b[38;5;28;01melse\u001b[39;00m:\n\u001b[0;32m-> 1103\u001b[0m     \u001b[38;5;28;01mreturn\u001b[39;00m \u001b[38;5;28;43mself\u001b[39;49m\u001b[38;5;241;43m.\u001b[39;49m\u001b[43mrun_single\u001b[49m\u001b[43m(\u001b[49m\u001b[43minputs\u001b[49m\u001b[43m,\u001b[49m\u001b[43m \u001b[49m\u001b[43mpreprocess_params\u001b[49m\u001b[43m,\u001b[49m\u001b[43m \u001b[49m\u001b[43mforward_params\u001b[49m\u001b[43m,\u001b[49m\u001b[43m \u001b[49m\u001b[43mpostprocess_params\u001b[49m\u001b[43m)\u001b[49m\n",
      "File \u001b[0;32m/Library/Frameworks/Python.framework/Versions/3.9/lib/python3.9/site-packages/transformers/pipelines/base.py:1110\u001b[0m, in \u001b[0;36mPipeline.run_single\u001b[0;34m(self, inputs, preprocess_params, forward_params, postprocess_params)\u001b[0m\n\u001b[1;32m   1108\u001b[0m \u001b[38;5;28;01mdef\u001b[39;00m \u001b[38;5;21mrun_single\u001b[39m(\u001b[38;5;28mself\u001b[39m, inputs, preprocess_params, forward_params, postprocess_params):\n\u001b[1;32m   1109\u001b[0m     model_inputs \u001b[38;5;241m=\u001b[39m \u001b[38;5;28mself\u001b[39m\u001b[38;5;241m.\u001b[39mpreprocess(inputs, \u001b[38;5;241m*\u001b[39m\u001b[38;5;241m*\u001b[39mpreprocess_params)\n\u001b[0;32m-> 1110\u001b[0m     model_outputs \u001b[38;5;241m=\u001b[39m \u001b[38;5;28;43mself\u001b[39;49m\u001b[38;5;241;43m.\u001b[39;49m\u001b[43mforward\u001b[49m\u001b[43m(\u001b[49m\u001b[43mmodel_inputs\u001b[49m\u001b[43m,\u001b[49m\u001b[43m \u001b[49m\u001b[38;5;241;43m*\u001b[39;49m\u001b[38;5;241;43m*\u001b[39;49m\u001b[43mforward_params\u001b[49m\u001b[43m)\u001b[49m\n\u001b[1;32m   1111\u001b[0m     outputs \u001b[38;5;241m=\u001b[39m \u001b[38;5;28mself\u001b[39m\u001b[38;5;241m.\u001b[39mpostprocess(model_outputs, \u001b[38;5;241m*\u001b[39m\u001b[38;5;241m*\u001b[39mpostprocess_params)\n\u001b[1;32m   1112\u001b[0m     \u001b[38;5;28;01mreturn\u001b[39;00m outputs\n",
      "File \u001b[0;32m/Library/Frameworks/Python.framework/Versions/3.9/lib/python3.9/site-packages/transformers/pipelines/base.py:1036\u001b[0m, in \u001b[0;36mPipeline.forward\u001b[0;34m(self, model_inputs, **forward_params)\u001b[0m\n\u001b[1;32m   1034\u001b[0m     \u001b[38;5;28;01mwith\u001b[39;00m inference_context():\n\u001b[1;32m   1035\u001b[0m         model_inputs \u001b[38;5;241m=\u001b[39m \u001b[38;5;28mself\u001b[39m\u001b[38;5;241m.\u001b[39m_ensure_tensor_on_device(model_inputs, device\u001b[38;5;241m=\u001b[39m\u001b[38;5;28mself\u001b[39m\u001b[38;5;241m.\u001b[39mdevice)\n\u001b[0;32m-> 1036\u001b[0m         model_outputs \u001b[38;5;241m=\u001b[39m \u001b[38;5;28;43mself\u001b[39;49m\u001b[38;5;241;43m.\u001b[39;49m\u001b[43m_forward\u001b[49m\u001b[43m(\u001b[49m\u001b[43mmodel_inputs\u001b[49m\u001b[43m,\u001b[49m\u001b[43m \u001b[49m\u001b[38;5;241;43m*\u001b[39;49m\u001b[38;5;241;43m*\u001b[39;49m\u001b[43mforward_params\u001b[49m\u001b[43m)\u001b[49m\n\u001b[1;32m   1037\u001b[0m         model_outputs \u001b[38;5;241m=\u001b[39m \u001b[38;5;28mself\u001b[39m\u001b[38;5;241m.\u001b[39m_ensure_tensor_on_device(model_outputs, device\u001b[38;5;241m=\u001b[39mtorch\u001b[38;5;241m.\u001b[39mdevice(\u001b[38;5;124m\"\u001b[39m\u001b[38;5;124mcpu\u001b[39m\u001b[38;5;124m\"\u001b[39m))\n\u001b[1;32m   1038\u001b[0m \u001b[38;5;28;01melse\u001b[39;00m:\n",
      "File \u001b[0;32m/Library/Frameworks/Python.framework/Versions/3.9/lib/python3.9/site-packages/transformers/pipelines/fill_mask.py:87\u001b[0m, in \u001b[0;36mFillMaskPipeline._forward\u001b[0;34m(self, model_inputs)\u001b[0m\n\u001b[1;32m     86\u001b[0m \u001b[38;5;28;01mdef\u001b[39;00m \u001b[38;5;21m_forward\u001b[39m(\u001b[38;5;28mself\u001b[39m, model_inputs):\n\u001b[0;32m---> 87\u001b[0m     model_outputs \u001b[38;5;241m=\u001b[39m \u001b[38;5;28;43mself\u001b[39;49m\u001b[38;5;241;43m.\u001b[39;49m\u001b[43mmodel\u001b[49m\u001b[43m(\u001b[49m\u001b[38;5;241;43m*\u001b[39;49m\u001b[38;5;241;43m*\u001b[39;49m\u001b[43mmodel_inputs\u001b[49m\u001b[43m)\u001b[49m\n\u001b[1;32m     88\u001b[0m     model_outputs[\u001b[38;5;124m\"\u001b[39m\u001b[38;5;124minput_ids\u001b[39m\u001b[38;5;124m\"\u001b[39m] \u001b[38;5;241m=\u001b[39m model_inputs[\u001b[38;5;124m\"\u001b[39m\u001b[38;5;124minput_ids\u001b[39m\u001b[38;5;124m\"\u001b[39m]\n\u001b[1;32m     89\u001b[0m     \u001b[38;5;28;01mreturn\u001b[39;00m model_outputs\n",
      "File \u001b[0;32m/Library/Frameworks/Python.framework/Versions/3.9/lib/python3.9/site-packages/torch/nn/modules/module.py:1501\u001b[0m, in \u001b[0;36mModule._call_impl\u001b[0;34m(self, *args, **kwargs)\u001b[0m\n\u001b[1;32m   1496\u001b[0m \u001b[38;5;66;03m# If we don't have any hooks, we want to skip the rest of the logic in\u001b[39;00m\n\u001b[1;32m   1497\u001b[0m \u001b[38;5;66;03m# this function, and just call forward.\u001b[39;00m\n\u001b[1;32m   1498\u001b[0m \u001b[38;5;28;01mif\u001b[39;00m \u001b[38;5;129;01mnot\u001b[39;00m (\u001b[38;5;28mself\u001b[39m\u001b[38;5;241m.\u001b[39m_backward_hooks \u001b[38;5;129;01mor\u001b[39;00m \u001b[38;5;28mself\u001b[39m\u001b[38;5;241m.\u001b[39m_backward_pre_hooks \u001b[38;5;129;01mor\u001b[39;00m \u001b[38;5;28mself\u001b[39m\u001b[38;5;241m.\u001b[39m_forward_hooks \u001b[38;5;129;01mor\u001b[39;00m \u001b[38;5;28mself\u001b[39m\u001b[38;5;241m.\u001b[39m_forward_pre_hooks\n\u001b[1;32m   1499\u001b[0m         \u001b[38;5;129;01mor\u001b[39;00m _global_backward_pre_hooks \u001b[38;5;129;01mor\u001b[39;00m _global_backward_hooks\n\u001b[1;32m   1500\u001b[0m         \u001b[38;5;129;01mor\u001b[39;00m _global_forward_hooks \u001b[38;5;129;01mor\u001b[39;00m _global_forward_pre_hooks):\n\u001b[0;32m-> 1501\u001b[0m     \u001b[38;5;28;01mreturn\u001b[39;00m \u001b[43mforward_call\u001b[49m\u001b[43m(\u001b[49m\u001b[38;5;241;43m*\u001b[39;49m\u001b[43margs\u001b[49m\u001b[43m,\u001b[49m\u001b[43m \u001b[49m\u001b[38;5;241;43m*\u001b[39;49m\u001b[38;5;241;43m*\u001b[39;49m\u001b[43mkwargs\u001b[49m\u001b[43m)\u001b[49m\n\u001b[1;32m   1502\u001b[0m \u001b[38;5;66;03m# Do not call functions when jit is used\u001b[39;00m\n\u001b[1;32m   1503\u001b[0m full_backward_hooks, non_full_backward_hooks \u001b[38;5;241m=\u001b[39m [], []\n",
      "File \u001b[0;32m/Library/Frameworks/Python.framework/Versions/3.9/lib/python3.9/site-packages/transformers/models/roberta/modeling_roberta.py:1097\u001b[0m, in \u001b[0;36mRobertaForMaskedLM.forward\u001b[0;34m(self, input_ids, attention_mask, token_type_ids, position_ids, head_mask, inputs_embeds, encoder_hidden_states, encoder_attention_mask, labels, output_attentions, output_hidden_states, return_dict)\u001b[0m\n\u001b[1;32m   1087\u001b[0m \u001b[38;5;250m\u001b[39m\u001b[38;5;124mr\u001b[39m\u001b[38;5;124;03m\"\"\"\u001b[39;00m\n\u001b[1;32m   1088\u001b[0m \u001b[38;5;124;03mlabels (:obj:`torch.LongTensor` of shape :obj:`(batch_size, sequence_length)`, `optional`):\u001b[39;00m\n\u001b[1;32m   1089\u001b[0m \u001b[38;5;124;03m    Labels for computing the masked language modeling loss. Indices should be in ``[-100, 0, ...,\u001b[39;00m\n\u001b[0;32m   (...)\u001b[0m\n\u001b[1;32m   1093\u001b[0m \u001b[38;5;124;03m    Used to hide legacy arguments that have been deprecated.\u001b[39;00m\n\u001b[1;32m   1094\u001b[0m \u001b[38;5;124;03m\"\"\"\u001b[39;00m\n\u001b[1;32m   1095\u001b[0m return_dict \u001b[38;5;241m=\u001b[39m return_dict \u001b[38;5;28;01mif\u001b[39;00m return_dict \u001b[38;5;129;01mis\u001b[39;00m \u001b[38;5;129;01mnot\u001b[39;00m \u001b[38;5;28;01mNone\u001b[39;00m \u001b[38;5;28;01melse\u001b[39;00m \u001b[38;5;28mself\u001b[39m\u001b[38;5;241m.\u001b[39mconfig\u001b[38;5;241m.\u001b[39muse_return_dict\n\u001b[0;32m-> 1097\u001b[0m outputs \u001b[38;5;241m=\u001b[39m \u001b[38;5;28;43mself\u001b[39;49m\u001b[38;5;241;43m.\u001b[39;49m\u001b[43mroberta\u001b[49m\u001b[43m(\u001b[49m\n\u001b[1;32m   1098\u001b[0m \u001b[43m    \u001b[49m\u001b[43minput_ids\u001b[49m\u001b[43m,\u001b[49m\n\u001b[1;32m   1099\u001b[0m \u001b[43m    \u001b[49m\u001b[43mattention_mask\u001b[49m\u001b[38;5;241;43m=\u001b[39;49m\u001b[43mattention_mask\u001b[49m\u001b[43m,\u001b[49m\n\u001b[1;32m   1100\u001b[0m \u001b[43m    \u001b[49m\u001b[43mtoken_type_ids\u001b[49m\u001b[38;5;241;43m=\u001b[39;49m\u001b[43mtoken_type_ids\u001b[49m\u001b[43m,\u001b[49m\n\u001b[1;32m   1101\u001b[0m \u001b[43m    \u001b[49m\u001b[43mposition_ids\u001b[49m\u001b[38;5;241;43m=\u001b[39;49m\u001b[43mposition_ids\u001b[49m\u001b[43m,\u001b[49m\n\u001b[1;32m   1102\u001b[0m \u001b[43m    \u001b[49m\u001b[43mhead_mask\u001b[49m\u001b[38;5;241;43m=\u001b[39;49m\u001b[43mhead_mask\u001b[49m\u001b[43m,\u001b[49m\n\u001b[1;32m   1103\u001b[0m \u001b[43m    \u001b[49m\u001b[43minputs_embeds\u001b[49m\u001b[38;5;241;43m=\u001b[39;49m\u001b[43minputs_embeds\u001b[49m\u001b[43m,\u001b[49m\n\u001b[1;32m   1104\u001b[0m \u001b[43m    \u001b[49m\u001b[43mencoder_hidden_states\u001b[49m\u001b[38;5;241;43m=\u001b[39;49m\u001b[43mencoder_hidden_states\u001b[49m\u001b[43m,\u001b[49m\n\u001b[1;32m   1105\u001b[0m \u001b[43m    \u001b[49m\u001b[43mencoder_attention_mask\u001b[49m\u001b[38;5;241;43m=\u001b[39;49m\u001b[43mencoder_attention_mask\u001b[49m\u001b[43m,\u001b[49m\n\u001b[1;32m   1106\u001b[0m \u001b[43m    \u001b[49m\u001b[43moutput_attentions\u001b[49m\u001b[38;5;241;43m=\u001b[39;49m\u001b[43moutput_attentions\u001b[49m\u001b[43m,\u001b[49m\n\u001b[1;32m   1107\u001b[0m \u001b[43m    \u001b[49m\u001b[43moutput_hidden_states\u001b[49m\u001b[38;5;241;43m=\u001b[39;49m\u001b[43moutput_hidden_states\u001b[49m\u001b[43m,\u001b[49m\n\u001b[1;32m   1108\u001b[0m \u001b[43m    \u001b[49m\u001b[43mreturn_dict\u001b[49m\u001b[38;5;241;43m=\u001b[39;49m\u001b[43mreturn_dict\u001b[49m\u001b[43m,\u001b[49m\n\u001b[1;32m   1109\u001b[0m \u001b[43m\u001b[49m\u001b[43m)\u001b[49m\n\u001b[1;32m   1110\u001b[0m sequence_output \u001b[38;5;241m=\u001b[39m outputs[\u001b[38;5;241m0\u001b[39m]\n\u001b[1;32m   1111\u001b[0m prediction_scores \u001b[38;5;241m=\u001b[39m \u001b[38;5;28mself\u001b[39m\u001b[38;5;241m.\u001b[39mlm_head(sequence_output)\n",
      "File \u001b[0;32m/Library/Frameworks/Python.framework/Versions/3.9/lib/python3.9/site-packages/torch/nn/modules/module.py:1501\u001b[0m, in \u001b[0;36mModule._call_impl\u001b[0;34m(self, *args, **kwargs)\u001b[0m\n\u001b[1;32m   1496\u001b[0m \u001b[38;5;66;03m# If we don't have any hooks, we want to skip the rest of the logic in\u001b[39;00m\n\u001b[1;32m   1497\u001b[0m \u001b[38;5;66;03m# this function, and just call forward.\u001b[39;00m\n\u001b[1;32m   1498\u001b[0m \u001b[38;5;28;01mif\u001b[39;00m \u001b[38;5;129;01mnot\u001b[39;00m (\u001b[38;5;28mself\u001b[39m\u001b[38;5;241m.\u001b[39m_backward_hooks \u001b[38;5;129;01mor\u001b[39;00m \u001b[38;5;28mself\u001b[39m\u001b[38;5;241m.\u001b[39m_backward_pre_hooks \u001b[38;5;129;01mor\u001b[39;00m \u001b[38;5;28mself\u001b[39m\u001b[38;5;241m.\u001b[39m_forward_hooks \u001b[38;5;129;01mor\u001b[39;00m \u001b[38;5;28mself\u001b[39m\u001b[38;5;241m.\u001b[39m_forward_pre_hooks\n\u001b[1;32m   1499\u001b[0m         \u001b[38;5;129;01mor\u001b[39;00m _global_backward_pre_hooks \u001b[38;5;129;01mor\u001b[39;00m _global_backward_hooks\n\u001b[1;32m   1500\u001b[0m         \u001b[38;5;129;01mor\u001b[39;00m _global_forward_hooks \u001b[38;5;129;01mor\u001b[39;00m _global_forward_pre_hooks):\n\u001b[0;32m-> 1501\u001b[0m     \u001b[38;5;28;01mreturn\u001b[39;00m \u001b[43mforward_call\u001b[49m\u001b[43m(\u001b[49m\u001b[38;5;241;43m*\u001b[39;49m\u001b[43margs\u001b[49m\u001b[43m,\u001b[49m\u001b[43m \u001b[49m\u001b[38;5;241;43m*\u001b[39;49m\u001b[38;5;241;43m*\u001b[39;49m\u001b[43mkwargs\u001b[49m\u001b[43m)\u001b[49m\n\u001b[1;32m   1502\u001b[0m \u001b[38;5;66;03m# Do not call functions when jit is used\u001b[39;00m\n\u001b[1;32m   1503\u001b[0m full_backward_hooks, non_full_backward_hooks \u001b[38;5;241m=\u001b[39m [], []\n",
      "File \u001b[0;32m/Library/Frameworks/Python.framework/Versions/3.9/lib/python3.9/site-packages/transformers/models/roberta/modeling_roberta.py:853\u001b[0m, in \u001b[0;36mRobertaModel.forward\u001b[0;34m(self, input_ids, attention_mask, token_type_ids, position_ids, head_mask, inputs_embeds, encoder_hidden_states, encoder_attention_mask, past_key_values, use_cache, output_attentions, output_hidden_states, return_dict)\u001b[0m\n\u001b[1;32m    844\u001b[0m head_mask \u001b[38;5;241m=\u001b[39m \u001b[38;5;28mself\u001b[39m\u001b[38;5;241m.\u001b[39mget_head_mask(head_mask, \u001b[38;5;28mself\u001b[39m\u001b[38;5;241m.\u001b[39mconfig\u001b[38;5;241m.\u001b[39mnum_hidden_layers)\n\u001b[1;32m    846\u001b[0m embedding_output \u001b[38;5;241m=\u001b[39m \u001b[38;5;28mself\u001b[39m\u001b[38;5;241m.\u001b[39membeddings(\n\u001b[1;32m    847\u001b[0m     input_ids\u001b[38;5;241m=\u001b[39minput_ids,\n\u001b[1;32m    848\u001b[0m     position_ids\u001b[38;5;241m=\u001b[39mposition_ids,\n\u001b[0;32m   (...)\u001b[0m\n\u001b[1;32m    851\u001b[0m     past_key_values_length\u001b[38;5;241m=\u001b[39mpast_key_values_length,\n\u001b[1;32m    852\u001b[0m )\n\u001b[0;32m--> 853\u001b[0m encoder_outputs \u001b[38;5;241m=\u001b[39m \u001b[38;5;28;43mself\u001b[39;49m\u001b[38;5;241;43m.\u001b[39;49m\u001b[43mencoder\u001b[49m\u001b[43m(\u001b[49m\n\u001b[1;32m    854\u001b[0m \u001b[43m    \u001b[49m\u001b[43membedding_output\u001b[49m\u001b[43m,\u001b[49m\n\u001b[1;32m    855\u001b[0m \u001b[43m    \u001b[49m\u001b[43mattention_mask\u001b[49m\u001b[38;5;241;43m=\u001b[39;49m\u001b[43mextended_attention_mask\u001b[49m\u001b[43m,\u001b[49m\n\u001b[1;32m    856\u001b[0m \u001b[43m    \u001b[49m\u001b[43mhead_mask\u001b[49m\u001b[38;5;241;43m=\u001b[39;49m\u001b[43mhead_mask\u001b[49m\u001b[43m,\u001b[49m\n\u001b[1;32m    857\u001b[0m \u001b[43m    \u001b[49m\u001b[43mencoder_hidden_states\u001b[49m\u001b[38;5;241;43m=\u001b[39;49m\u001b[43mencoder_hidden_states\u001b[49m\u001b[43m,\u001b[49m\n\u001b[1;32m    858\u001b[0m \u001b[43m    \u001b[49m\u001b[43mencoder_attention_mask\u001b[49m\u001b[38;5;241;43m=\u001b[39;49m\u001b[43mencoder_extended_attention_mask\u001b[49m\u001b[43m,\u001b[49m\n\u001b[1;32m    859\u001b[0m \u001b[43m    \u001b[49m\u001b[43mpast_key_values\u001b[49m\u001b[38;5;241;43m=\u001b[39;49m\u001b[43mpast_key_values\u001b[49m\u001b[43m,\u001b[49m\n\u001b[1;32m    860\u001b[0m \u001b[43m    \u001b[49m\u001b[43muse_cache\u001b[49m\u001b[38;5;241;43m=\u001b[39;49m\u001b[43muse_cache\u001b[49m\u001b[43m,\u001b[49m\n\u001b[1;32m    861\u001b[0m \u001b[43m    \u001b[49m\u001b[43moutput_attentions\u001b[49m\u001b[38;5;241;43m=\u001b[39;49m\u001b[43moutput_attentions\u001b[49m\u001b[43m,\u001b[49m\n\u001b[1;32m    862\u001b[0m \u001b[43m    \u001b[49m\u001b[43moutput_hidden_states\u001b[49m\u001b[38;5;241;43m=\u001b[39;49m\u001b[43moutput_hidden_states\u001b[49m\u001b[43m,\u001b[49m\n\u001b[1;32m    863\u001b[0m \u001b[43m    \u001b[49m\u001b[43mreturn_dict\u001b[49m\u001b[38;5;241;43m=\u001b[39;49m\u001b[43mreturn_dict\u001b[49m\u001b[43m,\u001b[49m\n\u001b[1;32m    864\u001b[0m \u001b[43m\u001b[49m\u001b[43m)\u001b[49m\n\u001b[1;32m    865\u001b[0m sequence_output \u001b[38;5;241m=\u001b[39m encoder_outputs[\u001b[38;5;241m0\u001b[39m]\n\u001b[1;32m    866\u001b[0m pooled_output \u001b[38;5;241m=\u001b[39m \u001b[38;5;28mself\u001b[39m\u001b[38;5;241m.\u001b[39mpooler(sequence_output) \u001b[38;5;28;01mif\u001b[39;00m \u001b[38;5;28mself\u001b[39m\u001b[38;5;241m.\u001b[39mpooler \u001b[38;5;129;01mis\u001b[39;00m \u001b[38;5;129;01mnot\u001b[39;00m \u001b[38;5;28;01mNone\u001b[39;00m \u001b[38;5;28;01melse\u001b[39;00m \u001b[38;5;28;01mNone\u001b[39;00m\n",
      "File \u001b[0;32m/Library/Frameworks/Python.framework/Versions/3.9/lib/python3.9/site-packages/torch/nn/modules/module.py:1501\u001b[0m, in \u001b[0;36mModule._call_impl\u001b[0;34m(self, *args, **kwargs)\u001b[0m\n\u001b[1;32m   1496\u001b[0m \u001b[38;5;66;03m# If we don't have any hooks, we want to skip the rest of the logic in\u001b[39;00m\n\u001b[1;32m   1497\u001b[0m \u001b[38;5;66;03m# this function, and just call forward.\u001b[39;00m\n\u001b[1;32m   1498\u001b[0m \u001b[38;5;28;01mif\u001b[39;00m \u001b[38;5;129;01mnot\u001b[39;00m (\u001b[38;5;28mself\u001b[39m\u001b[38;5;241m.\u001b[39m_backward_hooks \u001b[38;5;129;01mor\u001b[39;00m \u001b[38;5;28mself\u001b[39m\u001b[38;5;241m.\u001b[39m_backward_pre_hooks \u001b[38;5;129;01mor\u001b[39;00m \u001b[38;5;28mself\u001b[39m\u001b[38;5;241m.\u001b[39m_forward_hooks \u001b[38;5;129;01mor\u001b[39;00m \u001b[38;5;28mself\u001b[39m\u001b[38;5;241m.\u001b[39m_forward_pre_hooks\n\u001b[1;32m   1499\u001b[0m         \u001b[38;5;129;01mor\u001b[39;00m _global_backward_pre_hooks \u001b[38;5;129;01mor\u001b[39;00m _global_backward_hooks\n\u001b[1;32m   1500\u001b[0m         \u001b[38;5;129;01mor\u001b[39;00m _global_forward_hooks \u001b[38;5;129;01mor\u001b[39;00m _global_forward_pre_hooks):\n\u001b[0;32m-> 1501\u001b[0m     \u001b[38;5;28;01mreturn\u001b[39;00m \u001b[43mforward_call\u001b[49m\u001b[43m(\u001b[49m\u001b[38;5;241;43m*\u001b[39;49m\u001b[43margs\u001b[49m\u001b[43m,\u001b[49m\u001b[43m \u001b[49m\u001b[38;5;241;43m*\u001b[39;49m\u001b[38;5;241;43m*\u001b[39;49m\u001b[43mkwargs\u001b[49m\u001b[43m)\u001b[49m\n\u001b[1;32m   1502\u001b[0m \u001b[38;5;66;03m# Do not call functions when jit is used\u001b[39;00m\n\u001b[1;32m   1503\u001b[0m full_backward_hooks, non_full_backward_hooks \u001b[38;5;241m=\u001b[39m [], []\n",
      "File \u001b[0;32m/Library/Frameworks/Python.framework/Versions/3.9/lib/python3.9/site-packages/transformers/models/roberta/modeling_roberta.py:526\u001b[0m, in \u001b[0;36mRobertaEncoder.forward\u001b[0;34m(self, hidden_states, attention_mask, head_mask, encoder_hidden_states, encoder_attention_mask, past_key_values, use_cache, output_attentions, output_hidden_states, return_dict)\u001b[0m\n\u001b[1;32m    517\u001b[0m     layer_outputs \u001b[38;5;241m=\u001b[39m torch\u001b[38;5;241m.\u001b[39mutils\u001b[38;5;241m.\u001b[39mcheckpoint\u001b[38;5;241m.\u001b[39mcheckpoint(\n\u001b[1;32m    518\u001b[0m         create_custom_forward(layer_module),\n\u001b[1;32m    519\u001b[0m         hidden_states,\n\u001b[0;32m   (...)\u001b[0m\n\u001b[1;32m    523\u001b[0m         encoder_attention_mask,\n\u001b[1;32m    524\u001b[0m     )\n\u001b[1;32m    525\u001b[0m \u001b[38;5;28;01melse\u001b[39;00m:\n\u001b[0;32m--> 526\u001b[0m     layer_outputs \u001b[38;5;241m=\u001b[39m \u001b[43mlayer_module\u001b[49m\u001b[43m(\u001b[49m\n\u001b[1;32m    527\u001b[0m \u001b[43m        \u001b[49m\u001b[43mhidden_states\u001b[49m\u001b[43m,\u001b[49m\n\u001b[1;32m    528\u001b[0m \u001b[43m        \u001b[49m\u001b[43mattention_mask\u001b[49m\u001b[43m,\u001b[49m\n\u001b[1;32m    529\u001b[0m \u001b[43m        \u001b[49m\u001b[43mlayer_head_mask\u001b[49m\u001b[43m,\u001b[49m\n\u001b[1;32m    530\u001b[0m \u001b[43m        \u001b[49m\u001b[43mencoder_hidden_states\u001b[49m\u001b[43m,\u001b[49m\n\u001b[1;32m    531\u001b[0m \u001b[43m        \u001b[49m\u001b[43mencoder_attention_mask\u001b[49m\u001b[43m,\u001b[49m\n\u001b[1;32m    532\u001b[0m \u001b[43m        \u001b[49m\u001b[43mpast_key_value\u001b[49m\u001b[43m,\u001b[49m\n\u001b[1;32m    533\u001b[0m \u001b[43m        \u001b[49m\u001b[43moutput_attentions\u001b[49m\u001b[43m,\u001b[49m\n\u001b[1;32m    534\u001b[0m \u001b[43m    \u001b[49m\u001b[43m)\u001b[49m\n\u001b[1;32m    536\u001b[0m hidden_states \u001b[38;5;241m=\u001b[39m layer_outputs[\u001b[38;5;241m0\u001b[39m]\n\u001b[1;32m    537\u001b[0m \u001b[38;5;28;01mif\u001b[39;00m use_cache:\n",
      "File \u001b[0;32m/Library/Frameworks/Python.framework/Versions/3.9/lib/python3.9/site-packages/torch/nn/modules/module.py:1501\u001b[0m, in \u001b[0;36mModule._call_impl\u001b[0;34m(self, *args, **kwargs)\u001b[0m\n\u001b[1;32m   1496\u001b[0m \u001b[38;5;66;03m# If we don't have any hooks, we want to skip the rest of the logic in\u001b[39;00m\n\u001b[1;32m   1497\u001b[0m \u001b[38;5;66;03m# this function, and just call forward.\u001b[39;00m\n\u001b[1;32m   1498\u001b[0m \u001b[38;5;28;01mif\u001b[39;00m \u001b[38;5;129;01mnot\u001b[39;00m (\u001b[38;5;28mself\u001b[39m\u001b[38;5;241m.\u001b[39m_backward_hooks \u001b[38;5;129;01mor\u001b[39;00m \u001b[38;5;28mself\u001b[39m\u001b[38;5;241m.\u001b[39m_backward_pre_hooks \u001b[38;5;129;01mor\u001b[39;00m \u001b[38;5;28mself\u001b[39m\u001b[38;5;241m.\u001b[39m_forward_hooks \u001b[38;5;129;01mor\u001b[39;00m \u001b[38;5;28mself\u001b[39m\u001b[38;5;241m.\u001b[39m_forward_pre_hooks\n\u001b[1;32m   1499\u001b[0m         \u001b[38;5;129;01mor\u001b[39;00m _global_backward_pre_hooks \u001b[38;5;129;01mor\u001b[39;00m _global_backward_hooks\n\u001b[1;32m   1500\u001b[0m         \u001b[38;5;129;01mor\u001b[39;00m _global_forward_hooks \u001b[38;5;129;01mor\u001b[39;00m _global_forward_pre_hooks):\n\u001b[0;32m-> 1501\u001b[0m     \u001b[38;5;28;01mreturn\u001b[39;00m \u001b[43mforward_call\u001b[49m\u001b[43m(\u001b[49m\u001b[38;5;241;43m*\u001b[39;49m\u001b[43margs\u001b[49m\u001b[43m,\u001b[49m\u001b[43m \u001b[49m\u001b[38;5;241;43m*\u001b[39;49m\u001b[38;5;241;43m*\u001b[39;49m\u001b[43mkwargs\u001b[49m\u001b[43m)\u001b[49m\n\u001b[1;32m   1502\u001b[0m \u001b[38;5;66;03m# Do not call functions when jit is used\u001b[39;00m\n\u001b[1;32m   1503\u001b[0m full_backward_hooks, non_full_backward_hooks \u001b[38;5;241m=\u001b[39m [], []\n",
      "File \u001b[0;32m/Library/Frameworks/Python.framework/Versions/3.9/lib/python3.9/site-packages/transformers/models/roberta/modeling_roberta.py:453\u001b[0m, in \u001b[0;36mRobertaLayer.forward\u001b[0;34m(self, hidden_states, attention_mask, head_mask, encoder_hidden_states, encoder_attention_mask, past_key_value, output_attentions)\u001b[0m\n\u001b[1;32m    450\u001b[0m     cross_attn_present_key_value \u001b[38;5;241m=\u001b[39m cross_attention_outputs[\u001b[38;5;241m-\u001b[39m\u001b[38;5;241m1\u001b[39m]\n\u001b[1;32m    451\u001b[0m     present_key_value \u001b[38;5;241m=\u001b[39m present_key_value \u001b[38;5;241m+\u001b[39m cross_attn_present_key_value\n\u001b[0;32m--> 453\u001b[0m layer_output \u001b[38;5;241m=\u001b[39m \u001b[43mapply_chunking_to_forward\u001b[49m\u001b[43m(\u001b[49m\n\u001b[1;32m    454\u001b[0m \u001b[43m    \u001b[49m\u001b[38;5;28;43mself\u001b[39;49m\u001b[38;5;241;43m.\u001b[39;49m\u001b[43mfeed_forward_chunk\u001b[49m\u001b[43m,\u001b[49m\u001b[43m \u001b[49m\u001b[38;5;28;43mself\u001b[39;49m\u001b[38;5;241;43m.\u001b[39;49m\u001b[43mchunk_size_feed_forward\u001b[49m\u001b[43m,\u001b[49m\u001b[43m \u001b[49m\u001b[38;5;28;43mself\u001b[39;49m\u001b[38;5;241;43m.\u001b[39;49m\u001b[43mseq_len_dim\u001b[49m\u001b[43m,\u001b[49m\u001b[43m \u001b[49m\u001b[43mattention_output\u001b[49m\n\u001b[1;32m    455\u001b[0m \u001b[43m\u001b[49m\u001b[43m)\u001b[49m\n\u001b[1;32m    456\u001b[0m outputs \u001b[38;5;241m=\u001b[39m (layer_output,) \u001b[38;5;241m+\u001b[39m outputs\n\u001b[1;32m    458\u001b[0m \u001b[38;5;66;03m# if decoder, return the attn key/values as the last output\u001b[39;00m\n",
      "File \u001b[0;32m/Library/Frameworks/Python.framework/Versions/3.9/lib/python3.9/site-packages/transformers/modeling_utils.py:2361\u001b[0m, in \u001b[0;36mapply_chunking_to_forward\u001b[0;34m(forward_fn, chunk_size, chunk_dim, *input_tensors)\u001b[0m\n\u001b[1;32m   2358\u001b[0m     \u001b[38;5;66;03m# concatenate output at same dimension\u001b[39;00m\n\u001b[1;32m   2359\u001b[0m     \u001b[38;5;28;01mreturn\u001b[39;00m torch\u001b[38;5;241m.\u001b[39mcat(output_chunks, dim\u001b[38;5;241m=\u001b[39mchunk_dim)\n\u001b[0;32m-> 2361\u001b[0m \u001b[38;5;28;01mreturn\u001b[39;00m \u001b[43mforward_fn\u001b[49m\u001b[43m(\u001b[49m\u001b[38;5;241;43m*\u001b[39;49m\u001b[43minput_tensors\u001b[49m\u001b[43m)\u001b[49m\n",
      "File \u001b[0;32m/Library/Frameworks/Python.framework/Versions/3.9/lib/python3.9/site-packages/transformers/models/roberta/modeling_roberta.py:465\u001b[0m, in \u001b[0;36mRobertaLayer.feed_forward_chunk\u001b[0;34m(self, attention_output)\u001b[0m\n\u001b[1;32m    464\u001b[0m \u001b[38;5;28;01mdef\u001b[39;00m \u001b[38;5;21mfeed_forward_chunk\u001b[39m(\u001b[38;5;28mself\u001b[39m, attention_output):\n\u001b[0;32m--> 465\u001b[0m     intermediate_output \u001b[38;5;241m=\u001b[39m \u001b[38;5;28;43mself\u001b[39;49m\u001b[38;5;241;43m.\u001b[39;49m\u001b[43mintermediate\u001b[49m\u001b[43m(\u001b[49m\u001b[43mattention_output\u001b[49m\u001b[43m)\u001b[49m\n\u001b[1;32m    466\u001b[0m     layer_output \u001b[38;5;241m=\u001b[39m \u001b[38;5;28mself\u001b[39m\u001b[38;5;241m.\u001b[39moutput(intermediate_output, attention_output)\n\u001b[1;32m    467\u001b[0m     \u001b[38;5;28;01mreturn\u001b[39;00m layer_output\n",
      "File \u001b[0;32m/Library/Frameworks/Python.framework/Versions/3.9/lib/python3.9/site-packages/torch/nn/modules/module.py:1501\u001b[0m, in \u001b[0;36mModule._call_impl\u001b[0;34m(self, *args, **kwargs)\u001b[0m\n\u001b[1;32m   1496\u001b[0m \u001b[38;5;66;03m# If we don't have any hooks, we want to skip the rest of the logic in\u001b[39;00m\n\u001b[1;32m   1497\u001b[0m \u001b[38;5;66;03m# this function, and just call forward.\u001b[39;00m\n\u001b[1;32m   1498\u001b[0m \u001b[38;5;28;01mif\u001b[39;00m \u001b[38;5;129;01mnot\u001b[39;00m (\u001b[38;5;28mself\u001b[39m\u001b[38;5;241m.\u001b[39m_backward_hooks \u001b[38;5;129;01mor\u001b[39;00m \u001b[38;5;28mself\u001b[39m\u001b[38;5;241m.\u001b[39m_backward_pre_hooks \u001b[38;5;129;01mor\u001b[39;00m \u001b[38;5;28mself\u001b[39m\u001b[38;5;241m.\u001b[39m_forward_hooks \u001b[38;5;129;01mor\u001b[39;00m \u001b[38;5;28mself\u001b[39m\u001b[38;5;241m.\u001b[39m_forward_pre_hooks\n\u001b[1;32m   1499\u001b[0m         \u001b[38;5;129;01mor\u001b[39;00m _global_backward_pre_hooks \u001b[38;5;129;01mor\u001b[39;00m _global_backward_hooks\n\u001b[1;32m   1500\u001b[0m         \u001b[38;5;129;01mor\u001b[39;00m _global_forward_hooks \u001b[38;5;129;01mor\u001b[39;00m _global_forward_pre_hooks):\n\u001b[0;32m-> 1501\u001b[0m     \u001b[38;5;28;01mreturn\u001b[39;00m \u001b[43mforward_call\u001b[49m\u001b[43m(\u001b[49m\u001b[38;5;241;43m*\u001b[39;49m\u001b[43margs\u001b[49m\u001b[43m,\u001b[49m\u001b[43m \u001b[49m\u001b[38;5;241;43m*\u001b[39;49m\u001b[38;5;241;43m*\u001b[39;49m\u001b[43mkwargs\u001b[49m\u001b[43m)\u001b[49m\n\u001b[1;32m   1502\u001b[0m \u001b[38;5;66;03m# Do not call functions when jit is used\u001b[39;00m\n\u001b[1;32m   1503\u001b[0m full_backward_hooks, non_full_backward_hooks \u001b[38;5;241m=\u001b[39m [], []\n",
      "File \u001b[0;32m/Library/Frameworks/Python.framework/Versions/3.9/lib/python3.9/site-packages/transformers/models/roberta/modeling_roberta.py:364\u001b[0m, in \u001b[0;36mRobertaIntermediate.forward\u001b[0;34m(self, hidden_states)\u001b[0m\n\u001b[1;32m    363\u001b[0m \u001b[38;5;28;01mdef\u001b[39;00m \u001b[38;5;21mforward\u001b[39m(\u001b[38;5;28mself\u001b[39m, hidden_states):\n\u001b[0;32m--> 364\u001b[0m     hidden_states \u001b[38;5;241m=\u001b[39m \u001b[38;5;28;43mself\u001b[39;49m\u001b[38;5;241;43m.\u001b[39;49m\u001b[43mdense\u001b[49m\u001b[43m(\u001b[49m\u001b[43mhidden_states\u001b[49m\u001b[43m)\u001b[49m\n\u001b[1;32m    365\u001b[0m     hidden_states \u001b[38;5;241m=\u001b[39m \u001b[38;5;28mself\u001b[39m\u001b[38;5;241m.\u001b[39mintermediate_act_fn(hidden_states)\n\u001b[1;32m    366\u001b[0m     \u001b[38;5;28;01mreturn\u001b[39;00m hidden_states\n",
      "File \u001b[0;32m/Library/Frameworks/Python.framework/Versions/3.9/lib/python3.9/site-packages/torch/nn/modules/module.py:1501\u001b[0m, in \u001b[0;36mModule._call_impl\u001b[0;34m(self, *args, **kwargs)\u001b[0m\n\u001b[1;32m   1496\u001b[0m \u001b[38;5;66;03m# If we don't have any hooks, we want to skip the rest of the logic in\u001b[39;00m\n\u001b[1;32m   1497\u001b[0m \u001b[38;5;66;03m# this function, and just call forward.\u001b[39;00m\n\u001b[1;32m   1498\u001b[0m \u001b[38;5;28;01mif\u001b[39;00m \u001b[38;5;129;01mnot\u001b[39;00m (\u001b[38;5;28mself\u001b[39m\u001b[38;5;241m.\u001b[39m_backward_hooks \u001b[38;5;129;01mor\u001b[39;00m \u001b[38;5;28mself\u001b[39m\u001b[38;5;241m.\u001b[39m_backward_pre_hooks \u001b[38;5;129;01mor\u001b[39;00m \u001b[38;5;28mself\u001b[39m\u001b[38;5;241m.\u001b[39m_forward_hooks \u001b[38;5;129;01mor\u001b[39;00m \u001b[38;5;28mself\u001b[39m\u001b[38;5;241m.\u001b[39m_forward_pre_hooks\n\u001b[1;32m   1499\u001b[0m         \u001b[38;5;129;01mor\u001b[39;00m _global_backward_pre_hooks \u001b[38;5;129;01mor\u001b[39;00m _global_backward_hooks\n\u001b[1;32m   1500\u001b[0m         \u001b[38;5;129;01mor\u001b[39;00m _global_forward_hooks \u001b[38;5;129;01mor\u001b[39;00m _global_forward_pre_hooks):\n\u001b[0;32m-> 1501\u001b[0m     \u001b[38;5;28;01mreturn\u001b[39;00m \u001b[43mforward_call\u001b[49m\u001b[43m(\u001b[49m\u001b[38;5;241;43m*\u001b[39;49m\u001b[43margs\u001b[49m\u001b[43m,\u001b[49m\u001b[43m \u001b[49m\u001b[38;5;241;43m*\u001b[39;49m\u001b[38;5;241;43m*\u001b[39;49m\u001b[43mkwargs\u001b[49m\u001b[43m)\u001b[49m\n\u001b[1;32m   1502\u001b[0m \u001b[38;5;66;03m# Do not call functions when jit is used\u001b[39;00m\n\u001b[1;32m   1503\u001b[0m full_backward_hooks, non_full_backward_hooks \u001b[38;5;241m=\u001b[39m [], []\n",
      "File \u001b[0;32m/Library/Frameworks/Python.framework/Versions/3.9/lib/python3.9/site-packages/torch/nn/modules/linear.py:114\u001b[0m, in \u001b[0;36mLinear.forward\u001b[0;34m(self, input)\u001b[0m\n\u001b[1;32m    113\u001b[0m \u001b[38;5;28;01mdef\u001b[39;00m \u001b[38;5;21mforward\u001b[39m(\u001b[38;5;28mself\u001b[39m, \u001b[38;5;28minput\u001b[39m: Tensor) \u001b[38;5;241m-\u001b[39m\u001b[38;5;241m>\u001b[39m Tensor:\n\u001b[0;32m--> 114\u001b[0m     \u001b[38;5;28;01mreturn\u001b[39;00m \u001b[43mF\u001b[49m\u001b[38;5;241;43m.\u001b[39;49m\u001b[43mlinear\u001b[49m\u001b[43m(\u001b[49m\u001b[38;5;28;43minput\u001b[39;49m\u001b[43m,\u001b[49m\u001b[43m \u001b[49m\u001b[38;5;28;43mself\u001b[39;49m\u001b[38;5;241;43m.\u001b[39;49m\u001b[43mweight\u001b[49m\u001b[43m,\u001b[49m\u001b[43m \u001b[49m\u001b[38;5;28;43mself\u001b[39;49m\u001b[38;5;241;43m.\u001b[39;49m\u001b[43mbias\u001b[49m\u001b[43m)\u001b[49m\n",
      "\u001b[0;31mKeyboardInterrupt\u001b[0m: "
     ]
    }
   ],
   "source": [
    "ql.train(train_x, train_y, 2999)"
   ]
  },
  {
   "cell_type": "code",
   "execution_count": null,
   "metadata": {},
   "outputs": [],
   "source": []
  },
  {
   "cell_type": "code",
   "execution_count": null,
   "metadata": {
    "id": "2ZU3xZ1Ad07C"
   },
   "outputs": [],
   "source": [
    "# ql.states"
   ]
  },
  {
   "cell_type": "code",
   "execution_count": null,
   "metadata": {
    "id": "ma2JGVoHZghN"
   },
   "outputs": [],
   "source": [
    "# ql.mlm.get_masked_word_class('this sucks!', \"Simmons\")"
   ]
  },
  {
   "cell_type": "code",
   "execution_count": null,
   "metadata": {
    "id": "9s3D8MbNHgiB"
   },
   "outputs": [],
   "source": [
    "# x = ql.get_actions_Q(['hello goodbye'])[1]\n",
    "\n",
    "# len(x)\n",
    "# ql.mlp.lm_pipeline.tokenizer.batch_decode()\n",
    "# .shape\n"
   ]
  },
  {
   "cell_type": "code",
   "execution_count": null,
   "metadata": {
    "colab": {
     "base_uri": "https://localhost:8080/"
    },
    "id": "AhFv73XM_ySZ",
    "outputId": "df4f546c-04e0-42e9-9fac-ef85ad6c50e5"
   },
   "outputs": [],
   "source": [
    "# p.tokenizer.add_special_tokens({'bos_token': '<bos>',\n",
    "                              # 'eos_token': '<eos>',\n",
    "                              # 'pad_token': '<pad>'})\n",
    "# print(p.tokenizer.decode(p.model.generate(**p.tokenizer(['current text'], return_tensors = 'pt')).logits.softmax(-1).argmax(-1).flatten(), max_tokens = 1))\n",
    "# p = pipeline('text-generation', model='distilgpt2')\n",
    "print(p('hello ', max_length = 1))\n",
    "# p.tokenizer.decode(p.model.generate(**p.tokenizer(['current text is'], return_tensors = 'pt'), max)length = 1).flatten(),  max_tokens = 1)"
   ]
  },
  {
   "cell_type": "code",
   "execution_count": 215,
   "metadata": {
    "colab": {
     "base_uri": "https://localhost:8080/",
     "height": 36
    },
    "id": "KK8z-s3XOfGV",
    "outputId": "74bf3e72-8d49-43ea-ebbc-0bda114f6ebe"
   },
   "outputs": [
    {
     "name": "stdout",
     "output_type": "stream",
     "text": [
      "contains no wit, only labored gags \n",
      "torch.Size([50257])\n"
     ]
    },
    {
     "data": {
      "text/plain": [
       "'!!!'"
      ]
     },
     "execution_count": 215,
     "metadata": {},
     "output_type": "execute_result"
    }
   ],
   "source": [
    "# m.get_prompt(m(m.get_lm_output(['teller is the'])))\n",
    "ql.mlp.lm_pipeline.model.eval()\n",
    "x = ql.mlp.tokenizer(train_x[1], return_tensors = 'pt')\n",
    "# print(x['input_ids'].shape)\n",
    "print(ql.mlp.lm_pipeline.tokenizer.decode(x['input_ids'].flatten()))\n",
    "for key, value in zip(x.keys(), x.values()):\n",
    "    x[key] = value.to('mps')\n",
    "    \n",
    "print(ql.mlp.lm_pipeline.model.lm_head((ql.mlp.lm_pipeline.model.transformer(**x).last_hidden_state))[0,-1].shape)\n",
    "ql.mlp.lm_pipeline.tokenizer.decode(ql.mlp.lm_pipeline.model.lm_head((ql.mlp.lm_pipeline.model.transformer(**x).last_hidden_state))[0,-1].argmax(-1).flatten())\n",
    "# ql.mlp."
   ]
  },
  {
   "cell_type": "code",
   "execution_count": 211,
   "metadata": {},
   "outputs": [
    {
     "data": {
      "text/plain": [
       "'hide new secretions from the parental units '"
      ]
     },
     "execution_count": 211,
     "metadata": {},
     "output_type": "execute_result"
    }
   ],
   "source": [
    "train_x[0]"
   ]
  },
  {
   "cell_type": "code",
   "execution_count": null,
   "metadata": {
    "colab": {
     "base_uri": "https://localhost:8080/",
     "height": 36
    },
    "id": "6FrRJawCecHe",
    "outputId": "94e964dd-275e-498a-aa0a-b9dff3fbdbd7"
   },
   "outputs": [],
   "source": [
    "p.tokenizer.decode(indices[0,values.argmax(-1)])"
   ]
  },
  {
   "cell_type": "markdown",
   "metadata": {
    "id": "GHmXL_o4OeYt"
   },
   "source": []
  },
  {
   "cell_type": "code",
   "execution_count": null,
   "metadata": {
    "colab": {
     "base_uri": "https://localhost:8080/"
    },
    "id": "ZBWGvytTBC0i",
    "outputId": "c1534ea2-3f4a-4896-f601-8c1e2952d216"
   },
   "outputs": [],
   "source": [
    "p.model\n",
    "\n",
    "# p.tokenizer.batch_decode(Q.argmax(-1))\n",
    "# Q.shape"
   ]
  },
  {
   "cell_type": "code",
   "execution_count": 14,
   "metadata": {
    "colab": {
     "base_uri": "https://localhost:8080/",
     "height": 448
    },
    "id": "lahaylmsi-NU",
    "outputId": "1697d4ba-9552-446d-8a75-5ac51ae672b9"
   },
   "outputs": [
    {
     "data": {
      "text/plain": [
       "Text(0, 0.5, 'Test Accuracy')"
      ]
     },
     "execution_count": 14,
     "metadata": {},
     "output_type": "execute_result"
    },
    {
     "data": {
      "image/png": "[encoded data removed]",
      "text/plain": [
       "<Figure size 640x480 with 1 Axes>"
      ]
     },
     "metadata": {},
     "output_type": "display_data"
    }
   ],
   "source": [
    "import matplotlib.pyplot as plt\n",
    "\n",
    "plt.plot([i for i in range(len(ql.accuracy))], ql.accuracy)\n",
    "plt.xlabel('Epochs/ Training Episodes')\n",
    "plt.ylabel('Test Accuracy')\n",
    "## next attempt: try putting the new token into target since it should be the future action thats being compared"
   ]
  },
  {
   "cell_type": "code",
   "execution_count": 11,
   "metadata": {},
   "outputs": [
    {
     "data": {
      "text/plain": [
       "[<matplotlib.lines.Line2D at 0x308737c10>]"
      ]
     },
     "execution_count": 11,
     "metadata": {},
     "output_type": "execute_result"
    },
    {
     "data": {
      "image/png": "[encoded data removed]",
      "text/plain": [
       "<Figure size 640x480 with 1 Axes>"
      ]
     },
     "metadata": {},
     "output_type": "display_data"
    }
   ],
   "source": [
    "import matplotlib.pyplot as plt\n",
    "\n",
    "plt.plot([i for i in range(len(ql.loss_))], ql.loss_)\n",
    "\n",
    "## next attempt: try putting the new token into target since it should be the future action thats being compared"
   ]
  },
  {
   "cell_type": "code",
   "execution_count": 12,
   "metadata": {},
   "outputs": [
    {
     "data": {
      "text/plain": [
       "[<matplotlib.lines.Line2D at 0x3088117c0>]"
      ]
     },
     "execution_count": 12,
     "metadata": {},
     "output_type": "execute_result"
    },
    {
     "data": {
      "image/png": "[encoded data removed]",
      "text/plain": [
       "<Figure size 640x480 with 1 Axes>"
      ]
     },
     "metadata": {},
     "output_type": "display_data"
    }
   ],
   "source": [
    "import matplotlib.pyplot as plt\n",
    "\n",
    "plt.plot([i for i in range(len(ql.accuracy))], ql.accuracy)\n",
    "\n",
    "## next attempt: try putting the new token into target since it should be the future action thats being compared"
   ]
  },
  {
   "cell_type": "code",
   "execution_count": null,
   "metadata": {},
   "outputs": [],
   "source": [
    "ql.mlm.get_masked_word_class(\"good morning! \", \"this is\")"
   ]
  },
  {
   "cell_type": "code",
   "execution_count": 107,
   "metadata": {},
   "outputs": [],
   "source": [
    "from transformers import GPT2Tokenizer\n",
    "tokenizer = GPT2Tokenizer.from_pretrained('distilgpt2', truncation_side = 'right')"
   ]
  },
  {
   "cell_type": "code",
   "execution_count": 92,
   "metadata": {},
   "outputs": [
    {
     "data": {
      "text/plain": [
       "['hide new secretions from the parental units ',\n",
       " 'contains no wit , only labored gags ',\n",
       " 'remains utterly satisfied to remain the same throughout ',\n",
       " 'on the worst revenge-of-the-nerds clichés the filmmakers could dredge up ',\n",
       " \"that 's far too tragic to merit such superficial treatment \",\n",
       " \"a depressed fifteen-year-old 's suicidal poetry \",\n",
       " 'that loves its characters and communicates something rather beautiful about human nature ',\n",
       " 'demonstrates that the director of such hollywood blockbusters as patriot games can still turn out a small , personal film with an emotional wallop . ',\n",
       " 'of saucy ',\n",
       " \"are more deeply thought through than in most ` right-thinking ' films \",\n",
       " 'the greatest musicians ',\n",
       " 'with his usual intelligence and subtlety ']"
      ]
     },
     "execution_count": 92,
     "metadata": {},
     "output_type": "execute_result"
    }
   ],
   "source": [
    "train_x"
   ]
  },
  {
   "cell_type": "code",
   "execution_count": 112,
   "metadata": {},
   "outputs": [
    {
     "data": {
      "text/plain": [
       "'same throughout'"
      ]
     },
     "execution_count": 112,
     "metadata": {},
     "output_type": "execute_result"
    }
   ],
   "source": [
    "tokenizer.decode(tokenizer(' '.join(train_x[2].split(' ')[-3:]), return_tensors = 'pt', padding=True, max_length = 2)['input_ids'].flatten())"
   ]
  },
  {
   "cell_type": "code",
   "execution_count": 171,
   "metadata": {},
   "outputs": [
    {
     "data": {
      "text/plain": [
       "{'input_ids': tensor([[24717,   649,  3200,   507,   422,   262, 21694,  4991,   220, 50256,\n",
       "         50256, 50256, 50256, 50256, 50256, 50256, 50256, 50256, 50256, 50256,\n",
       "         50256, 50256, 50256, 50256, 50256, 50256, 50256, 50256, 50256, 50256,\n",
       "         50256],\n",
       "        [ 3642,  1299,   645, 20868,   837,   691,  2248,  1850,   308,  3775,\n",
       "           220, 50256, 50256, 50256, 50256, 50256, 50256, 50256, 50256, 50256,\n",
       "         50256, 50256, 50256, 50256, 50256, 50256, 50256, 50256, 50256, 50256,\n",
       "         50256],\n",
       "        [ 2787,  1299, 15950, 11378,   284,  3520,   262,   976,  3690,   220,\n",
       "         50256, 50256, 50256, 50256, 50256, 50256, 50256, 50256, 50256, 50256,\n",
       "         50256, 50256, 50256, 50256, 50256, 50256, 50256, 50256, 50256, 50256,\n",
       "         50256],\n",
       "        [  261,   262,  5290, 15827,    12,  1659,    12,  1169,    12,  1008,\n",
       "          9310, 35478, 20954,   262, 28303,   714, 47478,   469,   510,   220,\n",
       "         50256, 50256, 50256, 50256, 50256, 50256, 50256, 50256, 50256, 50256,\n",
       "         50256],\n",
       "        [ 5562,   705,    82,  1290,  1165, 15444,   284, 17004,   884, 31194,\n",
       "          3513,   220, 50256, 50256, 50256, 50256, 50256, 50256, 50256, 50256,\n",
       "         50256, 50256, 50256, 50256, 50256, 50256, 50256, 50256, 50256, 50256,\n",
       "         50256],\n",
       "        [   64, 19095, 17280,    12,  1941,    12,   727,   705,    82, 26781,\n",
       "         19518,   220, 50256, 50256, 50256, 50256, 50256, 50256, 50256, 50256,\n",
       "         50256, 50256, 50256, 50256, 50256, 50256, 50256, 50256, 50256, 50256,\n",
       "         50256],\n",
       "        [ 5562, 10408,   663,  3435,   290, 48556,  1223,  2138,  4950,   546,\n",
       "          1692,  3450,   220, 50256, 50256, 50256, 50256, 50256, 50256, 50256,\n",
       "         50256, 50256, 50256, 50256, 50256, 50256, 50256, 50256, 50256, 50256,\n",
       "         50256],\n",
       "        [26567,  2536,   689,   326,   262,  3437,   286,   884,   289, 31777,\n",
       "          2512, 30181,   355, 29408,  1830,   460,   991,  1210,   503,   257,\n",
       "          1402,   837,  2614,  2646,   351,   281,  7016,  3355,   404,   764,\n",
       "           220],\n",
       "        [ 1659,   473,    84,   948,   220, 50256, 50256, 50256, 50256, 50256,\n",
       "         50256, 50256, 50256, 50256, 50256, 50256, 50256, 50256, 50256, 50256,\n",
       "         50256, 50256, 50256, 50256, 50256, 50256, 50256, 50256, 50256, 50256,\n",
       "         50256],\n",
       "        [  533,   517,  7744,  1807,   832,   621,   287,   749,  4600,   826,\n",
       "            12, 28973,   705,  7328,   220, 50256, 50256, 50256, 50256, 50256,\n",
       "         50256, 50256, 50256, 50256, 50256, 50256, 50256, 50256, 50256, 50256,\n",
       "         50256],\n",
       "        [ 1169,  6000, 17245,   220, 50256, 50256, 50256, 50256, 50256, 50256,\n",
       "         50256, 50256, 50256, 50256, 50256, 50256, 50256, 50256, 50256, 50256,\n",
       "         50256, 50256, 50256, 50256, 50256, 50256, 50256, 50256, 50256, 50256,\n",
       "         50256],\n",
       "        [ 4480,   465,  6678,  4430,   290, 11800,   774,   220, 50256, 50256,\n",
       "         50256, 50256, 50256, 50256, 50256, 50256, 50256, 50256, 50256, 50256,\n",
       "         50256, 50256, 50256, 50256, 50256, 50256, 50256, 50256, 50256, 50256,\n",
       "         50256]], device='mps:0'), 'attention_mask': tensor([[1, 1, 1, 1, 1, 1, 1, 1, 1, 0, 0, 0, 0, 0, 0, 0, 0, 0, 0, 0, 0, 0, 0, 0,\n",
       "         0, 0, 0, 0, 0, 0, 0],\n",
       "        [1, 1, 1, 1, 1, 1, 1, 1, 1, 1, 1, 0, 0, 0, 0, 0, 0, 0, 0, 0, 0, 0, 0, 0,\n",
       "         0, 0, 0, 0, 0, 0, 0],\n",
       "        [1, 1, 1, 1, 1, 1, 1, 1, 1, 1, 0, 0, 0, 0, 0, 0, 0, 0, 0, 0, 0, 0, 0, 0,\n",
       "         0, 0, 0, 0, 0, 0, 0],\n",
       "        [1, 1, 1, 1, 1, 1, 1, 1, 1, 1, 1, 1, 1, 1, 1, 1, 1, 1, 1, 1, 0, 0, 0, 0,\n",
       "         0, 0, 0, 0, 0, 0, 0],\n",
       "        [1, 1, 1, 1, 1, 1, 1, 1, 1, 1, 1, 1, 0, 0, 0, 0, 0, 0, 0, 0, 0, 0, 0, 0,\n",
       "         0, 0, 0, 0, 0, 0, 0],\n",
       "        [1, 1, 1, 1, 1, 1, 1, 1, 1, 1, 1, 1, 0, 0, 0, 0, 0, 0, 0, 0, 0, 0, 0, 0,\n",
       "         0, 0, 0, 0, 0, 0, 0],\n",
       "        [1, 1, 1, 1, 1, 1, 1, 1, 1, 1, 1, 1, 1, 0, 0, 0, 0, 0, 0, 0, 0, 0, 0, 0,\n",
       "         0, 0, 0, 0, 0, 0, 0],\n",
       "        [1, 1, 1, 1, 1, 1, 1, 1, 1, 1, 1, 1, 1, 1, 1, 1, 1, 1, 1, 1, 1, 1, 1, 1,\n",
       "         1, 1, 1, 1, 1, 1, 1],\n",
       "        [1, 1, 1, 1, 1, 0, 0, 0, 0, 0, 0, 0, 0, 0, 0, 0, 0, 0, 0, 0, 0, 0, 0, 0,\n",
       "         0, 0, 0, 0, 0, 0, 0],\n",
       "        [1, 1, 1, 1, 1, 1, 1, 1, 1, 1, 1, 1, 1, 1, 1, 0, 0, 0, 0, 0, 0, 0, 0, 0,\n",
       "         0, 0, 0, 0, 0, 0, 0],\n",
       "        [1, 1, 1, 1, 0, 0, 0, 0, 0, 0, 0, 0, 0, 0, 0, 0, 0, 0, 0, 0, 0, 0, 0, 0,\n",
       "         0, 0, 0, 0, 0, 0, 0],\n",
       "        [1, 1, 1, 1, 1, 1, 1, 1, 0, 0, 0, 0, 0, 0, 0, 0, 0, 0, 0, 0, 0, 0, 0, 0,\n",
       "         0, 0, 0, 0, 0, 0, 0]], device='mps:0')}"
      ]
     },
     "execution_count": 171,
     "metadata": {},
     "output_type": "execute_result"
    }
   ],
   "source": [
    "x"
   ]
  },
  {
   "cell_type": "code",
   "execution_count": 172,
   "metadata": {},
   "outputs": [
    {
     "data": {
      "text/plain": [
       "torch.Size([12, 31])"
      ]
     },
     "execution_count": 172,
     "metadata": {},
     "output_type": "execute_result"
    }
   ],
   "source": [
    "x['input_ids'].shape"
   ]
  },
  {
   "cell_type": "code",
   "execution_count": null,
   "metadata": {},
   "outputs": [],
   "source": []
  }
 ],
 "metadata": {
  "accelerator": "GPU",
  "colab": {
   "gpuType": "T4",
   "provenance": []
  },
  "gpuClass": "standard",
  "kernelspec": {
   "display_name": "Python 3 (ipykernel)",
   "language": "python",
   "name": "python3"
  },
  "language_info": {
   "codemirror_mode": {
    "name": "ipython",
    "version": 3
   },
   "file_extension": ".py",
   "mimetype": "text/x-python",
   "name": "python",
   "nbconvert_exporter": "python",
   "pygments_lexer": "ipython3",
   "version": "3.9.11"
  },
  "widgets": {
   "application/vnd.jupyter.widget-state+json": {
    "00e54a1a8d8b40abb64b404580fa28ef": {
     "model_module": "@jupyter-widgets/controls",
     "model_module_version": "1.5.0",
     "model_name": "HBoxModel",
     "state": {
      "_dom_classes": [],
      "_model_module": "@jupyter-widgets/controls",
      "_model_module_version": "1.5.0",
      "_model_name": "HBoxModel",
      "_view_count": null,
      "_view_module": "@jupyter-widgets/controls",
      "_view_module_version": "1.5.0",
      "_view_name": "HBoxView",
      "box_style": "",
      "children": [
       "IPY_MODEL_df7d65f18a4e46498bd831a47f376a65",
       "IPY_MODEL_957b1822ec8f4126a0fd20403a086c0b",
       "IPY_MODEL_c3889b4e01604079b8a131ad12aa71c9"
      ],
      "layout": "IPY_MODEL_2cbfe544fdd24d02b984239a0c2cf7a4"
     }
    },
    "098e517dbc444f6d805f9e2cca213a0a": {
     "model_module": "@jupyter-widgets/controls",
     "model_module_version": "1.5.0",
     "model_name": "DescriptionStyleModel",
     "state": {
      "_model_module": "@jupyter-widgets/controls",
      "_model_module_version": "1.5.0",
      "_model_name": "DescriptionStyleModel",
      "_view_count": null,
      "_view_module": "@jupyter-widgets/base",
      "_view_module_version": "1.2.0",
      "_view_name": "StyleView",
      "description_width": ""
     }
    },
    "0ac394222ae24018a41c22dbf742e419": {
     "model_module": "@jupyter-widgets/controls",
     "model_module_version": "1.5.0",
     "model_name": "HTMLModel",
     "state": {
      "_dom_classes": [],
      "_model_module": "@jupyter-widgets/controls",
      "_model_module_version": "1.5.0",
      "_model_name": "HTMLModel",
      "_view_count": null,
      "_view_module": "@jupyter-widgets/controls",
      "_view_module_version": "1.5.0",
      "_view_name": "HTMLView",
      "description": "",
      "description_tooltip": null,
      "layout": "IPY_MODEL_43e715f2454b4f9ca7c166c26f73e711",
      "placeholder": "​",
      "style": "IPY_MODEL_142c504492d14afeace1423ea67ac870",
      "value": " 3/3 [00:00&lt;00:00, 152.22it/s]"
     }
    },
    "0d26b9e268404dbf9004ed59933ea52d": {
     "model_module": "@jupyter-widgets/base",
     "model_module_version": "1.2.0",
     "model_name": "LayoutModel",
     "state": {
      "_model_module": "@jupyter-widgets/base",
      "_model_module_version": "1.2.0",
      "_model_name": "LayoutModel",
      "_view_count": null,
      "_view_module": "@jupyter-widgets/base",
      "_view_module_version": "1.2.0",
      "_view_name": "LayoutView",
      "align_content": null,
      "align_items": null,
      "align_self": null,
      "border": null,
      "bottom": null,
      "display": null,
      "flex": null,
      "flex_flow": null,
      "grid_area": null,
      "grid_auto_columns": null,
      "grid_auto_flow": null,
      "grid_auto_rows": null,
      "grid_column": null,
      "grid_gap": null,
      "grid_row": null,
      "grid_template_areas": null,
      "grid_template_columns": null,
      "grid_template_rows": null,
      "height": null,
      "justify_content": null,
      "justify_items": null,
      "left": null,
      "margin": null,
      "max_height": null,
      "max_width": null,
      "min_height": null,
      "min_width": null,
      "object_fit": null,
      "object_position": null,
      "order": null,
      "overflow": null,
      "overflow_x": null,
      "overflow_y": null,
      "padding": null,
      "right": null,
      "top": null,
      "visibility": null,
      "width": null
     }
    },
    "142a60ee02464f7bbab9bbefcb20c81b": {
     "model_module": "@jupyter-widgets/controls",
     "model_module_version": "1.5.0",
     "model_name": "FloatProgressModel",
     "state": {
      "_dom_classes": [],
      "_model_module": "@jupyter-widgets/controls",
      "_model_module_version": "1.5.0",
      "_model_name": "FloatProgressModel",
      "_view_count": null,
      "_view_module": "@jupyter-widgets/controls",
      "_view_module_version": "1.5.0",
      "_view_name": "ProgressView",
      "bar_style": "",
      "description": "",
      "description_tooltip": null,
      "layout": "IPY_MODEL_1a7b10f9585e4cbeab443cc5c0ef76cc",
      "max": 872,
      "min": 0,
      "orientation": "horizontal",
      "style": "IPY_MODEL_db106230326c45108fd7fff6879b40d3",
      "value": 872
     }
    },
    "142c504492d14afeace1423ea67ac870": {
     "model_module": "@jupyter-widgets/controls",
     "model_module_version": "1.5.0",
     "model_name": "DescriptionStyleModel",
     "state": {
      "_model_module": "@jupyter-widgets/controls",
      "_model_module_version": "1.5.0",
      "_model_name": "DescriptionStyleModel",
      "_view_count": null,
      "_view_module": "@jupyter-widgets/base",
      "_view_module_version": "1.2.0",
      "_view_name": "StyleView",
      "description_width": ""
     }
    },
    "18971f32b81548a2ac82ac3cb8249978": {
     "model_module": "@jupyter-widgets/controls",
     "model_module_version": "1.5.0",
     "model_name": "DescriptionStyleModel",
     "state": {
      "_model_module": "@jupyter-widgets/controls",
      "_model_module_version": "1.5.0",
      "_model_name": "DescriptionStyleModel",
      "_view_count": null,
      "_view_module": "@jupyter-widgets/base",
      "_view_module_version": "1.2.0",
      "_view_name": "StyleView",
      "description_width": ""
     }
    },
    "1a7b10f9585e4cbeab443cc5c0ef76cc": {
     "model_module": "@jupyter-widgets/base",
     "model_module_version": "1.2.0",
     "model_name": "LayoutModel",
     "state": {
      "_model_module": "@jupyter-widgets/base",
      "_model_module_version": "1.2.0",
      "_model_name": "LayoutModel",
      "_view_count": null,
      "_view_module": "@jupyter-widgets/base",
      "_view_module_version": "1.2.0",
      "_view_name": "LayoutView",
      "align_content": null,
      "align_items": null,
      "align_self": null,
      "border": null,
      "bottom": null,
      "display": null,
      "flex": null,
      "flex_flow": null,
      "grid_area": null,
      "grid_auto_columns": null,
      "grid_auto_flow": null,
      "grid_auto_rows": null,
      "grid_column": null,
      "grid_gap": null,
      "grid_row": null,
      "grid_template_areas": null,
      "grid_template_columns": null,
      "grid_template_rows": null,
      "height": null,
      "justify_content": null,
      "justify_items": null,
      "left": null,
      "margin": null,
      "max_height": null,
      "max_width": null,
      "min_height": null,
      "min_width": null,
      "object_fit": null,
      "object_position": null,
      "order": null,
      "overflow": null,
      "overflow_x": null,
      "overflow_y": null,
      "padding": null,
      "right": null,
      "top": null,
      "visibility": null,
      "width": null
     }
    },
    "1dd7f0c69d3b4cd98c2a1c549329e2de": {
     "model_module": "@jupyter-widgets/base",
     "model_module_version": "1.2.0",
     "model_name": "LayoutModel",
     "state": {
      "_model_module": "@jupyter-widgets/base",
      "_model_module_version": "1.2.0",
      "_model_name": "LayoutModel",
      "_view_count": null,
      "_view_module": "@jupyter-widgets/base",
      "_view_module_version": "1.2.0",
      "_view_name": "LayoutView",
      "align_content": null,
      "align_items": null,
      "align_self": null,
      "border": null,
      "bottom": null,
      "display": null,
      "flex": null,
      "flex_flow": null,
      "grid_area": null,
      "grid_auto_columns": null,
      "grid_auto_flow": null,
      "grid_auto_rows": null,
      "grid_column": null,
      "grid_gap": null,
      "grid_row": null,
      "grid_template_areas": null,
      "grid_template_columns": null,
      "grid_template_rows": null,
      "height": null,
      "justify_content": null,
      "justify_items": null,
      "left": null,
      "margin": null,
      "max_height": null,
      "max_width": null,
      "min_height": null,
      "min_width": null,
      "object_fit": null,
      "object_position": null,
      "order": null,
      "overflow": null,
      "overflow_x": null,
      "overflow_y": null,
      "padding": null,
      "right": null,
      "top": null,
      "visibility": null,
      "width": null
     }
    },
    "26377968ffa54dc88b768b3ed5478f82": {
     "model_module": "@jupyter-widgets/base",
     "model_module_version": "1.2.0",
     "model_name": "LayoutModel",
     "state": {
      "_model_module": "@jupyter-widgets/base",
      "_model_module_version": "1.2.0",
      "_model_name": "LayoutModel",
      "_view_count": null,
      "_view_module": "@jupyter-widgets/base",
      "_view_module_version": "1.2.0",
      "_view_name": "LayoutView",
      "align_content": null,
      "align_items": null,
      "align_self": null,
      "border": null,
      "bottom": null,
      "display": null,
      "flex": null,
      "flex_flow": null,
      "grid_area": null,
      "grid_auto_columns": null,
      "grid_auto_flow": null,
      "grid_auto_rows": null,
      "grid_column": null,
      "grid_gap": null,
      "grid_row": null,
      "grid_template_areas": null,
      "grid_template_columns": null,
      "grid_template_rows": null,
      "height": null,
      "justify_content": null,
      "justify_items": null,
      "left": null,
      "margin": null,
      "max_height": null,
      "max_width": null,
      "min_height": null,
      "min_width": null,
      "object_fit": null,
      "object_position": null,
      "order": null,
      "overflow": null,
      "overflow_x": null,
      "overflow_y": null,
      "padding": null,
      "right": null,
      "top": null,
      "visibility": null,
      "width": null
     }
    },
    "277790909fa949a7a9eabe93fcccf09e": {
     "model_module": "@jupyter-widgets/base",
     "model_module_version": "1.2.0",
     "model_name": "LayoutModel",
     "state": {
      "_model_module": "@jupyter-widgets/base",
      "_model_module_version": "1.2.0",
      "_model_name": "LayoutModel",
      "_view_count": null,
      "_view_module": "@jupyter-widgets/base",
      "_view_module_version": "1.2.0",
      "_view_name": "LayoutView",
      "align_content": null,
      "align_items": null,
      "align_self": null,
      "border": null,
      "bottom": null,
      "display": null,
      "flex": null,
      "flex_flow": null,
      "grid_area": null,
      "grid_auto_columns": null,
      "grid_auto_flow": null,
      "grid_auto_rows": null,
      "grid_column": null,
      "grid_gap": null,
      "grid_row": null,
      "grid_template_areas": null,
      "grid_template_columns": null,
      "grid_template_rows": null,
      "height": null,
      "justify_content": null,
      "justify_items": null,
      "left": null,
      "margin": null,
      "max_height": null,
      "max_width": null,
      "min_height": null,
      "min_width": null,
      "object_fit": null,
      "object_position": null,
      "order": null,
      "overflow": null,
      "overflow_x": null,
      "overflow_y": null,
      "padding": null,
      "right": null,
      "top": null,
      "visibility": null,
      "width": null
     }
    },
    "2a13138823294888bb4ab7f8795d9c6e": {
     "model_module": "@jupyter-widgets/controls",
     "model_module_version": "1.5.0",
     "model_name": "DescriptionStyleModel",
     "state": {
      "_model_module": "@jupyter-widgets/controls",
      "_model_module_version": "1.5.0",
      "_model_name": "DescriptionStyleModel",
      "_view_count": null,
      "_view_module": "@jupyter-widgets/base",
      "_view_module_version": "1.2.0",
      "_view_name": "StyleView",
      "description_width": ""
     }
    },
    "2b5cf1846f514516a42f9656f1a578c1": {
     "model_module": "@jupyter-widgets/controls",
     "model_module_version": "1.5.0",
     "model_name": "DescriptionStyleModel",
     "state": {
      "_model_module": "@jupyter-widgets/controls",
      "_model_module_version": "1.5.0",
      "_model_name": "DescriptionStyleModel",
      "_view_count": null,
      "_view_module": "@jupyter-widgets/base",
      "_view_module_version": "1.2.0",
      "_view_name": "StyleView",
      "description_width": ""
     }
    },
    "2cbfe544fdd24d02b984239a0c2cf7a4": {
     "model_module": "@jupyter-widgets/base",
     "model_module_version": "1.2.0",
     "model_name": "LayoutModel",
     "state": {
      "_model_module": "@jupyter-widgets/base",
      "_model_module_version": "1.2.0",
      "_model_name": "LayoutModel",
      "_view_count": null,
      "_view_module": "@jupyter-widgets/base",
      "_view_module_version": "1.2.0",
      "_view_name": "LayoutView",
      "align_content": null,
      "align_items": null,
      "align_self": null,
      "border": null,
      "bottom": null,
      "display": null,
      "flex": null,
      "flex_flow": null,
      "grid_area": null,
      "grid_auto_columns": null,
      "grid_auto_flow": null,
      "grid_auto_rows": null,
      "grid_column": null,
      "grid_gap": null,
      "grid_row": null,
      "grid_template_areas": null,
      "grid_template_columns": null,
      "grid_template_rows": null,
      "height": null,
      "justify_content": null,
      "justify_items": null,
      "left": null,
      "margin": null,
      "max_height": null,
      "max_width": null,
      "min_height": null,
      "min_width": null,
      "object_fit": null,
      "object_position": null,
      "order": null,
      "overflow": null,
      "overflow_x": null,
      "overflow_y": null,
      "padding": null,
      "right": null,
      "top": null,
      "visibility": null,
      "width": null
     }
    },
    "2f43c85fcd2d41379fdb3dc3beeab32b": {
     "model_module": "@jupyter-widgets/base",
     "model_module_version": "1.2.0",
     "model_name": "LayoutModel",
     "state": {
      "_model_module": "@jupyter-widgets/base",
      "_model_module_version": "1.2.0",
      "_model_name": "LayoutModel",
      "_view_count": null,
      "_view_module": "@jupyter-widgets/base",
      "_view_module_version": "1.2.0",
      "_view_name": "LayoutView",
      "align_content": null,
      "align_items": null,
      "align_self": null,
      "border": null,
      "bottom": null,
      "display": null,
      "flex": null,
      "flex_flow": null,
      "grid_area": null,
      "grid_auto_columns": null,
      "grid_auto_flow": null,
      "grid_auto_rows": null,
      "grid_column": null,
      "grid_gap": null,
      "grid_row": null,
      "grid_template_areas": null,
      "grid_template_columns": null,
      "grid_template_rows": null,
      "height": null,
      "justify_content": null,
      "justify_items": null,
      "left": null,
      "margin": null,
      "max_height": null,
      "max_width": null,
      "min_height": null,
      "min_width": null,
      "object_fit": null,
      "object_position": null,
      "order": null,
      "overflow": null,
      "overflow_x": null,
      "overflow_y": null,
      "padding": null,
      "right": null,
      "top": null,
      "visibility": null,
      "width": null
     }
    },
    "330d292ce02b424fb9bdbd30f2106fa3": {
     "model_module": "@jupyter-widgets/controls",
     "model_module_version": "1.5.0",
     "model_name": "DescriptionStyleModel",
     "state": {
      "_model_module": "@jupyter-widgets/controls",
      "_model_module_version": "1.5.0",
      "_model_name": "DescriptionStyleModel",
      "_view_count": null,
      "_view_module": "@jupyter-widgets/base",
      "_view_module_version": "1.2.0",
      "_view_name": "StyleView",
      "description_width": ""
     }
    },
    "39b494ee60f846a3b80b99559680ad2a": {
     "model_module": "@jupyter-widgets/controls",
     "model_module_version": "1.5.0",
     "model_name": "HBoxModel",
     "state": {
      "_dom_classes": [],
      "_model_module": "@jupyter-widgets/controls",
      "_model_module_version": "1.5.0",
      "_model_name": "HBoxModel",
      "_view_count": null,
      "_view_module": "@jupyter-widgets/controls",
      "_view_module_version": "1.5.0",
      "_view_name": "HBoxView",
      "box_style": "",
      "children": [
       "IPY_MODEL_56d92d9158b4449ba8d18617a6976309",
       "IPY_MODEL_bcc24579bb1543ada7540db59637cb28",
       "IPY_MODEL_c2deca943d354a1c86780dbbc3a2c3ee"
      ],
      "layout": "IPY_MODEL_cc623169bd9245dc9e79ab00e4d521c8"
     }
    },
    "3c877718620a484085eb2f9af7f4947c": {
     "model_module": "@jupyter-widgets/controls",
     "model_module_version": "1.5.0",
     "model_name": "DescriptionStyleModel",
     "state": {
      "_model_module": "@jupyter-widgets/controls",
      "_model_module_version": "1.5.0",
      "_model_name": "DescriptionStyleModel",
      "_view_count": null,
      "_view_module": "@jupyter-widgets/base",
      "_view_module_version": "1.2.0",
      "_view_name": "StyleView",
      "description_width": ""
     }
    },
    "3cf3109f486d4299ae6d7968379eed7e": {
     "model_module": "@jupyter-widgets/controls",
     "model_module_version": "1.5.0",
     "model_name": "HBoxModel",
     "state": {
      "_dom_classes": [],
      "_model_module": "@jupyter-widgets/controls",
      "_model_module_version": "1.5.0",
      "_model_name": "HBoxModel",
      "_view_count": null,
      "_view_module": "@jupyter-widgets/controls",
      "_view_module_version": "1.5.0",
      "_view_name": "HBoxView",
      "box_style": "",
      "children": [
       "IPY_MODEL_c0add23963ba477ba76570a00b0c892f",
       "IPY_MODEL_9222d5fa90dc4acea3498c93907a2e3c",
       "IPY_MODEL_77126bb678ef4139adb54e858070900c"
      ],
      "layout": "IPY_MODEL_c534c3affca843e281521d6fac39bc0f"
     }
    },
    "43466dc98ee542c1b048e628d5497b5e": {
     "model_module": "@jupyter-widgets/controls",
     "model_module_version": "1.5.0",
     "model_name": "DescriptionStyleModel",
     "state": {
      "_model_module": "@jupyter-widgets/controls",
      "_model_module_version": "1.5.0",
      "_model_name": "DescriptionStyleModel",
      "_view_count": null,
      "_view_module": "@jupyter-widgets/base",
      "_view_module_version": "1.2.0",
      "_view_name": "StyleView",
      "description_width": ""
     }
    },
    "43e715f2454b4f9ca7c166c26f73e711": {
     "model_module": "@jupyter-widgets/base",
     "model_module_version": "1.2.0",
     "model_name": "LayoutModel",
     "state": {
      "_model_module": "@jupyter-widgets/base",
      "_model_module_version": "1.2.0",
      "_model_name": "LayoutModel",
      "_view_count": null,
      "_view_module": "@jupyter-widgets/base",
      "_view_module_version": "1.2.0",
      "_view_name": "LayoutView",
      "align_content": null,
      "align_items": null,
      "align_self": null,
      "border": null,
      "bottom": null,
      "display": null,
      "flex": null,
      "flex_flow": null,
      "grid_area": null,
      "grid_auto_columns": null,
      "grid_auto_flow": null,
      "grid_auto_rows": null,
      "grid_column": null,
      "grid_gap": null,
      "grid_row": null,
      "grid_template_areas": null,
      "grid_template_columns": null,
      "grid_template_rows": null,
      "height": null,
      "justify_content": null,
      "justify_items": null,
      "left": null,
      "margin": null,
      "max_height": null,
      "max_width": null,
      "min_height": null,
      "min_width": null,
      "object_fit": null,
      "object_position": null,
      "order": null,
      "overflow": null,
      "overflow_x": null,
      "overflow_y": null,
      "padding": null,
      "right": null,
      "top": null,
      "visibility": null,
      "width": null
     }
    },
    "45e474caac6f4d66980a513bfe0569ee": {
     "model_module": "@jupyter-widgets/controls",
     "model_module_version": "1.5.0",
     "model_name": "DescriptionStyleModel",
     "state": {
      "_model_module": "@jupyter-widgets/controls",
      "_model_module_version": "1.5.0",
      "_model_name": "DescriptionStyleModel",
      "_view_count": null,
      "_view_module": "@jupyter-widgets/base",
      "_view_module_version": "1.2.0",
      "_view_name": "StyleView",
      "description_width": ""
     }
    },
    "46af0c8368714d0787d31e7fd4f8b523": {
     "model_module": "@jupyter-widgets/base",
     "model_module_version": "1.2.0",
     "model_name": "LayoutModel",
     "state": {
      "_model_module": "@jupyter-widgets/base",
      "_model_module_version": "1.2.0",
      "_model_name": "LayoutModel",
      "_view_count": null,
      "_view_module": "@jupyter-widgets/base",
      "_view_module_version": "1.2.0",
      "_view_name": "LayoutView",
      "align_content": null,
      "align_items": null,
      "align_self": null,
      "border": null,
      "bottom": null,
      "display": null,
      "flex": null,
      "flex_flow": null,
      "grid_area": null,
      "grid_auto_columns": null,
      "grid_auto_flow": null,
      "grid_auto_rows": null,
      "grid_column": null,
      "grid_gap": null,
      "grid_row": null,
      "grid_template_areas": null,
      "grid_template_columns": null,
      "grid_template_rows": null,
      "height": null,
      "justify_content": null,
      "justify_items": null,
      "left": null,
      "margin": null,
      "max_height": null,
      "max_width": null,
      "min_height": null,
      "min_width": null,
      "object_fit": null,
      "object_position": null,
      "order": null,
      "overflow": null,
      "overflow_x": null,
      "overflow_y": null,
      "padding": null,
      "right": null,
      "top": null,
      "visibility": null,
      "width": null
     }
    },
    "46e5adfaa43043ab9eb64531692a77eb": {
     "model_module": "@jupyter-widgets/controls",
     "model_module_version": "1.5.0",
     "model_name": "HBoxModel",
     "state": {
      "_dom_classes": [],
      "_model_module": "@jupyter-widgets/controls",
      "_model_module_version": "1.5.0",
      "_model_name": "HBoxModel",
      "_view_count": null,
      "_view_module": "@jupyter-widgets/controls",
      "_view_module_version": "1.5.0",
      "_view_name": "HBoxView",
      "box_style": "",
      "children": [
       "IPY_MODEL_5649c4ed3ff14b80b81785f40e4ea502",
       "IPY_MODEL_eda2469754804a629c86916e87b79415",
       "IPY_MODEL_7c863690f8cc4785beb722ca8a3afd26"
      ],
      "layout": "IPY_MODEL_f7893f8ee0ba4782bee45f95ee50d919"
     }
    },
    "4c042d9ebe0b4793b88cf793f47e48ef": {
     "model_module": "@jupyter-widgets/controls",
     "model_module_version": "1.5.0",
     "model_name": "HTMLModel",
     "state": {
      "_dom_classes": [],
      "_model_module": "@jupyter-widgets/controls",
      "_model_module_version": "1.5.0",
      "_model_name": "HTMLModel",
      "_view_count": null,
      "_view_module": "@jupyter-widgets/controls",
      "_view_module_version": "1.5.0",
      "_view_name": "HTMLView",
      "description": "",
      "description_tooltip": null,
      "layout": "IPY_MODEL_99190be38f7a48aea88c87223c3dfb94",
      "placeholder": "​",
      "style": "IPY_MODEL_e10b636edf304427ab10069dd5608fe0",
      "value": "Downloading data: 100%"
     }
    },
    "50ae1c70f6f54e6981ab205089483ae4": {
     "model_module": "@jupyter-widgets/controls",
     "model_module_version": "1.5.0",
     "model_name": "ProgressStyleModel",
     "state": {
      "_model_module": "@jupyter-widgets/controls",
      "_model_module_version": "1.5.0",
      "_model_name": "ProgressStyleModel",
      "_view_count": null,
      "_view_module": "@jupyter-widgets/base",
      "_view_module_version": "1.2.0",
      "_view_name": "StyleView",
      "bar_color": null,
      "description_width": ""
     }
    },
    "53fb9110d6b04f149b9838d8443da37f": {
     "model_module": "@jupyter-widgets/base",
     "model_module_version": "1.2.0",
     "model_name": "LayoutModel",
     "state": {
      "_model_module": "@jupyter-widgets/base",
      "_model_module_version": "1.2.0",
      "_model_name": "LayoutModel",
      "_view_count": null,
      "_view_module": "@jupyter-widgets/base",
      "_view_module_version": "1.2.0",
      "_view_name": "LayoutView",
      "align_content": null,
      "align_items": null,
      "align_self": null,
      "border": null,
      "bottom": null,
      "display": null,
      "flex": null,
      "flex_flow": null,
      "grid_area": null,
      "grid_auto_columns": null,
      "grid_auto_flow": null,
      "grid_auto_rows": null,
      "grid_column": null,
      "grid_gap": null,
      "grid_row": null,
      "grid_template_areas": null,
      "grid_template_columns": null,
      "grid_template_rows": null,
      "height": null,
      "justify_content": null,
      "justify_items": null,
      "left": null,
      "margin": null,
      "max_height": null,
      "max_width": null,
      "min_height": null,
      "min_width": null,
      "object_fit": null,
      "object_position": null,
      "order": null,
      "overflow": null,
      "overflow_x": null,
      "overflow_y": null,
      "padding": null,
      "right": null,
      "top": null,
      "visibility": null,
      "width": null
     }
    },
    "5649c4ed3ff14b80b81785f40e4ea502": {
     "model_module": "@jupyter-widgets/controls",
     "model_module_version": "1.5.0",
     "model_name": "HTMLModel",
     "state": {
      "_dom_classes": [],
      "_model_module": "@jupyter-widgets/controls",
      "_model_module_version": "1.5.0",
      "_model_name": "HTMLModel",
      "_view_count": null,
      "_view_module": "@jupyter-widgets/controls",
      "_view_module_version": "1.5.0",
      "_view_name": "HTMLView",
      "description": "",
      "description_tooltip": null,
      "layout": "IPY_MODEL_1dd7f0c69d3b4cd98c2a1c549329e2de",
      "placeholder": "​",
      "style": "IPY_MODEL_2a13138823294888bb4ab7f8795d9c6e",
      "value": "Generating train split:  96%"
     }
    },
    "5691c5ee0b754ba8927881dde8cfbf60": {
     "model_module": "@jupyter-widgets/controls",
     "model_module_version": "1.5.0",
     "model_name": "DescriptionStyleModel",
     "state": {
      "_model_module": "@jupyter-widgets/controls",
      "_model_module_version": "1.5.0",
      "_model_name": "DescriptionStyleModel",
      "_view_count": null,
      "_view_module": "@jupyter-widgets/base",
      "_view_module_version": "1.2.0",
      "_view_name": "StyleView",
      "description_width": ""
     }
    },
    "56d92d9158b4449ba8d18617a6976309": {
     "model_module": "@jupyter-widgets/controls",
     "model_module_version": "1.5.0",
     "model_name": "HTMLModel",
     "state": {
      "_dom_classes": [],
      "_model_module": "@jupyter-widgets/controls",
      "_model_module_version": "1.5.0",
      "_model_name": "HTMLModel",
      "_view_count": null,
      "_view_module": "@jupyter-widgets/controls",
      "_view_module_version": "1.5.0",
      "_view_name": "HTMLView",
      "description": "",
      "description_tooltip": null,
      "layout": "IPY_MODEL_f1bb9e2b1941419bac8eb23245d92931",
      "placeholder": "​",
      "style": "IPY_MODEL_43466dc98ee542c1b048e628d5497b5e",
      "value": "Generating test split:   0%"
     }
    },
    "5a94e01c5fe54cc68ee26d719d195a7f": {
     "model_module": "@jupyter-widgets/controls",
     "model_module_version": "1.5.0",
     "model_name": "ProgressStyleModel",
     "state": {
      "_model_module": "@jupyter-widgets/controls",
      "_model_module_version": "1.5.0",
      "_model_name": "ProgressStyleModel",
      "_view_count": null,
      "_view_module": "@jupyter-widgets/base",
      "_view_module_version": "1.2.0",
      "_view_name": "StyleView",
      "bar_color": null,
      "description_width": ""
     }
    },
    "5ae2460e9ead415890d85acee7d86211": {
     "model_module": "@jupyter-widgets/base",
     "model_module_version": "1.2.0",
     "model_name": "LayoutModel",
     "state": {
      "_model_module": "@jupyter-widgets/base",
      "_model_module_version": "1.2.0",
      "_model_name": "LayoutModel",
      "_view_count": null,
      "_view_module": "@jupyter-widgets/base",
      "_view_module_version": "1.2.0",
      "_view_name": "LayoutView",
      "align_content": null,
      "align_items": null,
      "align_self": null,
      "border": null,
      "bottom": null,
      "display": null,
      "flex": null,
      "flex_flow": null,
      "grid_area": null,
      "grid_auto_columns": null,
      "grid_auto_flow": null,
      "grid_auto_rows": null,
      "grid_column": null,
      "grid_gap": null,
      "grid_row": null,
      "grid_template_areas": null,
      "grid_template_columns": null,
      "grid_template_rows": null,
      "height": null,
      "justify_content": null,
      "justify_items": null,
      "left": null,
      "margin": null,
      "max_height": null,
      "max_width": null,
      "min_height": null,
      "min_width": null,
      "object_fit": null,
      "object_position": null,
      "order": null,
      "overflow": null,
      "overflow_x": null,
      "overflow_y": null,
      "padding": null,
      "right": null,
      "top": null,
      "visibility": null,
      "width": null
     }
    },
    "64a0ad1083d244e381bba95fd158abcb": {
     "model_module": "@jupyter-widgets/controls",
     "model_module_version": "1.5.0",
     "model_name": "ProgressStyleModel",
     "state": {
      "_model_module": "@jupyter-widgets/controls",
      "_model_module_version": "1.5.0",
      "_model_name": "ProgressStyleModel",
      "_view_count": null,
      "_view_module": "@jupyter-widgets/base",
      "_view_module_version": "1.2.0",
      "_view_name": "StyleView",
      "bar_color": null,
      "description_width": ""
     }
    },
    "65175dd24553437e880b6129a1b4a3fa": {
     "model_module": "@jupyter-widgets/controls",
     "model_module_version": "1.5.0",
     "model_name": "ProgressStyleModel",
     "state": {
      "_model_module": "@jupyter-widgets/controls",
      "_model_module_version": "1.5.0",
      "_model_name": "ProgressStyleModel",
      "_view_count": null,
      "_view_module": "@jupyter-widgets/base",
      "_view_module_version": "1.2.0",
      "_view_name": "StyleView",
      "bar_color": null,
      "description_width": ""
     }
    },
    "65ae61c4d3b643429b6992a16747a3b1": {
     "model_module": "@jupyter-widgets/controls",
     "model_module_version": "1.5.0",
     "model_name": "HTMLModel",
     "state": {
      "_dom_classes": [],
      "_model_module": "@jupyter-widgets/controls",
      "_model_module_version": "1.5.0",
      "_model_name": "HTMLModel",
      "_view_count": null,
      "_view_module": "@jupyter-widgets/controls",
      "_view_module_version": "1.5.0",
      "_view_name": "HTMLView",
      "description": "",
      "description_tooltip": null,
      "layout": "IPY_MODEL_b61eaec2a4344833af07d5dc8634d26f",
      "placeholder": "​",
      "style": "IPY_MODEL_2b5cf1846f514516a42f9656f1a578c1",
      "value": " 7.44M/7.44M [00:00&lt;00:00, 45.0MB/s]"
     }
    },
    "72da1811ca634935a05a88e436dd5f87": {
     "model_module": "@jupyter-widgets/base",
     "model_module_version": "1.2.0",
     "model_name": "LayoutModel",
     "state": {
      "_model_module": "@jupyter-widgets/base",
      "_model_module_version": "1.2.0",
      "_model_name": "LayoutModel",
      "_view_count": null,
      "_view_module": "@jupyter-widgets/base",
      "_view_module_version": "1.2.0",
      "_view_name": "LayoutView",
      "align_content": null,
      "align_items": null,
      "align_self": null,
      "border": null,
      "bottom": null,
      "display": null,
      "flex": null,
      "flex_flow": null,
      "grid_area": null,
      "grid_auto_columns": null,
      "grid_auto_flow": null,
      "grid_auto_rows": null,
      "grid_column": null,
      "grid_gap": null,
      "grid_row": null,
      "grid_template_areas": null,
      "grid_template_columns": null,
      "grid_template_rows": null,
      "height": null,
      "justify_content": null,
      "justify_items": null,
      "left": null,
      "margin": null,
      "max_height": null,
      "max_width": null,
      "min_height": null,
      "min_width": null,
      "object_fit": null,
      "object_position": null,
      "order": null,
      "overflow": null,
      "overflow_x": null,
      "overflow_y": null,
      "padding": null,
      "right": null,
      "top": null,
      "visibility": null,
      "width": null
     }
    },
    "77126bb678ef4139adb54e858070900c": {
     "model_module": "@jupyter-widgets/controls",
     "model_module_version": "1.5.0",
     "model_name": "HTMLModel",
     "state": {
      "_dom_classes": [],
      "_model_module": "@jupyter-widgets/controls",
      "_model_module_version": "1.5.0",
      "_model_name": "HTMLModel",
      "_view_count": null,
      "_view_module": "@jupyter-widgets/controls",
      "_view_module_version": "1.5.0",
      "_view_name": "HTMLView",
      "description": "",
      "description_tooltip": null,
      "layout": "IPY_MODEL_277790909fa949a7a9eabe93fcccf09e",
      "placeholder": "​",
      "style": "IPY_MODEL_e4fa211b1e4f46eda3ff58635b558dad",
      "value": " 5.10k/5.10k [00:00&lt;00:00, 301kB/s]"
     }
    },
    "798132d88d1b415cbbdb037e8675061c": {
     "model_module": "@jupyter-widgets/base",
     "model_module_version": "1.2.0",
     "model_name": "LayoutModel",
     "state": {
      "_model_module": "@jupyter-widgets/base",
      "_model_module_version": "1.2.0",
      "_model_name": "LayoutModel",
      "_view_count": null,
      "_view_module": "@jupyter-widgets/base",
      "_view_module_version": "1.2.0",
      "_view_name": "LayoutView",
      "align_content": null,
      "align_items": null,
      "align_self": null,
      "border": null,
      "bottom": null,
      "display": null,
      "flex": null,
      "flex_flow": null,
      "grid_area": null,
      "grid_auto_columns": null,
      "grid_auto_flow": null,
      "grid_auto_rows": null,
      "grid_column": null,
      "grid_gap": null,
      "grid_row": null,
      "grid_template_areas": null,
      "grid_template_columns": null,
      "grid_template_rows": null,
      "height": null,
      "justify_content": null,
      "justify_items": null,
      "left": null,
      "margin": null,
      "max_height": null,
      "max_width": null,
      "min_height": null,
      "min_width": null,
      "object_fit": null,
      "object_position": null,
      "order": null,
      "overflow": null,
      "overflow_x": null,
      "overflow_y": null,
      "padding": null,
      "right": null,
      "top": null,
      "visibility": null,
      "width": null
     }
    },
    "7af3acdc1e6f42d8a56d31a4446529c3": {
     "model_module": "@jupyter-widgets/base",
     "model_module_version": "1.2.0",
     "model_name": "LayoutModel",
     "state": {
      "_model_module": "@jupyter-widgets/base",
      "_model_module_version": "1.2.0",
      "_model_name": "LayoutModel",
      "_view_count": null,
      "_view_module": "@jupyter-widgets/base",
      "_view_module_version": "1.2.0",
      "_view_name": "LayoutView",
      "align_content": null,
      "align_items": null,
      "align_self": null,
      "border": null,
      "bottom": null,
      "display": null,
      "flex": null,
      "flex_flow": null,
      "grid_area": null,
      "grid_auto_columns": null,
      "grid_auto_flow": null,
      "grid_auto_rows": null,
      "grid_column": null,
      "grid_gap": null,
      "grid_row": null,
      "grid_template_areas": null,
      "grid_template_columns": null,
      "grid_template_rows": null,
      "height": null,
      "justify_content": null,
      "justify_items": null,
      "left": null,
      "margin": null,
      "max_height": null,
      "max_width": null,
      "min_height": null,
      "min_width": null,
      "object_fit": null,
      "object_position": null,
      "order": null,
      "overflow": null,
      "overflow_x": null,
      "overflow_y": null,
      "padding": null,
      "right": null,
      "top": null,
      "visibility": null,
      "width": null
     }
    },
    "7c863690f8cc4785beb722ca8a3afd26": {
     "model_module": "@jupyter-widgets/controls",
     "model_module_version": "1.5.0",
     "model_name": "HTMLModel",
     "state": {
      "_dom_classes": [],
      "_model_module": "@jupyter-widgets/controls",
      "_model_module_version": "1.5.0",
      "_model_name": "HTMLModel",
      "_view_count": null,
      "_view_module": "@jupyter-widgets/controls",
      "_view_module_version": "1.5.0",
      "_view_name": "HTMLView",
      "description": "",
      "description_tooltip": null,
      "layout": "IPY_MODEL_92e74c8c802b46ad8ba3570a27bbc0ac",
      "placeholder": "​",
      "style": "IPY_MODEL_3c877718620a484085eb2f9af7f4947c",
      "value": " 64660/67349 [00:02&lt;00:00, 30687.68 examples/s]"
     }
    },
    "82b95f4054324b7dadc53215daa0ce1e": {
     "model_module": "@jupyter-widgets/controls",
     "model_module_version": "1.5.0",
     "model_name": "HBoxModel",
     "state": {
      "_dom_classes": [],
      "_model_module": "@jupyter-widgets/controls",
      "_model_module_version": "1.5.0",
      "_model_name": "HBoxModel",
      "_view_count": null,
      "_view_module": "@jupyter-widgets/controls",
      "_view_module_version": "1.5.0",
      "_view_name": "HBoxView",
      "box_style": "",
      "children": [
       "IPY_MODEL_b8db3970c9914c549577e9f94d065735",
       "IPY_MODEL_8add3a5c67724ad99868819fd9281e92",
       "IPY_MODEL_0ac394222ae24018a41c22dbf742e419"
      ],
      "layout": "IPY_MODEL_46af0c8368714d0787d31e7fd4f8b523"
     }
    },
    "841026a94b934bd3839f11f1559d80e8": {
     "model_module": "@jupyter-widgets/controls",
     "model_module_version": "1.5.0",
     "model_name": "ProgressStyleModel",
     "state": {
      "_model_module": "@jupyter-widgets/controls",
      "_model_module_version": "1.5.0",
      "_model_name": "ProgressStyleModel",
      "_view_count": null,
      "_view_module": "@jupyter-widgets/base",
      "_view_module_version": "1.2.0",
      "_view_name": "StyleView",
      "bar_color": null,
      "description_width": ""
     }
    },
    "8add3a5c67724ad99868819fd9281e92": {
     "model_module": "@jupyter-widgets/controls",
     "model_module_version": "1.5.0",
     "model_name": "FloatProgressModel",
     "state": {
      "_dom_classes": [],
      "_model_module": "@jupyter-widgets/controls",
      "_model_module_version": "1.5.0",
      "_model_name": "FloatProgressModel",
      "_view_count": null,
      "_view_module": "@jupyter-widgets/controls",
      "_view_module_version": "1.5.0",
      "_view_name": "ProgressView",
      "bar_style": "success",
      "description": "",
      "description_tooltip": null,
      "layout": "IPY_MODEL_7af3acdc1e6f42d8a56d31a4446529c3",
      "max": 3,
      "min": 0,
      "orientation": "horizontal",
      "style": "IPY_MODEL_64a0ad1083d244e381bba95fd158abcb",
      "value": 3
     }
    },
    "9222d5fa90dc4acea3498c93907a2e3c": {
     "model_module": "@jupyter-widgets/controls",
     "model_module_version": "1.5.0",
     "model_name": "FloatProgressModel",
     "state": {
      "_dom_classes": [],
      "_model_module": "@jupyter-widgets/controls",
      "_model_module_version": "1.5.0",
      "_model_name": "FloatProgressModel",
      "_view_count": null,
      "_view_module": "@jupyter-widgets/controls",
      "_view_module_version": "1.5.0",
      "_view_name": "ProgressView",
      "bar_style": "success",
      "description": "",
      "description_tooltip": null,
      "layout": "IPY_MODEL_937f3691f0bd4fac9bd52fd2f0137761",
      "max": 5100,
      "min": 0,
      "orientation": "horizontal",
      "style": "IPY_MODEL_9c3aedd28c824291940aa93110575fe6",
      "value": 5100
     }
    },
    "92e74c8c802b46ad8ba3570a27bbc0ac": {
     "model_module": "@jupyter-widgets/base",
     "model_module_version": "1.2.0",
     "model_name": "LayoutModel",
     "state": {
      "_model_module": "@jupyter-widgets/base",
      "_model_module_version": "1.2.0",
      "_model_name": "LayoutModel",
      "_view_count": null,
      "_view_module": "@jupyter-widgets/base",
      "_view_module_version": "1.2.0",
      "_view_name": "LayoutView",
      "align_content": null,
      "align_items": null,
      "align_self": null,
      "border": null,
      "bottom": null,
      "display": null,
      "flex": null,
      "flex_flow": null,
      "grid_area": null,
      "grid_auto_columns": null,
      "grid_auto_flow": null,
      "grid_auto_rows": null,
      "grid_column": null,
      "grid_gap": null,
      "grid_row": null,
      "grid_template_areas": null,
      "grid_template_columns": null,
      "grid_template_rows": null,
      "height": null,
      "justify_content": null,
      "justify_items": null,
      "left": null,
      "margin": null,
      "max_height": null,
      "max_width": null,
      "min_height": null,
      "min_width": null,
      "object_fit": null,
      "object_position": null,
      "order": null,
      "overflow": null,
      "overflow_x": null,
      "overflow_y": null,
      "padding": null,
      "right": null,
      "top": null,
      "visibility": null,
      "width": null
     }
    },
    "937f3691f0bd4fac9bd52fd2f0137761": {
     "model_module": "@jupyter-widgets/base",
     "model_module_version": "1.2.0",
     "model_name": "LayoutModel",
     "state": {
      "_model_module": "@jupyter-widgets/base",
      "_model_module_version": "1.2.0",
      "_model_name": "LayoutModel",
      "_view_count": null,
      "_view_module": "@jupyter-widgets/base",
      "_view_module_version": "1.2.0",
      "_view_name": "LayoutView",
      "align_content": null,
      "align_items": null,
      "align_self": null,
      "border": null,
      "bottom": null,
      "display": null,
      "flex": null,
      "flex_flow": null,
      "grid_area": null,
      "grid_auto_columns": null,
      "grid_auto_flow": null,
      "grid_auto_rows": null,
      "grid_column": null,
      "grid_gap": null,
      "grid_row": null,
      "grid_template_areas": null,
      "grid_template_columns": null,
      "grid_template_rows": null,
      "height": null,
      "justify_content": null,
      "justify_items": null,
      "left": null,
      "margin": null,
      "max_height": null,
      "max_width": null,
      "min_height": null,
      "min_width": null,
      "object_fit": null,
      "object_position": null,
      "order": null,
      "overflow": null,
      "overflow_x": null,
      "overflow_y": null,
      "padding": null,
      "right": null,
      "top": null,
      "visibility": null,
      "width": null
     }
    },
    "957b1822ec8f4126a0fd20403a086c0b": {
     "model_module": "@jupyter-widgets/controls",
     "model_module_version": "1.5.0",
     "model_name": "FloatProgressModel",
     "state": {
      "_dom_classes": [],
      "_model_module": "@jupyter-widgets/controls",
      "_model_module_version": "1.5.0",
      "_model_name": "FloatProgressModel",
      "_view_count": null,
      "_view_module": "@jupyter-widgets/controls",
      "_view_module_version": "1.5.0",
      "_view_name": "ProgressView",
      "bar_style": "success",
      "description": "",
      "description_tooltip": null,
      "layout": "IPY_MODEL_2f43c85fcd2d41379fdb3dc3beeab32b",
      "max": 1848,
      "min": 0,
      "orientation": "horizontal",
      "style": "IPY_MODEL_5a94e01c5fe54cc68ee26d719d195a7f",
      "value": 1848
     }
    },
    "99190be38f7a48aea88c87223c3dfb94": {
     "model_module": "@jupyter-widgets/base",
     "model_module_version": "1.2.0",
     "model_name": "LayoutModel",
     "state": {
      "_model_module": "@jupyter-widgets/base",
      "_model_module_version": "1.2.0",
      "_model_name": "LayoutModel",
      "_view_count": null,
      "_view_module": "@jupyter-widgets/base",
      "_view_module_version": "1.2.0",
      "_view_name": "LayoutView",
      "align_content": null,
      "align_items": null,
      "align_self": null,
      "border": null,
      "bottom": null,
      "display": null,
      "flex": null,
      "flex_flow": null,
      "grid_area": null,
      "grid_auto_columns": null,
      "grid_auto_flow": null,
      "grid_auto_rows": null,
      "grid_column": null,
      "grid_gap": null,
      "grid_row": null,
      "grid_template_areas": null,
      "grid_template_columns": null,
      "grid_template_rows": null,
      "height": null,
      "justify_content": null,
      "justify_items": null,
      "left": null,
      "margin": null,
      "max_height": null,
      "max_width": null,
      "min_height": null,
      "min_width": null,
      "object_fit": null,
      "object_position": null,
      "order": null,
      "overflow": null,
      "overflow_x": null,
      "overflow_y": null,
      "padding": null,
      "right": null,
      "top": null,
      "visibility": null,
      "width": null
     }
    },
    "9c3aedd28c824291940aa93110575fe6": {
     "model_module": "@jupyter-widgets/controls",
     "model_module_version": "1.5.0",
     "model_name": "ProgressStyleModel",
     "state": {
      "_model_module": "@jupyter-widgets/controls",
      "_model_module_version": "1.5.0",
      "_model_name": "ProgressStyleModel",
      "_view_count": null,
      "_view_module": "@jupyter-widgets/base",
      "_view_module_version": "1.2.0",
      "_view_name": "StyleView",
      "bar_color": null,
      "description_width": ""
     }
    },
    "9eaff82b781747de89afd5b52e5336ed": {
     "model_module": "@jupyter-widgets/controls",
     "model_module_version": "1.5.0",
     "model_name": "HTMLModel",
     "state": {
      "_dom_classes": [],
      "_model_module": "@jupyter-widgets/controls",
      "_model_module_version": "1.5.0",
      "_model_name": "HTMLModel",
      "_view_count": null,
      "_view_module": "@jupyter-widgets/controls",
      "_view_module_version": "1.5.0",
      "_view_name": "HTMLView",
      "description": "",
      "description_tooltip": null,
      "layout": "IPY_MODEL_c74031fa9de3493ebea8aec05b3f8136",
      "placeholder": "​",
      "style": "IPY_MODEL_5691c5ee0b754ba8927881dde8cfbf60",
      "value": " 3.77k/3.77k [00:00&lt;00:00, 231kB/s]"
     }
    },
    "9f7c0b4ffc224f439985fd909e1fc434": {
     "model_module": "@jupyter-widgets/base",
     "model_module_version": "1.2.0",
     "model_name": "LayoutModel",
     "state": {
      "_model_module": "@jupyter-widgets/base",
      "_model_module_version": "1.2.0",
      "_model_name": "LayoutModel",
      "_view_count": null,
      "_view_module": "@jupyter-widgets/base",
      "_view_module_version": "1.2.0",
      "_view_name": "LayoutView",
      "align_content": null,
      "align_items": null,
      "align_self": null,
      "border": null,
      "bottom": null,
      "display": null,
      "flex": null,
      "flex_flow": null,
      "grid_area": null,
      "grid_auto_columns": null,
      "grid_auto_flow": null,
      "grid_auto_rows": null,
      "grid_column": null,
      "grid_gap": null,
      "grid_row": null,
      "grid_template_areas": null,
      "grid_template_columns": null,
      "grid_template_rows": null,
      "height": null,
      "justify_content": null,
      "justify_items": null,
      "left": null,
      "margin": null,
      "max_height": null,
      "max_width": null,
      "min_height": null,
      "min_width": null,
      "object_fit": null,
      "object_position": null,
      "order": null,
      "overflow": null,
      "overflow_x": null,
      "overflow_y": null,
      "padding": null,
      "right": null,
      "top": null,
      "visibility": null,
      "width": null
     }
    },
    "af97e3af4d7b43978a9ec1026aefbf27": {
     "model_module": "@jupyter-widgets/controls",
     "model_module_version": "1.5.0",
     "model_name": "DescriptionStyleModel",
     "state": {
      "_model_module": "@jupyter-widgets/controls",
      "_model_module_version": "1.5.0",
      "_model_name": "DescriptionStyleModel",
      "_view_count": null,
      "_view_module": "@jupyter-widgets/base",
      "_view_module_version": "1.2.0",
      "_view_name": "StyleView",
      "description_width": ""
     }
    },
    "b435bc71dc924568a581a0b0749ab095": {
     "model_module": "@jupyter-widgets/base",
     "model_module_version": "1.2.0",
     "model_name": "LayoutModel",
     "state": {
      "_model_module": "@jupyter-widgets/base",
      "_model_module_version": "1.2.0",
      "_model_name": "LayoutModel",
      "_view_count": null,
      "_view_module": "@jupyter-widgets/base",
      "_view_module_version": "1.2.0",
      "_view_name": "LayoutView",
      "align_content": null,
      "align_items": null,
      "align_self": null,
      "border": null,
      "bottom": null,
      "display": null,
      "flex": null,
      "flex_flow": null,
      "grid_area": null,
      "grid_auto_columns": null,
      "grid_auto_flow": null,
      "grid_auto_rows": null,
      "grid_column": null,
      "grid_gap": null,
      "grid_row": null,
      "grid_template_areas": null,
      "grid_template_columns": null,
      "grid_template_rows": null,
      "height": null,
      "justify_content": null,
      "justify_items": null,
      "left": null,
      "margin": null,
      "max_height": null,
      "max_width": null,
      "min_height": null,
      "min_width": null,
      "object_fit": null,
      "object_position": null,
      "order": null,
      "overflow": null,
      "overflow_x": null,
      "overflow_y": null,
      "padding": null,
      "right": null,
      "top": null,
      "visibility": null,
      "width": null
     }
    },
    "b61eaec2a4344833af07d5dc8634d26f": {
     "model_module": "@jupyter-widgets/base",
     "model_module_version": "1.2.0",
     "model_name": "LayoutModel",
     "state": {
      "_model_module": "@jupyter-widgets/base",
      "_model_module_version": "1.2.0",
      "_model_name": "LayoutModel",
      "_view_count": null,
      "_view_module": "@jupyter-widgets/base",
      "_view_module_version": "1.2.0",
      "_view_name": "LayoutView",
      "align_content": null,
      "align_items": null,
      "align_self": null,
      "border": null,
      "bottom": null,
      "display": null,
      "flex": null,
      "flex_flow": null,
      "grid_area": null,
      "grid_auto_columns": null,
      "grid_auto_flow": null,
      "grid_auto_rows": null,
      "grid_column": null,
      "grid_gap": null,
      "grid_row": null,
      "grid_template_areas": null,
      "grid_template_columns": null,
      "grid_template_rows": null,
      "height": null,
      "justify_content": null,
      "justify_items": null,
      "left": null,
      "margin": null,
      "max_height": null,
      "max_width": null,
      "min_height": null,
      "min_width": null,
      "object_fit": null,
      "object_position": null,
      "order": null,
      "overflow": null,
      "overflow_x": null,
      "overflow_y": null,
      "padding": null,
      "right": null,
      "top": null,
      "visibility": null,
      "width": null
     }
    },
    "b8db3970c9914c549577e9f94d065735": {
     "model_module": "@jupyter-widgets/controls",
     "model_module_version": "1.5.0",
     "model_name": "HTMLModel",
     "state": {
      "_dom_classes": [],
      "_model_module": "@jupyter-widgets/controls",
      "_model_module_version": "1.5.0",
      "_model_name": "HTMLModel",
      "_view_count": null,
      "_view_module": "@jupyter-widgets/controls",
      "_view_module_version": "1.5.0",
      "_view_name": "HTMLView",
      "description": "",
      "description_tooltip": null,
      "layout": "IPY_MODEL_5ae2460e9ead415890d85acee7d86211",
      "placeholder": "​",
      "style": "IPY_MODEL_cbb51320d03d45b19efae27644ef2794",
      "value": "100%"
     }
    },
    "bcc24579bb1543ada7540db59637cb28": {
     "model_module": "@jupyter-widgets/controls",
     "model_module_version": "1.5.0",
     "model_name": "FloatProgressModel",
     "state": {
      "_dom_classes": [],
      "_model_module": "@jupyter-widgets/controls",
      "_model_module_version": "1.5.0",
      "_model_name": "FloatProgressModel",
      "_view_count": null,
      "_view_module": "@jupyter-widgets/controls",
      "_view_module_version": "1.5.0",
      "_view_name": "ProgressView",
      "bar_style": "",
      "description": "",
      "description_tooltip": null,
      "layout": "IPY_MODEL_72da1811ca634935a05a88e436dd5f87",
      "max": 1821,
      "min": 0,
      "orientation": "horizontal",
      "style": "IPY_MODEL_50ae1c70f6f54e6981ab205089483ae4",
      "value": 1821
     }
    },
    "bcc89137e9eb4b1d97ce8347f242c9ce": {
     "model_module": "@jupyter-widgets/controls",
     "model_module_version": "1.5.0",
     "model_name": "FloatProgressModel",
     "state": {
      "_dom_classes": [],
      "_model_module": "@jupyter-widgets/controls",
      "_model_module_version": "1.5.0",
      "_model_name": "FloatProgressModel",
      "_view_count": null,
      "_view_module": "@jupyter-widgets/controls",
      "_view_module_version": "1.5.0",
      "_view_name": "ProgressView",
      "bar_style": "success",
      "description": "",
      "description_tooltip": null,
      "layout": "IPY_MODEL_798132d88d1b415cbbdb037e8675061c",
      "max": 7439277,
      "min": 0,
      "orientation": "horizontal",
      "style": "IPY_MODEL_841026a94b934bd3839f11f1559d80e8",
      "value": 7439277
     }
    },
    "beace656fac84c02bb1772ab1392937c": {
     "model_module": "@jupyter-widgets/controls",
     "model_module_version": "1.5.0",
     "model_name": "HBoxModel",
     "state": {
      "_dom_classes": [],
      "_model_module": "@jupyter-widgets/controls",
      "_model_module_version": "1.5.0",
      "_model_name": "HBoxModel",
      "_view_count": null,
      "_view_module": "@jupyter-widgets/controls",
      "_view_module_version": "1.5.0",
      "_view_name": "HBoxView",
      "box_style": "",
      "children": [
       "IPY_MODEL_4c042d9ebe0b4793b88cf793f47e48ef",
       "IPY_MODEL_bcc89137e9eb4b1d97ce8347f242c9ce",
       "IPY_MODEL_65ae61c4d3b643429b6992a16747a3b1"
      ],
      "layout": "IPY_MODEL_b435bc71dc924568a581a0b0749ab095"
     }
    },
    "c0add23963ba477ba76570a00b0c892f": {
     "model_module": "@jupyter-widgets/controls",
     "model_module_version": "1.5.0",
     "model_name": "HTMLModel",
     "state": {
      "_dom_classes": [],
      "_model_module": "@jupyter-widgets/controls",
      "_model_module_version": "1.5.0",
      "_model_name": "HTMLModel",
      "_view_count": null,
      "_view_module": "@jupyter-widgets/controls",
      "_view_module_version": "1.5.0",
      "_view_name": "HTMLView",
      "description": "",
      "description_tooltip": null,
      "layout": "IPY_MODEL_53fb9110d6b04f149b9838d8443da37f",
      "placeholder": "​",
      "style": "IPY_MODEL_330d292ce02b424fb9bdbd30f2106fa3",
      "value": "Downloading readme: 100%"
     }
    },
    "c2deca943d354a1c86780dbbc3a2c3ee": {
     "model_module": "@jupyter-widgets/controls",
     "model_module_version": "1.5.0",
     "model_name": "HTMLModel",
     "state": {
      "_dom_classes": [],
      "_model_module": "@jupyter-widgets/controls",
      "_model_module_version": "1.5.0",
      "_model_name": "HTMLModel",
      "_view_count": null,
      "_view_module": "@jupyter-widgets/controls",
      "_view_module_version": "1.5.0",
      "_view_name": "HTMLView",
      "description": "",
      "description_tooltip": null,
      "layout": "IPY_MODEL_f24ad79777c84d02858fdabcc5636df7",
      "placeholder": "​",
      "style": "IPY_MODEL_fe7f6f3a6868459e8cf1c8253f74cbe8",
      "value": " 0/1821 [00:00&lt;?, ? examples/s]"
     }
    },
    "c2e7667ad2b945f0b4a3dadbcd9cdd01": {
     "model_module": "@jupyter-widgets/base",
     "model_module_version": "1.2.0",
     "model_name": "LayoutModel",
     "state": {
      "_model_module": "@jupyter-widgets/base",
      "_model_module_version": "1.2.0",
      "_model_name": "LayoutModel",
      "_view_count": null,
      "_view_module": "@jupyter-widgets/base",
      "_view_module_version": "1.2.0",
      "_view_name": "LayoutView",
      "align_content": null,
      "align_items": null,
      "align_self": null,
      "border": null,
      "bottom": null,
      "display": null,
      "flex": null,
      "flex_flow": null,
      "grid_area": null,
      "grid_auto_columns": null,
      "grid_auto_flow": null,
      "grid_auto_rows": null,
      "grid_column": null,
      "grid_gap": null,
      "grid_row": null,
      "grid_template_areas": null,
      "grid_template_columns": null,
      "grid_template_rows": null,
      "height": null,
      "justify_content": null,
      "justify_items": null,
      "left": null,
      "margin": null,
      "max_height": null,
      "max_width": null,
      "min_height": null,
      "min_width": null,
      "object_fit": null,
      "object_position": null,
      "order": null,
      "overflow": null,
      "overflow_x": null,
      "overflow_y": null,
      "padding": null,
      "right": null,
      "top": null,
      "visibility": null,
      "width": null
     }
    },
    "c3889b4e01604079b8a131ad12aa71c9": {
     "model_module": "@jupyter-widgets/controls",
     "model_module_version": "1.5.0",
     "model_name": "HTMLModel",
     "state": {
      "_dom_classes": [],
      "_model_module": "@jupyter-widgets/controls",
      "_model_module_version": "1.5.0",
      "_model_name": "HTMLModel",
      "_view_count": null,
      "_view_module": "@jupyter-widgets/controls",
      "_view_module_version": "1.5.0",
      "_view_name": "HTMLView",
      "description": "",
      "description_tooltip": null,
      "layout": "IPY_MODEL_26377968ffa54dc88b768b3ed5478f82",
      "placeholder": "​",
      "style": "IPY_MODEL_af97e3af4d7b43978a9ec1026aefbf27",
      "value": " 1.85k/1.85k [00:00&lt;00:00, 125kB/s]"
     }
    },
    "c48c50df40d6446d8cac3f49504b11fb": {
     "model_module": "@jupyter-widgets/base",
     "model_module_version": "1.2.0",
     "model_name": "LayoutModel",
     "state": {
      "_model_module": "@jupyter-widgets/base",
      "_model_module_version": "1.2.0",
      "_model_name": "LayoutModel",
      "_view_count": null,
      "_view_module": "@jupyter-widgets/base",
      "_view_module_version": "1.2.0",
      "_view_name": "LayoutView",
      "align_content": null,
      "align_items": null,
      "align_self": null,
      "border": null,
      "bottom": null,
      "display": null,
      "flex": null,
      "flex_flow": null,
      "grid_area": null,
      "grid_auto_columns": null,
      "grid_auto_flow": null,
      "grid_auto_rows": null,
      "grid_column": null,
      "grid_gap": null,
      "grid_row": null,
      "grid_template_areas": null,
      "grid_template_columns": null,
      "grid_template_rows": null,
      "height": null,
      "justify_content": null,
      "justify_items": null,
      "left": null,
      "margin": null,
      "max_height": null,
      "max_width": null,
      "min_height": null,
      "min_width": null,
      "object_fit": null,
      "object_position": null,
      "order": null,
      "overflow": null,
      "overflow_x": null,
      "overflow_y": null,
      "padding": null,
      "right": null,
      "top": null,
      "visibility": null,
      "width": null
     }
    },
    "c50380450f9045c6abde0f92920e7aba": {
     "model_module": "@jupyter-widgets/base",
     "model_module_version": "1.2.0",
     "model_name": "LayoutModel",
     "state": {
      "_model_module": "@jupyter-widgets/base",
      "_model_module_version": "1.2.0",
      "_model_name": "LayoutModel",
      "_view_count": null,
      "_view_module": "@jupyter-widgets/base",
      "_view_module_version": "1.2.0",
      "_view_name": "LayoutView",
      "align_content": null,
      "align_items": null,
      "align_self": null,
      "border": null,
      "bottom": null,
      "display": null,
      "flex": null,
      "flex_flow": null,
      "grid_area": null,
      "grid_auto_columns": null,
      "grid_auto_flow": null,
      "grid_auto_rows": null,
      "grid_column": null,
      "grid_gap": null,
      "grid_row": null,
      "grid_template_areas": null,
      "grid_template_columns": null,
      "grid_template_rows": null,
      "height": null,
      "justify_content": null,
      "justify_items": null,
      "left": null,
      "margin": null,
      "max_height": null,
      "max_width": null,
      "min_height": null,
      "min_width": null,
      "object_fit": null,
      "object_position": null,
      "order": null,
      "overflow": null,
      "overflow_x": null,
      "overflow_y": null,
      "padding": null,
      "right": null,
      "top": null,
      "visibility": null,
      "width": null
     }
    },
    "c534c3affca843e281521d6fac39bc0f": {
     "model_module": "@jupyter-widgets/base",
     "model_module_version": "1.2.0",
     "model_name": "LayoutModel",
     "state": {
      "_model_module": "@jupyter-widgets/base",
      "_model_module_version": "1.2.0",
      "_model_name": "LayoutModel",
      "_view_count": null,
      "_view_module": "@jupyter-widgets/base",
      "_view_module_version": "1.2.0",
      "_view_name": "LayoutView",
      "align_content": null,
      "align_items": null,
      "align_self": null,
      "border": null,
      "bottom": null,
      "display": null,
      "flex": null,
      "flex_flow": null,
      "grid_area": null,
      "grid_auto_columns": null,
      "grid_auto_flow": null,
      "grid_auto_rows": null,
      "grid_column": null,
      "grid_gap": null,
      "grid_row": null,
      "grid_template_areas": null,
      "grid_template_columns": null,
      "grid_template_rows": null,
      "height": null,
      "justify_content": null,
      "justify_items": null,
      "left": null,
      "margin": null,
      "max_height": null,
      "max_width": null,
      "min_height": null,
      "min_width": null,
      "object_fit": null,
      "object_position": null,
      "order": null,
      "overflow": null,
      "overflow_x": null,
      "overflow_y": null,
      "padding": null,
      "right": null,
      "top": null,
      "visibility": null,
      "width": null
     }
    },
    "c74031fa9de3493ebea8aec05b3f8136": {
     "model_module": "@jupyter-widgets/base",
     "model_module_version": "1.2.0",
     "model_name": "LayoutModel",
     "state": {
      "_model_module": "@jupyter-widgets/base",
      "_model_module_version": "1.2.0",
      "_model_name": "LayoutModel",
      "_view_count": null,
      "_view_module": "@jupyter-widgets/base",
      "_view_module_version": "1.2.0",
      "_view_name": "LayoutView",
      "align_content": null,
      "align_items": null,
      "align_self": null,
      "border": null,
      "bottom": null,
      "display": null,
      "flex": null,
      "flex_flow": null,
      "grid_area": null,
      "grid_auto_columns": null,
      "grid_auto_flow": null,
      "grid_auto_rows": null,
      "grid_column": null,
      "grid_gap": null,
      "grid_row": null,
      "grid_template_areas": null,
      "grid_template_columns": null,
      "grid_template_rows": null,
      "height": null,
      "justify_content": null,
      "justify_items": null,
      "left": null,
      "margin": null,
      "max_height": null,
      "max_width": null,
      "min_height": null,
      "min_width": null,
      "object_fit": null,
      "object_position": null,
      "order": null,
      "overflow": null,
      "overflow_x": null,
      "overflow_y": null,
      "padding": null,
      "right": null,
      "top": null,
      "visibility": null,
      "width": null
     }
    },
    "cbb51320d03d45b19efae27644ef2794": {
     "model_module": "@jupyter-widgets/controls",
     "model_module_version": "1.5.0",
     "model_name": "DescriptionStyleModel",
     "state": {
      "_model_module": "@jupyter-widgets/controls",
      "_model_module_version": "1.5.0",
      "_model_name": "DescriptionStyleModel",
      "_view_count": null,
      "_view_module": "@jupyter-widgets/base",
      "_view_module_version": "1.2.0",
      "_view_name": "StyleView",
      "description_width": ""
     }
    },
    "cc623169bd9245dc9e79ab00e4d521c8": {
     "model_module": "@jupyter-widgets/base",
     "model_module_version": "1.2.0",
     "model_name": "LayoutModel",
     "state": {
      "_model_module": "@jupyter-widgets/base",
      "_model_module_version": "1.2.0",
      "_model_name": "LayoutModel",
      "_view_count": null,
      "_view_module": "@jupyter-widgets/base",
      "_view_module_version": "1.2.0",
      "_view_name": "LayoutView",
      "align_content": null,
      "align_items": null,
      "align_self": null,
      "border": null,
      "bottom": null,
      "display": null,
      "flex": null,
      "flex_flow": null,
      "grid_area": null,
      "grid_auto_columns": null,
      "grid_auto_flow": null,
      "grid_auto_rows": null,
      "grid_column": null,
      "grid_gap": null,
      "grid_row": null,
      "grid_template_areas": null,
      "grid_template_columns": null,
      "grid_template_rows": null,
      "height": null,
      "justify_content": null,
      "justify_items": null,
      "left": null,
      "margin": null,
      "max_height": null,
      "max_width": null,
      "min_height": null,
      "min_width": null,
      "object_fit": null,
      "object_position": null,
      "order": null,
      "overflow": null,
      "overflow_x": null,
      "overflow_y": null,
      "padding": null,
      "right": null,
      "top": null,
      "visibility": "hidden",
      "width": null
     }
    },
    "d1efa0f96b724a67ad5e5223b332f9de": {
     "model_module": "@jupyter-widgets/base",
     "model_module_version": "1.2.0",
     "model_name": "LayoutModel",
     "state": {
      "_model_module": "@jupyter-widgets/base",
      "_model_module_version": "1.2.0",
      "_model_name": "LayoutModel",
      "_view_count": null,
      "_view_module": "@jupyter-widgets/base",
      "_view_module_version": "1.2.0",
      "_view_name": "LayoutView",
      "align_content": null,
      "align_items": null,
      "align_self": null,
      "border": null,
      "bottom": null,
      "display": null,
      "flex": null,
      "flex_flow": null,
      "grid_area": null,
      "grid_auto_columns": null,
      "grid_auto_flow": null,
      "grid_auto_rows": null,
      "grid_column": null,
      "grid_gap": null,
      "grid_row": null,
      "grid_template_areas": null,
      "grid_template_columns": null,
      "grid_template_rows": null,
      "height": null,
      "justify_content": null,
      "justify_items": null,
      "left": null,
      "margin": null,
      "max_height": null,
      "max_width": null,
      "min_height": null,
      "min_width": null,
      "object_fit": null,
      "object_position": null,
      "order": null,
      "overflow": null,
      "overflow_x": null,
      "overflow_y": null,
      "padding": null,
      "right": null,
      "top": null,
      "visibility": null,
      "width": null
     }
    },
    "d205197f873a4a15ae906c75e10a60e3": {
     "model_module": "@jupyter-widgets/controls",
     "model_module_version": "1.5.0",
     "model_name": "HBoxModel",
     "state": {
      "_dom_classes": [],
      "_model_module": "@jupyter-widgets/controls",
      "_model_module_version": "1.5.0",
      "_model_name": "HBoxModel",
      "_view_count": null,
      "_view_module": "@jupyter-widgets/controls",
      "_view_module_version": "1.5.0",
      "_view_name": "HBoxView",
      "box_style": "",
      "children": [
       "IPY_MODEL_f331c99c377946529ffe3d24f1ef6d33",
       "IPY_MODEL_142a60ee02464f7bbab9bbefcb20c81b",
       "IPY_MODEL_f73bc0ad7b3247e1989272c6a95a2b44"
      ],
      "layout": "IPY_MODEL_e0a09098d5c5415fbf4739bf56054a44"
     }
    },
    "d7ecad5ad5694612ac8b4a971a39d379": {
     "model_module": "@jupyter-widgets/base",
     "model_module_version": "1.2.0",
     "model_name": "LayoutModel",
     "state": {
      "_model_module": "@jupyter-widgets/base",
      "_model_module_version": "1.2.0",
      "_model_name": "LayoutModel",
      "_view_count": null,
      "_view_module": "@jupyter-widgets/base",
      "_view_module_version": "1.2.0",
      "_view_name": "LayoutView",
      "align_content": null,
      "align_items": null,
      "align_self": null,
      "border": null,
      "bottom": null,
      "display": null,
      "flex": null,
      "flex_flow": null,
      "grid_area": null,
      "grid_auto_columns": null,
      "grid_auto_flow": null,
      "grid_auto_rows": null,
      "grid_column": null,
      "grid_gap": null,
      "grid_row": null,
      "grid_template_areas": null,
      "grid_template_columns": null,
      "grid_template_rows": null,
      "height": null,
      "justify_content": null,
      "justify_items": null,
      "left": null,
      "margin": null,
      "max_height": null,
      "max_width": null,
      "min_height": null,
      "min_width": null,
      "object_fit": null,
      "object_position": null,
      "order": null,
      "overflow": null,
      "overflow_x": null,
      "overflow_y": null,
      "padding": null,
      "right": null,
      "top": null,
      "visibility": null,
      "width": null
     }
    },
    "db106230326c45108fd7fff6879b40d3": {
     "model_module": "@jupyter-widgets/controls",
     "model_module_version": "1.5.0",
     "model_name": "ProgressStyleModel",
     "state": {
      "_model_module": "@jupyter-widgets/controls",
      "_model_module_version": "1.5.0",
      "_model_name": "ProgressStyleModel",
      "_view_count": null,
      "_view_module": "@jupyter-widgets/base",
      "_view_module_version": "1.2.0",
      "_view_name": "StyleView",
      "bar_color": null,
      "description_width": ""
     }
    },
    "ddc061c13f55447d92c60205c7d6a022": {
     "model_module": "@jupyter-widgets/controls",
     "model_module_version": "1.5.0",
     "model_name": "HTMLModel",
     "state": {
      "_dom_classes": [],
      "_model_module": "@jupyter-widgets/controls",
      "_model_module_version": "1.5.0",
      "_model_name": "HTMLModel",
      "_view_count": null,
      "_view_module": "@jupyter-widgets/controls",
      "_view_module_version": "1.5.0",
      "_view_name": "HTMLView",
      "description": "",
      "description_tooltip": null,
      "layout": "IPY_MODEL_9f7c0b4ffc224f439985fd909e1fc434",
      "placeholder": "​",
      "style": "IPY_MODEL_18971f32b81548a2ac82ac3cb8249978",
      "value": "Downloading builder script: 100%"
     }
    },
    "df7d65f18a4e46498bd831a47f376a65": {
     "model_module": "@jupyter-widgets/controls",
     "model_module_version": "1.5.0",
     "model_name": "HTMLModel",
     "state": {
      "_dom_classes": [],
      "_model_module": "@jupyter-widgets/controls",
      "_model_module_version": "1.5.0",
      "_model_name": "HTMLModel",
      "_view_count": null,
      "_view_module": "@jupyter-widgets/controls",
      "_view_module_version": "1.5.0",
      "_view_name": "HTMLView",
      "description": "",
      "description_tooltip": null,
      "layout": "IPY_MODEL_d7ecad5ad5694612ac8b4a971a39d379",
      "placeholder": "​",
      "style": "IPY_MODEL_45e474caac6f4d66980a513bfe0569ee",
      "value": "Downloading metadata: 100%"
     }
    },
    "e0a09098d5c5415fbf4739bf56054a44": {
     "model_module": "@jupyter-widgets/base",
     "model_module_version": "1.2.0",
     "model_name": "LayoutModel",
     "state": {
      "_model_module": "@jupyter-widgets/base",
      "_model_module_version": "1.2.0",
      "_model_name": "LayoutModel",
      "_view_count": null,
      "_view_module": "@jupyter-widgets/base",
      "_view_module_version": "1.2.0",
      "_view_name": "LayoutView",
      "align_content": null,
      "align_items": null,
      "align_self": null,
      "border": null,
      "bottom": null,
      "display": null,
      "flex": null,
      "flex_flow": null,
      "grid_area": null,
      "grid_auto_columns": null,
      "grid_auto_flow": null,
      "grid_auto_rows": null,
      "grid_column": null,
      "grid_gap": null,
      "grid_row": null,
      "grid_template_areas": null,
      "grid_template_columns": null,
      "grid_template_rows": null,
      "height": null,
      "justify_content": null,
      "justify_items": null,
      "left": null,
      "margin": null,
      "max_height": null,
      "max_width": null,
      "min_height": null,
      "min_width": null,
      "object_fit": null,
      "object_position": null,
      "order": null,
      "overflow": null,
      "overflow_x": null,
      "overflow_y": null,
      "padding": null,
      "right": null,
      "top": null,
      "visibility": "hidden",
      "width": null
     }
    },
    "e10b636edf304427ab10069dd5608fe0": {
     "model_module": "@jupyter-widgets/controls",
     "model_module_version": "1.5.0",
     "model_name": "DescriptionStyleModel",
     "state": {
      "_model_module": "@jupyter-widgets/controls",
      "_model_module_version": "1.5.0",
      "_model_name": "DescriptionStyleModel",
      "_view_count": null,
      "_view_module": "@jupyter-widgets/base",
      "_view_module_version": "1.2.0",
      "_view_name": "StyleView",
      "description_width": ""
     }
    },
    "e4fa211b1e4f46eda3ff58635b558dad": {
     "model_module": "@jupyter-widgets/controls",
     "model_module_version": "1.5.0",
     "model_name": "DescriptionStyleModel",
     "state": {
      "_model_module": "@jupyter-widgets/controls",
      "_model_module_version": "1.5.0",
      "_model_name": "DescriptionStyleModel",
      "_view_count": null,
      "_view_module": "@jupyter-widgets/base",
      "_view_module_version": "1.2.0",
      "_view_name": "StyleView",
      "description_width": ""
     }
    },
    "eda2469754804a629c86916e87b79415": {
     "model_module": "@jupyter-widgets/controls",
     "model_module_version": "1.5.0",
     "model_name": "FloatProgressModel",
     "state": {
      "_dom_classes": [],
      "_model_module": "@jupyter-widgets/controls",
      "_model_module_version": "1.5.0",
      "_model_name": "FloatProgressModel",
      "_view_count": null,
      "_view_module": "@jupyter-widgets/controls",
      "_view_module_version": "1.5.0",
      "_view_name": "ProgressView",
      "bar_style": "",
      "description": "",
      "description_tooltip": null,
      "layout": "IPY_MODEL_c2e7667ad2b945f0b4a3dadbcd9cdd01",
      "max": 67349,
      "min": 0,
      "orientation": "horizontal",
      "style": "IPY_MODEL_efa9dd05e30642639327c9f4fe3226c0",
      "value": 67349
     }
    },
    "efa9dd05e30642639327c9f4fe3226c0": {
     "model_module": "@jupyter-widgets/controls",
     "model_module_version": "1.5.0",
     "model_name": "ProgressStyleModel",
     "state": {
      "_model_module": "@jupyter-widgets/controls",
      "_model_module_version": "1.5.0",
      "_model_name": "ProgressStyleModel",
      "_view_count": null,
      "_view_module": "@jupyter-widgets/base",
      "_view_module_version": "1.2.0",
      "_view_name": "StyleView",
      "bar_color": null,
      "description_width": ""
     }
    },
    "eff82525c7f14f12ad8702b9b77f0afe": {
     "model_module": "@jupyter-widgets/controls",
     "model_module_version": "1.5.0",
     "model_name": "FloatProgressModel",
     "state": {
      "_dom_classes": [],
      "_model_module": "@jupyter-widgets/controls",
      "_model_module_version": "1.5.0",
      "_model_name": "FloatProgressModel",
      "_view_count": null,
      "_view_module": "@jupyter-widgets/controls",
      "_view_module_version": "1.5.0",
      "_view_name": "ProgressView",
      "bar_style": "success",
      "description": "",
      "description_tooltip": null,
      "layout": "IPY_MODEL_c48c50df40d6446d8cac3f49504b11fb",
      "max": 3770,
      "min": 0,
      "orientation": "horizontal",
      "style": "IPY_MODEL_65175dd24553437e880b6129a1b4a3fa",
      "value": 3770
     }
    },
    "f1bb9e2b1941419bac8eb23245d92931": {
     "model_module": "@jupyter-widgets/base",
     "model_module_version": "1.2.0",
     "model_name": "LayoutModel",
     "state": {
      "_model_module": "@jupyter-widgets/base",
      "_model_module_version": "1.2.0",
      "_model_name": "LayoutModel",
      "_view_count": null,
      "_view_module": "@jupyter-widgets/base",
      "_view_module_version": "1.2.0",
      "_view_name": "LayoutView",
      "align_content": null,
      "align_items": null,
      "align_self": null,
      "border": null,
      "bottom": null,
      "display": null,
      "flex": null,
      "flex_flow": null,
      "grid_area": null,
      "grid_auto_columns": null,
      "grid_auto_flow": null,
      "grid_auto_rows": null,
      "grid_column": null,
      "grid_gap": null,
      "grid_row": null,
      "grid_template_areas": null,
      "grid_template_columns": null,
      "grid_template_rows": null,
      "height": null,
      "justify_content": null,
      "justify_items": null,
      "left": null,
      "margin": null,
      "max_height": null,
      "max_width": null,
      "min_height": null,
      "min_width": null,
      "object_fit": null,
      "object_position": null,
      "order": null,
      "overflow": null,
      "overflow_x": null,
      "overflow_y": null,
      "padding": null,
      "right": null,
      "top": null,
      "visibility": null,
      "width": null
     }
    },
    "f24ad79777c84d02858fdabcc5636df7": {
     "model_module": "@jupyter-widgets/base",
     "model_module_version": "1.2.0",
     "model_name": "LayoutModel",
     "state": {
      "_model_module": "@jupyter-widgets/base",
      "_model_module_version": "1.2.0",
      "_model_name": "LayoutModel",
      "_view_count": null,
      "_view_module": "@jupyter-widgets/base",
      "_view_module_version": "1.2.0",
      "_view_name": "LayoutView",
      "align_content": null,
      "align_items": null,
      "align_self": null,
      "border": null,
      "bottom": null,
      "display": null,
      "flex": null,
      "flex_flow": null,
      "grid_area": null,
      "grid_auto_columns": null,
      "grid_auto_flow": null,
      "grid_auto_rows": null,
      "grid_column": null,
      "grid_gap": null,
      "grid_row": null,
      "grid_template_areas": null,
      "grid_template_columns": null,
      "grid_template_rows": null,
      "height": null,
      "justify_content": null,
      "justify_items": null,
      "left": null,
      "margin": null,
      "max_height": null,
      "max_width": null,
      "min_height": null,
      "min_width": null,
      "object_fit": null,
      "object_position": null,
      "order": null,
      "overflow": null,
      "overflow_x": null,
      "overflow_y": null,
      "padding": null,
      "right": null,
      "top": null,
      "visibility": null,
      "width": null
     }
    },
    "f331c99c377946529ffe3d24f1ef6d33": {
     "model_module": "@jupyter-widgets/controls",
     "model_module_version": "1.5.0",
     "model_name": "HTMLModel",
     "state": {
      "_dom_classes": [],
      "_model_module": "@jupyter-widgets/controls",
      "_model_module_version": "1.5.0",
      "_model_name": "HTMLModel",
      "_view_count": null,
      "_view_module": "@jupyter-widgets/controls",
      "_view_module_version": "1.5.0",
      "_view_name": "HTMLView",
      "description": "",
      "description_tooltip": null,
      "layout": "IPY_MODEL_0d26b9e268404dbf9004ed59933ea52d",
      "placeholder": "​",
      "style": "IPY_MODEL_098e517dbc444f6d805f9e2cca213a0a",
      "value": "Generating validation split:   0%"
     }
    },
    "f6afbfec315d494eb6030de507612ca7": {
     "model_module": "@jupyter-widgets/controls",
     "model_module_version": "1.5.0",
     "model_name": "DescriptionStyleModel",
     "state": {
      "_model_module": "@jupyter-widgets/controls",
      "_model_module_version": "1.5.0",
      "_model_name": "DescriptionStyleModel",
      "_view_count": null,
      "_view_module": "@jupyter-widgets/base",
      "_view_module_version": "1.2.0",
      "_view_name": "StyleView",
      "description_width": ""
     }
    },
    "f73bc0ad7b3247e1989272c6a95a2b44": {
     "model_module": "@jupyter-widgets/controls",
     "model_module_version": "1.5.0",
     "model_name": "HTMLModel",
     "state": {
      "_dom_classes": [],
      "_model_module": "@jupyter-widgets/controls",
      "_model_module_version": "1.5.0",
      "_model_name": "HTMLModel",
      "_view_count": null,
      "_view_module": "@jupyter-widgets/controls",
      "_view_module_version": "1.5.0",
      "_view_name": "HTMLView",
      "description": "",
      "description_tooltip": null,
      "layout": "IPY_MODEL_d1efa0f96b724a67ad5e5223b332f9de",
      "placeholder": "​",
      "style": "IPY_MODEL_f6afbfec315d494eb6030de507612ca7",
      "value": " 0/872 [00:00&lt;?, ? examples/s]"
     }
    },
    "f778bc870d664f239c4b51592ab29d17": {
     "model_module": "@jupyter-widgets/controls",
     "model_module_version": "1.5.0",
     "model_name": "HBoxModel",
     "state": {
      "_dom_classes": [],
      "_model_module": "@jupyter-widgets/controls",
      "_model_module_version": "1.5.0",
      "_model_name": "HBoxModel",
      "_view_count": null,
      "_view_module": "@jupyter-widgets/controls",
      "_view_module_version": "1.5.0",
      "_view_name": "HBoxView",
      "box_style": "",
      "children": [
       "IPY_MODEL_ddc061c13f55447d92c60205c7d6a022",
       "IPY_MODEL_eff82525c7f14f12ad8702b9b77f0afe",
       "IPY_MODEL_9eaff82b781747de89afd5b52e5336ed"
      ],
      "layout": "IPY_MODEL_c50380450f9045c6abde0f92920e7aba"
     }
    },
    "f7893f8ee0ba4782bee45f95ee50d919": {
     "model_module": "@jupyter-widgets/base",
     "model_module_version": "1.2.0",
     "model_name": "LayoutModel",
     "state": {
      "_model_module": "@jupyter-widgets/base",
      "_model_module_version": "1.2.0",
      "_model_name": "LayoutModel",
      "_view_count": null,
      "_view_module": "@jupyter-widgets/base",
      "_view_module_version": "1.2.0",
      "_view_name": "LayoutView",
      "align_content": null,
      "align_items": null,
      "align_self": null,
      "border": null,
      "bottom": null,
      "display": null,
      "flex": null,
      "flex_flow": null,
      "grid_area": null,
      "grid_auto_columns": null,
      "grid_auto_flow": null,
      "grid_auto_rows": null,
      "grid_column": null,
      "grid_gap": null,
      "grid_row": null,
      "grid_template_areas": null,
      "grid_template_columns": null,
      "grid_template_rows": null,
      "height": null,
      "justify_content": null,
      "justify_items": null,
      "left": null,
      "margin": null,
      "max_height": null,
      "max_width": null,
      "min_height": null,
      "min_width": null,
      "object_fit": null,
      "object_position": null,
      "order": null,
      "overflow": null,
      "overflow_x": null,
      "overflow_y": null,
      "padding": null,
      "right": null,
      "top": null,
      "visibility": "hidden",
      "width": null
     }
    },
    "fe7f6f3a6868459e8cf1c8253f74cbe8": {
     "model_module": "@jupyter-widgets/controls",
     "model_module_version": "1.5.0",
     "model_name": "DescriptionStyleModel",
     "state": {
      "_model_module": "@jupyter-widgets/controls",
      "_model_module_version": "1.5.0",
      "_model_name": "DescriptionStyleModel",
      "_view_count": null,
      "_view_module": "@jupyter-widgets/base",
      "_view_module_version": "1.2.0",
      "_view_name": "StyleView",
      "description_width": ""
     }
    }
   }
  }
 },
 "nbformat": 4,
 "nbformat_minor": 1
}
